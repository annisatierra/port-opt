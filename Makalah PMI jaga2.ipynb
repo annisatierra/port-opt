{
 "cells": [
  {
   "cell_type": "code",
   "execution_count": 40,
   "metadata": {},
   "outputs": [],
   "source": [
    "import yfinance as yf\n",
    "import pandas as pd\n",
    "import time\n",
    "import warnings\n",
    "from itertools import cycle, islice\n",
    "\n",
    "import matplotlib.pyplot as plt\n",
    "import seaborn as sns\n",
    "import numpy as np\n",
    "\n",
    "from sklearn import cluster, datasets, mixture\n",
    "from sklearn.neighbors import kneighbors_graph\n",
    "from sklearn.preprocessing import StandardScaler\n",
    "from sklearn.metrics import silhouette_score, davies_bouldin_score, calinski_harabasz_score\n",
    "from sklearn.cluster import KMeans\n",
    "from sklearn.metrics import silhouette_score\n",
    "\n",
    "warnings.filterwarnings(\"ignore\")\n"
   ]
  },
  {
   "cell_type": "code",
   "execution_count": 49,
   "metadata": {},
   "outputs": [
    {
     "data": {
      "text/html": [
       "        <script type=\"text/javascript\">\n",
       "        window.PlotlyConfig = {MathJaxConfig: 'local'};\n",
       "        if (window.MathJax && window.MathJax.Hub && window.MathJax.Hub.Config) {window.MathJax.Hub.Config({SVG: {font: \"STIX-Web\"}});}\n",
       "        if (typeof require !== 'undefined') {\n",
       "        require.undef(\"plotly\");\n",
       "        requirejs.config({\n",
       "            paths: {\n",
       "                'plotly': ['https://cdn.plot.ly/plotly-2.30.0.min']\n",
       "            }\n",
       "        });\n",
       "        require(['plotly'], function(Plotly) {\n",
       "            window._Plotly = Plotly;\n",
       "        });\n",
       "        }\n",
       "        </script>\n",
       "        "
      ]
     },
     "metadata": {},
     "output_type": "display_data"
    }
   ],
   "source": [
    "import pandas as pd\n",
    "import numpy as np\n",
    "import matplotlib.pyplot as plt\n",
    "import matplotlib.dates as mdates\n",
    "import unicodedata\n",
    "from datetime import datetime, time, timedelta\n",
    "import seaborn as sns\n",
    "from sklearn.preprocessing import StandardScaler, MinMaxScaler\n",
    "from kmodes.kprototypes import KPrototypes\n",
    "from sklearn.metrics import silhouette_score, calinski_harabasz_score, davies_bouldin_score\n",
    "from sklearn.cluster import AgglomerativeClustering\n",
    "from sklearn.mixture import GaussianMixture\n",
    "from scipy.cluster.hierarchy import dendrogram, linkage\n",
    "from sklearn.decomposition import PCA\n",
    "\n",
    "from plotly.offline import init_notebook_mode, iplot\n",
    "init_notebook_mode(connected=True)\n",
    "import plotly.graph_objs as go\n",
    "import plotly.express as px"
   ]
  },
  {
   "cell_type": "code",
   "execution_count": null,
   "metadata": {},
   "outputs": [],
   "source": [
    "# ==== BACA DATA ====\n",
    "# List of stock tickers (Indonesian example)\n",
    "# stocks = [\"BBRI.JK\", \"BMRI.JK\", \"TLKM.JK\"]\n",
    "lq45_stocks = [\n",
    "    \"ACES.JK\", \"ADMR.JK\", \"ADRO.JK\", \"AKRA.JK\", \"AMMN.JK\", \"AMRT.JK\", \"ANTM.JK\", \"ARTO.JK\", \n",
    "    \"ASII.JK\", \"BBCA.JK\", \"BBNI.JK\", \"BBRI.JK\", \"BBTN.JK\", \"BMRI.JK\", \"BRIS.JK\", \"BRPT.JK\", \n",
    "    \"BUKA.JK\", \"CPIN.JK\", \"ESSA.JK\", \"EXCL.JK\", \"GOTO.JK\", \"ICBP.JK\", \"INCO.JK\", \"INDF.JK\", \n",
    "    \"INKP.JK\", \"INTP.JK\", \"ISAT.JK\", \"ITMG.JK\", \"JSMR.JK\", \"KLBF.JK\", \"MAPI.JK\", \"MBMA.JK\", \n",
    "    \"MDKA.JK\", \"MEDC.JK\", \"MTEL.JK\", \"PGAS.JK\", \"PGEO.JK\", \"PTBA.JK\", \"SIDO.JK\", \"SMGR.JK\", \n",
    "    \"SMRA.JK\", \"TLKM.JK\", \"TOWR.JK\", \"UNTR.JK\", \"UNVR.JK\"\n",
    "]\n",
    "\n",
    "\n",
    "def get_stock_data(stock):\n",
    "    \"\"\"Fetch financial metrics, historical returns, and all closing prices with timestamps for a stock.\"\"\"\n",
    "    try:\n",
    "        # Initialize ticker object\n",
    "        stock_data = yf.Ticker(stock)\n",
    "\n",
    "        # Fetch financials (ROA and ROE calculation)\n",
    "        income_statement = stock_data.financials\n",
    "        balance_sheet = stock_data.balance_sheet\n",
    "\n",
    "        # Extract Net Income, Total Assets, and Shareholder's Equity\n",
    "        net_income = income_statement.loc[\"Net Income\"].iloc[0] if \"Net Income\" in income_statement.index else None\n",
    "        total_assets = balance_sheet.loc[\"Total Assets\"].iloc[0] if \"Total Assets\" in balance_sheet.index else None\n",
    "        shareholders_equity = balance_sheet.loc['Stockholders Equity'].iloc[0] if 'Stockholders Equity' in balance_sheet.index else None\n",
    "\n",
    "        roa = net_income / total_assets if total_assets else None\n",
    "        roe = net_income / shareholders_equity if shareholders_equity else None\n",
    "\n",
    "        # Fetch market capitalization\n",
    "        market_cap = stock_data.info.get(\"marketCap\", None)\n",
    "\n",
    "        # Fetch historical data for returns calculation and closing prices\n",
    "        hist_data = stock_data.history(period=\"1y\")  # Last 1 year of data\n",
    "        hist_data[\"Daily Return\"] = hist_data[\"Close\"].pct_change()\n",
    "\n",
    "        mean_return = hist_data[\"Daily Return\"].mean() if not hist_data[\"Daily Return\"].isnull().all() else None\n",
    "        variance_return = hist_data[\"Daily Return\"].var() if not hist_data[\"Daily Return\"].isnull().all() else None\n",
    "\n",
    "        # Get all closing prices with timestamps\n",
    "        closing_prices_with_timestamps = hist_data[[\"Close\"]].reset_index()  # Reset index to include dates\n",
    "        # Convert the 'Date' to the desired format 'Y-m-d'\n",
    "        closing_prices_with_timestamps[\"Date\"] = closing_prices_with_timestamps[\"Date\"].dt.strftime('%Y-%m-%d')\n",
    "\n",
    "        closing_prices_with_timestamps = closing_prices_with_timestamps[[\"Date\", \"Close\"]].to_dict(orient='records')  # Convert to list of dicts\n",
    "\n",
    "        if stock =='MEDC.JK':\n",
    "            roa = 0.0510\n",
    "            roe = 0.2169\n",
    "        return {\n",
    "            \"Ticker\": stock,\n",
    "            \"ROA\": roa,\n",
    "            \"ROE\": roe,  # Updated to include ROA, but you may need to replace with correct ROE\n",
    "            \"Market Cap\": market_cap,\n",
    "            \"Mean Return\": mean_return,\n",
    "            \"Variance Return\": variance_return,\n",
    "            \"Closing Prices with Timestamps\": closing_prices_with_timestamps,\n",
    "        }\n",
    "    except Exception as e:\n",
    "        print(f\"Error fetching data for {stock}: {e}\")\n",
    "        return {\n",
    "            \"Ticker\": stock,\n",
    "            \"ROA\": None,\n",
    "            \"ROE\": None,\n",
    "            \"Market Cap\": None,\n",
    "            \"Mean Return\": None,\n",
    "            \"Variance Return\": None,\n",
    "            \"Closing Prices with Timestamps\": None,\n",
    "        }\n",
    "\n",
    "# Loop through all tickers and collect data\n",
    "# results = [get_stock_data(stock) for stock in lq45_stocks]\n",
    "# df = pd.DataFrame(results)\n",
    "# df\n",
    "\n",
    "# Optionally, save to CSV for future use:\n",
    "# # df.to_csv(\"New_Data Saham dan Finansial LQ45.csv\", index = False)\n"
   ]
  },
  {
   "cell_type": "code",
   "execution_count": 39,
   "metadata": {},
   "outputs": [
    {
     "data": {
      "text/html": [
       "<div>\n",
       "<style scoped>\n",
       "    .dataframe tbody tr th:only-of-type {\n",
       "        vertical-align: middle;\n",
       "    }\n",
       "\n",
       "    .dataframe tbody tr th {\n",
       "        vertical-align: top;\n",
       "    }\n",
       "\n",
       "    .dataframe thead th {\n",
       "        text-align: right;\n",
       "    }\n",
       "</style>\n",
       "<table border=\"1\" class=\"dataframe\">\n",
       "  <thead>\n",
       "    <tr style=\"text-align: right;\">\n",
       "      <th></th>\n",
       "      <th>ROA</th>\n",
       "      <th>ROE</th>\n",
       "      <th>Market Cap</th>\n",
       "      <th>Mean Return</th>\n",
       "      <th>Variance Return</th>\n",
       "    </tr>\n",
       "    <tr>\n",
       "      <th>Ticker</th>\n",
       "      <th></th>\n",
       "      <th></th>\n",
       "      <th></th>\n",
       "      <th></th>\n",
       "      <th></th>\n",
       "    </tr>\n",
       "  </thead>\n",
       "  <tbody>\n",
       "    <tr>\n",
       "      <th>ACES.JK</th>\n",
       "      <td>0.098476</td>\n",
       "      <td>0.124282</td>\n",
       "      <td>13182707957760</td>\n",
       "      <td>0.000655</td>\n",
       "      <td>0.000534</td>\n",
       "    </tr>\n",
       "    <tr>\n",
       "      <th>ADMR.JK</th>\n",
       "      <td>0.260126</td>\n",
       "      <td>0.451713</td>\n",
       "      <td>53555809484800</td>\n",
       "      <td>0.000354</td>\n",
       "      <td>0.000646</td>\n",
       "    </tr>\n",
       "    <tr>\n",
       "      <th>ADRO.JK</th>\n",
       "      <td>0.156735</td>\n",
       "      <td>0.242362</td>\n",
       "      <td>71052591890432</td>\n",
       "      <td>0.002643</td>\n",
       "      <td>0.000822</td>\n",
       "    </tr>\n",
       "    <tr>\n",
       "      <th>AKRA.JK</th>\n",
       "      <td>0.091898</td>\n",
       "      <td>0.246865</td>\n",
       "      <td>25658361118720</td>\n",
       "      <td>0.000129</td>\n",
       "      <td>0.000345</td>\n",
       "    </tr>\n",
       "    <tr>\n",
       "      <th>AMMN.JK</th>\n",
       "      <td>0.027717</td>\n",
       "      <td>0.055417</td>\n",
       "      <td>683483982725120</td>\n",
       "      <td>0.001989</td>\n",
       "      <td>0.000777</td>\n",
       "    </tr>\n",
       "  </tbody>\n",
       "</table>\n",
       "</div>"
      ],
      "text/plain": [
       "              ROA       ROE       Market Cap  Mean Return  Variance Return\n",
       "Ticker                                                                    \n",
       "ACES.JK  0.098476  0.124282   13182707957760     0.000655         0.000534\n",
       "ADMR.JK  0.260126  0.451713   53555809484800     0.000354         0.000646\n",
       "ADRO.JK  0.156735  0.242362   71052591890432     0.002643         0.000822\n",
       "AKRA.JK  0.091898  0.246865   25658361118720     0.000129         0.000345\n",
       "AMMN.JK  0.027717  0.055417  683483982725120     0.001989         0.000777"
      ]
     },
     "execution_count": 39,
     "metadata": {},
     "output_type": "execute_result"
    }
   ],
   "source": [
    "data = pd.read_csv(\"New_Data Saham dan Finansial LQ45.csv\")\n",
    "data.set_index(\"Ticker\", inplace=True)\n",
    "data.drop(['Closing Prices with Timestamps'], axis = 1, inplace = True)\n",
    "data.head()"
   ]
  },
  {
   "cell_type": "code",
   "execution_count": 376,
   "metadata": {},
   "outputs": [],
   "source": [
    "scaler = StandardScaler()\n",
    "df_scaled1 = pd.DataFrame(scaler.fit_transform(data), columns = scaler.get_feature_names_out(), index = data.index)\n",
    "df_scaled = df_scaled1.drop(['Cluster', 'sharpe_ratio', 'ROA'], axis = 1)"
   ]
  },
  {
   "cell_type": "code",
   "execution_count": 377,
   "metadata": {},
   "outputs": [
    {
     "data": {
      "image/png": "[encoded data removed]",
      "text/plain": [
       "<Figure size 640x480 with 1 Axes>"
      ]
     },
     "metadata": {},
     "output_type": "display_data"
    }
   ],
   "source": [
    "wcss = []\n",
    "\n",
    "# Specify the range of cluster numbers to try\n",
    "num_clusters_range = range(2, 11)\n",
    "\n",
    "# Perform K-Means clustering for different numbers of clusters\n",
    "for num_clusters in num_clusters_range:\n",
    "    kmeans = KMeans(n_clusters=num_clusters, random_state=26)\n",
    "    kmeans.fit(df_scaled)\n",
    "    wcss.append(kmeans.inertia_)\n",
    "\n",
    "# Plot the WCSS values against the number of clusters\n",
    "plt.plot(num_clusters_range, wcss, marker='o')\n",
    "plt.xlabel('Number of Clusters')\n",
    "plt.ylabel('WCSS')\n",
    "plt.title('Elbow Method')\n",
    "plt.show()"
   ]
  },
  {
   "cell_type": "code",
   "execution_count": 378,
   "metadata": {},
   "outputs": [
    {
     "data": {
      "image/png": "[encoded data removed]",
      "text/plain": [
       "<Figure size 1000x600 with 1 Axes>"
      ]
     },
     "metadata": {},
     "output_type": "display_data"
    }
   ],
   "source": [
    "silhouette_scores = []\n",
    "cluster_range = range(2, 10)  # Ubah range ini sesuai kebutuhan Anda\n",
    "\n",
    "for n_clusters in cluster_range:\n",
    "    km_cluster = KMeans(n_clusters = n_clusters, random_state = 5)\n",
    "    cluster_labels = km_cluster.fit_predict(df_scaled)\n",
    "    silhouette_avg = silhouette_score(df_scaled, cluster_labels)\n",
    "    silhouette_scores.append(silhouette_avg)\n",
    "\n",
    "# 4. Plot Silhouette Score\n",
    "plt.figure(figsize=(10, 6))\n",
    "plt.plot(cluster_range, silhouette_scores, marker='o')\n",
    "plt.title('Silhouette Score for different numbers of clusters')\n",
    "plt.xlabel('Number of clusters')\n",
    "plt.ylabel('Silhouette Score')\n",
    "plt.xticks(cluster_range)\n",
    "plt.grid(True)\n",
    "plt.show()"
   ]
  },
  {
   "cell_type": "code",
   "execution_count": 241,
   "metadata": {},
   "outputs": [
    {
     "name": "stdout",
     "output_type": "stream",
     "text": [
      "Silhouette Score: 0.4329069355976914\n",
      "Davies-Bouldin Index: 1.2116538101524514\n",
      "Calinski-Harabasz Index: 14.8383282112269\n"
     ]
    }
   ],
   "source": [
    "\n",
    "kmeans_cluster = KMeans(n_clusters = 3,random_state=5)\n",
    "cluster_labels = kmeans_cluster.fit_predict(df_scaled)\n",
    "\n",
    "# 4. Calculate Evaluation Metrics\n",
    "silhouette_avg = silhouette_score(df_scaled, cluster_labels)\n",
    "davies_bouldin_avg = davies_bouldin_score(df_scaled, cluster_labels)\n",
    "calinski_harabasz_avg = calinski_harabasz_score(df_scaled, cluster_labels)\n",
    "\n",
    "print(f'Silhouette Score: {silhouette_avg}')\n",
    "print(f'Davies-Bouldin Index: {davies_bouldin_avg}')\n",
    "print(f'Calinski-Harabasz Index: {calinski_harabasz_avg}')\n",
    "\n",
    "# 5. Add cluster labels to the original DataFrame (optional)\n",
    "data['Cluster'] = cluster_labels"
   ]
  },
  {
   "cell_type": "code",
   "execution_count": 242,
   "metadata": {},
   "outputs": [
    {
     "name": "stdout",
     "output_type": "stream",
     "text": [
      "              ROA       ROE       Market Cap  Mean Return  Variance Return  \\\n",
      "Ticker                                                                       \n",
      "AMMN.JK  0.027717  0.055417  683483982725120     0.001989         0.000777   \n",
      "PGAS.JK  0.042140  0.103040   38422777430016     0.002017         0.000332   \n",
      "BRIS.JK  0.016129  0.147235  137004020924416     0.002639         0.000720   \n",
      "\n",
      "         Cluster  sharpe_ratio  \n",
      "Ticker                          \n",
      "AMMN.JK        0      0.062818  \n",
      "PGAS.JK        1      0.097624  \n",
      "BRIS.JK        2      0.089507  \n"
     ]
    }
   ],
   "source": [
    "# Risk-free rate (contoh: 6% per tahun, diubah ke harian)\n",
    "risk_free_rate = 0.06 / 252\n",
    "\n",
    "# Hitung Sharpe Ratio\n",
    "data['sharpe_ratio'] = (data['Mean Return'] - risk_free_rate) / np.sqrt(data['Variance Return'])\n",
    "\n",
    "# Ambil saham terbaik dari setiap cluster\n",
    "best_stocks = data.loc[data.groupby('Cluster')['sharpe_ratio'].idxmax()]\n",
    "\n",
    "print(best_stocks)"
   ]
  },
  {
   "cell_type": "markdown",
   "metadata": {},
   "source": [
    "# Cluster Analysis"
   ]
  },
  {
   "cell_type": "code",
   "execution_count": 270,
   "metadata": {},
   "outputs": [
    {
     "data": {
      "text/html": [
       "        <script type=\"text/javascript\">\n",
       "        window.PlotlyConfig = {MathJaxConfig: 'local'};\n",
       "        if (window.MathJax && window.MathJax.Hub && window.MathJax.Hub.Config) {window.MathJax.Hub.Config({SVG: {font: \"STIX-Web\"}});}\n",
       "        if (typeof require !== 'undefined') {\n",
       "        require.undef(\"plotly\");\n",
       "        requirejs.config({\n",
       "            paths: {\n",
       "                'plotly': ['https://cdn.plot.ly/plotly-2.30.0.min']\n",
       "            }\n",
       "        });\n",
       "        require(['plotly'], function(Plotly) {\n",
       "            window._Plotly = Plotly;\n",
       "        });\n",
       "        }\n",
       "        </script>\n",
       "        "
      ]
     },
     "metadata": {},
     "output_type": "display_data"
    }
   ],
   "source": [
    "from sklearn.metrics import silhouette_score, calinski_harabasz_score, davies_bouldin_score\n",
    "from sklearn.cluster import AgglomerativeClustering, KMeans, DBSCAN, MeanShift\n",
    "from sklearn.mixture import GaussianMixture\n",
    "from scipy.cluster.hierarchy import dendrogram, linkage\n",
    "from sklearn.decomposition import PCA\n",
    "\n",
    "from plotly.offline import init_notebook_mode, iplot\n",
    "init_notebook_mode(connected=True)\n",
    "import plotly.graph_objs as go\n",
    "import plotly.express as px"
   ]
  },
  {
   "cell_type": "code",
   "execution_count": 374,
   "metadata": {},
   "outputs": [
    {
     "data": {
      "text/html": [
       "<div>\n",
       "<style scoped>\n",
       "    .dataframe tbody tr th:only-of-type {\n",
       "        vertical-align: middle;\n",
       "    }\n",
       "\n",
       "    .dataframe tbody tr th {\n",
       "        vertical-align: top;\n",
       "    }\n",
       "\n",
       "    .dataframe thead th {\n",
       "        text-align: right;\n",
       "    }\n",
       "</style>\n",
       "<table border=\"1\" class=\"dataframe\">\n",
       "  <thead>\n",
       "    <tr style=\"text-align: right;\">\n",
       "      <th></th>\n",
       "      <th>ROE</th>\n",
       "      <th>Market Cap</th>\n",
       "      <th>Mean Return</th>\n",
       "      <th>Variance Return</th>\n",
       "    </tr>\n",
       "    <tr>\n",
       "      <th>Ticker</th>\n",
       "      <th></th>\n",
       "      <th></th>\n",
       "      <th></th>\n",
       "      <th></th>\n",
       "    </tr>\n",
       "  </thead>\n",
       "  <tbody>\n",
       "    <tr>\n",
       "      <th>ACES.JK</th>\n",
       "      <td>0.019841</td>\n",
       "      <td>-0.503589</td>\n",
       "      <td>0.412495</td>\n",
       "      <td>-0.015084</td>\n",
       "    </tr>\n",
       "    <tr>\n",
       "      <th>ADMR.JK</th>\n",
       "      <td>0.778213</td>\n",
       "      <td>-0.325757</td>\n",
       "      <td>0.133485</td>\n",
       "      <td>0.311211</td>\n",
       "    </tr>\n",
       "    <tr>\n",
       "      <th>ADRO.JK</th>\n",
       "      <td>0.293330</td>\n",
       "      <td>-0.248688</td>\n",
       "      <td>2.254371</td>\n",
       "      <td>0.823429</td>\n",
       "    </tr>\n",
       "    <tr>\n",
       "      <th>AKRA.JK</th>\n",
       "      <td>0.303760</td>\n",
       "      <td>-0.448638</td>\n",
       "      <td>-0.074903</td>\n",
       "      <td>-0.567337</td>\n",
       "    </tr>\n",
       "    <tr>\n",
       "      <th>AMMN.JK</th>\n",
       "      <td>-0.139658</td>\n",
       "      <td>2.448907</td>\n",
       "      <td>1.647973</td>\n",
       "      <td>0.691505</td>\n",
       "    </tr>\n",
       "  </tbody>\n",
       "</table>\n",
       "</div>"
      ],
      "text/plain": [
       "              ROE  Market Cap  Mean Return  Variance Return\n",
       "Ticker                                                     \n",
       "ACES.JK  0.019841   -0.503589     0.412495        -0.015084\n",
       "ADMR.JK  0.778213   -0.325757     0.133485         0.311211\n",
       "ADRO.JK  0.293330   -0.248688     2.254371         0.823429\n",
       "AKRA.JK  0.303760   -0.448638    -0.074903        -0.567337\n",
       "AMMN.JK -0.139658    2.448907     1.647973         0.691505"
      ]
     },
     "execution_count": 374,
     "metadata": {},
     "output_type": "execute_result"
    }
   ],
   "source": [
    "df_final = df_scaled1.drop(['Cluster', 'sharpe_ratio', 'ROA'], axis = 1)\n",
    "df_final.head()"
   ]
  },
  {
   "cell_type": "markdown",
   "metadata": {},
   "source": [
    "# KMeans"
   ]
  },
  {
   "cell_type": "code",
   "execution_count": null,
   "metadata": {},
   "outputs": [
    {
     "name": "stdout",
     "output_type": "stream",
     "text": [
      "Clusters present: [0 1]\n",
      "Clusters sizes: [41  4] \n",
      "\n",
      "Silhouette Score: 0.45533163637971996\n",
      "Calinski-Harabasz Index: 11.732549290210736\n",
      "Davies-Bouldin Index: 0.8957166291211325\n"
     ]
    },
    {
     "ename": "IndexError",
     "evalue": "only integers, slices (`:`), ellipsis (`...`), numpy.newaxis (`None`) and integer or boolean arrays are valid indices",
     "output_type": "error",
     "traceback": [
      "\u001b[1;31m---------------------------------------------------------------------------\u001b[0m",
      "\u001b[1;31mIndexError\u001b[0m                                Traceback (most recent call last)",
      "Cell \u001b[1;32mIn[405], line 18\u001b[0m\n\u001b[0;32m     15\u001b[0m \u001b[38;5;28mprint\u001b[39m(\u001b[38;5;124mf\u001b[39m\u001b[38;5;124m'\u001b[39m\u001b[38;5;124mDavies-Bouldin Index: \u001b[39m\u001b[38;5;132;01m{\u001b[39;00mdavies_bouldin_score(df_kme,\u001b[38;5;250m \u001b[39mlabelsom)\u001b[38;5;132;01m}\u001b[39;00m\u001b[38;5;124m'\u001b[39m)\n\u001b[0;32m     17\u001b[0m df_kme[\u001b[38;5;124m'\u001b[39m\u001b[38;5;124mcluster\u001b[39m\u001b[38;5;124m'\u001b[39m] \u001b[38;5;241m=\u001b[39m labelsom\n\u001b[1;32m---> 18\u001b[0m \u001b[43mdata\u001b[49m\u001b[43m[\u001b[49m\u001b[38;5;124;43m'\u001b[39;49m\u001b[38;5;124;43mCluster\u001b[39;49m\u001b[38;5;124;43m'\u001b[39;49m\u001b[43m]\u001b[49m \u001b[38;5;241m=\u001b[39m labelsom\n\u001b[0;32m     20\u001b[0m \u001b[38;5;28mprint\u001b[39m(df_kme\u001b[38;5;241m.\u001b[39mcluster\u001b[38;5;241m.\u001b[39mvalue_counts())\n\u001b[0;32m     21\u001b[0m df_kme\u001b[38;5;241m.\u001b[39mhead()\n",
      "\u001b[1;31mIndexError\u001b[0m: only integers, slices (`:`), ellipsis (`...`), numpy.newaxis (`None`) and integer or boolean arrays are valid indices"
     ]
    }
   ],
   "source": [
    "# Opsional: Tuning parameter eps dan min_samples\n",
    "df_kme = df_final.copy()\n",
    "\n",
    "# GMM\n",
    "kmeans = KMeans(n_clusters = 2, random_state = 90)\n",
    "kmeans.fit(df_kme)\n",
    "labelsom = kmeans.predict(df_kme)\n",
    "\n",
    "unique_labels = np.unique(labelsom)\n",
    "n_clusters_formed = len(unique_labels)\n",
    "print(f'Clusters present: {unique_labels}')\n",
    "print(f'Clusters sizes: {np.bincount(labelsom)}', '\\n')\n",
    "print(f'Silhouette Score: {silhouette_score(df_kme, labelsom)}')\n",
    "print(f'Calinski-Harabasz Index: {calinski_harabasz_score(df_kme, labelsom)}')\n",
    "print(f'Davies-Bouldin Index: {davies_bouldin_score(df_kme, labelsom)}')\n",
    "\n",
    "df_kme['cluster'] = labelsom\n",
    "data['Cluster'] = labelsom\n",
    "\n",
    "print(df_kme.cluster.value_counts())\n",
    "df_kme.head()"
   ]
  },
  {
   "cell_type": "code",
   "execution_count": 335,
   "metadata": {},
   "outputs": [
    {
     "name": "stdout",
     "output_type": "stream",
     "text": [
      "              ROA       ROE       Market Cap  Mean Return  Variance Return  \\\n",
      "Ticker                                                                       \n",
      "AMMN.JK  0.027717  0.055417  683483982725120     0.001989         0.000777   \n",
      "INCO.JK  0.093757  0.106972   38364870868992    -0.000548         0.000602   \n",
      "PGAS.JK  0.042140  0.103040   38422777430016     0.002017         0.000332   \n",
      "\n",
      "         Cluster  sharpe_ratio  \n",
      "Ticker                          \n",
      "AMMN.JK        0      0.062818  \n",
      "INCO.JK        1     -0.032034  \n",
      "PGAS.JK        2      0.097624  \n"
     ]
    }
   ],
   "source": [
    "# Risk-free rate (contoh: 6% per tahun, diubah ke harian)\n",
    "risk_free_rate = 0.06 / 252\n",
    "\n",
    "# Hitung Sharpe Ratio\n",
    "data['sharpe_ratio'] = (data['Mean Return'] - risk_free_rate) / np.sqrt(data['Variance Return'])\n",
    "\n",
    "# Ambil saham terbaik dari setiap cluster\n",
    "best_stocks = data.loc[data.groupby('Cluster')['sharpe_ratio'].idxmax()]\n",
    "\n",
    "print(best_stocks)"
   ]
  },
  {
   "cell_type": "code",
   "execution_count": 336,
   "metadata": {},
   "outputs": [
    {
     "name": "stdout",
     "output_type": "stream",
     "text": [
      "65.08414737534632 %\n"
     ]
    },
    {
     "data": {
      "text/plain": [
       "<Axes: xlabel='PC_1', ylabel='PC_2'>"
      ]
     },
     "execution_count": 336,
     "metadata": {},
     "output_type": "execute_result"
    },
    {
     "data": {
      "image/png": "[encoded data removed]",
      "text/plain": [
       "<Figure size 1000x800 with 1 Axes>"
      ]
     },
     "metadata": {},
     "output_type": "display_data"
    }
   ],
   "source": [
    "# Gunakan Dimensionality Reduction dengan PCA untuk mempermudah melakukan visualisasi\n",
    "\n",
    "pca = PCA(n_components = 2)\n",
    "df_pca2 = pd.DataFrame(pca.fit_transform(df_kme.iloc[:,:-1]),\n",
    "                      columns = ['PC_1', 'PC_2'],\n",
    "                      index = df_kme.index)\n",
    "\n",
    "df_pca2 = pd.concat([df_pca2, df_kme.cluster], axis = 1)\n",
    "# df_pca1.head()\n",
    "\n",
    "print(np.sum(pca.explained_variance_ratio_)*100, \"%\") # 2 Dimensi dapat menjelaskan keseluruhan fitur\n",
    "fig = plt.figure(figsize=(10, 8))\n",
    "ax = fig.add_subplot()\n",
    "sns.scatterplot(data = df_pca2, x = 'PC_1', y = 'PC_2', hue = 'cluster', s = 300, ax = ax)"
   ]
  },
  {
   "cell_type": "markdown",
   "metadata": {},
   "source": [
    "**3D**"
   ]
  },
  {
   "cell_type": "code",
   "execution_count": 337,
   "metadata": {},
   "outputs": [],
   "source": [
    "# Gunakan Dimensionality Reduction dengan PCA untuk mempermudah melakukan visualisasi\n",
    "\n",
    "pca = PCA(n_components = 3)\n",
    "df_pca_3 = pd.DataFrame(pca.fit_transform(df_kme.iloc[:,:-1]),\n",
    "                      columns = ['PC1', 'PC2', 'PC3'],\n",
    "                      index = df_kme.index)\n",
    "\n",
    "df_pca_3 = pd.concat([df_pca_3, df_kme.cluster], axis = 1)\n",
    "# df_pca1.head()"
   ]
  },
  {
   "cell_type": "code",
   "execution_count": 338,
   "metadata": {},
   "outputs": [
    {
     "data": {
      "text/html": [
       "<div>\n",
       "<style scoped>\n",
       "    .dataframe tbody tr th:only-of-type {\n",
       "        vertical-align: middle;\n",
       "    }\n",
       "\n",
       "    .dataframe tbody tr th {\n",
       "        vertical-align: top;\n",
       "    }\n",
       "\n",
       "    .dataframe thead th {\n",
       "        text-align: right;\n",
       "    }\n",
       "</style>\n",
       "<table border=\"1\" class=\"dataframe\">\n",
       "  <thead>\n",
       "    <tr style=\"text-align: right;\">\n",
       "      <th></th>\n",
       "      <th>PC1</th>\n",
       "      <th>PC2</th>\n",
       "      <th>PC3</th>\n",
       "      <th>cluster</th>\n",
       "    </tr>\n",
       "    <tr>\n",
       "      <th>Ticker</th>\n",
       "      <th></th>\n",
       "      <th></th>\n",
       "      <th></th>\n",
       "      <th></th>\n",
       "    </tr>\n",
       "  </thead>\n",
       "  <tbody>\n",
       "    <tr>\n",
       "      <th>ACES.JK</th>\n",
       "      <td>-0.132589</td>\n",
       "      <td>-0.180676</td>\n",
       "      <td>-0.661453</td>\n",
       "      <td>2</td>\n",
       "    </tr>\n",
       "    <tr>\n",
       "      <th>ADMR.JK</th>\n",
       "      <td>-0.271514</td>\n",
       "      <td>-0.415203</td>\n",
       "      <td>-0.497805</td>\n",
       "      <td>2</td>\n",
       "    </tr>\n",
       "    <tr>\n",
       "      <th>ADRO.JK</th>\n",
       "      <td>-0.216669</td>\n",
       "      <td>1.171590</td>\n",
       "      <td>-2.045702</td>\n",
       "      <td>2</td>\n",
       "    </tr>\n",
       "    <tr>\n",
       "      <th>AKRA.JK</th>\n",
       "      <td>-0.391026</td>\n",
       "      <td>-0.516436</td>\n",
       "      <td>-0.168712</td>\n",
       "      <td>2</td>\n",
       "    </tr>\n",
       "    <tr>\n",
       "      <th>AMMN.JK</th>\n",
       "      <td>-0.591894</td>\n",
       "      <td>2.775036</td>\n",
       "      <td>0.198475</td>\n",
       "      <td>0</td>\n",
       "    </tr>\n",
       "  </tbody>\n",
       "</table>\n",
       "</div>"
      ],
      "text/plain": [
       "              PC1       PC2       PC3  cluster\n",
       "Ticker                                        \n",
       "ACES.JK -0.132589 -0.180676 -0.661453        2\n",
       "ADMR.JK -0.271514 -0.415203 -0.497805        2\n",
       "ADRO.JK -0.216669  1.171590 -2.045702        2\n",
       "AKRA.JK -0.391026 -0.516436 -0.168712        2\n",
       "AMMN.JK -0.591894  2.775036  0.198475        0"
      ]
     },
     "execution_count": 338,
     "metadata": {},
     "output_type": "execute_result"
    }
   ],
   "source": [
    "df_pca_3.head()"
   ]
  },
  {
   "cell_type": "code",
   "execution_count": 339,
   "metadata": {},
   "outputs": [
    {
     "data": {
      "application/vnd.plotly.v1+json": {
       "config": {
        "linkText": "Export to plot.ly",
        "plotlyServerURL": "https://plot.ly",
        "showLink": false
       },
       "data": [
        {
         "marker": {
          "color": "rgb(255,0,0)",
          "size": 10
         },
         "mode": "markers",
         "name": "Cluster 0",
         "type": "scatter3d",
         "x": [
          -0.5918938856768137,
          -2.1696655729959873,
          -0.8680534902344987,
          -0.9830893580086751
         ],
         "y": [
          2.77503578022166,
          3.4827542675756313,
          0.9922136536195307,
          1.4996030318201123
         ],
         "z": [
          0.1984746478974758,
          2.8506947865600485,
          2.0940074446046566,
          1.0329159519666042
         ]
        },
        {
         "marker": {
          "color": "rgb(0,255,0)",
          "size": 10
         },
         "mode": "markers",
         "name": "Cluster 1",
         "type": "scatter3d",
         "x": [
          1.6706025170335967,
          0.25663548946536785,
          -0.012597211542830593,
          -0.10916202968931295,
          -0.5547042819495968,
          0.8172018521756569,
          0.5913955638122179,
          -0.45389334324446473,
          -0.017686973781575643,
          0.10493746570856005
         ],
         "y": [
          -1.09491434570603,
          -0.7616379221207461,
          -0.7247753947159176,
          -1.2168287447930441,
          -0.7583618441201021,
          -0.6684802620462741,
          -1.8998532562883066,
          -0.4824044535880356,
          -1.0328292838609068,
          -1.8591275254745203
         ],
         "z": [
          0.7884792433872193,
          0.20579919429418608,
          0.2841419575292474,
          0.7154206006940709,
          0.3615454575397911,
          0.3750193926646921,
          1.6200599380207097,
          1.3636504049157967,
          0.613762706138272,
          1.2786877989343994
         ]
        },
        {
         "marker": {
          "color": "rgb(0,0,255)",
          "size": 10
         },
         "mode": "markers",
         "name": "Cluster 2",
         "type": "scatter3d",
         "x": [
          -0.13258933167139833,
          -0.27151370569962613,
          -0.21666891500981242,
          -0.39102598908244257,
          -0.7062574961774118,
          0.012979153523070372,
          1.3996885042181562,
          -0.7323633622152951,
          -0.4010151922797581,
          0.05182562964091612,
          -0.167228533521787,
          2.8774512451738357,
          -0.4656685962140094,
          0.36761150618788385,
          -0.2058608297618417,
          5.870262350656411,
          -0.6817618009838836,
          -0.9118993109083492,
          -0.033568029919112154,
          -1.3116233187926498,
          -0.27044434521957983,
          0.6070951015582875,
          1.523142825995926,
          0.14955666435882026,
          -0.2798406388907766,
          -0.7422111889567657,
          0.17996569560990605,
          -0.927611918269625,
          -0.8610631402201301,
          0.09527249755539131,
          -1.1046622717559937
         ],
         "y": [
          -0.18067624831579526,
          -0.41520348411674723,
          1.1715896473802676,
          -0.5164359715761184,
          -0.06734959356321507,
          -0.47259927684580255,
          -0.10485468354657976,
          -0.016971897664353076,
          0.007163105922093962,
          -0.3406348490305404,
          1.5203756781959827,
          0.12193190132926786,
          -0.3020472713521886,
          0.68816369313678,
          -0.11077372321537038,
          2.5247294620445246,
          0.13375970427859415,
          0.1436850580621474,
          0.15905555546325792,
          -0.16401231927975132,
          -0.6110847912158037,
          -0.5040828683380852,
          -0.05237611421828289,
          -0.035350743704780654,
          -0.5528350128734505,
          0.6704256906175279,
          -0.4286061017571163,
          0.023178308053508442,
          -0.5945133866202599,
          -0.37613517112416045,
          0.43209200335139636
         ],
         "z": [
          -0.6614525371345473,
          -0.4978052229897982,
          -2.045701934221174,
          -0.16871185733148514,
          -0.08210207288139744,
          -0.11055781346099047,
          -0.3723662623894917,
          0.41002289567416006,
          0.3547525102491774,
          -0.23791653841225727,
          -1.7233971483923047,
          -0.2954303389500229,
          0.013717231603436644,
          -1.5797692066086764,
          -0.4466112130426089,
          0.7075386928154441,
          -0.16661635064086902,
          -0.5767248159957917,
          -0.5008888149519917,
          -0.875590962245164,
          0.08162128564427212,
          -0.1362112051073605,
          -0.3151557415280618,
          -0.636171056510782,
          0.19168400784768116,
          -1.3950674634967355,
          -0.09108753377343198,
          -0.9337457545471314,
          -0.4817846997019511,
          -0.28260278468314004,
          -0.9285268199841764
         ]
        }
       ],
       "layout": {
        "margin": {
         "b": 0,
         "l": 0,
         "r": 0,
         "t": 0
        },
        "template": {
         "data": {
          "bar": [
           {
            "error_x": {
             "color": "#2a3f5f"
            },
            "error_y": {
             "color": "#2a3f5f"
            },
            "marker": {
             "line": {
              "color": "#E5ECF6",
              "width": 0.5
             },
             "pattern": {
              "fillmode": "overlay",
              "size": 10,
              "solidity": 0.2
             }
            },
            "type": "bar"
           }
          ],
          "barpolar": [
           {
            "marker": {
             "line": {
              "color": "#E5ECF6",
              "width": 0.5
             },
             "pattern": {
              "fillmode": "overlay",
              "size": 10,
              "solidity": 0.2
             }
            },
            "type": "barpolar"
           }
          ],
          "carpet": [
           {
            "aaxis": {
             "endlinecolor": "#2a3f5f",
             "gridcolor": "white",
             "linecolor": "white",
             "minorgridcolor": "white",
             "startlinecolor": "#2a3f5f"
            },
            "baxis": {
             "endlinecolor": "#2a3f5f",
             "gridcolor": "white",
             "linecolor": "white",
             "minorgridcolor": "white",
             "startlinecolor": "#2a3f5f"
            },
            "type": "carpet"
           }
          ],
          "choropleth": [
           {
            "colorbar": {
             "outlinewidth": 0,
             "ticks": ""
            },
            "type": "choropleth"
           }
          ],
          "contour": [
           {
            "colorbar": {
             "outlinewidth": 0,
             "ticks": ""
            },
            "colorscale": [
             [
              0,
              "#0d0887"
             ],
             [
              0.1111111111111111,
              "#46039f"
             ],
             [
              0.2222222222222222,
              "#7201a8"
             ],
             [
              0.3333333333333333,
              "#9c179e"
             ],
             [
              0.4444444444444444,
              "#bd3786"
             ],
             [
              0.5555555555555556,
              "#d8576b"
             ],
             [
              0.6666666666666666,
              "#ed7953"
             ],
             [
              0.7777777777777778,
              "#fb9f3a"
             ],
             [
              0.8888888888888888,
              "#fdca26"
             ],
             [
              1,
              "#f0f921"
             ]
            ],
            "type": "contour"
           }
          ],
          "contourcarpet": [
           {
            "colorbar": {
             "outlinewidth": 0,
             "ticks": ""
            },
            "type": "contourcarpet"
           }
          ],
          "heatmap": [
           {
            "colorbar": {
             "outlinewidth": 0,
             "ticks": ""
            },
            "colorscale": [
             [
              0,
              "#0d0887"
             ],
             [
              0.1111111111111111,
              "#46039f"
             ],
             [
              0.2222222222222222,
              "#7201a8"
             ],
             [
              0.3333333333333333,
              "#9c179e"
             ],
             [
              0.4444444444444444,
              "#bd3786"
             ],
             [
              0.5555555555555556,
              "#d8576b"
             ],
             [
              0.6666666666666666,
              "#ed7953"
             ],
             [
              0.7777777777777778,
              "#fb9f3a"
             ],
             [
              0.8888888888888888,
              "#fdca26"
             ],
             [
              1,
              "#f0f921"
             ]
            ],
            "type": "heatmap"
           }
          ],
          "heatmapgl": [
           {
            "colorbar": {
             "outlinewidth": 0,
             "ticks": ""
            },
            "colorscale": [
             [
              0,
              "#0d0887"
             ],
             [
              0.1111111111111111,
              "#46039f"
             ],
             [
              0.2222222222222222,
              "#7201a8"
             ],
             [
              0.3333333333333333,
              "#9c179e"
             ],
             [
              0.4444444444444444,
              "#bd3786"
             ],
             [
              0.5555555555555556,
              "#d8576b"
             ],
             [
              0.6666666666666666,
              "#ed7953"
             ],
             [
              0.7777777777777778,
              "#fb9f3a"
             ],
             [
              0.8888888888888888,
              "#fdca26"
             ],
             [
              1,
              "#f0f921"
             ]
            ],
            "type": "heatmapgl"
           }
          ],
          "histogram": [
           {
            "marker": {
             "pattern": {
              "fillmode": "overlay",
              "size": 10,
              "solidity": 0.2
             }
            },
            "type": "histogram"
           }
          ],
          "histogram2d": [
           {
            "colorbar": {
             "outlinewidth": 0,
             "ticks": ""
            },
            "colorscale": [
             [
              0,
              "#0d0887"
             ],
             [
              0.1111111111111111,
              "#46039f"
             ],
             [
              0.2222222222222222,
              "#7201a8"
             ],
             [
              0.3333333333333333,
              "#9c179e"
             ],
             [
              0.4444444444444444,
              "#bd3786"
             ],
             [
              0.5555555555555556,
              "#d8576b"
             ],
             [
              0.6666666666666666,
              "#ed7953"
             ],
             [
              0.7777777777777778,
              "#fb9f3a"
             ],
             [
              0.8888888888888888,
              "#fdca26"
             ],
             [
              1,
              "#f0f921"
             ]
            ],
            "type": "histogram2d"
           }
          ],
          "histogram2dcontour": [
           {
            "colorbar": {
             "outlinewidth": 0,
             "ticks": ""
            },
            "colorscale": [
             [
              0,
              "#0d0887"
             ],
             [
              0.1111111111111111,
              "#46039f"
             ],
             [
              0.2222222222222222,
              "#7201a8"
             ],
             [
              0.3333333333333333,
              "#9c179e"
             ],
             [
              0.4444444444444444,
              "#bd3786"
             ],
             [
              0.5555555555555556,
              "#d8576b"
             ],
             [
              0.6666666666666666,
              "#ed7953"
             ],
             [
              0.7777777777777778,
              "#fb9f3a"
             ],
             [
              0.8888888888888888,
              "#fdca26"
             ],
             [
              1,
              "#f0f921"
             ]
            ],
            "type": "histogram2dcontour"
           }
          ],
          "mesh3d": [
           {
            "colorbar": {
             "outlinewidth": 0,
             "ticks": ""
            },
            "type": "mesh3d"
           }
          ],
          "parcoords": [
           {
            "line": {
             "colorbar": {
              "outlinewidth": 0,
              "ticks": ""
             }
            },
            "type": "parcoords"
           }
          ],
          "pie": [
           {
            "automargin": true,
            "type": "pie"
           }
          ],
          "scatter": [
           {
            "fillpattern": {
             "fillmode": "overlay",
             "size": 10,
             "solidity": 0.2
            },
            "type": "scatter"
           }
          ],
          "scatter3d": [
           {
            "line": {
             "colorbar": {
              "outlinewidth": 0,
              "ticks": ""
             }
            },
            "marker": {
             "colorbar": {
              "outlinewidth": 0,
              "ticks": ""
             }
            },
            "type": "scatter3d"
           }
          ],
          "scattercarpet": [
           {
            "marker": {
             "colorbar": {
              "outlinewidth": 0,
              "ticks": ""
             }
            },
            "type": "scattercarpet"
           }
          ],
          "scattergeo": [
           {
            "marker": {
             "colorbar": {
              "outlinewidth": 0,
              "ticks": ""
             }
            },
            "type": "scattergeo"
           }
          ],
          "scattergl": [
           {
            "marker": {
             "colorbar": {
              "outlinewidth": 0,
              "ticks": ""
             }
            },
            "type": "scattergl"
           }
          ],
          "scattermapbox": [
           {
            "marker": {
             "colorbar": {
              "outlinewidth": 0,
              "ticks": ""
             }
            },
            "type": "scattermapbox"
           }
          ],
          "scatterpolar": [
           {
            "marker": {
             "colorbar": {
              "outlinewidth": 0,
              "ticks": ""
             }
            },
            "type": "scatterpolar"
           }
          ],
          "scatterpolargl": [
           {
            "marker": {
             "colorbar": {
              "outlinewidth": 0,
              "ticks": ""
             }
            },
            "type": "scatterpolargl"
           }
          ],
          "scatterternary": [
           {
            "marker": {
             "colorbar": {
              "outlinewidth": 0,
              "ticks": ""
             }
            },
            "type": "scatterternary"
           }
          ],
          "surface": [
           {
            "colorbar": {
             "outlinewidth": 0,
             "ticks": ""
            },
            "colorscale": [
             [
              0,
              "#0d0887"
             ],
             [
              0.1111111111111111,
              "#46039f"
             ],
             [
              0.2222222222222222,
              "#7201a8"
             ],
             [
              0.3333333333333333,
              "#9c179e"
             ],
             [
              0.4444444444444444,
              "#bd3786"
             ],
             [
              0.5555555555555556,
              "#d8576b"
             ],
             [
              0.6666666666666666,
              "#ed7953"
             ],
             [
              0.7777777777777778,
              "#fb9f3a"
             ],
             [
              0.8888888888888888,
              "#fdca26"
             ],
             [
              1,
              "#f0f921"
             ]
            ],
            "type": "surface"
           }
          ],
          "table": [
           {
            "cells": {
             "fill": {
              "color": "#EBF0F8"
             },
             "line": {
              "color": "white"
             }
            },
            "header": {
             "fill": {
              "color": "#C8D4E3"
             },
             "line": {
              "color": "white"
             }
            },
            "type": "table"
           }
          ]
         },
         "layout": {
          "annotationdefaults": {
           "arrowcolor": "#2a3f5f",
           "arrowhead": 0,
           "arrowwidth": 1
          },
          "autotypenumbers": "strict",
          "coloraxis": {
           "colorbar": {
            "outlinewidth": 0,
            "ticks": ""
           }
          },
          "colorscale": {
           "diverging": [
            [
             0,
             "#8e0152"
            ],
            [
             0.1,
             "#c51b7d"
            ],
            [
             0.2,
             "#de77ae"
            ],
            [
             0.3,
             "#f1b6da"
            ],
            [
             0.4,
             "#fde0ef"
            ],
            [
             0.5,
             "#f7f7f7"
            ],
            [
             0.6,
             "#e6f5d0"
            ],
            [
             0.7,
             "#b8e186"
            ],
            [
             0.8,
             "#7fbc41"
            ],
            [
             0.9,
             "#4d9221"
            ],
            [
             1,
             "#276419"
            ]
           ],
           "sequential": [
            [
             0,
             "#0d0887"
            ],
            [
             0.1111111111111111,
             "#46039f"
            ],
            [
             0.2222222222222222,
             "#7201a8"
            ],
            [
             0.3333333333333333,
             "#9c179e"
            ],
            [
             0.4444444444444444,
             "#bd3786"
            ],
            [
             0.5555555555555556,
             "#d8576b"
            ],
            [
             0.6666666666666666,
             "#ed7953"
            ],
            [
             0.7777777777777778,
             "#fb9f3a"
            ],
            [
             0.8888888888888888,
             "#fdca26"
            ],
            [
             1,
             "#f0f921"
            ]
           ],
           "sequentialminus": [
            [
             0,
             "#0d0887"
            ],
            [
             0.1111111111111111,
             "#46039f"
            ],
            [
             0.2222222222222222,
             "#7201a8"
            ],
            [
             0.3333333333333333,
             "#9c179e"
            ],
            [
             0.4444444444444444,
             "#bd3786"
            ],
            [
             0.5555555555555556,
             "#d8576b"
            ],
            [
             0.6666666666666666,
             "#ed7953"
            ],
            [
             0.7777777777777778,
             "#fb9f3a"
            ],
            [
             0.8888888888888888,
             "#fdca26"
            ],
            [
             1,
             "#f0f921"
            ]
           ]
          },
          "colorway": [
           "#636efa",
           "#EF553B",
           "#00cc96",
           "#ab63fa",
           "#FFA15A",
           "#19d3f3",
           "#FF6692",
           "#B6E880",
           "#FF97FF",
           "#FECB52"
          ],
          "font": {
           "color": "#2a3f5f"
          },
          "geo": {
           "bgcolor": "white",
           "lakecolor": "white",
           "landcolor": "#E5ECF6",
           "showlakes": true,
           "showland": true,
           "subunitcolor": "white"
          },
          "hoverlabel": {
           "align": "left"
          },
          "hovermode": "closest",
          "mapbox": {
           "style": "light"
          },
          "paper_bgcolor": "white",
          "plot_bgcolor": "#E5ECF6",
          "polar": {
           "angularaxis": {
            "gridcolor": "white",
            "linecolor": "white",
            "ticks": ""
           },
           "bgcolor": "#E5ECF6",
           "radialaxis": {
            "gridcolor": "white",
            "linecolor": "white",
            "ticks": ""
           }
          },
          "scene": {
           "xaxis": {
            "backgroundcolor": "#E5ECF6",
            "gridcolor": "white",
            "gridwidth": 2,
            "linecolor": "white",
            "showbackground": true,
            "ticks": "",
            "zerolinecolor": "white"
           },
           "yaxis": {
            "backgroundcolor": "#E5ECF6",
            "gridcolor": "white",
            "gridwidth": 2,
            "linecolor": "white",
            "showbackground": true,
            "ticks": "",
            "zerolinecolor": "white"
           },
           "zaxis": {
            "backgroundcolor": "#E5ECF6",
            "gridcolor": "white",
            "gridwidth": 2,
            "linecolor": "white",
            "showbackground": true,
            "ticks": "",
            "zerolinecolor": "white"
           }
          },
          "shapedefaults": {
           "line": {
            "color": "#2a3f5f"
           }
          },
          "ternary": {
           "aaxis": {
            "gridcolor": "white",
            "linecolor": "white",
            "ticks": ""
           },
           "baxis": {
            "gridcolor": "white",
            "linecolor": "white",
            "ticks": ""
           },
           "bgcolor": "#E5ECF6",
           "caxis": {
            "gridcolor": "white",
            "linecolor": "white",
            "ticks": ""
           }
          },
          "title": {
           "x": 0.05
          },
          "xaxis": {
           "automargin": true,
           "gridcolor": "white",
           "linecolor": "white",
           "ticks": "",
           "title": {
            "standoff": 15
           },
           "zerolinecolor": "white",
           "zerolinewidth": 2
          },
          "yaxis": {
           "automargin": true,
           "gridcolor": "white",
           "linecolor": "white",
           "ticks": "",
           "title": {
            "standoff": 15
           },
           "zerolinecolor": "white",
           "zerolinewidth": 2
          }
         }
        }
       }
      },
      "text/html": [
       "<div>                            <div id=\"636a345e-0ed0-496b-8660-4b1dedae7617\" class=\"plotly-graph-div\" style=\"height:525px; width:100%;\"></div>            <script type=\"text/javascript\">                require([\"plotly\"], function(Plotly) {                    window.PLOTLYENV=window.PLOTLYENV || {};                                    if (document.getElementById(\"636a345e-0ed0-496b-8660-4b1dedae7617\")) {                    Plotly.newPlot(                        \"636a345e-0ed0-496b-8660-4b1dedae7617\",                        [{\"marker\":{\"color\":\"rgb(255,0,0)\",\"size\":10},\"mode\":\"markers\",\"name\":\"Cluster 0\",\"x\":[-0.5918938856768137,-2.1696655729959873,-0.8680534902344987,-0.9830893580086751],\"y\":[2.77503578022166,3.4827542675756313,0.9922136536195307,1.4996030318201123],\"z\":[0.1984746478974758,2.8506947865600485,2.0940074446046566,1.0329159519666042],\"type\":\"scatter3d\"},{\"marker\":{\"color\":\"rgb(0,255,0)\",\"size\":10},\"mode\":\"markers\",\"name\":\"Cluster 1\",\"x\":[1.6706025170335967,0.25663548946536785,-0.012597211542830593,-0.10916202968931295,-0.5547042819495968,0.8172018521756569,0.5913955638122179,-0.45389334324446473,-0.017686973781575643,0.10493746570856005],\"y\":[-1.09491434570603,-0.7616379221207461,-0.7247753947159176,-1.2168287447930441,-0.7583618441201021,-0.6684802620462741,-1.8998532562883066,-0.4824044535880356,-1.0328292838609068,-1.8591275254745203],\"z\":[0.7884792433872193,0.20579919429418608,0.2841419575292474,0.7154206006940709,0.3615454575397911,0.3750193926646921,1.6200599380207097,1.3636504049157967,0.613762706138272,1.2786877989343994],\"type\":\"scatter3d\"},{\"marker\":{\"color\":\"rgb(0,0,255)\",\"size\":10},\"mode\":\"markers\",\"name\":\"Cluster 2\",\"x\":[-0.13258933167139833,-0.27151370569962613,-0.21666891500981242,-0.39102598908244257,-0.7062574961774118,0.012979153523070372,1.3996885042181562,-0.7323633622152951,-0.4010151922797581,0.05182562964091612,-0.167228533521787,2.8774512451738357,-0.4656685962140094,0.36761150618788385,-0.2058608297618417,5.870262350656411,-0.6817618009838836,-0.9118993109083492,-0.033568029919112154,-1.3116233187926498,-0.27044434521957983,0.6070951015582875,1.523142825995926,0.14955666435882026,-0.2798406388907766,-0.7422111889567657,0.17996569560990605,-0.927611918269625,-0.8610631402201301,0.09527249755539131,-1.1046622717559937],\"y\":[-0.18067624831579526,-0.41520348411674723,1.1715896473802676,-0.5164359715761184,-0.06734959356321507,-0.47259927684580255,-0.10485468354657976,-0.016971897664353076,0.007163105922093962,-0.3406348490305404,1.5203756781959827,0.12193190132926786,-0.3020472713521886,0.68816369313678,-0.11077372321537038,2.5247294620445246,0.13375970427859415,0.1436850580621474,0.15905555546325792,-0.16401231927975132,-0.6110847912158037,-0.5040828683380852,-0.05237611421828289,-0.035350743704780654,-0.5528350128734505,0.6704256906175279,-0.4286061017571163,0.023178308053508442,-0.5945133866202599,-0.37613517112416045,0.43209200335139636],\"z\":[-0.6614525371345473,-0.4978052229897982,-2.045701934221174,-0.16871185733148514,-0.08210207288139744,-0.11055781346099047,-0.3723662623894917,0.41002289567416006,0.3547525102491774,-0.23791653841225727,-1.7233971483923047,-0.2954303389500229,0.013717231603436644,-1.5797692066086764,-0.4466112130426089,0.7075386928154441,-0.16661635064086902,-0.5767248159957917,-0.5008888149519917,-0.875590962245164,0.08162128564427212,-0.1362112051073605,-0.3151557415280618,-0.636171056510782,0.19168400784768116,-1.3950674634967355,-0.09108753377343198,-0.9337457545471314,-0.4817846997019511,-0.28260278468314004,-0.9285268199841764],\"type\":\"scatter3d\"}],                        {\"margin\":{\"b\":0,\"l\":0,\"r\":0,\"t\":0},\"template\":{\"data\":{\"barpolar\":[{\"marker\":{\"line\":{\"color\":\"#E5ECF6\",\"width\":0.5},\"pattern\":{\"fillmode\":\"overlay\",\"size\":10,\"solidity\":0.2}},\"type\":\"barpolar\"}],\"bar\":[{\"error_x\":{\"color\":\"#2a3f5f\"},\"error_y\":{\"color\":\"#2a3f5f\"},\"marker\":{\"line\":{\"color\":\"#E5ECF6\",\"width\":0.5},\"pattern\":{\"fillmode\":\"overlay\",\"size\":10,\"solidity\":0.2}},\"type\":\"bar\"}],\"carpet\":[{\"aaxis\":{\"endlinecolor\":\"#2a3f5f\",\"gridcolor\":\"white\",\"linecolor\":\"white\",\"minorgridcolor\":\"white\",\"startlinecolor\":\"#2a3f5f\"},\"baxis\":{\"endlinecolor\":\"#2a3f5f\",\"gridcolor\":\"white\",\"linecolor\":\"white\",\"minorgridcolor\":\"white\",\"startlinecolor\":\"#2a3f5f\"},\"type\":\"carpet\"}],\"choropleth\":[{\"colorbar\":{\"outlinewidth\":0,\"ticks\":\"\"},\"type\":\"choropleth\"}],\"contourcarpet\":[{\"colorbar\":{\"outlinewidth\":0,\"ticks\":\"\"},\"type\":\"contourcarpet\"}],\"contour\":[{\"colorbar\":{\"outlinewidth\":0,\"ticks\":\"\"},\"colorscale\":[[0.0,\"#0d0887\"],[0.1111111111111111,\"#46039f\"],[0.2222222222222222,\"#7201a8\"],[0.3333333333333333,\"#9c179e\"],[0.4444444444444444,\"#bd3786\"],[0.5555555555555556,\"#d8576b\"],[0.6666666666666666,\"#ed7953\"],[0.7777777777777778,\"#fb9f3a\"],[0.8888888888888888,\"#fdca26\"],[1.0,\"#f0f921\"]],\"type\":\"contour\"}],\"heatmapgl\":[{\"colorbar\":{\"outlinewidth\":0,\"ticks\":\"\"},\"colorscale\":[[0.0,\"#0d0887\"],[0.1111111111111111,\"#46039f\"],[0.2222222222222222,\"#7201a8\"],[0.3333333333333333,\"#9c179e\"],[0.4444444444444444,\"#bd3786\"],[0.5555555555555556,\"#d8576b\"],[0.6666666666666666,\"#ed7953\"],[0.7777777777777778,\"#fb9f3a\"],[0.8888888888888888,\"#fdca26\"],[1.0,\"#f0f921\"]],\"type\":\"heatmapgl\"}],\"heatmap\":[{\"colorbar\":{\"outlinewidth\":0,\"ticks\":\"\"},\"colorscale\":[[0.0,\"#0d0887\"],[0.1111111111111111,\"#46039f\"],[0.2222222222222222,\"#7201a8\"],[0.3333333333333333,\"#9c179e\"],[0.4444444444444444,\"#bd3786\"],[0.5555555555555556,\"#d8576b\"],[0.6666666666666666,\"#ed7953\"],[0.7777777777777778,\"#fb9f3a\"],[0.8888888888888888,\"#fdca26\"],[1.0,\"#f0f921\"]],\"type\":\"heatmap\"}],\"histogram2dcontour\":[{\"colorbar\":{\"outlinewidth\":0,\"ticks\":\"\"},\"colorscale\":[[0.0,\"#0d0887\"],[0.1111111111111111,\"#46039f\"],[0.2222222222222222,\"#7201a8\"],[0.3333333333333333,\"#9c179e\"],[0.4444444444444444,\"#bd3786\"],[0.5555555555555556,\"#d8576b\"],[0.6666666666666666,\"#ed7953\"],[0.7777777777777778,\"#fb9f3a\"],[0.8888888888888888,\"#fdca26\"],[1.0,\"#f0f921\"]],\"type\":\"histogram2dcontour\"}],\"histogram2d\":[{\"colorbar\":{\"outlinewidth\":0,\"ticks\":\"\"},\"colorscale\":[[0.0,\"#0d0887\"],[0.1111111111111111,\"#46039f\"],[0.2222222222222222,\"#7201a8\"],[0.3333333333333333,\"#9c179e\"],[0.4444444444444444,\"#bd3786\"],[0.5555555555555556,\"#d8576b\"],[0.6666666666666666,\"#ed7953\"],[0.7777777777777778,\"#fb9f3a\"],[0.8888888888888888,\"#fdca26\"],[1.0,\"#f0f921\"]],\"type\":\"histogram2d\"}],\"histogram\":[{\"marker\":{\"pattern\":{\"fillmode\":\"overlay\",\"size\":10,\"solidity\":0.2}},\"type\":\"histogram\"}],\"mesh3d\":[{\"colorbar\":{\"outlinewidth\":0,\"ticks\":\"\"},\"type\":\"mesh3d\"}],\"parcoords\":[{\"line\":{\"colorbar\":{\"outlinewidth\":0,\"ticks\":\"\"}},\"type\":\"parcoords\"}],\"pie\":[{\"automargin\":true,\"type\":\"pie\"}],\"scatter3d\":[{\"line\":{\"colorbar\":{\"outlinewidth\":0,\"ticks\":\"\"}},\"marker\":{\"colorbar\":{\"outlinewidth\":0,\"ticks\":\"\"}},\"type\":\"scatter3d\"}],\"scattercarpet\":[{\"marker\":{\"colorbar\":{\"outlinewidth\":0,\"ticks\":\"\"}},\"type\":\"scattercarpet\"}],\"scattergeo\":[{\"marker\":{\"colorbar\":{\"outlinewidth\":0,\"ticks\":\"\"}},\"type\":\"scattergeo\"}],\"scattergl\":[{\"marker\":{\"colorbar\":{\"outlinewidth\":0,\"ticks\":\"\"}},\"type\":\"scattergl\"}],\"scattermapbox\":[{\"marker\":{\"colorbar\":{\"outlinewidth\":0,\"ticks\":\"\"}},\"type\":\"scattermapbox\"}],\"scatterpolargl\":[{\"marker\":{\"colorbar\":{\"outlinewidth\":0,\"ticks\":\"\"}},\"type\":\"scatterpolargl\"}],\"scatterpolar\":[{\"marker\":{\"colorbar\":{\"outlinewidth\":0,\"ticks\":\"\"}},\"type\":\"scatterpolar\"}],\"scatter\":[{\"fillpattern\":{\"fillmode\":\"overlay\",\"size\":10,\"solidity\":0.2},\"type\":\"scatter\"}],\"scatterternary\":[{\"marker\":{\"colorbar\":{\"outlinewidth\":0,\"ticks\":\"\"}},\"type\":\"scatterternary\"}],\"surface\":[{\"colorbar\":{\"outlinewidth\":0,\"ticks\":\"\"},\"colorscale\":[[0.0,\"#0d0887\"],[0.1111111111111111,\"#46039f\"],[0.2222222222222222,\"#7201a8\"],[0.3333333333333333,\"#9c179e\"],[0.4444444444444444,\"#bd3786\"],[0.5555555555555556,\"#d8576b\"],[0.6666666666666666,\"#ed7953\"],[0.7777777777777778,\"#fb9f3a\"],[0.8888888888888888,\"#fdca26\"],[1.0,\"#f0f921\"]],\"type\":\"surface\"}],\"table\":[{\"cells\":{\"fill\":{\"color\":\"#EBF0F8\"},\"line\":{\"color\":\"white\"}},\"header\":{\"fill\":{\"color\":\"#C8D4E3\"},\"line\":{\"color\":\"white\"}},\"type\":\"table\"}]},\"layout\":{\"annotationdefaults\":{\"arrowcolor\":\"#2a3f5f\",\"arrowhead\":0,\"arrowwidth\":1},\"autotypenumbers\":\"strict\",\"coloraxis\":{\"colorbar\":{\"outlinewidth\":0,\"ticks\":\"\"}},\"colorscale\":{\"diverging\":[[0,\"#8e0152\"],[0.1,\"#c51b7d\"],[0.2,\"#de77ae\"],[0.3,\"#f1b6da\"],[0.4,\"#fde0ef\"],[0.5,\"#f7f7f7\"],[0.6,\"#e6f5d0\"],[0.7,\"#b8e186\"],[0.8,\"#7fbc41\"],[0.9,\"#4d9221\"],[1,\"#276419\"]],\"sequential\":[[0.0,\"#0d0887\"],[0.1111111111111111,\"#46039f\"],[0.2222222222222222,\"#7201a8\"],[0.3333333333333333,\"#9c179e\"],[0.4444444444444444,\"#bd3786\"],[0.5555555555555556,\"#d8576b\"],[0.6666666666666666,\"#ed7953\"],[0.7777777777777778,\"#fb9f3a\"],[0.8888888888888888,\"#fdca26\"],[1.0,\"#f0f921\"]],\"sequentialminus\":[[0.0,\"#0d0887\"],[0.1111111111111111,\"#46039f\"],[0.2222222222222222,\"#7201a8\"],[0.3333333333333333,\"#9c179e\"],[0.4444444444444444,\"#bd3786\"],[0.5555555555555556,\"#d8576b\"],[0.6666666666666666,\"#ed7953\"],[0.7777777777777778,\"#fb9f3a\"],[0.8888888888888888,\"#fdca26\"],[1.0,\"#f0f921\"]]},\"colorway\":[\"#636efa\",\"#EF553B\",\"#00cc96\",\"#ab63fa\",\"#FFA15A\",\"#19d3f3\",\"#FF6692\",\"#B6E880\",\"#FF97FF\",\"#FECB52\"],\"font\":{\"color\":\"#2a3f5f\"},\"geo\":{\"bgcolor\":\"white\",\"lakecolor\":\"white\",\"landcolor\":\"#E5ECF6\",\"showlakes\":true,\"showland\":true,\"subunitcolor\":\"white\"},\"hoverlabel\":{\"align\":\"left\"},\"hovermode\":\"closest\",\"mapbox\":{\"style\":\"light\"},\"paper_bgcolor\":\"white\",\"plot_bgcolor\":\"#E5ECF6\",\"polar\":{\"angularaxis\":{\"gridcolor\":\"white\",\"linecolor\":\"white\",\"ticks\":\"\"},\"bgcolor\":\"#E5ECF6\",\"radialaxis\":{\"gridcolor\":\"white\",\"linecolor\":\"white\",\"ticks\":\"\"}},\"scene\":{\"xaxis\":{\"backgroundcolor\":\"#E5ECF6\",\"gridcolor\":\"white\",\"gridwidth\":2,\"linecolor\":\"white\",\"showbackground\":true,\"ticks\":\"\",\"zerolinecolor\":\"white\"},\"yaxis\":{\"backgroundcolor\":\"#E5ECF6\",\"gridcolor\":\"white\",\"gridwidth\":2,\"linecolor\":\"white\",\"showbackground\":true,\"ticks\":\"\",\"zerolinecolor\":\"white\"},\"zaxis\":{\"backgroundcolor\":\"#E5ECF6\",\"gridcolor\":\"white\",\"gridwidth\":2,\"linecolor\":\"white\",\"showbackground\":true,\"ticks\":\"\",\"zerolinecolor\":\"white\"}},\"shapedefaults\":{\"line\":{\"color\":\"#2a3f5f\"}},\"ternary\":{\"aaxis\":{\"gridcolor\":\"white\",\"linecolor\":\"white\",\"ticks\":\"\"},\"baxis\":{\"gridcolor\":\"white\",\"linecolor\":\"white\",\"ticks\":\"\"},\"bgcolor\":\"#E5ECF6\",\"caxis\":{\"gridcolor\":\"white\",\"linecolor\":\"white\",\"ticks\":\"\"}},\"title\":{\"x\":0.05},\"xaxis\":{\"automargin\":true,\"gridcolor\":\"white\",\"linecolor\":\"white\",\"ticks\":\"\",\"title\":{\"standoff\":15},\"zerolinecolor\":\"white\",\"zerolinewidth\":2},\"yaxis\":{\"automargin\":true,\"gridcolor\":\"white\",\"linecolor\":\"white\",\"ticks\":\"\",\"title\":{\"standoff\":15},\"zerolinecolor\":\"white\",\"zerolinewidth\":2}}}},                        {\"responsive\": true}                    ).then(function(){\n",
       "                            \n",
       "var gd = document.getElementById('636a345e-0ed0-496b-8660-4b1dedae7617');\n",
       "var x = new MutationObserver(function (mutations, observer) {{\n",
       "        var display = window.getComputedStyle(gd).display;\n",
       "        if (!display || display === 'none') {{\n",
       "            console.log([gd, 'removed!']);\n",
       "            Plotly.purge(gd);\n",
       "            observer.disconnect();\n",
       "        }}\n",
       "}});\n",
       "\n",
       "// Listen for the removal of the full notebook cells\n",
       "var notebookContainer = gd.closest('#notebook-container');\n",
       "if (notebookContainer) {{\n",
       "    x.observe(notebookContainer, {childList: true});\n",
       "}}\n",
       "\n",
       "// Listen for the clearing of the current output cell\n",
       "var outputEl = gd.closest('.output');\n",
       "if (outputEl) {{\n",
       "    x.observe(outputEl, {childList: true});\n",
       "}}\n",
       "\n",
       "                        })                };                });            </script>        </div>"
      ]
     },
     "metadata": {},
     "output_type": "display_data"
    }
   ],
   "source": [
    "# membuat visualisasi 3D untuk setiap klaster\n",
    "# klaster 1\n",
    "Cluster0= go.Scatter3d(\n",
    "        x=df_pca_3[df_pca_3['cluster']==0]['PC1'],\n",
    "        y=df_pca_3[df_pca_3['cluster']==0]['PC2'],\n",
    "        z=df_pca_3[df_pca_3['cluster']==0]['PC3'],\n",
    "        mode=\"markers\",\n",
    "        marker=dict(\n",
    "                    size=10,\n",
    "                    color=\"rgb(255,0,0)\",\n",
    "        ),\n",
    "        name=\"Cluster 0\"\n",
    ")\n",
    "\n",
    "#klaster 2\n",
    "Cluster1= go.Scatter3d(\n",
    "        x=df_pca_3[df_pca_3['cluster']==1]['PC1'],\n",
    "        y=df_pca_3[df_pca_3['cluster']==1]['PC2'],\n",
    "        z=df_pca_3[df_pca_3['cluster']==1]['PC3'],\n",
    "        mode=\"markers\",\n",
    "        marker=dict(\n",
    "                    size=10,\n",
    "                    color=\"rgb(0,255,0)\",\n",
    "        ),\n",
    "        name=\"Cluster 1\"\n",
    ")\n",
    "\n",
    "# klaster 3\n",
    "Cluster2= go.Scatter3d(\n",
    "        x=df_pca_3[df_pca_3['cluster']==2]['PC1'],\n",
    "        y=df_pca_3[df_pca_3['cluster']==2]['PC2'],\n",
    "        z=df_pca_3[df_pca_3['cluster']==2]['PC3'],\n",
    "        mode=\"markers\",\n",
    "        marker=dict(\n",
    "                    size=10,\n",
    "                    color=\"rgb(0,0,255)\",\n",
    "        ),\n",
    "        name=\"Cluster 2\"\n",
    ")\n",
    "\n",
    "\n",
    "data_plot_km=[Cluster0,Cluster1,Cluster2]\n",
    "\n",
    "# membuat plot\n",
    "layout = go.Layout(\n",
    "    margin=dict(l=0, r=0, b=0, t=0))\n",
    "\n",
    "fig=go.Figure(data = data_plot_km, layout = layout)\n",
    "iplot(fig)"
   ]
  },
  {
   "cell_type": "markdown",
   "metadata": {},
   "source": [
    "# Gaussian Mixture"
   ]
  },
  {
   "cell_type": "code",
   "execution_count": null,
   "metadata": {},
   "outputs": [
    {
     "name": "stdout",
     "output_type": "stream",
     "text": [
      "Clusters present: [0 1 2]\n",
      "Clusters sizes: [40  1  4] \n",
      "\n",
      "Silhouette Score: 0.4902636420089914\n",
      "Calinski-Harabasz Index: 19.63209953997143\n",
      "Davies-Bouldin Index: 0.627493894362586\n",
      "cluster\n",
      "0    40\n",
      "2     4\n",
      "1     1\n",
      "Name: count, dtype: int64\n"
     ]
    },
    {
     "data": {
      "text/html": [
       "<div>\n",
       "<style scoped>\n",
       "    .dataframe tbody tr th:only-of-type {\n",
       "        vertical-align: middle;\n",
       "    }\n",
       "\n",
       "    .dataframe tbody tr th {\n",
       "        vertical-align: top;\n",
       "    }\n",
       "\n",
       "    .dataframe thead th {\n",
       "        text-align: right;\n",
       "    }\n",
       "</style>\n",
       "<table border=\"1\" class=\"dataframe\">\n",
       "  <thead>\n",
       "    <tr style=\"text-align: right;\">\n",
       "      <th></th>\n",
       "      <th>ROA</th>\n",
       "      <th>Market Cap</th>\n",
       "      <th>Mean Return</th>\n",
       "      <th>Variance Return</th>\n",
       "      <th>cluster</th>\n",
       "    </tr>\n",
       "    <tr>\n",
       "      <th>Ticker</th>\n",
       "      <th></th>\n",
       "      <th></th>\n",
       "      <th></th>\n",
       "      <th></th>\n",
       "      <th></th>\n",
       "    </tr>\n",
       "  </thead>\n",
       "  <tbody>\n",
       "    <tr>\n",
       "      <th>ACES.JK</th>\n",
       "      <td>0.252813</td>\n",
       "      <td>-0.503589</td>\n",
       "      <td>0.412495</td>\n",
       "      <td>-0.015084</td>\n",
       "      <td>0</td>\n",
       "    </tr>\n",
       "    <tr>\n",
       "      <th>ADMR.JK</th>\n",
       "      <td>0.860011</td>\n",
       "      <td>-0.325757</td>\n",
       "      <td>0.133485</td>\n",
       "      <td>0.311211</td>\n",
       "      <td>0</td>\n",
       "    </tr>\n",
       "    <tr>\n",
       "      <th>ADRO.JK</th>\n",
       "      <td>0.471649</td>\n",
       "      <td>-0.248688</td>\n",
       "      <td>2.254371</td>\n",
       "      <td>0.823429</td>\n",
       "      <td>0</td>\n",
       "    </tr>\n",
       "    <tr>\n",
       "      <th>AKRA.JK</th>\n",
       "      <td>0.228107</td>\n",
       "      <td>-0.448638</td>\n",
       "      <td>-0.074903</td>\n",
       "      <td>-0.567337</td>\n",
       "      <td>0</td>\n",
       "    </tr>\n",
       "    <tr>\n",
       "      <th>AMMN.JK</th>\n",
       "      <td>-0.012974</td>\n",
       "      <td>2.448907</td>\n",
       "      <td>1.647973</td>\n",
       "      <td>0.691505</td>\n",
       "      <td>2</td>\n",
       "    </tr>\n",
       "  </tbody>\n",
       "</table>\n",
       "</div>"
      ],
      "text/plain": [
       "              ROA  Market Cap  Mean Return  Variance Return  cluster\n",
       "Ticker                                                              \n",
       "ACES.JK  0.252813   -0.503589     0.412495        -0.015084        0\n",
       "ADMR.JK  0.860011   -0.325757     0.133485         0.311211        0\n",
       "ADRO.JK  0.471649   -0.248688     2.254371         0.823429        0\n",
       "AKRA.JK  0.228107   -0.448638    -0.074903        -0.567337        0\n",
       "AMMN.JK -0.012974    2.448907     1.647973         0.691505        2"
      ]
     },
     "execution_count": 340,
     "metadata": {},
     "output_type": "execute_result"
    }
   ],
   "source": [
    "# Opsional: Tuning parameter eps dan min_samples\n",
    "df_gmm = df_final.copy()\n",
    "\n",
    "# GMM\n",
    "gmm = GaussianMixture(n_components = 3, random_state=0)\n",
    "gmm.fit(df_gmm)\n",
    "labelsom = gmm.predict(df_gmm)\n",
    "\n",
    "unique_labels = np.unique(labelsom)\n",
    "n_clusters_formed = len(unique_labels)\n",
    "print(f'Clusters present: {unique_labels}')\n",
    "print(f'Clusters sizes: {np.bincount(labelsom)}', '\\n')\n",
    "print(f'Silhouette Score: {silhouette_score(df_gmm, labelsom)}')\n",
    "print(f'Calinski-Harabasz Index: {calinski_harabasz_score(df_gmm, labelsom)}')\n",
    "print(f'Davies-Bouldin Index: {davies_bouldin_score(df_gmm, labelsom)}')\n",
    "\n",
    "df_gmm['cluster'] = labelsom\n",
    "data['Cluster'] = labelsom\n",
    "\n",
    "print(df_gmm.cluster.value_counts())\n",
    "df_gmm.head()"
   ]
  },
  {
   "cell_type": "code",
   "execution_count": 341,
   "metadata": {},
   "outputs": [
    {
     "name": "stdout",
     "output_type": "stream",
     "text": [
      "              ROA       ROE       Market Cap  Mean Return  Variance Return  \\\n",
      "Ticker                                                                       \n",
      "PGAS.JK  0.042140  0.103040   38422777430016     0.002017         0.000332   \n",
      "GOTO.JK -1.670984 -2.383206   91717776703488    -0.000042         0.001415   \n",
      "AMMN.JK  0.027717  0.055417  683483982725120     0.001989         0.000777   \n",
      "\n",
      "         Cluster  sharpe_ratio  \n",
      "Ticker                          \n",
      "PGAS.JK        0      0.097624  \n",
      "GOTO.JK        1     -0.007451  \n",
      "AMMN.JK        2      0.062818  \n"
     ]
    }
   ],
   "source": [
    "# Risk-free rate (contoh: 6% per tahun, diubah ke harian)\n",
    "risk_free_rate = 0.06 / 252\n",
    "\n",
    "# Hitung Sharpe Ratio\n",
    "data['sharpe_ratio'] = (data['Mean Return'] - risk_free_rate) / np.sqrt(data['Variance Return'])\n",
    "\n",
    "# Ambil saham terbaik dari setiap cluster\n",
    "best_stocks = data.loc[data.groupby('Cluster')['sharpe_ratio'].idxmax()]\n",
    "\n",
    "print(best_stocks)"
   ]
  },
  {
   "cell_type": "code",
   "execution_count": 342,
   "metadata": {},
   "outputs": [
    {
     "name": "stdout",
     "output_type": "stream",
     "text": [
      "65.08414737534632 %\n"
     ]
    },
    {
     "data": {
      "text/plain": [
       "<Axes: xlabel='PC_1', ylabel='PC_2'>"
      ]
     },
     "execution_count": 342,
     "metadata": {},
     "output_type": "execute_result"
    },
    {
     "data": {
      "image/png": "[encoded data removed]",
      "text/plain": [
       "<Figure size 1000x800 with 1 Axes>"
      ]
     },
     "metadata": {},
     "output_type": "display_data"
    }
   ],
   "source": [
    "# Gunakan Dimensionality Reduction dengan PCA untuk mempermudah melakukan visualisasi\n",
    "\n",
    "pca = PCA(n_components = 2)\n",
    "df_pca2 = pd.DataFrame(pca.fit_transform(df_gmm.iloc[:,:-1]),\n",
    "                      columns = ['PC_1', 'PC_2'],\n",
    "                      index = df_gmm.index)\n",
    "\n",
    "df_pca2 = pd.concat([df_pca2, df_gmm.cluster], axis = 1)\n",
    "# df_pca1.head()\n",
    "\n",
    "print(np.sum(pca.explained_variance_ratio_)*100, \"%\") # 2 Dimensi dapat menjelaskan keseluruhan fitur\n",
    "fig = plt.figure(figsize=(10, 8))\n",
    "ax = fig.add_subplot()\n",
    "sns.scatterplot(data = df_pca2, x = 'PC_1', y = 'PC_2', hue = 'cluster', s = 300, ax = ax)"
   ]
  },
  {
   "cell_type": "markdown",
   "metadata": {},
   "source": [
    "**3D**"
   ]
  },
  {
   "cell_type": "code",
   "execution_count": 343,
   "metadata": {},
   "outputs": [],
   "source": [
    "# Gunakan Dimensionality Reduction dengan PCA untuk mempermudah melakukan visualisasi\n",
    "\n",
    "pca = PCA(n_components = 3)\n",
    "df_pca_3 = pd.DataFrame(pca.fit_transform(df_gmm.iloc[:,:-1]),\n",
    "                      columns = ['PC1', 'PC2', 'PC3'],\n",
    "                      index = df_gmm.index)\n",
    "\n",
    "df_pca_3 = pd.concat([df_pca_3, df_gmm.cluster], axis = 1)\n",
    "# df_pca1.head()"
   ]
  },
  {
   "cell_type": "code",
   "execution_count": 344,
   "metadata": {},
   "outputs": [
    {
     "data": {
      "text/html": [
       "<div>\n",
       "<style scoped>\n",
       "    .dataframe tbody tr th:only-of-type {\n",
       "        vertical-align: middle;\n",
       "    }\n",
       "\n",
       "    .dataframe tbody tr th {\n",
       "        vertical-align: top;\n",
       "    }\n",
       "\n",
       "    .dataframe thead th {\n",
       "        text-align: right;\n",
       "    }\n",
       "</style>\n",
       "<table border=\"1\" class=\"dataframe\">\n",
       "  <thead>\n",
       "    <tr style=\"text-align: right;\">\n",
       "      <th></th>\n",
       "      <th>PC1</th>\n",
       "      <th>PC2</th>\n",
       "      <th>PC3</th>\n",
       "      <th>cluster</th>\n",
       "    </tr>\n",
       "    <tr>\n",
       "      <th>Ticker</th>\n",
       "      <th></th>\n",
       "      <th></th>\n",
       "      <th></th>\n",
       "      <th></th>\n",
       "    </tr>\n",
       "  </thead>\n",
       "  <tbody>\n",
       "    <tr>\n",
       "      <th>ACES.JK</th>\n",
       "      <td>-0.132589</td>\n",
       "      <td>-0.180676</td>\n",
       "      <td>-0.661453</td>\n",
       "      <td>0</td>\n",
       "    </tr>\n",
       "    <tr>\n",
       "      <th>ADMR.JK</th>\n",
       "      <td>-0.271514</td>\n",
       "      <td>-0.415203</td>\n",
       "      <td>-0.497805</td>\n",
       "      <td>0</td>\n",
       "    </tr>\n",
       "    <tr>\n",
       "      <th>ADRO.JK</th>\n",
       "      <td>-0.216669</td>\n",
       "      <td>1.171590</td>\n",
       "      <td>-2.045702</td>\n",
       "      <td>0</td>\n",
       "    </tr>\n",
       "    <tr>\n",
       "      <th>AKRA.JK</th>\n",
       "      <td>-0.391026</td>\n",
       "      <td>-0.516436</td>\n",
       "      <td>-0.168712</td>\n",
       "      <td>0</td>\n",
       "    </tr>\n",
       "    <tr>\n",
       "      <th>AMMN.JK</th>\n",
       "      <td>-0.591894</td>\n",
       "      <td>2.775036</td>\n",
       "      <td>0.198475</td>\n",
       "      <td>2</td>\n",
       "    </tr>\n",
       "  </tbody>\n",
       "</table>\n",
       "</div>"
      ],
      "text/plain": [
       "              PC1       PC2       PC3  cluster\n",
       "Ticker                                        \n",
       "ACES.JK -0.132589 -0.180676 -0.661453        0\n",
       "ADMR.JK -0.271514 -0.415203 -0.497805        0\n",
       "ADRO.JK -0.216669  1.171590 -2.045702        0\n",
       "AKRA.JK -0.391026 -0.516436 -0.168712        0\n",
       "AMMN.JK -0.591894  2.775036  0.198475        2"
      ]
     },
     "execution_count": 344,
     "metadata": {},
     "output_type": "execute_result"
    }
   ],
   "source": [
    "df_pca_3.head()"
   ]
  },
  {
   "cell_type": "code",
   "execution_count": 345,
   "metadata": {},
   "outputs": [
    {
     "data": {
      "application/vnd.plotly.v1+json": {
       "config": {
        "linkText": "Export to plot.ly",
        "plotlyServerURL": "https://plot.ly",
        "showLink": false
       },
       "data": [
        {
         "marker": {
          "color": "rgb(255,0,0)",
          "size": 10
         },
         "mode": "markers",
         "name": "Cluster 0",
         "type": "scatter3d",
         "x": [
          -0.13258933167139833,
          -0.27151370569962613,
          -0.21666891500981242,
          -0.39102598908244257,
          -0.7062574961774118,
          0.012979153523070372,
          1.3996885042181562,
          -0.7323633622152951,
          -0.4010151922797581,
          0.05182562964091612,
          -0.167228533521787,
          2.8774512451738357,
          1.6706025170335967,
          -0.4656685962140094,
          0.36761150618788385,
          -0.2058608297618417,
          -0.6817618009838836,
          0.25663548946536785,
          -0.9118993109083492,
          -0.012597211542830593,
          -0.10916202968931295,
          -0.033568029919112154,
          -1.3116233187926498,
          -0.27044434521957983,
          -0.5547042819495968,
          0.6070951015582875,
          1.523142825995926,
          0.8172018521756569,
          0.14955666435882026,
          -0.2798406388907766,
          -0.7422111889567657,
          0.17996569560990605,
          -0.927611918269625,
          -0.8610631402201301,
          0.5913955638122179,
          0.09527249755539131,
          -0.45389334324446473,
          -0.017686973781575643,
          -1.1046622717559937,
          0.10493746570856005
         ],
         "y": [
          -0.18067624831579526,
          -0.41520348411674723,
          1.1715896473802676,
          -0.5164359715761184,
          -0.06734959356321507,
          -0.47259927684580255,
          -0.10485468354657976,
          -0.016971897664353076,
          0.007163105922093962,
          -0.3406348490305404,
          1.5203756781959827,
          0.12193190132926786,
          -1.09491434570603,
          -0.3020472713521886,
          0.68816369313678,
          -0.11077372321537038,
          0.13375970427859415,
          -0.7616379221207461,
          0.1436850580621474,
          -0.7247753947159176,
          -1.2168287447930441,
          0.15905555546325792,
          -0.16401231927975132,
          -0.6110847912158037,
          -0.7583618441201021,
          -0.5040828683380852,
          -0.05237611421828289,
          -0.6684802620462741,
          -0.035350743704780654,
          -0.5528350128734505,
          0.6704256906175279,
          -0.4286061017571163,
          0.023178308053508442,
          -0.5945133866202599,
          -1.8998532562883066,
          -0.37613517112416045,
          -0.4824044535880356,
          -1.0328292838609068,
          0.43209200335139636,
          -1.8591275254745203
         ],
         "z": [
          -0.6614525371345473,
          -0.4978052229897982,
          -2.045701934221174,
          -0.16871185733148514,
          -0.08210207288139744,
          -0.11055781346099047,
          -0.3723662623894917,
          0.41002289567416006,
          0.3547525102491774,
          -0.23791653841225727,
          -1.7233971483923047,
          -0.2954303389500229,
          0.7884792433872193,
          0.013717231603436644,
          -1.5797692066086764,
          -0.4466112130426089,
          -0.16661635064086902,
          0.20579919429418608,
          -0.5767248159957917,
          0.2841419575292474,
          0.7154206006940709,
          -0.5008888149519917,
          -0.875590962245164,
          0.08162128564427212,
          0.3615454575397911,
          -0.1362112051073605,
          -0.3151557415280618,
          0.3750193926646921,
          -0.636171056510782,
          0.19168400784768116,
          -1.3950674634967355,
          -0.09108753377343198,
          -0.9337457545471314,
          -0.4817846997019511,
          1.6200599380207097,
          -0.28260278468314004,
          1.3636504049157967,
          0.613762706138272,
          -0.9285268199841764,
          1.2786877989343994
         ]
        },
        {
         "marker": {
          "color": "rgb(0,255,0)",
          "size": 10
         },
         "mode": "markers",
         "name": "Cluster 1",
         "type": "scatter3d",
         "x": [
          5.870262350656411
         ],
         "y": [
          2.5247294620445246
         ],
         "z": [
          0.7075386928154441
         ]
        },
        {
         "marker": {
          "color": "rgb(0,0,255)",
          "size": 10
         },
         "mode": "markers",
         "name": "Cluster 2",
         "type": "scatter3d",
         "x": [
          -0.5918938856768137,
          -2.1696655729959873,
          -0.8680534902344987,
          -0.9830893580086751
         ],
         "y": [
          2.77503578022166,
          3.4827542675756313,
          0.9922136536195307,
          1.4996030318201123
         ],
         "z": [
          0.1984746478974758,
          2.8506947865600485,
          2.0940074446046566,
          1.0329159519666042
         ]
        }
       ],
       "layout": {
        "margin": {
         "b": 0,
         "l": 0,
         "r": 0,
         "t": 0
        },
        "template": {
         "data": {
          "bar": [
           {
            "error_x": {
             "color": "#2a3f5f"
            },
            "error_y": {
             "color": "#2a3f5f"
            },
            "marker": {
             "line": {
              "color": "#E5ECF6",
              "width": 0.5
             },
             "pattern": {
              "fillmode": "overlay",
              "size": 10,
              "solidity": 0.2
             }
            },
            "type": "bar"
           }
          ],
          "barpolar": [
           {
            "marker": {
             "line": {
              "color": "#E5ECF6",
              "width": 0.5
             },
             "pattern": {
              "fillmode": "overlay",
              "size": 10,
              "solidity": 0.2
             }
            },
            "type": "barpolar"
           }
          ],
          "carpet": [
           {
            "aaxis": {
             "endlinecolor": "#2a3f5f",
             "gridcolor": "white",
             "linecolor": "white",
             "minorgridcolor": "white",
             "startlinecolor": "#2a3f5f"
            },
            "baxis": {
             "endlinecolor": "#2a3f5f",
             "gridcolor": "white",
             "linecolor": "white",
             "minorgridcolor": "white",
             "startlinecolor": "#2a3f5f"
            },
            "type": "carpet"
           }
          ],
          "choropleth": [
           {
            "colorbar": {
             "outlinewidth": 0,
             "ticks": ""
            },
            "type": "choropleth"
           }
          ],
          "contour": [
           {
            "colorbar": {
             "outlinewidth": 0,
             "ticks": ""
            },
            "colorscale": [
             [
              0,
              "#0d0887"
             ],
             [
              0.1111111111111111,
              "#46039f"
             ],
             [
              0.2222222222222222,
              "#7201a8"
             ],
             [
              0.3333333333333333,
              "#9c179e"
             ],
             [
              0.4444444444444444,
              "#bd3786"
             ],
             [
              0.5555555555555556,
              "#d8576b"
             ],
             [
              0.6666666666666666,
              "#ed7953"
             ],
             [
              0.7777777777777778,
              "#fb9f3a"
             ],
             [
              0.8888888888888888,
              "#fdca26"
             ],
             [
              1,
              "#f0f921"
             ]
            ],
            "type": "contour"
           }
          ],
          "contourcarpet": [
           {
            "colorbar": {
             "outlinewidth": 0,
             "ticks": ""
            },
            "type": "contourcarpet"
           }
          ],
          "heatmap": [
           {
            "colorbar": {
             "outlinewidth": 0,
             "ticks": ""
            },
            "colorscale": [
             [
              0,
              "#0d0887"
             ],
             [
              0.1111111111111111,
              "#46039f"
             ],
             [
              0.2222222222222222,
              "#7201a8"
             ],
             [
              0.3333333333333333,
              "#9c179e"
             ],
             [
              0.4444444444444444,
              "#bd3786"
             ],
             [
              0.5555555555555556,
              "#d8576b"
             ],
             [
              0.6666666666666666,
              "#ed7953"
             ],
             [
              0.7777777777777778,
              "#fb9f3a"
             ],
             [
              0.8888888888888888,
              "#fdca26"
             ],
             [
              1,
              "#f0f921"
             ]
            ],
            "type": "heatmap"
           }
          ],
          "heatmapgl": [
           {
            "colorbar": {
             "outlinewidth": 0,
             "ticks": ""
            },
            "colorscale": [
             [
              0,
              "#0d0887"
             ],
             [
              0.1111111111111111,
              "#46039f"
             ],
             [
              0.2222222222222222,
              "#7201a8"
             ],
             [
              0.3333333333333333,
              "#9c179e"
             ],
             [
              0.4444444444444444,
              "#bd3786"
             ],
             [
              0.5555555555555556,
              "#d8576b"
             ],
             [
              0.6666666666666666,
              "#ed7953"
             ],
             [
              0.7777777777777778,
              "#fb9f3a"
             ],
             [
              0.8888888888888888,
              "#fdca26"
             ],
             [
              1,
              "#f0f921"
             ]
            ],
            "type": "heatmapgl"
           }
          ],
          "histogram": [
           {
            "marker": {
             "pattern": {
              "fillmode": "overlay",
              "size": 10,
              "solidity": 0.2
             }
            },
            "type": "histogram"
           }
          ],
          "histogram2d": [
           {
            "colorbar": {
             "outlinewidth": 0,
             "ticks": ""
            },
            "colorscale": [
             [
              0,
              "#0d0887"
             ],
             [
              0.1111111111111111,
              "#46039f"
             ],
             [
              0.2222222222222222,
              "#7201a8"
             ],
             [
              0.3333333333333333,
              "#9c179e"
             ],
             [
              0.4444444444444444,
              "#bd3786"
             ],
             [
              0.5555555555555556,
              "#d8576b"
             ],
             [
              0.6666666666666666,
              "#ed7953"
             ],
             [
              0.7777777777777778,
              "#fb9f3a"
             ],
             [
              0.8888888888888888,
              "#fdca26"
             ],
             [
              1,
              "#f0f921"
             ]
            ],
            "type": "histogram2d"
           }
          ],
          "histogram2dcontour": [
           {
            "colorbar": {
             "outlinewidth": 0,
             "ticks": ""
            },
            "colorscale": [
             [
              0,
              "#0d0887"
             ],
             [
              0.1111111111111111,
              "#46039f"
             ],
             [
              0.2222222222222222,
              "#7201a8"
             ],
             [
              0.3333333333333333,
              "#9c179e"
             ],
             [
              0.4444444444444444,
              "#bd3786"
             ],
             [
              0.5555555555555556,
              "#d8576b"
             ],
             [
              0.6666666666666666,
              "#ed7953"
             ],
             [
              0.7777777777777778,
              "#fb9f3a"
             ],
             [
              0.8888888888888888,
              "#fdca26"
             ],
             [
              1,
              "#f0f921"
             ]
            ],
            "type": "histogram2dcontour"
           }
          ],
          "mesh3d": [
           {
            "colorbar": {
             "outlinewidth": 0,
             "ticks": ""
            },
            "type": "mesh3d"
           }
          ],
          "parcoords": [
           {
            "line": {
             "colorbar": {
              "outlinewidth": 0,
              "ticks": ""
             }
            },
            "type": "parcoords"
           }
          ],
          "pie": [
           {
            "automargin": true,
            "type": "pie"
           }
          ],
          "scatter": [
           {
            "fillpattern": {
             "fillmode": "overlay",
             "size": 10,
             "solidity": 0.2
            },
            "type": "scatter"
           }
          ],
          "scatter3d": [
           {
            "line": {
             "colorbar": {
              "outlinewidth": 0,
              "ticks": ""
             }
            },
            "marker": {
             "colorbar": {
              "outlinewidth": 0,
              "ticks": ""
             }
            },
            "type": "scatter3d"
           }
          ],
          "scattercarpet": [
           {
            "marker": {
             "colorbar": {
              "outlinewidth": 0,
              "ticks": ""
             }
            },
            "type": "scattercarpet"
           }
          ],
          "scattergeo": [
           {
            "marker": {
             "colorbar": {
              "outlinewidth": 0,
              "ticks": ""
             }
            },
            "type": "scattergeo"
           }
          ],
          "scattergl": [
           {
            "marker": {
             "colorbar": {
              "outlinewidth": 0,
              "ticks": ""
             }
            },
            "type": "scattergl"
           }
          ],
          "scattermapbox": [
           {
            "marker": {
             "colorbar": {
              "outlinewidth": 0,
              "ticks": ""
             }
            },
            "type": "scattermapbox"
           }
          ],
          "scatterpolar": [
           {
            "marker": {
             "colorbar": {
              "outlinewidth": 0,
              "ticks": ""
             }
            },
            "type": "scatterpolar"
           }
          ],
          "scatterpolargl": [
           {
            "marker": {
             "colorbar": {
              "outlinewidth": 0,
              "ticks": ""
             }
            },
            "type": "scatterpolargl"
           }
          ],
          "scatterternary": [
           {
            "marker": {
             "colorbar": {
              "outlinewidth": 0,
              "ticks": ""
             }
            },
            "type": "scatterternary"
           }
          ],
          "surface": [
           {
            "colorbar": {
             "outlinewidth": 0,
             "ticks": ""
            },
            "colorscale": [
             [
              0,
              "#0d0887"
             ],
             [
              0.1111111111111111,
              "#46039f"
             ],
             [
              0.2222222222222222,
              "#7201a8"
             ],
             [
              0.3333333333333333,
              "#9c179e"
             ],
             [
              0.4444444444444444,
              "#bd3786"
             ],
             [
              0.5555555555555556,
              "#d8576b"
             ],
             [
              0.6666666666666666,
              "#ed7953"
             ],
             [
              0.7777777777777778,
              "#fb9f3a"
             ],
             [
              0.8888888888888888,
              "#fdca26"
             ],
             [
              1,
              "#f0f921"
             ]
            ],
            "type": "surface"
           }
          ],
          "table": [
           {
            "cells": {
             "fill": {
              "color": "#EBF0F8"
             },
             "line": {
              "color": "white"
             }
            },
            "header": {
             "fill": {
              "color": "#C8D4E3"
             },
             "line": {
              "color": "white"
             }
            },
            "type": "table"
           }
          ]
         },
         "layout": {
          "annotationdefaults": {
           "arrowcolor": "#2a3f5f",
           "arrowhead": 0,
           "arrowwidth": 1
          },
          "autotypenumbers": "strict",
          "coloraxis": {
           "colorbar": {
            "outlinewidth": 0,
            "ticks": ""
           }
          },
          "colorscale": {
           "diverging": [
            [
             0,
             "#8e0152"
            ],
            [
             0.1,
             "#c51b7d"
            ],
            [
             0.2,
             "#de77ae"
            ],
            [
             0.3,
             "#f1b6da"
            ],
            [
             0.4,
             "#fde0ef"
            ],
            [
             0.5,
             "#f7f7f7"
            ],
            [
             0.6,
             "#e6f5d0"
            ],
            [
             0.7,
             "#b8e186"
            ],
            [
             0.8,
             "#7fbc41"
            ],
            [
             0.9,
             "#4d9221"
            ],
            [
             1,
             "#276419"
            ]
           ],
           "sequential": [
            [
             0,
             "#0d0887"
            ],
            [
             0.1111111111111111,
             "#46039f"
            ],
            [
             0.2222222222222222,
             "#7201a8"
            ],
            [
             0.3333333333333333,
             "#9c179e"
            ],
            [
             0.4444444444444444,
             "#bd3786"
            ],
            [
             0.5555555555555556,
             "#d8576b"
            ],
            [
             0.6666666666666666,
             "#ed7953"
            ],
            [
             0.7777777777777778,
             "#fb9f3a"
            ],
            [
             0.8888888888888888,
             "#fdca26"
            ],
            [
             1,
             "#f0f921"
            ]
           ],
           "sequentialminus": [
            [
             0,
             "#0d0887"
            ],
            [
             0.1111111111111111,
             "#46039f"
            ],
            [
             0.2222222222222222,
             "#7201a8"
            ],
            [
             0.3333333333333333,
             "#9c179e"
            ],
            [
             0.4444444444444444,
             "#bd3786"
            ],
            [
             0.5555555555555556,
             "#d8576b"
            ],
            [
             0.6666666666666666,
             "#ed7953"
            ],
            [
             0.7777777777777778,
             "#fb9f3a"
            ],
            [
             0.8888888888888888,
             "#fdca26"
            ],
            [
             1,
             "#f0f921"
            ]
           ]
          },
          "colorway": [
           "#636efa",
           "#EF553B",
           "#00cc96",
           "#ab63fa",
           "#FFA15A",
           "#19d3f3",
           "#FF6692",
           "#B6E880",
           "#FF97FF",
           "#FECB52"
          ],
          "font": {
           "color": "#2a3f5f"
          },
          "geo": {
           "bgcolor": "white",
           "lakecolor": "white",
           "landcolor": "#E5ECF6",
           "showlakes": true,
           "showland": true,
           "subunitcolor": "white"
          },
          "hoverlabel": {
           "align": "left"
          },
          "hovermode": "closest",
          "mapbox": {
           "style": "light"
          },
          "paper_bgcolor": "white",
          "plot_bgcolor": "#E5ECF6",
          "polar": {
           "angularaxis": {
            "gridcolor": "white",
            "linecolor": "white",
            "ticks": ""
           },
           "bgcolor": "#E5ECF6",
           "radialaxis": {
            "gridcolor": "white",
            "linecolor": "white",
            "ticks": ""
           }
          },
          "scene": {
           "xaxis": {
            "backgroundcolor": "#E5ECF6",
            "gridcolor": "white",
            "gridwidth": 2,
            "linecolor": "white",
            "showbackground": true,
            "ticks": "",
            "zerolinecolor": "white"
           },
           "yaxis": {
            "backgroundcolor": "#E5ECF6",
            "gridcolor": "white",
            "gridwidth": 2,
            "linecolor": "white",
            "showbackground": true,
            "ticks": "",
            "zerolinecolor": "white"
           },
           "zaxis": {
            "backgroundcolor": "#E5ECF6",
            "gridcolor": "white",
            "gridwidth": 2,
            "linecolor": "white",
            "showbackground": true,
            "ticks": "",
            "zerolinecolor": "white"
           }
          },
          "shapedefaults": {
           "line": {
            "color": "#2a3f5f"
           }
          },
          "ternary": {
           "aaxis": {
            "gridcolor": "white",
            "linecolor": "white",
            "ticks": ""
           },
           "baxis": {
            "gridcolor": "white",
            "linecolor": "white",
            "ticks": ""
           },
           "bgcolor": "#E5ECF6",
           "caxis": {
            "gridcolor": "white",
            "linecolor": "white",
            "ticks": ""
           }
          },
          "title": {
           "x": 0.05
          },
          "xaxis": {
           "automargin": true,
           "gridcolor": "white",
           "linecolor": "white",
           "ticks": "",
           "title": {
            "standoff": 15
           },
           "zerolinecolor": "white",
           "zerolinewidth": 2
          },
          "yaxis": {
           "automargin": true,
           "gridcolor": "white",
           "linecolor": "white",
           "ticks": "",
           "title": {
            "standoff": 15
           },
           "zerolinecolor": "white",
           "zerolinewidth": 2
          }
         }
        }
       }
      },
      "text/html": [
       "<div>                            <div id=\"e5cb03f7-8997-426a-9d61-90866d92835a\" class=\"plotly-graph-div\" style=\"height:525px; width:100%;\"></div>            <script type=\"text/javascript\">                require([\"plotly\"], function(Plotly) {                    window.PLOTLYENV=window.PLOTLYENV || {};                                    if (document.getElementById(\"e5cb03f7-8997-426a-9d61-90866d92835a\")) {                    Plotly.newPlot(                        \"e5cb03f7-8997-426a-9d61-90866d92835a\",                        [{\"marker\":{\"color\":\"rgb(255,0,0)\",\"size\":10},\"mode\":\"markers\",\"name\":\"Cluster 0\",\"x\":[-0.13258933167139833,-0.27151370569962613,-0.21666891500981242,-0.39102598908244257,-0.7062574961774118,0.012979153523070372,1.3996885042181562,-0.7323633622152951,-0.4010151922797581,0.05182562964091612,-0.167228533521787,2.8774512451738357,1.6706025170335967,-0.4656685962140094,0.36761150618788385,-0.2058608297618417,-0.6817618009838836,0.25663548946536785,-0.9118993109083492,-0.012597211542830593,-0.10916202968931295,-0.033568029919112154,-1.3116233187926498,-0.27044434521957983,-0.5547042819495968,0.6070951015582875,1.523142825995926,0.8172018521756569,0.14955666435882026,-0.2798406388907766,-0.7422111889567657,0.17996569560990605,-0.927611918269625,-0.8610631402201301,0.5913955638122179,0.09527249755539131,-0.45389334324446473,-0.017686973781575643,-1.1046622717559937,0.10493746570856005],\"y\":[-0.18067624831579526,-0.41520348411674723,1.1715896473802676,-0.5164359715761184,-0.06734959356321507,-0.47259927684580255,-0.10485468354657976,-0.016971897664353076,0.007163105922093962,-0.3406348490305404,1.5203756781959827,0.12193190132926786,-1.09491434570603,-0.3020472713521886,0.68816369313678,-0.11077372321537038,0.13375970427859415,-0.7616379221207461,0.1436850580621474,-0.7247753947159176,-1.2168287447930441,0.15905555546325792,-0.16401231927975132,-0.6110847912158037,-0.7583618441201021,-0.5040828683380852,-0.05237611421828289,-0.6684802620462741,-0.035350743704780654,-0.5528350128734505,0.6704256906175279,-0.4286061017571163,0.023178308053508442,-0.5945133866202599,-1.8998532562883066,-0.37613517112416045,-0.4824044535880356,-1.0328292838609068,0.43209200335139636,-1.8591275254745203],\"z\":[-0.6614525371345473,-0.4978052229897982,-2.045701934221174,-0.16871185733148514,-0.08210207288139744,-0.11055781346099047,-0.3723662623894917,0.41002289567416006,0.3547525102491774,-0.23791653841225727,-1.7233971483923047,-0.2954303389500229,0.7884792433872193,0.013717231603436644,-1.5797692066086764,-0.4466112130426089,-0.16661635064086902,0.20579919429418608,-0.5767248159957917,0.2841419575292474,0.7154206006940709,-0.5008888149519917,-0.875590962245164,0.08162128564427212,0.3615454575397911,-0.1362112051073605,-0.3151557415280618,0.3750193926646921,-0.636171056510782,0.19168400784768116,-1.3950674634967355,-0.09108753377343198,-0.9337457545471314,-0.4817846997019511,1.6200599380207097,-0.28260278468314004,1.3636504049157967,0.613762706138272,-0.9285268199841764,1.2786877989343994],\"type\":\"scatter3d\"},{\"marker\":{\"color\":\"rgb(0,255,0)\",\"size\":10},\"mode\":\"markers\",\"name\":\"Cluster 1\",\"x\":[5.870262350656411],\"y\":[2.5247294620445246],\"z\":[0.7075386928154441],\"type\":\"scatter3d\"},{\"marker\":{\"color\":\"rgb(0,0,255)\",\"size\":10},\"mode\":\"markers\",\"name\":\"Cluster 2\",\"x\":[-0.5918938856768137,-2.1696655729959873,-0.8680534902344987,-0.9830893580086751],\"y\":[2.77503578022166,3.4827542675756313,0.9922136536195307,1.4996030318201123],\"z\":[0.1984746478974758,2.8506947865600485,2.0940074446046566,1.0329159519666042],\"type\":\"scatter3d\"}],                        {\"margin\":{\"b\":0,\"l\":0,\"r\":0,\"t\":0},\"template\":{\"data\":{\"barpolar\":[{\"marker\":{\"line\":{\"color\":\"#E5ECF6\",\"width\":0.5},\"pattern\":{\"fillmode\":\"overlay\",\"size\":10,\"solidity\":0.2}},\"type\":\"barpolar\"}],\"bar\":[{\"error_x\":{\"color\":\"#2a3f5f\"},\"error_y\":{\"color\":\"#2a3f5f\"},\"marker\":{\"line\":{\"color\":\"#E5ECF6\",\"width\":0.5},\"pattern\":{\"fillmode\":\"overlay\",\"size\":10,\"solidity\":0.2}},\"type\":\"bar\"}],\"carpet\":[{\"aaxis\":{\"endlinecolor\":\"#2a3f5f\",\"gridcolor\":\"white\",\"linecolor\":\"white\",\"minorgridcolor\":\"white\",\"startlinecolor\":\"#2a3f5f\"},\"baxis\":{\"endlinecolor\":\"#2a3f5f\",\"gridcolor\":\"white\",\"linecolor\":\"white\",\"minorgridcolor\":\"white\",\"startlinecolor\":\"#2a3f5f\"},\"type\":\"carpet\"}],\"choropleth\":[{\"colorbar\":{\"outlinewidth\":0,\"ticks\":\"\"},\"type\":\"choropleth\"}],\"contourcarpet\":[{\"colorbar\":{\"outlinewidth\":0,\"ticks\":\"\"},\"type\":\"contourcarpet\"}],\"contour\":[{\"colorbar\":{\"outlinewidth\":0,\"ticks\":\"\"},\"colorscale\":[[0.0,\"#0d0887\"],[0.1111111111111111,\"#46039f\"],[0.2222222222222222,\"#7201a8\"],[0.3333333333333333,\"#9c179e\"],[0.4444444444444444,\"#bd3786\"],[0.5555555555555556,\"#d8576b\"],[0.6666666666666666,\"#ed7953\"],[0.7777777777777778,\"#fb9f3a\"],[0.8888888888888888,\"#fdca26\"],[1.0,\"#f0f921\"]],\"type\":\"contour\"}],\"heatmapgl\":[{\"colorbar\":{\"outlinewidth\":0,\"ticks\":\"\"},\"colorscale\":[[0.0,\"#0d0887\"],[0.1111111111111111,\"#46039f\"],[0.2222222222222222,\"#7201a8\"],[0.3333333333333333,\"#9c179e\"],[0.4444444444444444,\"#bd3786\"],[0.5555555555555556,\"#d8576b\"],[0.6666666666666666,\"#ed7953\"],[0.7777777777777778,\"#fb9f3a\"],[0.8888888888888888,\"#fdca26\"],[1.0,\"#f0f921\"]],\"type\":\"heatmapgl\"}],\"heatmap\":[{\"colorbar\":{\"outlinewidth\":0,\"ticks\":\"\"},\"colorscale\":[[0.0,\"#0d0887\"],[0.1111111111111111,\"#46039f\"],[0.2222222222222222,\"#7201a8\"],[0.3333333333333333,\"#9c179e\"],[0.4444444444444444,\"#bd3786\"],[0.5555555555555556,\"#d8576b\"],[0.6666666666666666,\"#ed7953\"],[0.7777777777777778,\"#fb9f3a\"],[0.8888888888888888,\"#fdca26\"],[1.0,\"#f0f921\"]],\"type\":\"heatmap\"}],\"histogram2dcontour\":[{\"colorbar\":{\"outlinewidth\":0,\"ticks\":\"\"},\"colorscale\":[[0.0,\"#0d0887\"],[0.1111111111111111,\"#46039f\"],[0.2222222222222222,\"#7201a8\"],[0.3333333333333333,\"#9c179e\"],[0.4444444444444444,\"#bd3786\"],[0.5555555555555556,\"#d8576b\"],[0.6666666666666666,\"#ed7953\"],[0.7777777777777778,\"#fb9f3a\"],[0.8888888888888888,\"#fdca26\"],[1.0,\"#f0f921\"]],\"type\":\"histogram2dcontour\"}],\"histogram2d\":[{\"colorbar\":{\"outlinewidth\":0,\"ticks\":\"\"},\"colorscale\":[[0.0,\"#0d0887\"],[0.1111111111111111,\"#46039f\"],[0.2222222222222222,\"#7201a8\"],[0.3333333333333333,\"#9c179e\"],[0.4444444444444444,\"#bd3786\"],[0.5555555555555556,\"#d8576b\"],[0.6666666666666666,\"#ed7953\"],[0.7777777777777778,\"#fb9f3a\"],[0.8888888888888888,\"#fdca26\"],[1.0,\"#f0f921\"]],\"type\":\"histogram2d\"}],\"histogram\":[{\"marker\":{\"pattern\":{\"fillmode\":\"overlay\",\"size\":10,\"solidity\":0.2}},\"type\":\"histogram\"}],\"mesh3d\":[{\"colorbar\":{\"outlinewidth\":0,\"ticks\":\"\"},\"type\":\"mesh3d\"}],\"parcoords\":[{\"line\":{\"colorbar\":{\"outlinewidth\":0,\"ticks\":\"\"}},\"type\":\"parcoords\"}],\"pie\":[{\"automargin\":true,\"type\":\"pie\"}],\"scatter3d\":[{\"line\":{\"colorbar\":{\"outlinewidth\":0,\"ticks\":\"\"}},\"marker\":{\"colorbar\":{\"outlinewidth\":0,\"ticks\":\"\"}},\"type\":\"scatter3d\"}],\"scattercarpet\":[{\"marker\":{\"colorbar\":{\"outlinewidth\":0,\"ticks\":\"\"}},\"type\":\"scattercarpet\"}],\"scattergeo\":[{\"marker\":{\"colorbar\":{\"outlinewidth\":0,\"ticks\":\"\"}},\"type\":\"scattergeo\"}],\"scattergl\":[{\"marker\":{\"colorbar\":{\"outlinewidth\":0,\"ticks\":\"\"}},\"type\":\"scattergl\"}],\"scattermapbox\":[{\"marker\":{\"colorbar\":{\"outlinewidth\":0,\"ticks\":\"\"}},\"type\":\"scattermapbox\"}],\"scatterpolargl\":[{\"marker\":{\"colorbar\":{\"outlinewidth\":0,\"ticks\":\"\"}},\"type\":\"scatterpolargl\"}],\"scatterpolar\":[{\"marker\":{\"colorbar\":{\"outlinewidth\":0,\"ticks\":\"\"}},\"type\":\"scatterpolar\"}],\"scatter\":[{\"fillpattern\":{\"fillmode\":\"overlay\",\"size\":10,\"solidity\":0.2},\"type\":\"scatter\"}],\"scatterternary\":[{\"marker\":{\"colorbar\":{\"outlinewidth\":0,\"ticks\":\"\"}},\"type\":\"scatterternary\"}],\"surface\":[{\"colorbar\":{\"outlinewidth\":0,\"ticks\":\"\"},\"colorscale\":[[0.0,\"#0d0887\"],[0.1111111111111111,\"#46039f\"],[0.2222222222222222,\"#7201a8\"],[0.3333333333333333,\"#9c179e\"],[0.4444444444444444,\"#bd3786\"],[0.5555555555555556,\"#d8576b\"],[0.6666666666666666,\"#ed7953\"],[0.7777777777777778,\"#fb9f3a\"],[0.8888888888888888,\"#fdca26\"],[1.0,\"#f0f921\"]],\"type\":\"surface\"}],\"table\":[{\"cells\":{\"fill\":{\"color\":\"#EBF0F8\"},\"line\":{\"color\":\"white\"}},\"header\":{\"fill\":{\"color\":\"#C8D4E3\"},\"line\":{\"color\":\"white\"}},\"type\":\"table\"}]},\"layout\":{\"annotationdefaults\":{\"arrowcolor\":\"#2a3f5f\",\"arrowhead\":0,\"arrowwidth\":1},\"autotypenumbers\":\"strict\",\"coloraxis\":{\"colorbar\":{\"outlinewidth\":0,\"ticks\":\"\"}},\"colorscale\":{\"diverging\":[[0,\"#8e0152\"],[0.1,\"#c51b7d\"],[0.2,\"#de77ae\"],[0.3,\"#f1b6da\"],[0.4,\"#fde0ef\"],[0.5,\"#f7f7f7\"],[0.6,\"#e6f5d0\"],[0.7,\"#b8e186\"],[0.8,\"#7fbc41\"],[0.9,\"#4d9221\"],[1,\"#276419\"]],\"sequential\":[[0.0,\"#0d0887\"],[0.1111111111111111,\"#46039f\"],[0.2222222222222222,\"#7201a8\"],[0.3333333333333333,\"#9c179e\"],[0.4444444444444444,\"#bd3786\"],[0.5555555555555556,\"#d8576b\"],[0.6666666666666666,\"#ed7953\"],[0.7777777777777778,\"#fb9f3a\"],[0.8888888888888888,\"#fdca26\"],[1.0,\"#f0f921\"]],\"sequentialminus\":[[0.0,\"#0d0887\"],[0.1111111111111111,\"#46039f\"],[0.2222222222222222,\"#7201a8\"],[0.3333333333333333,\"#9c179e\"],[0.4444444444444444,\"#bd3786\"],[0.5555555555555556,\"#d8576b\"],[0.6666666666666666,\"#ed7953\"],[0.7777777777777778,\"#fb9f3a\"],[0.8888888888888888,\"#fdca26\"],[1.0,\"#f0f921\"]]},\"colorway\":[\"#636efa\",\"#EF553B\",\"#00cc96\",\"#ab63fa\",\"#FFA15A\",\"#19d3f3\",\"#FF6692\",\"#B6E880\",\"#FF97FF\",\"#FECB52\"],\"font\":{\"color\":\"#2a3f5f\"},\"geo\":{\"bgcolor\":\"white\",\"lakecolor\":\"white\",\"landcolor\":\"#E5ECF6\",\"showlakes\":true,\"showland\":true,\"subunitcolor\":\"white\"},\"hoverlabel\":{\"align\":\"left\"},\"hovermode\":\"closest\",\"mapbox\":{\"style\":\"light\"},\"paper_bgcolor\":\"white\",\"plot_bgcolor\":\"#E5ECF6\",\"polar\":{\"angularaxis\":{\"gridcolor\":\"white\",\"linecolor\":\"white\",\"ticks\":\"\"},\"bgcolor\":\"#E5ECF6\",\"radialaxis\":{\"gridcolor\":\"white\",\"linecolor\":\"white\",\"ticks\":\"\"}},\"scene\":{\"xaxis\":{\"backgroundcolor\":\"#E5ECF6\",\"gridcolor\":\"white\",\"gridwidth\":2,\"linecolor\":\"white\",\"showbackground\":true,\"ticks\":\"\",\"zerolinecolor\":\"white\"},\"yaxis\":{\"backgroundcolor\":\"#E5ECF6\",\"gridcolor\":\"white\",\"gridwidth\":2,\"linecolor\":\"white\",\"showbackground\":true,\"ticks\":\"\",\"zerolinecolor\":\"white\"},\"zaxis\":{\"backgroundcolor\":\"#E5ECF6\",\"gridcolor\":\"white\",\"gridwidth\":2,\"linecolor\":\"white\",\"showbackground\":true,\"ticks\":\"\",\"zerolinecolor\":\"white\"}},\"shapedefaults\":{\"line\":{\"color\":\"#2a3f5f\"}},\"ternary\":{\"aaxis\":{\"gridcolor\":\"white\",\"linecolor\":\"white\",\"ticks\":\"\"},\"baxis\":{\"gridcolor\":\"white\",\"linecolor\":\"white\",\"ticks\":\"\"},\"bgcolor\":\"#E5ECF6\",\"caxis\":{\"gridcolor\":\"white\",\"linecolor\":\"white\",\"ticks\":\"\"}},\"title\":{\"x\":0.05},\"xaxis\":{\"automargin\":true,\"gridcolor\":\"white\",\"linecolor\":\"white\",\"ticks\":\"\",\"title\":{\"standoff\":15},\"zerolinecolor\":\"white\",\"zerolinewidth\":2},\"yaxis\":{\"automargin\":true,\"gridcolor\":\"white\",\"linecolor\":\"white\",\"ticks\":\"\",\"title\":{\"standoff\":15},\"zerolinecolor\":\"white\",\"zerolinewidth\":2}}}},                        {\"responsive\": true}                    ).then(function(){\n",
       "                            \n",
       "var gd = document.getElementById('e5cb03f7-8997-426a-9d61-90866d92835a');\n",
       "var x = new MutationObserver(function (mutations, observer) {{\n",
       "        var display = window.getComputedStyle(gd).display;\n",
       "        if (!display || display === 'none') {{\n",
       "            console.log([gd, 'removed!']);\n",
       "            Plotly.purge(gd);\n",
       "            observer.disconnect();\n",
       "        }}\n",
       "}});\n",
       "\n",
       "// Listen for the removal of the full notebook cells\n",
       "var notebookContainer = gd.closest('#notebook-container');\n",
       "if (notebookContainer) {{\n",
       "    x.observe(notebookContainer, {childList: true});\n",
       "}}\n",
       "\n",
       "// Listen for the clearing of the current output cell\n",
       "var outputEl = gd.closest('.output');\n",
       "if (outputEl) {{\n",
       "    x.observe(outputEl, {childList: true});\n",
       "}}\n",
       "\n",
       "                        })                };                });            </script>        </div>"
      ]
     },
     "metadata": {},
     "output_type": "display_data"
    }
   ],
   "source": [
    "# membuat visualisasi 3D untuk setiap klaster\n",
    "# klaster 1\n",
    "Cluster0= go.Scatter3d(\n",
    "        x=df_pca_3[df_pca_3['cluster']==0]['PC1'],\n",
    "        y=df_pca_3[df_pca_3['cluster']==0]['PC2'],\n",
    "        z=df_pca_3[df_pca_3['cluster']==0]['PC3'],\n",
    "        mode=\"markers\",\n",
    "        marker=dict(\n",
    "                    size=10,\n",
    "                    color=\"rgb(255,0,0)\",\n",
    "        ),\n",
    "        name=\"Cluster 0\"\n",
    ")\n",
    "\n",
    "#klaster 2\n",
    "Cluster1= go.Scatter3d(\n",
    "        x=df_pca_3[df_pca_3['cluster']==1]['PC1'],\n",
    "        y=df_pca_3[df_pca_3['cluster']==1]['PC2'],\n",
    "        z=df_pca_3[df_pca_3['cluster']==1]['PC3'],\n",
    "        mode=\"markers\",\n",
    "        marker=dict(\n",
    "                    size=10,\n",
    "                    color=\"rgb(0,255,0)\",\n",
    "        ),\n",
    "        name=\"Cluster 1\"\n",
    ")\n",
    "\n",
    "# klaster 3\n",
    "Cluster2= go.Scatter3d(\n",
    "        x=df_pca_3[df_pca_3['cluster']==2]['PC1'],\n",
    "        y=df_pca_3[df_pca_3['cluster']==2]['PC2'],\n",
    "        z=df_pca_3[df_pca_3['cluster']==2]['PC3'],\n",
    "        mode=\"markers\",\n",
    "        marker=dict(\n",
    "                    size=10,\n",
    "                    color=\"rgb(0,0,255)\",\n",
    "        ),\n",
    "        name=\"Cluster 2\"\n",
    ")\n",
    "\n",
    "\n",
    "data_plot_km=[Cluster0,Cluster1,Cluster2]\n",
    "\n",
    "# membuat plot\n",
    "layout = go.Layout(\n",
    "    margin=dict(l=0, r=0, b=0, t=0))\n",
    "\n",
    "fig=go.Figure(data = data_plot_km, layout = layout)\n",
    "iplot(fig)"
   ]
  },
  {
   "cell_type": "markdown",
   "metadata": {},
   "source": [
    "# OPTICS"
   ]
  },
  {
   "cell_type": "code",
   "execution_count": 387,
   "metadata": {},
   "outputs": [
    {
     "name": "stdout",
     "output_type": "stream",
     "text": [
      "Clusters present: [-1  0  1]\n",
      "Number of clusters formed: 2\n",
      "Clusters sizes: [29 13  3] \n",
      "\n",
      "Silhouette Score: 0.21355984151956275\n",
      "Calinski-Harabasz Index: 4.904944281786961\n",
      "Davies-Bouldin Index: 1.0072188008483716\n",
      "cluster\n",
      "-1    29\n",
      " 0    13\n",
      " 1     3\n",
      "Name: count, dtype: int64\n"
     ]
    },
    {
     "data": {
      "text/html": [
       "<div>\n",
       "<style scoped>\n",
       "    .dataframe tbody tr th:only-of-type {\n",
       "        vertical-align: middle;\n",
       "    }\n",
       "\n",
       "    .dataframe tbody tr th {\n",
       "        vertical-align: top;\n",
       "    }\n",
       "\n",
       "    .dataframe thead th {\n",
       "        text-align: right;\n",
       "    }\n",
       "</style>\n",
       "<table border=\"1\" class=\"dataframe\">\n",
       "  <thead>\n",
       "    <tr style=\"text-align: right;\">\n",
       "      <th></th>\n",
       "      <th>ROE</th>\n",
       "      <th>Market Cap</th>\n",
       "      <th>Mean Return</th>\n",
       "      <th>Variance Return</th>\n",
       "      <th>cluster</th>\n",
       "    </tr>\n",
       "    <tr>\n",
       "      <th>Ticker</th>\n",
       "      <th></th>\n",
       "      <th></th>\n",
       "      <th></th>\n",
       "      <th></th>\n",
       "      <th></th>\n",
       "    </tr>\n",
       "  </thead>\n",
       "  <tbody>\n",
       "    <tr>\n",
       "      <th>ACES.JK</th>\n",
       "      <td>0.019841</td>\n",
       "      <td>-0.503589</td>\n",
       "      <td>0.412495</td>\n",
       "      <td>-0.015084</td>\n",
       "      <td>0</td>\n",
       "    </tr>\n",
       "    <tr>\n",
       "      <th>ADMR.JK</th>\n",
       "      <td>0.778213</td>\n",
       "      <td>-0.325757</td>\n",
       "      <td>0.133485</td>\n",
       "      <td>0.311211</td>\n",
       "      <td>-1</td>\n",
       "    </tr>\n",
       "    <tr>\n",
       "      <th>ADRO.JK</th>\n",
       "      <td>0.293330</td>\n",
       "      <td>-0.248688</td>\n",
       "      <td>2.254371</td>\n",
       "      <td>0.823429</td>\n",
       "      <td>-1</td>\n",
       "    </tr>\n",
       "    <tr>\n",
       "      <th>AKRA.JK</th>\n",
       "      <td>0.303760</td>\n",
       "      <td>-0.448638</td>\n",
       "      <td>-0.074903</td>\n",
       "      <td>-0.567337</td>\n",
       "      <td>0</td>\n",
       "    </tr>\n",
       "    <tr>\n",
       "      <th>AMMN.JK</th>\n",
       "      <td>-0.139658</td>\n",
       "      <td>2.448907</td>\n",
       "      <td>1.647973</td>\n",
       "      <td>0.691505</td>\n",
       "      <td>-1</td>\n",
       "    </tr>\n",
       "  </tbody>\n",
       "</table>\n",
       "</div>"
      ],
      "text/plain": [
       "              ROE  Market Cap  Mean Return  Variance Return  cluster\n",
       "Ticker                                                              \n",
       "ACES.JK  0.019841   -0.503589     0.412495        -0.015084        0\n",
       "ADMR.JK  0.778213   -0.325757     0.133485         0.311211       -1\n",
       "ADRO.JK  0.293330   -0.248688     2.254371         0.823429       -1\n",
       "AKRA.JK  0.303760   -0.448638    -0.074903        -0.567337        0\n",
       "AMMN.JK -0.139658    2.448907     1.647973         0.691505       -1"
      ]
     },
     "execution_count": 387,
     "metadata": {},
     "output_type": "execute_result"
    }
   ],
   "source": [
    "import numpy as np\n",
    "import pandas as pd\n",
    "from sklearn.cluster import OPTICS\n",
    "from sklearn.metrics import silhouette_score, calinski_harabasz_score, davies_bouldin_score\n",
    "\n",
    "# Assuming df_final is your DataFrame with features for clustering\n",
    "df_optics = df_final.copy()\n",
    "\n",
    "# Apply OPTICS clustering\n",
    "optics = OPTICS(min_samples=5, xi=0.001, min_cluster_size=0.001)\n",
    "optics.fit(df_optics)\n",
    "\n",
    "# Extract labels and number of clusters\n",
    "labels = optics.labels_\n",
    "\n",
    "# Calculate metrics\n",
    "unique_labels = np.unique(labels)\n",
    "n_clusters_formed = len(unique_labels) - (1 if -1 in labels else 0)\n",
    "print(f'Clusters present: {unique_labels}')\n",
    "print(f'Number of clusters formed: {n_clusters_formed}')\n",
    "print(f'Clusters sizes: {np.bincount(labels + 1)}', '\\n')  # +1 to include noise as a category\n",
    "\n",
    "# Calculate and print clustering evaluation metrics, excluding noise\n",
    "non_noise_indices = labels != -1\n",
    "if n_clusters_formed > 1:  # Metrics are meaningful when there is more than one cluster\n",
    "    print(f'Silhouette Score: {silhouette_score(df_optics[non_noise_indices], labels[non_noise_indices])}')\n",
    "    print(f'Calinski-Harabasz Index: {calinski_harabasz_score(df_optics[non_noise_indices], labels[non_noise_indices])}')\n",
    "    print(f'Davies-Bouldin Index: {davies_bouldin_score(df_optics[non_noise_indices], labels[non_noise_indices])}')\n",
    "else:\n",
    "    print(\"Not enough clusters formed for meaningful evaluation metrics.\")\n",
    "\n",
    "# Add cluster labels to the DataFrame\n",
    "df_optics['cluster'] = labels\n",
    "data['Cluster'] = labels\n",
    "\n",
    "# Show the cluster counts\n",
    "print(df_optics['cluster'].value_counts())\n",
    "df_optics.head()\n"
   ]
  },
  {
   "cell_type": "code",
   "execution_count": 388,
   "metadata": {},
   "outputs": [
    {
     "name": "stdout",
     "output_type": "stream",
     "text": [
      "              ROA       ROE      Market Cap  Mean Return  Variance Return  \\\n",
      "Ticker                                                                      \n",
      "PGAS.JK  0.042140  0.103040  38422777430016     0.002017         0.000332   \n",
      "ISAT.JK  0.039281  0.146569  81272013586432     0.000728         0.000563   \n",
      "MTEL.JK  0.035263  0.059062  55146499276800    -0.000203         0.000313   \n",
      "\n",
      "         Cluster  sharpe_ratio  \n",
      "Ticker                          \n",
      "PGAS.JK       -1      0.097624  \n",
      "ISAT.JK        0      0.020657  \n",
      "MTEL.JK        1     -0.024914  \n"
     ]
    }
   ],
   "source": [
    "# Risk-free rate (contoh: 6% per tahun, diubah ke harian)\n",
    "risk_free_rate = 0.06 / 252\n",
    "\n",
    "# Hitung Sharpe Ratio\n",
    "data['sharpe_ratio'] = (data['Mean Return'] - risk_free_rate) / np.sqrt(data['Variance Return'])\n",
    "\n",
    "# Ambil saham terbaik dari setiap cluster\n",
    "best_stocks = data.loc[data.groupby('Cluster')['sharpe_ratio'].idxmax()]\n",
    "\n",
    "print(best_stocks)"
   ]
  },
  {
   "cell_type": "code",
   "execution_count": 347,
   "metadata": {},
   "outputs": [
    {
     "name": "stdout",
     "output_type": "stream",
     "text": [
      "65.08414737534632 %\n"
     ]
    },
    {
     "data": {
      "text/plain": [
       "<Axes: xlabel='PC_1', ylabel='PC_2'>"
      ]
     },
     "execution_count": 347,
     "metadata": {},
     "output_type": "execute_result"
    },
    {
     "data": {
      "image/png": "[encoded data removed]",
      "text/plain": [
       "<Figure size 1000x800 with 1 Axes>"
      ]
     },
     "metadata": {},
     "output_type": "display_data"
    }
   ],
   "source": [
    "# Gunakan Dimensionality Reduction dengan PCA untuk mempermudah melakukan visualisasi\n",
    "\n",
    "pca = PCA(n_components = 2)\n",
    "df_pca2 = pd.DataFrame(pca.fit_transform(df_optics.iloc[:,:-1]),\n",
    "                      columns = ['PC_1', 'PC_2'],\n",
    "                      index = df_optics.index)\n",
    "\n",
    "df_pca2 = pd.concat([df_pca2, df_optics.cluster], axis = 1)\n",
    "# df_pca1.head()\n",
    "\n",
    "print(np.sum(pca.explained_variance_ratio_)*100, \"%\") # 2 Dimensi dapat menjelaskan keseluruhan fitur\n",
    "fig = plt.figure(figsize=(10, 8))\n",
    "ax = fig.add_subplot()\n",
    "sns.scatterplot(data = df_pca2, x = 'PC_1', y = 'PC_2', hue = 'cluster', s = 300, ax = ax)"
   ]
  },
  {
   "cell_type": "code",
   "execution_count": 348,
   "metadata": {},
   "outputs": [
    {
     "data": {
      "application/vnd.plotly.v1+json": {
       "config": {
        "linkText": "Export to plot.ly",
        "plotlyServerURL": "https://plot.ly",
        "showLink": false
       },
       "data": [
        {
         "marker": {
          "color": "rgb(255,0,0)",
          "size": 10
         },
         "mode": "markers",
         "name": "Cluster 0",
         "type": "scatter3d",
         "x": [
          -0.13258933167139833,
          -0.27151370569962613,
          -0.21666891500981242,
          -0.39102598908244257,
          -0.5918938856768137,
          -0.7062574961774118,
          0.012979153523070372,
          1.3996885042181562,
          -0.7323633622152951,
          -2.1696655729959873,
          -0.4010151922797581,
          -0.8680534902344987,
          0.05182562964091612,
          -0.9830893580086751,
          -0.167228533521787,
          2.8774512451738357,
          1.6706025170335967,
          -0.4656685962140094,
          0.36761150618788385,
          -0.2058608297618417,
          5.870262350656411,
          -0.6817618009838836,
          0.25663548946536785,
          -0.9118993109083492,
          -0.012597211542830593,
          -0.10916202968931295,
          -0.033568029919112154,
          -1.3116233187926498,
          -0.27044434521957983,
          -0.5547042819495968,
          0.6070951015582875,
          1.523142825995926,
          0.8172018521756569,
          0.14955666435882026,
          -0.2798406388907766,
          -0.7422111889567657,
          0.17996569560990605,
          -0.927611918269625,
          -0.8610631402201301,
          0.5913955638122179,
          0.09527249755539131,
          -0.45389334324446473,
          -0.017686973781575643,
          -1.1046622717559937,
          0.10493746570856005
         ],
         "y": [
          -0.18067624831579526,
          -0.41520348411674723,
          1.1715896473802676,
          -0.5164359715761184,
          2.77503578022166,
          -0.06734959356321507,
          -0.47259927684580255,
          -0.10485468354657976,
          -0.016971897664353076,
          3.4827542675756313,
          0.007163105922093962,
          0.9922136536195307,
          -0.3406348490305404,
          1.4996030318201123,
          1.5203756781959827,
          0.12193190132926786,
          -1.09491434570603,
          -0.3020472713521886,
          0.68816369313678,
          -0.11077372321537038,
          2.5247294620445246,
          0.13375970427859415,
          -0.7616379221207461,
          0.1436850580621474,
          -0.7247753947159176,
          -1.2168287447930441,
          0.15905555546325792,
          -0.16401231927975132,
          -0.6110847912158037,
          -0.7583618441201021,
          -0.5040828683380852,
          -0.05237611421828289,
          -0.6684802620462741,
          -0.035350743704780654,
          -0.5528350128734505,
          0.6704256906175279,
          -0.4286061017571163,
          0.023178308053508442,
          -0.5945133866202599,
          -1.8998532562883066,
          -0.37613517112416045,
          -0.4824044535880356,
          -1.0328292838609068,
          0.43209200335139636,
          -1.8591275254745203
         ],
         "z": [
          -0.6614525371345473,
          -0.4978052229897982,
          -2.045701934221174,
          -0.16871185733148514,
          0.1984746478974758,
          -0.08210207288139744,
          -0.11055781346099047,
          -0.3723662623894917,
          0.41002289567416006,
          2.8506947865600485,
          0.3547525102491774,
          2.0940074446046566,
          -0.23791653841225727,
          1.0329159519666042,
          -1.7233971483923047,
          -0.2954303389500229,
          0.7884792433872193,
          0.013717231603436644,
          -1.5797692066086764,
          -0.4466112130426089,
          0.7075386928154441,
          -0.16661635064086902,
          0.20579919429418608,
          -0.5767248159957917,
          0.2841419575292474,
          0.7154206006940709,
          -0.5008888149519917,
          -0.875590962245164,
          0.08162128564427212,
          0.3615454575397911,
          -0.1362112051073605,
          -0.3151557415280618,
          0.3750193926646921,
          -0.636171056510782,
          0.19168400784768116,
          -1.3950674634967355,
          -0.09108753377343198,
          -0.9337457545471314,
          -0.4817846997019511,
          1.6200599380207097,
          -0.28260278468314004,
          1.3636504049157967,
          0.613762706138272,
          -0.9285268199841764,
          1.2786877989343994
         ]
        },
        {
         "marker": {
          "color": "rgb(0,255,0)",
          "size": 10
         },
         "mode": "markers",
         "name": "Cluster 1",
         "type": "scatter3d",
         "x": [],
         "y": [],
         "z": []
        },
        {
         "marker": {
          "color": "rgb(255,225,0)",
          "size": 10
         },
         "mode": "markers",
         "name": "Cluster Noise",
         "type": "scatter3d",
         "x": [],
         "y": [],
         "z": []
        }
       ],
       "layout": {
        "margin": {
         "b": 0,
         "l": 0,
         "r": 0,
         "t": 0
        },
        "template": {
         "data": {
          "bar": [
           {
            "error_x": {
             "color": "#2a3f5f"
            },
            "error_y": {
             "color": "#2a3f5f"
            },
            "marker": {
             "line": {
              "color": "#E5ECF6",
              "width": 0.5
             },
             "pattern": {
              "fillmode": "overlay",
              "size": 10,
              "solidity": 0.2
             }
            },
            "type": "bar"
           }
          ],
          "barpolar": [
           {
            "marker": {
             "line": {
              "color": "#E5ECF6",
              "width": 0.5
             },
             "pattern": {
              "fillmode": "overlay",
              "size": 10,
              "solidity": 0.2
             }
            },
            "type": "barpolar"
           }
          ],
          "carpet": [
           {
            "aaxis": {
             "endlinecolor": "#2a3f5f",
             "gridcolor": "white",
             "linecolor": "white",
             "minorgridcolor": "white",
             "startlinecolor": "#2a3f5f"
            },
            "baxis": {
             "endlinecolor": "#2a3f5f",
             "gridcolor": "white",
             "linecolor": "white",
             "minorgridcolor": "white",
             "startlinecolor": "#2a3f5f"
            },
            "type": "carpet"
           }
          ],
          "choropleth": [
           {
            "colorbar": {
             "outlinewidth": 0,
             "ticks": ""
            },
            "type": "choropleth"
           }
          ],
          "contour": [
           {
            "colorbar": {
             "outlinewidth": 0,
             "ticks": ""
            },
            "colorscale": [
             [
              0,
              "#0d0887"
             ],
             [
              0.1111111111111111,
              "#46039f"
             ],
             [
              0.2222222222222222,
              "#7201a8"
             ],
             [
              0.3333333333333333,
              "#9c179e"
             ],
             [
              0.4444444444444444,
              "#bd3786"
             ],
             [
              0.5555555555555556,
              "#d8576b"
             ],
             [
              0.6666666666666666,
              "#ed7953"
             ],
             [
              0.7777777777777778,
              "#fb9f3a"
             ],
             [
              0.8888888888888888,
              "#fdca26"
             ],
             [
              1,
              "#f0f921"
             ]
            ],
            "type": "contour"
           }
          ],
          "contourcarpet": [
           {
            "colorbar": {
             "outlinewidth": 0,
             "ticks": ""
            },
            "type": "contourcarpet"
           }
          ],
          "heatmap": [
           {
            "colorbar": {
             "outlinewidth": 0,
             "ticks": ""
            },
            "colorscale": [
             [
              0,
              "#0d0887"
             ],
             [
              0.1111111111111111,
              "#46039f"
             ],
             [
              0.2222222222222222,
              "#7201a8"
             ],
             [
              0.3333333333333333,
              "#9c179e"
             ],
             [
              0.4444444444444444,
              "#bd3786"
             ],
             [
              0.5555555555555556,
              "#d8576b"
             ],
             [
              0.6666666666666666,
              "#ed7953"
             ],
             [
              0.7777777777777778,
              "#fb9f3a"
             ],
             [
              0.8888888888888888,
              "#fdca26"
             ],
             [
              1,
              "#f0f921"
             ]
            ],
            "type": "heatmap"
           }
          ],
          "heatmapgl": [
           {
            "colorbar": {
             "outlinewidth": 0,
             "ticks": ""
            },
            "colorscale": [
             [
              0,
              "#0d0887"
             ],
             [
              0.1111111111111111,
              "#46039f"
             ],
             [
              0.2222222222222222,
              "#7201a8"
             ],
             [
              0.3333333333333333,
              "#9c179e"
             ],
             [
              0.4444444444444444,
              "#bd3786"
             ],
             [
              0.5555555555555556,
              "#d8576b"
             ],
             [
              0.6666666666666666,
              "#ed7953"
             ],
             [
              0.7777777777777778,
              "#fb9f3a"
             ],
             [
              0.8888888888888888,
              "#fdca26"
             ],
             [
              1,
              "#f0f921"
             ]
            ],
            "type": "heatmapgl"
           }
          ],
          "histogram": [
           {
            "marker": {
             "pattern": {
              "fillmode": "overlay",
              "size": 10,
              "solidity": 0.2
             }
            },
            "type": "histogram"
           }
          ],
          "histogram2d": [
           {
            "colorbar": {
             "outlinewidth": 0,
             "ticks": ""
            },
            "colorscale": [
             [
              0,
              "#0d0887"
             ],
             [
              0.1111111111111111,
              "#46039f"
             ],
             [
              0.2222222222222222,
              "#7201a8"
             ],
             [
              0.3333333333333333,
              "#9c179e"
             ],
             [
              0.4444444444444444,
              "#bd3786"
             ],
             [
              0.5555555555555556,
              "#d8576b"
             ],
             [
              0.6666666666666666,
              "#ed7953"
             ],
             [
              0.7777777777777778,
              "#fb9f3a"
             ],
             [
              0.8888888888888888,
              "#fdca26"
             ],
             [
              1,
              "#f0f921"
             ]
            ],
            "type": "histogram2d"
           }
          ],
          "histogram2dcontour": [
           {
            "colorbar": {
             "outlinewidth": 0,
             "ticks": ""
            },
            "colorscale": [
             [
              0,
              "#0d0887"
             ],
             [
              0.1111111111111111,
              "#46039f"
             ],
             [
              0.2222222222222222,
              "#7201a8"
             ],
             [
              0.3333333333333333,
              "#9c179e"
             ],
             [
              0.4444444444444444,
              "#bd3786"
             ],
             [
              0.5555555555555556,
              "#d8576b"
             ],
             [
              0.6666666666666666,
              "#ed7953"
             ],
             [
              0.7777777777777778,
              "#fb9f3a"
             ],
             [
              0.8888888888888888,
              "#fdca26"
             ],
             [
              1,
              "#f0f921"
             ]
            ],
            "type": "histogram2dcontour"
           }
          ],
          "mesh3d": [
           {
            "colorbar": {
             "outlinewidth": 0,
             "ticks": ""
            },
            "type": "mesh3d"
           }
          ],
          "parcoords": [
           {
            "line": {
             "colorbar": {
              "outlinewidth": 0,
              "ticks": ""
             }
            },
            "type": "parcoords"
           }
          ],
          "pie": [
           {
            "automargin": true,
            "type": "pie"
           }
          ],
          "scatter": [
           {
            "fillpattern": {
             "fillmode": "overlay",
             "size": 10,
             "solidity": 0.2
            },
            "type": "scatter"
           }
          ],
          "scatter3d": [
           {
            "line": {
             "colorbar": {
              "outlinewidth": 0,
              "ticks": ""
             }
            },
            "marker": {
             "colorbar": {
              "outlinewidth": 0,
              "ticks": ""
             }
            },
            "type": "scatter3d"
           }
          ],
          "scattercarpet": [
           {
            "marker": {
             "colorbar": {
              "outlinewidth": 0,
              "ticks": ""
             }
            },
            "type": "scattercarpet"
           }
          ],
          "scattergeo": [
           {
            "marker": {
             "colorbar": {
              "outlinewidth": 0,
              "ticks": ""
             }
            },
            "type": "scattergeo"
           }
          ],
          "scattergl": [
           {
            "marker": {
             "colorbar": {
              "outlinewidth": 0,
              "ticks": ""
             }
            },
            "type": "scattergl"
           }
          ],
          "scattermapbox": [
           {
            "marker": {
             "colorbar": {
              "outlinewidth": 0,
              "ticks": ""
             }
            },
            "type": "scattermapbox"
           }
          ],
          "scatterpolar": [
           {
            "marker": {
             "colorbar": {
              "outlinewidth": 0,
              "ticks": ""
             }
            },
            "type": "scatterpolar"
           }
          ],
          "scatterpolargl": [
           {
            "marker": {
             "colorbar": {
              "outlinewidth": 0,
              "ticks": ""
             }
            },
            "type": "scatterpolargl"
           }
          ],
          "scatterternary": [
           {
            "marker": {
             "colorbar": {
              "outlinewidth": 0,
              "ticks": ""
             }
            },
            "type": "scatterternary"
           }
          ],
          "surface": [
           {
            "colorbar": {
             "outlinewidth": 0,
             "ticks": ""
            },
            "colorscale": [
             [
              0,
              "#0d0887"
             ],
             [
              0.1111111111111111,
              "#46039f"
             ],
             [
              0.2222222222222222,
              "#7201a8"
             ],
             [
              0.3333333333333333,
              "#9c179e"
             ],
             [
              0.4444444444444444,
              "#bd3786"
             ],
             [
              0.5555555555555556,
              "#d8576b"
             ],
             [
              0.6666666666666666,
              "#ed7953"
             ],
             [
              0.7777777777777778,
              "#fb9f3a"
             ],
             [
              0.8888888888888888,
              "#fdca26"
             ],
             [
              1,
              "#f0f921"
             ]
            ],
            "type": "surface"
           }
          ],
          "table": [
           {
            "cells": {
             "fill": {
              "color": "#EBF0F8"
             },
             "line": {
              "color": "white"
             }
            },
            "header": {
             "fill": {
              "color": "#C8D4E3"
             },
             "line": {
              "color": "white"
             }
            },
            "type": "table"
           }
          ]
         },
         "layout": {
          "annotationdefaults": {
           "arrowcolor": "#2a3f5f",
           "arrowhead": 0,
           "arrowwidth": 1
          },
          "autotypenumbers": "strict",
          "coloraxis": {
           "colorbar": {
            "outlinewidth": 0,
            "ticks": ""
           }
          },
          "colorscale": {
           "diverging": [
            [
             0,
             "#8e0152"
            ],
            [
             0.1,
             "#c51b7d"
            ],
            [
             0.2,
             "#de77ae"
            ],
            [
             0.3,
             "#f1b6da"
            ],
            [
             0.4,
             "#fde0ef"
            ],
            [
             0.5,
             "#f7f7f7"
            ],
            [
             0.6,
             "#e6f5d0"
            ],
            [
             0.7,
             "#b8e186"
            ],
            [
             0.8,
             "#7fbc41"
            ],
            [
             0.9,
             "#4d9221"
            ],
            [
             1,
             "#276419"
            ]
           ],
           "sequential": [
            [
             0,
             "#0d0887"
            ],
            [
             0.1111111111111111,
             "#46039f"
            ],
            [
             0.2222222222222222,
             "#7201a8"
            ],
            [
             0.3333333333333333,
             "#9c179e"
            ],
            [
             0.4444444444444444,
             "#bd3786"
            ],
            [
             0.5555555555555556,
             "#d8576b"
            ],
            [
             0.6666666666666666,
             "#ed7953"
            ],
            [
             0.7777777777777778,
             "#fb9f3a"
            ],
            [
             0.8888888888888888,
             "#fdca26"
            ],
            [
             1,
             "#f0f921"
            ]
           ],
           "sequentialminus": [
            [
             0,
             "#0d0887"
            ],
            [
             0.1111111111111111,
             "#46039f"
            ],
            [
             0.2222222222222222,
             "#7201a8"
            ],
            [
             0.3333333333333333,
             "#9c179e"
            ],
            [
             0.4444444444444444,
             "#bd3786"
            ],
            [
             0.5555555555555556,
             "#d8576b"
            ],
            [
             0.6666666666666666,
             "#ed7953"
            ],
            [
             0.7777777777777778,
             "#fb9f3a"
            ],
            [
             0.8888888888888888,
             "#fdca26"
            ],
            [
             1,
             "#f0f921"
            ]
           ]
          },
          "colorway": [
           "#636efa",
           "#EF553B",
           "#00cc96",
           "#ab63fa",
           "#FFA15A",
           "#19d3f3",
           "#FF6692",
           "#B6E880",
           "#FF97FF",
           "#FECB52"
          ],
          "font": {
           "color": "#2a3f5f"
          },
          "geo": {
           "bgcolor": "white",
           "lakecolor": "white",
           "landcolor": "#E5ECF6",
           "showlakes": true,
           "showland": true,
           "subunitcolor": "white"
          },
          "hoverlabel": {
           "align": "left"
          },
          "hovermode": "closest",
          "mapbox": {
           "style": "light"
          },
          "paper_bgcolor": "white",
          "plot_bgcolor": "#E5ECF6",
          "polar": {
           "angularaxis": {
            "gridcolor": "white",
            "linecolor": "white",
            "ticks": ""
           },
           "bgcolor": "#E5ECF6",
           "radialaxis": {
            "gridcolor": "white",
            "linecolor": "white",
            "ticks": ""
           }
          },
          "scene": {
           "xaxis": {
            "backgroundcolor": "#E5ECF6",
            "gridcolor": "white",
            "gridwidth": 2,
            "linecolor": "white",
            "showbackground": true,
            "ticks": "",
            "zerolinecolor": "white"
           },
           "yaxis": {
            "backgroundcolor": "#E5ECF6",
            "gridcolor": "white",
            "gridwidth": 2,
            "linecolor": "white",
            "showbackground": true,
            "ticks": "",
            "zerolinecolor": "white"
           },
           "zaxis": {
            "backgroundcolor": "#E5ECF6",
            "gridcolor": "white",
            "gridwidth": 2,
            "linecolor": "white",
            "showbackground": true,
            "ticks": "",
            "zerolinecolor": "white"
           }
          },
          "shapedefaults": {
           "line": {
            "color": "#2a3f5f"
           }
          },
          "ternary": {
           "aaxis": {
            "gridcolor": "white",
            "linecolor": "white",
            "ticks": ""
           },
           "baxis": {
            "gridcolor": "white",
            "linecolor": "white",
            "ticks": ""
           },
           "bgcolor": "#E5ECF6",
           "caxis": {
            "gridcolor": "white",
            "linecolor": "white",
            "ticks": ""
           }
          },
          "title": {
           "x": 0.05
          },
          "xaxis": {
           "automargin": true,
           "gridcolor": "white",
           "linecolor": "white",
           "ticks": "",
           "title": {
            "standoff": 15
           },
           "zerolinecolor": "white",
           "zerolinewidth": 2
          },
          "yaxis": {
           "automargin": true,
           "gridcolor": "white",
           "linecolor": "white",
           "ticks": "",
           "title": {
            "standoff": 15
           },
           "zerolinecolor": "white",
           "zerolinewidth": 2
          }
         }
        }
       }
      },
      "text/html": [
       "<div>                            <div id=\"2b7184cf-3b0a-4712-b88f-4b209af36c76\" class=\"plotly-graph-div\" style=\"height:525px; width:100%;\"></div>            <script type=\"text/javascript\">                require([\"plotly\"], function(Plotly) {                    window.PLOTLYENV=window.PLOTLYENV || {};                                    if (document.getElementById(\"2b7184cf-3b0a-4712-b88f-4b209af36c76\")) {                    Plotly.newPlot(                        \"2b7184cf-3b0a-4712-b88f-4b209af36c76\",                        [{\"marker\":{\"color\":\"rgb(255,0,0)\",\"size\":10},\"mode\":\"markers\",\"name\":\"Cluster 0\",\"x\":[-0.13258933167139833,-0.27151370569962613,-0.21666891500981242,-0.39102598908244257,-0.5918938856768137,-0.7062574961774118,0.012979153523070372,1.3996885042181562,-0.7323633622152951,-2.1696655729959873,-0.4010151922797581,-0.8680534902344987,0.05182562964091612,-0.9830893580086751,-0.167228533521787,2.8774512451738357,1.6706025170335967,-0.4656685962140094,0.36761150618788385,-0.2058608297618417,5.870262350656411,-0.6817618009838836,0.25663548946536785,-0.9118993109083492,-0.012597211542830593,-0.10916202968931295,-0.033568029919112154,-1.3116233187926498,-0.27044434521957983,-0.5547042819495968,0.6070951015582875,1.523142825995926,0.8172018521756569,0.14955666435882026,-0.2798406388907766,-0.7422111889567657,0.17996569560990605,-0.927611918269625,-0.8610631402201301,0.5913955638122179,0.09527249755539131,-0.45389334324446473,-0.017686973781575643,-1.1046622717559937,0.10493746570856005],\"y\":[-0.18067624831579526,-0.41520348411674723,1.1715896473802676,-0.5164359715761184,2.77503578022166,-0.06734959356321507,-0.47259927684580255,-0.10485468354657976,-0.016971897664353076,3.4827542675756313,0.007163105922093962,0.9922136536195307,-0.3406348490305404,1.4996030318201123,1.5203756781959827,0.12193190132926786,-1.09491434570603,-0.3020472713521886,0.68816369313678,-0.11077372321537038,2.5247294620445246,0.13375970427859415,-0.7616379221207461,0.1436850580621474,-0.7247753947159176,-1.2168287447930441,0.15905555546325792,-0.16401231927975132,-0.6110847912158037,-0.7583618441201021,-0.5040828683380852,-0.05237611421828289,-0.6684802620462741,-0.035350743704780654,-0.5528350128734505,0.6704256906175279,-0.4286061017571163,0.023178308053508442,-0.5945133866202599,-1.8998532562883066,-0.37613517112416045,-0.4824044535880356,-1.0328292838609068,0.43209200335139636,-1.8591275254745203],\"z\":[-0.6614525371345473,-0.4978052229897982,-2.045701934221174,-0.16871185733148514,0.1984746478974758,-0.08210207288139744,-0.11055781346099047,-0.3723662623894917,0.41002289567416006,2.8506947865600485,0.3547525102491774,2.0940074446046566,-0.23791653841225727,1.0329159519666042,-1.7233971483923047,-0.2954303389500229,0.7884792433872193,0.013717231603436644,-1.5797692066086764,-0.4466112130426089,0.7075386928154441,-0.16661635064086902,0.20579919429418608,-0.5767248159957917,0.2841419575292474,0.7154206006940709,-0.5008888149519917,-0.875590962245164,0.08162128564427212,0.3615454575397911,-0.1362112051073605,-0.3151557415280618,0.3750193926646921,-0.636171056510782,0.19168400784768116,-1.3950674634967355,-0.09108753377343198,-0.9337457545471314,-0.4817846997019511,1.6200599380207097,-0.28260278468314004,1.3636504049157967,0.613762706138272,-0.9285268199841764,1.2786877989343994],\"type\":\"scatter3d\"},{\"marker\":{\"color\":\"rgb(0,255,0)\",\"size\":10},\"mode\":\"markers\",\"name\":\"Cluster 1\",\"x\":[],\"y\":[],\"z\":[],\"type\":\"scatter3d\"},{\"marker\":{\"color\":\"rgb(255,225,0)\",\"size\":10},\"mode\":\"markers\",\"name\":\"Cluster Noise\",\"x\":[],\"y\":[],\"z\":[],\"type\":\"scatter3d\"}],                        {\"margin\":{\"b\":0,\"l\":0,\"r\":0,\"t\":0},\"template\":{\"data\":{\"barpolar\":[{\"marker\":{\"line\":{\"color\":\"#E5ECF6\",\"width\":0.5},\"pattern\":{\"fillmode\":\"overlay\",\"size\":10,\"solidity\":0.2}},\"type\":\"barpolar\"}],\"bar\":[{\"error_x\":{\"color\":\"#2a3f5f\"},\"error_y\":{\"color\":\"#2a3f5f\"},\"marker\":{\"line\":{\"color\":\"#E5ECF6\",\"width\":0.5},\"pattern\":{\"fillmode\":\"overlay\",\"size\":10,\"solidity\":0.2}},\"type\":\"bar\"}],\"carpet\":[{\"aaxis\":{\"endlinecolor\":\"#2a3f5f\",\"gridcolor\":\"white\",\"linecolor\":\"white\",\"minorgridcolor\":\"white\",\"startlinecolor\":\"#2a3f5f\"},\"baxis\":{\"endlinecolor\":\"#2a3f5f\",\"gridcolor\":\"white\",\"linecolor\":\"white\",\"minorgridcolor\":\"white\",\"startlinecolor\":\"#2a3f5f\"},\"type\":\"carpet\"}],\"choropleth\":[{\"colorbar\":{\"outlinewidth\":0,\"ticks\":\"\"},\"type\":\"choropleth\"}],\"contourcarpet\":[{\"colorbar\":{\"outlinewidth\":0,\"ticks\":\"\"},\"type\":\"contourcarpet\"}],\"contour\":[{\"colorbar\":{\"outlinewidth\":0,\"ticks\":\"\"},\"colorscale\":[[0.0,\"#0d0887\"],[0.1111111111111111,\"#46039f\"],[0.2222222222222222,\"#7201a8\"],[0.3333333333333333,\"#9c179e\"],[0.4444444444444444,\"#bd3786\"],[0.5555555555555556,\"#d8576b\"],[0.6666666666666666,\"#ed7953\"],[0.7777777777777778,\"#fb9f3a\"],[0.8888888888888888,\"#fdca26\"],[1.0,\"#f0f921\"]],\"type\":\"contour\"}],\"heatmapgl\":[{\"colorbar\":{\"outlinewidth\":0,\"ticks\":\"\"},\"colorscale\":[[0.0,\"#0d0887\"],[0.1111111111111111,\"#46039f\"],[0.2222222222222222,\"#7201a8\"],[0.3333333333333333,\"#9c179e\"],[0.4444444444444444,\"#bd3786\"],[0.5555555555555556,\"#d8576b\"],[0.6666666666666666,\"#ed7953\"],[0.7777777777777778,\"#fb9f3a\"],[0.8888888888888888,\"#fdca26\"],[1.0,\"#f0f921\"]],\"type\":\"heatmapgl\"}],\"heatmap\":[{\"colorbar\":{\"outlinewidth\":0,\"ticks\":\"\"},\"colorscale\":[[0.0,\"#0d0887\"],[0.1111111111111111,\"#46039f\"],[0.2222222222222222,\"#7201a8\"],[0.3333333333333333,\"#9c179e\"],[0.4444444444444444,\"#bd3786\"],[0.5555555555555556,\"#d8576b\"],[0.6666666666666666,\"#ed7953\"],[0.7777777777777778,\"#fb9f3a\"],[0.8888888888888888,\"#fdca26\"],[1.0,\"#f0f921\"]],\"type\":\"heatmap\"}],\"histogram2dcontour\":[{\"colorbar\":{\"outlinewidth\":0,\"ticks\":\"\"},\"colorscale\":[[0.0,\"#0d0887\"],[0.1111111111111111,\"#46039f\"],[0.2222222222222222,\"#7201a8\"],[0.3333333333333333,\"#9c179e\"],[0.4444444444444444,\"#bd3786\"],[0.5555555555555556,\"#d8576b\"],[0.6666666666666666,\"#ed7953\"],[0.7777777777777778,\"#fb9f3a\"],[0.8888888888888888,\"#fdca26\"],[1.0,\"#f0f921\"]],\"type\":\"histogram2dcontour\"}],\"histogram2d\":[{\"colorbar\":{\"outlinewidth\":0,\"ticks\":\"\"},\"colorscale\":[[0.0,\"#0d0887\"],[0.1111111111111111,\"#46039f\"],[0.2222222222222222,\"#7201a8\"],[0.3333333333333333,\"#9c179e\"],[0.4444444444444444,\"#bd3786\"],[0.5555555555555556,\"#d8576b\"],[0.6666666666666666,\"#ed7953\"],[0.7777777777777778,\"#fb9f3a\"],[0.8888888888888888,\"#fdca26\"],[1.0,\"#f0f921\"]],\"type\":\"histogram2d\"}],\"histogram\":[{\"marker\":{\"pattern\":{\"fillmode\":\"overlay\",\"size\":10,\"solidity\":0.2}},\"type\":\"histogram\"}],\"mesh3d\":[{\"colorbar\":{\"outlinewidth\":0,\"ticks\":\"\"},\"type\":\"mesh3d\"}],\"parcoords\":[{\"line\":{\"colorbar\":{\"outlinewidth\":0,\"ticks\":\"\"}},\"type\":\"parcoords\"}],\"pie\":[{\"automargin\":true,\"type\":\"pie\"}],\"scatter3d\":[{\"line\":{\"colorbar\":{\"outlinewidth\":0,\"ticks\":\"\"}},\"marker\":{\"colorbar\":{\"outlinewidth\":0,\"ticks\":\"\"}},\"type\":\"scatter3d\"}],\"scattercarpet\":[{\"marker\":{\"colorbar\":{\"outlinewidth\":0,\"ticks\":\"\"}},\"type\":\"scattercarpet\"}],\"scattergeo\":[{\"marker\":{\"colorbar\":{\"outlinewidth\":0,\"ticks\":\"\"}},\"type\":\"scattergeo\"}],\"scattergl\":[{\"marker\":{\"colorbar\":{\"outlinewidth\":0,\"ticks\":\"\"}},\"type\":\"scattergl\"}],\"scattermapbox\":[{\"marker\":{\"colorbar\":{\"outlinewidth\":0,\"ticks\":\"\"}},\"type\":\"scattermapbox\"}],\"scatterpolargl\":[{\"marker\":{\"colorbar\":{\"outlinewidth\":0,\"ticks\":\"\"}},\"type\":\"scatterpolargl\"}],\"scatterpolar\":[{\"marker\":{\"colorbar\":{\"outlinewidth\":0,\"ticks\":\"\"}},\"type\":\"scatterpolar\"}],\"scatter\":[{\"fillpattern\":{\"fillmode\":\"overlay\",\"size\":10,\"solidity\":0.2},\"type\":\"scatter\"}],\"scatterternary\":[{\"marker\":{\"colorbar\":{\"outlinewidth\":0,\"ticks\":\"\"}},\"type\":\"scatterternary\"}],\"surface\":[{\"colorbar\":{\"outlinewidth\":0,\"ticks\":\"\"},\"colorscale\":[[0.0,\"#0d0887\"],[0.1111111111111111,\"#46039f\"],[0.2222222222222222,\"#7201a8\"],[0.3333333333333333,\"#9c179e\"],[0.4444444444444444,\"#bd3786\"],[0.5555555555555556,\"#d8576b\"],[0.6666666666666666,\"#ed7953\"],[0.7777777777777778,\"#fb9f3a\"],[0.8888888888888888,\"#fdca26\"],[1.0,\"#f0f921\"]],\"type\":\"surface\"}],\"table\":[{\"cells\":{\"fill\":{\"color\":\"#EBF0F8\"},\"line\":{\"color\":\"white\"}},\"header\":{\"fill\":{\"color\":\"#C8D4E3\"},\"line\":{\"color\":\"white\"}},\"type\":\"table\"}]},\"layout\":{\"annotationdefaults\":{\"arrowcolor\":\"#2a3f5f\",\"arrowhead\":0,\"arrowwidth\":1},\"autotypenumbers\":\"strict\",\"coloraxis\":{\"colorbar\":{\"outlinewidth\":0,\"ticks\":\"\"}},\"colorscale\":{\"diverging\":[[0,\"#8e0152\"],[0.1,\"#c51b7d\"],[0.2,\"#de77ae\"],[0.3,\"#f1b6da\"],[0.4,\"#fde0ef\"],[0.5,\"#f7f7f7\"],[0.6,\"#e6f5d0\"],[0.7,\"#b8e186\"],[0.8,\"#7fbc41\"],[0.9,\"#4d9221\"],[1,\"#276419\"]],\"sequential\":[[0.0,\"#0d0887\"],[0.1111111111111111,\"#46039f\"],[0.2222222222222222,\"#7201a8\"],[0.3333333333333333,\"#9c179e\"],[0.4444444444444444,\"#bd3786\"],[0.5555555555555556,\"#d8576b\"],[0.6666666666666666,\"#ed7953\"],[0.7777777777777778,\"#fb9f3a\"],[0.8888888888888888,\"#fdca26\"],[1.0,\"#f0f921\"]],\"sequentialminus\":[[0.0,\"#0d0887\"],[0.1111111111111111,\"#46039f\"],[0.2222222222222222,\"#7201a8\"],[0.3333333333333333,\"#9c179e\"],[0.4444444444444444,\"#bd3786\"],[0.5555555555555556,\"#d8576b\"],[0.6666666666666666,\"#ed7953\"],[0.7777777777777778,\"#fb9f3a\"],[0.8888888888888888,\"#fdca26\"],[1.0,\"#f0f921\"]]},\"colorway\":[\"#636efa\",\"#EF553B\",\"#00cc96\",\"#ab63fa\",\"#FFA15A\",\"#19d3f3\",\"#FF6692\",\"#B6E880\",\"#FF97FF\",\"#FECB52\"],\"font\":{\"color\":\"#2a3f5f\"},\"geo\":{\"bgcolor\":\"white\",\"lakecolor\":\"white\",\"landcolor\":\"#E5ECF6\",\"showlakes\":true,\"showland\":true,\"subunitcolor\":\"white\"},\"hoverlabel\":{\"align\":\"left\"},\"hovermode\":\"closest\",\"mapbox\":{\"style\":\"light\"},\"paper_bgcolor\":\"white\",\"plot_bgcolor\":\"#E5ECF6\",\"polar\":{\"angularaxis\":{\"gridcolor\":\"white\",\"linecolor\":\"white\",\"ticks\":\"\"},\"bgcolor\":\"#E5ECF6\",\"radialaxis\":{\"gridcolor\":\"white\",\"linecolor\":\"white\",\"ticks\":\"\"}},\"scene\":{\"xaxis\":{\"backgroundcolor\":\"#E5ECF6\",\"gridcolor\":\"white\",\"gridwidth\":2,\"linecolor\":\"white\",\"showbackground\":true,\"ticks\":\"\",\"zerolinecolor\":\"white\"},\"yaxis\":{\"backgroundcolor\":\"#E5ECF6\",\"gridcolor\":\"white\",\"gridwidth\":2,\"linecolor\":\"white\",\"showbackground\":true,\"ticks\":\"\",\"zerolinecolor\":\"white\"},\"zaxis\":{\"backgroundcolor\":\"#E5ECF6\",\"gridcolor\":\"white\",\"gridwidth\":2,\"linecolor\":\"white\",\"showbackground\":true,\"ticks\":\"\",\"zerolinecolor\":\"white\"}},\"shapedefaults\":{\"line\":{\"color\":\"#2a3f5f\"}},\"ternary\":{\"aaxis\":{\"gridcolor\":\"white\",\"linecolor\":\"white\",\"ticks\":\"\"},\"baxis\":{\"gridcolor\":\"white\",\"linecolor\":\"white\",\"ticks\":\"\"},\"bgcolor\":\"#E5ECF6\",\"caxis\":{\"gridcolor\":\"white\",\"linecolor\":\"white\",\"ticks\":\"\"}},\"title\":{\"x\":0.05},\"xaxis\":{\"automargin\":true,\"gridcolor\":\"white\",\"linecolor\":\"white\",\"ticks\":\"\",\"title\":{\"standoff\":15},\"zerolinecolor\":\"white\",\"zerolinewidth\":2},\"yaxis\":{\"automargin\":true,\"gridcolor\":\"white\",\"linecolor\":\"white\",\"ticks\":\"\",\"title\":{\"standoff\":15},\"zerolinecolor\":\"white\",\"zerolinewidth\":2}}}},                        {\"responsive\": true}                    ).then(function(){\n",
       "                            \n",
       "var gd = document.getElementById('2b7184cf-3b0a-4712-b88f-4b209af36c76');\n",
       "var x = new MutationObserver(function (mutations, observer) {{\n",
       "        var display = window.getComputedStyle(gd).display;\n",
       "        if (!display || display === 'none') {{\n",
       "            console.log([gd, 'removed!']);\n",
       "            Plotly.purge(gd);\n",
       "            observer.disconnect();\n",
       "        }}\n",
       "}});\n",
       "\n",
       "// Listen for the removal of the full notebook cells\n",
       "var notebookContainer = gd.closest('#notebook-container');\n",
       "if (notebookContainer) {{\n",
       "    x.observe(notebookContainer, {childList: true});\n",
       "}}\n",
       "\n",
       "// Listen for the clearing of the current output cell\n",
       "var outputEl = gd.closest('.output');\n",
       "if (outputEl) {{\n",
       "    x.observe(outputEl, {childList: true});\n",
       "}}\n",
       "\n",
       "                        })                };                });            </script>        </div>"
      ]
     },
     "metadata": {},
     "output_type": "display_data"
    }
   ],
   "source": [
    "# Gunakan Dimensionality Reduction dengan PCA untuk mempermudah melakukan visualisasi\n",
    "\n",
    "pca = PCA(n_components = 3)\n",
    "df_pca_3 = pd.DataFrame(pca.fit_transform(df_optics.iloc[:,:-1]),\n",
    "                      columns = ['PC1', 'PC2', 'PC3'],\n",
    "                      index = df_optics.index)\n",
    "\n",
    "df_pca_3 = pd.concat([df_pca_3, df_optics.cluster], axis = 1)\n",
    "# df_pca1.head()\n",
    "\n",
    "# membuat visualisasi 3D untuk setiap klaster\n",
    "# klaster 1\n",
    "Cluster0= go.Scatter3d(\n",
    "        x=df_pca_3[df_pca_3['cluster']==0]['PC1'],\n",
    "        y=df_pca_3[df_pca_3['cluster']==0]['PC2'],\n",
    "        z=df_pca_3[df_pca_3['cluster']==0]['PC3'],\n",
    "        mode=\"markers\",\n",
    "        marker=dict(\n",
    "                    size=10,\n",
    "                    color=\"rgb(255,0,0)\",\n",
    "        ),\n",
    "        name=\"Cluster 0\"\n",
    ")\n",
    "\n",
    "#klaster 2\n",
    "Cluster1= go.Scatter3d(\n",
    "        x=df_pca_3[df_pca_3['cluster']==1]['PC1'],\n",
    "        y=df_pca_3[df_pca_3['cluster']==1]['PC2'],\n",
    "        z=df_pca_3[df_pca_3['cluster']==1]['PC3'],\n",
    "        mode=\"markers\",\n",
    "        marker=dict(\n",
    "                    size=10,\n",
    "                    color=\"rgb(0,255,0)\",\n",
    "        ),\n",
    "        name=\"Cluster 1\"\n",
    ")\n",
    "\n",
    "# # klaster 3\n",
    "# Cluster2= go.Scatter3d(\n",
    "#         x=df_pca_3[df_pca_3['cluster']==2]['PC1'],\n",
    "#         y=df_pca_3[df_pca_3['cluster']==2]['PC2'],\n",
    "#         z=df_pca_3[df_pca_3['cluster']==2]['PC3'],\n",
    "#         mode=\"markers\",\n",
    "#         marker=dict(\n",
    "#                     size=10,\n",
    "#                     color=\"rgb(0,0,255)\",\n",
    "#         ),\n",
    "#         name=\"Cluster 2\"\n",
    "# )\n",
    "# klaster noise\n",
    "Cluster3= go.Scatter3d(\n",
    "        x=df_pca_3[df_pca_3['cluster']==-1]['PC1'],\n",
    "        y=df_pca_3[df_pca_3['cluster']==-1]['PC2'],\n",
    "        z=df_pca_3[df_pca_3['cluster']==-1]['PC3'],\n",
    "        mode=\"markers\",\n",
    "        marker=dict(\n",
    "                    size=10,\n",
    "                    color=\"rgb(255,225,0)\",\n",
    "        ),\n",
    "        name=\"Cluster Noise\"\n",
    ")\n",
    "\n",
    "data_plot_km=[Cluster0,Cluster1,Cluster3]\n",
    "\n",
    "# membuat plot\n",
    "layout = go.Layout(\n",
    "    margin=dict(l=0, r=0, b=0, t=0))\n",
    "\n",
    "fig=go.Figure(data = data_plot_km, layout = layout)\n",
    "iplot(fig)"
   ]
  },
  {
   "cell_type": "markdown",
   "metadata": {},
   "source": [
    "# BIRCH"
   ]
  },
  {
   "cell_type": "code",
   "execution_count": 349,
   "metadata": {},
   "outputs": [
    {
     "name": "stdout",
     "output_type": "stream",
     "text": [
      "Clusters present: [0 1 2]\n",
      "Number of clusters formed: 3\n",
      "Clusters sizes: [40  1  4] \n",
      "\n",
      "Silhouette Score: 0.4902636420089914\n",
      "Calinski-Harabasz Index: 19.63209953997143\n",
      "Davies-Bouldin Index: 0.627493894362586\n",
      "cluster\n",
      "0    40\n",
      "2     4\n",
      "1     1\n",
      "Name: count, dtype: int64\n"
     ]
    },
    {
     "data": {
      "text/html": [
       "<div>\n",
       "<style scoped>\n",
       "    .dataframe tbody tr th:only-of-type {\n",
       "        vertical-align: middle;\n",
       "    }\n",
       "\n",
       "    .dataframe tbody tr th {\n",
       "        vertical-align: top;\n",
       "    }\n",
       "\n",
       "    .dataframe thead th {\n",
       "        text-align: right;\n",
       "    }\n",
       "</style>\n",
       "<table border=\"1\" class=\"dataframe\">\n",
       "  <thead>\n",
       "    <tr style=\"text-align: right;\">\n",
       "      <th></th>\n",
       "      <th>ROA</th>\n",
       "      <th>Market Cap</th>\n",
       "      <th>Mean Return</th>\n",
       "      <th>Variance Return</th>\n",
       "      <th>cluster</th>\n",
       "    </tr>\n",
       "    <tr>\n",
       "      <th>Ticker</th>\n",
       "      <th></th>\n",
       "      <th></th>\n",
       "      <th></th>\n",
       "      <th></th>\n",
       "      <th></th>\n",
       "    </tr>\n",
       "  </thead>\n",
       "  <tbody>\n",
       "    <tr>\n",
       "      <th>ACES.JK</th>\n",
       "      <td>0.252813</td>\n",
       "      <td>-0.503589</td>\n",
       "      <td>0.412495</td>\n",
       "      <td>-0.015084</td>\n",
       "      <td>0</td>\n",
       "    </tr>\n",
       "    <tr>\n",
       "      <th>ADMR.JK</th>\n",
       "      <td>0.860011</td>\n",
       "      <td>-0.325757</td>\n",
       "      <td>0.133485</td>\n",
       "      <td>0.311211</td>\n",
       "      <td>0</td>\n",
       "    </tr>\n",
       "    <tr>\n",
       "      <th>ADRO.JK</th>\n",
       "      <td>0.471649</td>\n",
       "      <td>-0.248688</td>\n",
       "      <td>2.254371</td>\n",
       "      <td>0.823429</td>\n",
       "      <td>0</td>\n",
       "    </tr>\n",
       "    <tr>\n",
       "      <th>AKRA.JK</th>\n",
       "      <td>0.228107</td>\n",
       "      <td>-0.448638</td>\n",
       "      <td>-0.074903</td>\n",
       "      <td>-0.567337</td>\n",
       "      <td>0</td>\n",
       "    </tr>\n",
       "    <tr>\n",
       "      <th>AMMN.JK</th>\n",
       "      <td>-0.012974</td>\n",
       "      <td>2.448907</td>\n",
       "      <td>1.647973</td>\n",
       "      <td>0.691505</td>\n",
       "      <td>2</td>\n",
       "    </tr>\n",
       "  </tbody>\n",
       "</table>\n",
       "</div>"
      ],
      "text/plain": [
       "              ROA  Market Cap  Mean Return  Variance Return  cluster\n",
       "Ticker                                                              \n",
       "ACES.JK  0.252813   -0.503589     0.412495        -0.015084        0\n",
       "ADMR.JK  0.860011   -0.325757     0.133485         0.311211        0\n",
       "ADRO.JK  0.471649   -0.248688     2.254371         0.823429        0\n",
       "AKRA.JK  0.228107   -0.448638    -0.074903        -0.567337        0\n",
       "AMMN.JK -0.012974    2.448907     1.647973         0.691505        2"
      ]
     },
     "execution_count": 349,
     "metadata": {},
     "output_type": "execute_result"
    }
   ],
   "source": [
    "import numpy as np\n",
    "import pandas as pd\n",
    "from sklearn.cluster import Birch\n",
    "from sklearn.metrics import silhouette_score, calinski_harabasz_score, davies_bouldin_score\n",
    "\n",
    "# Assuming df_final is your DataFrame with features for clustering\n",
    "df_birch = df_final.copy()\n",
    "\n",
    "# Apply BIRCH clustering\n",
    "birch = Birch(n_clusters=3)\n",
    "birch.fit(df_birch)\n",
    "\n",
    "# Extract labels\n",
    "labels = birch.labels_\n",
    "\n",
    "# Calculate metrics\n",
    "unique_labels = np.unique(labels)\n",
    "n_clusters_formed = len(unique_labels)\n",
    "print(f'Clusters present: {unique_labels}')\n",
    "print(f'Number of clusters formed: {n_clusters_formed}')\n",
    "print(f'Clusters sizes: {np.bincount(labels)}', '\\n')\n",
    "\n",
    "# Calculate and print clustering evaluation metrics\n",
    "print(f'Silhouette Score: {silhouette_score(df_birch, labels)}')\n",
    "print(f'Calinski-Harabasz Index: {calinski_harabasz_score(df_birch, labels)}')\n",
    "print(f'Davies-Bouldin Index: {davies_bouldin_score(df_birch, labels)}')\n",
    "\n",
    "# Add cluster labels to the DataFrame\n",
    "df_birch['cluster'] = labels\n",
    "data['Cluster'] = labels\n",
    "\n",
    "# Show the cluster counts\n",
    "print(df_birch['cluster'].value_counts())\n",
    "df_birch.head()\n"
   ]
  },
  {
   "cell_type": "code",
   "execution_count": 350,
   "metadata": {},
   "outputs": [
    {
     "name": "stdout",
     "output_type": "stream",
     "text": [
      "              ROA       ROE       Market Cap  Mean Return  Variance Return  \\\n",
      "Ticker                                                                       \n",
      "PGAS.JK  0.042140  0.103040   38422777430016     0.002017         0.000332   \n",
      "GOTO.JK -1.670984 -2.383206   91717776703488    -0.000042         0.001415   \n",
      "AMMN.JK  0.027717  0.055417  683483982725120     0.001989         0.000777   \n",
      "\n",
      "         Cluster  sharpe_ratio  \n",
      "Ticker                          \n",
      "PGAS.JK        0      0.097624  \n",
      "GOTO.JK        1     -0.007451  \n",
      "AMMN.JK        2      0.062818  \n"
     ]
    }
   ],
   "source": [
    "# Risk-free rate (contoh: 6% per tahun, diubah ke harian)\n",
    "risk_free_rate = 0.06 / 252\n",
    "\n",
    "# Hitung Sharpe Ratio\n",
    "data['sharpe_ratio'] = (data['Mean Return'] - risk_free_rate) / np.sqrt(data['Variance Return'])\n",
    "\n",
    "# Ambil saham terbaik dari setiap cluster\n",
    "best_stocks = data.loc[data.groupby('Cluster')['sharpe_ratio'].idxmax()]\n",
    "\n",
    "print(best_stocks)"
   ]
  },
  {
   "cell_type": "code",
   "execution_count": 351,
   "metadata": {},
   "outputs": [
    {
     "name": "stdout",
     "output_type": "stream",
     "text": [
      "65.08414737534632 %\n"
     ]
    },
    {
     "data": {
      "text/plain": [
       "<Axes: xlabel='PC_1', ylabel='PC_2'>"
      ]
     },
     "execution_count": 351,
     "metadata": {},
     "output_type": "execute_result"
    },
    {
     "data": {
      "image/png": "[encoded data removed]",
      "text/plain": [
       "<Figure size 1000x800 with 1 Axes>"
      ]
     },
     "metadata": {},
     "output_type": "display_data"
    }
   ],
   "source": [
    "# Gunakan Dimensionality Reduction dengan PCA untuk mempermudah melakukan visualisasi\n",
    "\n",
    "pca = PCA(n_components = 2)\n",
    "df_pca2 = pd.DataFrame(pca.fit_transform(df_birch.iloc[:,:-1]),\n",
    "                      columns = ['PC_1', 'PC_2'],\n",
    "                      index = df_birch.index)\n",
    "\n",
    "df_pca2 = pd.concat([df_pca2, df_birch.cluster], axis = 1)\n",
    "# df_pca1.head()\n",
    "\n",
    "print(np.sum(pca.explained_variance_ratio_)*100, \"%\") # 2 Dimensi dapat menjelaskan keseluruhan fitur\n",
    "fig = plt.figure(figsize=(10, 8))\n",
    "ax = fig.add_subplot()\n",
    "sns.scatterplot(data = df_pca2, x = 'PC_1', y = 'PC_2', hue = 'cluster', s = 300, ax = ax)"
   ]
  },
  {
   "cell_type": "code",
   "execution_count": 352,
   "metadata": {},
   "outputs": [
    {
     "data": {
      "application/vnd.plotly.v1+json": {
       "config": {
        "linkText": "Export to plot.ly",
        "plotlyServerURL": "https://plot.ly",
        "showLink": false
       },
       "data": [
        {
         "marker": {
          "color": "rgb(255,0,0)",
          "size": 10
         },
         "mode": "markers",
         "name": "Cluster 0",
         "type": "scatter3d",
         "x": [
          -0.13258933167139833,
          -0.27151370569962613,
          -0.21666891500981242,
          -0.39102598908244257,
          -0.7062574961774118,
          0.012979153523070372,
          1.3996885042181562,
          -0.7323633622152951,
          -0.4010151922797581,
          0.05182562964091612,
          -0.167228533521787,
          2.8774512451738357,
          1.6706025170335967,
          -0.4656685962140094,
          0.36761150618788385,
          -0.2058608297618417,
          -0.6817618009838836,
          0.25663548946536785,
          -0.9118993109083492,
          -0.012597211542830593,
          -0.10916202968931295,
          -0.033568029919112154,
          -1.3116233187926498,
          -0.27044434521957983,
          -0.5547042819495968,
          0.6070951015582875,
          1.523142825995926,
          0.8172018521756569,
          0.14955666435882026,
          -0.2798406388907766,
          -0.7422111889567657,
          0.17996569560990605,
          -0.927611918269625,
          -0.8610631402201301,
          0.5913955638122179,
          0.09527249755539131,
          -0.45389334324446473,
          -0.017686973781575643,
          -1.1046622717559937,
          0.10493746570856005
         ],
         "y": [
          -0.18067624831579526,
          -0.41520348411674723,
          1.1715896473802676,
          -0.5164359715761184,
          -0.06734959356321507,
          -0.47259927684580255,
          -0.10485468354657976,
          -0.016971897664353076,
          0.007163105922093962,
          -0.3406348490305404,
          1.5203756781959827,
          0.12193190132926786,
          -1.09491434570603,
          -0.3020472713521886,
          0.68816369313678,
          -0.11077372321537038,
          0.13375970427859415,
          -0.7616379221207461,
          0.1436850580621474,
          -0.7247753947159176,
          -1.2168287447930441,
          0.15905555546325792,
          -0.16401231927975132,
          -0.6110847912158037,
          -0.7583618441201021,
          -0.5040828683380852,
          -0.05237611421828289,
          -0.6684802620462741,
          -0.035350743704780654,
          -0.5528350128734505,
          0.6704256906175279,
          -0.4286061017571163,
          0.023178308053508442,
          -0.5945133866202599,
          -1.8998532562883066,
          -0.37613517112416045,
          -0.4824044535880356,
          -1.0328292838609068,
          0.43209200335139636,
          -1.8591275254745203
         ],
         "z": [
          -0.6614525371345473,
          -0.4978052229897982,
          -2.045701934221174,
          -0.16871185733148514,
          -0.08210207288139744,
          -0.11055781346099047,
          -0.3723662623894917,
          0.41002289567416006,
          0.3547525102491774,
          -0.23791653841225727,
          -1.7233971483923047,
          -0.2954303389500229,
          0.7884792433872193,
          0.013717231603436644,
          -1.5797692066086764,
          -0.4466112130426089,
          -0.16661635064086902,
          0.20579919429418608,
          -0.5767248159957917,
          0.2841419575292474,
          0.7154206006940709,
          -0.5008888149519917,
          -0.875590962245164,
          0.08162128564427212,
          0.3615454575397911,
          -0.1362112051073605,
          -0.3151557415280618,
          0.3750193926646921,
          -0.636171056510782,
          0.19168400784768116,
          -1.3950674634967355,
          -0.09108753377343198,
          -0.9337457545471314,
          -0.4817846997019511,
          1.6200599380207097,
          -0.28260278468314004,
          1.3636504049157967,
          0.613762706138272,
          -0.9285268199841764,
          1.2786877989343994
         ]
        },
        {
         "marker": {
          "color": "rgb(0,255,0)",
          "size": 10
         },
         "mode": "markers",
         "name": "Cluster 1",
         "type": "scatter3d",
         "x": [
          5.870262350656411
         ],
         "y": [
          2.5247294620445246
         ],
         "z": [
          0.7075386928154441
         ]
        },
        {
         "marker": {
          "color": "rgb(0,0,255)",
          "size": 10
         },
         "mode": "markers",
         "name": "Cluster 2",
         "type": "scatter3d",
         "x": [
          -0.5918938856768137,
          -2.1696655729959873,
          -0.8680534902344987,
          -0.9830893580086751
         ],
         "y": [
          2.77503578022166,
          3.4827542675756313,
          0.9922136536195307,
          1.4996030318201123
         ],
         "z": [
          0.1984746478974758,
          2.8506947865600485,
          2.0940074446046566,
          1.0329159519666042
         ]
        }
       ],
       "layout": {
        "margin": {
         "b": 0,
         "l": 0,
         "r": 0,
         "t": 0
        },
        "template": {
         "data": {
          "bar": [
           {
            "error_x": {
             "color": "#2a3f5f"
            },
            "error_y": {
             "color": "#2a3f5f"
            },
            "marker": {
             "line": {
              "color": "#E5ECF6",
              "width": 0.5
             },
             "pattern": {
              "fillmode": "overlay",
              "size": 10,
              "solidity": 0.2
             }
            },
            "type": "bar"
           }
          ],
          "barpolar": [
           {
            "marker": {
             "line": {
              "color": "#E5ECF6",
              "width": 0.5
             },
             "pattern": {
              "fillmode": "overlay",
              "size": 10,
              "solidity": 0.2
             }
            },
            "type": "barpolar"
           }
          ],
          "carpet": [
           {
            "aaxis": {
             "endlinecolor": "#2a3f5f",
             "gridcolor": "white",
             "linecolor": "white",
             "minorgridcolor": "white",
             "startlinecolor": "#2a3f5f"
            },
            "baxis": {
             "endlinecolor": "#2a3f5f",
             "gridcolor": "white",
             "linecolor": "white",
             "minorgridcolor": "white",
             "startlinecolor": "#2a3f5f"
            },
            "type": "carpet"
           }
          ],
          "choropleth": [
           {
            "colorbar": {
             "outlinewidth": 0,
             "ticks": ""
            },
            "type": "choropleth"
           }
          ],
          "contour": [
           {
            "colorbar": {
             "outlinewidth": 0,
             "ticks": ""
            },
            "colorscale": [
             [
              0,
              "#0d0887"
             ],
             [
              0.1111111111111111,
              "#46039f"
             ],
             [
              0.2222222222222222,
              "#7201a8"
             ],
             [
              0.3333333333333333,
              "#9c179e"
             ],
             [
              0.4444444444444444,
              "#bd3786"
             ],
             [
              0.5555555555555556,
              "#d8576b"
             ],
             [
              0.6666666666666666,
              "#ed7953"
             ],
             [
              0.7777777777777778,
              "#fb9f3a"
             ],
             [
              0.8888888888888888,
              "#fdca26"
             ],
             [
              1,
              "#f0f921"
             ]
            ],
            "type": "contour"
           }
          ],
          "contourcarpet": [
           {
            "colorbar": {
             "outlinewidth": 0,
             "ticks": ""
            },
            "type": "contourcarpet"
           }
          ],
          "heatmap": [
           {
            "colorbar": {
             "outlinewidth": 0,
             "ticks": ""
            },
            "colorscale": [
             [
              0,
              "#0d0887"
             ],
             [
              0.1111111111111111,
              "#46039f"
             ],
             [
              0.2222222222222222,
              "#7201a8"
             ],
             [
              0.3333333333333333,
              "#9c179e"
             ],
             [
              0.4444444444444444,
              "#bd3786"
             ],
             [
              0.5555555555555556,
              "#d8576b"
             ],
             [
              0.6666666666666666,
              "#ed7953"
             ],
             [
              0.7777777777777778,
              "#fb9f3a"
             ],
             [
              0.8888888888888888,
              "#fdca26"
             ],
             [
              1,
              "#f0f921"
             ]
            ],
            "type": "heatmap"
           }
          ],
          "heatmapgl": [
           {
            "colorbar": {
             "outlinewidth": 0,
             "ticks": ""
            },
            "colorscale": [
             [
              0,
              "#0d0887"
             ],
             [
              0.1111111111111111,
              "#46039f"
             ],
             [
              0.2222222222222222,
              "#7201a8"
             ],
             [
              0.3333333333333333,
              "#9c179e"
             ],
             [
              0.4444444444444444,
              "#bd3786"
             ],
             [
              0.5555555555555556,
              "#d8576b"
             ],
             [
              0.6666666666666666,
              "#ed7953"
             ],
             [
              0.7777777777777778,
              "#fb9f3a"
             ],
             [
              0.8888888888888888,
              "#fdca26"
             ],
             [
              1,
              "#f0f921"
             ]
            ],
            "type": "heatmapgl"
           }
          ],
          "histogram": [
           {
            "marker": {
             "pattern": {
              "fillmode": "overlay",
              "size": 10,
              "solidity": 0.2
             }
            },
            "type": "histogram"
           }
          ],
          "histogram2d": [
           {
            "colorbar": {
             "outlinewidth": 0,
             "ticks": ""
            },
            "colorscale": [
             [
              0,
              "#0d0887"
             ],
             [
              0.1111111111111111,
              "#46039f"
             ],
             [
              0.2222222222222222,
              "#7201a8"
             ],
             [
              0.3333333333333333,
              "#9c179e"
             ],
             [
              0.4444444444444444,
              "#bd3786"
             ],
             [
              0.5555555555555556,
              "#d8576b"
             ],
             [
              0.6666666666666666,
              "#ed7953"
             ],
             [
              0.7777777777777778,
              "#fb9f3a"
             ],
             [
              0.8888888888888888,
              "#fdca26"
             ],
             [
              1,
              "#f0f921"
             ]
            ],
            "type": "histogram2d"
           }
          ],
          "histogram2dcontour": [
           {
            "colorbar": {
             "outlinewidth": 0,
             "ticks": ""
            },
            "colorscale": [
             [
              0,
              "#0d0887"
             ],
             [
              0.1111111111111111,
              "#46039f"
             ],
             [
              0.2222222222222222,
              "#7201a8"
             ],
             [
              0.3333333333333333,
              "#9c179e"
             ],
             [
              0.4444444444444444,
              "#bd3786"
             ],
             [
              0.5555555555555556,
              "#d8576b"
             ],
             [
              0.6666666666666666,
              "#ed7953"
             ],
             [
              0.7777777777777778,
              "#fb9f3a"
             ],
             [
              0.8888888888888888,
              "#fdca26"
             ],
             [
              1,
              "#f0f921"
             ]
            ],
            "type": "histogram2dcontour"
           }
          ],
          "mesh3d": [
           {
            "colorbar": {
             "outlinewidth": 0,
             "ticks": ""
            },
            "type": "mesh3d"
           }
          ],
          "parcoords": [
           {
            "line": {
             "colorbar": {
              "outlinewidth": 0,
              "ticks": ""
             }
            },
            "type": "parcoords"
           }
          ],
          "pie": [
           {
            "automargin": true,
            "type": "pie"
           }
          ],
          "scatter": [
           {
            "fillpattern": {
             "fillmode": "overlay",
             "size": 10,
             "solidity": 0.2
            },
            "type": "scatter"
           }
          ],
          "scatter3d": [
           {
            "line": {
             "colorbar": {
              "outlinewidth": 0,
              "ticks": ""
             }
            },
            "marker": {
             "colorbar": {
              "outlinewidth": 0,
              "ticks": ""
             }
            },
            "type": "scatter3d"
           }
          ],
          "scattercarpet": [
           {
            "marker": {
             "colorbar": {
              "outlinewidth": 0,
              "ticks": ""
             }
            },
            "type": "scattercarpet"
           }
          ],
          "scattergeo": [
           {
            "marker": {
             "colorbar": {
              "outlinewidth": 0,
              "ticks": ""
             }
            },
            "type": "scattergeo"
           }
          ],
          "scattergl": [
           {
            "marker": {
             "colorbar": {
              "outlinewidth": 0,
              "ticks": ""
             }
            },
            "type": "scattergl"
           }
          ],
          "scattermapbox": [
           {
            "marker": {
             "colorbar": {
              "outlinewidth": 0,
              "ticks": ""
             }
            },
            "type": "scattermapbox"
           }
          ],
          "scatterpolar": [
           {
            "marker": {
             "colorbar": {
              "outlinewidth": 0,
              "ticks": ""
             }
            },
            "type": "scatterpolar"
           }
          ],
          "scatterpolargl": [
           {
            "marker": {
             "colorbar": {
              "outlinewidth": 0,
              "ticks": ""
             }
            },
            "type": "scatterpolargl"
           }
          ],
          "scatterternary": [
           {
            "marker": {
             "colorbar": {
              "outlinewidth": 0,
              "ticks": ""
             }
            },
            "type": "scatterternary"
           }
          ],
          "surface": [
           {
            "colorbar": {
             "outlinewidth": 0,
             "ticks": ""
            },
            "colorscale": [
             [
              0,
              "#0d0887"
             ],
             [
              0.1111111111111111,
              "#46039f"
             ],
             [
              0.2222222222222222,
              "#7201a8"
             ],
             [
              0.3333333333333333,
              "#9c179e"
             ],
             [
              0.4444444444444444,
              "#bd3786"
             ],
             [
              0.5555555555555556,
              "#d8576b"
             ],
             [
              0.6666666666666666,
              "#ed7953"
             ],
             [
              0.7777777777777778,
              "#fb9f3a"
             ],
             [
              0.8888888888888888,
              "#fdca26"
             ],
             [
              1,
              "#f0f921"
             ]
            ],
            "type": "surface"
           }
          ],
          "table": [
           {
            "cells": {
             "fill": {
              "color": "#EBF0F8"
             },
             "line": {
              "color": "white"
             }
            },
            "header": {
             "fill": {
              "color": "#C8D4E3"
             },
             "line": {
              "color": "white"
             }
            },
            "type": "table"
           }
          ]
         },
         "layout": {
          "annotationdefaults": {
           "arrowcolor": "#2a3f5f",
           "arrowhead": 0,
           "arrowwidth": 1
          },
          "autotypenumbers": "strict",
          "coloraxis": {
           "colorbar": {
            "outlinewidth": 0,
            "ticks": ""
           }
          },
          "colorscale": {
           "diverging": [
            [
             0,
             "#8e0152"
            ],
            [
             0.1,
             "#c51b7d"
            ],
            [
             0.2,
             "#de77ae"
            ],
            [
             0.3,
             "#f1b6da"
            ],
            [
             0.4,
             "#fde0ef"
            ],
            [
             0.5,
             "#f7f7f7"
            ],
            [
             0.6,
             "#e6f5d0"
            ],
            [
             0.7,
             "#b8e186"
            ],
            [
             0.8,
             "#7fbc41"
            ],
            [
             0.9,
             "#4d9221"
            ],
            [
             1,
             "#276419"
            ]
           ],
           "sequential": [
            [
             0,
             "#0d0887"
            ],
            [
             0.1111111111111111,
             "#46039f"
            ],
            [
             0.2222222222222222,
             "#7201a8"
            ],
            [
             0.3333333333333333,
             "#9c179e"
            ],
            [
             0.4444444444444444,
             "#bd3786"
            ],
            [
             0.5555555555555556,
             "#d8576b"
            ],
            [
             0.6666666666666666,
             "#ed7953"
            ],
            [
             0.7777777777777778,
             "#fb9f3a"
            ],
            [
             0.8888888888888888,
             "#fdca26"
            ],
            [
             1,
             "#f0f921"
            ]
           ],
           "sequentialminus": [
            [
             0,
             "#0d0887"
            ],
            [
             0.1111111111111111,
             "#46039f"
            ],
            [
             0.2222222222222222,
             "#7201a8"
            ],
            [
             0.3333333333333333,
             "#9c179e"
            ],
            [
             0.4444444444444444,
             "#bd3786"
            ],
            [
             0.5555555555555556,
             "#d8576b"
            ],
            [
             0.6666666666666666,
             "#ed7953"
            ],
            [
             0.7777777777777778,
             "#fb9f3a"
            ],
            [
             0.8888888888888888,
             "#fdca26"
            ],
            [
             1,
             "#f0f921"
            ]
           ]
          },
          "colorway": [
           "#636efa",
           "#EF553B",
           "#00cc96",
           "#ab63fa",
           "#FFA15A",
           "#19d3f3",
           "#FF6692",
           "#B6E880",
           "#FF97FF",
           "#FECB52"
          ],
          "font": {
           "color": "#2a3f5f"
          },
          "geo": {
           "bgcolor": "white",
           "lakecolor": "white",
           "landcolor": "#E5ECF6",
           "showlakes": true,
           "showland": true,
           "subunitcolor": "white"
          },
          "hoverlabel": {
           "align": "left"
          },
          "hovermode": "closest",
          "mapbox": {
           "style": "light"
          },
          "paper_bgcolor": "white",
          "plot_bgcolor": "#E5ECF6",
          "polar": {
           "angularaxis": {
            "gridcolor": "white",
            "linecolor": "white",
            "ticks": ""
           },
           "bgcolor": "#E5ECF6",
           "radialaxis": {
            "gridcolor": "white",
            "linecolor": "white",
            "ticks": ""
           }
          },
          "scene": {
           "xaxis": {
            "backgroundcolor": "#E5ECF6",
            "gridcolor": "white",
            "gridwidth": 2,
            "linecolor": "white",
            "showbackground": true,
            "ticks": "",
            "zerolinecolor": "white"
           },
           "yaxis": {
            "backgroundcolor": "#E5ECF6",
            "gridcolor": "white",
            "gridwidth": 2,
            "linecolor": "white",
            "showbackground": true,
            "ticks": "",
            "zerolinecolor": "white"
           },
           "zaxis": {
            "backgroundcolor": "#E5ECF6",
            "gridcolor": "white",
            "gridwidth": 2,
            "linecolor": "white",
            "showbackground": true,
            "ticks": "",
            "zerolinecolor": "white"
           }
          },
          "shapedefaults": {
           "line": {
            "color": "#2a3f5f"
           }
          },
          "ternary": {
           "aaxis": {
            "gridcolor": "white",
            "linecolor": "white",
            "ticks": ""
           },
           "baxis": {
            "gridcolor": "white",
            "linecolor": "white",
            "ticks": ""
           },
           "bgcolor": "#E5ECF6",
           "caxis": {
            "gridcolor": "white",
            "linecolor": "white",
            "ticks": ""
           }
          },
          "title": {
           "x": 0.05
          },
          "xaxis": {
           "automargin": true,
           "gridcolor": "white",
           "linecolor": "white",
           "ticks": "",
           "title": {
            "standoff": 15
           },
           "zerolinecolor": "white",
           "zerolinewidth": 2
          },
          "yaxis": {
           "automargin": true,
           "gridcolor": "white",
           "linecolor": "white",
           "ticks": "",
           "title": {
            "standoff": 15
           },
           "zerolinecolor": "white",
           "zerolinewidth": 2
          }
         }
        }
       }
      },
      "text/html": [
       "<div>                            <div id=\"cdd23ac1-6320-4248-9c1e-ee27f7ec9339\" class=\"plotly-graph-div\" style=\"height:525px; width:100%;\"></div>            <script type=\"text/javascript\">                require([\"plotly\"], function(Plotly) {                    window.PLOTLYENV=window.PLOTLYENV || {};                                    if (document.getElementById(\"cdd23ac1-6320-4248-9c1e-ee27f7ec9339\")) {                    Plotly.newPlot(                        \"cdd23ac1-6320-4248-9c1e-ee27f7ec9339\",                        [{\"marker\":{\"color\":\"rgb(255,0,0)\",\"size\":10},\"mode\":\"markers\",\"name\":\"Cluster 0\",\"x\":[-0.13258933167139833,-0.27151370569962613,-0.21666891500981242,-0.39102598908244257,-0.7062574961774118,0.012979153523070372,1.3996885042181562,-0.7323633622152951,-0.4010151922797581,0.05182562964091612,-0.167228533521787,2.8774512451738357,1.6706025170335967,-0.4656685962140094,0.36761150618788385,-0.2058608297618417,-0.6817618009838836,0.25663548946536785,-0.9118993109083492,-0.012597211542830593,-0.10916202968931295,-0.033568029919112154,-1.3116233187926498,-0.27044434521957983,-0.5547042819495968,0.6070951015582875,1.523142825995926,0.8172018521756569,0.14955666435882026,-0.2798406388907766,-0.7422111889567657,0.17996569560990605,-0.927611918269625,-0.8610631402201301,0.5913955638122179,0.09527249755539131,-0.45389334324446473,-0.017686973781575643,-1.1046622717559937,0.10493746570856005],\"y\":[-0.18067624831579526,-0.41520348411674723,1.1715896473802676,-0.5164359715761184,-0.06734959356321507,-0.47259927684580255,-0.10485468354657976,-0.016971897664353076,0.007163105922093962,-0.3406348490305404,1.5203756781959827,0.12193190132926786,-1.09491434570603,-0.3020472713521886,0.68816369313678,-0.11077372321537038,0.13375970427859415,-0.7616379221207461,0.1436850580621474,-0.7247753947159176,-1.2168287447930441,0.15905555546325792,-0.16401231927975132,-0.6110847912158037,-0.7583618441201021,-0.5040828683380852,-0.05237611421828289,-0.6684802620462741,-0.035350743704780654,-0.5528350128734505,0.6704256906175279,-0.4286061017571163,0.023178308053508442,-0.5945133866202599,-1.8998532562883066,-0.37613517112416045,-0.4824044535880356,-1.0328292838609068,0.43209200335139636,-1.8591275254745203],\"z\":[-0.6614525371345473,-0.4978052229897982,-2.045701934221174,-0.16871185733148514,-0.08210207288139744,-0.11055781346099047,-0.3723662623894917,0.41002289567416006,0.3547525102491774,-0.23791653841225727,-1.7233971483923047,-0.2954303389500229,0.7884792433872193,0.013717231603436644,-1.5797692066086764,-0.4466112130426089,-0.16661635064086902,0.20579919429418608,-0.5767248159957917,0.2841419575292474,0.7154206006940709,-0.5008888149519917,-0.875590962245164,0.08162128564427212,0.3615454575397911,-0.1362112051073605,-0.3151557415280618,0.3750193926646921,-0.636171056510782,0.19168400784768116,-1.3950674634967355,-0.09108753377343198,-0.9337457545471314,-0.4817846997019511,1.6200599380207097,-0.28260278468314004,1.3636504049157967,0.613762706138272,-0.9285268199841764,1.2786877989343994],\"type\":\"scatter3d\"},{\"marker\":{\"color\":\"rgb(0,255,0)\",\"size\":10},\"mode\":\"markers\",\"name\":\"Cluster 1\",\"x\":[5.870262350656411],\"y\":[2.5247294620445246],\"z\":[0.7075386928154441],\"type\":\"scatter3d\"},{\"marker\":{\"color\":\"rgb(0,0,255)\",\"size\":10},\"mode\":\"markers\",\"name\":\"Cluster 2\",\"x\":[-0.5918938856768137,-2.1696655729959873,-0.8680534902344987,-0.9830893580086751],\"y\":[2.77503578022166,3.4827542675756313,0.9922136536195307,1.4996030318201123],\"z\":[0.1984746478974758,2.8506947865600485,2.0940074446046566,1.0329159519666042],\"type\":\"scatter3d\"}],                        {\"margin\":{\"b\":0,\"l\":0,\"r\":0,\"t\":0},\"template\":{\"data\":{\"barpolar\":[{\"marker\":{\"line\":{\"color\":\"#E5ECF6\",\"width\":0.5},\"pattern\":{\"fillmode\":\"overlay\",\"size\":10,\"solidity\":0.2}},\"type\":\"barpolar\"}],\"bar\":[{\"error_x\":{\"color\":\"#2a3f5f\"},\"error_y\":{\"color\":\"#2a3f5f\"},\"marker\":{\"line\":{\"color\":\"#E5ECF6\",\"width\":0.5},\"pattern\":{\"fillmode\":\"overlay\",\"size\":10,\"solidity\":0.2}},\"type\":\"bar\"}],\"carpet\":[{\"aaxis\":{\"endlinecolor\":\"#2a3f5f\",\"gridcolor\":\"white\",\"linecolor\":\"white\",\"minorgridcolor\":\"white\",\"startlinecolor\":\"#2a3f5f\"},\"baxis\":{\"endlinecolor\":\"#2a3f5f\",\"gridcolor\":\"white\",\"linecolor\":\"white\",\"minorgridcolor\":\"white\",\"startlinecolor\":\"#2a3f5f\"},\"type\":\"carpet\"}],\"choropleth\":[{\"colorbar\":{\"outlinewidth\":0,\"ticks\":\"\"},\"type\":\"choropleth\"}],\"contourcarpet\":[{\"colorbar\":{\"outlinewidth\":0,\"ticks\":\"\"},\"type\":\"contourcarpet\"}],\"contour\":[{\"colorbar\":{\"outlinewidth\":0,\"ticks\":\"\"},\"colorscale\":[[0.0,\"#0d0887\"],[0.1111111111111111,\"#46039f\"],[0.2222222222222222,\"#7201a8\"],[0.3333333333333333,\"#9c179e\"],[0.4444444444444444,\"#bd3786\"],[0.5555555555555556,\"#d8576b\"],[0.6666666666666666,\"#ed7953\"],[0.7777777777777778,\"#fb9f3a\"],[0.8888888888888888,\"#fdca26\"],[1.0,\"#f0f921\"]],\"type\":\"contour\"}],\"heatmapgl\":[{\"colorbar\":{\"outlinewidth\":0,\"ticks\":\"\"},\"colorscale\":[[0.0,\"#0d0887\"],[0.1111111111111111,\"#46039f\"],[0.2222222222222222,\"#7201a8\"],[0.3333333333333333,\"#9c179e\"],[0.4444444444444444,\"#bd3786\"],[0.5555555555555556,\"#d8576b\"],[0.6666666666666666,\"#ed7953\"],[0.7777777777777778,\"#fb9f3a\"],[0.8888888888888888,\"#fdca26\"],[1.0,\"#f0f921\"]],\"type\":\"heatmapgl\"}],\"heatmap\":[{\"colorbar\":{\"outlinewidth\":0,\"ticks\":\"\"},\"colorscale\":[[0.0,\"#0d0887\"],[0.1111111111111111,\"#46039f\"],[0.2222222222222222,\"#7201a8\"],[0.3333333333333333,\"#9c179e\"],[0.4444444444444444,\"#bd3786\"],[0.5555555555555556,\"#d8576b\"],[0.6666666666666666,\"#ed7953\"],[0.7777777777777778,\"#fb9f3a\"],[0.8888888888888888,\"#fdca26\"],[1.0,\"#f0f921\"]],\"type\":\"heatmap\"}],\"histogram2dcontour\":[{\"colorbar\":{\"outlinewidth\":0,\"ticks\":\"\"},\"colorscale\":[[0.0,\"#0d0887\"],[0.1111111111111111,\"#46039f\"],[0.2222222222222222,\"#7201a8\"],[0.3333333333333333,\"#9c179e\"],[0.4444444444444444,\"#bd3786\"],[0.5555555555555556,\"#d8576b\"],[0.6666666666666666,\"#ed7953\"],[0.7777777777777778,\"#fb9f3a\"],[0.8888888888888888,\"#fdca26\"],[1.0,\"#f0f921\"]],\"type\":\"histogram2dcontour\"}],\"histogram2d\":[{\"colorbar\":{\"outlinewidth\":0,\"ticks\":\"\"},\"colorscale\":[[0.0,\"#0d0887\"],[0.1111111111111111,\"#46039f\"],[0.2222222222222222,\"#7201a8\"],[0.3333333333333333,\"#9c179e\"],[0.4444444444444444,\"#bd3786\"],[0.5555555555555556,\"#d8576b\"],[0.6666666666666666,\"#ed7953\"],[0.7777777777777778,\"#fb9f3a\"],[0.8888888888888888,\"#fdca26\"],[1.0,\"#f0f921\"]],\"type\":\"histogram2d\"}],\"histogram\":[{\"marker\":{\"pattern\":{\"fillmode\":\"overlay\",\"size\":10,\"solidity\":0.2}},\"type\":\"histogram\"}],\"mesh3d\":[{\"colorbar\":{\"outlinewidth\":0,\"ticks\":\"\"},\"type\":\"mesh3d\"}],\"parcoords\":[{\"line\":{\"colorbar\":{\"outlinewidth\":0,\"ticks\":\"\"}},\"type\":\"parcoords\"}],\"pie\":[{\"automargin\":true,\"type\":\"pie\"}],\"scatter3d\":[{\"line\":{\"colorbar\":{\"outlinewidth\":0,\"ticks\":\"\"}},\"marker\":{\"colorbar\":{\"outlinewidth\":0,\"ticks\":\"\"}},\"type\":\"scatter3d\"}],\"scattercarpet\":[{\"marker\":{\"colorbar\":{\"outlinewidth\":0,\"ticks\":\"\"}},\"type\":\"scattercarpet\"}],\"scattergeo\":[{\"marker\":{\"colorbar\":{\"outlinewidth\":0,\"ticks\":\"\"}},\"type\":\"scattergeo\"}],\"scattergl\":[{\"marker\":{\"colorbar\":{\"outlinewidth\":0,\"ticks\":\"\"}},\"type\":\"scattergl\"}],\"scattermapbox\":[{\"marker\":{\"colorbar\":{\"outlinewidth\":0,\"ticks\":\"\"}},\"type\":\"scattermapbox\"}],\"scatterpolargl\":[{\"marker\":{\"colorbar\":{\"outlinewidth\":0,\"ticks\":\"\"}},\"type\":\"scatterpolargl\"}],\"scatterpolar\":[{\"marker\":{\"colorbar\":{\"outlinewidth\":0,\"ticks\":\"\"}},\"type\":\"scatterpolar\"}],\"scatter\":[{\"fillpattern\":{\"fillmode\":\"overlay\",\"size\":10,\"solidity\":0.2},\"type\":\"scatter\"}],\"scatterternary\":[{\"marker\":{\"colorbar\":{\"outlinewidth\":0,\"ticks\":\"\"}},\"type\":\"scatterternary\"}],\"surface\":[{\"colorbar\":{\"outlinewidth\":0,\"ticks\":\"\"},\"colorscale\":[[0.0,\"#0d0887\"],[0.1111111111111111,\"#46039f\"],[0.2222222222222222,\"#7201a8\"],[0.3333333333333333,\"#9c179e\"],[0.4444444444444444,\"#bd3786\"],[0.5555555555555556,\"#d8576b\"],[0.6666666666666666,\"#ed7953\"],[0.7777777777777778,\"#fb9f3a\"],[0.8888888888888888,\"#fdca26\"],[1.0,\"#f0f921\"]],\"type\":\"surface\"}],\"table\":[{\"cells\":{\"fill\":{\"color\":\"#EBF0F8\"},\"line\":{\"color\":\"white\"}},\"header\":{\"fill\":{\"color\":\"#C8D4E3\"},\"line\":{\"color\":\"white\"}},\"type\":\"table\"}]},\"layout\":{\"annotationdefaults\":{\"arrowcolor\":\"#2a3f5f\",\"arrowhead\":0,\"arrowwidth\":1},\"autotypenumbers\":\"strict\",\"coloraxis\":{\"colorbar\":{\"outlinewidth\":0,\"ticks\":\"\"}},\"colorscale\":{\"diverging\":[[0,\"#8e0152\"],[0.1,\"#c51b7d\"],[0.2,\"#de77ae\"],[0.3,\"#f1b6da\"],[0.4,\"#fde0ef\"],[0.5,\"#f7f7f7\"],[0.6,\"#e6f5d0\"],[0.7,\"#b8e186\"],[0.8,\"#7fbc41\"],[0.9,\"#4d9221\"],[1,\"#276419\"]],\"sequential\":[[0.0,\"#0d0887\"],[0.1111111111111111,\"#46039f\"],[0.2222222222222222,\"#7201a8\"],[0.3333333333333333,\"#9c179e\"],[0.4444444444444444,\"#bd3786\"],[0.5555555555555556,\"#d8576b\"],[0.6666666666666666,\"#ed7953\"],[0.7777777777777778,\"#fb9f3a\"],[0.8888888888888888,\"#fdca26\"],[1.0,\"#f0f921\"]],\"sequentialminus\":[[0.0,\"#0d0887\"],[0.1111111111111111,\"#46039f\"],[0.2222222222222222,\"#7201a8\"],[0.3333333333333333,\"#9c179e\"],[0.4444444444444444,\"#bd3786\"],[0.5555555555555556,\"#d8576b\"],[0.6666666666666666,\"#ed7953\"],[0.7777777777777778,\"#fb9f3a\"],[0.8888888888888888,\"#fdca26\"],[1.0,\"#f0f921\"]]},\"colorway\":[\"#636efa\",\"#EF553B\",\"#00cc96\",\"#ab63fa\",\"#FFA15A\",\"#19d3f3\",\"#FF6692\",\"#B6E880\",\"#FF97FF\",\"#FECB52\"],\"font\":{\"color\":\"#2a3f5f\"},\"geo\":{\"bgcolor\":\"white\",\"lakecolor\":\"white\",\"landcolor\":\"#E5ECF6\",\"showlakes\":true,\"showland\":true,\"subunitcolor\":\"white\"},\"hoverlabel\":{\"align\":\"left\"},\"hovermode\":\"closest\",\"mapbox\":{\"style\":\"light\"},\"paper_bgcolor\":\"white\",\"plot_bgcolor\":\"#E5ECF6\",\"polar\":{\"angularaxis\":{\"gridcolor\":\"white\",\"linecolor\":\"white\",\"ticks\":\"\"},\"bgcolor\":\"#E5ECF6\",\"radialaxis\":{\"gridcolor\":\"white\",\"linecolor\":\"white\",\"ticks\":\"\"}},\"scene\":{\"xaxis\":{\"backgroundcolor\":\"#E5ECF6\",\"gridcolor\":\"white\",\"gridwidth\":2,\"linecolor\":\"white\",\"showbackground\":true,\"ticks\":\"\",\"zerolinecolor\":\"white\"},\"yaxis\":{\"backgroundcolor\":\"#E5ECF6\",\"gridcolor\":\"white\",\"gridwidth\":2,\"linecolor\":\"white\",\"showbackground\":true,\"ticks\":\"\",\"zerolinecolor\":\"white\"},\"zaxis\":{\"backgroundcolor\":\"#E5ECF6\",\"gridcolor\":\"white\",\"gridwidth\":2,\"linecolor\":\"white\",\"showbackground\":true,\"ticks\":\"\",\"zerolinecolor\":\"white\"}},\"shapedefaults\":{\"line\":{\"color\":\"#2a3f5f\"}},\"ternary\":{\"aaxis\":{\"gridcolor\":\"white\",\"linecolor\":\"white\",\"ticks\":\"\"},\"baxis\":{\"gridcolor\":\"white\",\"linecolor\":\"white\",\"ticks\":\"\"},\"bgcolor\":\"#E5ECF6\",\"caxis\":{\"gridcolor\":\"white\",\"linecolor\":\"white\",\"ticks\":\"\"}},\"title\":{\"x\":0.05},\"xaxis\":{\"automargin\":true,\"gridcolor\":\"white\",\"linecolor\":\"white\",\"ticks\":\"\",\"title\":{\"standoff\":15},\"zerolinecolor\":\"white\",\"zerolinewidth\":2},\"yaxis\":{\"automargin\":true,\"gridcolor\":\"white\",\"linecolor\":\"white\",\"ticks\":\"\",\"title\":{\"standoff\":15},\"zerolinecolor\":\"white\",\"zerolinewidth\":2}}}},                        {\"responsive\": true}                    ).then(function(){\n",
       "                            \n",
       "var gd = document.getElementById('cdd23ac1-6320-4248-9c1e-ee27f7ec9339');\n",
       "var x = new MutationObserver(function (mutations, observer) {{\n",
       "        var display = window.getComputedStyle(gd).display;\n",
       "        if (!display || display === 'none') {{\n",
       "            console.log([gd, 'removed!']);\n",
       "            Plotly.purge(gd);\n",
       "            observer.disconnect();\n",
       "        }}\n",
       "}});\n",
       "\n",
       "// Listen for the removal of the full notebook cells\n",
       "var notebookContainer = gd.closest('#notebook-container');\n",
       "if (notebookContainer) {{\n",
       "    x.observe(notebookContainer, {childList: true});\n",
       "}}\n",
       "\n",
       "// Listen for the clearing of the current output cell\n",
       "var outputEl = gd.closest('.output');\n",
       "if (outputEl) {{\n",
       "    x.observe(outputEl, {childList: true});\n",
       "}}\n",
       "\n",
       "                        })                };                });            </script>        </div>"
      ]
     },
     "metadata": {},
     "output_type": "display_data"
    }
   ],
   "source": [
    "# Gunakan Dimensionality Reduction dengan PCA untuk mempermudah melakukan visualisasi\n",
    "\n",
    "pca = PCA(n_components = 3)\n",
    "df_pca_3 = pd.DataFrame(pca.fit_transform(df_birch.iloc[:,:-1]),\n",
    "                      columns = ['PC1', 'PC2', 'PC3'],\n",
    "                      index = df_birch.index)\n",
    "\n",
    "df_pca_3 = pd.concat([df_pca_3, df_birch.cluster], axis = 1)\n",
    "# df_pca1.head()\n",
    "\n",
    "# membuat visualisasi 3D untuk setiap klaster\n",
    "# klaster 1\n",
    "Cluster0= go.Scatter3d(\n",
    "        x=df_pca_3[df_pca_3['cluster']==0]['PC1'],\n",
    "        y=df_pca_3[df_pca_3['cluster']==0]['PC2'],\n",
    "        z=df_pca_3[df_pca_3['cluster']==0]['PC3'],\n",
    "        mode=\"markers\",\n",
    "        marker=dict(\n",
    "                    size=10,\n",
    "                    color=\"rgb(255,0,0)\",\n",
    "        ),\n",
    "        name=\"Cluster 0\"\n",
    ")\n",
    "\n",
    "#klaster 2\n",
    "Cluster1= go.Scatter3d(\n",
    "        x=df_pca_3[df_pca_3['cluster']==1]['PC1'],\n",
    "        y=df_pca_3[df_pca_3['cluster']==1]['PC2'],\n",
    "        z=df_pca_3[df_pca_3['cluster']==1]['PC3'],\n",
    "        mode=\"markers\",\n",
    "        marker=dict(\n",
    "                    size=10,\n",
    "                    color=\"rgb(0,255,0)\",\n",
    "        ),\n",
    "        name=\"Cluster 1\"\n",
    ")\n",
    "\n",
    "# klaster 3\n",
    "Cluster2= go.Scatter3d(\n",
    "        x=df_pca_3[df_pca_3['cluster']==2]['PC1'],\n",
    "        y=df_pca_3[df_pca_3['cluster']==2]['PC2'],\n",
    "        z=df_pca_3[df_pca_3['cluster']==2]['PC3'],\n",
    "        mode=\"markers\",\n",
    "        marker=dict(\n",
    "                    size=10,\n",
    "                    color=\"rgb(0,0,255)\",\n",
    "        ),\n",
    "        name=\"Cluster 2\"\n",
    ")\n",
    "data_plot_km=[Cluster0,Cluster1,Cluster2]\n",
    "\n",
    "# membuat plot\n",
    "layout = go.Layout(\n",
    "    margin=dict(l=0, r=0, b=0, t=0))\n",
    "\n",
    "fig=go.Figure(data = data_plot_km, layout = layout)\n",
    "iplot(fig)"
   ]
  },
  {
   "cell_type": "markdown",
   "metadata": {},
   "source": [
    "# Spectral Clustering"
   ]
  },
  {
   "cell_type": "code",
   "execution_count": 353,
   "metadata": {},
   "outputs": [
    {
     "name": "stdout",
     "output_type": "stream",
     "text": [
      "Explained variance by PCA: 65.08%\n"
     ]
    },
    {
     "data": {
      "image/png": "[encoded data removed]",
      "text/plain": [
       "<Figure size 1000x800 with 1 Axes>"
      ]
     },
     "metadata": {},
     "output_type": "display_data"
    },
    {
     "name": "stdout",
     "output_type": "stream",
     "text": [
      "Cluster: cluster\n",
      "2    17\n",
      "1    14\n",
      "0    14\n",
      "Name: count, dtype: int64\n",
      "Calinski-Harabasz Index: 8.323602467931405\n",
      "Silhouette Score: 0.16607322108625736\n",
      "Davies-Bouldin Index: 1.5143795469007026\n"
     ]
    }
   ],
   "source": [
    "import numpy as np\n",
    "import pandas as pd\n",
    "import matplotlib.pyplot as plt\n",
    "import seaborn as sns\n",
    "from sklearn.decomposition import PCA\n",
    "from sklearn.cluster import SpectralClustering\n",
    "from sklearn.metrics import calinski_harabasz_score, silhouette_score, davies_bouldin_score\n",
    "\n",
    "# Assuming df_final is your DataFrame with features for clustering\n",
    "df_spec = df_final.copy()\n",
    "X_std = df_final.copy().values  # Convert DataFrame to NumPy array\n",
    "\n",
    "# Apply Spectral Clustering\n",
    "n_clusters = 3  # Specify the number of clusters\n",
    "spectral = SpectralClustering(n_clusters=n_clusters, affinity='nearest_neighbors', random_state=0)\n",
    "labels = spectral.fit_predict(X_std)\n",
    "\n",
    "# Add cluster labels to DataFrame\n",
    "df_spec['cluster'] = labels\n",
    "data['Cluster'] = labels\n",
    "\n",
    "# Apply PCA for dimensionality reduction\n",
    "pca = PCA(n_components=2)\n",
    "df_pca2 = pd.DataFrame(pca.fit_transform(df_spec.iloc[:, :-1]),\n",
    "                      columns=['PC_1', 'PC_2'],\n",
    "                      index=df_spec.index)\n",
    "\n",
    "df_pca2 = pd.concat([df_pca2, df_spec['cluster']], axis=1)\n",
    "\n",
    "# Print the explained variance ratio\n",
    "print(f\"Explained variance by PCA: {np.sum(pca.explained_variance_ratio_) * 100:.2f}%\")\n",
    "\n",
    "# Plot the results\n",
    "fig = plt.figure(figsize=(10, 8))\n",
    "ax = fig.add_subplot()\n",
    "sns.scatterplot(data=df_pca2, x='PC_1', y='PC_2', hue='cluster', palette='viridis', s=100, ax=ax)\n",
    "plt.title('Spectral Clustering Visualization with PCA')\n",
    "plt.xlabel('PC_1')\n",
    "plt.ylabel('PC_2')\n",
    "plt.legend(title='Cluster')\n",
    "plt.show()\n",
    "\n",
    "# Compute and print clustering evaluation metrics\n",
    "print(f'Cluster: {df_spec['cluster'].value_counts()}')\n",
    "print(f'Calinski-Harabasz Index: {calinski_harabasz_score(X_std, labels)}')\n",
    "print(f'Silhouette Score: {silhouette_score(X_std, labels)}')\n",
    "print(f'Davies-Bouldin Index: {davies_bouldin_score(X_std, labels)}')\n"
   ]
  },
  {
   "cell_type": "code",
   "execution_count": 354,
   "metadata": {},
   "outputs": [
    {
     "name": "stdout",
     "output_type": "stream",
     "text": [
      "              ROA       ROE        Market Cap  Mean Return  Variance Return  \\\n",
      "Ticker                                                                        \n",
      "MEDC.JK  0.051000  0.216900    27071927549952     0.000651         0.000627   \n",
      "PGAS.JK  0.042140  0.103040    38422777430016     0.002017         0.000332   \n",
      "BBCA.JK  0.034542  0.200693  1241995691425792     0.000782         0.000194   \n",
      "\n",
      "         Cluster  sharpe_ratio  \n",
      "Ticker                          \n",
      "MEDC.JK        0      0.016501  \n",
      "PGAS.JK        1      0.097624  \n",
      "BBCA.JK        2      0.039002  \n"
     ]
    }
   ],
   "source": [
    "# Risk-free rate (contoh: 6% per tahun, diubah ke harian)\n",
    "risk_free_rate = 0.06 / 252\n",
    "\n",
    "# Hitung Sharpe Ratio\n",
    "data['sharpe_ratio'] = (data['Mean Return'] - risk_free_rate) / np.sqrt(data['Variance Return'])\n",
    "\n",
    "# Ambil saham terbaik dari setiap cluster\n",
    "best_stocks = data.loc[data.groupby('Cluster')['sharpe_ratio'].idxmax()]\n",
    "\n",
    "print(best_stocks)"
   ]
  },
  {
   "cell_type": "code",
   "execution_count": 355,
   "metadata": {},
   "outputs": [
    {
     "name": "stdout",
     "output_type": "stream",
     "text": [
      "65.08414737534632 %\n"
     ]
    },
    {
     "data": {
      "text/plain": [
       "<Axes: xlabel='PC_1', ylabel='PC_2'>"
      ]
     },
     "execution_count": 355,
     "metadata": {},
     "output_type": "execute_result"
    },
    {
     "data": {
      "image/png": "[encoded data removed]",
      "text/plain": [
       "<Figure size 1000x800 with 1 Axes>"
      ]
     },
     "metadata": {},
     "output_type": "display_data"
    }
   ],
   "source": [
    "# Gunakan Dimensionality Reduction dengan PCA untuk mempermudah melakukan visualisasi\n",
    "\n",
    "pca = PCA(n_components = 2)\n",
    "df_pca2 = pd.DataFrame(pca.fit_transform(df_spec.iloc[:,:-1]),\n",
    "                      columns = ['PC_1', 'PC_2'],\n",
    "                      index = df_spec.index)\n",
    "\n",
    "df_pca2 = pd.concat([df_pca2, df_spec.cluster], axis = 1)\n",
    "# df_pca1.head()\n",
    "\n",
    "print(np.sum(pca.explained_variance_ratio_)*100, \"%\") # 2 Dimensi dapat menjelaskan keseluruhan fitur\n",
    "fig = plt.figure(figsize=(10, 8))\n",
    "ax = fig.add_subplot()\n",
    "sns.scatterplot(data = df_pca2, x = 'PC_1', y = 'PC_2', hue = 'cluster', s = 300, ax = ax)"
   ]
  },
  {
   "cell_type": "markdown",
   "metadata": {},
   "source": [
    "**3D**"
   ]
  },
  {
   "cell_type": "code",
   "execution_count": 356,
   "metadata": {},
   "outputs": [],
   "source": [
    "# Gunakan Dimensionality Reduction dengan PCA untuk mempermudah melakukan visualisasi\n",
    "\n",
    "pca = PCA(n_components = 3)\n",
    "df_pca_3 = pd.DataFrame(pca.fit_transform(df_spec.iloc[:,:-1]),\n",
    "                      columns = ['PC1', 'PC2', 'PC3'],\n",
    "                      index = df_spec.index)\n",
    "\n",
    "df_pca_3 = pd.concat([df_pca_3, df_spec.cluster], axis = 1)\n",
    "# df_pca1.head()"
   ]
  },
  {
   "cell_type": "code",
   "execution_count": 357,
   "metadata": {},
   "outputs": [
    {
     "data": {
      "text/html": [
       "<div>\n",
       "<style scoped>\n",
       "    .dataframe tbody tr th:only-of-type {\n",
       "        vertical-align: middle;\n",
       "    }\n",
       "\n",
       "    .dataframe tbody tr th {\n",
       "        vertical-align: top;\n",
       "    }\n",
       "\n",
       "    .dataframe thead th {\n",
       "        text-align: right;\n",
       "    }\n",
       "</style>\n",
       "<table border=\"1\" class=\"dataframe\">\n",
       "  <thead>\n",
       "    <tr style=\"text-align: right;\">\n",
       "      <th></th>\n",
       "      <th>PC1</th>\n",
       "      <th>PC2</th>\n",
       "      <th>PC3</th>\n",
       "      <th>cluster</th>\n",
       "    </tr>\n",
       "    <tr>\n",
       "      <th>Ticker</th>\n",
       "      <th></th>\n",
       "      <th></th>\n",
       "      <th></th>\n",
       "      <th></th>\n",
       "    </tr>\n",
       "  </thead>\n",
       "  <tbody>\n",
       "    <tr>\n",
       "      <th>ACES.JK</th>\n",
       "      <td>-0.132589</td>\n",
       "      <td>-0.180676</td>\n",
       "      <td>-0.661453</td>\n",
       "      <td>1</td>\n",
       "    </tr>\n",
       "    <tr>\n",
       "      <th>ADMR.JK</th>\n",
       "      <td>-0.271514</td>\n",
       "      <td>-0.415203</td>\n",
       "      <td>-0.497805</td>\n",
       "      <td>0</td>\n",
       "    </tr>\n",
       "    <tr>\n",
       "      <th>ADRO.JK</th>\n",
       "      <td>-0.216669</td>\n",
       "      <td>1.171590</td>\n",
       "      <td>-2.045702</td>\n",
       "      <td>1</td>\n",
       "    </tr>\n",
       "    <tr>\n",
       "      <th>AKRA.JK</th>\n",
       "      <td>-0.391026</td>\n",
       "      <td>-0.516436</td>\n",
       "      <td>-0.168712</td>\n",
       "      <td>2</td>\n",
       "    </tr>\n",
       "    <tr>\n",
       "      <th>AMMN.JK</th>\n",
       "      <td>-0.591894</td>\n",
       "      <td>2.775036</td>\n",
       "      <td>0.198475</td>\n",
       "      <td>1</td>\n",
       "    </tr>\n",
       "  </tbody>\n",
       "</table>\n",
       "</div>"
      ],
      "text/plain": [
       "              PC1       PC2       PC3  cluster\n",
       "Ticker                                        \n",
       "ACES.JK -0.132589 -0.180676 -0.661453        1\n",
       "ADMR.JK -0.271514 -0.415203 -0.497805        0\n",
       "ADRO.JK -0.216669  1.171590 -2.045702        1\n",
       "AKRA.JK -0.391026 -0.516436 -0.168712        2\n",
       "AMMN.JK -0.591894  2.775036  0.198475        1"
      ]
     },
     "execution_count": 357,
     "metadata": {},
     "output_type": "execute_result"
    }
   ],
   "source": [
    "df_pca_3.head()"
   ]
  },
  {
   "cell_type": "code",
   "execution_count": 358,
   "metadata": {},
   "outputs": [
    {
     "data": {
      "application/vnd.plotly.v1+json": {
       "config": {
        "linkText": "Export to plot.ly",
        "plotlyServerURL": "https://plot.ly",
        "showLink": false
       },
       "data": [
        {
         "marker": {
          "color": "rgb(255,0,0)",
          "size": 10
         },
         "mode": "markers",
         "name": "Cluster 0",
         "type": "scatter3d",
         "x": [
          -0.27151370569962613,
          0.012979153523070372,
          1.3996885042181562,
          0.05182562964091612,
          2.8774512451738357,
          1.6706025170335967,
          5.870262350656411,
          0.25663548946536785,
          0.6070951015582875,
          1.523142825995926,
          0.8172018521756569,
          0.14955666435882026,
          0.17996569560990605,
          0.09527249755539131
         ],
         "y": [
          -0.41520348411674723,
          -0.47259927684580255,
          -0.10485468354657976,
          -0.3406348490305404,
          0.12193190132926786,
          -1.09491434570603,
          2.5247294620445246,
          -0.7616379221207461,
          -0.5040828683380852,
          -0.05237611421828289,
          -0.6684802620462741,
          -0.035350743704780654,
          -0.4286061017571163,
          -0.37613517112416045
         ],
         "z": [
          -0.4978052229897982,
          -0.11055781346099047,
          -0.3723662623894917,
          -0.23791653841225727,
          -0.2954303389500229,
          0.7884792433872193,
          0.7075386928154441,
          0.20579919429418608,
          -0.1362112051073605,
          -0.3151557415280618,
          0.3750193926646921,
          -0.636171056510782,
          -0.09108753377343198,
          -0.28260278468314004
         ]
        },
        {
         "marker": {
          "color": "rgb(0,255,0)",
          "size": 10
         },
         "mode": "markers",
         "name": "Cluster 1",
         "type": "scatter3d",
         "x": [
          -0.13258933167139833,
          -0.21666891500981242,
          -0.5918938856768137,
          -0.167228533521787,
          0.36761150618788385,
          -0.2058608297618417,
          -0.6817618009838836,
          -0.9118993109083492,
          -0.033568029919112154,
          -1.3116233187926498,
          -0.7422111889567657,
          -0.927611918269625,
          -0.8610631402201301,
          -1.1046622717559937
         ],
         "y": [
          -0.18067624831579526,
          1.1715896473802676,
          2.77503578022166,
          1.5203756781959827,
          0.68816369313678,
          -0.11077372321537038,
          0.13375970427859415,
          0.1436850580621474,
          0.15905555546325792,
          -0.16401231927975132,
          0.6704256906175279,
          0.023178308053508442,
          -0.5945133866202599,
          0.43209200335139636
         ],
         "z": [
          -0.6614525371345473,
          -2.045701934221174,
          0.1984746478974758,
          -1.7233971483923047,
          -1.5797692066086764,
          -0.4466112130426089,
          -0.16661635064086902,
          -0.5767248159957917,
          -0.5008888149519917,
          -0.875590962245164,
          -1.3950674634967355,
          -0.9337457545471314,
          -0.4817846997019511,
          -0.9285268199841764
         ]
        },
        {
         "marker": {
          "color": "rgb(0,0,255)",
          "size": 10
         },
         "mode": "markers",
         "name": "Cluster 2",
         "type": "scatter3d",
         "x": [
          -0.39102598908244257,
          -0.7062574961774118,
          -0.7323633622152951,
          -2.1696655729959873,
          -0.4010151922797581,
          -0.8680534902344987,
          -0.9830893580086751,
          -0.4656685962140094,
          -0.012597211542830593,
          -0.10916202968931295,
          -0.27044434521957983,
          -0.5547042819495968,
          -0.2798406388907766,
          0.5913955638122179,
          -0.45389334324446473,
          -0.017686973781575643,
          0.10493746570856005
         ],
         "y": [
          -0.5164359715761184,
          -0.06734959356321507,
          -0.016971897664353076,
          3.4827542675756313,
          0.007163105922093962,
          0.9922136536195307,
          1.4996030318201123,
          -0.3020472713521886,
          -0.7247753947159176,
          -1.2168287447930441,
          -0.6110847912158037,
          -0.7583618441201021,
          -0.5528350128734505,
          -1.8998532562883066,
          -0.4824044535880356,
          -1.0328292838609068,
          -1.8591275254745203
         ],
         "z": [
          -0.16871185733148514,
          -0.08210207288139744,
          0.41002289567416006,
          2.8506947865600485,
          0.3547525102491774,
          2.0940074446046566,
          1.0329159519666042,
          0.013717231603436644,
          0.2841419575292474,
          0.7154206006940709,
          0.08162128564427212,
          0.3615454575397911,
          0.19168400784768116,
          1.6200599380207097,
          1.3636504049157967,
          0.613762706138272,
          1.2786877989343994
         ]
        }
       ],
       "layout": {
        "margin": {
         "b": 0,
         "l": 0,
         "r": 0,
         "t": 0
        },
        "template": {
         "data": {
          "bar": [
           {
            "error_x": {
             "color": "#2a3f5f"
            },
            "error_y": {
             "color": "#2a3f5f"
            },
            "marker": {
             "line": {
              "color": "#E5ECF6",
              "width": 0.5
             },
             "pattern": {
              "fillmode": "overlay",
              "size": 10,
              "solidity": 0.2
             }
            },
            "type": "bar"
           }
          ],
          "barpolar": [
           {
            "marker": {
             "line": {
              "color": "#E5ECF6",
              "width": 0.5
             },
             "pattern": {
              "fillmode": "overlay",
              "size": 10,
              "solidity": 0.2
             }
            },
            "type": "barpolar"
           }
          ],
          "carpet": [
           {
            "aaxis": {
             "endlinecolor": "#2a3f5f",
             "gridcolor": "white",
             "linecolor": "white",
             "minorgridcolor": "white",
             "startlinecolor": "#2a3f5f"
            },
            "baxis": {
             "endlinecolor": "#2a3f5f",
             "gridcolor": "white",
             "linecolor": "white",
             "minorgridcolor": "white",
             "startlinecolor": "#2a3f5f"
            },
            "type": "carpet"
           }
          ],
          "choropleth": [
           {
            "colorbar": {
             "outlinewidth": 0,
             "ticks": ""
            },
            "type": "choropleth"
           }
          ],
          "contour": [
           {
            "colorbar": {
             "outlinewidth": 0,
             "ticks": ""
            },
            "colorscale": [
             [
              0,
              "#0d0887"
             ],
             [
              0.1111111111111111,
              "#46039f"
             ],
             [
              0.2222222222222222,
              "#7201a8"
             ],
             [
              0.3333333333333333,
              "#9c179e"
             ],
             [
              0.4444444444444444,
              "#bd3786"
             ],
             [
              0.5555555555555556,
              "#d8576b"
             ],
             [
              0.6666666666666666,
              "#ed7953"
             ],
             [
              0.7777777777777778,
              "#fb9f3a"
             ],
             [
              0.8888888888888888,
              "#fdca26"
             ],
             [
              1,
              "#f0f921"
             ]
            ],
            "type": "contour"
           }
          ],
          "contourcarpet": [
           {
            "colorbar": {
             "outlinewidth": 0,
             "ticks": ""
            },
            "type": "contourcarpet"
           }
          ],
          "heatmap": [
           {
            "colorbar": {
             "outlinewidth": 0,
             "ticks": ""
            },
            "colorscale": [
             [
              0,
              "#0d0887"
             ],
             [
              0.1111111111111111,
              "#46039f"
             ],
             [
              0.2222222222222222,
              "#7201a8"
             ],
             [
              0.3333333333333333,
              "#9c179e"
             ],
             [
              0.4444444444444444,
              "#bd3786"
             ],
             [
              0.5555555555555556,
              "#d8576b"
             ],
             [
              0.6666666666666666,
              "#ed7953"
             ],
             [
              0.7777777777777778,
              "#fb9f3a"
             ],
             [
              0.8888888888888888,
              "#fdca26"
             ],
             [
              1,
              "#f0f921"
             ]
            ],
            "type": "heatmap"
           }
          ],
          "heatmapgl": [
           {
            "colorbar": {
             "outlinewidth": 0,
             "ticks": ""
            },
            "colorscale": [
             [
              0,
              "#0d0887"
             ],
             [
              0.1111111111111111,
              "#46039f"
             ],
             [
              0.2222222222222222,
              "#7201a8"
             ],
             [
              0.3333333333333333,
              "#9c179e"
             ],
             [
              0.4444444444444444,
              "#bd3786"
             ],
             [
              0.5555555555555556,
              "#d8576b"
             ],
             [
              0.6666666666666666,
              "#ed7953"
             ],
             [
              0.7777777777777778,
              "#fb9f3a"
             ],
             [
              0.8888888888888888,
              "#fdca26"
             ],
             [
              1,
              "#f0f921"
             ]
            ],
            "type": "heatmapgl"
           }
          ],
          "histogram": [
           {
            "marker": {
             "pattern": {
              "fillmode": "overlay",
              "size": 10,
              "solidity": 0.2
             }
            },
            "type": "histogram"
           }
          ],
          "histogram2d": [
           {
            "colorbar": {
             "outlinewidth": 0,
             "ticks": ""
            },
            "colorscale": [
             [
              0,
              "#0d0887"
             ],
             [
              0.1111111111111111,
              "#46039f"
             ],
             [
              0.2222222222222222,
              "#7201a8"
             ],
             [
              0.3333333333333333,
              "#9c179e"
             ],
             [
              0.4444444444444444,
              "#bd3786"
             ],
             [
              0.5555555555555556,
              "#d8576b"
             ],
             [
              0.6666666666666666,
              "#ed7953"
             ],
             [
              0.7777777777777778,
              "#fb9f3a"
             ],
             [
              0.8888888888888888,
              "#fdca26"
             ],
             [
              1,
              "#f0f921"
             ]
            ],
            "type": "histogram2d"
           }
          ],
          "histogram2dcontour": [
           {
            "colorbar": {
             "outlinewidth": 0,
             "ticks": ""
            },
            "colorscale": [
             [
              0,
              "#0d0887"
             ],
             [
              0.1111111111111111,
              "#46039f"
             ],
             [
              0.2222222222222222,
              "#7201a8"
             ],
             [
              0.3333333333333333,
              "#9c179e"
             ],
             [
              0.4444444444444444,
              "#bd3786"
             ],
             [
              0.5555555555555556,
              "#d8576b"
             ],
             [
              0.6666666666666666,
              "#ed7953"
             ],
             [
              0.7777777777777778,
              "#fb9f3a"
             ],
             [
              0.8888888888888888,
              "#fdca26"
             ],
             [
              1,
              "#f0f921"
             ]
            ],
            "type": "histogram2dcontour"
           }
          ],
          "mesh3d": [
           {
            "colorbar": {
             "outlinewidth": 0,
             "ticks": ""
            },
            "type": "mesh3d"
           }
          ],
          "parcoords": [
           {
            "line": {
             "colorbar": {
              "outlinewidth": 0,
              "ticks": ""
             }
            },
            "type": "parcoords"
           }
          ],
          "pie": [
           {
            "automargin": true,
            "type": "pie"
           }
          ],
          "scatter": [
           {
            "fillpattern": {
             "fillmode": "overlay",
             "size": 10,
             "solidity": 0.2
            },
            "type": "scatter"
           }
          ],
          "scatter3d": [
           {
            "line": {
             "colorbar": {
              "outlinewidth": 0,
              "ticks": ""
             }
            },
            "marker": {
             "colorbar": {
              "outlinewidth": 0,
              "ticks": ""
             }
            },
            "type": "scatter3d"
           }
          ],
          "scattercarpet": [
           {
            "marker": {
             "colorbar": {
              "outlinewidth": 0,
              "ticks": ""
             }
            },
            "type": "scattercarpet"
           }
          ],
          "scattergeo": [
           {
            "marker": {
             "colorbar": {
              "outlinewidth": 0,
              "ticks": ""
             }
            },
            "type": "scattergeo"
           }
          ],
          "scattergl": [
           {
            "marker": {
             "colorbar": {
              "outlinewidth": 0,
              "ticks": ""
             }
            },
            "type": "scattergl"
           }
          ],
          "scattermapbox": [
           {
            "marker": {
             "colorbar": {
              "outlinewidth": 0,
              "ticks": ""
             }
            },
            "type": "scattermapbox"
           }
          ],
          "scatterpolar": [
           {
            "marker": {
             "colorbar": {
              "outlinewidth": 0,
              "ticks": ""
             }
            },
            "type": "scatterpolar"
           }
          ],
          "scatterpolargl": [
           {
            "marker": {
             "colorbar": {
              "outlinewidth": 0,
              "ticks": ""
             }
            },
            "type": "scatterpolargl"
           }
          ],
          "scatterternary": [
           {
            "marker": {
             "colorbar": {
              "outlinewidth": 0,
              "ticks": ""
             }
            },
            "type": "scatterternary"
           }
          ],
          "surface": [
           {
            "colorbar": {
             "outlinewidth": 0,
             "ticks": ""
            },
            "colorscale": [
             [
              0,
              "#0d0887"
             ],
             [
              0.1111111111111111,
              "#46039f"
             ],
             [
              0.2222222222222222,
              "#7201a8"
             ],
             [
              0.3333333333333333,
              "#9c179e"
             ],
             [
              0.4444444444444444,
              "#bd3786"
             ],
             [
              0.5555555555555556,
              "#d8576b"
             ],
             [
              0.6666666666666666,
              "#ed7953"
             ],
             [
              0.7777777777777778,
              "#fb9f3a"
             ],
             [
              0.8888888888888888,
              "#fdca26"
             ],
             [
              1,
              "#f0f921"
             ]
            ],
            "type": "surface"
           }
          ],
          "table": [
           {
            "cells": {
             "fill": {
              "color": "#EBF0F8"
             },
             "line": {
              "color": "white"
             }
            },
            "header": {
             "fill": {
              "color": "#C8D4E3"
             },
             "line": {
              "color": "white"
             }
            },
            "type": "table"
           }
          ]
         },
         "layout": {
          "annotationdefaults": {
           "arrowcolor": "#2a3f5f",
           "arrowhead": 0,
           "arrowwidth": 1
          },
          "autotypenumbers": "strict",
          "coloraxis": {
           "colorbar": {
            "outlinewidth": 0,
            "ticks": ""
           }
          },
          "colorscale": {
           "diverging": [
            [
             0,
             "#8e0152"
            ],
            [
             0.1,
             "#c51b7d"
            ],
            [
             0.2,
             "#de77ae"
            ],
            [
             0.3,
             "#f1b6da"
            ],
            [
             0.4,
             "#fde0ef"
            ],
            [
             0.5,
             "#f7f7f7"
            ],
            [
             0.6,
             "#e6f5d0"
            ],
            [
             0.7,
             "#b8e186"
            ],
            [
             0.8,
             "#7fbc41"
            ],
            [
             0.9,
             "#4d9221"
            ],
            [
             1,
             "#276419"
            ]
           ],
           "sequential": [
            [
             0,
             "#0d0887"
            ],
            [
             0.1111111111111111,
             "#46039f"
            ],
            [
             0.2222222222222222,
             "#7201a8"
            ],
            [
             0.3333333333333333,
             "#9c179e"
            ],
            [
             0.4444444444444444,
             "#bd3786"
            ],
            [
             0.5555555555555556,
             "#d8576b"
            ],
            [
             0.6666666666666666,
             "#ed7953"
            ],
            [
             0.7777777777777778,
             "#fb9f3a"
            ],
            [
             0.8888888888888888,
             "#fdca26"
            ],
            [
             1,
             "#f0f921"
            ]
           ],
           "sequentialminus": [
            [
             0,
             "#0d0887"
            ],
            [
             0.1111111111111111,
             "#46039f"
            ],
            [
             0.2222222222222222,
             "#7201a8"
            ],
            [
             0.3333333333333333,
             "#9c179e"
            ],
            [
             0.4444444444444444,
             "#bd3786"
            ],
            [
             0.5555555555555556,
             "#d8576b"
            ],
            [
             0.6666666666666666,
             "#ed7953"
            ],
            [
             0.7777777777777778,
             "#fb9f3a"
            ],
            [
             0.8888888888888888,
             "#fdca26"
            ],
            [
             1,
             "#f0f921"
            ]
           ]
          },
          "colorway": [
           "#636efa",
           "#EF553B",
           "#00cc96",
           "#ab63fa",
           "#FFA15A",
           "#19d3f3",
           "#FF6692",
           "#B6E880",
           "#FF97FF",
           "#FECB52"
          ],
          "font": {
           "color": "#2a3f5f"
          },
          "geo": {
           "bgcolor": "white",
           "lakecolor": "white",
           "landcolor": "#E5ECF6",
           "showlakes": true,
           "showland": true,
           "subunitcolor": "white"
          },
          "hoverlabel": {
           "align": "left"
          },
          "hovermode": "closest",
          "mapbox": {
           "style": "light"
          },
          "paper_bgcolor": "white",
          "plot_bgcolor": "#E5ECF6",
          "polar": {
           "angularaxis": {
            "gridcolor": "white",
            "linecolor": "white",
            "ticks": ""
           },
           "bgcolor": "#E5ECF6",
           "radialaxis": {
            "gridcolor": "white",
            "linecolor": "white",
            "ticks": ""
           }
          },
          "scene": {
           "xaxis": {
            "backgroundcolor": "#E5ECF6",
            "gridcolor": "white",
            "gridwidth": 2,
            "linecolor": "white",
            "showbackground": true,
            "ticks": "",
            "zerolinecolor": "white"
           },
           "yaxis": {
            "backgroundcolor": "#E5ECF6",
            "gridcolor": "white",
            "gridwidth": 2,
            "linecolor": "white",
            "showbackground": true,
            "ticks": "",
            "zerolinecolor": "white"
           },
           "zaxis": {
            "backgroundcolor": "#E5ECF6",
            "gridcolor": "white",
            "gridwidth": 2,
            "linecolor": "white",
            "showbackground": true,
            "ticks": "",
            "zerolinecolor": "white"
           }
          },
          "shapedefaults": {
           "line": {
            "color": "#2a3f5f"
           }
          },
          "ternary": {
           "aaxis": {
            "gridcolor": "white",
            "linecolor": "white",
            "ticks": ""
           },
           "baxis": {
            "gridcolor": "white",
            "linecolor": "white",
            "ticks": ""
           },
           "bgcolor": "#E5ECF6",
           "caxis": {
            "gridcolor": "white",
            "linecolor": "white",
            "ticks": ""
           }
          },
          "title": {
           "x": 0.05
          },
          "xaxis": {
           "automargin": true,
           "gridcolor": "white",
           "linecolor": "white",
           "ticks": "",
           "title": {
            "standoff": 15
           },
           "zerolinecolor": "white",
           "zerolinewidth": 2
          },
          "yaxis": {
           "automargin": true,
           "gridcolor": "white",
           "linecolor": "white",
           "ticks": "",
           "title": {
            "standoff": 15
           },
           "zerolinecolor": "white",
           "zerolinewidth": 2
          }
         }
        }
       }
      },
      "text/html": [
       "<div>                            <div id=\"801d23f5-e850-4d9b-917e-c3bf62868518\" class=\"plotly-graph-div\" style=\"height:525px; width:100%;\"></div>            <script type=\"text/javascript\">                require([\"plotly\"], function(Plotly) {                    window.PLOTLYENV=window.PLOTLYENV || {};                                    if (document.getElementById(\"801d23f5-e850-4d9b-917e-c3bf62868518\")) {                    Plotly.newPlot(                        \"801d23f5-e850-4d9b-917e-c3bf62868518\",                        [{\"marker\":{\"color\":\"rgb(255,0,0)\",\"size\":10},\"mode\":\"markers\",\"name\":\"Cluster 0\",\"x\":[-0.27151370569962613,0.012979153523070372,1.3996885042181562,0.05182562964091612,2.8774512451738357,1.6706025170335967,5.870262350656411,0.25663548946536785,0.6070951015582875,1.523142825995926,0.8172018521756569,0.14955666435882026,0.17996569560990605,0.09527249755539131],\"y\":[-0.41520348411674723,-0.47259927684580255,-0.10485468354657976,-0.3406348490305404,0.12193190132926786,-1.09491434570603,2.5247294620445246,-0.7616379221207461,-0.5040828683380852,-0.05237611421828289,-0.6684802620462741,-0.035350743704780654,-0.4286061017571163,-0.37613517112416045],\"z\":[-0.4978052229897982,-0.11055781346099047,-0.3723662623894917,-0.23791653841225727,-0.2954303389500229,0.7884792433872193,0.7075386928154441,0.20579919429418608,-0.1362112051073605,-0.3151557415280618,0.3750193926646921,-0.636171056510782,-0.09108753377343198,-0.28260278468314004],\"type\":\"scatter3d\"},{\"marker\":{\"color\":\"rgb(0,255,0)\",\"size\":10},\"mode\":\"markers\",\"name\":\"Cluster 1\",\"x\":[-0.13258933167139833,-0.21666891500981242,-0.5918938856768137,-0.167228533521787,0.36761150618788385,-0.2058608297618417,-0.6817618009838836,-0.9118993109083492,-0.033568029919112154,-1.3116233187926498,-0.7422111889567657,-0.927611918269625,-0.8610631402201301,-1.1046622717559937],\"y\":[-0.18067624831579526,1.1715896473802676,2.77503578022166,1.5203756781959827,0.68816369313678,-0.11077372321537038,0.13375970427859415,0.1436850580621474,0.15905555546325792,-0.16401231927975132,0.6704256906175279,0.023178308053508442,-0.5945133866202599,0.43209200335139636],\"z\":[-0.6614525371345473,-2.045701934221174,0.1984746478974758,-1.7233971483923047,-1.5797692066086764,-0.4466112130426089,-0.16661635064086902,-0.5767248159957917,-0.5008888149519917,-0.875590962245164,-1.3950674634967355,-0.9337457545471314,-0.4817846997019511,-0.9285268199841764],\"type\":\"scatter3d\"},{\"marker\":{\"color\":\"rgb(0,0,255)\",\"size\":10},\"mode\":\"markers\",\"name\":\"Cluster 2\",\"x\":[-0.39102598908244257,-0.7062574961774118,-0.7323633622152951,-2.1696655729959873,-0.4010151922797581,-0.8680534902344987,-0.9830893580086751,-0.4656685962140094,-0.012597211542830593,-0.10916202968931295,-0.27044434521957983,-0.5547042819495968,-0.2798406388907766,0.5913955638122179,-0.45389334324446473,-0.017686973781575643,0.10493746570856005],\"y\":[-0.5164359715761184,-0.06734959356321507,-0.016971897664353076,3.4827542675756313,0.007163105922093962,0.9922136536195307,1.4996030318201123,-0.3020472713521886,-0.7247753947159176,-1.2168287447930441,-0.6110847912158037,-0.7583618441201021,-0.5528350128734505,-1.8998532562883066,-0.4824044535880356,-1.0328292838609068,-1.8591275254745203],\"z\":[-0.16871185733148514,-0.08210207288139744,0.41002289567416006,2.8506947865600485,0.3547525102491774,2.0940074446046566,1.0329159519666042,0.013717231603436644,0.2841419575292474,0.7154206006940709,0.08162128564427212,0.3615454575397911,0.19168400784768116,1.6200599380207097,1.3636504049157967,0.613762706138272,1.2786877989343994],\"type\":\"scatter3d\"}],                        {\"margin\":{\"b\":0,\"l\":0,\"r\":0,\"t\":0},\"template\":{\"data\":{\"barpolar\":[{\"marker\":{\"line\":{\"color\":\"#E5ECF6\",\"width\":0.5},\"pattern\":{\"fillmode\":\"overlay\",\"size\":10,\"solidity\":0.2}},\"type\":\"barpolar\"}],\"bar\":[{\"error_x\":{\"color\":\"#2a3f5f\"},\"error_y\":{\"color\":\"#2a3f5f\"},\"marker\":{\"line\":{\"color\":\"#E5ECF6\",\"width\":0.5},\"pattern\":{\"fillmode\":\"overlay\",\"size\":10,\"solidity\":0.2}},\"type\":\"bar\"}],\"carpet\":[{\"aaxis\":{\"endlinecolor\":\"#2a3f5f\",\"gridcolor\":\"white\",\"linecolor\":\"white\",\"minorgridcolor\":\"white\",\"startlinecolor\":\"#2a3f5f\"},\"baxis\":{\"endlinecolor\":\"#2a3f5f\",\"gridcolor\":\"white\",\"linecolor\":\"white\",\"minorgridcolor\":\"white\",\"startlinecolor\":\"#2a3f5f\"},\"type\":\"carpet\"}],\"choropleth\":[{\"colorbar\":{\"outlinewidth\":0,\"ticks\":\"\"},\"type\":\"choropleth\"}],\"contourcarpet\":[{\"colorbar\":{\"outlinewidth\":0,\"ticks\":\"\"},\"type\":\"contourcarpet\"}],\"contour\":[{\"colorbar\":{\"outlinewidth\":0,\"ticks\":\"\"},\"colorscale\":[[0.0,\"#0d0887\"],[0.1111111111111111,\"#46039f\"],[0.2222222222222222,\"#7201a8\"],[0.3333333333333333,\"#9c179e\"],[0.4444444444444444,\"#bd3786\"],[0.5555555555555556,\"#d8576b\"],[0.6666666666666666,\"#ed7953\"],[0.7777777777777778,\"#fb9f3a\"],[0.8888888888888888,\"#fdca26\"],[1.0,\"#f0f921\"]],\"type\":\"contour\"}],\"heatmapgl\":[{\"colorbar\":{\"outlinewidth\":0,\"ticks\":\"\"},\"colorscale\":[[0.0,\"#0d0887\"],[0.1111111111111111,\"#46039f\"],[0.2222222222222222,\"#7201a8\"],[0.3333333333333333,\"#9c179e\"],[0.4444444444444444,\"#bd3786\"],[0.5555555555555556,\"#d8576b\"],[0.6666666666666666,\"#ed7953\"],[0.7777777777777778,\"#fb9f3a\"],[0.8888888888888888,\"#fdca26\"],[1.0,\"#f0f921\"]],\"type\":\"heatmapgl\"}],\"heatmap\":[{\"colorbar\":{\"outlinewidth\":0,\"ticks\":\"\"},\"colorscale\":[[0.0,\"#0d0887\"],[0.1111111111111111,\"#46039f\"],[0.2222222222222222,\"#7201a8\"],[0.3333333333333333,\"#9c179e\"],[0.4444444444444444,\"#bd3786\"],[0.5555555555555556,\"#d8576b\"],[0.6666666666666666,\"#ed7953\"],[0.7777777777777778,\"#fb9f3a\"],[0.8888888888888888,\"#fdca26\"],[1.0,\"#f0f921\"]],\"type\":\"heatmap\"}],\"histogram2dcontour\":[{\"colorbar\":{\"outlinewidth\":0,\"ticks\":\"\"},\"colorscale\":[[0.0,\"#0d0887\"],[0.1111111111111111,\"#46039f\"],[0.2222222222222222,\"#7201a8\"],[0.3333333333333333,\"#9c179e\"],[0.4444444444444444,\"#bd3786\"],[0.5555555555555556,\"#d8576b\"],[0.6666666666666666,\"#ed7953\"],[0.7777777777777778,\"#fb9f3a\"],[0.8888888888888888,\"#fdca26\"],[1.0,\"#f0f921\"]],\"type\":\"histogram2dcontour\"}],\"histogram2d\":[{\"colorbar\":{\"outlinewidth\":0,\"ticks\":\"\"},\"colorscale\":[[0.0,\"#0d0887\"],[0.1111111111111111,\"#46039f\"],[0.2222222222222222,\"#7201a8\"],[0.3333333333333333,\"#9c179e\"],[0.4444444444444444,\"#bd3786\"],[0.5555555555555556,\"#d8576b\"],[0.6666666666666666,\"#ed7953\"],[0.7777777777777778,\"#fb9f3a\"],[0.8888888888888888,\"#fdca26\"],[1.0,\"#f0f921\"]],\"type\":\"histogram2d\"}],\"histogram\":[{\"marker\":{\"pattern\":{\"fillmode\":\"overlay\",\"size\":10,\"solidity\":0.2}},\"type\":\"histogram\"}],\"mesh3d\":[{\"colorbar\":{\"outlinewidth\":0,\"ticks\":\"\"},\"type\":\"mesh3d\"}],\"parcoords\":[{\"line\":{\"colorbar\":{\"outlinewidth\":0,\"ticks\":\"\"}},\"type\":\"parcoords\"}],\"pie\":[{\"automargin\":true,\"type\":\"pie\"}],\"scatter3d\":[{\"line\":{\"colorbar\":{\"outlinewidth\":0,\"ticks\":\"\"}},\"marker\":{\"colorbar\":{\"outlinewidth\":0,\"ticks\":\"\"}},\"type\":\"scatter3d\"}],\"scattercarpet\":[{\"marker\":{\"colorbar\":{\"outlinewidth\":0,\"ticks\":\"\"}},\"type\":\"scattercarpet\"}],\"scattergeo\":[{\"marker\":{\"colorbar\":{\"outlinewidth\":0,\"ticks\":\"\"}},\"type\":\"scattergeo\"}],\"scattergl\":[{\"marker\":{\"colorbar\":{\"outlinewidth\":0,\"ticks\":\"\"}},\"type\":\"scattergl\"}],\"scattermapbox\":[{\"marker\":{\"colorbar\":{\"outlinewidth\":0,\"ticks\":\"\"}},\"type\":\"scattermapbox\"}],\"scatterpolargl\":[{\"marker\":{\"colorbar\":{\"outlinewidth\":0,\"ticks\":\"\"}},\"type\":\"scatterpolargl\"}],\"scatterpolar\":[{\"marker\":{\"colorbar\":{\"outlinewidth\":0,\"ticks\":\"\"}},\"type\":\"scatterpolar\"}],\"scatter\":[{\"fillpattern\":{\"fillmode\":\"overlay\",\"size\":10,\"solidity\":0.2},\"type\":\"scatter\"}],\"scatterternary\":[{\"marker\":{\"colorbar\":{\"outlinewidth\":0,\"ticks\":\"\"}},\"type\":\"scatterternary\"}],\"surface\":[{\"colorbar\":{\"outlinewidth\":0,\"ticks\":\"\"},\"colorscale\":[[0.0,\"#0d0887\"],[0.1111111111111111,\"#46039f\"],[0.2222222222222222,\"#7201a8\"],[0.3333333333333333,\"#9c179e\"],[0.4444444444444444,\"#bd3786\"],[0.5555555555555556,\"#d8576b\"],[0.6666666666666666,\"#ed7953\"],[0.7777777777777778,\"#fb9f3a\"],[0.8888888888888888,\"#fdca26\"],[1.0,\"#f0f921\"]],\"type\":\"surface\"}],\"table\":[{\"cells\":{\"fill\":{\"color\":\"#EBF0F8\"},\"line\":{\"color\":\"white\"}},\"header\":{\"fill\":{\"color\":\"#C8D4E3\"},\"line\":{\"color\":\"white\"}},\"type\":\"table\"}]},\"layout\":{\"annotationdefaults\":{\"arrowcolor\":\"#2a3f5f\",\"arrowhead\":0,\"arrowwidth\":1},\"autotypenumbers\":\"strict\",\"coloraxis\":{\"colorbar\":{\"outlinewidth\":0,\"ticks\":\"\"}},\"colorscale\":{\"diverging\":[[0,\"#8e0152\"],[0.1,\"#c51b7d\"],[0.2,\"#de77ae\"],[0.3,\"#f1b6da\"],[0.4,\"#fde0ef\"],[0.5,\"#f7f7f7\"],[0.6,\"#e6f5d0\"],[0.7,\"#b8e186\"],[0.8,\"#7fbc41\"],[0.9,\"#4d9221\"],[1,\"#276419\"]],\"sequential\":[[0.0,\"#0d0887\"],[0.1111111111111111,\"#46039f\"],[0.2222222222222222,\"#7201a8\"],[0.3333333333333333,\"#9c179e\"],[0.4444444444444444,\"#bd3786\"],[0.5555555555555556,\"#d8576b\"],[0.6666666666666666,\"#ed7953\"],[0.7777777777777778,\"#fb9f3a\"],[0.8888888888888888,\"#fdca26\"],[1.0,\"#f0f921\"]],\"sequentialminus\":[[0.0,\"#0d0887\"],[0.1111111111111111,\"#46039f\"],[0.2222222222222222,\"#7201a8\"],[0.3333333333333333,\"#9c179e\"],[0.4444444444444444,\"#bd3786\"],[0.5555555555555556,\"#d8576b\"],[0.6666666666666666,\"#ed7953\"],[0.7777777777777778,\"#fb9f3a\"],[0.8888888888888888,\"#fdca26\"],[1.0,\"#f0f921\"]]},\"colorway\":[\"#636efa\",\"#EF553B\",\"#00cc96\",\"#ab63fa\",\"#FFA15A\",\"#19d3f3\",\"#FF6692\",\"#B6E880\",\"#FF97FF\",\"#FECB52\"],\"font\":{\"color\":\"#2a3f5f\"},\"geo\":{\"bgcolor\":\"white\",\"lakecolor\":\"white\",\"landcolor\":\"#E5ECF6\",\"showlakes\":true,\"showland\":true,\"subunitcolor\":\"white\"},\"hoverlabel\":{\"align\":\"left\"},\"hovermode\":\"closest\",\"mapbox\":{\"style\":\"light\"},\"paper_bgcolor\":\"white\",\"plot_bgcolor\":\"#E5ECF6\",\"polar\":{\"angularaxis\":{\"gridcolor\":\"white\",\"linecolor\":\"white\",\"ticks\":\"\"},\"bgcolor\":\"#E5ECF6\",\"radialaxis\":{\"gridcolor\":\"white\",\"linecolor\":\"white\",\"ticks\":\"\"}},\"scene\":{\"xaxis\":{\"backgroundcolor\":\"#E5ECF6\",\"gridcolor\":\"white\",\"gridwidth\":2,\"linecolor\":\"white\",\"showbackground\":true,\"ticks\":\"\",\"zerolinecolor\":\"white\"},\"yaxis\":{\"backgroundcolor\":\"#E5ECF6\",\"gridcolor\":\"white\",\"gridwidth\":2,\"linecolor\":\"white\",\"showbackground\":true,\"ticks\":\"\",\"zerolinecolor\":\"white\"},\"zaxis\":{\"backgroundcolor\":\"#E5ECF6\",\"gridcolor\":\"white\",\"gridwidth\":2,\"linecolor\":\"white\",\"showbackground\":true,\"ticks\":\"\",\"zerolinecolor\":\"white\"}},\"shapedefaults\":{\"line\":{\"color\":\"#2a3f5f\"}},\"ternary\":{\"aaxis\":{\"gridcolor\":\"white\",\"linecolor\":\"white\",\"ticks\":\"\"},\"baxis\":{\"gridcolor\":\"white\",\"linecolor\":\"white\",\"ticks\":\"\"},\"bgcolor\":\"#E5ECF6\",\"caxis\":{\"gridcolor\":\"white\",\"linecolor\":\"white\",\"ticks\":\"\"}},\"title\":{\"x\":0.05},\"xaxis\":{\"automargin\":true,\"gridcolor\":\"white\",\"linecolor\":\"white\",\"ticks\":\"\",\"title\":{\"standoff\":15},\"zerolinecolor\":\"white\",\"zerolinewidth\":2},\"yaxis\":{\"automargin\":true,\"gridcolor\":\"white\",\"linecolor\":\"white\",\"ticks\":\"\",\"title\":{\"standoff\":15},\"zerolinecolor\":\"white\",\"zerolinewidth\":2}}}},                        {\"responsive\": true}                    ).then(function(){\n",
       "                            \n",
       "var gd = document.getElementById('801d23f5-e850-4d9b-917e-c3bf62868518');\n",
       "var x = new MutationObserver(function (mutations, observer) {{\n",
       "        var display = window.getComputedStyle(gd).display;\n",
       "        if (!display || display === 'none') {{\n",
       "            console.log([gd, 'removed!']);\n",
       "            Plotly.purge(gd);\n",
       "            observer.disconnect();\n",
       "        }}\n",
       "}});\n",
       "\n",
       "// Listen for the removal of the full notebook cells\n",
       "var notebookContainer = gd.closest('#notebook-container');\n",
       "if (notebookContainer) {{\n",
       "    x.observe(notebookContainer, {childList: true});\n",
       "}}\n",
       "\n",
       "// Listen for the clearing of the current output cell\n",
       "var outputEl = gd.closest('.output');\n",
       "if (outputEl) {{\n",
       "    x.observe(outputEl, {childList: true});\n",
       "}}\n",
       "\n",
       "                        })                };                });            </script>        </div>"
      ]
     },
     "metadata": {},
     "output_type": "display_data"
    }
   ],
   "source": [
    "# membuat visualisasi 3D untuk setiap klaster\n",
    "# klaster 1\n",
    "Cluster0= go.Scatter3d(\n",
    "        x=df_pca_3[df_pca_3['cluster']==0]['PC1'],\n",
    "        y=df_pca_3[df_pca_3['cluster']==0]['PC2'],\n",
    "        z=df_pca_3[df_pca_3['cluster']==0]['PC3'],\n",
    "        mode=\"markers\",\n",
    "        marker=dict(\n",
    "                    size=10,\n",
    "                    color=\"rgb(255,0,0)\",\n",
    "        ),\n",
    "        name=\"Cluster 0\"\n",
    ")\n",
    "\n",
    "#klaster 2\n",
    "Cluster1= go.Scatter3d(\n",
    "        x=df_pca_3[df_pca_3['cluster']==1]['PC1'],\n",
    "        y=df_pca_3[df_pca_3['cluster']==1]['PC2'],\n",
    "        z=df_pca_3[df_pca_3['cluster']==1]['PC3'],\n",
    "        mode=\"markers\",\n",
    "        marker=dict(\n",
    "                    size=10,\n",
    "                    color=\"rgb(0,255,0)\",\n",
    "        ),\n",
    "        name=\"Cluster 1\"\n",
    ")\n",
    "\n",
    "# klaster 3\n",
    "Cluster2= go.Scatter3d(\n",
    "        x=df_pca_3[df_pca_3['cluster']==2]['PC1'],\n",
    "        y=df_pca_3[df_pca_3['cluster']==2]['PC2'],\n",
    "        z=df_pca_3[df_pca_3['cluster']==2]['PC3'],\n",
    "        mode=\"markers\",\n",
    "        marker=dict(\n",
    "                    size=10,\n",
    "                    color=\"rgb(0,0,255)\",\n",
    "        ),\n",
    "        name=\"Cluster 2\"\n",
    ")\n",
    "\n",
    "\n",
    "data_plot_km=[Cluster0,Cluster1,Cluster2]\n",
    "\n",
    "# membuat plot\n",
    "layout = go.Layout(\n",
    "    margin=dict(l=0, r=0, b=0, t=0))\n",
    "\n",
    "fig=go.Figure(data = data_plot_km, layout = layout)\n",
    "iplot(fig)"
   ]
  },
  {
   "cell_type": "markdown",
   "metadata": {},
   "source": [
    "# Agglomerative"
   ]
  },
  {
   "cell_type": "code",
   "execution_count": 359,
   "metadata": {},
   "outputs": [
    {
     "data": {
      "image/png": "[encoded data removed]",
      "text/plain": [
       "<Figure size 1200x800 with 1 Axes>"
      ]
     },
     "metadata": {},
     "output_type": "display_data"
    }
   ],
   "source": [
    "# Assuming df_std is your standardized DataFrame\n",
    "df_agl1 = df_final.copy()\n",
    "\n",
    "# Apply Agglomerative Clustering\n",
    "agglomerative = AgglomerativeClustering(n_clusters=1)\n",
    "labelagl1 = agglomerative.fit_predict(df_agl1)\n",
    "df_agl1['cluster'] = labelagl1\n",
    "\n",
    "# Compute the linkage matrix\n",
    "linkage_matrix = linkage(df_agl1.drop(columns=['cluster']), method='ward')\n",
    "\n",
    "# Plot the dendrogram with all data points\n",
    "plt.figure(figsize=(12, 8))\n",
    "dendrogram(linkage_matrix, leaf_rotation=90., leaf_font_size=10.)\n",
    "plt.title('Hierarchical Clustering Dendrogram')\n",
    "plt.xlabel('Sample Index')\n",
    "plt.ylabel('Distance')\n",
    "plt.show()\n"
   ]
  },
  {
   "cell_type": "code",
   "execution_count": 360,
   "metadata": {},
   "outputs": [
    {
     "name": "stdout",
     "output_type": "stream",
     "text": [
      "Clusters present: [0 1 2]\n",
      "Clusters sizes: [40  1  4] \n",
      "\n",
      "Silhouette Score: 0.4902636420089914\n",
      "Calinski-Harabasz Index: 19.63209953997143\n",
      "Davies-Bouldin Index: 0.627493894362586\n"
     ]
    }
   ],
   "source": [
    "df_agl = df_final.copy()\n",
    "\n",
    "agglomerative = AgglomerativeClustering(n_clusters=3, metric = 'euclidean',linkage='ward')\n",
    "labelagl = agglomerative.fit_predict(df_agl)\n",
    "\n",
    "# Periksa apakah terdapat cluster yang terbentuk\n",
    "unique_labels = np.unique(labelagl)\n",
    "n_clusters_formed = len(unique_labels)\n",
    "if n_clusters_formed > 1:  # Cek apakah terdapat lebih dari satu klaster yang terbentuk\n",
    "    score = silhouette_score(df_agl, labelagl)\n",
    "    print(f'Clusters present: {unique_labels}')\n",
    "    print(f'Clusters sizes: {np.bincount(labelagl)}', '\\n')\n",
    "    print(f'Silhouette Score: {silhouette_score(df_agl, labelagl)}')\n",
    "    print(f'Calinski-Harabasz Index: {calinski_harabasz_score(df_agl, labelagl)}')\n",
    "    print(f'Davies-Bouldin Index: {davies_bouldin_score(df_agl, labelagl)}')\n",
    "else:\n",
    "    print(\"Tidak ada klaster yang terbentuk dengan parameter ini.\\n\")\n",
    "\n",
    "df_agl['cluster'] = labelagl\n",
    "data['Cluster'] = labelagl"
   ]
  },
  {
   "cell_type": "code",
   "execution_count": 361,
   "metadata": {},
   "outputs": [
    {
     "name": "stdout",
     "output_type": "stream",
     "text": [
      "              ROA       ROE       Market Cap  Mean Return  Variance Return  \\\n",
      "Ticker                                                                       \n",
      "PGAS.JK  0.042140  0.103040   38422777430016     0.002017         0.000332   \n",
      "GOTO.JK -1.670984 -2.383206   91717776703488    -0.000042         0.001415   \n",
      "AMMN.JK  0.027717  0.055417  683483982725120     0.001989         0.000777   \n",
      "\n",
      "         Cluster  sharpe_ratio  \n",
      "Ticker                          \n",
      "PGAS.JK        0      0.097624  \n",
      "GOTO.JK        1     -0.007451  \n",
      "AMMN.JK        2      0.062818  \n"
     ]
    }
   ],
   "source": [
    "# Risk-free rate (contoh: 6% per tahun, diubah ke harian)\n",
    "risk_free_rate = 0.06 / 252\n",
    "\n",
    "# Hitung Sharpe Ratio\n",
    "data['sharpe_ratio'] = (data['Mean Return'] - risk_free_rate) / np.sqrt(data['Variance Return'])\n",
    "\n",
    "# Ambil saham terbaik dari setiap cluster\n",
    "best_stocks = data.loc[data.groupby('Cluster')['sharpe_ratio'].idxmax()]\n",
    "\n",
    "print(best_stocks)"
   ]
  },
  {
   "cell_type": "code",
   "execution_count": 362,
   "metadata": {},
   "outputs": [
    {
     "name": "stdout",
     "output_type": "stream",
     "text": [
      "65.08414737534632 %\n"
     ]
    },
    {
     "data": {
      "text/plain": [
       "<Axes: xlabel='PC_1', ylabel='PC_2'>"
      ]
     },
     "execution_count": 362,
     "metadata": {},
     "output_type": "execute_result"
    },
    {
     "data": {
      "image/png": "[encoded data removed]",
      "text/plain": [
       "<Figure size 1000x800 with 1 Axes>"
      ]
     },
     "metadata": {},
     "output_type": "display_data"
    }
   ],
   "source": [
    "# Gunakan Dimensionality Reduction dengan PCA untuk mempermudah melakukan visualisasi\n",
    "\n",
    "pca = PCA(n_components = 2)\n",
    "df_pca2 = pd.DataFrame(pca.fit_transform(df_agl.iloc[:,:-1]),\n",
    "                      columns = ['PC_1', 'PC_2'],\n",
    "                      index = df_agl.index)\n",
    "\n",
    "df_pca2 = pd.concat([df_pca2, df_agl.cluster], axis = 1)\n",
    "# df_pca1.head()\n",
    "\n",
    "print(np.sum(pca.explained_variance_ratio_)*100, \"%\") # 2 Dimensi dapat menjelaskan keseluruhan fitur\n",
    "fig = plt.figure(figsize=(10, 8))\n",
    "ax = fig.add_subplot()\n",
    "sns.scatterplot(data = df_pca2, x = 'PC_1', y = 'PC_2', hue = 'cluster', s = 300, ax = ax)"
   ]
  },
  {
   "cell_type": "markdown",
   "metadata": {},
   "source": [
    "**3D**"
   ]
  },
  {
   "cell_type": "code",
   "execution_count": 363,
   "metadata": {},
   "outputs": [],
   "source": [
    "# Gunakan Dimensionality Reduction dengan PCA untuk mempermudah melakukan visualisasi\n",
    "\n",
    "pca = PCA(n_components = 3)\n",
    "df_pca_3 = pd.DataFrame(pca.fit_transform(df_agl.iloc[:,:-1]),\n",
    "                      columns = ['PC1', 'PC2', 'PC3'],\n",
    "                      index = df_agl.index)\n",
    "\n",
    "df_pca_3 = pd.concat([df_pca_3, df_agl.cluster], axis = 1)\n",
    "# df_pca1.head()"
   ]
  },
  {
   "cell_type": "code",
   "execution_count": 364,
   "metadata": {},
   "outputs": [
    {
     "data": {
      "text/html": [
       "<div>\n",
       "<style scoped>\n",
       "    .dataframe tbody tr th:only-of-type {\n",
       "        vertical-align: middle;\n",
       "    }\n",
       "\n",
       "    .dataframe tbody tr th {\n",
       "        vertical-align: top;\n",
       "    }\n",
       "\n",
       "    .dataframe thead th {\n",
       "        text-align: right;\n",
       "    }\n",
       "</style>\n",
       "<table border=\"1\" class=\"dataframe\">\n",
       "  <thead>\n",
       "    <tr style=\"text-align: right;\">\n",
       "      <th></th>\n",
       "      <th>PC1</th>\n",
       "      <th>PC2</th>\n",
       "      <th>PC3</th>\n",
       "      <th>cluster</th>\n",
       "    </tr>\n",
       "    <tr>\n",
       "      <th>Ticker</th>\n",
       "      <th></th>\n",
       "      <th></th>\n",
       "      <th></th>\n",
       "      <th></th>\n",
       "    </tr>\n",
       "  </thead>\n",
       "  <tbody>\n",
       "    <tr>\n",
       "      <th>ACES.JK</th>\n",
       "      <td>-0.132589</td>\n",
       "      <td>-0.180676</td>\n",
       "      <td>-0.661453</td>\n",
       "      <td>0</td>\n",
       "    </tr>\n",
       "    <tr>\n",
       "      <th>ADMR.JK</th>\n",
       "      <td>-0.271514</td>\n",
       "      <td>-0.415203</td>\n",
       "      <td>-0.497805</td>\n",
       "      <td>0</td>\n",
       "    </tr>\n",
       "    <tr>\n",
       "      <th>ADRO.JK</th>\n",
       "      <td>-0.216669</td>\n",
       "      <td>1.171590</td>\n",
       "      <td>-2.045702</td>\n",
       "      <td>0</td>\n",
       "    </tr>\n",
       "    <tr>\n",
       "      <th>AKRA.JK</th>\n",
       "      <td>-0.391026</td>\n",
       "      <td>-0.516436</td>\n",
       "      <td>-0.168712</td>\n",
       "      <td>0</td>\n",
       "    </tr>\n",
       "    <tr>\n",
       "      <th>AMMN.JK</th>\n",
       "      <td>-0.591894</td>\n",
       "      <td>2.775036</td>\n",
       "      <td>0.198475</td>\n",
       "      <td>2</td>\n",
       "    </tr>\n",
       "  </tbody>\n",
       "</table>\n",
       "</div>"
      ],
      "text/plain": [
       "              PC1       PC2       PC3  cluster\n",
       "Ticker                                        \n",
       "ACES.JK -0.132589 -0.180676 -0.661453        0\n",
       "ADMR.JK -0.271514 -0.415203 -0.497805        0\n",
       "ADRO.JK -0.216669  1.171590 -2.045702        0\n",
       "AKRA.JK -0.391026 -0.516436 -0.168712        0\n",
       "AMMN.JK -0.591894  2.775036  0.198475        2"
      ]
     },
     "execution_count": 364,
     "metadata": {},
     "output_type": "execute_result"
    }
   ],
   "source": [
    "df_pca_3.head()"
   ]
  },
  {
   "cell_type": "code",
   "execution_count": 365,
   "metadata": {},
   "outputs": [
    {
     "data": {
      "application/vnd.plotly.v1+json": {
       "config": {
        "linkText": "Export to plot.ly",
        "plotlyServerURL": "https://plot.ly",
        "showLink": false
       },
       "data": [
        {
         "marker": {
          "color": "rgb(255,0,0)",
          "size": 10
         },
         "mode": "markers",
         "name": "Cluster 0",
         "type": "scatter3d",
         "x": [
          -0.13258933167139833,
          -0.27151370569962613,
          -0.21666891500981242,
          -0.39102598908244257,
          -0.7062574961774118,
          0.012979153523070372,
          1.3996885042181562,
          -0.7323633622152951,
          -0.4010151922797581,
          0.05182562964091612,
          -0.167228533521787,
          2.8774512451738357,
          1.6706025170335967,
          -0.4656685962140094,
          0.36761150618788385,
          -0.2058608297618417,
          -0.6817618009838836,
          0.25663548946536785,
          -0.9118993109083492,
          -0.012597211542830593,
          -0.10916202968931295,
          -0.033568029919112154,
          -1.3116233187926498,
          -0.27044434521957983,
          -0.5547042819495968,
          0.6070951015582875,
          1.523142825995926,
          0.8172018521756569,
          0.14955666435882026,
          -0.2798406388907766,
          -0.7422111889567657,
          0.17996569560990605,
          -0.927611918269625,
          -0.8610631402201301,
          0.5913955638122179,
          0.09527249755539131,
          -0.45389334324446473,
          -0.017686973781575643,
          -1.1046622717559937,
          0.10493746570856005
         ],
         "y": [
          -0.18067624831579526,
          -0.41520348411674723,
          1.1715896473802676,
          -0.5164359715761184,
          -0.06734959356321507,
          -0.47259927684580255,
          -0.10485468354657976,
          -0.016971897664353076,
          0.007163105922093962,
          -0.3406348490305404,
          1.5203756781959827,
          0.12193190132926786,
          -1.09491434570603,
          -0.3020472713521886,
          0.68816369313678,
          -0.11077372321537038,
          0.13375970427859415,
          -0.7616379221207461,
          0.1436850580621474,
          -0.7247753947159176,
          -1.2168287447930441,
          0.15905555546325792,
          -0.16401231927975132,
          -0.6110847912158037,
          -0.7583618441201021,
          -0.5040828683380852,
          -0.05237611421828289,
          -0.6684802620462741,
          -0.035350743704780654,
          -0.5528350128734505,
          0.6704256906175279,
          -0.4286061017571163,
          0.023178308053508442,
          -0.5945133866202599,
          -1.8998532562883066,
          -0.37613517112416045,
          -0.4824044535880356,
          -1.0328292838609068,
          0.43209200335139636,
          -1.8591275254745203
         ],
         "z": [
          -0.6614525371345473,
          -0.4978052229897982,
          -2.045701934221174,
          -0.16871185733148514,
          -0.08210207288139744,
          -0.11055781346099047,
          -0.3723662623894917,
          0.41002289567416006,
          0.3547525102491774,
          -0.23791653841225727,
          -1.7233971483923047,
          -0.2954303389500229,
          0.7884792433872193,
          0.013717231603436644,
          -1.5797692066086764,
          -0.4466112130426089,
          -0.16661635064086902,
          0.20579919429418608,
          -0.5767248159957917,
          0.2841419575292474,
          0.7154206006940709,
          -0.5008888149519917,
          -0.875590962245164,
          0.08162128564427212,
          0.3615454575397911,
          -0.1362112051073605,
          -0.3151557415280618,
          0.3750193926646921,
          -0.636171056510782,
          0.19168400784768116,
          -1.3950674634967355,
          -0.09108753377343198,
          -0.9337457545471314,
          -0.4817846997019511,
          1.6200599380207097,
          -0.28260278468314004,
          1.3636504049157967,
          0.613762706138272,
          -0.9285268199841764,
          1.2786877989343994
         ]
        },
        {
         "marker": {
          "color": "rgb(0,255,0)",
          "size": 10
         },
         "mode": "markers",
         "name": "Cluster 1",
         "type": "scatter3d",
         "x": [
          5.870262350656411
         ],
         "y": [
          2.5247294620445246
         ],
         "z": [
          0.7075386928154441
         ]
        },
        {
         "marker": {
          "color": "rgb(0,0,255)",
          "size": 10
         },
         "mode": "markers",
         "name": "Cluster 2",
         "type": "scatter3d",
         "x": [
          -0.5918938856768137,
          -2.1696655729959873,
          -0.8680534902344987,
          -0.9830893580086751
         ],
         "y": [
          2.77503578022166,
          3.4827542675756313,
          0.9922136536195307,
          1.4996030318201123
         ],
         "z": [
          0.1984746478974758,
          2.8506947865600485,
          2.0940074446046566,
          1.0329159519666042
         ]
        }
       ],
       "layout": {
        "margin": {
         "b": 0,
         "l": 0,
         "r": 0,
         "t": 0
        },
        "template": {
         "data": {
          "bar": [
           {
            "error_x": {
             "color": "#2a3f5f"
            },
            "error_y": {
             "color": "#2a3f5f"
            },
            "marker": {
             "line": {
              "color": "#E5ECF6",
              "width": 0.5
             },
             "pattern": {
              "fillmode": "overlay",
              "size": 10,
              "solidity": 0.2
             }
            },
            "type": "bar"
           }
          ],
          "barpolar": [
           {
            "marker": {
             "line": {
              "color": "#E5ECF6",
              "width": 0.5
             },
             "pattern": {
              "fillmode": "overlay",
              "size": 10,
              "solidity": 0.2
             }
            },
            "type": "barpolar"
           }
          ],
          "carpet": [
           {
            "aaxis": {
             "endlinecolor": "#2a3f5f",
             "gridcolor": "white",
             "linecolor": "white",
             "minorgridcolor": "white",
             "startlinecolor": "#2a3f5f"
            },
            "baxis": {
             "endlinecolor": "#2a3f5f",
             "gridcolor": "white",
             "linecolor": "white",
             "minorgridcolor": "white",
             "startlinecolor": "#2a3f5f"
            },
            "type": "carpet"
           }
          ],
          "choropleth": [
           {
            "colorbar": {
             "outlinewidth": 0,
             "ticks": ""
            },
            "type": "choropleth"
           }
          ],
          "contour": [
           {
            "colorbar": {
             "outlinewidth": 0,
             "ticks": ""
            },
            "colorscale": [
             [
              0,
              "#0d0887"
             ],
             [
              0.1111111111111111,
              "#46039f"
             ],
             [
              0.2222222222222222,
              "#7201a8"
             ],
             [
              0.3333333333333333,
              "#9c179e"
             ],
             [
              0.4444444444444444,
              "#bd3786"
             ],
             [
              0.5555555555555556,
              "#d8576b"
             ],
             [
              0.6666666666666666,
              "#ed7953"
             ],
             [
              0.7777777777777778,
              "#fb9f3a"
             ],
             [
              0.8888888888888888,
              "#fdca26"
             ],
             [
              1,
              "#f0f921"
             ]
            ],
            "type": "contour"
           }
          ],
          "contourcarpet": [
           {
            "colorbar": {
             "outlinewidth": 0,
             "ticks": ""
            },
            "type": "contourcarpet"
           }
          ],
          "heatmap": [
           {
            "colorbar": {
             "outlinewidth": 0,
             "ticks": ""
            },
            "colorscale": [
             [
              0,
              "#0d0887"
             ],
             [
              0.1111111111111111,
              "#46039f"
             ],
             [
              0.2222222222222222,
              "#7201a8"
             ],
             [
              0.3333333333333333,
              "#9c179e"
             ],
             [
              0.4444444444444444,
              "#bd3786"
             ],
             [
              0.5555555555555556,
              "#d8576b"
             ],
             [
              0.6666666666666666,
              "#ed7953"
             ],
             [
              0.7777777777777778,
              "#fb9f3a"
             ],
             [
              0.8888888888888888,
              "#fdca26"
             ],
             [
              1,
              "#f0f921"
             ]
            ],
            "type": "heatmap"
           }
          ],
          "heatmapgl": [
           {
            "colorbar": {
             "outlinewidth": 0,
             "ticks": ""
            },
            "colorscale": [
             [
              0,
              "#0d0887"
             ],
             [
              0.1111111111111111,
              "#46039f"
             ],
             [
              0.2222222222222222,
              "#7201a8"
             ],
             [
              0.3333333333333333,
              "#9c179e"
             ],
             [
              0.4444444444444444,
              "#bd3786"
             ],
             [
              0.5555555555555556,
              "#d8576b"
             ],
             [
              0.6666666666666666,
              "#ed7953"
             ],
             [
              0.7777777777777778,
              "#fb9f3a"
             ],
             [
              0.8888888888888888,
              "#fdca26"
             ],
             [
              1,
              "#f0f921"
             ]
            ],
            "type": "heatmapgl"
           }
          ],
          "histogram": [
           {
            "marker": {
             "pattern": {
              "fillmode": "overlay",
              "size": 10,
              "solidity": 0.2
             }
            },
            "type": "histogram"
           }
          ],
          "histogram2d": [
           {
            "colorbar": {
             "outlinewidth": 0,
             "ticks": ""
            },
            "colorscale": [
             [
              0,
              "#0d0887"
             ],
             [
              0.1111111111111111,
              "#46039f"
             ],
             [
              0.2222222222222222,
              "#7201a8"
             ],
             [
              0.3333333333333333,
              "#9c179e"
             ],
             [
              0.4444444444444444,
              "#bd3786"
             ],
             [
              0.5555555555555556,
              "#d8576b"
             ],
             [
              0.6666666666666666,
              "#ed7953"
             ],
             [
              0.7777777777777778,
              "#fb9f3a"
             ],
             [
              0.8888888888888888,
              "#fdca26"
             ],
             [
              1,
              "#f0f921"
             ]
            ],
            "type": "histogram2d"
           }
          ],
          "histogram2dcontour": [
           {
            "colorbar": {
             "outlinewidth": 0,
             "ticks": ""
            },
            "colorscale": [
             [
              0,
              "#0d0887"
             ],
             [
              0.1111111111111111,
              "#46039f"
             ],
             [
              0.2222222222222222,
              "#7201a8"
             ],
             [
              0.3333333333333333,
              "#9c179e"
             ],
             [
              0.4444444444444444,
              "#bd3786"
             ],
             [
              0.5555555555555556,
              "#d8576b"
             ],
             [
              0.6666666666666666,
              "#ed7953"
             ],
             [
              0.7777777777777778,
              "#fb9f3a"
             ],
             [
              0.8888888888888888,
              "#fdca26"
             ],
             [
              1,
              "#f0f921"
             ]
            ],
            "type": "histogram2dcontour"
           }
          ],
          "mesh3d": [
           {
            "colorbar": {
             "outlinewidth": 0,
             "ticks": ""
            },
            "type": "mesh3d"
           }
          ],
          "parcoords": [
           {
            "line": {
             "colorbar": {
              "outlinewidth": 0,
              "ticks": ""
             }
            },
            "type": "parcoords"
           }
          ],
          "pie": [
           {
            "automargin": true,
            "type": "pie"
           }
          ],
          "scatter": [
           {
            "fillpattern": {
             "fillmode": "overlay",
             "size": 10,
             "solidity": 0.2
            },
            "type": "scatter"
           }
          ],
          "scatter3d": [
           {
            "line": {
             "colorbar": {
              "outlinewidth": 0,
              "ticks": ""
             }
            },
            "marker": {
             "colorbar": {
              "outlinewidth": 0,
              "ticks": ""
             }
            },
            "type": "scatter3d"
           }
          ],
          "scattercarpet": [
           {
            "marker": {
             "colorbar": {
              "outlinewidth": 0,
              "ticks": ""
             }
            },
            "type": "scattercarpet"
           }
          ],
          "scattergeo": [
           {
            "marker": {
             "colorbar": {
              "outlinewidth": 0,
              "ticks": ""
             }
            },
            "type": "scattergeo"
           }
          ],
          "scattergl": [
           {
            "marker": {
             "colorbar": {
              "outlinewidth": 0,
              "ticks": ""
             }
            },
            "type": "scattergl"
           }
          ],
          "scattermapbox": [
           {
            "marker": {
             "colorbar": {
              "outlinewidth": 0,
              "ticks": ""
             }
            },
            "type": "scattermapbox"
           }
          ],
          "scatterpolar": [
           {
            "marker": {
             "colorbar": {
              "outlinewidth": 0,
              "ticks": ""
             }
            },
            "type": "scatterpolar"
           }
          ],
          "scatterpolargl": [
           {
            "marker": {
             "colorbar": {
              "outlinewidth": 0,
              "ticks": ""
             }
            },
            "type": "scatterpolargl"
           }
          ],
          "scatterternary": [
           {
            "marker": {
             "colorbar": {
              "outlinewidth": 0,
              "ticks": ""
             }
            },
            "type": "scatterternary"
           }
          ],
          "surface": [
           {
            "colorbar": {
             "outlinewidth": 0,
             "ticks": ""
            },
            "colorscale": [
             [
              0,
              "#0d0887"
             ],
             [
              0.1111111111111111,
              "#46039f"
             ],
             [
              0.2222222222222222,
              "#7201a8"
             ],
             [
              0.3333333333333333,
              "#9c179e"
             ],
             [
              0.4444444444444444,
              "#bd3786"
             ],
             [
              0.5555555555555556,
              "#d8576b"
             ],
             [
              0.6666666666666666,
              "#ed7953"
             ],
             [
              0.7777777777777778,
              "#fb9f3a"
             ],
             [
              0.8888888888888888,
              "#fdca26"
             ],
             [
              1,
              "#f0f921"
             ]
            ],
            "type": "surface"
           }
          ],
          "table": [
           {
            "cells": {
             "fill": {
              "color": "#EBF0F8"
             },
             "line": {
              "color": "white"
             }
            },
            "header": {
             "fill": {
              "color": "#C8D4E3"
             },
             "line": {
              "color": "white"
             }
            },
            "type": "table"
           }
          ]
         },
         "layout": {
          "annotationdefaults": {
           "arrowcolor": "#2a3f5f",
           "arrowhead": 0,
           "arrowwidth": 1
          },
          "autotypenumbers": "strict",
          "coloraxis": {
           "colorbar": {
            "outlinewidth": 0,
            "ticks": ""
           }
          },
          "colorscale": {
           "diverging": [
            [
             0,
             "#8e0152"
            ],
            [
             0.1,
             "#c51b7d"
            ],
            [
             0.2,
             "#de77ae"
            ],
            [
             0.3,
             "#f1b6da"
            ],
            [
             0.4,
             "#fde0ef"
            ],
            [
             0.5,
             "#f7f7f7"
            ],
            [
             0.6,
             "#e6f5d0"
            ],
            [
             0.7,
             "#b8e186"
            ],
            [
             0.8,
             "#7fbc41"
            ],
            [
             0.9,
             "#4d9221"
            ],
            [
             1,
             "#276419"
            ]
           ],
           "sequential": [
            [
             0,
             "#0d0887"
            ],
            [
             0.1111111111111111,
             "#46039f"
            ],
            [
             0.2222222222222222,
             "#7201a8"
            ],
            [
             0.3333333333333333,
             "#9c179e"
            ],
            [
             0.4444444444444444,
             "#bd3786"
            ],
            [
             0.5555555555555556,
             "#d8576b"
            ],
            [
             0.6666666666666666,
             "#ed7953"
            ],
            [
             0.7777777777777778,
             "#fb9f3a"
            ],
            [
             0.8888888888888888,
             "#fdca26"
            ],
            [
             1,
             "#f0f921"
            ]
           ],
           "sequentialminus": [
            [
             0,
             "#0d0887"
            ],
            [
             0.1111111111111111,
             "#46039f"
            ],
            [
             0.2222222222222222,
             "#7201a8"
            ],
            [
             0.3333333333333333,
             "#9c179e"
            ],
            [
             0.4444444444444444,
             "#bd3786"
            ],
            [
             0.5555555555555556,
             "#d8576b"
            ],
            [
             0.6666666666666666,
             "#ed7953"
            ],
            [
             0.7777777777777778,
             "#fb9f3a"
            ],
            [
             0.8888888888888888,
             "#fdca26"
            ],
            [
             1,
             "#f0f921"
            ]
           ]
          },
          "colorway": [
           "#636efa",
           "#EF553B",
           "#00cc96",
           "#ab63fa",
           "#FFA15A",
           "#19d3f3",
           "#FF6692",
           "#B6E880",
           "#FF97FF",
           "#FECB52"
          ],
          "font": {
           "color": "#2a3f5f"
          },
          "geo": {
           "bgcolor": "white",
           "lakecolor": "white",
           "landcolor": "#E5ECF6",
           "showlakes": true,
           "showland": true,
           "subunitcolor": "white"
          },
          "hoverlabel": {
           "align": "left"
          },
          "hovermode": "closest",
          "mapbox": {
           "style": "light"
          },
          "paper_bgcolor": "white",
          "plot_bgcolor": "#E5ECF6",
          "polar": {
           "angularaxis": {
            "gridcolor": "white",
            "linecolor": "white",
            "ticks": ""
           },
           "bgcolor": "#E5ECF6",
           "radialaxis": {
            "gridcolor": "white",
            "linecolor": "white",
            "ticks": ""
           }
          },
          "scene": {
           "xaxis": {
            "backgroundcolor": "#E5ECF6",
            "gridcolor": "white",
            "gridwidth": 2,
            "linecolor": "white",
            "showbackground": true,
            "ticks": "",
            "zerolinecolor": "white"
           },
           "yaxis": {
            "backgroundcolor": "#E5ECF6",
            "gridcolor": "white",
            "gridwidth": 2,
            "linecolor": "white",
            "showbackground": true,
            "ticks": "",
            "zerolinecolor": "white"
           },
           "zaxis": {
            "backgroundcolor": "#E5ECF6",
            "gridcolor": "white",
            "gridwidth": 2,
            "linecolor": "white",
            "showbackground": true,
            "ticks": "",
            "zerolinecolor": "white"
           }
          },
          "shapedefaults": {
           "line": {
            "color": "#2a3f5f"
           }
          },
          "ternary": {
           "aaxis": {
            "gridcolor": "white",
            "linecolor": "white",
            "ticks": ""
           },
           "baxis": {
            "gridcolor": "white",
            "linecolor": "white",
            "ticks": ""
           },
           "bgcolor": "#E5ECF6",
           "caxis": {
            "gridcolor": "white",
            "linecolor": "white",
            "ticks": ""
           }
          },
          "title": {
           "x": 0.05
          },
          "xaxis": {
           "automargin": true,
           "gridcolor": "white",
           "linecolor": "white",
           "ticks": "",
           "title": {
            "standoff": 15
           },
           "zerolinecolor": "white",
           "zerolinewidth": 2
          },
          "yaxis": {
           "automargin": true,
           "gridcolor": "white",
           "linecolor": "white",
           "ticks": "",
           "title": {
            "standoff": 15
           },
           "zerolinecolor": "white",
           "zerolinewidth": 2
          }
         }
        }
       }
      },
      "text/html": [
       "<div>                            <div id=\"ead6e79f-4d53-4527-9b32-64488ce8fc39\" class=\"plotly-graph-div\" style=\"height:525px; width:100%;\"></div>            <script type=\"text/javascript\">                require([\"plotly\"], function(Plotly) {                    window.PLOTLYENV=window.PLOTLYENV || {};                                    if (document.getElementById(\"ead6e79f-4d53-4527-9b32-64488ce8fc39\")) {                    Plotly.newPlot(                        \"ead6e79f-4d53-4527-9b32-64488ce8fc39\",                        [{\"marker\":{\"color\":\"rgb(255,0,0)\",\"size\":10},\"mode\":\"markers\",\"name\":\"Cluster 0\",\"x\":[-0.13258933167139833,-0.27151370569962613,-0.21666891500981242,-0.39102598908244257,-0.7062574961774118,0.012979153523070372,1.3996885042181562,-0.7323633622152951,-0.4010151922797581,0.05182562964091612,-0.167228533521787,2.8774512451738357,1.6706025170335967,-0.4656685962140094,0.36761150618788385,-0.2058608297618417,-0.6817618009838836,0.25663548946536785,-0.9118993109083492,-0.012597211542830593,-0.10916202968931295,-0.033568029919112154,-1.3116233187926498,-0.27044434521957983,-0.5547042819495968,0.6070951015582875,1.523142825995926,0.8172018521756569,0.14955666435882026,-0.2798406388907766,-0.7422111889567657,0.17996569560990605,-0.927611918269625,-0.8610631402201301,0.5913955638122179,0.09527249755539131,-0.45389334324446473,-0.017686973781575643,-1.1046622717559937,0.10493746570856005],\"y\":[-0.18067624831579526,-0.41520348411674723,1.1715896473802676,-0.5164359715761184,-0.06734959356321507,-0.47259927684580255,-0.10485468354657976,-0.016971897664353076,0.007163105922093962,-0.3406348490305404,1.5203756781959827,0.12193190132926786,-1.09491434570603,-0.3020472713521886,0.68816369313678,-0.11077372321537038,0.13375970427859415,-0.7616379221207461,0.1436850580621474,-0.7247753947159176,-1.2168287447930441,0.15905555546325792,-0.16401231927975132,-0.6110847912158037,-0.7583618441201021,-0.5040828683380852,-0.05237611421828289,-0.6684802620462741,-0.035350743704780654,-0.5528350128734505,0.6704256906175279,-0.4286061017571163,0.023178308053508442,-0.5945133866202599,-1.8998532562883066,-0.37613517112416045,-0.4824044535880356,-1.0328292838609068,0.43209200335139636,-1.8591275254745203],\"z\":[-0.6614525371345473,-0.4978052229897982,-2.045701934221174,-0.16871185733148514,-0.08210207288139744,-0.11055781346099047,-0.3723662623894917,0.41002289567416006,0.3547525102491774,-0.23791653841225727,-1.7233971483923047,-0.2954303389500229,0.7884792433872193,0.013717231603436644,-1.5797692066086764,-0.4466112130426089,-0.16661635064086902,0.20579919429418608,-0.5767248159957917,0.2841419575292474,0.7154206006940709,-0.5008888149519917,-0.875590962245164,0.08162128564427212,0.3615454575397911,-0.1362112051073605,-0.3151557415280618,0.3750193926646921,-0.636171056510782,0.19168400784768116,-1.3950674634967355,-0.09108753377343198,-0.9337457545471314,-0.4817846997019511,1.6200599380207097,-0.28260278468314004,1.3636504049157967,0.613762706138272,-0.9285268199841764,1.2786877989343994],\"type\":\"scatter3d\"},{\"marker\":{\"color\":\"rgb(0,255,0)\",\"size\":10},\"mode\":\"markers\",\"name\":\"Cluster 1\",\"x\":[5.870262350656411],\"y\":[2.5247294620445246],\"z\":[0.7075386928154441],\"type\":\"scatter3d\"},{\"marker\":{\"color\":\"rgb(0,0,255)\",\"size\":10},\"mode\":\"markers\",\"name\":\"Cluster 2\",\"x\":[-0.5918938856768137,-2.1696655729959873,-0.8680534902344987,-0.9830893580086751],\"y\":[2.77503578022166,3.4827542675756313,0.9922136536195307,1.4996030318201123],\"z\":[0.1984746478974758,2.8506947865600485,2.0940074446046566,1.0329159519666042],\"type\":\"scatter3d\"}],                        {\"margin\":{\"b\":0,\"l\":0,\"r\":0,\"t\":0},\"template\":{\"data\":{\"barpolar\":[{\"marker\":{\"line\":{\"color\":\"#E5ECF6\",\"width\":0.5},\"pattern\":{\"fillmode\":\"overlay\",\"size\":10,\"solidity\":0.2}},\"type\":\"barpolar\"}],\"bar\":[{\"error_x\":{\"color\":\"#2a3f5f\"},\"error_y\":{\"color\":\"#2a3f5f\"},\"marker\":{\"line\":{\"color\":\"#E5ECF6\",\"width\":0.5},\"pattern\":{\"fillmode\":\"overlay\",\"size\":10,\"solidity\":0.2}},\"type\":\"bar\"}],\"carpet\":[{\"aaxis\":{\"endlinecolor\":\"#2a3f5f\",\"gridcolor\":\"white\",\"linecolor\":\"white\",\"minorgridcolor\":\"white\",\"startlinecolor\":\"#2a3f5f\"},\"baxis\":{\"endlinecolor\":\"#2a3f5f\",\"gridcolor\":\"white\",\"linecolor\":\"white\",\"minorgridcolor\":\"white\",\"startlinecolor\":\"#2a3f5f\"},\"type\":\"carpet\"}],\"choropleth\":[{\"colorbar\":{\"outlinewidth\":0,\"ticks\":\"\"},\"type\":\"choropleth\"}],\"contourcarpet\":[{\"colorbar\":{\"outlinewidth\":0,\"ticks\":\"\"},\"type\":\"contourcarpet\"}],\"contour\":[{\"colorbar\":{\"outlinewidth\":0,\"ticks\":\"\"},\"colorscale\":[[0.0,\"#0d0887\"],[0.1111111111111111,\"#46039f\"],[0.2222222222222222,\"#7201a8\"],[0.3333333333333333,\"#9c179e\"],[0.4444444444444444,\"#bd3786\"],[0.5555555555555556,\"#d8576b\"],[0.6666666666666666,\"#ed7953\"],[0.7777777777777778,\"#fb9f3a\"],[0.8888888888888888,\"#fdca26\"],[1.0,\"#f0f921\"]],\"type\":\"contour\"}],\"heatmapgl\":[{\"colorbar\":{\"outlinewidth\":0,\"ticks\":\"\"},\"colorscale\":[[0.0,\"#0d0887\"],[0.1111111111111111,\"#46039f\"],[0.2222222222222222,\"#7201a8\"],[0.3333333333333333,\"#9c179e\"],[0.4444444444444444,\"#bd3786\"],[0.5555555555555556,\"#d8576b\"],[0.6666666666666666,\"#ed7953\"],[0.7777777777777778,\"#fb9f3a\"],[0.8888888888888888,\"#fdca26\"],[1.0,\"#f0f921\"]],\"type\":\"heatmapgl\"}],\"heatmap\":[{\"colorbar\":{\"outlinewidth\":0,\"ticks\":\"\"},\"colorscale\":[[0.0,\"#0d0887\"],[0.1111111111111111,\"#46039f\"],[0.2222222222222222,\"#7201a8\"],[0.3333333333333333,\"#9c179e\"],[0.4444444444444444,\"#bd3786\"],[0.5555555555555556,\"#d8576b\"],[0.6666666666666666,\"#ed7953\"],[0.7777777777777778,\"#fb9f3a\"],[0.8888888888888888,\"#fdca26\"],[1.0,\"#f0f921\"]],\"type\":\"heatmap\"}],\"histogram2dcontour\":[{\"colorbar\":{\"outlinewidth\":0,\"ticks\":\"\"},\"colorscale\":[[0.0,\"#0d0887\"],[0.1111111111111111,\"#46039f\"],[0.2222222222222222,\"#7201a8\"],[0.3333333333333333,\"#9c179e\"],[0.4444444444444444,\"#bd3786\"],[0.5555555555555556,\"#d8576b\"],[0.6666666666666666,\"#ed7953\"],[0.7777777777777778,\"#fb9f3a\"],[0.8888888888888888,\"#fdca26\"],[1.0,\"#f0f921\"]],\"type\":\"histogram2dcontour\"}],\"histogram2d\":[{\"colorbar\":{\"outlinewidth\":0,\"ticks\":\"\"},\"colorscale\":[[0.0,\"#0d0887\"],[0.1111111111111111,\"#46039f\"],[0.2222222222222222,\"#7201a8\"],[0.3333333333333333,\"#9c179e\"],[0.4444444444444444,\"#bd3786\"],[0.5555555555555556,\"#d8576b\"],[0.6666666666666666,\"#ed7953\"],[0.7777777777777778,\"#fb9f3a\"],[0.8888888888888888,\"#fdca26\"],[1.0,\"#f0f921\"]],\"type\":\"histogram2d\"}],\"histogram\":[{\"marker\":{\"pattern\":{\"fillmode\":\"overlay\",\"size\":10,\"solidity\":0.2}},\"type\":\"histogram\"}],\"mesh3d\":[{\"colorbar\":{\"outlinewidth\":0,\"ticks\":\"\"},\"type\":\"mesh3d\"}],\"parcoords\":[{\"line\":{\"colorbar\":{\"outlinewidth\":0,\"ticks\":\"\"}},\"type\":\"parcoords\"}],\"pie\":[{\"automargin\":true,\"type\":\"pie\"}],\"scatter3d\":[{\"line\":{\"colorbar\":{\"outlinewidth\":0,\"ticks\":\"\"}},\"marker\":{\"colorbar\":{\"outlinewidth\":0,\"ticks\":\"\"}},\"type\":\"scatter3d\"}],\"scattercarpet\":[{\"marker\":{\"colorbar\":{\"outlinewidth\":0,\"ticks\":\"\"}},\"type\":\"scattercarpet\"}],\"scattergeo\":[{\"marker\":{\"colorbar\":{\"outlinewidth\":0,\"ticks\":\"\"}},\"type\":\"scattergeo\"}],\"scattergl\":[{\"marker\":{\"colorbar\":{\"outlinewidth\":0,\"ticks\":\"\"}},\"type\":\"scattergl\"}],\"scattermapbox\":[{\"marker\":{\"colorbar\":{\"outlinewidth\":0,\"ticks\":\"\"}},\"type\":\"scattermapbox\"}],\"scatterpolargl\":[{\"marker\":{\"colorbar\":{\"outlinewidth\":0,\"ticks\":\"\"}},\"type\":\"scatterpolargl\"}],\"scatterpolar\":[{\"marker\":{\"colorbar\":{\"outlinewidth\":0,\"ticks\":\"\"}},\"type\":\"scatterpolar\"}],\"scatter\":[{\"fillpattern\":{\"fillmode\":\"overlay\",\"size\":10,\"solidity\":0.2},\"type\":\"scatter\"}],\"scatterternary\":[{\"marker\":{\"colorbar\":{\"outlinewidth\":0,\"ticks\":\"\"}},\"type\":\"scatterternary\"}],\"surface\":[{\"colorbar\":{\"outlinewidth\":0,\"ticks\":\"\"},\"colorscale\":[[0.0,\"#0d0887\"],[0.1111111111111111,\"#46039f\"],[0.2222222222222222,\"#7201a8\"],[0.3333333333333333,\"#9c179e\"],[0.4444444444444444,\"#bd3786\"],[0.5555555555555556,\"#d8576b\"],[0.6666666666666666,\"#ed7953\"],[0.7777777777777778,\"#fb9f3a\"],[0.8888888888888888,\"#fdca26\"],[1.0,\"#f0f921\"]],\"type\":\"surface\"}],\"table\":[{\"cells\":{\"fill\":{\"color\":\"#EBF0F8\"},\"line\":{\"color\":\"white\"}},\"header\":{\"fill\":{\"color\":\"#C8D4E3\"},\"line\":{\"color\":\"white\"}},\"type\":\"table\"}]},\"layout\":{\"annotationdefaults\":{\"arrowcolor\":\"#2a3f5f\",\"arrowhead\":0,\"arrowwidth\":1},\"autotypenumbers\":\"strict\",\"coloraxis\":{\"colorbar\":{\"outlinewidth\":0,\"ticks\":\"\"}},\"colorscale\":{\"diverging\":[[0,\"#8e0152\"],[0.1,\"#c51b7d\"],[0.2,\"#de77ae\"],[0.3,\"#f1b6da\"],[0.4,\"#fde0ef\"],[0.5,\"#f7f7f7\"],[0.6,\"#e6f5d0\"],[0.7,\"#b8e186\"],[0.8,\"#7fbc41\"],[0.9,\"#4d9221\"],[1,\"#276419\"]],\"sequential\":[[0.0,\"#0d0887\"],[0.1111111111111111,\"#46039f\"],[0.2222222222222222,\"#7201a8\"],[0.3333333333333333,\"#9c179e\"],[0.4444444444444444,\"#bd3786\"],[0.5555555555555556,\"#d8576b\"],[0.6666666666666666,\"#ed7953\"],[0.7777777777777778,\"#fb9f3a\"],[0.8888888888888888,\"#fdca26\"],[1.0,\"#f0f921\"]],\"sequentialminus\":[[0.0,\"#0d0887\"],[0.1111111111111111,\"#46039f\"],[0.2222222222222222,\"#7201a8\"],[0.3333333333333333,\"#9c179e\"],[0.4444444444444444,\"#bd3786\"],[0.5555555555555556,\"#d8576b\"],[0.6666666666666666,\"#ed7953\"],[0.7777777777777778,\"#fb9f3a\"],[0.8888888888888888,\"#fdca26\"],[1.0,\"#f0f921\"]]},\"colorway\":[\"#636efa\",\"#EF553B\",\"#00cc96\",\"#ab63fa\",\"#FFA15A\",\"#19d3f3\",\"#FF6692\",\"#B6E880\",\"#FF97FF\",\"#FECB52\"],\"font\":{\"color\":\"#2a3f5f\"},\"geo\":{\"bgcolor\":\"white\",\"lakecolor\":\"white\",\"landcolor\":\"#E5ECF6\",\"showlakes\":true,\"showland\":true,\"subunitcolor\":\"white\"},\"hoverlabel\":{\"align\":\"left\"},\"hovermode\":\"closest\",\"mapbox\":{\"style\":\"light\"},\"paper_bgcolor\":\"white\",\"plot_bgcolor\":\"#E5ECF6\",\"polar\":{\"angularaxis\":{\"gridcolor\":\"white\",\"linecolor\":\"white\",\"ticks\":\"\"},\"bgcolor\":\"#E5ECF6\",\"radialaxis\":{\"gridcolor\":\"white\",\"linecolor\":\"white\",\"ticks\":\"\"}},\"scene\":{\"xaxis\":{\"backgroundcolor\":\"#E5ECF6\",\"gridcolor\":\"white\",\"gridwidth\":2,\"linecolor\":\"white\",\"showbackground\":true,\"ticks\":\"\",\"zerolinecolor\":\"white\"},\"yaxis\":{\"backgroundcolor\":\"#E5ECF6\",\"gridcolor\":\"white\",\"gridwidth\":2,\"linecolor\":\"white\",\"showbackground\":true,\"ticks\":\"\",\"zerolinecolor\":\"white\"},\"zaxis\":{\"backgroundcolor\":\"#E5ECF6\",\"gridcolor\":\"white\",\"gridwidth\":2,\"linecolor\":\"white\",\"showbackground\":true,\"ticks\":\"\",\"zerolinecolor\":\"white\"}},\"shapedefaults\":{\"line\":{\"color\":\"#2a3f5f\"}},\"ternary\":{\"aaxis\":{\"gridcolor\":\"white\",\"linecolor\":\"white\",\"ticks\":\"\"},\"baxis\":{\"gridcolor\":\"white\",\"linecolor\":\"white\",\"ticks\":\"\"},\"bgcolor\":\"#E5ECF6\",\"caxis\":{\"gridcolor\":\"white\",\"linecolor\":\"white\",\"ticks\":\"\"}},\"title\":{\"x\":0.05},\"xaxis\":{\"automargin\":true,\"gridcolor\":\"white\",\"linecolor\":\"white\",\"ticks\":\"\",\"title\":{\"standoff\":15},\"zerolinecolor\":\"white\",\"zerolinewidth\":2},\"yaxis\":{\"automargin\":true,\"gridcolor\":\"white\",\"linecolor\":\"white\",\"ticks\":\"\",\"title\":{\"standoff\":15},\"zerolinecolor\":\"white\",\"zerolinewidth\":2}}}},                        {\"responsive\": true}                    ).then(function(){\n",
       "                            \n",
       "var gd = document.getElementById('ead6e79f-4d53-4527-9b32-64488ce8fc39');\n",
       "var x = new MutationObserver(function (mutations, observer) {{\n",
       "        var display = window.getComputedStyle(gd).display;\n",
       "        if (!display || display === 'none') {{\n",
       "            console.log([gd, 'removed!']);\n",
       "            Plotly.purge(gd);\n",
       "            observer.disconnect();\n",
       "        }}\n",
       "}});\n",
       "\n",
       "// Listen for the removal of the full notebook cells\n",
       "var notebookContainer = gd.closest('#notebook-container');\n",
       "if (notebookContainer) {{\n",
       "    x.observe(notebookContainer, {childList: true});\n",
       "}}\n",
       "\n",
       "// Listen for the clearing of the current output cell\n",
       "var outputEl = gd.closest('.output');\n",
       "if (outputEl) {{\n",
       "    x.observe(outputEl, {childList: true});\n",
       "}}\n",
       "\n",
       "                        })                };                });            </script>        </div>"
      ]
     },
     "metadata": {},
     "output_type": "display_data"
    }
   ],
   "source": [
    "# membuat visualisasi 3D untuk setiap klaster\n",
    "\n",
    "# klaster 1\n",
    "Cluster0= go.Scatter3d(\n",
    "        x=df_pca_3[df_pca_3['cluster']==0]['PC1'],\n",
    "        y=df_pca_3[df_pca_3['cluster']==0]['PC2'],\n",
    "        z=df_pca_3[df_pca_3['cluster']==0]['PC3'],\n",
    "        mode=\"markers\",\n",
    "        marker=dict(\n",
    "                    size=10,\n",
    "                    color=\"rgb(255,0,0)\",\n",
    "        ),\n",
    "        name=\"Cluster 0\"\n",
    ")\n",
    "\n",
    "#klaster 2\n",
    "Cluster1= go.Scatter3d(\n",
    "        x=df_pca_3[df_pca_3['cluster']==1]['PC1'],\n",
    "        y=df_pca_3[df_pca_3['cluster']==1]['PC2'],\n",
    "        z=df_pca_3[df_pca_3['cluster']==1]['PC3'],\n",
    "        mode=\"markers\",\n",
    "        marker=dict(\n",
    "                    size=10,\n",
    "                    color=\"rgb(0,255,0)\",\n",
    "        ),\n",
    "        name=\"Cluster 1\"\n",
    ")\n",
    "\n",
    "# klaster 3\n",
    "Cluster2= go.Scatter3d(\n",
    "        x=df_pca_3[df_pca_3['cluster']==2]['PC1'],\n",
    "        y=df_pca_3[df_pca_3['cluster']==2]['PC2'],\n",
    "        z=df_pca_3[df_pca_3['cluster']==2]['PC3'],\n",
    "        mode=\"markers\",\n",
    "        marker=dict(\n",
    "                    size=10,\n",
    "                    color=\"rgb(0,0,255)\",\n",
    "        ),\n",
    "        name=\"Cluster 2\"\n",
    ")\n",
    "\n",
    "\n",
    "data_plot_km=[Cluster0,Cluster1,Cluster2]\n",
    "\n",
    "# membuat plot\n",
    "layout = go.Layout(\n",
    "    margin=dict(l=0, r=0, b=0, t=0))\n",
    "\n",
    "fig=go.Figure(data = data_plot_km, layout = layout)\n",
    "iplot(fig)"
   ]
  },
  {
   "cell_type": "code",
   "execution_count": 366,
   "metadata": {},
   "outputs": [
    {
     "data": {
      "text/html": [
       "<div>\n",
       "<style scoped>\n",
       "    .dataframe tbody tr th:only-of-type {\n",
       "        vertical-align: middle;\n",
       "    }\n",
       "\n",
       "    .dataframe tbody tr th {\n",
       "        vertical-align: top;\n",
       "    }\n",
       "\n",
       "    .dataframe thead th {\n",
       "        text-align: right;\n",
       "    }\n",
       "</style>\n",
       "<table border=\"1\" class=\"dataframe\">\n",
       "  <thead>\n",
       "    <tr style=\"text-align: right;\">\n",
       "      <th></th>\n",
       "      <th>ROA</th>\n",
       "      <th>Market Cap</th>\n",
       "      <th>Mean Return</th>\n",
       "      <th>Variance Return</th>\n",
       "      <th>cluster</th>\n",
       "    </tr>\n",
       "    <tr>\n",
       "      <th>Ticker</th>\n",
       "      <th></th>\n",
       "      <th></th>\n",
       "      <th></th>\n",
       "      <th></th>\n",
       "      <th></th>\n",
       "    </tr>\n",
       "  </thead>\n",
       "  <tbody>\n",
       "    <tr>\n",
       "      <th>ACES.JK</th>\n",
       "      <td>0.252813</td>\n",
       "      <td>-0.503589</td>\n",
       "      <td>0.412495</td>\n",
       "      <td>-0.015084</td>\n",
       "      <td>0</td>\n",
       "    </tr>\n",
       "    <tr>\n",
       "      <th>ADMR.JK</th>\n",
       "      <td>0.860011</td>\n",
       "      <td>-0.325757</td>\n",
       "      <td>0.133485</td>\n",
       "      <td>0.311211</td>\n",
       "      <td>0</td>\n",
       "    </tr>\n",
       "    <tr>\n",
       "      <th>ADRO.JK</th>\n",
       "      <td>0.471649</td>\n",
       "      <td>-0.248688</td>\n",
       "      <td>2.254371</td>\n",
       "      <td>0.823429</td>\n",
       "      <td>0</td>\n",
       "    </tr>\n",
       "    <tr>\n",
       "      <th>AKRA.JK</th>\n",
       "      <td>0.228107</td>\n",
       "      <td>-0.448638</td>\n",
       "      <td>-0.074903</td>\n",
       "      <td>-0.567337</td>\n",
       "      <td>0</td>\n",
       "    </tr>\n",
       "    <tr>\n",
       "      <th>AMMN.JK</th>\n",
       "      <td>-0.012974</td>\n",
       "      <td>2.448907</td>\n",
       "      <td>1.647973</td>\n",
       "      <td>0.691505</td>\n",
       "      <td>2</td>\n",
       "    </tr>\n",
       "    <tr>\n",
       "      <th>AMRT.JK</th>\n",
       "      <td>0.256240</td>\n",
       "      <td>-0.000140</td>\n",
       "      <td>0.214998</td>\n",
       "      <td>-0.718876</td>\n",
       "      <td>0</td>\n",
       "    </tr>\n",
       "    <tr>\n",
       "      <th>ANTM.JK</th>\n",
       "      <td>0.152693</td>\n",
       "      <td>-0.406057</td>\n",
       "      <td>-0.210453</td>\n",
       "      <td>-0.078249</td>\n",
       "      <td>0</td>\n",
       "    </tr>\n",
       "    <tr>\n",
       "      <th>ARTO.JK</th>\n",
       "      <td>-0.104323</td>\n",
       "      <td>-0.399909</td>\n",
       "      <td>-0.199115</td>\n",
       "      <td>1.716608</td>\n",
       "      <td>0</td>\n",
       "    </tr>\n",
       "    <tr>\n",
       "      <th>ASII.JK</th>\n",
       "      <td>0.168114</td>\n",
       "      <td>0.347773</td>\n",
       "      <td>-0.112428</td>\n",
       "      <td>-0.815975</td>\n",
       "      <td>0</td>\n",
       "    </tr>\n",
       "    <tr>\n",
       "      <th>BBCA.JK</th>\n",
       "      <td>0.012663</td>\n",
       "      <td>4.909000</td>\n",
       "      <td>0.529713</td>\n",
       "      <td>-1.005131</td>\n",
       "      <td>2</td>\n",
       "    </tr>\n",
       "    <tr>\n",
       "      <th>BBNI.JK</th>\n",
       "      <td>-0.044809</td>\n",
       "      <td>0.236767</td>\n",
       "      <td>-0.137102</td>\n",
       "      <td>-0.581011</td>\n",
       "      <td>0</td>\n",
       "    </tr>\n",
       "    <tr>\n",
       "      <th>BBRI.JK</th>\n",
       "      <td>-0.002201</td>\n",
       "      <td>2.291687</td>\n",
       "      <td>-0.744761</td>\n",
       "      <td>-0.619872</td>\n",
       "      <td>2</td>\n",
       "    </tr>\n",
       "    <tr>\n",
       "      <th>BBTN.JK</th>\n",
       "      <td>-0.087114</td>\n",
       "      <td>-0.487165</td>\n",
       "      <td>-0.024803</td>\n",
       "      <td>-0.207876</td>\n",
       "      <td>0</td>\n",
       "    </tr>\n",
       "    <tr>\n",
       "      <th>BMRI.JK</th>\n",
       "      <td>-0.021963</td>\n",
       "      <td>1.966658</td>\n",
       "      <td>0.393606</td>\n",
       "      <td>-0.528916</td>\n",
       "      <td>2</td>\n",
       "    </tr>\n",
       "    <tr>\n",
       "      <th>BRIS.JK</th>\n",
       "      <td>-0.056500</td>\n",
       "      <td>0.041810</td>\n",
       "      <td>2.250532</td>\n",
       "      <td>0.525128</td>\n",
       "      <td>0</td>\n",
       "    </tr>\n",
       "    <tr>\n",
       "      <th>BRPT.JK</th>\n",
       "      <td>-0.107421</td>\n",
       "      <td>-0.167484</td>\n",
       "      <td>-0.580606</td>\n",
       "      <td>3.827639</td>\n",
       "      <td>0</td>\n",
       "    </tr>\n",
       "    <tr>\n",
       "      <th>BUKA.JK</th>\n",
       "      <td>-0.313399</td>\n",
       "      <td>-0.505786</td>\n",
       "      <td>-1.719132</td>\n",
       "      <td>1.334411</td>\n",
       "      <td>0</td>\n",
       "    </tr>\n",
       "    <tr>\n",
       "      <th>CPIN.JK</th>\n",
       "      <td>0.095484</td>\n",
       "      <td>-0.198706</td>\n",
       "      <td>-0.052306</td>\n",
       "      <td>-0.690202</td>\n",
       "      <td>0</td>\n",
       "    </tr>\n",
       "    <tr>\n",
       "      <th>ESSA.JK</th>\n",
       "      <td>0.069876</td>\n",
       "      <td>-0.500951</td>\n",
       "      <td>1.479640</td>\n",
       "      <td>0.929615</td>\n",
       "      <td>0</td>\n",
       "    </tr>\n",
       "    <tr>\n",
       "      <th>EXCL.JK</th>\n",
       "      <td>-0.062636</td>\n",
       "      <td>-0.429226</td>\n",
       "      <td>0.344366</td>\n",
       "      <td>-0.406476</td>\n",
       "      <td>0</td>\n",
       "    </tr>\n",
       "    <tr>\n",
       "      <th>GOTO.JK</th>\n",
       "      <td>-6.393726</td>\n",
       "      <td>-0.157664</td>\n",
       "      <td>-0.233638</td>\n",
       "      <td>2.549982</td>\n",
       "      <td>1</td>\n",
       "    </tr>\n",
       "    <tr>\n",
       "      <th>ICBP.JK</th>\n",
       "      <td>0.103078</td>\n",
       "      <td>0.043197</td>\n",
       "      <td>0.404064</td>\n",
       "      <td>-0.738917</td>\n",
       "      <td>0</td>\n",
       "    </tr>\n",
       "    <tr>\n",
       "      <th>INCO.JK</th>\n",
       "      <td>0.235090</td>\n",
       "      <td>-0.392669</td>\n",
       "      <td>-0.702233</td>\n",
       "      <td>0.182717</td>\n",
       "      <td>0</td>\n",
       "    </tr>\n",
       "    <tr>\n",
       "      <th>INDF.JK</th>\n",
       "      <td>0.046923</td>\n",
       "      <td>-0.257087</td>\n",
       "      <td>0.797786</td>\n",
       "      <td>-1.105718</td>\n",
       "      <td>0</td>\n",
       "    </tr>\n",
       "    <tr>\n",
       "      <th>INKP.JK</th>\n",
       "      <td>0.035559</td>\n",
       "      <td>-0.390559</td>\n",
       "      <td>-0.637227</td>\n",
       "      <td>-0.369551</td>\n",
       "      <td>0</td>\n",
       "    </tr>\n",
       "    <tr>\n",
       "      <th>INTP.JK</th>\n",
       "      <td>0.129989</td>\n",
       "      <td>-0.459015</td>\n",
       "      <td>-1.230782</td>\n",
       "      <td>-0.663299</td>\n",
       "      <td>0</td>\n",
       "    </tr>\n",
       "    <tr>\n",
       "      <th>ISAT.JK</th>\n",
       "      <td>0.030463</td>\n",
       "      <td>-0.203674</td>\n",
       "      <td>0.480151</td>\n",
       "      <td>0.069233</td>\n",
       "      <td>0</td>\n",
       "    </tr>\n",
       "    <tr>\n",
       "      <th>ITMG.JK</th>\n",
       "      <td>0.741918</td>\n",
       "      <td>-0.423917</td>\n",
       "      <td>0.898896</td>\n",
       "      <td>-1.081344</td>\n",
       "      <td>0</td>\n",
       "    </tr>\n",
       "    <tr>\n",
       "      <th>JSMR.JK</th>\n",
       "      <td>0.080253</td>\n",
       "      <td>-0.416517</td>\n",
       "      <td>-0.342338</td>\n",
       "      <td>-0.609886</td>\n",
       "      <td>0</td>\n",
       "    </tr>\n",
       "    <tr>\n",
       "      <th>KLBF.JK</th>\n",
       "      <td>0.267006</td>\n",
       "      <td>-0.262842</td>\n",
       "      <td>-0.571776</td>\n",
       "      <td>-0.873931</td>\n",
       "      <td>0</td>\n",
       "    </tr>\n",
       "    <tr>\n",
       "      <th>MAPI.JK</th>\n",
       "      <td>0.141397</td>\n",
       "      <td>-0.458569</td>\n",
       "      <td>-0.391237</td>\n",
       "      <td>0.693118</td>\n",
       "      <td>0</td>\n",
       "    </tr>\n",
       "    <tr>\n",
       "      <th>MBMA.JK</th>\n",
       "      <td>-0.109110</td>\n",
       "      <td>-0.319054</td>\n",
       "      <td>-0.249573</td>\n",
       "      <td>1.906709</td>\n",
       "      <td>0</td>\n",
       "    </tr>\n",
       "    <tr>\n",
       "      <th>MDKA.JK</th>\n",
       "      <td>-0.132717</td>\n",
       "      <td>-0.356837</td>\n",
       "      <td>-0.912239</td>\n",
       "      <td>0.602454</td>\n",
       "      <td>0</td>\n",
       "    </tr>\n",
       "    <tr>\n",
       "      <th>MEDC.JK</th>\n",
       "      <td>0.074482</td>\n",
       "      <td>-0.442411</td>\n",
       "      <td>0.408871</td>\n",
       "      <td>0.256148</td>\n",
       "      <td>0</td>\n",
       "    </tr>\n",
       "    <tr>\n",
       "      <th>MTEL.JK</th>\n",
       "      <td>0.015369</td>\n",
       "      <td>-0.318750</td>\n",
       "      <td>-0.382583</td>\n",
       "      <td>-0.658531</td>\n",
       "      <td>0</td>\n",
       "    </tr>\n",
       "    <tr>\n",
       "      <th>PGAS.JK</th>\n",
       "      <td>0.041202</td>\n",
       "      <td>-0.392414</td>\n",
       "      <td>1.673955</td>\n",
       "      <td>-0.604127</td>\n",
       "      <td>0</td>\n",
       "    </tr>\n",
       "    <tr>\n",
       "      <th>PGEO.JK</th>\n",
       "      <td>0.090225</td>\n",
       "      <td>-0.383395</td>\n",
       "      <td>-0.244806</td>\n",
       "      <td>0.104924</td>\n",
       "      <td>0</td>\n",
       "    </tr>\n",
       "    <tr>\n",
       "      <th>PTBA.JK</th>\n",
       "      <td>0.474556</td>\n",
       "      <td>-0.424535</td>\n",
       "      <td>0.960552</td>\n",
       "      <td>-0.744542</td>\n",
       "      <td>0</td>\n",
       "    </tr>\n",
       "    <tr>\n",
       "      <th>SIDO.JK</th>\n",
       "      <td>0.800710</td>\n",
       "      <td>-0.485674</td>\n",
       "      <td>0.204604</td>\n",
       "      <td>-0.642418</td>\n",
       "      <td>0</td>\n",
       "    </tr>\n",
       "    <tr>\n",
       "      <th>SMGR.JK</th>\n",
       "      <td>-0.017442</td>\n",
       "      <td>-0.464113</td>\n",
       "      <td>-2.516183</td>\n",
       "      <td>-0.237502</td>\n",
       "      <td>0</td>\n",
       "    </tr>\n",
       "    <tr>\n",
       "      <th>SMRA.JK</th>\n",
       "      <td>-0.024776</td>\n",
       "      <td>-0.521662</td>\n",
       "      <td>-0.031193</td>\n",
       "      <td>-0.103250</td>\n",
       "      <td>0</td>\n",
       "    </tr>\n",
       "    <tr>\n",
       "      <th>TLKM.JK</th>\n",
       "      <td>0.203069</td>\n",
       "      <td>0.638286</td>\n",
       "      <td>-1.196674</td>\n",
       "      <td>-0.648822</td>\n",
       "      <td>0</td>\n",
       "    </tr>\n",
       "    <tr>\n",
       "      <th>TOWR.JK</th>\n",
       "      <td>0.061511</td>\n",
       "      <td>-0.406275</td>\n",
       "      <td>-1.067815</td>\n",
       "      <td>-0.513336</td>\n",
       "      <td>0</td>\n",
       "    </tr>\n",
       "    <tr>\n",
       "      <th>UNTR.JK</th>\n",
       "      <td>0.385569</td>\n",
       "      <td>-0.116935</td>\n",
       "      <td>1.258072</td>\n",
       "      <td>-0.855514</td>\n",
       "      <td>0</td>\n",
       "    </tr>\n",
       "    <tr>\n",
       "      <th>UNVR.JK</th>\n",
       "      <td>0.965094</td>\n",
       "      <td>-0.247420</td>\n",
       "      <td>-2.182228</td>\n",
       "      <td>0.160862</td>\n",
       "      <td>0</td>\n",
       "    </tr>\n",
       "  </tbody>\n",
       "</table>\n",
       "</div>"
      ],
      "text/plain": [
       "              ROA  Market Cap  Mean Return  Variance Return  cluster\n",
       "Ticker                                                              \n",
       "ACES.JK  0.252813   -0.503589     0.412495        -0.015084        0\n",
       "ADMR.JK  0.860011   -0.325757     0.133485         0.311211        0\n",
       "ADRO.JK  0.471649   -0.248688     2.254371         0.823429        0\n",
       "AKRA.JK  0.228107   -0.448638    -0.074903        -0.567337        0\n",
       "AMMN.JK -0.012974    2.448907     1.647973         0.691505        2\n",
       "AMRT.JK  0.256240   -0.000140     0.214998        -0.718876        0\n",
       "ANTM.JK  0.152693   -0.406057    -0.210453        -0.078249        0\n",
       "ARTO.JK -0.104323   -0.399909    -0.199115         1.716608        0\n",
       "ASII.JK  0.168114    0.347773    -0.112428        -0.815975        0\n",
       "BBCA.JK  0.012663    4.909000     0.529713        -1.005131        2\n",
       "BBNI.JK -0.044809    0.236767    -0.137102        -0.581011        0\n",
       "BBRI.JK -0.002201    2.291687    -0.744761        -0.619872        2\n",
       "BBTN.JK -0.087114   -0.487165    -0.024803        -0.207876        0\n",
       "BMRI.JK -0.021963    1.966658     0.393606        -0.528916        2\n",
       "BRIS.JK -0.056500    0.041810     2.250532         0.525128        0\n",
       "BRPT.JK -0.107421   -0.167484    -0.580606         3.827639        0\n",
       "BUKA.JK -0.313399   -0.505786    -1.719132         1.334411        0\n",
       "CPIN.JK  0.095484   -0.198706    -0.052306        -0.690202        0\n",
       "ESSA.JK  0.069876   -0.500951     1.479640         0.929615        0\n",
       "EXCL.JK -0.062636   -0.429226     0.344366        -0.406476        0\n",
       "GOTO.JK -6.393726   -0.157664    -0.233638         2.549982        1\n",
       "ICBP.JK  0.103078    0.043197     0.404064        -0.738917        0\n",
       "INCO.JK  0.235090   -0.392669    -0.702233         0.182717        0\n",
       "INDF.JK  0.046923   -0.257087     0.797786        -1.105718        0\n",
       "INKP.JK  0.035559   -0.390559    -0.637227        -0.369551        0\n",
       "INTP.JK  0.129989   -0.459015    -1.230782        -0.663299        0\n",
       "ISAT.JK  0.030463   -0.203674     0.480151         0.069233        0\n",
       "ITMG.JK  0.741918   -0.423917     0.898896        -1.081344        0\n",
       "JSMR.JK  0.080253   -0.416517    -0.342338        -0.609886        0\n",
       "KLBF.JK  0.267006   -0.262842    -0.571776        -0.873931        0\n",
       "MAPI.JK  0.141397   -0.458569    -0.391237         0.693118        0\n",
       "MBMA.JK -0.109110   -0.319054    -0.249573         1.906709        0\n",
       "MDKA.JK -0.132717   -0.356837    -0.912239         0.602454        0\n",
       "MEDC.JK  0.074482   -0.442411     0.408871         0.256148        0\n",
       "MTEL.JK  0.015369   -0.318750    -0.382583        -0.658531        0\n",
       "PGAS.JK  0.041202   -0.392414     1.673955        -0.604127        0\n",
       "PGEO.JK  0.090225   -0.383395    -0.244806         0.104924        0\n",
       "PTBA.JK  0.474556   -0.424535     0.960552        -0.744542        0\n",
       "SIDO.JK  0.800710   -0.485674     0.204604        -0.642418        0\n",
       "SMGR.JK -0.017442   -0.464113    -2.516183        -0.237502        0\n",
       "SMRA.JK -0.024776   -0.521662    -0.031193        -0.103250        0\n",
       "TLKM.JK  0.203069    0.638286    -1.196674        -0.648822        0\n",
       "TOWR.JK  0.061511   -0.406275    -1.067815        -0.513336        0\n",
       "UNTR.JK  0.385569   -0.116935     1.258072        -0.855514        0\n",
       "UNVR.JK  0.965094   -0.247420    -2.182228         0.160862        0"
      ]
     },
     "execution_count": 366,
     "metadata": {},
     "output_type": "execute_result"
    }
   ],
   "source": [
    "df_agl"
   ]
  },
  {
   "cell_type": "markdown",
   "metadata": {},
   "source": [
    "# DBSCAN"
   ]
  },
  {
   "cell_type": "code",
   "execution_count": null,
   "metadata": {},
   "outputs": [
    {
     "name": "stdout",
     "output_type": "stream",
     "text": [
      "Clusters present: [-1  0  1]\n",
      "Silhouette Score: 0.07130813962183512\n",
      "Calinski-Harabasz Index: 2.863437960746475\n",
      "Davies-Bouldin Index: 2.207181012714297\n",
      "cluster\n",
      "-1    21\n",
      " 0    20\n",
      " 1     4\n",
      "Name: count, dtype: int64\n"
     ]
    },
    {
     "data": {
      "text/html": [
       "<div>\n",
       "<style scoped>\n",
       "    .dataframe tbody tr th:only-of-type {\n",
       "        vertical-align: middle;\n",
       "    }\n",
       "\n",
       "    .dataframe tbody tr th {\n",
       "        vertical-align: top;\n",
       "    }\n",
       "\n",
       "    .dataframe thead th {\n",
       "        text-align: right;\n",
       "    }\n",
       "</style>\n",
       "<table border=\"1\" class=\"dataframe\">\n",
       "  <thead>\n",
       "    <tr style=\"text-align: right;\">\n",
       "      <th></th>\n",
       "      <th>ROE</th>\n",
       "      <th>Market Cap</th>\n",
       "      <th>Mean Return</th>\n",
       "      <th>Variance Return</th>\n",
       "      <th>cluster</th>\n",
       "    </tr>\n",
       "    <tr>\n",
       "      <th>Ticker</th>\n",
       "      <th></th>\n",
       "      <th></th>\n",
       "      <th></th>\n",
       "      <th></th>\n",
       "      <th></th>\n",
       "    </tr>\n",
       "  </thead>\n",
       "  <tbody>\n",
       "    <tr>\n",
       "      <th>ACES.JK</th>\n",
       "      <td>0.019841</td>\n",
       "      <td>-0.503589</td>\n",
       "      <td>0.412495</td>\n",
       "      <td>-0.015084</td>\n",
       "      <td>0</td>\n",
       "    </tr>\n",
       "    <tr>\n",
       "      <th>ADMR.JK</th>\n",
       "      <td>0.778213</td>\n",
       "      <td>-0.325757</td>\n",
       "      <td>0.133485</td>\n",
       "      <td>0.311211</td>\n",
       "      <td>-1</td>\n",
       "    </tr>\n",
       "    <tr>\n",
       "      <th>ADRO.JK</th>\n",
       "      <td>0.293330</td>\n",
       "      <td>-0.248688</td>\n",
       "      <td>2.254371</td>\n",
       "      <td>0.823429</td>\n",
       "      <td>-1</td>\n",
       "    </tr>\n",
       "    <tr>\n",
       "      <th>AKRA.JK</th>\n",
       "      <td>0.303760</td>\n",
       "      <td>-0.448638</td>\n",
       "      <td>-0.074903</td>\n",
       "      <td>-0.567337</td>\n",
       "      <td>0</td>\n",
       "    </tr>\n",
       "    <tr>\n",
       "      <th>AMMN.JK</th>\n",
       "      <td>-0.139658</td>\n",
       "      <td>2.448907</td>\n",
       "      <td>1.647973</td>\n",
       "      <td>0.691505</td>\n",
       "      <td>-1</td>\n",
       "    </tr>\n",
       "  </tbody>\n",
       "</table>\n",
       "</div>"
      ],
      "text/plain": [
       "              ROE  Market Cap  Mean Return  Variance Return  cluster\n",
       "Ticker                                                              \n",
       "ACES.JK  0.019841   -0.503589     0.412495        -0.015084        0\n",
       "ADMR.JK  0.778213   -0.325757     0.133485         0.311211       -1\n",
       "ADRO.JK  0.293330   -0.248688     2.254371         0.823429       -1\n",
       "AKRA.JK  0.303760   -0.448638    -0.074903        -0.567337        0\n",
       "AMMN.JK -0.139658    2.448907     1.647973         0.691505       -1"
      ]
     },
     "execution_count": 381,
     "metadata": {},
     "output_type": "execute_result"
    }
   ],
   "source": [
    "# Opsional: Tuning parameter eps dan min_samples\n",
    "df_som = df_final.copy()\n",
    "\n",
    "# GMM\n",
    "dbs = DBSCAN(min_samples = 3)\n",
    "dbs.fit(df_som)\n",
    "labelsom = dbs.labels_\n",
    "\n",
    "unique_labels = np.unique(labelsom)\n",
    "n_clusters_formed = len(unique_labels)\n",
    "print(f'Clusters present: {unique_labels}')\n",
    "# print(f'Clusters sizes: {np.bincount(labelg)}', '\\n')\n",
    "print(f'Silhouette Score: {silhouette_score(df_som, labelsom)}')\n",
    "print(f'Calinski-Harabasz Index: {calinski_harabasz_score(df_som, labelsom)}')\n",
    "print(f'Davies-Bouldin Index: {davies_bouldin_score(df_som, labelsom)}')\n",
    "\n",
    "df_som['cluster'] = labelsom\n",
    "data['Cluster'] = labelsom\n",
    "\n",
    "print(df_som.cluster.value_counts())\n",
    "df_som.head()"
   ]
  },
  {
   "cell_type": "code",
   "execution_count": 382,
   "metadata": {},
   "outputs": [
    {
     "name": "stdout",
     "output_type": "stream",
     "text": [
      "              ROA       ROE       Market Cap  Mean Return  Variance Return  \\\n",
      "Ticker                                                                       \n",
      "PGAS.JK  0.042140  0.103040   38422777430016     0.002017         0.000332   \n",
      "ICBP.JK  0.058613  0.171547  137318870548480     0.000646         0.000286   \n",
      "UNTR.JK  0.133818  0.260084  100964321198080     0.001568         0.000246   \n",
      "\n",
      "         Cluster  sharpe_ratio  \n",
      "Ticker                          \n",
      "PGAS.JK       -1      0.097624  \n",
      "ICBP.JK        0      0.024142  \n",
      "UNTR.JK        1      0.084842  \n"
     ]
    }
   ],
   "source": [
    "# Risk-free rate (contoh: 6% per tahun, diubah ke harian)\n",
    "risk_free_rate = 0.06 / 252\n",
    "\n",
    "# Hitung Sharpe Ratio\n",
    "data['sharpe_ratio'] = (data['Mean Return'] - risk_free_rate) / np.sqrt(data['Variance Return'])\n",
    "\n",
    "# Ambil saham terbaik dari setiap cluster\n",
    "best_stocks = data.loc[data.groupby('Cluster')['sharpe_ratio'].idxmax()]\n",
    "\n",
    "print(best_stocks)"
   ]
  },
  {
   "cell_type": "code",
   "execution_count": null,
   "metadata": {},
   "outputs": [
    {
     "name": "stdout",
     "output_type": "stream",
     "text": [
      "65.08414737534632 %\n"
     ]
    },
    {
     "data": {
      "text/plain": [
       "<Axes: xlabel='PC_1', ylabel='PC_2'>"
      ]
     },
     "execution_count": 369,
     "metadata": {},
     "output_type": "execute_result"
    },
    {
     "data": {
      "image/png": "[encoded data removed]",
      "text/plain": [
       "<Figure size 1000x800 with 1 Axes>"
      ]
     },
     "metadata": {},
     "output_type": "display_data"
    }
   ],
   "source": [
    "# Gunakan Dimensionality Reduction dengan PCA untuk mempermudah melakukan visualisasi\n",
    "\n",
    "pca = PCA(n_components = 2)\n",
    "df_pca2 = pd.DataFrame(pca.fit_transform(df_som.iloc[:,:-1]),\n",
    "                      columns = ['PC_1', 'PC_2'],\n",
    "                      index = df_som.index)\n",
    "\n",
    "df_pca2 = pd.concat([df_pca2, df_som.cluster], axis = 1)\n",
    "# df_pca1.head()\n",
    "\n",
    "print(np.sum(pca.explained_variance_ratio_)*100, \"%\") # 2 Dimensi dapat menjelaskan keseluruhan fitur\n",
    "fig = plt.figure(figsize=(10, 8))\n",
    "ax = fig.add_subplot()\n",
    "sns.scatterplot(data = df_pca2, x = 'PC_1', y = 'PC_2', hue = 'cluster', s = 300, ax = ax)"
   ]
  },
  {
   "cell_type": "markdown",
   "metadata": {},
   "source": [
    "**3D**"
   ]
  },
  {
   "cell_type": "code",
   "execution_count": 370,
   "metadata": {},
   "outputs": [],
   "source": [
    "# Gunakan Dimensionality Reduction dengan PCA untuk mempermudah melakukan visualisasi\n",
    "\n",
    "pca = PCA(n_components = 3)\n",
    "df_pca_3 = pd.DataFrame(pca.fit_transform(df_spec.iloc[:,:-1]),\n",
    "                      columns = ['PC1', 'PC2', 'PC3'],\n",
    "                      index = df_spec.index)\n",
    "\n",
    "df_pca_3 = pd.concat([df_pca_3, df_spec.cluster], axis = 1)\n",
    "# df_pca1.head()"
   ]
  },
  {
   "cell_type": "code",
   "execution_count": 371,
   "metadata": {},
   "outputs": [
    {
     "data": {
      "text/html": [
       "<div>\n",
       "<style scoped>\n",
       "    .dataframe tbody tr th:only-of-type {\n",
       "        vertical-align: middle;\n",
       "    }\n",
       "\n",
       "    .dataframe tbody tr th {\n",
       "        vertical-align: top;\n",
       "    }\n",
       "\n",
       "    .dataframe thead th {\n",
       "        text-align: right;\n",
       "    }\n",
       "</style>\n",
       "<table border=\"1\" class=\"dataframe\">\n",
       "  <thead>\n",
       "    <tr style=\"text-align: right;\">\n",
       "      <th></th>\n",
       "      <th>PC1</th>\n",
       "      <th>PC2</th>\n",
       "      <th>PC3</th>\n",
       "      <th>cluster</th>\n",
       "    </tr>\n",
       "    <tr>\n",
       "      <th>Ticker</th>\n",
       "      <th></th>\n",
       "      <th></th>\n",
       "      <th></th>\n",
       "      <th></th>\n",
       "    </tr>\n",
       "  </thead>\n",
       "  <tbody>\n",
       "    <tr>\n",
       "      <th>ACES.JK</th>\n",
       "      <td>-0.132589</td>\n",
       "      <td>-0.180676</td>\n",
       "      <td>-0.661453</td>\n",
       "      <td>1</td>\n",
       "    </tr>\n",
       "    <tr>\n",
       "      <th>ADMR.JK</th>\n",
       "      <td>-0.271514</td>\n",
       "      <td>-0.415203</td>\n",
       "      <td>-0.497805</td>\n",
       "      <td>0</td>\n",
       "    </tr>\n",
       "    <tr>\n",
       "      <th>ADRO.JK</th>\n",
       "      <td>-0.216669</td>\n",
       "      <td>1.171590</td>\n",
       "      <td>-2.045702</td>\n",
       "      <td>1</td>\n",
       "    </tr>\n",
       "    <tr>\n",
       "      <th>AKRA.JK</th>\n",
       "      <td>-0.391026</td>\n",
       "      <td>-0.516436</td>\n",
       "      <td>-0.168712</td>\n",
       "      <td>2</td>\n",
       "    </tr>\n",
       "    <tr>\n",
       "      <th>AMMN.JK</th>\n",
       "      <td>-0.591894</td>\n",
       "      <td>2.775036</td>\n",
       "      <td>0.198475</td>\n",
       "      <td>1</td>\n",
       "    </tr>\n",
       "  </tbody>\n",
       "</table>\n",
       "</div>"
      ],
      "text/plain": [
       "              PC1       PC2       PC3  cluster\n",
       "Ticker                                        \n",
       "ACES.JK -0.132589 -0.180676 -0.661453        1\n",
       "ADMR.JK -0.271514 -0.415203 -0.497805        0\n",
       "ADRO.JK -0.216669  1.171590 -2.045702        1\n",
       "AKRA.JK -0.391026 -0.516436 -0.168712        2\n",
       "AMMN.JK -0.591894  2.775036  0.198475        1"
      ]
     },
     "execution_count": 371,
     "metadata": {},
     "output_type": "execute_result"
    }
   ],
   "source": [
    "df_pca_3.head()"
   ]
  },
  {
   "cell_type": "code",
   "execution_count": 372,
   "metadata": {},
   "outputs": [
    {
     "data": {
      "application/vnd.plotly.v1+json": {
       "config": {
        "linkText": "Export to plot.ly",
        "plotlyServerURL": "https://plot.ly",
        "showLink": false
       },
       "data": [
        {
         "marker": {
          "color": "rgb(255,0,0)",
          "size": 10
         },
         "mode": "markers",
         "name": "Cluster 0",
         "type": "scatter3d",
         "x": [
          -0.27151370569962613,
          0.012979153523070372,
          1.3996885042181562,
          0.05182562964091612,
          2.8774512451738357,
          1.6706025170335967,
          5.870262350656411,
          0.25663548946536785,
          0.6070951015582875,
          1.523142825995926,
          0.8172018521756569,
          0.14955666435882026,
          0.17996569560990605,
          0.09527249755539131
         ],
         "y": [
          -0.41520348411674723,
          -0.47259927684580255,
          -0.10485468354657976,
          -0.3406348490305404,
          0.12193190132926786,
          -1.09491434570603,
          2.5247294620445246,
          -0.7616379221207461,
          -0.5040828683380852,
          -0.05237611421828289,
          -0.6684802620462741,
          -0.035350743704780654,
          -0.4286061017571163,
          -0.37613517112416045
         ],
         "z": [
          -0.4978052229897982,
          -0.11055781346099047,
          -0.3723662623894917,
          -0.23791653841225727,
          -0.2954303389500229,
          0.7884792433872193,
          0.7075386928154441,
          0.20579919429418608,
          -0.1362112051073605,
          -0.3151557415280618,
          0.3750193926646921,
          -0.636171056510782,
          -0.09108753377343198,
          -0.28260278468314004
         ]
        },
        {
         "marker": {
          "color": "rgb(0,255,0)",
          "size": 10
         },
         "mode": "markers",
         "name": "Cluster 1",
         "type": "scatter3d",
         "x": [
          -0.13258933167139833,
          -0.21666891500981242,
          -0.5918938856768137,
          -0.167228533521787,
          0.36761150618788385,
          -0.2058608297618417,
          -0.6817618009838836,
          -0.9118993109083492,
          -0.033568029919112154,
          -1.3116233187926498,
          -0.7422111889567657,
          -0.927611918269625,
          -0.8610631402201301,
          -1.1046622717559937
         ],
         "y": [
          -0.18067624831579526,
          1.1715896473802676,
          2.77503578022166,
          1.5203756781959827,
          0.68816369313678,
          -0.11077372321537038,
          0.13375970427859415,
          0.1436850580621474,
          0.15905555546325792,
          -0.16401231927975132,
          0.6704256906175279,
          0.023178308053508442,
          -0.5945133866202599,
          0.43209200335139636
         ],
         "z": [
          -0.6614525371345473,
          -2.045701934221174,
          0.1984746478974758,
          -1.7233971483923047,
          -1.5797692066086764,
          -0.4466112130426089,
          -0.16661635064086902,
          -0.5767248159957917,
          -0.5008888149519917,
          -0.875590962245164,
          -1.3950674634967355,
          -0.9337457545471314,
          -0.4817846997019511,
          -0.9285268199841764
         ]
        },
        {
         "marker": {
          "color": "rgb(0,0,255)",
          "size": 10
         },
         "mode": "markers",
         "name": "Cluster 2",
         "type": "scatter3d",
         "x": [
          -0.39102598908244257,
          -0.7062574961774118,
          -0.7323633622152951,
          -2.1696655729959873,
          -0.4010151922797581,
          -0.8680534902344987,
          -0.9830893580086751,
          -0.4656685962140094,
          -0.012597211542830593,
          -0.10916202968931295,
          -0.27044434521957983,
          -0.5547042819495968,
          -0.2798406388907766,
          0.5913955638122179,
          -0.45389334324446473,
          -0.017686973781575643,
          0.10493746570856005
         ],
         "y": [
          -0.5164359715761184,
          -0.06734959356321507,
          -0.016971897664353076,
          3.4827542675756313,
          0.007163105922093962,
          0.9922136536195307,
          1.4996030318201123,
          -0.3020472713521886,
          -0.7247753947159176,
          -1.2168287447930441,
          -0.6110847912158037,
          -0.7583618441201021,
          -0.5528350128734505,
          -1.8998532562883066,
          -0.4824044535880356,
          -1.0328292838609068,
          -1.8591275254745203
         ],
         "z": [
          -0.16871185733148514,
          -0.08210207288139744,
          0.41002289567416006,
          2.8506947865600485,
          0.3547525102491774,
          2.0940074446046566,
          1.0329159519666042,
          0.013717231603436644,
          0.2841419575292474,
          0.7154206006940709,
          0.08162128564427212,
          0.3615454575397911,
          0.19168400784768116,
          1.6200599380207097,
          1.3636504049157967,
          0.613762706138272,
          1.2786877989343994
         ]
        }
       ],
       "layout": {
        "margin": {
         "b": 0,
         "l": 0,
         "r": 0,
         "t": 0
        },
        "template": {
         "data": {
          "bar": [
           {
            "error_x": {
             "color": "#2a3f5f"
            },
            "error_y": {
             "color": "#2a3f5f"
            },
            "marker": {
             "line": {
              "color": "#E5ECF6",
              "width": 0.5
             },
             "pattern": {
              "fillmode": "overlay",
              "size": 10,
              "solidity": 0.2
             }
            },
            "type": "bar"
           }
          ],
          "barpolar": [
           {
            "marker": {
             "line": {
              "color": "#E5ECF6",
              "width": 0.5
             },
             "pattern": {
              "fillmode": "overlay",
              "size": 10,
              "solidity": 0.2
             }
            },
            "type": "barpolar"
           }
          ],
          "carpet": [
           {
            "aaxis": {
             "endlinecolor": "#2a3f5f",
             "gridcolor": "white",
             "linecolor": "white",
             "minorgridcolor": "white",
             "startlinecolor": "#2a3f5f"
            },
            "baxis": {
             "endlinecolor": "#2a3f5f",
             "gridcolor": "white",
             "linecolor": "white",
             "minorgridcolor": "white",
             "startlinecolor": "#2a3f5f"
            },
            "type": "carpet"
           }
          ],
          "choropleth": [
           {
            "colorbar": {
             "outlinewidth": 0,
             "ticks": ""
            },
            "type": "choropleth"
           }
          ],
          "contour": [
           {
            "colorbar": {
             "outlinewidth": 0,
             "ticks": ""
            },
            "colorscale": [
             [
              0,
              "#0d0887"
             ],
             [
              0.1111111111111111,
              "#46039f"
             ],
             [
              0.2222222222222222,
              "#7201a8"
             ],
             [
              0.3333333333333333,
              "#9c179e"
             ],
             [
              0.4444444444444444,
              "#bd3786"
             ],
             [
              0.5555555555555556,
              "#d8576b"
             ],
             [
              0.6666666666666666,
              "#ed7953"
             ],
             [
              0.7777777777777778,
              "#fb9f3a"
             ],
             [
              0.8888888888888888,
              "#fdca26"
             ],
             [
              1,
              "#f0f921"
             ]
            ],
            "type": "contour"
           }
          ],
          "contourcarpet": [
           {
            "colorbar": {
             "outlinewidth": 0,
             "ticks": ""
            },
            "type": "contourcarpet"
           }
          ],
          "heatmap": [
           {
            "colorbar": {
             "outlinewidth": 0,
             "ticks": ""
            },
            "colorscale": [
             [
              0,
              "#0d0887"
             ],
             [
              0.1111111111111111,
              "#46039f"
             ],
             [
              0.2222222222222222,
              "#7201a8"
             ],
             [
              0.3333333333333333,
              "#9c179e"
             ],
             [
              0.4444444444444444,
              "#bd3786"
             ],
             [
              0.5555555555555556,
              "#d8576b"
             ],
             [
              0.6666666666666666,
              "#ed7953"
             ],
             [
              0.7777777777777778,
              "#fb9f3a"
             ],
             [
              0.8888888888888888,
              "#fdca26"
             ],
             [
              1,
              "#f0f921"
             ]
            ],
            "type": "heatmap"
           }
          ],
          "heatmapgl": [
           {
            "colorbar": {
             "outlinewidth": 0,
             "ticks": ""
            },
            "colorscale": [
             [
              0,
              "#0d0887"
             ],
             [
              0.1111111111111111,
              "#46039f"
             ],
             [
              0.2222222222222222,
              "#7201a8"
             ],
             [
              0.3333333333333333,
              "#9c179e"
             ],
             [
              0.4444444444444444,
              "#bd3786"
             ],
             [
              0.5555555555555556,
              "#d8576b"
             ],
             [
              0.6666666666666666,
              "#ed7953"
             ],
             [
              0.7777777777777778,
              "#fb9f3a"
             ],
             [
              0.8888888888888888,
              "#fdca26"
             ],
             [
              1,
              "#f0f921"
             ]
            ],
            "type": "heatmapgl"
           }
          ],
          "histogram": [
           {
            "marker": {
             "pattern": {
              "fillmode": "overlay",
              "size": 10,
              "solidity": 0.2
             }
            },
            "type": "histogram"
           }
          ],
          "histogram2d": [
           {
            "colorbar": {
             "outlinewidth": 0,
             "ticks": ""
            },
            "colorscale": [
             [
              0,
              "#0d0887"
             ],
             [
              0.1111111111111111,
              "#46039f"
             ],
             [
              0.2222222222222222,
              "#7201a8"
             ],
             [
              0.3333333333333333,
              "#9c179e"
             ],
             [
              0.4444444444444444,
              "#bd3786"
             ],
             [
              0.5555555555555556,
              "#d8576b"
             ],
             [
              0.6666666666666666,
              "#ed7953"
             ],
             [
              0.7777777777777778,
              "#fb9f3a"
             ],
             [
              0.8888888888888888,
              "#fdca26"
             ],
             [
              1,
              "#f0f921"
             ]
            ],
            "type": "histogram2d"
           }
          ],
          "histogram2dcontour": [
           {
            "colorbar": {
             "outlinewidth": 0,
             "ticks": ""
            },
            "colorscale": [
             [
              0,
              "#0d0887"
             ],
             [
              0.1111111111111111,
              "#46039f"
             ],
             [
              0.2222222222222222,
              "#7201a8"
             ],
             [
              0.3333333333333333,
              "#9c179e"
             ],
             [
              0.4444444444444444,
              "#bd3786"
             ],
             [
              0.5555555555555556,
              "#d8576b"
             ],
             [
              0.6666666666666666,
              "#ed7953"
             ],
             [
              0.7777777777777778,
              "#fb9f3a"
             ],
             [
              0.8888888888888888,
              "#fdca26"
             ],
             [
              1,
              "#f0f921"
             ]
            ],
            "type": "histogram2dcontour"
           }
          ],
          "mesh3d": [
           {
            "colorbar": {
             "outlinewidth": 0,
             "ticks": ""
            },
            "type": "mesh3d"
           }
          ],
          "parcoords": [
           {
            "line": {
             "colorbar": {
              "outlinewidth": 0,
              "ticks": ""
             }
            },
            "type": "parcoords"
           }
          ],
          "pie": [
           {
            "automargin": true,
            "type": "pie"
           }
          ],
          "scatter": [
           {
            "fillpattern": {
             "fillmode": "overlay",
             "size": 10,
             "solidity": 0.2
            },
            "type": "scatter"
           }
          ],
          "scatter3d": [
           {
            "line": {
             "colorbar": {
              "outlinewidth": 0,
              "ticks": ""
             }
            },
            "marker": {
             "colorbar": {
              "outlinewidth": 0,
              "ticks": ""
             }
            },
            "type": "scatter3d"
           }
          ],
          "scattercarpet": [
           {
            "marker": {
             "colorbar": {
              "outlinewidth": 0,
              "ticks": ""
             }
            },
            "type": "scattercarpet"
           }
          ],
          "scattergeo": [
           {
            "marker": {
             "colorbar": {
              "outlinewidth": 0,
              "ticks": ""
             }
            },
            "type": "scattergeo"
           }
          ],
          "scattergl": [
           {
            "marker": {
             "colorbar": {
              "outlinewidth": 0,
              "ticks": ""
             }
            },
            "type": "scattergl"
           }
          ],
          "scattermapbox": [
           {
            "marker": {
             "colorbar": {
              "outlinewidth": 0,
              "ticks": ""
             }
            },
            "type": "scattermapbox"
           }
          ],
          "scatterpolar": [
           {
            "marker": {
             "colorbar": {
              "outlinewidth": 0,
              "ticks": ""
             }
            },
            "type": "scatterpolar"
           }
          ],
          "scatterpolargl": [
           {
            "marker": {
             "colorbar": {
              "outlinewidth": 0,
              "ticks": ""
             }
            },
            "type": "scatterpolargl"
           }
          ],
          "scatterternary": [
           {
            "marker": {
             "colorbar": {
              "outlinewidth": 0,
              "ticks": ""
             }
            },
            "type": "scatterternary"
           }
          ],
          "surface": [
           {
            "colorbar": {
             "outlinewidth": 0,
             "ticks": ""
            },
            "colorscale": [
             [
              0,
              "#0d0887"
             ],
             [
              0.1111111111111111,
              "#46039f"
             ],
             [
              0.2222222222222222,
              "#7201a8"
             ],
             [
              0.3333333333333333,
              "#9c179e"
             ],
             [
              0.4444444444444444,
              "#bd3786"
             ],
             [
              0.5555555555555556,
              "#d8576b"
             ],
             [
              0.6666666666666666,
              "#ed7953"
             ],
             [
              0.7777777777777778,
              "#fb9f3a"
             ],
             [
              0.8888888888888888,
              "#fdca26"
             ],
             [
              1,
              "#f0f921"
             ]
            ],
            "type": "surface"
           }
          ],
          "table": [
           {
            "cells": {
             "fill": {
              "color": "#EBF0F8"
             },
             "line": {
              "color": "white"
             }
            },
            "header": {
             "fill": {
              "color": "#C8D4E3"
             },
             "line": {
              "color": "white"
             }
            },
            "type": "table"
           }
          ]
         },
         "layout": {
          "annotationdefaults": {
           "arrowcolor": "#2a3f5f",
           "arrowhead": 0,
           "arrowwidth": 1
          },
          "autotypenumbers": "strict",
          "coloraxis": {
           "colorbar": {
            "outlinewidth": 0,
            "ticks": ""
           }
          },
          "colorscale": {
           "diverging": [
            [
             0,
             "#8e0152"
            ],
            [
             0.1,
             "#c51b7d"
            ],
            [
             0.2,
             "#de77ae"
            ],
            [
             0.3,
             "#f1b6da"
            ],
            [
             0.4,
             "#fde0ef"
            ],
            [
             0.5,
             "#f7f7f7"
            ],
            [
             0.6,
             "#e6f5d0"
            ],
            [
             0.7,
             "#b8e186"
            ],
            [
             0.8,
             "#7fbc41"
            ],
            [
             0.9,
             "#4d9221"
            ],
            [
             1,
             "#276419"
            ]
           ],
           "sequential": [
            [
             0,
             "#0d0887"
            ],
            [
             0.1111111111111111,
             "#46039f"
            ],
            [
             0.2222222222222222,
             "#7201a8"
            ],
            [
             0.3333333333333333,
             "#9c179e"
            ],
            [
             0.4444444444444444,
             "#bd3786"
            ],
            [
             0.5555555555555556,
             "#d8576b"
            ],
            [
             0.6666666666666666,
             "#ed7953"
            ],
            [
             0.7777777777777778,
             "#fb9f3a"
            ],
            [
             0.8888888888888888,
             "#fdca26"
            ],
            [
             1,
             "#f0f921"
            ]
           ],
           "sequentialminus": [
            [
             0,
             "#0d0887"
            ],
            [
             0.1111111111111111,
             "#46039f"
            ],
            [
             0.2222222222222222,
             "#7201a8"
            ],
            [
             0.3333333333333333,
             "#9c179e"
            ],
            [
             0.4444444444444444,
             "#bd3786"
            ],
            [
             0.5555555555555556,
             "#d8576b"
            ],
            [
             0.6666666666666666,
             "#ed7953"
            ],
            [
             0.7777777777777778,
             "#fb9f3a"
            ],
            [
             0.8888888888888888,
             "#fdca26"
            ],
            [
             1,
             "#f0f921"
            ]
           ]
          },
          "colorway": [
           "#636efa",
           "#EF553B",
           "#00cc96",
           "#ab63fa",
           "#FFA15A",
           "#19d3f3",
           "#FF6692",
           "#B6E880",
           "#FF97FF",
           "#FECB52"
          ],
          "font": {
           "color": "#2a3f5f"
          },
          "geo": {
           "bgcolor": "white",
           "lakecolor": "white",
           "landcolor": "#E5ECF6",
           "showlakes": true,
           "showland": true,
           "subunitcolor": "white"
          },
          "hoverlabel": {
           "align": "left"
          },
          "hovermode": "closest",
          "mapbox": {
           "style": "light"
          },
          "paper_bgcolor": "white",
          "plot_bgcolor": "#E5ECF6",
          "polar": {
           "angularaxis": {
            "gridcolor": "white",
            "linecolor": "white",
            "ticks": ""
           },
           "bgcolor": "#E5ECF6",
           "radialaxis": {
            "gridcolor": "white",
            "linecolor": "white",
            "ticks": ""
           }
          },
          "scene": {
           "xaxis": {
            "backgroundcolor": "#E5ECF6",
            "gridcolor": "white",
            "gridwidth": 2,
            "linecolor": "white",
            "showbackground": true,
            "ticks": "",
            "zerolinecolor": "white"
           },
           "yaxis": {
            "backgroundcolor": "#E5ECF6",
            "gridcolor": "white",
            "gridwidth": 2,
            "linecolor": "white",
            "showbackground": true,
            "ticks": "",
            "zerolinecolor": "white"
           },
           "zaxis": {
            "backgroundcolor": "#E5ECF6",
            "gridcolor": "white",
            "gridwidth": 2,
            "linecolor": "white",
            "showbackground": true,
            "ticks": "",
            "zerolinecolor": "white"
           }
          },
          "shapedefaults": {
           "line": {
            "color": "#2a3f5f"
           }
          },
          "ternary": {
           "aaxis": {
            "gridcolor": "white",
            "linecolor": "white",
            "ticks": ""
           },
           "baxis": {
            "gridcolor": "white",
            "linecolor": "white",
            "ticks": ""
           },
           "bgcolor": "#E5ECF6",
           "caxis": {
            "gridcolor": "white",
            "linecolor": "white",
            "ticks": ""
           }
          },
          "title": {
           "x": 0.05
          },
          "xaxis": {
           "automargin": true,
           "gridcolor": "white",
           "linecolor": "white",
           "ticks": "",
           "title": {
            "standoff": 15
           },
           "zerolinecolor": "white",
           "zerolinewidth": 2
          },
          "yaxis": {
           "automargin": true,
           "gridcolor": "white",
           "linecolor": "white",
           "ticks": "",
           "title": {
            "standoff": 15
           },
           "zerolinecolor": "white",
           "zerolinewidth": 2
          }
         }
        }
       }
      },
      "text/html": [
       "<div>                            <div id=\"78bd41e4-8db0-4e5c-abda-9465b906d469\" class=\"plotly-graph-div\" style=\"height:525px; width:100%;\"></div>            <script type=\"text/javascript\">                require([\"plotly\"], function(Plotly) {                    window.PLOTLYENV=window.PLOTLYENV || {};                                    if (document.getElementById(\"78bd41e4-8db0-4e5c-abda-9465b906d469\")) {                    Plotly.newPlot(                        \"78bd41e4-8db0-4e5c-abda-9465b906d469\",                        [{\"marker\":{\"color\":\"rgb(255,0,0)\",\"size\":10},\"mode\":\"markers\",\"name\":\"Cluster 0\",\"x\":[-0.27151370569962613,0.012979153523070372,1.3996885042181562,0.05182562964091612,2.8774512451738357,1.6706025170335967,5.870262350656411,0.25663548946536785,0.6070951015582875,1.523142825995926,0.8172018521756569,0.14955666435882026,0.17996569560990605,0.09527249755539131],\"y\":[-0.41520348411674723,-0.47259927684580255,-0.10485468354657976,-0.3406348490305404,0.12193190132926786,-1.09491434570603,2.5247294620445246,-0.7616379221207461,-0.5040828683380852,-0.05237611421828289,-0.6684802620462741,-0.035350743704780654,-0.4286061017571163,-0.37613517112416045],\"z\":[-0.4978052229897982,-0.11055781346099047,-0.3723662623894917,-0.23791653841225727,-0.2954303389500229,0.7884792433872193,0.7075386928154441,0.20579919429418608,-0.1362112051073605,-0.3151557415280618,0.3750193926646921,-0.636171056510782,-0.09108753377343198,-0.28260278468314004],\"type\":\"scatter3d\"},{\"marker\":{\"color\":\"rgb(0,255,0)\",\"size\":10},\"mode\":\"markers\",\"name\":\"Cluster 1\",\"x\":[-0.13258933167139833,-0.21666891500981242,-0.5918938856768137,-0.167228533521787,0.36761150618788385,-0.2058608297618417,-0.6817618009838836,-0.9118993109083492,-0.033568029919112154,-1.3116233187926498,-0.7422111889567657,-0.927611918269625,-0.8610631402201301,-1.1046622717559937],\"y\":[-0.18067624831579526,1.1715896473802676,2.77503578022166,1.5203756781959827,0.68816369313678,-0.11077372321537038,0.13375970427859415,0.1436850580621474,0.15905555546325792,-0.16401231927975132,0.6704256906175279,0.023178308053508442,-0.5945133866202599,0.43209200335139636],\"z\":[-0.6614525371345473,-2.045701934221174,0.1984746478974758,-1.7233971483923047,-1.5797692066086764,-0.4466112130426089,-0.16661635064086902,-0.5767248159957917,-0.5008888149519917,-0.875590962245164,-1.3950674634967355,-0.9337457545471314,-0.4817846997019511,-0.9285268199841764],\"type\":\"scatter3d\"},{\"marker\":{\"color\":\"rgb(0,0,255)\",\"size\":10},\"mode\":\"markers\",\"name\":\"Cluster 2\",\"x\":[-0.39102598908244257,-0.7062574961774118,-0.7323633622152951,-2.1696655729959873,-0.4010151922797581,-0.8680534902344987,-0.9830893580086751,-0.4656685962140094,-0.012597211542830593,-0.10916202968931295,-0.27044434521957983,-0.5547042819495968,-0.2798406388907766,0.5913955638122179,-0.45389334324446473,-0.017686973781575643,0.10493746570856005],\"y\":[-0.5164359715761184,-0.06734959356321507,-0.016971897664353076,3.4827542675756313,0.007163105922093962,0.9922136536195307,1.4996030318201123,-0.3020472713521886,-0.7247753947159176,-1.2168287447930441,-0.6110847912158037,-0.7583618441201021,-0.5528350128734505,-1.8998532562883066,-0.4824044535880356,-1.0328292838609068,-1.8591275254745203],\"z\":[-0.16871185733148514,-0.08210207288139744,0.41002289567416006,2.8506947865600485,0.3547525102491774,2.0940074446046566,1.0329159519666042,0.013717231603436644,0.2841419575292474,0.7154206006940709,0.08162128564427212,0.3615454575397911,0.19168400784768116,1.6200599380207097,1.3636504049157967,0.613762706138272,1.2786877989343994],\"type\":\"scatter3d\"}],                        {\"margin\":{\"b\":0,\"l\":0,\"r\":0,\"t\":0},\"template\":{\"data\":{\"barpolar\":[{\"marker\":{\"line\":{\"color\":\"#E5ECF6\",\"width\":0.5},\"pattern\":{\"fillmode\":\"overlay\",\"size\":10,\"solidity\":0.2}},\"type\":\"barpolar\"}],\"bar\":[{\"error_x\":{\"color\":\"#2a3f5f\"},\"error_y\":{\"color\":\"#2a3f5f\"},\"marker\":{\"line\":{\"color\":\"#E5ECF6\",\"width\":0.5},\"pattern\":{\"fillmode\":\"overlay\",\"size\":10,\"solidity\":0.2}},\"type\":\"bar\"}],\"carpet\":[{\"aaxis\":{\"endlinecolor\":\"#2a3f5f\",\"gridcolor\":\"white\",\"linecolor\":\"white\",\"minorgridcolor\":\"white\",\"startlinecolor\":\"#2a3f5f\"},\"baxis\":{\"endlinecolor\":\"#2a3f5f\",\"gridcolor\":\"white\",\"linecolor\":\"white\",\"minorgridcolor\":\"white\",\"startlinecolor\":\"#2a3f5f\"},\"type\":\"carpet\"}],\"choropleth\":[{\"colorbar\":{\"outlinewidth\":0,\"ticks\":\"\"},\"type\":\"choropleth\"}],\"contourcarpet\":[{\"colorbar\":{\"outlinewidth\":0,\"ticks\":\"\"},\"type\":\"contourcarpet\"}],\"contour\":[{\"colorbar\":{\"outlinewidth\":0,\"ticks\":\"\"},\"colorscale\":[[0.0,\"#0d0887\"],[0.1111111111111111,\"#46039f\"],[0.2222222222222222,\"#7201a8\"],[0.3333333333333333,\"#9c179e\"],[0.4444444444444444,\"#bd3786\"],[0.5555555555555556,\"#d8576b\"],[0.6666666666666666,\"#ed7953\"],[0.7777777777777778,\"#fb9f3a\"],[0.8888888888888888,\"#fdca26\"],[1.0,\"#f0f921\"]],\"type\":\"contour\"}],\"heatmapgl\":[{\"colorbar\":{\"outlinewidth\":0,\"ticks\":\"\"},\"colorscale\":[[0.0,\"#0d0887\"],[0.1111111111111111,\"#46039f\"],[0.2222222222222222,\"#7201a8\"],[0.3333333333333333,\"#9c179e\"],[0.4444444444444444,\"#bd3786\"],[0.5555555555555556,\"#d8576b\"],[0.6666666666666666,\"#ed7953\"],[0.7777777777777778,\"#fb9f3a\"],[0.8888888888888888,\"#fdca26\"],[1.0,\"#f0f921\"]],\"type\":\"heatmapgl\"}],\"heatmap\":[{\"colorbar\":{\"outlinewidth\":0,\"ticks\":\"\"},\"colorscale\":[[0.0,\"#0d0887\"],[0.1111111111111111,\"#46039f\"],[0.2222222222222222,\"#7201a8\"],[0.3333333333333333,\"#9c179e\"],[0.4444444444444444,\"#bd3786\"],[0.5555555555555556,\"#d8576b\"],[0.6666666666666666,\"#ed7953\"],[0.7777777777777778,\"#fb9f3a\"],[0.8888888888888888,\"#fdca26\"],[1.0,\"#f0f921\"]],\"type\":\"heatmap\"}],\"histogram2dcontour\":[{\"colorbar\":{\"outlinewidth\":0,\"ticks\":\"\"},\"colorscale\":[[0.0,\"#0d0887\"],[0.1111111111111111,\"#46039f\"],[0.2222222222222222,\"#7201a8\"],[0.3333333333333333,\"#9c179e\"],[0.4444444444444444,\"#bd3786\"],[0.5555555555555556,\"#d8576b\"],[0.6666666666666666,\"#ed7953\"],[0.7777777777777778,\"#fb9f3a\"],[0.8888888888888888,\"#fdca26\"],[1.0,\"#f0f921\"]],\"type\":\"histogram2dcontour\"}],\"histogram2d\":[{\"colorbar\":{\"outlinewidth\":0,\"ticks\":\"\"},\"colorscale\":[[0.0,\"#0d0887\"],[0.1111111111111111,\"#46039f\"],[0.2222222222222222,\"#7201a8\"],[0.3333333333333333,\"#9c179e\"],[0.4444444444444444,\"#bd3786\"],[0.5555555555555556,\"#d8576b\"],[0.6666666666666666,\"#ed7953\"],[0.7777777777777778,\"#fb9f3a\"],[0.8888888888888888,\"#fdca26\"],[1.0,\"#f0f921\"]],\"type\":\"histogram2d\"}],\"histogram\":[{\"marker\":{\"pattern\":{\"fillmode\":\"overlay\",\"size\":10,\"solidity\":0.2}},\"type\":\"histogram\"}],\"mesh3d\":[{\"colorbar\":{\"outlinewidth\":0,\"ticks\":\"\"},\"type\":\"mesh3d\"}],\"parcoords\":[{\"line\":{\"colorbar\":{\"outlinewidth\":0,\"ticks\":\"\"}},\"type\":\"parcoords\"}],\"pie\":[{\"automargin\":true,\"type\":\"pie\"}],\"scatter3d\":[{\"line\":{\"colorbar\":{\"outlinewidth\":0,\"ticks\":\"\"}},\"marker\":{\"colorbar\":{\"outlinewidth\":0,\"ticks\":\"\"}},\"type\":\"scatter3d\"}],\"scattercarpet\":[{\"marker\":{\"colorbar\":{\"outlinewidth\":0,\"ticks\":\"\"}},\"type\":\"scattercarpet\"}],\"scattergeo\":[{\"marker\":{\"colorbar\":{\"outlinewidth\":0,\"ticks\":\"\"}},\"type\":\"scattergeo\"}],\"scattergl\":[{\"marker\":{\"colorbar\":{\"outlinewidth\":0,\"ticks\":\"\"}},\"type\":\"scattergl\"}],\"scattermapbox\":[{\"marker\":{\"colorbar\":{\"outlinewidth\":0,\"ticks\":\"\"}},\"type\":\"scattermapbox\"}],\"scatterpolargl\":[{\"marker\":{\"colorbar\":{\"outlinewidth\":0,\"ticks\":\"\"}},\"type\":\"scatterpolargl\"}],\"scatterpolar\":[{\"marker\":{\"colorbar\":{\"outlinewidth\":0,\"ticks\":\"\"}},\"type\":\"scatterpolar\"}],\"scatter\":[{\"fillpattern\":{\"fillmode\":\"overlay\",\"size\":10,\"solidity\":0.2},\"type\":\"scatter\"}],\"scatterternary\":[{\"marker\":{\"colorbar\":{\"outlinewidth\":0,\"ticks\":\"\"}},\"type\":\"scatterternary\"}],\"surface\":[{\"colorbar\":{\"outlinewidth\":0,\"ticks\":\"\"},\"colorscale\":[[0.0,\"#0d0887\"],[0.1111111111111111,\"#46039f\"],[0.2222222222222222,\"#7201a8\"],[0.3333333333333333,\"#9c179e\"],[0.4444444444444444,\"#bd3786\"],[0.5555555555555556,\"#d8576b\"],[0.6666666666666666,\"#ed7953\"],[0.7777777777777778,\"#fb9f3a\"],[0.8888888888888888,\"#fdca26\"],[1.0,\"#f0f921\"]],\"type\":\"surface\"}],\"table\":[{\"cells\":{\"fill\":{\"color\":\"#EBF0F8\"},\"line\":{\"color\":\"white\"}},\"header\":{\"fill\":{\"color\":\"#C8D4E3\"},\"line\":{\"color\":\"white\"}},\"type\":\"table\"}]},\"layout\":{\"annotationdefaults\":{\"arrowcolor\":\"#2a3f5f\",\"arrowhead\":0,\"arrowwidth\":1},\"autotypenumbers\":\"strict\",\"coloraxis\":{\"colorbar\":{\"outlinewidth\":0,\"ticks\":\"\"}},\"colorscale\":{\"diverging\":[[0,\"#8e0152\"],[0.1,\"#c51b7d\"],[0.2,\"#de77ae\"],[0.3,\"#f1b6da\"],[0.4,\"#fde0ef\"],[0.5,\"#f7f7f7\"],[0.6,\"#e6f5d0\"],[0.7,\"#b8e186\"],[0.8,\"#7fbc41\"],[0.9,\"#4d9221\"],[1,\"#276419\"]],\"sequential\":[[0.0,\"#0d0887\"],[0.1111111111111111,\"#46039f\"],[0.2222222222222222,\"#7201a8\"],[0.3333333333333333,\"#9c179e\"],[0.4444444444444444,\"#bd3786\"],[0.5555555555555556,\"#d8576b\"],[0.6666666666666666,\"#ed7953\"],[0.7777777777777778,\"#fb9f3a\"],[0.8888888888888888,\"#fdca26\"],[1.0,\"#f0f921\"]],\"sequentialminus\":[[0.0,\"#0d0887\"],[0.1111111111111111,\"#46039f\"],[0.2222222222222222,\"#7201a8\"],[0.3333333333333333,\"#9c179e\"],[0.4444444444444444,\"#bd3786\"],[0.5555555555555556,\"#d8576b\"],[0.6666666666666666,\"#ed7953\"],[0.7777777777777778,\"#fb9f3a\"],[0.8888888888888888,\"#fdca26\"],[1.0,\"#f0f921\"]]},\"colorway\":[\"#636efa\",\"#EF553B\",\"#00cc96\",\"#ab63fa\",\"#FFA15A\",\"#19d3f3\",\"#FF6692\",\"#B6E880\",\"#FF97FF\",\"#FECB52\"],\"font\":{\"color\":\"#2a3f5f\"},\"geo\":{\"bgcolor\":\"white\",\"lakecolor\":\"white\",\"landcolor\":\"#E5ECF6\",\"showlakes\":true,\"showland\":true,\"subunitcolor\":\"white\"},\"hoverlabel\":{\"align\":\"left\"},\"hovermode\":\"closest\",\"mapbox\":{\"style\":\"light\"},\"paper_bgcolor\":\"white\",\"plot_bgcolor\":\"#E5ECF6\",\"polar\":{\"angularaxis\":{\"gridcolor\":\"white\",\"linecolor\":\"white\",\"ticks\":\"\"},\"bgcolor\":\"#E5ECF6\",\"radialaxis\":{\"gridcolor\":\"white\",\"linecolor\":\"white\",\"ticks\":\"\"}},\"scene\":{\"xaxis\":{\"backgroundcolor\":\"#E5ECF6\",\"gridcolor\":\"white\",\"gridwidth\":2,\"linecolor\":\"white\",\"showbackground\":true,\"ticks\":\"\",\"zerolinecolor\":\"white\"},\"yaxis\":{\"backgroundcolor\":\"#E5ECF6\",\"gridcolor\":\"white\",\"gridwidth\":2,\"linecolor\":\"white\",\"showbackground\":true,\"ticks\":\"\",\"zerolinecolor\":\"white\"},\"zaxis\":{\"backgroundcolor\":\"#E5ECF6\",\"gridcolor\":\"white\",\"gridwidth\":2,\"linecolor\":\"white\",\"showbackground\":true,\"ticks\":\"\",\"zerolinecolor\":\"white\"}},\"shapedefaults\":{\"line\":{\"color\":\"#2a3f5f\"}},\"ternary\":{\"aaxis\":{\"gridcolor\":\"white\",\"linecolor\":\"white\",\"ticks\":\"\"},\"baxis\":{\"gridcolor\":\"white\",\"linecolor\":\"white\",\"ticks\":\"\"},\"bgcolor\":\"#E5ECF6\",\"caxis\":{\"gridcolor\":\"white\",\"linecolor\":\"white\",\"ticks\":\"\"}},\"title\":{\"x\":0.05},\"xaxis\":{\"automargin\":true,\"gridcolor\":\"white\",\"linecolor\":\"white\",\"ticks\":\"\",\"title\":{\"standoff\":15},\"zerolinecolor\":\"white\",\"zerolinewidth\":2},\"yaxis\":{\"automargin\":true,\"gridcolor\":\"white\",\"linecolor\":\"white\",\"ticks\":\"\",\"title\":{\"standoff\":15},\"zerolinecolor\":\"white\",\"zerolinewidth\":2}}}},                        {\"responsive\": true}                    ).then(function(){\n",
       "                            \n",
       "var gd = document.getElementById('78bd41e4-8db0-4e5c-abda-9465b906d469');\n",
       "var x = new MutationObserver(function (mutations, observer) {{\n",
       "        var display = window.getComputedStyle(gd).display;\n",
       "        if (!display || display === 'none') {{\n",
       "            console.log([gd, 'removed!']);\n",
       "            Plotly.purge(gd);\n",
       "            observer.disconnect();\n",
       "        }}\n",
       "}});\n",
       "\n",
       "// Listen for the removal of the full notebook cells\n",
       "var notebookContainer = gd.closest('#notebook-container');\n",
       "if (notebookContainer) {{\n",
       "    x.observe(notebookContainer, {childList: true});\n",
       "}}\n",
       "\n",
       "// Listen for the clearing of the current output cell\n",
       "var outputEl = gd.closest('.output');\n",
       "if (outputEl) {{\n",
       "    x.observe(outputEl, {childList: true});\n",
       "}}\n",
       "\n",
       "                        })                };                });            </script>        </div>"
      ]
     },
     "metadata": {},
     "output_type": "display_data"
    }
   ],
   "source": [
    "# membuat visualisasi 3D untuk setiap klaster\n",
    "# klaster 1\n",
    "Cluster0= go.Scatter3d(\n",
    "        x=df_pca_3[df_pca_3['cluster']==0]['PC1'],\n",
    "        y=df_pca_3[df_pca_3['cluster']==0]['PC2'],\n",
    "        z=df_pca_3[df_pca_3['cluster']==0]['PC3'],\n",
    "        mode=\"markers\",\n",
    "        marker=dict(\n",
    "                    size=10,\n",
    "                    color=\"rgb(255,0,0)\",\n",
    "        ),\n",
    "        name=\"Cluster 0\"\n",
    ")\n",
    "\n",
    "#klaster 2\n",
    "Cluster1= go.Scatter3d(\n",
    "        x=df_pca_3[df_pca_3['cluster']==1]['PC1'],\n",
    "        y=df_pca_3[df_pca_3['cluster']==1]['PC2'],\n",
    "        z=df_pca_3[df_pca_3['cluster']==1]['PC3'],\n",
    "        mode=\"markers\",\n",
    "        marker=dict(\n",
    "                    size=10,\n",
    "                    color=\"rgb(0,255,0)\",\n",
    "        ),\n",
    "        name=\"Cluster 1\"\n",
    ")\n",
    "\n",
    "# klaster 3\n",
    "Cluster2= go.Scatter3d(\n",
    "        x=df_pca_3[df_pca_3['cluster']==2]['PC1'],\n",
    "        y=df_pca_3[df_pca_3['cluster']==2]['PC2'],\n",
    "        z=df_pca_3[df_pca_3['cluster']==2]['PC3'],\n",
    "        mode=\"markers\",\n",
    "        marker=dict(\n",
    "                    size=10,\n",
    "                    color=\"rgb(0,0,255)\",\n",
    "        ),\n",
    "        name=\"Cluster 2\"\n",
    ")\n",
    "\n",
    "\n",
    "data_plot_km=[Cluster0,Cluster1,Cluster2]\n",
    "\n",
    "# membuat plot\n",
    "layout = go.Layout(\n",
    "    margin=dict(l=0, r=0, b=0, t=0))\n",
    "\n",
    "fig=go.Figure(data = data_plot_km, layout = layout)\n",
    "iplot(fig)"
   ]
  },
  {
   "cell_type": "markdown",
   "metadata": {},
   "source": [
    "# SOM"
   ]
  },
  {
   "cell_type": "code",
   "execution_count": 391,
   "metadata": {},
   "outputs": [],
   "source": [
    "from minisom import MiniSom"
   ]
  },
  {
   "cell_type": "code",
   "execution_count": 397,
   "metadata": {},
   "outputs": [
    {
     "ename": "AttributeError",
     "evalue": "module 'pandas' has no attribute 'asarray'",
     "output_type": "error",
     "traceback": [
      "\u001b[1;31m---------------------------------------------------------------------------\u001b[0m",
      "\u001b[1;31mAttributeError\u001b[0m                            Traceback (most recent call last)",
      "Cell \u001b[1;32mIn[397], line 1\u001b[0m\n\u001b[1;32m----> 1\u001b[0m \u001b[43mpd\u001b[49m\u001b[38;5;241;43m.\u001b[39;49m\u001b[43masarray\u001b[49m(df_final\u001b[38;5;241m.\u001b[39mcopy())\n",
      "\u001b[1;31mAttributeError\u001b[0m: module 'pandas' has no attribute 'asarray'"
     ]
    }
   ],
   "source": [
    "pd.asarray(df_final.copy())"
   ]
  },
  {
   "cell_type": "code",
   "execution_count": 395,
   "metadata": {},
   "outputs": [
    {
     "ename": "ValueError",
     "evalue": "operands could not be broadcast together with shapes (3,) (4,4,4) ",
     "output_type": "error",
     "traceback": [
      "\u001b[1;31m---------------------------------------------------------------------------\u001b[0m",
      "\u001b[1;31mValueError\u001b[0m                                Traceback (most recent call last)",
      "Cell \u001b[1;32mIn[404], line 29\u001b[0m\n\u001b[0;32m     27\u001b[0m data_clusters \u001b[38;5;241m=\u001b[39m []\n\u001b[0;32m     28\u001b[0m \u001b[38;5;28;01mfor\u001b[39;00m d \u001b[38;5;129;01min\u001b[39;00m data:\n\u001b[1;32m---> 29\u001b[0m     winner \u001b[38;5;241m=\u001b[39m \u001b[43msom\u001b[49m\u001b[38;5;241;43m.\u001b[39;49m\u001b[43mwinner\u001b[49m\u001b[43m(\u001b[49m\u001b[43md\u001b[49m\u001b[43m)\u001b[49m  \u001b[38;5;66;03m# Get BMU\u001b[39;00m\n\u001b[0;32m     30\u001b[0m     cluster \u001b[38;5;241m=\u001b[39m cluster_labels[winner[\u001b[38;5;241m0\u001b[39m] \u001b[38;5;241m*\u001b[39m y_dim \u001b[38;5;241m+\u001b[39m winner[\u001b[38;5;241m1\u001b[39m]]  \u001b[38;5;66;03m# Map BMU to cluster\u001b[39;00m\n\u001b[0;32m     31\u001b[0m     data_clusters\u001b[38;5;241m.\u001b[39mappend(cluster)\n",
      "File \u001b[1;32mc:\\Users\\Annisa Sekar Tierra\\AppData\\Local\\Programs\\Python\\Python312\\Lib\\site-packages\\minisom.py:378\u001b[0m, in \u001b[0;36mMiniSom.winner\u001b[1;34m(self, x)\u001b[0m\n\u001b[0;32m    376\u001b[0m \u001b[38;5;28;01mdef\u001b[39;00m \u001b[38;5;21mwinner\u001b[39m(\u001b[38;5;28mself\u001b[39m, x):\n\u001b[0;32m    377\u001b[0m \u001b[38;5;250m    \u001b[39m\u001b[38;5;124;03m\"\"\"Computes the coordinates of the winning neuron for the sample x.\"\"\"\u001b[39;00m\n\u001b[1;32m--> 378\u001b[0m     \u001b[38;5;28;43mself\u001b[39;49m\u001b[38;5;241;43m.\u001b[39;49m\u001b[43m_activate\u001b[49m\u001b[43m(\u001b[49m\u001b[43mx\u001b[49m\u001b[43m)\u001b[49m\n\u001b[0;32m    379\u001b[0m     \u001b[38;5;28;01mreturn\u001b[39;00m unravel_index(\u001b[38;5;28mself\u001b[39m\u001b[38;5;241m.\u001b[39m_activation_map\u001b[38;5;241m.\u001b[39margmin(),\n\u001b[0;32m    380\u001b[0m                          \u001b[38;5;28mself\u001b[39m\u001b[38;5;241m.\u001b[39m_activation_map\u001b[38;5;241m.\u001b[39mshape)\n",
      "File \u001b[1;32mc:\\Users\\Annisa Sekar Tierra\\AppData\\Local\\Programs\\Python\\Python312\\Lib\\site-packages\\minisom.py:280\u001b[0m, in \u001b[0;36mMiniSom._activate\u001b[1;34m(self, x)\u001b[0m\n\u001b[0;32m    277\u001b[0m \u001b[38;5;28;01mdef\u001b[39;00m \u001b[38;5;21m_activate\u001b[39m(\u001b[38;5;28mself\u001b[39m, x):\n\u001b[0;32m    278\u001b[0m \u001b[38;5;250m    \u001b[39m\u001b[38;5;124;03m\"\"\"Updates matrix activation_map, in this matrix\u001b[39;00m\n\u001b[0;32m    279\u001b[0m \u001b[38;5;124;03m       the element i,j is the response of the neuron i,j to x.\"\"\"\u001b[39;00m\n\u001b[1;32m--> 280\u001b[0m     \u001b[38;5;28mself\u001b[39m\u001b[38;5;241m.\u001b[39m_activation_map \u001b[38;5;241m=\u001b[39m \u001b[38;5;28;43mself\u001b[39;49m\u001b[38;5;241;43m.\u001b[39;49m\u001b[43m_activation_distance\u001b[49m\u001b[43m(\u001b[49m\u001b[43mx\u001b[49m\u001b[43m,\u001b[49m\u001b[43m \u001b[49m\u001b[38;5;28;43mself\u001b[39;49m\u001b[38;5;241;43m.\u001b[39;49m\u001b[43m_weights\u001b[49m\u001b[43m)\u001b[49m\n",
      "File \u001b[1;32mc:\\Users\\Annisa Sekar Tierra\\AppData\\Local\\Programs\\Python\\Python312\\Lib\\site-packages\\minisom.py:356\u001b[0m, in \u001b[0;36mMiniSom._euclidean_distance\u001b[1;34m(self, x, w)\u001b[0m\n\u001b[0;32m    355\u001b[0m \u001b[38;5;28;01mdef\u001b[39;00m \u001b[38;5;21m_euclidean_distance\u001b[39m(\u001b[38;5;28mself\u001b[39m, x, w):\n\u001b[1;32m--> 356\u001b[0m     \u001b[38;5;28;01mreturn\u001b[39;00m linalg\u001b[38;5;241m.\u001b[39mnorm(\u001b[43msubtract\u001b[49m\u001b[43m(\u001b[49m\u001b[43mx\u001b[49m\u001b[43m,\u001b[49m\u001b[43m \u001b[49m\u001b[43mw\u001b[49m\u001b[43m)\u001b[49m, axis\u001b[38;5;241m=\u001b[39m\u001b[38;5;241m-\u001b[39m\u001b[38;5;241m1\u001b[39m)\n",
      "\u001b[1;31mValueError\u001b[0m: operands could not be broadcast together with shapes (3,) (4,4,4) "
     ]
    }
   ],
   "source": [
    "# Opsional: Tuning parameter eps dan min_samples\n",
    "df_som1 = df_final.copy()\n",
    "df_som = df_som1.to_numpy()\n",
    "\n",
    "# GMM\n",
    "# Train SOM\n",
    "som = MiniSom(x=4, y=4, input_len=4, sigma=1.0, learning_rate=0.5)\n",
    "som.random_weights_init(df_som)\n",
    "som.train_random(df_som, 500)  # 500 iterations\n",
    "\n",
    "# Get weights (codebook vectors)\n",
    "codebook_vectors = som.get_weights().reshape(-1, 4)  # Flatten to (16, 3) for clustering\n",
    "\n",
    "# Apply KMeans for custom clustering (e.g., 3 clusters)\n",
    "n_clusters = 3\n",
    "kmeans = KMeans(n_clusters=n_clusters, random_state=42)\n",
    "kmeans.fit(codebook_vectors)\n",
    "\n",
    "# Cluster labels for SOM units\n",
    "cluster_labels = kmeans.labels_\n",
    "\n",
    "# Get SOM dimensions\n",
    "grid_shape = som.get_weights().shape  # (4, 4, 3)\n",
    "x_dim, y_dim = grid_shape[0], grid_shape[1]\n",
    "\n",
    "# Assign clusters to data points based on BMU\n",
    "data_clusters = []\n",
    "for d in data:\n",
    "    winner = som.winner(d)  # Get BMU\n",
    "    cluster = cluster_labels[winner[0] * y_dim + winner[1]]  # Map BMU to cluster\n",
    "    data_clusters.append(cluster)\n",
    "# Get SOM dimensions\n",
    "grid_shape = som.get_weights().shape  # (4, 4, 3)\n",
    "x_dim, y_dim = grid_shape[0], grid_shape[1]\n",
    "\n",
    "# Assign clusters to data points based on BMU\n",
    "data_clusters = []\n",
    "for d in data:\n",
    "    winner = som.winner(d)  # Get BMU\n",
    "    cluster = cluster_labels[winner[0] * y_dim + winner[1]]  # Map BMU to cluster\n",
    "    data_clusters.append(cluster)\n",
    "    \n",
    "labelsom = cluster_labels\n",
    "unique_labels = np.unique(labelsom)\n",
    "n_clusters_formed = len(unique_labels)\n",
    "print(f'Clusters present: {unique_labels}')\n",
    "# print(f'Clusters sizes: {np.bincount(labelg)}', '\\n')\n",
    "print(f'Silhouette Score: {silhouette_score(df_som, labelsom)}')\n",
    "print(f'Calinski-Harabasz Index: {calinski_harabasz_score(df_som, labelsom)}')\n",
    "print(f'Davies-Bouldin Index: {davies_bouldin_score(df_som, labelsom)}')\n",
    "\n",
    "df_som1['cluster'] = labelsom\n",
    "data['Cluster'] = labelsom\n",
    "\n",
    "print(df_som.cluster.value_counts())\n",
    "df_som.head()"
   ]
  },
  {
   "cell_type": "code",
   "execution_count": null,
   "metadata": {},
   "outputs": [
    {
     "name": "stdout",
     "output_type": "stream",
     "text": [
      "              ROA       ROE       Market Cap  Mean Return  Variance Return  \\\n",
      "Ticker                                                                       \n",
      "PGAS.JK  0.042140  0.103040   38422777430016     0.002017         0.000332   \n",
      "ICBP.JK  0.058613  0.171547  137318870548480     0.000646         0.000286   \n",
      "UNTR.JK  0.133818  0.260084  100964321198080     0.001568         0.000246   \n",
      "\n",
      "         Cluster  sharpe_ratio  \n",
      "Ticker                          \n",
      "PGAS.JK       -1      0.097624  \n",
      "ICBP.JK        0      0.024142  \n",
      "UNTR.JK        1      0.084842  \n"
     ]
    }
   ],
   "source": [
    "# Risk-free rate (contoh: 6% per tahun, diubah ke harian)\n",
    "risk_free_rate = 0.06 / 252\n",
    "\n",
    "# Hitung Sharpe Ratio\n",
    "data['sharpe_ratio'] = (data['Mean Return'] - risk_free_rate) / np.sqrt(data['Variance Return'])\n",
    "\n",
    "# Ambil saham terbaik dari setiap cluster\n",
    "best_stocks = data.loc[data.groupby('Cluster')['sharpe_ratio'].idxmax()]\n",
    "\n",
    "print(best_stocks)"
   ]
  },
  {
   "cell_type": "code",
   "execution_count": null,
   "metadata": {},
   "outputs": [
    {
     "name": "stdout",
     "output_type": "stream",
     "text": [
      "65.08414737534632 %\n"
     ]
    },
    {
     "data": {
      "text/plain": [
       "<Axes: xlabel='PC_1', ylabel='PC_2'>"
      ]
     },
     "metadata": {},
     "output_type": "display_data"
    },
    {
     "data": {
      "image/png": "[encoded data removed]",
      "text/plain": [
       "<Figure size 1000x800 with 1 Axes>"
      ]
     },
     "metadata": {},
     "output_type": "display_data"
    }
   ],
   "source": [
    "# Gunakan Dimensionality Reduction dengan PCA untuk mempermudah melakukan visualisasi\n",
    "\n",
    "pca = PCA(n_components = 2)\n",
    "df_pca2 = pd.DataFrame(pca.fit_transform(df_som.iloc[:,:-1]),\n",
    "                      columns = ['PC_1', 'PC_2'],\n",
    "                      index = df_som.index)\n",
    "\n",
    "df_pca2 = pd.concat([df_pca2, df_som.cluster], axis = 1)\n",
    "# df_pca1.head()\n",
    "\n",
    "print(np.sum(pca.explained_variance_ratio_)*100, \"%\") # 2 Dimensi dapat menjelaskan keseluruhan fitur\n",
    "fig = plt.figure(figsize=(10, 8))\n",
    "ax = fig.add_subplot()\n",
    "sns.scatterplot(data = df_pca2, x = 'PC_1', y = 'PC_2', hue = 'cluster', s = 300, ax = ax)"
   ]
  },
  {
   "cell_type": "markdown",
   "metadata": {},
   "source": [
    "**3D**"
   ]
  },
  {
   "cell_type": "code",
   "execution_count": null,
   "metadata": {},
   "outputs": [],
   "source": [
    "# Gunakan Dimensionality Reduction dengan PCA untuk mempermudah melakukan visualisasi\n",
    "\n",
    "pca = PCA(n_components = 3)\n",
    "df_pca_3 = pd.DataFrame(pca.fit_transform(df_spec.iloc[:,:-1]),\n",
    "                      columns = ['PC1', 'PC2', 'PC3'],\n",
    "                      index = df_spec.index)\n",
    "\n",
    "df_pca_3 = pd.concat([df_pca_3, df_spec.cluster], axis = 1)\n",
    "# df_pca1.head()"
   ]
  },
  {
   "cell_type": "code",
   "execution_count": null,
   "metadata": {},
   "outputs": [
    {
     "data": {
      "text/html": [
       "<div>\n",
       "<style scoped>\n",
       "    .dataframe tbody tr th:only-of-type {\n",
       "        vertical-align: middle;\n",
       "    }\n",
       "\n",
       "    .dataframe tbody tr th {\n",
       "        vertical-align: top;\n",
       "    }\n",
       "\n",
       "    .dataframe thead th {\n",
       "        text-align: right;\n",
       "    }\n",
       "</style>\n",
       "<table border=\"1\" class=\"dataframe\">\n",
       "  <thead>\n",
       "    <tr style=\"text-align: right;\">\n",
       "      <th></th>\n",
       "      <th>PC1</th>\n",
       "      <th>PC2</th>\n",
       "      <th>PC3</th>\n",
       "      <th>cluster</th>\n",
       "    </tr>\n",
       "    <tr>\n",
       "      <th>Ticker</th>\n",
       "      <th></th>\n",
       "      <th></th>\n",
       "      <th></th>\n",
       "      <th></th>\n",
       "    </tr>\n",
       "  </thead>\n",
       "  <tbody>\n",
       "    <tr>\n",
       "      <th>ACES.JK</th>\n",
       "      <td>-0.132589</td>\n",
       "      <td>-0.180676</td>\n",
       "      <td>-0.661453</td>\n",
       "      <td>1</td>\n",
       "    </tr>\n",
       "    <tr>\n",
       "      <th>ADMR.JK</th>\n",
       "      <td>-0.271514</td>\n",
       "      <td>-0.415203</td>\n",
       "      <td>-0.497805</td>\n",
       "      <td>0</td>\n",
       "    </tr>\n",
       "    <tr>\n",
       "      <th>ADRO.JK</th>\n",
       "      <td>-0.216669</td>\n",
       "      <td>1.171590</td>\n",
       "      <td>-2.045702</td>\n",
       "      <td>1</td>\n",
       "    </tr>\n",
       "    <tr>\n",
       "      <th>AKRA.JK</th>\n",
       "      <td>-0.391026</td>\n",
       "      <td>-0.516436</td>\n",
       "      <td>-0.168712</td>\n",
       "      <td>2</td>\n",
       "    </tr>\n",
       "    <tr>\n",
       "      <th>AMMN.JK</th>\n",
       "      <td>-0.591894</td>\n",
       "      <td>2.775036</td>\n",
       "      <td>0.198475</td>\n",
       "      <td>1</td>\n",
       "    </tr>\n",
       "  </tbody>\n",
       "</table>\n",
       "</div>"
      ],
      "text/plain": [
       "              PC1       PC2       PC3  cluster\n",
       "Ticker                                        \n",
       "ACES.JK -0.132589 -0.180676 -0.661453        1\n",
       "ADMR.JK -0.271514 -0.415203 -0.497805        0\n",
       "ADRO.JK -0.216669  1.171590 -2.045702        1\n",
       "AKRA.JK -0.391026 -0.516436 -0.168712        2\n",
       "AMMN.JK -0.591894  2.775036  0.198475        1"
      ]
     },
     "metadata": {},
     "output_type": "display_data"
    }
   ],
   "source": [
    "df_pca_3.head()"
   ]
  },
  {
   "cell_type": "code",
   "execution_count": null,
   "metadata": {},
   "outputs": [
    {
     "data": {
      "application/vnd.plotly.v1+json": {
       "config": {
        "linkText": "Export to plot.ly",
        "plotlyServerURL": "https://plot.ly",
        "showLink": false
       },
       "data": [
        {
         "marker": {
          "color": "rgb(255,0,0)",
          "size": 10
         },
         "mode": "markers",
         "name": "Cluster 0",
         "type": "scatter3d",
         "x": [
          -0.27151370569962613,
          0.012979153523070372,
          1.3996885042181562,
          0.05182562964091612,
          2.8774512451738357,
          1.6706025170335967,
          5.870262350656411,
          0.25663548946536785,
          0.6070951015582875,
          1.523142825995926,
          0.8172018521756569,
          0.14955666435882026,
          0.17996569560990605,
          0.09527249755539131
         ],
         "y": [
          -0.41520348411674723,
          -0.47259927684580255,
          -0.10485468354657976,
          -0.3406348490305404,
          0.12193190132926786,
          -1.09491434570603,
          2.5247294620445246,
          -0.7616379221207461,
          -0.5040828683380852,
          -0.05237611421828289,
          -0.6684802620462741,
          -0.035350743704780654,
          -0.4286061017571163,
          -0.37613517112416045
         ],
         "z": [
          -0.4978052229897982,
          -0.11055781346099047,
          -0.3723662623894917,
          -0.23791653841225727,
          -0.2954303389500229,
          0.7884792433872193,
          0.7075386928154441,
          0.20579919429418608,
          -0.1362112051073605,
          -0.3151557415280618,
          0.3750193926646921,
          -0.636171056510782,
          -0.09108753377343198,
          -0.28260278468314004
         ]
        },
        {
         "marker": {
          "color": "rgb(0,255,0)",
          "size": 10
         },
         "mode": "markers",
         "name": "Cluster 1",
         "type": "scatter3d",
         "x": [
          -0.13258933167139833,
          -0.21666891500981242,
          -0.5918938856768137,
          -0.167228533521787,
          0.36761150618788385,
          -0.2058608297618417,
          -0.6817618009838836,
          -0.9118993109083492,
          -0.033568029919112154,
          -1.3116233187926498,
          -0.7422111889567657,
          -0.927611918269625,
          -0.8610631402201301,
          -1.1046622717559937
         ],
         "y": [
          -0.18067624831579526,
          1.1715896473802676,
          2.77503578022166,
          1.5203756781959827,
          0.68816369313678,
          -0.11077372321537038,
          0.13375970427859415,
          0.1436850580621474,
          0.15905555546325792,
          -0.16401231927975132,
          0.6704256906175279,
          0.023178308053508442,
          -0.5945133866202599,
          0.43209200335139636
         ],
         "z": [
          -0.6614525371345473,
          -2.045701934221174,
          0.1984746478974758,
          -1.7233971483923047,
          -1.5797692066086764,
          -0.4466112130426089,
          -0.16661635064086902,
          -0.5767248159957917,
          -0.5008888149519917,
          -0.875590962245164,
          -1.3950674634967355,
          -0.9337457545471314,
          -0.4817846997019511,
          -0.9285268199841764
         ]
        },
        {
         "marker": {
          "color": "rgb(0,0,255)",
          "size": 10
         },
         "mode": "markers",
         "name": "Cluster 2",
         "type": "scatter3d",
         "x": [
          -0.39102598908244257,
          -0.7062574961774118,
          -0.7323633622152951,
          -2.1696655729959873,
          -0.4010151922797581,
          -0.8680534902344987,
          -0.9830893580086751,
          -0.4656685962140094,
          -0.012597211542830593,
          -0.10916202968931295,
          -0.27044434521957983,
          -0.5547042819495968,
          -0.2798406388907766,
          0.5913955638122179,
          -0.45389334324446473,
          -0.017686973781575643,
          0.10493746570856005
         ],
         "y": [
          -0.5164359715761184,
          -0.06734959356321507,
          -0.016971897664353076,
          3.4827542675756313,
          0.007163105922093962,
          0.9922136536195307,
          1.4996030318201123,
          -0.3020472713521886,
          -0.7247753947159176,
          -1.2168287447930441,
          -0.6110847912158037,
          -0.7583618441201021,
          -0.5528350128734505,
          -1.8998532562883066,
          -0.4824044535880356,
          -1.0328292838609068,
          -1.8591275254745203
         ],
         "z": [
          -0.16871185733148514,
          -0.08210207288139744,
          0.41002289567416006,
          2.8506947865600485,
          0.3547525102491774,
          2.0940074446046566,
          1.0329159519666042,
          0.013717231603436644,
          0.2841419575292474,
          0.7154206006940709,
          0.08162128564427212,
          0.3615454575397911,
          0.19168400784768116,
          1.6200599380207097,
          1.3636504049157967,
          0.613762706138272,
          1.2786877989343994
         ]
        }
       ],
       "layout": {
        "margin": {
         "b": 0,
         "l": 0,
         "r": 0,
         "t": 0
        },
        "template": {
         "data": {
          "bar": [
           {
            "error_x": {
             "color": "#2a3f5f"
            },
            "error_y": {
             "color": "#2a3f5f"
            },
            "marker": {
             "line": {
              "color": "#E5ECF6",
              "width": 0.5
             },
             "pattern": {
              "fillmode": "overlay",
              "size": 10,
              "solidity": 0.2
             }
            },
            "type": "bar"
           }
          ],
          "barpolar": [
           {
            "marker": {
             "line": {
              "color": "#E5ECF6",
              "width": 0.5
             },
             "pattern": {
              "fillmode": "overlay",
              "size": 10,
              "solidity": 0.2
             }
            },
            "type": "barpolar"
           }
          ],
          "carpet": [
           {
            "aaxis": {
             "endlinecolor": "#2a3f5f",
             "gridcolor": "white",
             "linecolor": "white",
             "minorgridcolor": "white",
             "startlinecolor": "#2a3f5f"
            },
            "baxis": {
             "endlinecolor": "#2a3f5f",
             "gridcolor": "white",
             "linecolor": "white",
             "minorgridcolor": "white",
             "startlinecolor": "#2a3f5f"
            },
            "type": "carpet"
           }
          ],
          "choropleth": [
           {
            "colorbar": {
             "outlinewidth": 0,
             "ticks": ""
            },
            "type": "choropleth"
           }
          ],
          "contour": [
           {
            "colorbar": {
             "outlinewidth": 0,
             "ticks": ""
            },
            "colorscale": [
             [
              0,
              "#0d0887"
             ],
             [
              0.1111111111111111,
              "#46039f"
             ],
             [
              0.2222222222222222,
              "#7201a8"
             ],
             [
              0.3333333333333333,
              "#9c179e"
             ],
             [
              0.4444444444444444,
              "#bd3786"
             ],
             [
              0.5555555555555556,
              "#d8576b"
             ],
             [
              0.6666666666666666,
              "#ed7953"
             ],
             [
              0.7777777777777778,
              "#fb9f3a"
             ],
             [
              0.8888888888888888,
              "#fdca26"
             ],
             [
              1,
              "#f0f921"
             ]
            ],
            "type": "contour"
           }
          ],
          "contourcarpet": [
           {
            "colorbar": {
             "outlinewidth": 0,
             "ticks": ""
            },
            "type": "contourcarpet"
           }
          ],
          "heatmap": [
           {
            "colorbar": {
             "outlinewidth": 0,
             "ticks": ""
            },
            "colorscale": [
             [
              0,
              "#0d0887"
             ],
             [
              0.1111111111111111,
              "#46039f"
             ],
             [
              0.2222222222222222,
              "#7201a8"
             ],
             [
              0.3333333333333333,
              "#9c179e"
             ],
             [
              0.4444444444444444,
              "#bd3786"
             ],
             [
              0.5555555555555556,
              "#d8576b"
             ],
             [
              0.6666666666666666,
              "#ed7953"
             ],
             [
              0.7777777777777778,
              "#fb9f3a"
             ],
             [
              0.8888888888888888,
              "#fdca26"
             ],
             [
              1,
              "#f0f921"
             ]
            ],
            "type": "heatmap"
           }
          ],
          "heatmapgl": [
           {
            "colorbar": {
             "outlinewidth": 0,
             "ticks": ""
            },
            "colorscale": [
             [
              0,
              "#0d0887"
             ],
             [
              0.1111111111111111,
              "#46039f"
             ],
             [
              0.2222222222222222,
              "#7201a8"
             ],
             [
              0.3333333333333333,
              "#9c179e"
             ],
             [
              0.4444444444444444,
              "#bd3786"
             ],
             [
              0.5555555555555556,
              "#d8576b"
             ],
             [
              0.6666666666666666,
              "#ed7953"
             ],
             [
              0.7777777777777778,
              "#fb9f3a"
             ],
             [
              0.8888888888888888,
              "#fdca26"
             ],
             [
              1,
              "#f0f921"
             ]
            ],
            "type": "heatmapgl"
           }
          ],
          "histogram": [
           {
            "marker": {
             "pattern": {
              "fillmode": "overlay",
              "size": 10,
              "solidity": 0.2
             }
            },
            "type": "histogram"
           }
          ],
          "histogram2d": [
           {
            "colorbar": {
             "outlinewidth": 0,
             "ticks": ""
            },
            "colorscale": [
             [
              0,
              "#0d0887"
             ],
             [
              0.1111111111111111,
              "#46039f"
             ],
             [
              0.2222222222222222,
              "#7201a8"
             ],
             [
              0.3333333333333333,
              "#9c179e"
             ],
             [
              0.4444444444444444,
              "#bd3786"
             ],
             [
              0.5555555555555556,
              "#d8576b"
             ],
             [
              0.6666666666666666,
              "#ed7953"
             ],
             [
              0.7777777777777778,
              "#fb9f3a"
             ],
             [
              0.8888888888888888,
              "#fdca26"
             ],
             [
              1,
              "#f0f921"
             ]
            ],
            "type": "histogram2d"
           }
          ],
          "histogram2dcontour": [
           {
            "colorbar": {
             "outlinewidth": 0,
             "ticks": ""
            },
            "colorscale": [
             [
              0,
              "#0d0887"
             ],
             [
              0.1111111111111111,
              "#46039f"
             ],
             [
              0.2222222222222222,
              "#7201a8"
             ],
             [
              0.3333333333333333,
              "#9c179e"
             ],
             [
              0.4444444444444444,
              "#bd3786"
             ],
             [
              0.5555555555555556,
              "#d8576b"
             ],
             [
              0.6666666666666666,
              "#ed7953"
             ],
             [
              0.7777777777777778,
              "#fb9f3a"
             ],
             [
              0.8888888888888888,
              "#fdca26"
             ],
             [
              1,
              "#f0f921"
             ]
            ],
            "type": "histogram2dcontour"
           }
          ],
          "mesh3d": [
           {
            "colorbar": {
             "outlinewidth": 0,
             "ticks": ""
            },
            "type": "mesh3d"
           }
          ],
          "parcoords": [
           {
            "line": {
             "colorbar": {
              "outlinewidth": 0,
              "ticks": ""
             }
            },
            "type": "parcoords"
           }
          ],
          "pie": [
           {
            "automargin": true,
            "type": "pie"
           }
          ],
          "scatter": [
           {
            "fillpattern": {
             "fillmode": "overlay",
             "size": 10,
             "solidity": 0.2
            },
            "type": "scatter"
           }
          ],
          "scatter3d": [
           {
            "line": {
             "colorbar": {
              "outlinewidth": 0,
              "ticks": ""
             }
            },
            "marker": {
             "colorbar": {
              "outlinewidth": 0,
              "ticks": ""
             }
            },
            "type": "scatter3d"
           }
          ],
          "scattercarpet": [
           {
            "marker": {
             "colorbar": {
              "outlinewidth": 0,
              "ticks": ""
             }
            },
            "type": "scattercarpet"
           }
          ],
          "scattergeo": [
           {
            "marker": {
             "colorbar": {
              "outlinewidth": 0,
              "ticks": ""
             }
            },
            "type": "scattergeo"
           }
          ],
          "scattergl": [
           {
            "marker": {
             "colorbar": {
              "outlinewidth": 0,
              "ticks": ""
             }
            },
            "type": "scattergl"
           }
          ],
          "scattermapbox": [
           {
            "marker": {
             "colorbar": {
              "outlinewidth": 0,
              "ticks": ""
             }
            },
            "type": "scattermapbox"
           }
          ],
          "scatterpolar": [
           {
            "marker": {
             "colorbar": {
              "outlinewidth": 0,
              "ticks": ""
             }
            },
            "type": "scatterpolar"
           }
          ],
          "scatterpolargl": [
           {
            "marker": {
             "colorbar": {
              "outlinewidth": 0,
              "ticks": ""
             }
            },
            "type": "scatterpolargl"
           }
          ],
          "scatterternary": [
           {
            "marker": {
             "colorbar": {
              "outlinewidth": 0,
              "ticks": ""
             }
            },
            "type": "scatterternary"
           }
          ],
          "surface": [
           {
            "colorbar": {
             "outlinewidth": 0,
             "ticks": ""
            },
            "colorscale": [
             [
              0,
              "#0d0887"
             ],
             [
              0.1111111111111111,
              "#46039f"
             ],
             [
              0.2222222222222222,
              "#7201a8"
             ],
             [
              0.3333333333333333,
              "#9c179e"
             ],
             [
              0.4444444444444444,
              "#bd3786"
             ],
             [
              0.5555555555555556,
              "#d8576b"
             ],
             [
              0.6666666666666666,
              "#ed7953"
             ],
             [
              0.7777777777777778,
              "#fb9f3a"
             ],
             [
              0.8888888888888888,
              "#fdca26"
             ],
             [
              1,
              "#f0f921"
             ]
            ],
            "type": "surface"
           }
          ],
          "table": [
           {
            "cells": {
             "fill": {
              "color": "#EBF0F8"
             },
             "line": {
              "color": "white"
             }
            },
            "header": {
             "fill": {
              "color": "#C8D4E3"
             },
             "line": {
              "color": "white"
             }
            },
            "type": "table"
           }
          ]
         },
         "layout": {
          "annotationdefaults": {
           "arrowcolor": "#2a3f5f",
           "arrowhead": 0,
           "arrowwidth": 1
          },
          "autotypenumbers": "strict",
          "coloraxis": {
           "colorbar": {
            "outlinewidth": 0,
            "ticks": ""
           }
          },
          "colorscale": {
           "diverging": [
            [
             0,
             "#8e0152"
            ],
            [
             0.1,
             "#c51b7d"
            ],
            [
             0.2,
             "#de77ae"
            ],
            [
             0.3,
             "#f1b6da"
            ],
            [
             0.4,
             "#fde0ef"
            ],
            [
             0.5,
             "#f7f7f7"
            ],
            [
             0.6,
             "#e6f5d0"
            ],
            [
             0.7,
             "#b8e186"
            ],
            [
             0.8,
             "#7fbc41"
            ],
            [
             0.9,
             "#4d9221"
            ],
            [
             1,
             "#276419"
            ]
           ],
           "sequential": [
            [
             0,
             "#0d0887"
            ],
            [
             0.1111111111111111,
             "#46039f"
            ],
            [
             0.2222222222222222,
             "#7201a8"
            ],
            [
             0.3333333333333333,
             "#9c179e"
            ],
            [
             0.4444444444444444,
             "#bd3786"
            ],
            [
             0.5555555555555556,
             "#d8576b"
            ],
            [
             0.6666666666666666,
             "#ed7953"
            ],
            [
             0.7777777777777778,
             "#fb9f3a"
            ],
            [
             0.8888888888888888,
             "#fdca26"
            ],
            [
             1,
             "#f0f921"
            ]
           ],
           "sequentialminus": [
            [
             0,
             "#0d0887"
            ],
            [
             0.1111111111111111,
             "#46039f"
            ],
            [
             0.2222222222222222,
             "#7201a8"
            ],
            [
             0.3333333333333333,
             "#9c179e"
            ],
            [
             0.4444444444444444,
             "#bd3786"
            ],
            [
             0.5555555555555556,
             "#d8576b"
            ],
            [
             0.6666666666666666,
             "#ed7953"
            ],
            [
             0.7777777777777778,
             "#fb9f3a"
            ],
            [
             0.8888888888888888,
             "#fdca26"
            ],
            [
             1,
             "#f0f921"
            ]
           ]
          },
          "colorway": [
           "#636efa",
           "#EF553B",
           "#00cc96",
           "#ab63fa",
           "#FFA15A",
           "#19d3f3",
           "#FF6692",
           "#B6E880",
           "#FF97FF",
           "#FECB52"
          ],
          "font": {
           "color": "#2a3f5f"
          },
          "geo": {
           "bgcolor": "white",
           "lakecolor": "white",
           "landcolor": "#E5ECF6",
           "showlakes": true,
           "showland": true,
           "subunitcolor": "white"
          },
          "hoverlabel": {
           "align": "left"
          },
          "hovermode": "closest",
          "mapbox": {
           "style": "light"
          },
          "paper_bgcolor": "white",
          "plot_bgcolor": "#E5ECF6",
          "polar": {
           "angularaxis": {
            "gridcolor": "white",
            "linecolor": "white",
            "ticks": ""
           },
           "bgcolor": "#E5ECF6",
           "radialaxis": {
            "gridcolor": "white",
            "linecolor": "white",
            "ticks": ""
           }
          },
          "scene": {
           "xaxis": {
            "backgroundcolor": "#E5ECF6",
            "gridcolor": "white",
            "gridwidth": 2,
            "linecolor": "white",
            "showbackground": true,
            "ticks": "",
            "zerolinecolor": "white"
           },
           "yaxis": {
            "backgroundcolor": "#E5ECF6",
            "gridcolor": "white",
            "gridwidth": 2,
            "linecolor": "white",
            "showbackground": true,
            "ticks": "",
            "zerolinecolor": "white"
           },
           "zaxis": {
            "backgroundcolor": "#E5ECF6",
            "gridcolor": "white",
            "gridwidth": 2,
            "linecolor": "white",
            "showbackground": true,
            "ticks": "",
            "zerolinecolor": "white"
           }
          },
          "shapedefaults": {
           "line": {
            "color": "#2a3f5f"
           }
          },
          "ternary": {
           "aaxis": {
            "gridcolor": "white",
            "linecolor": "white",
            "ticks": ""
           },
           "baxis": {
            "gridcolor": "white",
            "linecolor": "white",
            "ticks": ""
           },
           "bgcolor": "#E5ECF6",
           "caxis": {
            "gridcolor": "white",
            "linecolor": "white",
            "ticks": ""
           }
          },
          "title": {
           "x": 0.05
          },
          "xaxis": {
           "automargin": true,
           "gridcolor": "white",
           "linecolor": "white",
           "ticks": "",
           "title": {
            "standoff": 15
           },
           "zerolinecolor": "white",
           "zerolinewidth": 2
          },
          "yaxis": {
           "automargin": true,
           "gridcolor": "white",
           "linecolor": "white",
           "ticks": "",
           "title": {
            "standoff": 15
           },
           "zerolinecolor": "white",
           "zerolinewidth": 2
          }
         }
        }
       }
      },
      "text/html": [
       "<div>                            <div id=\"78bd41e4-8db0-4e5c-abda-9465b906d469\" class=\"plotly-graph-div\" style=\"height:525px; width:100%;\"></div>            <script type=\"text/javascript\">                require([\"plotly\"], function(Plotly) {                    window.PLOTLYENV=window.PLOTLYENV || {};                                    if (document.getElementById(\"78bd41e4-8db0-4e5c-abda-9465b906d469\")) {                    Plotly.newPlot(                        \"78bd41e4-8db0-4e5c-abda-9465b906d469\",                        [{\"marker\":{\"color\":\"rgb(255,0,0)\",\"size\":10},\"mode\":\"markers\",\"name\":\"Cluster 0\",\"x\":[-0.27151370569962613,0.012979153523070372,1.3996885042181562,0.05182562964091612,2.8774512451738357,1.6706025170335967,5.870262350656411,0.25663548946536785,0.6070951015582875,1.523142825995926,0.8172018521756569,0.14955666435882026,0.17996569560990605,0.09527249755539131],\"y\":[-0.41520348411674723,-0.47259927684580255,-0.10485468354657976,-0.3406348490305404,0.12193190132926786,-1.09491434570603,2.5247294620445246,-0.7616379221207461,-0.5040828683380852,-0.05237611421828289,-0.6684802620462741,-0.035350743704780654,-0.4286061017571163,-0.37613517112416045],\"z\":[-0.4978052229897982,-0.11055781346099047,-0.3723662623894917,-0.23791653841225727,-0.2954303389500229,0.7884792433872193,0.7075386928154441,0.20579919429418608,-0.1362112051073605,-0.3151557415280618,0.3750193926646921,-0.636171056510782,-0.09108753377343198,-0.28260278468314004],\"type\":\"scatter3d\"},{\"marker\":{\"color\":\"rgb(0,255,0)\",\"size\":10},\"mode\":\"markers\",\"name\":\"Cluster 1\",\"x\":[-0.13258933167139833,-0.21666891500981242,-0.5918938856768137,-0.167228533521787,0.36761150618788385,-0.2058608297618417,-0.6817618009838836,-0.9118993109083492,-0.033568029919112154,-1.3116233187926498,-0.7422111889567657,-0.927611918269625,-0.8610631402201301,-1.1046622717559937],\"y\":[-0.18067624831579526,1.1715896473802676,2.77503578022166,1.5203756781959827,0.68816369313678,-0.11077372321537038,0.13375970427859415,0.1436850580621474,0.15905555546325792,-0.16401231927975132,0.6704256906175279,0.023178308053508442,-0.5945133866202599,0.43209200335139636],\"z\":[-0.6614525371345473,-2.045701934221174,0.1984746478974758,-1.7233971483923047,-1.5797692066086764,-0.4466112130426089,-0.16661635064086902,-0.5767248159957917,-0.5008888149519917,-0.875590962245164,-1.3950674634967355,-0.9337457545471314,-0.4817846997019511,-0.9285268199841764],\"type\":\"scatter3d\"},{\"marker\":{\"color\":\"rgb(0,0,255)\",\"size\":10},\"mode\":\"markers\",\"name\":\"Cluster 2\",\"x\":[-0.39102598908244257,-0.7062574961774118,-0.7323633622152951,-2.1696655729959873,-0.4010151922797581,-0.8680534902344987,-0.9830893580086751,-0.4656685962140094,-0.012597211542830593,-0.10916202968931295,-0.27044434521957983,-0.5547042819495968,-0.2798406388907766,0.5913955638122179,-0.45389334324446473,-0.017686973781575643,0.10493746570856005],\"y\":[-0.5164359715761184,-0.06734959356321507,-0.016971897664353076,3.4827542675756313,0.007163105922093962,0.9922136536195307,1.4996030318201123,-0.3020472713521886,-0.7247753947159176,-1.2168287447930441,-0.6110847912158037,-0.7583618441201021,-0.5528350128734505,-1.8998532562883066,-0.4824044535880356,-1.0328292838609068,-1.8591275254745203],\"z\":[-0.16871185733148514,-0.08210207288139744,0.41002289567416006,2.8506947865600485,0.3547525102491774,2.0940074446046566,1.0329159519666042,0.013717231603436644,0.2841419575292474,0.7154206006940709,0.08162128564427212,0.3615454575397911,0.19168400784768116,1.6200599380207097,1.3636504049157967,0.613762706138272,1.2786877989343994],\"type\":\"scatter3d\"}],                        {\"margin\":{\"b\":0,\"l\":0,\"r\":0,\"t\":0},\"template\":{\"data\":{\"barpolar\":[{\"marker\":{\"line\":{\"color\":\"#E5ECF6\",\"width\":0.5},\"pattern\":{\"fillmode\":\"overlay\",\"size\":10,\"solidity\":0.2}},\"type\":\"barpolar\"}],\"bar\":[{\"error_x\":{\"color\":\"#2a3f5f\"},\"error_y\":{\"color\":\"#2a3f5f\"},\"marker\":{\"line\":{\"color\":\"#E5ECF6\",\"width\":0.5},\"pattern\":{\"fillmode\":\"overlay\",\"size\":10,\"solidity\":0.2}},\"type\":\"bar\"}],\"carpet\":[{\"aaxis\":{\"endlinecolor\":\"#2a3f5f\",\"gridcolor\":\"white\",\"linecolor\":\"white\",\"minorgridcolor\":\"white\",\"startlinecolor\":\"#2a3f5f\"},\"baxis\":{\"endlinecolor\":\"#2a3f5f\",\"gridcolor\":\"white\",\"linecolor\":\"white\",\"minorgridcolor\":\"white\",\"startlinecolor\":\"#2a3f5f\"},\"type\":\"carpet\"}],\"choropleth\":[{\"colorbar\":{\"outlinewidth\":0,\"ticks\":\"\"},\"type\":\"choropleth\"}],\"contourcarpet\":[{\"colorbar\":{\"outlinewidth\":0,\"ticks\":\"\"},\"type\":\"contourcarpet\"}],\"contour\":[{\"colorbar\":{\"outlinewidth\":0,\"ticks\":\"\"},\"colorscale\":[[0.0,\"#0d0887\"],[0.1111111111111111,\"#46039f\"],[0.2222222222222222,\"#7201a8\"],[0.3333333333333333,\"#9c179e\"],[0.4444444444444444,\"#bd3786\"],[0.5555555555555556,\"#d8576b\"],[0.6666666666666666,\"#ed7953\"],[0.7777777777777778,\"#fb9f3a\"],[0.8888888888888888,\"#fdca26\"],[1.0,\"#f0f921\"]],\"type\":\"contour\"}],\"heatmapgl\":[{\"colorbar\":{\"outlinewidth\":0,\"ticks\":\"\"},\"colorscale\":[[0.0,\"#0d0887\"],[0.1111111111111111,\"#46039f\"],[0.2222222222222222,\"#7201a8\"],[0.3333333333333333,\"#9c179e\"],[0.4444444444444444,\"#bd3786\"],[0.5555555555555556,\"#d8576b\"],[0.6666666666666666,\"#ed7953\"],[0.7777777777777778,\"#fb9f3a\"],[0.8888888888888888,\"#fdca26\"],[1.0,\"#f0f921\"]],\"type\":\"heatmapgl\"}],\"heatmap\":[{\"colorbar\":{\"outlinewidth\":0,\"ticks\":\"\"},\"colorscale\":[[0.0,\"#0d0887\"],[0.1111111111111111,\"#46039f\"],[0.2222222222222222,\"#7201a8\"],[0.3333333333333333,\"#9c179e\"],[0.4444444444444444,\"#bd3786\"],[0.5555555555555556,\"#d8576b\"],[0.6666666666666666,\"#ed7953\"],[0.7777777777777778,\"#fb9f3a\"],[0.8888888888888888,\"#fdca26\"],[1.0,\"#f0f921\"]],\"type\":\"heatmap\"}],\"histogram2dcontour\":[{\"colorbar\":{\"outlinewidth\":0,\"ticks\":\"\"},\"colorscale\":[[0.0,\"#0d0887\"],[0.1111111111111111,\"#46039f\"],[0.2222222222222222,\"#7201a8\"],[0.3333333333333333,\"#9c179e\"],[0.4444444444444444,\"#bd3786\"],[0.5555555555555556,\"#d8576b\"],[0.6666666666666666,\"#ed7953\"],[0.7777777777777778,\"#fb9f3a\"],[0.8888888888888888,\"#fdca26\"],[1.0,\"#f0f921\"]],\"type\":\"histogram2dcontour\"}],\"histogram2d\":[{\"colorbar\":{\"outlinewidth\":0,\"ticks\":\"\"},\"colorscale\":[[0.0,\"#0d0887\"],[0.1111111111111111,\"#46039f\"],[0.2222222222222222,\"#7201a8\"],[0.3333333333333333,\"#9c179e\"],[0.4444444444444444,\"#bd3786\"],[0.5555555555555556,\"#d8576b\"],[0.6666666666666666,\"#ed7953\"],[0.7777777777777778,\"#fb9f3a\"],[0.8888888888888888,\"#fdca26\"],[1.0,\"#f0f921\"]],\"type\":\"histogram2d\"}],\"histogram\":[{\"marker\":{\"pattern\":{\"fillmode\":\"overlay\",\"size\":10,\"solidity\":0.2}},\"type\":\"histogram\"}],\"mesh3d\":[{\"colorbar\":{\"outlinewidth\":0,\"ticks\":\"\"},\"type\":\"mesh3d\"}],\"parcoords\":[{\"line\":{\"colorbar\":{\"outlinewidth\":0,\"ticks\":\"\"}},\"type\":\"parcoords\"}],\"pie\":[{\"automargin\":true,\"type\":\"pie\"}],\"scatter3d\":[{\"line\":{\"colorbar\":{\"outlinewidth\":0,\"ticks\":\"\"}},\"marker\":{\"colorbar\":{\"outlinewidth\":0,\"ticks\":\"\"}},\"type\":\"scatter3d\"}],\"scattercarpet\":[{\"marker\":{\"colorbar\":{\"outlinewidth\":0,\"ticks\":\"\"}},\"type\":\"scattercarpet\"}],\"scattergeo\":[{\"marker\":{\"colorbar\":{\"outlinewidth\":0,\"ticks\":\"\"}},\"type\":\"scattergeo\"}],\"scattergl\":[{\"marker\":{\"colorbar\":{\"outlinewidth\":0,\"ticks\":\"\"}},\"type\":\"scattergl\"}],\"scattermapbox\":[{\"marker\":{\"colorbar\":{\"outlinewidth\":0,\"ticks\":\"\"}},\"type\":\"scattermapbox\"}],\"scatterpolargl\":[{\"marker\":{\"colorbar\":{\"outlinewidth\":0,\"ticks\":\"\"}},\"type\":\"scatterpolargl\"}],\"scatterpolar\":[{\"marker\":{\"colorbar\":{\"outlinewidth\":0,\"ticks\":\"\"}},\"type\":\"scatterpolar\"}],\"scatter\":[{\"fillpattern\":{\"fillmode\":\"overlay\",\"size\":10,\"solidity\":0.2},\"type\":\"scatter\"}],\"scatterternary\":[{\"marker\":{\"colorbar\":{\"outlinewidth\":0,\"ticks\":\"\"}},\"type\":\"scatterternary\"}],\"surface\":[{\"colorbar\":{\"outlinewidth\":0,\"ticks\":\"\"},\"colorscale\":[[0.0,\"#0d0887\"],[0.1111111111111111,\"#46039f\"],[0.2222222222222222,\"#7201a8\"],[0.3333333333333333,\"#9c179e\"],[0.4444444444444444,\"#bd3786\"],[0.5555555555555556,\"#d8576b\"],[0.6666666666666666,\"#ed7953\"],[0.7777777777777778,\"#fb9f3a\"],[0.8888888888888888,\"#fdca26\"],[1.0,\"#f0f921\"]],\"type\":\"surface\"}],\"table\":[{\"cells\":{\"fill\":{\"color\":\"#EBF0F8\"},\"line\":{\"color\":\"white\"}},\"header\":{\"fill\":{\"color\":\"#C8D4E3\"},\"line\":{\"color\":\"white\"}},\"type\":\"table\"}]},\"layout\":{\"annotationdefaults\":{\"arrowcolor\":\"#2a3f5f\",\"arrowhead\":0,\"arrowwidth\":1},\"autotypenumbers\":\"strict\",\"coloraxis\":{\"colorbar\":{\"outlinewidth\":0,\"ticks\":\"\"}},\"colorscale\":{\"diverging\":[[0,\"#8e0152\"],[0.1,\"#c51b7d\"],[0.2,\"#de77ae\"],[0.3,\"#f1b6da\"],[0.4,\"#fde0ef\"],[0.5,\"#f7f7f7\"],[0.6,\"#e6f5d0\"],[0.7,\"#b8e186\"],[0.8,\"#7fbc41\"],[0.9,\"#4d9221\"],[1,\"#276419\"]],\"sequential\":[[0.0,\"#0d0887\"],[0.1111111111111111,\"#46039f\"],[0.2222222222222222,\"#7201a8\"],[0.3333333333333333,\"#9c179e\"],[0.4444444444444444,\"#bd3786\"],[0.5555555555555556,\"#d8576b\"],[0.6666666666666666,\"#ed7953\"],[0.7777777777777778,\"#fb9f3a\"],[0.8888888888888888,\"#fdca26\"],[1.0,\"#f0f921\"]],\"sequentialminus\":[[0.0,\"#0d0887\"],[0.1111111111111111,\"#46039f\"],[0.2222222222222222,\"#7201a8\"],[0.3333333333333333,\"#9c179e\"],[0.4444444444444444,\"#bd3786\"],[0.5555555555555556,\"#d8576b\"],[0.6666666666666666,\"#ed7953\"],[0.7777777777777778,\"#fb9f3a\"],[0.8888888888888888,\"#fdca26\"],[1.0,\"#f0f921\"]]},\"colorway\":[\"#636efa\",\"#EF553B\",\"#00cc96\",\"#ab63fa\",\"#FFA15A\",\"#19d3f3\",\"#FF6692\",\"#B6E880\",\"#FF97FF\",\"#FECB52\"],\"font\":{\"color\":\"#2a3f5f\"},\"geo\":{\"bgcolor\":\"white\",\"lakecolor\":\"white\",\"landcolor\":\"#E5ECF6\",\"showlakes\":true,\"showland\":true,\"subunitcolor\":\"white\"},\"hoverlabel\":{\"align\":\"left\"},\"hovermode\":\"closest\",\"mapbox\":{\"style\":\"light\"},\"paper_bgcolor\":\"white\",\"plot_bgcolor\":\"#E5ECF6\",\"polar\":{\"angularaxis\":{\"gridcolor\":\"white\",\"linecolor\":\"white\",\"ticks\":\"\"},\"bgcolor\":\"#E5ECF6\",\"radialaxis\":{\"gridcolor\":\"white\",\"linecolor\":\"white\",\"ticks\":\"\"}},\"scene\":{\"xaxis\":{\"backgroundcolor\":\"#E5ECF6\",\"gridcolor\":\"white\",\"gridwidth\":2,\"linecolor\":\"white\",\"showbackground\":true,\"ticks\":\"\",\"zerolinecolor\":\"white\"},\"yaxis\":{\"backgroundcolor\":\"#E5ECF6\",\"gridcolor\":\"white\",\"gridwidth\":2,\"linecolor\":\"white\",\"showbackground\":true,\"ticks\":\"\",\"zerolinecolor\":\"white\"},\"zaxis\":{\"backgroundcolor\":\"#E5ECF6\",\"gridcolor\":\"white\",\"gridwidth\":2,\"linecolor\":\"white\",\"showbackground\":true,\"ticks\":\"\",\"zerolinecolor\":\"white\"}},\"shapedefaults\":{\"line\":{\"color\":\"#2a3f5f\"}},\"ternary\":{\"aaxis\":{\"gridcolor\":\"white\",\"linecolor\":\"white\",\"ticks\":\"\"},\"baxis\":{\"gridcolor\":\"white\",\"linecolor\":\"white\",\"ticks\":\"\"},\"bgcolor\":\"#E5ECF6\",\"caxis\":{\"gridcolor\":\"white\",\"linecolor\":\"white\",\"ticks\":\"\"}},\"title\":{\"x\":0.05},\"xaxis\":{\"automargin\":true,\"gridcolor\":\"white\",\"linecolor\":\"white\",\"ticks\":\"\",\"title\":{\"standoff\":15},\"zerolinecolor\":\"white\",\"zerolinewidth\":2},\"yaxis\":{\"automargin\":true,\"gridcolor\":\"white\",\"linecolor\":\"white\",\"ticks\":\"\",\"title\":{\"standoff\":15},\"zerolinecolor\":\"white\",\"zerolinewidth\":2}}}},                        {\"responsive\": true}                    ).then(function(){\n",
       "                            \n",
       "var gd = document.getElementById('78bd41e4-8db0-4e5c-abda-9465b906d469');\n",
       "var x = new MutationObserver(function (mutations, observer) {{\n",
       "        var display = window.getComputedStyle(gd).display;\n",
       "        if (!display || display === 'none') {{\n",
       "            console.log([gd, 'removed!']);\n",
       "            Plotly.purge(gd);\n",
       "            observer.disconnect();\n",
       "        }}\n",
       "}});\n",
       "\n",
       "// Listen for the removal of the full notebook cells\n",
       "var notebookContainer = gd.closest('#notebook-container');\n",
       "if (notebookContainer) {{\n",
       "    x.observe(notebookContainer, {childList: true});\n",
       "}}\n",
       "\n",
       "// Listen for the clearing of the current output cell\n",
       "var outputEl = gd.closest('.output');\n",
       "if (outputEl) {{\n",
       "    x.observe(outputEl, {childList: true});\n",
       "}}\n",
       "\n",
       "                        })                };                });            </script>        </div>"
      ]
     },
     "metadata": {},
     "output_type": "display_data"
    }
   ],
   "source": [
    "# membuat visualisasi 3D untuk setiap klaster\n",
    "# klaster 1\n",
    "Cluster0= go.Scatter3d(\n",
    "        x=df_pca_3[df_pca_3['cluster']==0]['PC1'],\n",
    "        y=df_pca_3[df_pca_3['cluster']==0]['PC2'],\n",
    "        z=df_pca_3[df_pca_3['cluster']==0]['PC3'],\n",
    "        mode=\"markers\",\n",
    "        marker=dict(\n",
    "                    size=10,\n",
    "                    color=\"rgb(255,0,0)\",\n",
    "        ),\n",
    "        name=\"Cluster 0\"\n",
    ")\n",
    "\n",
    "#klaster 2\n",
    "Cluster1= go.Scatter3d(\n",
    "        x=df_pca_3[df_pca_3['cluster']==1]['PC1'],\n",
    "        y=df_pca_3[df_pca_3['cluster']==1]['PC2'],\n",
    "        z=df_pca_3[df_pca_3['cluster']==1]['PC3'],\n",
    "        mode=\"markers\",\n",
    "        marker=dict(\n",
    "                    size=10,\n",
    "                    color=\"rgb(0,255,0)\",\n",
    "        ),\n",
    "        name=\"Cluster 1\"\n",
    ")\n",
    "\n",
    "# klaster 3\n",
    "Cluster2= go.Scatter3d(\n",
    "        x=df_pca_3[df_pca_3['cluster']==2]['PC1'],\n",
    "        y=df_pca_3[df_pca_3['cluster']==2]['PC2'],\n",
    "        z=df_pca_3[df_pca_3['cluster']==2]['PC3'],\n",
    "        mode=\"markers\",\n",
    "        marker=dict(\n",
    "                    size=10,\n",
    "                    color=\"rgb(0,0,255)\",\n",
    "        ),\n",
    "        name=\"Cluster 2\"\n",
    ")\n",
    "\n",
    "\n",
    "data_plot_km=[Cluster0,Cluster1,Cluster2]\n",
    "\n",
    "# membuat plot\n",
    "layout = go.Layout(\n",
    "    margin=dict(l=0, r=0, b=0, t=0))\n",
    "\n",
    "fig=go.Figure(data = data_plot_km, layout = layout)\n",
    "iplot(fig)"
   ]
  }
 ],
 "metadata": {
  "kernelspec": {
   "display_name": "Python 3",
   "language": "python",
   "name": "python3"
  },
  "language_info": {
   "codemirror_mode": {
    "name": "ipython",
    "version": 3
   },
   "file_extension": ".py",
   "mimetype": "text/x-python",
   "name": "python",
   "nbconvert_exporter": "python",
   "pygments_lexer": "ipython3",
   "version": "3.12.2"
  }
 },
 "nbformat": 4,
 "nbformat_minor": 2
}
