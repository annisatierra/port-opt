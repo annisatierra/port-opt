{
 "cells": [
  {
   "cell_type": "code",
   "execution_count": 1851,
   "metadata": {},
   "outputs": [],
   "source": [
    "import yfinance as yf\n",
    "import pandas as pd\n",
    "import time\n",
    "import warnings\n",
    "from itertools import cycle, islice\n",
    "\n",
    "import matplotlib.pyplot as plt\n",
    "import seaborn as sns\n",
    "import numpy as np\n",
    "\n",
    "from sklearn import cluster, datasets, mixture\n",
    "from sklearn.neighbors import kneighbors_graph\n",
    "from sklearn.preprocessing import StandardScaler\n",
    "from sklearn.metrics import silhouette_score, davies_bouldin_score, calinski_harabasz_score\n",
    "from sklearn.cluster import KMeans\n",
    "from sklearn.metrics import silhouette_score\n",
    "\n",
    "warnings.filterwarnings(\"ignore\")\n"
   ]
  },
  {
   "cell_type": "code",
   "execution_count": 1852,
   "metadata": {},
   "outputs": [
    {
     "data": {
      "text/html": [
       "        <script type=\"text/javascript\">\n",
       "        window.PlotlyConfig = {MathJaxConfig: 'local'};\n",
       "        if (window.MathJax && window.MathJax.Hub && window.MathJax.Hub.Config) {window.MathJax.Hub.Config({SVG: {font: \"STIX-Web\"}});}\n",
       "        if (typeof require !== 'undefined') {\n",
       "        require.undef(\"plotly\");\n",
       "        requirejs.config({\n",
       "            paths: {\n",
       "                'plotly': ['https://cdn.plot.ly/plotly-2.30.0.min']\n",
       "            }\n",
       "        });\n",
       "        require(['plotly'], function(Plotly) {\n",
       "            window._Plotly = Plotly;\n",
       "        });\n",
       "        }\n",
       "        </script>\n",
       "        "
      ]
     },
     "metadata": {},
     "output_type": "display_data"
    }
   ],
   "source": [
    "import pandas as pd\n",
    "import numpy as np\n",
    "import matplotlib.pyplot as plt\n",
    "import matplotlib.dates as mdates\n",
    "import unicodedata\n",
    "from datetime import datetime, time, timedelta\n",
    "import seaborn as sns\n",
    "from sklearn.preprocessing import StandardScaler, MinMaxScaler\n",
    "from kmodes.kprototypes import KPrototypes\n",
    "from sklearn.metrics import silhouette_score, calinski_harabasz_score, davies_bouldin_score\n",
    "from sklearn.cluster import AgglomerativeClustering\n",
    "from sklearn.mixture import GaussianMixture\n",
    "from scipy.cluster.hierarchy import dendrogram, linkage\n",
    "from sklearn.decomposition import PCA\n",
    "\n",
    "from plotly.offline import init_notebook_mode, iplot\n",
    "init_notebook_mode(connected=True)\n",
    "import plotly.graph_objs as go\n",
    "import plotly.express as px\n",
    "import ast"
   ]
  },
  {
   "cell_type": "code",
   "execution_count": 1853,
   "metadata": {},
   "outputs": [],
   "source": [
    "# ==== BACA DATA ====\n",
    "# List of stock tickers (Indonesian example)\n",
    "# stocks = [\"BBRI.JK\", \"BMRI.JK\", \"TLKM.JK\"]\n",
    "lq45_stocks = [\n",
    "    \"ACES.JK\", \"ADMR.JK\", \"ADRO.JK\", \"AKRA.JK\", \"AMMN.JK\", \"AMRT.JK\", \"ANTM.JK\", \"ARTO.JK\", \n",
    "    \"ASII.JK\", \"BBCA.JK\", \"BBNI.JK\", \"BBRI.JK\", \"BBTN.JK\", \"BMRI.JK\", \"BRIS.JK\", \"BRPT.JK\", \n",
    "    \"BUKA.JK\", \"CPIN.JK\", \"ESSA.JK\", \"EXCL.JK\", \"GOTO.JK\", \"ICBP.JK\", \"INCO.JK\", \"INDF.JK\", \n",
    "    \"INKP.JK\", \"INTP.JK\", \"ISAT.JK\", \"ITMG.JK\", \"JSMR.JK\", \"KLBF.JK\", \"MAPI.JK\", \"MBMA.JK\", \n",
    "    \"MDKA.JK\", \"MEDC.JK\", \"MTEL.JK\", \"PGAS.JK\", \"PGEO.JK\", \"PTBA.JK\", \"SIDO.JK\", \"SMGR.JK\", \n",
    "    \"SMRA.JK\", \"TLKM.JK\", \"TOWR.JK\", \"UNTR.JK\", \"UNVR.JK\"\n",
    "]\n",
    "\n",
    "\n",
    "def get_stock_data(stock):\n",
    "    \"\"\"Fetch financial metrics, historical returns, and all closing prices with timestamps for a stock.\"\"\"\n",
    "    try:\n",
    "        # Initialize ticker object\n",
    "        stock_data = yf.Ticker(stock)\n",
    "\n",
    "        # Fetch financials (ROA and ROE calculation)\n",
    "        income_statement = stock_data.financials\n",
    "        balance_sheet = stock_data.balance_sheet\n",
    "\n",
    "        # Extract Net Income, Total Assets, and Shareholder's Equity\n",
    "        net_income = income_statement.loc[\"Net Income\"].iloc[0] if \"Net Income\" in income_statement.index else None\n",
    "        total_assets = balance_sheet.loc[\"Total Assets\"].iloc[0] if \"Total Assets\" in balance_sheet.index else None\n",
    "        shareholders_equity = balance_sheet.loc['Stockholders Equity'].iloc[0] if 'Stockholders Equity' in balance_sheet.index else None\n",
    "\n",
    "        roa = net_income / total_assets if total_assets else None\n",
    "        roe = net_income / shareholders_equity if shareholders_equity else None\n",
    "\n",
    "        # Fetch market capitalization\n",
    "        market_cap = stock_data.info.get(\"marketCap\", None)\n",
    "\n",
    "        # Fetch historical data for returns calculation and closing prices\n",
    "        hist_data = stock_data.history(period=\"1y\")  # Last 1 year of data\n",
    "        hist_data[\"Daily Return\"] = hist_data[\"Close\"].pct_change()\n",
    "\n",
    "        mean_return = hist_data[\"Daily Return\"].mean() if not hist_data[\"Daily Return\"].isnull().all() else None\n",
    "        variance_return = hist_data[\"Daily Return\"].var() if not hist_data[\"Daily Return\"].isnull().all() else None\n",
    "\n",
    "        # Get all closing prices with timestamps\n",
    "        closing_prices_with_timestamps = hist_data[[\"Close\"]].reset_index()  # Reset index to include dates\n",
    "        # Convert the 'Date' to the desired format 'Y-m-d'\n",
    "        closing_prices_with_timestamps[\"Date\"] = closing_prices_with_timestamps[\"Date\"].dt.strftime('%Y-%m-%d')\n",
    "\n",
    "        closing_prices_with_timestamps = closing_prices_with_timestamps[[\"Date\", \"Close\"]].to_dict(orient='records')  # Convert to list of dicts\n",
    "\n",
    "        if stock =='MEDC.JK':\n",
    "            roa = 0.0510\n",
    "            roe = 0.2169\n",
    "        return {\n",
    "            \"Ticker\": stock,\n",
    "            \"ROA\": roa,\n",
    "            \"ROE\": roe,  # Updated to include ROA, but you may need to replace with correct ROE\n",
    "            \"Market Cap\": market_cap,\n",
    "            \"Mean Return\": mean_return,\n",
    "            \"Variance Return\": variance_return,\n",
    "            \"Closing Prices with Timestamps\": closing_prices_with_timestamps,\n",
    "        }\n",
    "    except Exception as e:\n",
    "        print(f\"Error fetching data for {stock}: {e}\")\n",
    "        return {\n",
    "            \"Ticker\": stock,\n",
    "            \"ROA\": None,\n",
    "            \"ROE\": None,\n",
    "            \"Market Cap\": None,\n",
    "            \"Mean Return\": None,\n",
    "            \"Variance Return\": None,\n",
    "            \"Closing Prices with Timestamps\": None,\n",
    "        }\n",
    "\n",
    "# Loop through all tickers and collect data\n",
    "# results = [get_stock_data(stock) for stock in lq45_stocks]\n",
    "# df = pd.DataFrame(results)\n",
    "# df\n",
    "\n",
    "# Optionally, save to CSV for future use:\n",
    "# # df.to_csv(\"New_Data Saham dan Finansial LQ45.csv\", index = False)\n"
   ]
  },
  {
   "cell_type": "code",
   "execution_count": 1854,
   "metadata": {},
   "outputs": [],
   "source": [
    "import yfinance as yf\n",
    "import pandas as pd\n",
    "from datetime import datetime, timedelta\n",
    "\n",
    "# Menghitung 252 hari yang lalu dari hari ini\n",
    "end_date = datetime.today()\n",
    "start_date = end_date - timedelta(days=252)\n",
    "\n",
    "# Format tanggal dalam format yang diterima oleh yfinance\n",
    "start_date_str = start_date.strftime('%Y-%m-%d')\n",
    "end_date_str = end_date.strftime('%Y-%m-%d')\n",
    "\n",
    "# Fungsi untuk mendapatkan data saham\n",
    "def get_stock_data(stock):\n",
    "    try:\n",
    "        # Inisialisasi objek ticker\n",
    "        stock_data = yf.Ticker(stock)\n",
    "\n",
    "        # Mengambil data historis untuk rentang waktu yang spesifik\n",
    "        hist_data = stock_data.history(start=start_date_str, end=end_date_str)  # Data selama 252 hari\n",
    "\n",
    "        # Menghitung return harian\n",
    "        hist_data[\"Daily Return\"] = hist_data[\"Close\"].pct_change()\n",
    "\n",
    "        mean_return = hist_data[\"Daily Return\"].mean() if not hist_data[\"Daily Return\"].isnull().all() else None\n",
    "        variance_return = hist_data[\"Daily Return\"].var() if not hist_data[\"Daily Return\"].isnull().all() else None\n",
    "\n",
    "        # Mendapatkan harga penutupan dengan timestamp\n",
    "        closing_prices_with_timestamps = hist_data[[\"Close\"]].reset_index()  # Reset index untuk memasukkan tanggal\n",
    "        closing_prices_with_timestamps[\"Date\"] = closing_prices_with_timestamps[\"Date\"].dt.strftime('%Y-%m-%d')\n",
    "\n",
    "        closing_prices_with_timestamps = closing_prices_with_timestamps[[\"Date\", \"Close\"]].to_dict(orient='records')  # Mengubah menjadi list of dicts\n",
    "\n",
    "        # Mengambil data keuangan dan metrik lainnya\n",
    "        income_statement = stock_data.financials\n",
    "        balance_sheet = stock_data.balance_sheet\n",
    "\n",
    "        net_income = income_statement.loc[\"Net Income\"].iloc[0] if \"Net Income\" in income_statement.index else None\n",
    "        total_assets = balance_sheet.loc[\"Total Assets\"].iloc[0] if \"Total Assets\" in balance_sheet.index else None\n",
    "        shareholders_equity = balance_sheet.loc['Stockholders Equity'].iloc[0] if 'Stockholders Equity' in balance_sheet.index else None\n",
    "\n",
    "        roa = net_income / total_assets if total_assets else None\n",
    "        roe = net_income / shareholders_equity if shareholders_equity else None\n",
    "\n",
    "        # Mengambil kapitalisasi pasar\n",
    "        market_cap = stock_data.info.get(\"marketCap\", None)\n",
    "        if stock =='MEDC.JK':\n",
    "            roa = 0.0510\n",
    "            roe = 0.2169\n",
    "        return {\n",
    "            \"Ticker\": stock,\n",
    "            \"ROA\": roa,\n",
    "            \"ROE\": roe,\n",
    "            \"Market Cap\": market_cap,\n",
    "            \"Mean Return\": mean_return,\n",
    "            \"Variance Return\": variance_return,\n",
    "            \"Closing Prices with Timestamps\": closing_prices_with_timestamps,\n",
    "        }\n",
    "    except Exception as e:\n",
    "        print(f\"Error fetching data for {stock}: {e}\")\n",
    "        return {\n",
    "            \"Ticker\": stock,\n",
    "            \"ROA\": None,\n",
    "            \"ROE\": None,\n",
    "            \"Market Cap\": None,\n",
    "            \"Mean Return\": None,\n",
    "            \"Variance Return\": None,\n",
    "            \"Closing Prices with Timestamps\": None,\n",
    "        }\n",
    "\n",
    "# Mengambil data untuk seluruh saham\n",
    "# results = [get_stock_data(stock) for stock in lq45_stocks]\n",
    "\n",
    "# # Membuat dataframe dari hasilnya\n",
    "# df = pd.DataFrame(results)\n",
    "\n",
    "# # Menampilkan hasil\n",
    "# print(df)\n"
   ]
  },
  {
   "cell_type": "code",
   "execution_count": 1855,
   "metadata": {},
   "outputs": [
    {
     "data": {
      "text/html": [
       "<div>\n",
       "<style scoped>\n",
       "    .dataframe tbody tr th:only-of-type {\n",
       "        vertical-align: middle;\n",
       "    }\n",
       "\n",
       "    .dataframe tbody tr th {\n",
       "        vertical-align: top;\n",
       "    }\n",
       "\n",
       "    .dataframe thead th {\n",
       "        text-align: right;\n",
       "    }\n",
       "</style>\n",
       "<table border=\"1\" class=\"dataframe\">\n",
       "  <thead>\n",
       "    <tr style=\"text-align: right;\">\n",
       "      <th></th>\n",
       "      <th>ROA</th>\n",
       "      <th>ROE</th>\n",
       "      <th>Market Cap</th>\n",
       "      <th>Mean Return</th>\n",
       "      <th>Variance Return</th>\n",
       "    </tr>\n",
       "    <tr>\n",
       "      <th>Ticker</th>\n",
       "      <th></th>\n",
       "      <th></th>\n",
       "      <th></th>\n",
       "      <th></th>\n",
       "      <th></th>\n",
       "    </tr>\n",
       "  </thead>\n",
       "  <tbody>\n",
       "    <tr>\n",
       "      <th>ACES.JK</th>\n",
       "      <td>0.098476</td>\n",
       "      <td>0.124282</td>\n",
       "      <td>13182707957760</td>\n",
       "      <td>0.000655</td>\n",
       "      <td>0.000534</td>\n",
       "    </tr>\n",
       "    <tr>\n",
       "      <th>ADMR.JK</th>\n",
       "      <td>0.260126</td>\n",
       "      <td>0.451713</td>\n",
       "      <td>53555809484800</td>\n",
       "      <td>0.000354</td>\n",
       "      <td>0.000646</td>\n",
       "    </tr>\n",
       "    <tr>\n",
       "      <th>ADRO.JK</th>\n",
       "      <td>0.156735</td>\n",
       "      <td>0.242362</td>\n",
       "      <td>71052591890432</td>\n",
       "      <td>0.002643</td>\n",
       "      <td>0.000822</td>\n",
       "    </tr>\n",
       "    <tr>\n",
       "      <th>AKRA.JK</th>\n",
       "      <td>0.091898</td>\n",
       "      <td>0.246865</td>\n",
       "      <td>25658361118720</td>\n",
       "      <td>0.000129</td>\n",
       "      <td>0.000345</td>\n",
       "    </tr>\n",
       "    <tr>\n",
       "      <th>AMMN.JK</th>\n",
       "      <td>0.027717</td>\n",
       "      <td>0.055417</td>\n",
       "      <td>683483982725120</td>\n",
       "      <td>0.001989</td>\n",
       "      <td>0.000777</td>\n",
       "    </tr>\n",
       "  </tbody>\n",
       "</table>\n",
       "</div>"
      ],
      "text/plain": [
       "              ROA       ROE       Market Cap  Mean Return  Variance Return\n",
       "Ticker                                                                    \n",
       "ACES.JK  0.098476  0.124282   13182707957760     0.000655         0.000534\n",
       "ADMR.JK  0.260126  0.451713   53555809484800     0.000354         0.000646\n",
       "ADRO.JK  0.156735  0.242362   71052591890432     0.002643         0.000822\n",
       "AKRA.JK  0.091898  0.246865   25658361118720     0.000129         0.000345\n",
       "AMMN.JK  0.027717  0.055417  683483982725120     0.001989         0.000777"
      ]
     },
     "execution_count": 1855,
     "metadata": {},
     "output_type": "execute_result"
    }
   ],
   "source": [
    "data = pd.read_csv(\"New_Data Saham dan Finansial LQ45.csv\")\n",
    "# data = df.copy()\n",
    "data.set_index(\"Ticker\", inplace=True)\n",
    "data.drop(['Closing Prices with Timestamps'], axis = 1, inplace = True)\n",
    "data.head()"
   ]
  },
  {
   "cell_type": "code",
   "execution_count": 1856,
   "metadata": {},
   "outputs": [],
   "source": [
    "scaler = StandardScaler()\n",
    "df_scaled1 = pd.DataFrame(scaler.fit_transform(data), columns = scaler.get_feature_names_out(), index = data.index)\n",
    "df_scaled = df_scaled1.drop(['ROA'], axis = 1)"
   ]
  },
  {
   "cell_type": "markdown",
   "metadata": {},
   "source": [
    "7746, 7523\n",
    "\n",
    "rand 5098 bagus kalo 252"
   ]
  },
  {
   "cell_type": "code",
   "execution_count": 1857,
   "metadata": {},
   "outputs": [
    {
     "name": "stdout",
     "output_type": "stream",
     "text": [
      "2335\n"
     ]
    }
   ],
   "source": [
    "rnd = np.random.randint(0, 10000)\n",
    "print(rnd)"
   ]
  },
  {
   "cell_type": "code",
   "execution_count": 1858,
   "metadata": {},
   "outputs": [
    {
     "data": {
      "image/png": "[encoded data removed]",
      "text/plain": [
       "<Figure size 640x480 with 1 Axes>"
      ]
     },
     "metadata": {},
     "output_type": "display_data"
    }
   ],
   "source": [
    "wcss = []\n",
    "\n",
    "# Specify the range of cluster numbers to try\n",
    "num_clusters_range = range(2, 11)\n",
    "\n",
    "# Perform K-Means clustering for different numbers of clusters\n",
    "for num_clusters in num_clusters_range:\n",
    "    kmeans = KMeans(n_clusters=num_clusters, random_state=rnd)\n",
    "    kmeans.fit(df_scaled)\n",
    "    wcss.append(kmeans.inertia_)\n",
    "\n",
    "# Plot the WCSS values against the number of clusters\n",
    "plt.plot(num_clusters_range, wcss, marker='o')\n",
    "plt.xlabel('Number of Clusters')\n",
    "plt.ylabel('WCSS')\n",
    "plt.title('Elbow Method')\n",
    "plt.show()"
   ]
  },
  {
   "cell_type": "code",
   "execution_count": 1859,
   "metadata": {},
   "outputs": [
    {
     "data": {
      "image/png": "[encoded data removed]",
      "text/plain": [
       "<Figure size 1000x600 with 1 Axes>"
      ]
     },
     "metadata": {},
     "output_type": "display_data"
    }
   ],
   "source": [
    "silhouette_scores = []\n",
    "cluster_range = range(2, 10)  # Ubah range ini sesuai kebutuhan Anda\n",
    "\n",
    "for n_clusters in cluster_range:\n",
    "    km_cluster = KMeans(n_clusters = n_clusters, random_state = rnd)\n",
    "    cluster_labels = km_cluster.fit_predict(df_scaled)\n",
    "    silhouette_avg = silhouette_score(df_scaled, cluster_labels)\n",
    "    silhouette_scores.append(silhouette_avg)\n",
    "\n",
    "# 4. Plot Silhouette Score\n",
    "plt.figure(figsize=(10, 6))\n",
    "plt.plot(cluster_range, silhouette_scores, marker='o')\n",
    "plt.title('Silhouette Score for different numbers of clusters')\n",
    "plt.xlabel('Number of clusters')\n",
    "plt.ylabel('Silhouette Score')\n",
    "plt.xticks(cluster_range)\n",
    "plt.grid(True)\n",
    "plt.show()"
   ]
  },
  {
   "cell_type": "code",
   "execution_count": 1860,
   "metadata": {},
   "outputs": [
    {
     "name": "stdout",
     "output_type": "stream",
     "text": [
      "Silhouette Score: 0.4329069355976914\n",
      "Davies-Bouldin Index: 1.2116538101524514\n",
      "Calinski-Harabasz Index: 14.8383282112269\n"
     ]
    }
   ],
   "source": [
    "\n",
    "kmeans_cluster = KMeans(n_clusters = 3,random_state=rnd)\n",
    "cluster_labels = kmeans_cluster.fit_predict(df_scaled)\n",
    "\n",
    "# 4. Calculate Evaluation Metrics\n",
    "silhouette_avg = silhouette_score(df_scaled, cluster_labels)\n",
    "davies_bouldin_avg = davies_bouldin_score(df_scaled, cluster_labels)\n",
    "calinski_harabasz_avg = calinski_harabasz_score(df_scaled, cluster_labels)\n",
    "\n",
    "print(f'Silhouette Score: {silhouette_avg}')\n",
    "print(f'Davies-Bouldin Index: {davies_bouldin_avg}')\n",
    "print(f'Calinski-Harabasz Index: {calinski_harabasz_avg}')\n",
    "\n",
    "# 5. Add cluster labels to the original DataFrame (optional)\n",
    "data['Cluster'] = cluster_labels"
   ]
  },
  {
   "cell_type": "code",
   "execution_count": 1861,
   "metadata": {},
   "outputs": [
    {
     "name": "stdout",
     "output_type": "stream",
     "text": [
      "              ROA       ROE       Market Cap  Mean Return  Variance Return  \\\n",
      "Ticker                                                                       \n",
      "PGAS.JK  0.042140  0.103040   38422777430016     0.002017         0.000332   \n",
      "AMMN.JK  0.027717  0.055417  683483982725120     0.001989         0.000777   \n",
      "BRIS.JK  0.016129  0.147235  137004020924416     0.002639         0.000720   \n",
      "\n",
      "         Cluster  sharpe_ratio  \n",
      "Ticker                          \n",
      "PGAS.JK        0      0.097624  \n",
      "AMMN.JK        1      0.062818  \n",
      "BRIS.JK        2      0.089507  \n"
     ]
    }
   ],
   "source": [
    "# Risk-free rate (contoh: 6% per tahun, diubah ke harian)\n",
    "risk_free_rate = 0.06 / 252\n",
    "\n",
    "# Hitung Sharpe Ratio\n",
    "data['sharpe_ratio'] = (data['Mean Return'] - risk_free_rate) / np.sqrt(data['Variance Return'])\n",
    "\n",
    "# Ambil saham terbaik dari setiap cluster\n",
    "best_stocks = data.loc[data.groupby('Cluster')['sharpe_ratio'].idxmax()]\n",
    "\n",
    "print(best_stocks)"
   ]
  },
  {
   "cell_type": "markdown",
   "metadata": {},
   "source": [
    "# Cluster Analysis"
   ]
  },
  {
   "cell_type": "code",
   "execution_count": 1862,
   "metadata": {},
   "outputs": [
    {
     "data": {
      "text/html": [
       "        <script type=\"text/javascript\">\n",
       "        window.PlotlyConfig = {MathJaxConfig: 'local'};\n",
       "        if (window.MathJax && window.MathJax.Hub && window.MathJax.Hub.Config) {window.MathJax.Hub.Config({SVG: {font: \"STIX-Web\"}});}\n",
       "        if (typeof require !== 'undefined') {\n",
       "        require.undef(\"plotly\");\n",
       "        requirejs.config({\n",
       "            paths: {\n",
       "                'plotly': ['https://cdn.plot.ly/plotly-2.30.0.min']\n",
       "            }\n",
       "        });\n",
       "        require(['plotly'], function(Plotly) {\n",
       "            window._Plotly = Plotly;\n",
       "        });\n",
       "        }\n",
       "        </script>\n",
       "        "
      ]
     },
     "metadata": {},
     "output_type": "display_data"
    }
   ],
   "source": [
    "from sklearn.metrics import silhouette_score, calinski_harabasz_score, davies_bouldin_score\n",
    "from sklearn.cluster import AgglomerativeClustering, KMeans, DBSCAN, MeanShift\n",
    "from sklearn.mixture import GaussianMixture\n",
    "from scipy.cluster.hierarchy import dendrogram, linkage\n",
    "from sklearn.decomposition import PCA\n",
    "\n",
    "from plotly.offline import init_notebook_mode, iplot\n",
    "init_notebook_mode(connected=True)\n",
    "import plotly.graph_objs as go\n",
    "import plotly.express as px"
   ]
  },
  {
   "cell_type": "code",
   "execution_count": 1863,
   "metadata": {},
   "outputs": [
    {
     "data": {
      "text/html": [
       "<div>\n",
       "<style scoped>\n",
       "    .dataframe tbody tr th:only-of-type {\n",
       "        vertical-align: middle;\n",
       "    }\n",
       "\n",
       "    .dataframe tbody tr th {\n",
       "        vertical-align: top;\n",
       "    }\n",
       "\n",
       "    .dataframe thead th {\n",
       "        text-align: right;\n",
       "    }\n",
       "</style>\n",
       "<table border=\"1\" class=\"dataframe\">\n",
       "  <thead>\n",
       "    <tr style=\"text-align: right;\">\n",
       "      <th></th>\n",
       "      <th>ROE</th>\n",
       "      <th>Market Cap</th>\n",
       "      <th>Mean Return</th>\n",
       "      <th>Variance Return</th>\n",
       "    </tr>\n",
       "    <tr>\n",
       "      <th>Ticker</th>\n",
       "      <th></th>\n",
       "      <th></th>\n",
       "      <th></th>\n",
       "      <th></th>\n",
       "    </tr>\n",
       "  </thead>\n",
       "  <tbody>\n",
       "    <tr>\n",
       "      <th>ACES.JK</th>\n",
       "      <td>0.019841</td>\n",
       "      <td>-0.503589</td>\n",
       "      <td>0.412495</td>\n",
       "      <td>-0.015084</td>\n",
       "    </tr>\n",
       "    <tr>\n",
       "      <th>ADMR.JK</th>\n",
       "      <td>0.778213</td>\n",
       "      <td>-0.325757</td>\n",
       "      <td>0.133485</td>\n",
       "      <td>0.311211</td>\n",
       "    </tr>\n",
       "    <tr>\n",
       "      <th>ADRO.JK</th>\n",
       "      <td>0.293330</td>\n",
       "      <td>-0.248688</td>\n",
       "      <td>2.254371</td>\n",
       "      <td>0.823429</td>\n",
       "    </tr>\n",
       "    <tr>\n",
       "      <th>AKRA.JK</th>\n",
       "      <td>0.303760</td>\n",
       "      <td>-0.448638</td>\n",
       "      <td>-0.074903</td>\n",
       "      <td>-0.567337</td>\n",
       "    </tr>\n",
       "    <tr>\n",
       "      <th>AMMN.JK</th>\n",
       "      <td>-0.139658</td>\n",
       "      <td>2.448907</td>\n",
       "      <td>1.647973</td>\n",
       "      <td>0.691505</td>\n",
       "    </tr>\n",
       "  </tbody>\n",
       "</table>\n",
       "</div>"
      ],
      "text/plain": [
       "              ROE  Market Cap  Mean Return  Variance Return\n",
       "Ticker                                                     \n",
       "ACES.JK  0.019841   -0.503589     0.412495        -0.015084\n",
       "ADMR.JK  0.778213   -0.325757     0.133485         0.311211\n",
       "ADRO.JK  0.293330   -0.248688     2.254371         0.823429\n",
       "AKRA.JK  0.303760   -0.448638    -0.074903        -0.567337\n",
       "AMMN.JK -0.139658    2.448907     1.647973         0.691505"
      ]
     },
     "execution_count": 1863,
     "metadata": {},
     "output_type": "execute_result"
    }
   ],
   "source": [
    "df_final = df_scaled1.drop(['ROA'], axis = 1)\n",
    "df_final.head()"
   ]
  },
  {
   "cell_type": "markdown",
   "metadata": {},
   "source": [
    "# KMeans"
   ]
  },
  {
   "cell_type": "code",
   "execution_count": 1864,
   "metadata": {},
   "outputs": [
    {
     "name": "stdout",
     "output_type": "stream",
     "text": [
      "Clusters present: [0 1 2]\n",
      "Clusters sizes: [26 15  4] \n",
      "\n",
      "Silhouette Score: 0.1876610631591391\n",
      "Calinski-Harabasz Index: 11.726280359577002\n",
      "Davies-Bouldin Index: 1.2225726311316092\n",
      "              ROA       ROE       Market Cap  Mean Return  Variance Return  \\\n",
      "Ticker                                                                       \n",
      "ADMR.JK  0.260126  0.451713   53555809484800     0.000354         0.000646   \n",
      "PGAS.JK  0.042140  0.103040   38422777430016     0.002017         0.000332   \n",
      "AMMN.JK  0.027717  0.055417  683483982725120     0.001989         0.000777   \n",
      "\n",
      "         Cluster  sharpe_ratio  \n",
      "Ticker                          \n",
      "ADMR.JK        0      0.004564  \n",
      "PGAS.JK        1      0.097624  \n",
      "AMMN.JK        2      0.062818  \n",
      "cluster\n",
      "0    26\n",
      "1    15\n",
      "2     4\n",
      "Name: count, dtype: int64\n"
     ]
    },
    {
     "data": {
      "text/html": [
       "<div>\n",
       "<style scoped>\n",
       "    .dataframe tbody tr th:only-of-type {\n",
       "        vertical-align: middle;\n",
       "    }\n",
       "\n",
       "    .dataframe tbody tr th {\n",
       "        vertical-align: top;\n",
       "    }\n",
       "\n",
       "    .dataframe thead th {\n",
       "        text-align: right;\n",
       "    }\n",
       "</style>\n",
       "<table border=\"1\" class=\"dataframe\">\n",
       "  <thead>\n",
       "    <tr style=\"text-align: right;\">\n",
       "      <th></th>\n",
       "      <th>ROE</th>\n",
       "      <th>Market Cap</th>\n",
       "      <th>Mean Return</th>\n",
       "      <th>Variance Return</th>\n",
       "      <th>cluster</th>\n",
       "    </tr>\n",
       "    <tr>\n",
       "      <th>Ticker</th>\n",
       "      <th></th>\n",
       "      <th></th>\n",
       "      <th></th>\n",
       "      <th></th>\n",
       "      <th></th>\n",
       "    </tr>\n",
       "  </thead>\n",
       "  <tbody>\n",
       "    <tr>\n",
       "      <th>ACES.JK</th>\n",
       "      <td>0.019841</td>\n",
       "      <td>-0.503589</td>\n",
       "      <td>0.412495</td>\n",
       "      <td>-0.015084</td>\n",
       "      <td>1</td>\n",
       "    </tr>\n",
       "    <tr>\n",
       "      <th>ADMR.JK</th>\n",
       "      <td>0.778213</td>\n",
       "      <td>-0.325757</td>\n",
       "      <td>0.133485</td>\n",
       "      <td>0.311211</td>\n",
       "      <td>0</td>\n",
       "    </tr>\n",
       "    <tr>\n",
       "      <th>ADRO.JK</th>\n",
       "      <td>0.293330</td>\n",
       "      <td>-0.248688</td>\n",
       "      <td>2.254371</td>\n",
       "      <td>0.823429</td>\n",
       "      <td>1</td>\n",
       "    </tr>\n",
       "    <tr>\n",
       "      <th>AKRA.JK</th>\n",
       "      <td>0.303760</td>\n",
       "      <td>-0.448638</td>\n",
       "      <td>-0.074903</td>\n",
       "      <td>-0.567337</td>\n",
       "      <td>0</td>\n",
       "    </tr>\n",
       "    <tr>\n",
       "      <th>AMMN.JK</th>\n",
       "      <td>-0.139658</td>\n",
       "      <td>2.448907</td>\n",
       "      <td>1.647973</td>\n",
       "      <td>0.691505</td>\n",
       "      <td>2</td>\n",
       "    </tr>\n",
       "  </tbody>\n",
       "</table>\n",
       "</div>"
      ],
      "text/plain": [
       "              ROE  Market Cap  Mean Return  Variance Return  cluster\n",
       "Ticker                                                              \n",
       "ACES.JK  0.019841   -0.503589     0.412495        -0.015084        1\n",
       "ADMR.JK  0.778213   -0.325757     0.133485         0.311211        0\n",
       "ADRO.JK  0.293330   -0.248688     2.254371         0.823429        1\n",
       "AKRA.JK  0.303760   -0.448638    -0.074903        -0.567337        0\n",
       "AMMN.JK -0.139658    2.448907     1.647973         0.691505        2"
      ]
     },
     "execution_count": 1864,
     "metadata": {},
     "output_type": "execute_result"
    }
   ],
   "source": [
    "# Opsional: Tuning parameter eps dan min_samples\n",
    "df_kme = df_final.copy()\n",
    "\n",
    "# GMM\n",
    "kmeans = KMeans(n_clusters = 3, random_state = 7523)\n",
    "kmeans.fit(df_kme)\n",
    "labelg = kmeans.predict(df_kme)\n",
    "\n",
    "unique_labels = np.unique(labelg)\n",
    "n_clusters_formed = len(unique_labels)\n",
    "print(f'Clusters present: {unique_labels}')\n",
    "print(f'Clusters sizes: {np.bincount(labelg)}', '\\n')\n",
    "print(f'Silhouette Score: {silhouette_score(df_kme, labelg)}')\n",
    "print(f'Calinski-Harabasz Index: {calinski_harabasz_score(df_kme, labelg)}')\n",
    "print(f'Davies-Bouldin Index: {davies_bouldin_score(df_kme, labelg)}')\n",
    "\n",
    "df_kme['cluster'] = labelg\n",
    "data['Cluster'] = labelg\n",
    "\n",
    "# Risk-free rate (contoh: 6% per tahun, diubah ke harian)\n",
    "risk_free_rate = 0.06 / 252\n",
    "\n",
    "# Hitung Sharpe Ratio\n",
    "data['sharpe_ratio'] = (data['Mean Return'] - risk_free_rate) / np.sqrt(data['Variance Return'])\n",
    "\n",
    "# Ambil saham terbaik dari setiap cluster\n",
    "best_stocks = data.loc[data.groupby('Cluster')['sharpe_ratio'].idxmax()]\n",
    "\n",
    "print(best_stocks)\n",
    "\n",
    "\n",
    "print(df_kme.cluster.value_counts())\n",
    "df_kme.head()"
   ]
  },
  {
   "cell_type": "code",
   "execution_count": 1865,
   "metadata": {},
   "outputs": [
    {
     "name": "stdout",
     "output_type": "stream",
     "text": [
      "64.99822785009573 %\n"
     ]
    },
    {
     "data": {
      "text/plain": [
       "<Axes: xlabel='PC_1', ylabel='PC_2'>"
      ]
     },
     "execution_count": 1865,
     "metadata": {},
     "output_type": "execute_result"
    },
    {
     "data": {
      "image/png": "[encoded data removed]",
      "text/plain": [
       "<Figure size 1000x800 with 1 Axes>"
      ]
     },
     "metadata": {},
     "output_type": "display_data"
    }
   ],
   "source": [
    "# Gunakan Dimensionality Reduction dengan PCA untuk mempermudah melakukan visualisasi\n",
    "\n",
    "pca = PCA(n_components = 2)\n",
    "df_pca2 = pd.DataFrame(pca.fit_transform(df_kme.iloc[:,:-1]),\n",
    "                      columns = ['PC_1', 'PC_2'],\n",
    "                      index = df_kme.index)\n",
    "\n",
    "df_pca2 = pd.concat([df_pca2, df_kme.cluster], axis = 1)\n",
    "# df_pca1.head()\n",
    "\n",
    "print(np.sum(pca.explained_variance_ratio_)*100, \"%\") # 2 Dimensi dapat menjelaskan keseluruhan fitur\n",
    "fig = plt.figure(figsize=(10, 8))\n",
    "ax = fig.add_subplot()\n",
    "sns.scatterplot(data = df_pca2, x = 'PC_1', y = 'PC_2', hue = 'cluster', s = 300, ax = ax)"
   ]
  },
  {
   "cell_type": "markdown",
   "metadata": {},
   "source": [
    "**3D**"
   ]
  },
  {
   "cell_type": "code",
   "execution_count": 1866,
   "metadata": {},
   "outputs": [],
   "source": [
    "# Gunakan Dimensionality Reduction dengan PCA untuk mempermudah melakukan visualisasi\n",
    "\n",
    "pca = PCA(n_components = 3)\n",
    "df_pca_3 = pd.DataFrame(pca.fit_transform(df_kme.iloc[:,:-1]),\n",
    "                      columns = ['PC1', 'PC2', 'PC3'],\n",
    "                      index = df_kme.index)\n",
    "\n",
    "df_pca_3 = pd.concat([df_pca_3, df_kme.cluster], axis = 1)\n",
    "# df_pca1.head()"
   ]
  },
  {
   "cell_type": "code",
   "execution_count": 1867,
   "metadata": {},
   "outputs": [
    {
     "data": {
      "text/html": [
       "<div>\n",
       "<style scoped>\n",
       "    .dataframe tbody tr th:only-of-type {\n",
       "        vertical-align: middle;\n",
       "    }\n",
       "\n",
       "    .dataframe tbody tr th {\n",
       "        vertical-align: top;\n",
       "    }\n",
       "\n",
       "    .dataframe thead th {\n",
       "        text-align: right;\n",
       "    }\n",
       "</style>\n",
       "<table border=\"1\" class=\"dataframe\">\n",
       "  <thead>\n",
       "    <tr style=\"text-align: right;\">\n",
       "      <th></th>\n",
       "      <th>PC1</th>\n",
       "      <th>PC2</th>\n",
       "      <th>PC3</th>\n",
       "      <th>cluster</th>\n",
       "    </tr>\n",
       "    <tr>\n",
       "      <th>Ticker</th>\n",
       "      <th></th>\n",
       "      <th></th>\n",
       "      <th></th>\n",
       "      <th></th>\n",
       "    </tr>\n",
       "  </thead>\n",
       "  <tbody>\n",
       "    <tr>\n",
       "      <th>ACES.JK</th>\n",
       "      <td>0.081060</td>\n",
       "      <td>-0.011719</td>\n",
       "      <td>-0.645003</td>\n",
       "      <td>1</td>\n",
       "    </tr>\n",
       "    <tr>\n",
       "      <th>ADMR.JK</th>\n",
       "      <td>-0.185258</td>\n",
       "      <td>-0.358235</td>\n",
       "      <td>-0.417066</td>\n",
       "      <td>0</td>\n",
       "    </tr>\n",
       "    <tr>\n",
       "      <th>ADRO.JK</th>\n",
       "      <td>0.141843</td>\n",
       "      <td>1.422983</td>\n",
       "      <td>-1.696032</td>\n",
       "      <td>1</td>\n",
       "    </tr>\n",
       "    <tr>\n",
       "      <th>AKRA.JK</th>\n",
       "      <td>-0.427134</td>\n",
       "      <td>-0.481004</td>\n",
       "      <td>-0.351792</td>\n",
       "      <td>0</td>\n",
       "    </tr>\n",
       "    <tr>\n",
       "      <th>AMMN.JK</th>\n",
       "      <td>-0.467157</td>\n",
       "      <td>2.729693</td>\n",
       "      <td>0.706150</td>\n",
       "      <td>2</td>\n",
       "    </tr>\n",
       "  </tbody>\n",
       "</table>\n",
       "</div>"
      ],
      "text/plain": [
       "              PC1       PC2       PC3  cluster\n",
       "Ticker                                        \n",
       "ACES.JK  0.081060 -0.011719 -0.645003        1\n",
       "ADMR.JK -0.185258 -0.358235 -0.417066        0\n",
       "ADRO.JK  0.141843  1.422983 -1.696032        1\n",
       "AKRA.JK -0.427134 -0.481004 -0.351792        0\n",
       "AMMN.JK -0.467157  2.729693  0.706150        2"
      ]
     },
     "execution_count": 1867,
     "metadata": {},
     "output_type": "execute_result"
    }
   ],
   "source": [
    "df_pca_3.head()"
   ]
  },
  {
   "cell_type": "code",
   "execution_count": 1868,
   "metadata": {},
   "outputs": [
    {
     "data": {
      "application/vnd.plotly.v1+json": {
       "config": {
        "linkText": "Export to plot.ly",
        "plotlyServerURL": "https://plot.ly",
        "showLink": false
       },
       "data": [
        {
         "marker": {
          "color": "rgb(255,0,0)",
          "size": 10
         },
         "mode": "markers",
         "name": "Cluster 0",
         "type": "scatter3d",
         "x": [
          -0.18525825652605427,
          -0.4271340740506326,
          0.13030714369686827,
          1.5045139440342765,
          -0.7418751709590143,
          -0.49419540763137043,
          0.018968149110860543,
          2.93821905073355,
          1.584669919029207,
          -0.3631262193203064,
          5.479827318263787,
          0.36859441971425366,
          0.031241532996836737,
          -0.09977803441343884,
          -0.4236018626422731,
          -0.4574276737187548,
          0.5793298479203258,
          1.6233710264928392,
          0.8659918324211309,
          -0.21551684582422878,
          0.280266820620049,
          0.4452970454035946,
          0.157232212799845,
          -0.5777294754646933,
          -0.18840817686876213,
          -1.3849302713953369
         ],
         "y": [
          -0.35823533640000116,
          -0.4810037607247237,
          -0.3829119212765579,
          -0.13245843791592585,
          0.005199018838529775,
          -0.03011672516481929,
          -0.3224692129506533,
          -0.08504651807162589,
          -1.2572829374812218,
          -0.19006356806262506,
          2.1175788989868174,
          -0.7075669674527609,
          -0.6761829793138541,
          -1.1863010825131906,
          -0.6534506007896516,
          -0.6513651758015973,
          -0.5504302319827986,
          -0.10026279065324174,
          -0.687411298346918,
          -0.47010291209350813,
          -0.3626948087736142,
          -2.0297699007388994,
          -0.3062687331792185,
          -0.5891984290866435,
          -1.1158912202555562,
          -2.8071871788461022
         ],
         "z": [
          -0.4170664706460047,
          -0.3517923185786128,
          -0.1488345146010482,
          -0.006058282781436096,
          0.2551849191006112,
          0.21771347033481345,
          -0.346059802550973,
          0.5526742580521805,
          0.9445421862119874,
          -0.14153440432419312,
          1.0469239497120997,
          0.20864433506607108,
          0.14350974564056238,
          0.46957493660506927,
          -0.14910540748924614,
          0.1381449873176374,
          -0.04431252437326907,
          0.09979167623335393,
          0.4470062568183703,
          0.0071221778762792665,
          -0.09166234161490354,
          1.3787892052765784,
          -0.34739895314415914,
          1.206062198717991,
          0.37152281394843395,
          0.874296632268455
         ]
        },
        {
         "marker": {
          "color": "rgb(0,255,0)",
          "size": 10
         },
         "mode": "markers",
         "name": "Cluster 1",
         "type": "scatter3d",
         "x": [
          0.08105988478894355,
          0.14184333842681618,
          -0.7029228574907134,
          -0.020804391739309452,
          0.6288160697168086,
          -0.09427862172994805,
          -0.6659332011962683,
          -0.8304744400199092,
          -0.00005727088608046114,
          -0.9804397186264618,
          0.11538327076359779,
          -0.5152379706736481,
          -0.7628109122031622,
          -0.5568015900314076,
          -0.946808228317629
         ],
         "y": [
          -0.011719206750588488,
          1.422983002056485,
          -0.013767794819980455,
          1.6466857068289564,
          0.8621706901043256,
          0.014172800487777299,
          0.19932978941403465,
          0.29925834961114456,
          0.2014929545451939,
          0.1527428271606025,
          -0.03378384605668986,
          0.9177906386918604,
          0.2219924640208495,
          -0.33965989408554825,
          0.6265007763026612
         ],
         "z": [
          -0.6450029478156023,
          -1.696031567484351,
          -0.2320382781473737,
          -1.4720963918197256,
          -1.2946124253641356,
          -0.5450615997932673,
          -0.30901039920236073,
          -0.8036507228121961,
          -0.4775639020689848,
          -1.0381097911036727,
          -0.6122589113221135,
          -1.4508196752366878,
          -1.0603758046163323,
          -0.5840082612921811,
          -1.0399651715170941
         ]
        },
        {
         "marker": {
          "color": "rgb(0,0,255)",
          "size": 10
         },
         "mode": "markers",
         "name": "Cluster 2",
         "type": "scatter3d",
         "x": [
          -0.46715725226262667,
          -2.4921113132898585,
          -1.1789443839175935,
          -1.2011692057341097
         ],
         "y": [
          2.7296925678588675,
          3.106896414067732,
          0.6982601772984874,
          1.309856393314192
         ],
         "z": [
          0.7061503173081634,
          3.0728041154965915,
          2.084542615840946,
          1.079430071873729
         ]
        }
       ],
       "layout": {
        "margin": {
         "b": 0,
         "l": 0,
         "r": 0,
         "t": 0
        },
        "template": {
         "data": {
          "bar": [
           {
            "error_x": {
             "color": "#2a3f5f"
            },
            "error_y": {
             "color": "#2a3f5f"
            },
            "marker": {
             "line": {
              "color": "#E5ECF6",
              "width": 0.5
             },
             "pattern": {
              "fillmode": "overlay",
              "size": 10,
              "solidity": 0.2
             }
            },
            "type": "bar"
           }
          ],
          "barpolar": [
           {
            "marker": {
             "line": {
              "color": "#E5ECF6",
              "width": 0.5
             },
             "pattern": {
              "fillmode": "overlay",
              "size": 10,
              "solidity": 0.2
             }
            },
            "type": "barpolar"
           }
          ],
          "carpet": [
           {
            "aaxis": {
             "endlinecolor": "#2a3f5f",
             "gridcolor": "white",
             "linecolor": "white",
             "minorgridcolor": "white",
             "startlinecolor": "#2a3f5f"
            },
            "baxis": {
             "endlinecolor": "#2a3f5f",
             "gridcolor": "white",
             "linecolor": "white",
             "minorgridcolor": "white",
             "startlinecolor": "#2a3f5f"
            },
            "type": "carpet"
           }
          ],
          "choropleth": [
           {
            "colorbar": {
             "outlinewidth": 0,
             "ticks": ""
            },
            "type": "choropleth"
           }
          ],
          "contour": [
           {
            "colorbar": {
             "outlinewidth": 0,
             "ticks": ""
            },
            "colorscale": [
             [
              0,
              "#0d0887"
             ],
             [
              0.1111111111111111,
              "#46039f"
             ],
             [
              0.2222222222222222,
              "#7201a8"
             ],
             [
              0.3333333333333333,
              "#9c179e"
             ],
             [
              0.4444444444444444,
              "#bd3786"
             ],
             [
              0.5555555555555556,
              "#d8576b"
             ],
             [
              0.6666666666666666,
              "#ed7953"
             ],
             [
              0.7777777777777778,
              "#fb9f3a"
             ],
             [
              0.8888888888888888,
              "#fdca26"
             ],
             [
              1,
              "#f0f921"
             ]
            ],
            "type": "contour"
           }
          ],
          "contourcarpet": [
           {
            "colorbar": {
             "outlinewidth": 0,
             "ticks": ""
            },
            "type": "contourcarpet"
           }
          ],
          "heatmap": [
           {
            "colorbar": {
             "outlinewidth": 0,
             "ticks": ""
            },
            "colorscale": [
             [
              0,
              "#0d0887"
             ],
             [
              0.1111111111111111,
              "#46039f"
             ],
             [
              0.2222222222222222,
              "#7201a8"
             ],
             [
              0.3333333333333333,
              "#9c179e"
             ],
             [
              0.4444444444444444,
              "#bd3786"
             ],
             [
              0.5555555555555556,
              "#d8576b"
             ],
             [
              0.6666666666666666,
              "#ed7953"
             ],
             [
              0.7777777777777778,
              "#fb9f3a"
             ],
             [
              0.8888888888888888,
              "#fdca26"
             ],
             [
              1,
              "#f0f921"
             ]
            ],
            "type": "heatmap"
           }
          ],
          "heatmapgl": [
           {
            "colorbar": {
             "outlinewidth": 0,
             "ticks": ""
            },
            "colorscale": [
             [
              0,
              "#0d0887"
             ],
             [
              0.1111111111111111,
              "#46039f"
             ],
             [
              0.2222222222222222,
              "#7201a8"
             ],
             [
              0.3333333333333333,
              "#9c179e"
             ],
             [
              0.4444444444444444,
              "#bd3786"
             ],
             [
              0.5555555555555556,
              "#d8576b"
             ],
             [
              0.6666666666666666,
              "#ed7953"
             ],
             [
              0.7777777777777778,
              "#fb9f3a"
             ],
             [
              0.8888888888888888,
              "#fdca26"
             ],
             [
              1,
              "#f0f921"
             ]
            ],
            "type": "heatmapgl"
           }
          ],
          "histogram": [
           {
            "marker": {
             "pattern": {
              "fillmode": "overlay",
              "size": 10,
              "solidity": 0.2
             }
            },
            "type": "histogram"
           }
          ],
          "histogram2d": [
           {
            "colorbar": {
             "outlinewidth": 0,
             "ticks": ""
            },
            "colorscale": [
             [
              0,
              "#0d0887"
             ],
             [
              0.1111111111111111,
              "#46039f"
             ],
             [
              0.2222222222222222,
              "#7201a8"
             ],
             [
              0.3333333333333333,
              "#9c179e"
             ],
             [
              0.4444444444444444,
              "#bd3786"
             ],
             [
              0.5555555555555556,
              "#d8576b"
             ],
             [
              0.6666666666666666,
              "#ed7953"
             ],
             [
              0.7777777777777778,
              "#fb9f3a"
             ],
             [
              0.8888888888888888,
              "#fdca26"
             ],
             [
              1,
              "#f0f921"
             ]
            ],
            "type": "histogram2d"
           }
          ],
          "histogram2dcontour": [
           {
            "colorbar": {
             "outlinewidth": 0,
             "ticks": ""
            },
            "colorscale": [
             [
              0,
              "#0d0887"
             ],
             [
              0.1111111111111111,
              "#46039f"
             ],
             [
              0.2222222222222222,
              "#7201a8"
             ],
             [
              0.3333333333333333,
              "#9c179e"
             ],
             [
              0.4444444444444444,
              "#bd3786"
             ],
             [
              0.5555555555555556,
              "#d8576b"
             ],
             [
              0.6666666666666666,
              "#ed7953"
             ],
             [
              0.7777777777777778,
              "#fb9f3a"
             ],
             [
              0.8888888888888888,
              "#fdca26"
             ],
             [
              1,
              "#f0f921"
             ]
            ],
            "type": "histogram2dcontour"
           }
          ],
          "mesh3d": [
           {
            "colorbar": {
             "outlinewidth": 0,
             "ticks": ""
            },
            "type": "mesh3d"
           }
          ],
          "parcoords": [
           {
            "line": {
             "colorbar": {
              "outlinewidth": 0,
              "ticks": ""
             }
            },
            "type": "parcoords"
           }
          ],
          "pie": [
           {
            "automargin": true,
            "type": "pie"
           }
          ],
          "scatter": [
           {
            "fillpattern": {
             "fillmode": "overlay",
             "size": 10,
             "solidity": 0.2
            },
            "type": "scatter"
           }
          ],
          "scatter3d": [
           {
            "line": {
             "colorbar": {
              "outlinewidth": 0,
              "ticks": ""
             }
            },
            "marker": {
             "colorbar": {
              "outlinewidth": 0,
              "ticks": ""
             }
            },
            "type": "scatter3d"
           }
          ],
          "scattercarpet": [
           {
            "marker": {
             "colorbar": {
              "outlinewidth": 0,
              "ticks": ""
             }
            },
            "type": "scattercarpet"
           }
          ],
          "scattergeo": [
           {
            "marker": {
             "colorbar": {
              "outlinewidth": 0,
              "ticks": ""
             }
            },
            "type": "scattergeo"
           }
          ],
          "scattergl": [
           {
            "marker": {
             "colorbar": {
              "outlinewidth": 0,
              "ticks": ""
             }
            },
            "type": "scattergl"
           }
          ],
          "scattermapbox": [
           {
            "marker": {
             "colorbar": {
              "outlinewidth": 0,
              "ticks": ""
             }
            },
            "type": "scattermapbox"
           }
          ],
          "scatterpolar": [
           {
            "marker": {
             "colorbar": {
              "outlinewidth": 0,
              "ticks": ""
             }
            },
            "type": "scatterpolar"
           }
          ],
          "scatterpolargl": [
           {
            "marker": {
             "colorbar": {
              "outlinewidth": 0,
              "ticks": ""
             }
            },
            "type": "scatterpolargl"
           }
          ],
          "scatterternary": [
           {
            "marker": {
             "colorbar": {
              "outlinewidth": 0,
              "ticks": ""
             }
            },
            "type": "scatterternary"
           }
          ],
          "surface": [
           {
            "colorbar": {
             "outlinewidth": 0,
             "ticks": ""
            },
            "colorscale": [
             [
              0,
              "#0d0887"
             ],
             [
              0.1111111111111111,
              "#46039f"
             ],
             [
              0.2222222222222222,
              "#7201a8"
             ],
             [
              0.3333333333333333,
              "#9c179e"
             ],
             [
              0.4444444444444444,
              "#bd3786"
             ],
             [
              0.5555555555555556,
              "#d8576b"
             ],
             [
              0.6666666666666666,
              "#ed7953"
             ],
             [
              0.7777777777777778,
              "#fb9f3a"
             ],
             [
              0.8888888888888888,
              "#fdca26"
             ],
             [
              1,
              "#f0f921"
             ]
            ],
            "type": "surface"
           }
          ],
          "table": [
           {
            "cells": {
             "fill": {
              "color": "#EBF0F8"
             },
             "line": {
              "color": "white"
             }
            },
            "header": {
             "fill": {
              "color": "#C8D4E3"
             },
             "line": {
              "color": "white"
             }
            },
            "type": "table"
           }
          ]
         },
         "layout": {
          "annotationdefaults": {
           "arrowcolor": "#2a3f5f",
           "arrowhead": 0,
           "arrowwidth": 1
          },
          "autotypenumbers": "strict",
          "coloraxis": {
           "colorbar": {
            "outlinewidth": 0,
            "ticks": ""
           }
          },
          "colorscale": {
           "diverging": [
            [
             0,
             "#8e0152"
            ],
            [
             0.1,
             "#c51b7d"
            ],
            [
             0.2,
             "#de77ae"
            ],
            [
             0.3,
             "#f1b6da"
            ],
            [
             0.4,
             "#fde0ef"
            ],
            [
             0.5,
             "#f7f7f7"
            ],
            [
             0.6,
             "#e6f5d0"
            ],
            [
             0.7,
             "#b8e186"
            ],
            [
             0.8,
             "#7fbc41"
            ],
            [
             0.9,
             "#4d9221"
            ],
            [
             1,
             "#276419"
            ]
           ],
           "sequential": [
            [
             0,
             "#0d0887"
            ],
            [
             0.1111111111111111,
             "#46039f"
            ],
            [
             0.2222222222222222,
             "#7201a8"
            ],
            [
             0.3333333333333333,
             "#9c179e"
            ],
            [
             0.4444444444444444,
             "#bd3786"
            ],
            [
             0.5555555555555556,
             "#d8576b"
            ],
            [
             0.6666666666666666,
             "#ed7953"
            ],
            [
             0.7777777777777778,
             "#fb9f3a"
            ],
            [
             0.8888888888888888,
             "#fdca26"
            ],
            [
             1,
             "#f0f921"
            ]
           ],
           "sequentialminus": [
            [
             0,
             "#0d0887"
            ],
            [
             0.1111111111111111,
             "#46039f"
            ],
            [
             0.2222222222222222,
             "#7201a8"
            ],
            [
             0.3333333333333333,
             "#9c179e"
            ],
            [
             0.4444444444444444,
             "#bd3786"
            ],
            [
             0.5555555555555556,
             "#d8576b"
            ],
            [
             0.6666666666666666,
             "#ed7953"
            ],
            [
             0.7777777777777778,
             "#fb9f3a"
            ],
            [
             0.8888888888888888,
             "#fdca26"
            ],
            [
             1,
             "#f0f921"
            ]
           ]
          },
          "colorway": [
           "#636efa",
           "#EF553B",
           "#00cc96",
           "#ab63fa",
           "#FFA15A",
           "#19d3f3",
           "#FF6692",
           "#B6E880",
           "#FF97FF",
           "#FECB52"
          ],
          "font": {
           "color": "#2a3f5f"
          },
          "geo": {
           "bgcolor": "white",
           "lakecolor": "white",
           "landcolor": "#E5ECF6",
           "showlakes": true,
           "showland": true,
           "subunitcolor": "white"
          },
          "hoverlabel": {
           "align": "left"
          },
          "hovermode": "closest",
          "mapbox": {
           "style": "light"
          },
          "paper_bgcolor": "white",
          "plot_bgcolor": "#E5ECF6",
          "polar": {
           "angularaxis": {
            "gridcolor": "white",
            "linecolor": "white",
            "ticks": ""
           },
           "bgcolor": "#E5ECF6",
           "radialaxis": {
            "gridcolor": "white",
            "linecolor": "white",
            "ticks": ""
           }
          },
          "scene": {
           "xaxis": {
            "backgroundcolor": "#E5ECF6",
            "gridcolor": "white",
            "gridwidth": 2,
            "linecolor": "white",
            "showbackground": true,
            "ticks": "",
            "zerolinecolor": "white"
           },
           "yaxis": {
            "backgroundcolor": "#E5ECF6",
            "gridcolor": "white",
            "gridwidth": 2,
            "linecolor": "white",
            "showbackground": true,
            "ticks": "",
            "zerolinecolor": "white"
           },
           "zaxis": {
            "backgroundcolor": "#E5ECF6",
            "gridcolor": "white",
            "gridwidth": 2,
            "linecolor": "white",
            "showbackground": true,
            "ticks": "",
            "zerolinecolor": "white"
           }
          },
          "shapedefaults": {
           "line": {
            "color": "#2a3f5f"
           }
          },
          "ternary": {
           "aaxis": {
            "gridcolor": "white",
            "linecolor": "white",
            "ticks": ""
           },
           "baxis": {
            "gridcolor": "white",
            "linecolor": "white",
            "ticks": ""
           },
           "bgcolor": "#E5ECF6",
           "caxis": {
            "gridcolor": "white",
            "linecolor": "white",
            "ticks": ""
           }
          },
          "title": {
           "x": 0.05
          },
          "xaxis": {
           "automargin": true,
           "gridcolor": "white",
           "linecolor": "white",
           "ticks": "",
           "title": {
            "standoff": 15
           },
           "zerolinecolor": "white",
           "zerolinewidth": 2
          },
          "yaxis": {
           "automargin": true,
           "gridcolor": "white",
           "linecolor": "white",
           "ticks": "",
           "title": {
            "standoff": 15
           },
           "zerolinecolor": "white",
           "zerolinewidth": 2
          }
         }
        }
       }
      },
      "text/html": [
       "<div>                            <div id=\"b34a0b9c-017e-4672-a396-b87e6dcb5565\" class=\"plotly-graph-div\" style=\"height:525px; width:100%;\"></div>            <script type=\"text/javascript\">                require([\"plotly\"], function(Plotly) {                    window.PLOTLYENV=window.PLOTLYENV || {};                                    if (document.getElementById(\"b34a0b9c-017e-4672-a396-b87e6dcb5565\")) {                    Plotly.newPlot(                        \"b34a0b9c-017e-4672-a396-b87e6dcb5565\",                        [{\"marker\":{\"color\":\"rgb(255,0,0)\",\"size\":10},\"mode\":\"markers\",\"name\":\"Cluster 0\",\"x\":[-0.18525825652605427,-0.4271340740506326,0.13030714369686827,1.5045139440342765,-0.7418751709590143,-0.49419540763137043,0.018968149110860543,2.93821905073355,1.584669919029207,-0.3631262193203064,5.479827318263787,0.36859441971425366,0.031241532996836737,-0.09977803441343884,-0.4236018626422731,-0.4574276737187548,0.5793298479203258,1.6233710264928392,0.8659918324211309,-0.21551684582422878,0.280266820620049,0.4452970454035946,0.157232212799845,-0.5777294754646933,-0.18840817686876213,-1.3849302713953369],\"y\":[-0.35823533640000116,-0.4810037607247237,-0.3829119212765579,-0.13245843791592585,0.005199018838529775,-0.03011672516481929,-0.3224692129506533,-0.08504651807162589,-1.2572829374812218,-0.19006356806262506,2.1175788989868174,-0.7075669674527609,-0.6761829793138541,-1.1863010825131906,-0.6534506007896516,-0.6513651758015973,-0.5504302319827986,-0.10026279065324174,-0.687411298346918,-0.47010291209350813,-0.3626948087736142,-2.0297699007388994,-0.3062687331792185,-0.5891984290866435,-1.1158912202555562,-2.8071871788461022],\"z\":[-0.4170664706460047,-0.3517923185786128,-0.1488345146010482,-0.006058282781436096,0.2551849191006112,0.21771347033481345,-0.346059802550973,0.5526742580521805,0.9445421862119874,-0.14153440432419312,1.0469239497120997,0.20864433506607108,0.14350974564056238,0.46957493660506927,-0.14910540748924614,0.1381449873176374,-0.04431252437326907,0.09979167623335393,0.4470062568183703,0.0071221778762792665,-0.09166234161490354,1.3787892052765784,-0.34739895314415914,1.206062198717991,0.37152281394843395,0.874296632268455],\"type\":\"scatter3d\"},{\"marker\":{\"color\":\"rgb(0,255,0)\",\"size\":10},\"mode\":\"markers\",\"name\":\"Cluster 1\",\"x\":[0.08105988478894355,0.14184333842681618,-0.7029228574907134,-0.020804391739309452,0.6288160697168086,-0.09427862172994805,-0.6659332011962683,-0.8304744400199092,-5.727088608046114e-05,-0.9804397186264618,0.11538327076359779,-0.5152379706736481,-0.7628109122031622,-0.5568015900314076,-0.946808228317629],\"y\":[-0.011719206750588488,1.422983002056485,-0.013767794819980455,1.6466857068289564,0.8621706901043256,0.014172800487777299,0.19932978941403465,0.29925834961114456,0.2014929545451939,0.1527428271606025,-0.03378384605668986,0.9177906386918604,0.2219924640208495,-0.33965989408554825,0.6265007763026612],\"z\":[-0.6450029478156023,-1.696031567484351,-0.2320382781473737,-1.4720963918197256,-1.2946124253641356,-0.5450615997932673,-0.30901039920236073,-0.8036507228121961,-0.4775639020689848,-1.0381097911036727,-0.6122589113221135,-1.4508196752366878,-1.0603758046163323,-0.5840082612921811,-1.0399651715170941],\"type\":\"scatter3d\"},{\"marker\":{\"color\":\"rgb(0,0,255)\",\"size\":10},\"mode\":\"markers\",\"name\":\"Cluster 2\",\"x\":[-0.46715725226262667,-2.4921113132898585,-1.1789443839175935,-1.2011692057341097],\"y\":[2.7296925678588675,3.106896414067732,0.6982601772984874,1.309856393314192],\"z\":[0.7061503173081634,3.0728041154965915,2.084542615840946,1.079430071873729],\"type\":\"scatter3d\"}],                        {\"margin\":{\"b\":0,\"l\":0,\"r\":0,\"t\":0},\"template\":{\"data\":{\"barpolar\":[{\"marker\":{\"line\":{\"color\":\"#E5ECF6\",\"width\":0.5},\"pattern\":{\"fillmode\":\"overlay\",\"size\":10,\"solidity\":0.2}},\"type\":\"barpolar\"}],\"bar\":[{\"error_x\":{\"color\":\"#2a3f5f\"},\"error_y\":{\"color\":\"#2a3f5f\"},\"marker\":{\"line\":{\"color\":\"#E5ECF6\",\"width\":0.5},\"pattern\":{\"fillmode\":\"overlay\",\"size\":10,\"solidity\":0.2}},\"type\":\"bar\"}],\"carpet\":[{\"aaxis\":{\"endlinecolor\":\"#2a3f5f\",\"gridcolor\":\"white\",\"linecolor\":\"white\",\"minorgridcolor\":\"white\",\"startlinecolor\":\"#2a3f5f\"},\"baxis\":{\"endlinecolor\":\"#2a3f5f\",\"gridcolor\":\"white\",\"linecolor\":\"white\",\"minorgridcolor\":\"white\",\"startlinecolor\":\"#2a3f5f\"},\"type\":\"carpet\"}],\"choropleth\":[{\"colorbar\":{\"outlinewidth\":0,\"ticks\":\"\"},\"type\":\"choropleth\"}],\"contourcarpet\":[{\"colorbar\":{\"outlinewidth\":0,\"ticks\":\"\"},\"type\":\"contourcarpet\"}],\"contour\":[{\"colorbar\":{\"outlinewidth\":0,\"ticks\":\"\"},\"colorscale\":[[0.0,\"#0d0887\"],[0.1111111111111111,\"#46039f\"],[0.2222222222222222,\"#7201a8\"],[0.3333333333333333,\"#9c179e\"],[0.4444444444444444,\"#bd3786\"],[0.5555555555555556,\"#d8576b\"],[0.6666666666666666,\"#ed7953\"],[0.7777777777777778,\"#fb9f3a\"],[0.8888888888888888,\"#fdca26\"],[1.0,\"#f0f921\"]],\"type\":\"contour\"}],\"heatmapgl\":[{\"colorbar\":{\"outlinewidth\":0,\"ticks\":\"\"},\"colorscale\":[[0.0,\"#0d0887\"],[0.1111111111111111,\"#46039f\"],[0.2222222222222222,\"#7201a8\"],[0.3333333333333333,\"#9c179e\"],[0.4444444444444444,\"#bd3786\"],[0.5555555555555556,\"#d8576b\"],[0.6666666666666666,\"#ed7953\"],[0.7777777777777778,\"#fb9f3a\"],[0.8888888888888888,\"#fdca26\"],[1.0,\"#f0f921\"]],\"type\":\"heatmapgl\"}],\"heatmap\":[{\"colorbar\":{\"outlinewidth\":0,\"ticks\":\"\"},\"colorscale\":[[0.0,\"#0d0887\"],[0.1111111111111111,\"#46039f\"],[0.2222222222222222,\"#7201a8\"],[0.3333333333333333,\"#9c179e\"],[0.4444444444444444,\"#bd3786\"],[0.5555555555555556,\"#d8576b\"],[0.6666666666666666,\"#ed7953\"],[0.7777777777777778,\"#fb9f3a\"],[0.8888888888888888,\"#fdca26\"],[1.0,\"#f0f921\"]],\"type\":\"heatmap\"}],\"histogram2dcontour\":[{\"colorbar\":{\"outlinewidth\":0,\"ticks\":\"\"},\"colorscale\":[[0.0,\"#0d0887\"],[0.1111111111111111,\"#46039f\"],[0.2222222222222222,\"#7201a8\"],[0.3333333333333333,\"#9c179e\"],[0.4444444444444444,\"#bd3786\"],[0.5555555555555556,\"#d8576b\"],[0.6666666666666666,\"#ed7953\"],[0.7777777777777778,\"#fb9f3a\"],[0.8888888888888888,\"#fdca26\"],[1.0,\"#f0f921\"]],\"type\":\"histogram2dcontour\"}],\"histogram2d\":[{\"colorbar\":{\"outlinewidth\":0,\"ticks\":\"\"},\"colorscale\":[[0.0,\"#0d0887\"],[0.1111111111111111,\"#46039f\"],[0.2222222222222222,\"#7201a8\"],[0.3333333333333333,\"#9c179e\"],[0.4444444444444444,\"#bd3786\"],[0.5555555555555556,\"#d8576b\"],[0.6666666666666666,\"#ed7953\"],[0.7777777777777778,\"#fb9f3a\"],[0.8888888888888888,\"#fdca26\"],[1.0,\"#f0f921\"]],\"type\":\"histogram2d\"}],\"histogram\":[{\"marker\":{\"pattern\":{\"fillmode\":\"overlay\",\"size\":10,\"solidity\":0.2}},\"type\":\"histogram\"}],\"mesh3d\":[{\"colorbar\":{\"outlinewidth\":0,\"ticks\":\"\"},\"type\":\"mesh3d\"}],\"parcoords\":[{\"line\":{\"colorbar\":{\"outlinewidth\":0,\"ticks\":\"\"}},\"type\":\"parcoords\"}],\"pie\":[{\"automargin\":true,\"type\":\"pie\"}],\"scatter3d\":[{\"line\":{\"colorbar\":{\"outlinewidth\":0,\"ticks\":\"\"}},\"marker\":{\"colorbar\":{\"outlinewidth\":0,\"ticks\":\"\"}},\"type\":\"scatter3d\"}],\"scattercarpet\":[{\"marker\":{\"colorbar\":{\"outlinewidth\":0,\"ticks\":\"\"}},\"type\":\"scattercarpet\"}],\"scattergeo\":[{\"marker\":{\"colorbar\":{\"outlinewidth\":0,\"ticks\":\"\"}},\"type\":\"scattergeo\"}],\"scattergl\":[{\"marker\":{\"colorbar\":{\"outlinewidth\":0,\"ticks\":\"\"}},\"type\":\"scattergl\"}],\"scattermapbox\":[{\"marker\":{\"colorbar\":{\"outlinewidth\":0,\"ticks\":\"\"}},\"type\":\"scattermapbox\"}],\"scatterpolargl\":[{\"marker\":{\"colorbar\":{\"outlinewidth\":0,\"ticks\":\"\"}},\"type\":\"scatterpolargl\"}],\"scatterpolar\":[{\"marker\":{\"colorbar\":{\"outlinewidth\":0,\"ticks\":\"\"}},\"type\":\"scatterpolar\"}],\"scatter\":[{\"fillpattern\":{\"fillmode\":\"overlay\",\"size\":10,\"solidity\":0.2},\"type\":\"scatter\"}],\"scatterternary\":[{\"marker\":{\"colorbar\":{\"outlinewidth\":0,\"ticks\":\"\"}},\"type\":\"scatterternary\"}],\"surface\":[{\"colorbar\":{\"outlinewidth\":0,\"ticks\":\"\"},\"colorscale\":[[0.0,\"#0d0887\"],[0.1111111111111111,\"#46039f\"],[0.2222222222222222,\"#7201a8\"],[0.3333333333333333,\"#9c179e\"],[0.4444444444444444,\"#bd3786\"],[0.5555555555555556,\"#d8576b\"],[0.6666666666666666,\"#ed7953\"],[0.7777777777777778,\"#fb9f3a\"],[0.8888888888888888,\"#fdca26\"],[1.0,\"#f0f921\"]],\"type\":\"surface\"}],\"table\":[{\"cells\":{\"fill\":{\"color\":\"#EBF0F8\"},\"line\":{\"color\":\"white\"}},\"header\":{\"fill\":{\"color\":\"#C8D4E3\"},\"line\":{\"color\":\"white\"}},\"type\":\"table\"}]},\"layout\":{\"annotationdefaults\":{\"arrowcolor\":\"#2a3f5f\",\"arrowhead\":0,\"arrowwidth\":1},\"autotypenumbers\":\"strict\",\"coloraxis\":{\"colorbar\":{\"outlinewidth\":0,\"ticks\":\"\"}},\"colorscale\":{\"diverging\":[[0,\"#8e0152\"],[0.1,\"#c51b7d\"],[0.2,\"#de77ae\"],[0.3,\"#f1b6da\"],[0.4,\"#fde0ef\"],[0.5,\"#f7f7f7\"],[0.6,\"#e6f5d0\"],[0.7,\"#b8e186\"],[0.8,\"#7fbc41\"],[0.9,\"#4d9221\"],[1,\"#276419\"]],\"sequential\":[[0.0,\"#0d0887\"],[0.1111111111111111,\"#46039f\"],[0.2222222222222222,\"#7201a8\"],[0.3333333333333333,\"#9c179e\"],[0.4444444444444444,\"#bd3786\"],[0.5555555555555556,\"#d8576b\"],[0.6666666666666666,\"#ed7953\"],[0.7777777777777778,\"#fb9f3a\"],[0.8888888888888888,\"#fdca26\"],[1.0,\"#f0f921\"]],\"sequentialminus\":[[0.0,\"#0d0887\"],[0.1111111111111111,\"#46039f\"],[0.2222222222222222,\"#7201a8\"],[0.3333333333333333,\"#9c179e\"],[0.4444444444444444,\"#bd3786\"],[0.5555555555555556,\"#d8576b\"],[0.6666666666666666,\"#ed7953\"],[0.7777777777777778,\"#fb9f3a\"],[0.8888888888888888,\"#fdca26\"],[1.0,\"#f0f921\"]]},\"colorway\":[\"#636efa\",\"#EF553B\",\"#00cc96\",\"#ab63fa\",\"#FFA15A\",\"#19d3f3\",\"#FF6692\",\"#B6E880\",\"#FF97FF\",\"#FECB52\"],\"font\":{\"color\":\"#2a3f5f\"},\"geo\":{\"bgcolor\":\"white\",\"lakecolor\":\"white\",\"landcolor\":\"#E5ECF6\",\"showlakes\":true,\"showland\":true,\"subunitcolor\":\"white\"},\"hoverlabel\":{\"align\":\"left\"},\"hovermode\":\"closest\",\"mapbox\":{\"style\":\"light\"},\"paper_bgcolor\":\"white\",\"plot_bgcolor\":\"#E5ECF6\",\"polar\":{\"angularaxis\":{\"gridcolor\":\"white\",\"linecolor\":\"white\",\"ticks\":\"\"},\"bgcolor\":\"#E5ECF6\",\"radialaxis\":{\"gridcolor\":\"white\",\"linecolor\":\"white\",\"ticks\":\"\"}},\"scene\":{\"xaxis\":{\"backgroundcolor\":\"#E5ECF6\",\"gridcolor\":\"white\",\"gridwidth\":2,\"linecolor\":\"white\",\"showbackground\":true,\"ticks\":\"\",\"zerolinecolor\":\"white\"},\"yaxis\":{\"backgroundcolor\":\"#E5ECF6\",\"gridcolor\":\"white\",\"gridwidth\":2,\"linecolor\":\"white\",\"showbackground\":true,\"ticks\":\"\",\"zerolinecolor\":\"white\"},\"zaxis\":{\"backgroundcolor\":\"#E5ECF6\",\"gridcolor\":\"white\",\"gridwidth\":2,\"linecolor\":\"white\",\"showbackground\":true,\"ticks\":\"\",\"zerolinecolor\":\"white\"}},\"shapedefaults\":{\"line\":{\"color\":\"#2a3f5f\"}},\"ternary\":{\"aaxis\":{\"gridcolor\":\"white\",\"linecolor\":\"white\",\"ticks\":\"\"},\"baxis\":{\"gridcolor\":\"white\",\"linecolor\":\"white\",\"ticks\":\"\"},\"bgcolor\":\"#E5ECF6\",\"caxis\":{\"gridcolor\":\"white\",\"linecolor\":\"white\",\"ticks\":\"\"}},\"title\":{\"x\":0.05},\"xaxis\":{\"automargin\":true,\"gridcolor\":\"white\",\"linecolor\":\"white\",\"ticks\":\"\",\"title\":{\"standoff\":15},\"zerolinecolor\":\"white\",\"zerolinewidth\":2},\"yaxis\":{\"automargin\":true,\"gridcolor\":\"white\",\"linecolor\":\"white\",\"ticks\":\"\",\"title\":{\"standoff\":15},\"zerolinecolor\":\"white\",\"zerolinewidth\":2}}}},                        {\"responsive\": true}                    ).then(function(){\n",
       "                            \n",
       "var gd = document.getElementById('b34a0b9c-017e-4672-a396-b87e6dcb5565');\n",
       "var x = new MutationObserver(function (mutations, observer) {{\n",
       "        var display = window.getComputedStyle(gd).display;\n",
       "        if (!display || display === 'none') {{\n",
       "            console.log([gd, 'removed!']);\n",
       "            Plotly.purge(gd);\n",
       "            observer.disconnect();\n",
       "        }}\n",
       "}});\n",
       "\n",
       "// Listen for the removal of the full notebook cells\n",
       "var notebookContainer = gd.closest('#notebook-container');\n",
       "if (notebookContainer) {{\n",
       "    x.observe(notebookContainer, {childList: true});\n",
       "}}\n",
       "\n",
       "// Listen for the clearing of the current output cell\n",
       "var outputEl = gd.closest('.output');\n",
       "if (outputEl) {{\n",
       "    x.observe(outputEl, {childList: true});\n",
       "}}\n",
       "\n",
       "                        })                };                });            </script>        </div>"
      ]
     },
     "metadata": {},
     "output_type": "display_data"
    }
   ],
   "source": [
    "# membuat visualisasi 3D untuk setiap klaster\n",
    "# klaster 1\n",
    "Cluster0= go.Scatter3d(\n",
    "        x=df_pca_3[df_pca_3['cluster']==0]['PC1'],\n",
    "        y=df_pca_3[df_pca_3['cluster']==0]['PC2'],\n",
    "        z=df_pca_3[df_pca_3['cluster']==0]['PC3'],\n",
    "        mode=\"markers\",\n",
    "        marker=dict(\n",
    "                    size=10,\n",
    "                    color=\"rgb(255,0,0)\",\n",
    "        ),\n",
    "        name=\"Cluster 0\"\n",
    ")\n",
    "\n",
    "#klaster 2\n",
    "Cluster1= go.Scatter3d(\n",
    "        x=df_pca_3[df_pca_3['cluster']==1]['PC1'],\n",
    "        y=df_pca_3[df_pca_3['cluster']==1]['PC2'],\n",
    "        z=df_pca_3[df_pca_3['cluster']==1]['PC3'],\n",
    "        mode=\"markers\",\n",
    "        marker=dict(\n",
    "                    size=10,\n",
    "                    color=\"rgb(0,255,0)\",\n",
    "        ),\n",
    "        name=\"Cluster 1\"\n",
    ")\n",
    "\n",
    "# klaster 3\n",
    "Cluster2= go.Scatter3d(\n",
    "        x=df_pca_3[df_pca_3['cluster']==2]['PC1'],\n",
    "        y=df_pca_3[df_pca_3['cluster']==2]['PC2'],\n",
    "        z=df_pca_3[df_pca_3['cluster']==2]['PC3'],\n",
    "        mode=\"markers\",\n",
    "        marker=dict(\n",
    "                    size=10,\n",
    "                    color=\"rgb(0,0,255)\",\n",
    "        ),\n",
    "        name=\"Cluster 2\"\n",
    ")\n",
    "\n",
    "\n",
    "data_plot_km=[Cluster0,Cluster1,Cluster2]\n",
    "\n",
    "# membuat plot\n",
    "layout = go.Layout(\n",
    "    margin=dict(l=0, r=0, b=0, t=0))\n",
    "\n",
    "fig=go.Figure(data = data_plot_km, layout = layout)\n",
    "iplot(fig)"
   ]
  },
  {
   "cell_type": "markdown",
   "metadata": {},
   "source": [
    "# Gaussian Mixture"
   ]
  },
  {
   "cell_type": "code",
   "execution_count": 1952,
   "metadata": {},
   "outputs": [
    {
     "name": "stdout",
     "output_type": "stream",
     "text": [
      "8300\n",
      "              ROA       ROE      Market Cap  Mean Return  Variance Return  \\\n",
      "Ticker                                                                      \n",
      "PGAS.JK  0.042140  0.103040  38422777430016     0.002017         0.000332   \n",
      "GOTO.JK -1.670984 -2.383206  91717776703488    -0.000042         0.001415   \n",
      "\n",
      "         Cluster  sharpe_ratio  \n",
      "Ticker                          \n",
      "PGAS.JK        0      0.097624  \n",
      "GOTO.JK        1     -0.007451  \n",
      "Clusters present: [0 1]\n",
      "Clusters sizes: [43  2] \n",
      "\n",
      "Silhouette Score: 0.5924471320543033\n",
      "Calinski-Harabasz Index: 12.542834656651449\n",
      "Davies-Bouldin Index: 0.9222398843404966\n",
      "cluster\n",
      "0    43\n",
      "1     2\n",
      "Name: count, dtype: int64\n"
     ]
    },
    {
     "data": {
      "text/html": [
       "<div>\n",
       "<style scoped>\n",
       "    .dataframe tbody tr th:only-of-type {\n",
       "        vertical-align: middle;\n",
       "    }\n",
       "\n",
       "    .dataframe tbody tr th {\n",
       "        vertical-align: top;\n",
       "    }\n",
       "\n",
       "    .dataframe thead th {\n",
       "        text-align: right;\n",
       "    }\n",
       "</style>\n",
       "<table border=\"1\" class=\"dataframe\">\n",
       "  <thead>\n",
       "    <tr style=\"text-align: right;\">\n",
       "      <th></th>\n",
       "      <th>ROE</th>\n",
       "      <th>Market Cap</th>\n",
       "      <th>Mean Return</th>\n",
       "      <th>Variance Return</th>\n",
       "      <th>cluster</th>\n",
       "    </tr>\n",
       "    <tr>\n",
       "      <th>Ticker</th>\n",
       "      <th></th>\n",
       "      <th></th>\n",
       "      <th></th>\n",
       "      <th></th>\n",
       "      <th></th>\n",
       "    </tr>\n",
       "  </thead>\n",
       "  <tbody>\n",
       "    <tr>\n",
       "      <th>ACES.JK</th>\n",
       "      <td>0.019841</td>\n",
       "      <td>-0.503589</td>\n",
       "      <td>0.412495</td>\n",
       "      <td>-0.015084</td>\n",
       "      <td>0</td>\n",
       "    </tr>\n",
       "    <tr>\n",
       "      <th>ADMR.JK</th>\n",
       "      <td>0.778213</td>\n",
       "      <td>-0.325757</td>\n",
       "      <td>0.133485</td>\n",
       "      <td>0.311211</td>\n",
       "      <td>0</td>\n",
       "    </tr>\n",
       "    <tr>\n",
       "      <th>ADRO.JK</th>\n",
       "      <td>0.293330</td>\n",
       "      <td>-0.248688</td>\n",
       "      <td>2.254371</td>\n",
       "      <td>0.823429</td>\n",
       "      <td>0</td>\n",
       "    </tr>\n",
       "    <tr>\n",
       "      <th>AKRA.JK</th>\n",
       "      <td>0.303760</td>\n",
       "      <td>-0.448638</td>\n",
       "      <td>-0.074903</td>\n",
       "      <td>-0.567337</td>\n",
       "      <td>0</td>\n",
       "    </tr>\n",
       "    <tr>\n",
       "      <th>AMMN.JK</th>\n",
       "      <td>-0.139658</td>\n",
       "      <td>2.448907</td>\n",
       "      <td>1.647973</td>\n",
       "      <td>0.691505</td>\n",
       "      <td>0</td>\n",
       "    </tr>\n",
       "  </tbody>\n",
       "</table>\n",
       "</div>"
      ],
      "text/plain": [
       "              ROE  Market Cap  Mean Return  Variance Return  cluster\n",
       "Ticker                                                              \n",
       "ACES.JK  0.019841   -0.503589     0.412495        -0.015084        0\n",
       "ADMR.JK  0.778213   -0.325757     0.133485         0.311211        0\n",
       "ADRO.JK  0.293330   -0.248688     2.254371         0.823429        0\n",
       "AKRA.JK  0.303760   -0.448638    -0.074903        -0.567337        0\n",
       "AMMN.JK -0.139658    2.448907     1.647973         0.691505        0"
      ]
     },
     "execution_count": 1952,
     "metadata": {},
     "output_type": "execute_result"
    }
   ],
   "source": [
    "# Opsional: Tuning parameter eps dan min_samples\n",
    "df_gmm = df_final.copy()\n",
    "\n",
    "rand = np.random.randint(0, 10000)\n",
    "print(rand)\n",
    "# GMM\n",
    "gmm = GaussianMixture(n_components = 2, random_state=2383)\n",
    "gmm.fit(df_gmm)\n",
    "labelg = gmm.predict(df_gmm)\n",
    "\n",
    "# Risk-free rate (contoh: 6% per tahun, diubah ke harian)\n",
    "risk_free_rate = 0.06 / 252\n",
    "\n",
    "# Hitung Sharpe Ratio\n",
    "data['sharpe_ratio'] = (data['Mean Return'] - risk_free_rate) / np.sqrt(data['Variance Return'])\n",
    "\n",
    "# Ambil saham terbaik dari setiap cluster\n",
    "best_stocks = data.loc[data.groupby('Cluster')['sharpe_ratio'].idxmax()]\n",
    "\n",
    "print(best_stocks)\n",
    "\n",
    "unique_labels = np.unique(labelg)\n",
    "n_clusters_formed = len(unique_labels)\n",
    "print(f'Clusters present: {unique_labels}')\n",
    "print(f'Clusters sizes: {np.bincount(labelg)}', '\\n')\n",
    "print(f'Silhouette Score: {silhouette_score(df_gmm, labelg)}')\n",
    "print(f'Calinski-Harabasz Index: {calinski_harabasz_score(df_gmm, labelg)}')\n",
    "print(f'Davies-Bouldin Index: {davies_bouldin_score(df_gmm, labelg)}')\n",
    "\n",
    "df_gmm['cluster'] = labelg\n",
    "data['Cluster'] = labelg\n",
    "\n",
    "print(df_gmm.cluster.value_counts())\n",
    "df_gmm.head()"
   ]
  },
  {
   "cell_type": "code",
   "execution_count": 1871,
   "metadata": {},
   "outputs": [
    {
     "name": "stdout",
     "output_type": "stream",
     "text": [
      "              ROA       ROE       Market Cap  Mean Return  Variance Return  \\\n",
      "Ticker                                                                       \n",
      "UNTR.JK  0.133818  0.260084  100964321198080     0.001568         0.000246   \n",
      "PGAS.JK  0.042140  0.103040   38422777430016     0.002017         0.000332   \n",
      "GOTO.JK -1.670984 -2.383206   91717776703488    -0.000042         0.001415   \n",
      "AMMN.JK  0.027717  0.055417  683483982725120     0.001989         0.000777   \n",
      "\n",
      "         Cluster  sharpe_ratio  \n",
      "Ticker                          \n",
      "UNTR.JK        0      0.084842  \n",
      "PGAS.JK        1      0.097624  \n",
      "GOTO.JK        2     -0.007451  \n",
      "AMMN.JK        3      0.062818  \n"
     ]
    }
   ],
   "source": [
    "# Risk-free rate (contoh: 6% per tahun, diubah ke harian)\n",
    "risk_free_rate = 0.06 / 252\n",
    "\n",
    "# Hitung Sharpe Ratio\n",
    "data['sharpe_ratio'] = (data['Mean Return'] - risk_free_rate) / np.sqrt(data['Variance Return'])\n",
    "\n",
    "# Ambil saham terbaik dari setiap cluster\n",
    "best_stocks = data.loc[data.groupby('Cluster')['sharpe_ratio'].idxmax()]\n",
    "\n",
    "print(best_stocks)"
   ]
  },
  {
   "cell_type": "code",
   "execution_count": 1795,
   "metadata": {},
   "outputs": [
    {
     "name": "stdout",
     "output_type": "stream",
     "text": [
      "64.99822785009573 %\n"
     ]
    },
    {
     "data": {
      "text/plain": [
       "<Axes: xlabel='PC_1', ylabel='PC_2'>"
      ]
     },
     "execution_count": 1795,
     "metadata": {},
     "output_type": "execute_result"
    },
    {
     "data": {
      "image/png": "[encoded data removed]",
      "text/plain": [
       "<Figure size 1000x800 with 1 Axes>"
      ]
     },
     "metadata": {},
     "output_type": "display_data"
    }
   ],
   "source": [
    "# Gunakan Dimensionality Reduction dengan PCA untuk mempermudah melakukan visualisasi\n",
    "\n",
    "pca = PCA(n_components = 2)\n",
    "df_pca2 = pd.DataFrame(pca.fit_transform(df_gmm.iloc[:,:-1]),\n",
    "                      columns = ['PC_1', 'PC_2'],\n",
    "                      index = df_gmm.index)\n",
    "\n",
    "df_pca2 = pd.concat([df_pca2, df_gmm.cluster], axis = 1)\n",
    "# df_pca1.head()\n",
    "\n",
    "print(np.sum(pca.explained_variance_ratio_)*100, \"%\") # 2 Dimensi dapat menjelaskan keseluruhan fitur\n",
    "fig = plt.figure(figsize=(10, 8))\n",
    "ax = fig.add_subplot()\n",
    "sns.scatterplot(data = df_pca2, x = 'PC_1', y = 'PC_2', hue = 'cluster', s = 300, ax = ax)"
   ]
  },
  {
   "cell_type": "markdown",
   "metadata": {},
   "source": [
    "**3D**"
   ]
  },
  {
   "cell_type": "code",
   "execution_count": 1796,
   "metadata": {},
   "outputs": [],
   "source": [
    "# Gunakan Dimensionality Reduction dengan PCA untuk mempermudah melakukan visualisasi\n",
    "\n",
    "pca = PCA(n_components = 3)\n",
    "df_pca_3 = pd.DataFrame(pca.fit_transform(df_gmm.iloc[:,:-1]),\n",
    "                      columns = ['PC1', 'PC2', 'PC3'],\n",
    "                      index = df_gmm.index)\n",
    "\n",
    "df_pca_3 = pd.concat([df_pca_3, df_gmm.cluster], axis = 1)\n",
    "# df_pca1.head()"
   ]
  },
  {
   "cell_type": "code",
   "execution_count": 1797,
   "metadata": {},
   "outputs": [
    {
     "data": {
      "text/html": [
       "<div>\n",
       "<style scoped>\n",
       "    .dataframe tbody tr th:only-of-type {\n",
       "        vertical-align: middle;\n",
       "    }\n",
       "\n",
       "    .dataframe tbody tr th {\n",
       "        vertical-align: top;\n",
       "    }\n",
       "\n",
       "    .dataframe thead th {\n",
       "        text-align: right;\n",
       "    }\n",
       "</style>\n",
       "<table border=\"1\" class=\"dataframe\">\n",
       "  <thead>\n",
       "    <tr style=\"text-align: right;\">\n",
       "      <th></th>\n",
       "      <th>PC1</th>\n",
       "      <th>PC2</th>\n",
       "      <th>PC3</th>\n",
       "      <th>cluster</th>\n",
       "    </tr>\n",
       "    <tr>\n",
       "      <th>Ticker</th>\n",
       "      <th></th>\n",
       "      <th></th>\n",
       "      <th></th>\n",
       "      <th></th>\n",
       "    </tr>\n",
       "  </thead>\n",
       "  <tbody>\n",
       "    <tr>\n",
       "      <th>ACES.JK</th>\n",
       "      <td>0.081060</td>\n",
       "      <td>-0.011719</td>\n",
       "      <td>-0.645003</td>\n",
       "      <td>0</td>\n",
       "    </tr>\n",
       "    <tr>\n",
       "      <th>ADMR.JK</th>\n",
       "      <td>-0.185258</td>\n",
       "      <td>-0.358235</td>\n",
       "      <td>-0.417066</td>\n",
       "      <td>0</td>\n",
       "    </tr>\n",
       "    <tr>\n",
       "      <th>ADRO.JK</th>\n",
       "      <td>0.141843</td>\n",
       "      <td>1.422983</td>\n",
       "      <td>-1.696032</td>\n",
       "      <td>1</td>\n",
       "    </tr>\n",
       "    <tr>\n",
       "      <th>AKRA.JK</th>\n",
       "      <td>-0.427134</td>\n",
       "      <td>-0.481004</td>\n",
       "      <td>-0.351792</td>\n",
       "      <td>0</td>\n",
       "    </tr>\n",
       "    <tr>\n",
       "      <th>AMMN.JK</th>\n",
       "      <td>-0.467157</td>\n",
       "      <td>2.729693</td>\n",
       "      <td>0.706150</td>\n",
       "      <td>3</td>\n",
       "    </tr>\n",
       "  </tbody>\n",
       "</table>\n",
       "</div>"
      ],
      "text/plain": [
       "              PC1       PC2       PC3  cluster\n",
       "Ticker                                        \n",
       "ACES.JK  0.081060 -0.011719 -0.645003        0\n",
       "ADMR.JK -0.185258 -0.358235 -0.417066        0\n",
       "ADRO.JK  0.141843  1.422983 -1.696032        1\n",
       "AKRA.JK -0.427134 -0.481004 -0.351792        0\n",
       "AMMN.JK -0.467157  2.729693  0.706150        3"
      ]
     },
     "execution_count": 1797,
     "metadata": {},
     "output_type": "execute_result"
    }
   ],
   "source": [
    "df_pca_3.head()"
   ]
  },
  {
   "cell_type": "code",
   "execution_count": 1798,
   "metadata": {},
   "outputs": [
    {
     "data": {
      "application/vnd.plotly.v1+json": {
       "config": {
        "linkText": "Export to plot.ly",
        "plotlyServerURL": "https://plot.ly",
        "showLink": false
       },
       "data": [
        {
         "marker": {
          "color": "rgb(255,0,0)",
          "size": 10
         },
         "mode": "markers",
         "name": "Cluster 0",
         "type": "scatter3d",
         "x": [
          0.08105988478894355,
          -0.18525825652605427,
          -0.4271340740506326,
          -0.7029228574907134,
          0.13030714369686827,
          -0.7418751709590143,
          -0.49419540763137043,
          0.018968149110860543,
          1.584669919029207,
          -0.3631262193203064,
          -0.09427862172994805,
          -0.6659332011962683,
          0.36859441971425366,
          -0.8304744400199092,
          0.031241532996836737,
          -0.09977803441343884,
          -0.00005727088608046114,
          -0.9804397186264618,
          -0.4236018626422731,
          -0.4574276737187548,
          0.5793298479203258,
          0.8659918324211309,
          0.11538327076359779,
          -0.21551684582422878,
          0.280266820620049,
          -0.7628109122031622,
          -0.5568015900314076,
          0.4452970454035946,
          0.157232212799845,
          -0.5777294754646933,
          -0.18840817686876213,
          -0.946808228317629,
          -1.3849302713953369
         ],
         "y": [
          -0.011719206750588488,
          -0.35823533640000116,
          -0.4810037607247237,
          -0.013767794819980455,
          -0.3829119212765579,
          0.005199018838529775,
          -0.03011672516481929,
          -0.3224692129506533,
          -1.2572829374812218,
          -0.19006356806262506,
          0.014172800487777299,
          0.19932978941403465,
          -0.7075669674527609,
          0.29925834961114456,
          -0.6761829793138541,
          -1.1863010825131906,
          0.2014929545451939,
          0.1527428271606025,
          -0.6534506007896516,
          -0.6513651758015973,
          -0.5504302319827986,
          -0.687411298346918,
          -0.03378384605668986,
          -0.47010291209350813,
          -0.3626948087736142,
          0.2219924640208495,
          -0.33965989408554825,
          -2.0297699007388994,
          -0.3062687331792185,
          -0.5891984290866435,
          -1.1158912202555562,
          0.6265007763026612,
          -2.8071871788461022
         ],
         "z": [
          -0.6450029478156023,
          -0.4170664706460047,
          -0.3517923185786128,
          -0.2320382781473737,
          -0.1488345146010482,
          0.2551849191006112,
          0.21771347033481345,
          -0.346059802550973,
          0.9445421862119874,
          -0.14153440432419312,
          -0.5450615997932673,
          -0.30901039920236073,
          0.20864433506607108,
          -0.8036507228121961,
          0.14350974564056238,
          0.46957493660506927,
          -0.4775639020689848,
          -1.0381097911036727,
          -0.14910540748924614,
          0.1381449873176374,
          -0.04431252437326907,
          0.4470062568183703,
          -0.6122589113221135,
          0.0071221778762792665,
          -0.09166234161490354,
          -1.0603758046163323,
          -0.5840082612921811,
          1.3787892052765784,
          -0.34739895314415914,
          1.206062198717991,
          0.37152281394843395,
          -1.0399651715170941,
          0.874296632268455
         ]
        },
        {
         "marker": {
          "color": "rgb(0,255,0)",
          "size": 10
         },
         "mode": "markers",
         "name": "Cluster 1",
         "type": "scatter3d",
         "x": [
          0.14184333842681618,
          1.5045139440342765,
          -0.020804391739309452,
          2.93821905073355,
          0.6288160697168086,
          1.6233710264928392,
          -0.5152379706736481
         ],
         "y": [
          1.422983002056485,
          -0.13245843791592585,
          1.6466857068289564,
          -0.08504651807162589,
          0.8621706901043256,
          -0.10026279065324174,
          0.9177906386918604
         ],
         "z": [
          -1.696031567484351,
          -0.006058282781436096,
          -1.4720963918197256,
          0.5526742580521805,
          -1.2946124253641356,
          0.09979167623335393,
          -1.4508196752366878
         ]
        },
        {
         "marker": {
          "color": "rgb(0,0,255)",
          "size": 10
         },
         "mode": "markers",
         "name": "Cluster 2",
         "type": "scatter3d",
         "x": [
          5.479827318263787
         ],
         "y": [
          2.1175788989868174
         ],
         "z": [
          1.0469239497120997
         ]
        }
       ],
       "layout": {
        "margin": {
         "b": 0,
         "l": 0,
         "r": 0,
         "t": 0
        },
        "template": {
         "data": {
          "bar": [
           {
            "error_x": {
             "color": "#2a3f5f"
            },
            "error_y": {
             "color": "#2a3f5f"
            },
            "marker": {
             "line": {
              "color": "#E5ECF6",
              "width": 0.5
             },
             "pattern": {
              "fillmode": "overlay",
              "size": 10,
              "solidity": 0.2
             }
            },
            "type": "bar"
           }
          ],
          "barpolar": [
           {
            "marker": {
             "line": {
              "color": "#E5ECF6",
              "width": 0.5
             },
             "pattern": {
              "fillmode": "overlay",
              "size": 10,
              "solidity": 0.2
             }
            },
            "type": "barpolar"
           }
          ],
          "carpet": [
           {
            "aaxis": {
             "endlinecolor": "#2a3f5f",
             "gridcolor": "white",
             "linecolor": "white",
             "minorgridcolor": "white",
             "startlinecolor": "#2a3f5f"
            },
            "baxis": {
             "endlinecolor": "#2a3f5f",
             "gridcolor": "white",
             "linecolor": "white",
             "minorgridcolor": "white",
             "startlinecolor": "#2a3f5f"
            },
            "type": "carpet"
           }
          ],
          "choropleth": [
           {
            "colorbar": {
             "outlinewidth": 0,
             "ticks": ""
            },
            "type": "choropleth"
           }
          ],
          "contour": [
           {
            "colorbar": {
             "outlinewidth": 0,
             "ticks": ""
            },
            "colorscale": [
             [
              0,
              "#0d0887"
             ],
             [
              0.1111111111111111,
              "#46039f"
             ],
             [
              0.2222222222222222,
              "#7201a8"
             ],
             [
              0.3333333333333333,
              "#9c179e"
             ],
             [
              0.4444444444444444,
              "#bd3786"
             ],
             [
              0.5555555555555556,
              "#d8576b"
             ],
             [
              0.6666666666666666,
              "#ed7953"
             ],
             [
              0.7777777777777778,
              "#fb9f3a"
             ],
             [
              0.8888888888888888,
              "#fdca26"
             ],
             [
              1,
              "#f0f921"
             ]
            ],
            "type": "contour"
           }
          ],
          "contourcarpet": [
           {
            "colorbar": {
             "outlinewidth": 0,
             "ticks": ""
            },
            "type": "contourcarpet"
           }
          ],
          "heatmap": [
           {
            "colorbar": {
             "outlinewidth": 0,
             "ticks": ""
            },
            "colorscale": [
             [
              0,
              "#0d0887"
             ],
             [
              0.1111111111111111,
              "#46039f"
             ],
             [
              0.2222222222222222,
              "#7201a8"
             ],
             [
              0.3333333333333333,
              "#9c179e"
             ],
             [
              0.4444444444444444,
              "#bd3786"
             ],
             [
              0.5555555555555556,
              "#d8576b"
             ],
             [
              0.6666666666666666,
              "#ed7953"
             ],
             [
              0.7777777777777778,
              "#fb9f3a"
             ],
             [
              0.8888888888888888,
              "#fdca26"
             ],
             [
              1,
              "#f0f921"
             ]
            ],
            "type": "heatmap"
           }
          ],
          "heatmapgl": [
           {
            "colorbar": {
             "outlinewidth": 0,
             "ticks": ""
            },
            "colorscale": [
             [
              0,
              "#0d0887"
             ],
             [
              0.1111111111111111,
              "#46039f"
             ],
             [
              0.2222222222222222,
              "#7201a8"
             ],
             [
              0.3333333333333333,
              "#9c179e"
             ],
             [
              0.4444444444444444,
              "#bd3786"
             ],
             [
              0.5555555555555556,
              "#d8576b"
             ],
             [
              0.6666666666666666,
              "#ed7953"
             ],
             [
              0.7777777777777778,
              "#fb9f3a"
             ],
             [
              0.8888888888888888,
              "#fdca26"
             ],
             [
              1,
              "#f0f921"
             ]
            ],
            "type": "heatmapgl"
           }
          ],
          "histogram": [
           {
            "marker": {
             "pattern": {
              "fillmode": "overlay",
              "size": 10,
              "solidity": 0.2
             }
            },
            "type": "histogram"
           }
          ],
          "histogram2d": [
           {
            "colorbar": {
             "outlinewidth": 0,
             "ticks": ""
            },
            "colorscale": [
             [
              0,
              "#0d0887"
             ],
             [
              0.1111111111111111,
              "#46039f"
             ],
             [
              0.2222222222222222,
              "#7201a8"
             ],
             [
              0.3333333333333333,
              "#9c179e"
             ],
             [
              0.4444444444444444,
              "#bd3786"
             ],
             [
              0.5555555555555556,
              "#d8576b"
             ],
             [
              0.6666666666666666,
              "#ed7953"
             ],
             [
              0.7777777777777778,
              "#fb9f3a"
             ],
             [
              0.8888888888888888,
              "#fdca26"
             ],
             [
              1,
              "#f0f921"
             ]
            ],
            "type": "histogram2d"
           }
          ],
          "histogram2dcontour": [
           {
            "colorbar": {
             "outlinewidth": 0,
             "ticks": ""
            },
            "colorscale": [
             [
              0,
              "#0d0887"
             ],
             [
              0.1111111111111111,
              "#46039f"
             ],
             [
              0.2222222222222222,
              "#7201a8"
             ],
             [
              0.3333333333333333,
              "#9c179e"
             ],
             [
              0.4444444444444444,
              "#bd3786"
             ],
             [
              0.5555555555555556,
              "#d8576b"
             ],
             [
              0.6666666666666666,
              "#ed7953"
             ],
             [
              0.7777777777777778,
              "#fb9f3a"
             ],
             [
              0.8888888888888888,
              "#fdca26"
             ],
             [
              1,
              "#f0f921"
             ]
            ],
            "type": "histogram2dcontour"
           }
          ],
          "mesh3d": [
           {
            "colorbar": {
             "outlinewidth": 0,
             "ticks": ""
            },
            "type": "mesh3d"
           }
          ],
          "parcoords": [
           {
            "line": {
             "colorbar": {
              "outlinewidth": 0,
              "ticks": ""
             }
            },
            "type": "parcoords"
           }
          ],
          "pie": [
           {
            "automargin": true,
            "type": "pie"
           }
          ],
          "scatter": [
           {
            "fillpattern": {
             "fillmode": "overlay",
             "size": 10,
             "solidity": 0.2
            },
            "type": "scatter"
           }
          ],
          "scatter3d": [
           {
            "line": {
             "colorbar": {
              "outlinewidth": 0,
              "ticks": ""
             }
            },
            "marker": {
             "colorbar": {
              "outlinewidth": 0,
              "ticks": ""
             }
            },
            "type": "scatter3d"
           }
          ],
          "scattercarpet": [
           {
            "marker": {
             "colorbar": {
              "outlinewidth": 0,
              "ticks": ""
             }
            },
            "type": "scattercarpet"
           }
          ],
          "scattergeo": [
           {
            "marker": {
             "colorbar": {
              "outlinewidth": 0,
              "ticks": ""
             }
            },
            "type": "scattergeo"
           }
          ],
          "scattergl": [
           {
            "marker": {
             "colorbar": {
              "outlinewidth": 0,
              "ticks": ""
             }
            },
            "type": "scattergl"
           }
          ],
          "scattermapbox": [
           {
            "marker": {
             "colorbar": {
              "outlinewidth": 0,
              "ticks": ""
             }
            },
            "type": "scattermapbox"
           }
          ],
          "scatterpolar": [
           {
            "marker": {
             "colorbar": {
              "outlinewidth": 0,
              "ticks": ""
             }
            },
            "type": "scatterpolar"
           }
          ],
          "scatterpolargl": [
           {
            "marker": {
             "colorbar": {
              "outlinewidth": 0,
              "ticks": ""
             }
            },
            "type": "scatterpolargl"
           }
          ],
          "scatterternary": [
           {
            "marker": {
             "colorbar": {
              "outlinewidth": 0,
              "ticks": ""
             }
            },
            "type": "scatterternary"
           }
          ],
          "surface": [
           {
            "colorbar": {
             "outlinewidth": 0,
             "ticks": ""
            },
            "colorscale": [
             [
              0,
              "#0d0887"
             ],
             [
              0.1111111111111111,
              "#46039f"
             ],
             [
              0.2222222222222222,
              "#7201a8"
             ],
             [
              0.3333333333333333,
              "#9c179e"
             ],
             [
              0.4444444444444444,
              "#bd3786"
             ],
             [
              0.5555555555555556,
              "#d8576b"
             ],
             [
              0.6666666666666666,
              "#ed7953"
             ],
             [
              0.7777777777777778,
              "#fb9f3a"
             ],
             [
              0.8888888888888888,
              "#fdca26"
             ],
             [
              1,
              "#f0f921"
             ]
            ],
            "type": "surface"
           }
          ],
          "table": [
           {
            "cells": {
             "fill": {
              "color": "#EBF0F8"
             },
             "line": {
              "color": "white"
             }
            },
            "header": {
             "fill": {
              "color": "#C8D4E3"
             },
             "line": {
              "color": "white"
             }
            },
            "type": "table"
           }
          ]
         },
         "layout": {
          "annotationdefaults": {
           "arrowcolor": "#2a3f5f",
           "arrowhead": 0,
           "arrowwidth": 1
          },
          "autotypenumbers": "strict",
          "coloraxis": {
           "colorbar": {
            "outlinewidth": 0,
            "ticks": ""
           }
          },
          "colorscale": {
           "diverging": [
            [
             0,
             "#8e0152"
            ],
            [
             0.1,
             "#c51b7d"
            ],
            [
             0.2,
             "#de77ae"
            ],
            [
             0.3,
             "#f1b6da"
            ],
            [
             0.4,
             "#fde0ef"
            ],
            [
             0.5,
             "#f7f7f7"
            ],
            [
             0.6,
             "#e6f5d0"
            ],
            [
             0.7,
             "#b8e186"
            ],
            [
             0.8,
             "#7fbc41"
            ],
            [
             0.9,
             "#4d9221"
            ],
            [
             1,
             "#276419"
            ]
           ],
           "sequential": [
            [
             0,
             "#0d0887"
            ],
            [
             0.1111111111111111,
             "#46039f"
            ],
            [
             0.2222222222222222,
             "#7201a8"
            ],
            [
             0.3333333333333333,
             "#9c179e"
            ],
            [
             0.4444444444444444,
             "#bd3786"
            ],
            [
             0.5555555555555556,
             "#d8576b"
            ],
            [
             0.6666666666666666,
             "#ed7953"
            ],
            [
             0.7777777777777778,
             "#fb9f3a"
            ],
            [
             0.8888888888888888,
             "#fdca26"
            ],
            [
             1,
             "#f0f921"
            ]
           ],
           "sequentialminus": [
            [
             0,
             "#0d0887"
            ],
            [
             0.1111111111111111,
             "#46039f"
            ],
            [
             0.2222222222222222,
             "#7201a8"
            ],
            [
             0.3333333333333333,
             "#9c179e"
            ],
            [
             0.4444444444444444,
             "#bd3786"
            ],
            [
             0.5555555555555556,
             "#d8576b"
            ],
            [
             0.6666666666666666,
             "#ed7953"
            ],
            [
             0.7777777777777778,
             "#fb9f3a"
            ],
            [
             0.8888888888888888,
             "#fdca26"
            ],
            [
             1,
             "#f0f921"
            ]
           ]
          },
          "colorway": [
           "#636efa",
           "#EF553B",
           "#00cc96",
           "#ab63fa",
           "#FFA15A",
           "#19d3f3",
           "#FF6692",
           "#B6E880",
           "#FF97FF",
           "#FECB52"
          ],
          "font": {
           "color": "#2a3f5f"
          },
          "geo": {
           "bgcolor": "white",
           "lakecolor": "white",
           "landcolor": "#E5ECF6",
           "showlakes": true,
           "showland": true,
           "subunitcolor": "white"
          },
          "hoverlabel": {
           "align": "left"
          },
          "hovermode": "closest",
          "mapbox": {
           "style": "light"
          },
          "paper_bgcolor": "white",
          "plot_bgcolor": "#E5ECF6",
          "polar": {
           "angularaxis": {
            "gridcolor": "white",
            "linecolor": "white",
            "ticks": ""
           },
           "bgcolor": "#E5ECF6",
           "radialaxis": {
            "gridcolor": "white",
            "linecolor": "white",
            "ticks": ""
           }
          },
          "scene": {
           "xaxis": {
            "backgroundcolor": "#E5ECF6",
            "gridcolor": "white",
            "gridwidth": 2,
            "linecolor": "white",
            "showbackground": true,
            "ticks": "",
            "zerolinecolor": "white"
           },
           "yaxis": {
            "backgroundcolor": "#E5ECF6",
            "gridcolor": "white",
            "gridwidth": 2,
            "linecolor": "white",
            "showbackground": true,
            "ticks": "",
            "zerolinecolor": "white"
           },
           "zaxis": {
            "backgroundcolor": "#E5ECF6",
            "gridcolor": "white",
            "gridwidth": 2,
            "linecolor": "white",
            "showbackground": true,
            "ticks": "",
            "zerolinecolor": "white"
           }
          },
          "shapedefaults": {
           "line": {
            "color": "#2a3f5f"
           }
          },
          "ternary": {
           "aaxis": {
            "gridcolor": "white",
            "linecolor": "white",
            "ticks": ""
           },
           "baxis": {
            "gridcolor": "white",
            "linecolor": "white",
            "ticks": ""
           },
           "bgcolor": "#E5ECF6",
           "caxis": {
            "gridcolor": "white",
            "linecolor": "white",
            "ticks": ""
           }
          },
          "title": {
           "x": 0.05
          },
          "xaxis": {
           "automargin": true,
           "gridcolor": "white",
           "linecolor": "white",
           "ticks": "",
           "title": {
            "standoff": 15
           },
           "zerolinecolor": "white",
           "zerolinewidth": 2
          },
          "yaxis": {
           "automargin": true,
           "gridcolor": "white",
           "linecolor": "white",
           "ticks": "",
           "title": {
            "standoff": 15
           },
           "zerolinecolor": "white",
           "zerolinewidth": 2
          }
         }
        }
       }
      },
      "text/html": [
       "<div>                            <div id=\"2a303f97-2cc6-41bb-baf7-1cfde83df9fc\" class=\"plotly-graph-div\" style=\"height:525px; width:100%;\"></div>            <script type=\"text/javascript\">                require([\"plotly\"], function(Plotly) {                    window.PLOTLYENV=window.PLOTLYENV || {};                                    if (document.getElementById(\"2a303f97-2cc6-41bb-baf7-1cfde83df9fc\")) {                    Plotly.newPlot(                        \"2a303f97-2cc6-41bb-baf7-1cfde83df9fc\",                        [{\"marker\":{\"color\":\"rgb(255,0,0)\",\"size\":10},\"mode\":\"markers\",\"name\":\"Cluster 0\",\"x\":[0.08105988478894355,-0.18525825652605427,-0.4271340740506326,-0.7029228574907134,0.13030714369686827,-0.7418751709590143,-0.49419540763137043,0.018968149110860543,1.584669919029207,-0.3631262193203064,-0.09427862172994805,-0.6659332011962683,0.36859441971425366,-0.8304744400199092,0.031241532996836737,-0.09977803441343884,-5.727088608046114e-05,-0.9804397186264618,-0.4236018626422731,-0.4574276737187548,0.5793298479203258,0.8659918324211309,0.11538327076359779,-0.21551684582422878,0.280266820620049,-0.7628109122031622,-0.5568015900314076,0.4452970454035946,0.157232212799845,-0.5777294754646933,-0.18840817686876213,-0.946808228317629,-1.3849302713953369],\"y\":[-0.011719206750588488,-0.35823533640000116,-0.4810037607247237,-0.013767794819980455,-0.3829119212765579,0.005199018838529775,-0.03011672516481929,-0.3224692129506533,-1.2572829374812218,-0.19006356806262506,0.014172800487777299,0.19932978941403465,-0.7075669674527609,0.29925834961114456,-0.6761829793138541,-1.1863010825131906,0.2014929545451939,0.1527428271606025,-0.6534506007896516,-0.6513651758015973,-0.5504302319827986,-0.687411298346918,-0.03378384605668986,-0.47010291209350813,-0.3626948087736142,0.2219924640208495,-0.33965989408554825,-2.0297699007388994,-0.3062687331792185,-0.5891984290866435,-1.1158912202555562,0.6265007763026612,-2.8071871788461022],\"z\":[-0.6450029478156023,-0.4170664706460047,-0.3517923185786128,-0.2320382781473737,-0.1488345146010482,0.2551849191006112,0.21771347033481345,-0.346059802550973,0.9445421862119874,-0.14153440432419312,-0.5450615997932673,-0.30901039920236073,0.20864433506607108,-0.8036507228121961,0.14350974564056238,0.46957493660506927,-0.4775639020689848,-1.0381097911036727,-0.14910540748924614,0.1381449873176374,-0.04431252437326907,0.4470062568183703,-0.6122589113221135,0.0071221778762792665,-0.09166234161490354,-1.0603758046163323,-0.5840082612921811,1.3787892052765784,-0.34739895314415914,1.206062198717991,0.37152281394843395,-1.0399651715170941,0.874296632268455],\"type\":\"scatter3d\"},{\"marker\":{\"color\":\"rgb(0,255,0)\",\"size\":10},\"mode\":\"markers\",\"name\":\"Cluster 1\",\"x\":[0.14184333842681618,1.5045139440342765,-0.020804391739309452,2.93821905073355,0.6288160697168086,1.6233710264928392,-0.5152379706736481],\"y\":[1.422983002056485,-0.13245843791592585,1.6466857068289564,-0.08504651807162589,0.8621706901043256,-0.10026279065324174,0.9177906386918604],\"z\":[-1.696031567484351,-0.006058282781436096,-1.4720963918197256,0.5526742580521805,-1.2946124253641356,0.09979167623335393,-1.4508196752366878],\"type\":\"scatter3d\"},{\"marker\":{\"color\":\"rgb(0,0,255)\",\"size\":10},\"mode\":\"markers\",\"name\":\"Cluster 2\",\"x\":[5.479827318263787],\"y\":[2.1175788989868174],\"z\":[1.0469239497120997],\"type\":\"scatter3d\"}],                        {\"margin\":{\"b\":0,\"l\":0,\"r\":0,\"t\":0},\"template\":{\"data\":{\"barpolar\":[{\"marker\":{\"line\":{\"color\":\"#E5ECF6\",\"width\":0.5},\"pattern\":{\"fillmode\":\"overlay\",\"size\":10,\"solidity\":0.2}},\"type\":\"barpolar\"}],\"bar\":[{\"error_x\":{\"color\":\"#2a3f5f\"},\"error_y\":{\"color\":\"#2a3f5f\"},\"marker\":{\"line\":{\"color\":\"#E5ECF6\",\"width\":0.5},\"pattern\":{\"fillmode\":\"overlay\",\"size\":10,\"solidity\":0.2}},\"type\":\"bar\"}],\"carpet\":[{\"aaxis\":{\"endlinecolor\":\"#2a3f5f\",\"gridcolor\":\"white\",\"linecolor\":\"white\",\"minorgridcolor\":\"white\",\"startlinecolor\":\"#2a3f5f\"},\"baxis\":{\"endlinecolor\":\"#2a3f5f\",\"gridcolor\":\"white\",\"linecolor\":\"white\",\"minorgridcolor\":\"white\",\"startlinecolor\":\"#2a3f5f\"},\"type\":\"carpet\"}],\"choropleth\":[{\"colorbar\":{\"outlinewidth\":0,\"ticks\":\"\"},\"type\":\"choropleth\"}],\"contourcarpet\":[{\"colorbar\":{\"outlinewidth\":0,\"ticks\":\"\"},\"type\":\"contourcarpet\"}],\"contour\":[{\"colorbar\":{\"outlinewidth\":0,\"ticks\":\"\"},\"colorscale\":[[0.0,\"#0d0887\"],[0.1111111111111111,\"#46039f\"],[0.2222222222222222,\"#7201a8\"],[0.3333333333333333,\"#9c179e\"],[0.4444444444444444,\"#bd3786\"],[0.5555555555555556,\"#d8576b\"],[0.6666666666666666,\"#ed7953\"],[0.7777777777777778,\"#fb9f3a\"],[0.8888888888888888,\"#fdca26\"],[1.0,\"#f0f921\"]],\"type\":\"contour\"}],\"heatmapgl\":[{\"colorbar\":{\"outlinewidth\":0,\"ticks\":\"\"},\"colorscale\":[[0.0,\"#0d0887\"],[0.1111111111111111,\"#46039f\"],[0.2222222222222222,\"#7201a8\"],[0.3333333333333333,\"#9c179e\"],[0.4444444444444444,\"#bd3786\"],[0.5555555555555556,\"#d8576b\"],[0.6666666666666666,\"#ed7953\"],[0.7777777777777778,\"#fb9f3a\"],[0.8888888888888888,\"#fdca26\"],[1.0,\"#f0f921\"]],\"type\":\"heatmapgl\"}],\"heatmap\":[{\"colorbar\":{\"outlinewidth\":0,\"ticks\":\"\"},\"colorscale\":[[0.0,\"#0d0887\"],[0.1111111111111111,\"#46039f\"],[0.2222222222222222,\"#7201a8\"],[0.3333333333333333,\"#9c179e\"],[0.4444444444444444,\"#bd3786\"],[0.5555555555555556,\"#d8576b\"],[0.6666666666666666,\"#ed7953\"],[0.7777777777777778,\"#fb9f3a\"],[0.8888888888888888,\"#fdca26\"],[1.0,\"#f0f921\"]],\"type\":\"heatmap\"}],\"histogram2dcontour\":[{\"colorbar\":{\"outlinewidth\":0,\"ticks\":\"\"},\"colorscale\":[[0.0,\"#0d0887\"],[0.1111111111111111,\"#46039f\"],[0.2222222222222222,\"#7201a8\"],[0.3333333333333333,\"#9c179e\"],[0.4444444444444444,\"#bd3786\"],[0.5555555555555556,\"#d8576b\"],[0.6666666666666666,\"#ed7953\"],[0.7777777777777778,\"#fb9f3a\"],[0.8888888888888888,\"#fdca26\"],[1.0,\"#f0f921\"]],\"type\":\"histogram2dcontour\"}],\"histogram2d\":[{\"colorbar\":{\"outlinewidth\":0,\"ticks\":\"\"},\"colorscale\":[[0.0,\"#0d0887\"],[0.1111111111111111,\"#46039f\"],[0.2222222222222222,\"#7201a8\"],[0.3333333333333333,\"#9c179e\"],[0.4444444444444444,\"#bd3786\"],[0.5555555555555556,\"#d8576b\"],[0.6666666666666666,\"#ed7953\"],[0.7777777777777778,\"#fb9f3a\"],[0.8888888888888888,\"#fdca26\"],[1.0,\"#f0f921\"]],\"type\":\"histogram2d\"}],\"histogram\":[{\"marker\":{\"pattern\":{\"fillmode\":\"overlay\",\"size\":10,\"solidity\":0.2}},\"type\":\"histogram\"}],\"mesh3d\":[{\"colorbar\":{\"outlinewidth\":0,\"ticks\":\"\"},\"type\":\"mesh3d\"}],\"parcoords\":[{\"line\":{\"colorbar\":{\"outlinewidth\":0,\"ticks\":\"\"}},\"type\":\"parcoords\"}],\"pie\":[{\"automargin\":true,\"type\":\"pie\"}],\"scatter3d\":[{\"line\":{\"colorbar\":{\"outlinewidth\":0,\"ticks\":\"\"}},\"marker\":{\"colorbar\":{\"outlinewidth\":0,\"ticks\":\"\"}},\"type\":\"scatter3d\"}],\"scattercarpet\":[{\"marker\":{\"colorbar\":{\"outlinewidth\":0,\"ticks\":\"\"}},\"type\":\"scattercarpet\"}],\"scattergeo\":[{\"marker\":{\"colorbar\":{\"outlinewidth\":0,\"ticks\":\"\"}},\"type\":\"scattergeo\"}],\"scattergl\":[{\"marker\":{\"colorbar\":{\"outlinewidth\":0,\"ticks\":\"\"}},\"type\":\"scattergl\"}],\"scattermapbox\":[{\"marker\":{\"colorbar\":{\"outlinewidth\":0,\"ticks\":\"\"}},\"type\":\"scattermapbox\"}],\"scatterpolargl\":[{\"marker\":{\"colorbar\":{\"outlinewidth\":0,\"ticks\":\"\"}},\"type\":\"scatterpolargl\"}],\"scatterpolar\":[{\"marker\":{\"colorbar\":{\"outlinewidth\":0,\"ticks\":\"\"}},\"type\":\"scatterpolar\"}],\"scatter\":[{\"fillpattern\":{\"fillmode\":\"overlay\",\"size\":10,\"solidity\":0.2},\"type\":\"scatter\"}],\"scatterternary\":[{\"marker\":{\"colorbar\":{\"outlinewidth\":0,\"ticks\":\"\"}},\"type\":\"scatterternary\"}],\"surface\":[{\"colorbar\":{\"outlinewidth\":0,\"ticks\":\"\"},\"colorscale\":[[0.0,\"#0d0887\"],[0.1111111111111111,\"#46039f\"],[0.2222222222222222,\"#7201a8\"],[0.3333333333333333,\"#9c179e\"],[0.4444444444444444,\"#bd3786\"],[0.5555555555555556,\"#d8576b\"],[0.6666666666666666,\"#ed7953\"],[0.7777777777777778,\"#fb9f3a\"],[0.8888888888888888,\"#fdca26\"],[1.0,\"#f0f921\"]],\"type\":\"surface\"}],\"table\":[{\"cells\":{\"fill\":{\"color\":\"#EBF0F8\"},\"line\":{\"color\":\"white\"}},\"header\":{\"fill\":{\"color\":\"#C8D4E3\"},\"line\":{\"color\":\"white\"}},\"type\":\"table\"}]},\"layout\":{\"annotationdefaults\":{\"arrowcolor\":\"#2a3f5f\",\"arrowhead\":0,\"arrowwidth\":1},\"autotypenumbers\":\"strict\",\"coloraxis\":{\"colorbar\":{\"outlinewidth\":0,\"ticks\":\"\"}},\"colorscale\":{\"diverging\":[[0,\"#8e0152\"],[0.1,\"#c51b7d\"],[0.2,\"#de77ae\"],[0.3,\"#f1b6da\"],[0.4,\"#fde0ef\"],[0.5,\"#f7f7f7\"],[0.6,\"#e6f5d0\"],[0.7,\"#b8e186\"],[0.8,\"#7fbc41\"],[0.9,\"#4d9221\"],[1,\"#276419\"]],\"sequential\":[[0.0,\"#0d0887\"],[0.1111111111111111,\"#46039f\"],[0.2222222222222222,\"#7201a8\"],[0.3333333333333333,\"#9c179e\"],[0.4444444444444444,\"#bd3786\"],[0.5555555555555556,\"#d8576b\"],[0.6666666666666666,\"#ed7953\"],[0.7777777777777778,\"#fb9f3a\"],[0.8888888888888888,\"#fdca26\"],[1.0,\"#f0f921\"]],\"sequentialminus\":[[0.0,\"#0d0887\"],[0.1111111111111111,\"#46039f\"],[0.2222222222222222,\"#7201a8\"],[0.3333333333333333,\"#9c179e\"],[0.4444444444444444,\"#bd3786\"],[0.5555555555555556,\"#d8576b\"],[0.6666666666666666,\"#ed7953\"],[0.7777777777777778,\"#fb9f3a\"],[0.8888888888888888,\"#fdca26\"],[1.0,\"#f0f921\"]]},\"colorway\":[\"#636efa\",\"#EF553B\",\"#00cc96\",\"#ab63fa\",\"#FFA15A\",\"#19d3f3\",\"#FF6692\",\"#B6E880\",\"#FF97FF\",\"#FECB52\"],\"font\":{\"color\":\"#2a3f5f\"},\"geo\":{\"bgcolor\":\"white\",\"lakecolor\":\"white\",\"landcolor\":\"#E5ECF6\",\"showlakes\":true,\"showland\":true,\"subunitcolor\":\"white\"},\"hoverlabel\":{\"align\":\"left\"},\"hovermode\":\"closest\",\"mapbox\":{\"style\":\"light\"},\"paper_bgcolor\":\"white\",\"plot_bgcolor\":\"#E5ECF6\",\"polar\":{\"angularaxis\":{\"gridcolor\":\"white\",\"linecolor\":\"white\",\"ticks\":\"\"},\"bgcolor\":\"#E5ECF6\",\"radialaxis\":{\"gridcolor\":\"white\",\"linecolor\":\"white\",\"ticks\":\"\"}},\"scene\":{\"xaxis\":{\"backgroundcolor\":\"#E5ECF6\",\"gridcolor\":\"white\",\"gridwidth\":2,\"linecolor\":\"white\",\"showbackground\":true,\"ticks\":\"\",\"zerolinecolor\":\"white\"},\"yaxis\":{\"backgroundcolor\":\"#E5ECF6\",\"gridcolor\":\"white\",\"gridwidth\":2,\"linecolor\":\"white\",\"showbackground\":true,\"ticks\":\"\",\"zerolinecolor\":\"white\"},\"zaxis\":{\"backgroundcolor\":\"#E5ECF6\",\"gridcolor\":\"white\",\"gridwidth\":2,\"linecolor\":\"white\",\"showbackground\":true,\"ticks\":\"\",\"zerolinecolor\":\"white\"}},\"shapedefaults\":{\"line\":{\"color\":\"#2a3f5f\"}},\"ternary\":{\"aaxis\":{\"gridcolor\":\"white\",\"linecolor\":\"white\",\"ticks\":\"\"},\"baxis\":{\"gridcolor\":\"white\",\"linecolor\":\"white\",\"ticks\":\"\"},\"bgcolor\":\"#E5ECF6\",\"caxis\":{\"gridcolor\":\"white\",\"linecolor\":\"white\",\"ticks\":\"\"}},\"title\":{\"x\":0.05},\"xaxis\":{\"automargin\":true,\"gridcolor\":\"white\",\"linecolor\":\"white\",\"ticks\":\"\",\"title\":{\"standoff\":15},\"zerolinecolor\":\"white\",\"zerolinewidth\":2},\"yaxis\":{\"automargin\":true,\"gridcolor\":\"white\",\"linecolor\":\"white\",\"ticks\":\"\",\"title\":{\"standoff\":15},\"zerolinecolor\":\"white\",\"zerolinewidth\":2}}}},                        {\"responsive\": true}                    ).then(function(){\n",
       "                            \n",
       "var gd = document.getElementById('2a303f97-2cc6-41bb-baf7-1cfde83df9fc');\n",
       "var x = new MutationObserver(function (mutations, observer) {{\n",
       "        var display = window.getComputedStyle(gd).display;\n",
       "        if (!display || display === 'none') {{\n",
       "            console.log([gd, 'removed!']);\n",
       "            Plotly.purge(gd);\n",
       "            observer.disconnect();\n",
       "        }}\n",
       "}});\n",
       "\n",
       "// Listen for the removal of the full notebook cells\n",
       "var notebookContainer = gd.closest('#notebook-container');\n",
       "if (notebookContainer) {{\n",
       "    x.observe(notebookContainer, {childList: true});\n",
       "}}\n",
       "\n",
       "// Listen for the clearing of the current output cell\n",
       "var outputEl = gd.closest('.output');\n",
       "if (outputEl) {{\n",
       "    x.observe(outputEl, {childList: true});\n",
       "}}\n",
       "\n",
       "                        })                };                });            </script>        </div>"
      ]
     },
     "metadata": {},
     "output_type": "display_data"
    }
   ],
   "source": [
    "# membuat visualisasi 3D untuk setiap klaster\n",
    "# klaster 1\n",
    "Cluster0= go.Scatter3d(\n",
    "        x=df_pca_3[df_pca_3['cluster']==0]['PC1'],\n",
    "        y=df_pca_3[df_pca_3['cluster']==0]['PC2'],\n",
    "        z=df_pca_3[df_pca_3['cluster']==0]['PC3'],\n",
    "        mode=\"markers\",\n",
    "        marker=dict(\n",
    "                    size=10,\n",
    "                    color=\"rgb(255,0,0)\",\n",
    "        ),\n",
    "        name=\"Cluster 0\"\n",
    ")\n",
    "\n",
    "#klaster 2\n",
    "Cluster1= go.Scatter3d(\n",
    "        x=df_pca_3[df_pca_3['cluster']==1]['PC1'],\n",
    "        y=df_pca_3[df_pca_3['cluster']==1]['PC2'],\n",
    "        z=df_pca_3[df_pca_3['cluster']==1]['PC3'],\n",
    "        mode=\"markers\",\n",
    "        marker=dict(\n",
    "                    size=10,\n",
    "                    color=\"rgb(0,255,0)\",\n",
    "        ),\n",
    "        name=\"Cluster 1\"\n",
    ")\n",
    "\n",
    "# klaster 3\n",
    "Cluster2= go.Scatter3d(\n",
    "        x=df_pca_3[df_pca_3['cluster']==2]['PC1'],\n",
    "        y=df_pca_3[df_pca_3['cluster']==2]['PC2'],\n",
    "        z=df_pca_3[df_pca_3['cluster']==2]['PC3'],\n",
    "        mode=\"markers\",\n",
    "        marker=dict(\n",
    "                    size=10,\n",
    "                    color=\"rgb(0,0,255)\",\n",
    "        ),\n",
    "        name=\"Cluster 2\"\n",
    ")\n",
    "\n",
    "\n",
    "data_plot_km=[Cluster0,Cluster1,Cluster2]\n",
    "\n",
    "# membuat plot\n",
    "layout = go.Layout(\n",
    "    margin=dict(l=0, r=0, b=0, t=0))\n",
    "\n",
    "fig=go.Figure(data = data_plot_km, layout = layout)\n",
    "iplot(fig)"
   ]
  },
  {
   "cell_type": "markdown",
   "metadata": {},
   "source": [
    "# OPTICS"
   ]
  },
  {
   "cell_type": "code",
   "execution_count": 1799,
   "metadata": {},
   "outputs": [
    {
     "name": "stdout",
     "output_type": "stream",
     "text": [
      "Clusters present: [0]\n",
      "Number of clusters formed: 1\n",
      "Clusters sizes: [ 0 45] \n",
      "\n",
      "Not enough clusters formed for meaningful evaluation metrics.\n",
      "cluster\n",
      "0    45\n",
      "Name: count, dtype: int64\n"
     ]
    },
    {
     "data": {
      "text/html": [
       "<div>\n",
       "<style scoped>\n",
       "    .dataframe tbody tr th:only-of-type {\n",
       "        vertical-align: middle;\n",
       "    }\n",
       "\n",
       "    .dataframe tbody tr th {\n",
       "        vertical-align: top;\n",
       "    }\n",
       "\n",
       "    .dataframe thead th {\n",
       "        text-align: right;\n",
       "    }\n",
       "</style>\n",
       "<table border=\"1\" class=\"dataframe\">\n",
       "  <thead>\n",
       "    <tr style=\"text-align: right;\">\n",
       "      <th></th>\n",
       "      <th>ROE</th>\n",
       "      <th>Market Cap</th>\n",
       "      <th>Mean Return</th>\n",
       "      <th>Variance Return</th>\n",
       "      <th>cluster</th>\n",
       "    </tr>\n",
       "    <tr>\n",
       "      <th>Ticker</th>\n",
       "      <th></th>\n",
       "      <th></th>\n",
       "      <th></th>\n",
       "      <th></th>\n",
       "      <th></th>\n",
       "    </tr>\n",
       "  </thead>\n",
       "  <tbody>\n",
       "    <tr>\n",
       "      <th>ACES.JK</th>\n",
       "      <td>0.019841</td>\n",
       "      <td>-0.503589</td>\n",
       "      <td>0.412495</td>\n",
       "      <td>-0.015084</td>\n",
       "      <td>0</td>\n",
       "    </tr>\n",
       "    <tr>\n",
       "      <th>ADMR.JK</th>\n",
       "      <td>0.778213</td>\n",
       "      <td>-0.325757</td>\n",
       "      <td>0.133485</td>\n",
       "      <td>0.311211</td>\n",
       "      <td>0</td>\n",
       "    </tr>\n",
       "    <tr>\n",
       "      <th>ADRO.JK</th>\n",
       "      <td>0.293330</td>\n",
       "      <td>-0.248688</td>\n",
       "      <td>2.254371</td>\n",
       "      <td>0.823429</td>\n",
       "      <td>0</td>\n",
       "    </tr>\n",
       "    <tr>\n",
       "      <th>AKRA.JK</th>\n",
       "      <td>0.303760</td>\n",
       "      <td>-0.448638</td>\n",
       "      <td>-0.074903</td>\n",
       "      <td>-0.567337</td>\n",
       "      <td>0</td>\n",
       "    </tr>\n",
       "    <tr>\n",
       "      <th>AMMN.JK</th>\n",
       "      <td>-0.139658</td>\n",
       "      <td>2.448907</td>\n",
       "      <td>1.647973</td>\n",
       "      <td>0.691505</td>\n",
       "      <td>0</td>\n",
       "    </tr>\n",
       "  </tbody>\n",
       "</table>\n",
       "</div>"
      ],
      "text/plain": [
       "              ROE  Market Cap  Mean Return  Variance Return  cluster\n",
       "Ticker                                                              \n",
       "ACES.JK  0.019841   -0.503589     0.412495        -0.015084        0\n",
       "ADMR.JK  0.778213   -0.325757     0.133485         0.311211        0\n",
       "ADRO.JK  0.293330   -0.248688     2.254371         0.823429        0\n",
       "AKRA.JK  0.303760   -0.448638    -0.074903        -0.567337        0\n",
       "AMMN.JK -0.139658    2.448907     1.647973         0.691505        0"
      ]
     },
     "execution_count": 1799,
     "metadata": {},
     "output_type": "execute_result"
    }
   ],
   "source": [
    "import numpy as np\n",
    "import pandas as pd\n",
    "from sklearn.cluster import OPTICS\n",
    "from sklearn.metrics import silhouette_score, calinski_harabasz_score, davies_bouldin_score\n",
    "\n",
    "# Assuming df_final is your DataFrame with features for clustering\n",
    "df_optics = df_final.copy()\n",
    "\n",
    "# Apply OPTICS clustering\n",
    "optics = OPTICS(min_samples=10, xi=0.0001, min_cluster_size=0.0000001)\n",
    "optics.fit(df_optics)\n",
    "\n",
    "# Extract labels and number of clusters\n",
    "labels = optics.labels_\n",
    "\n",
    "# Calculate metrics\n",
    "unique_labels = np.unique(labels)\n",
    "n_clusters_formed = len(unique_labels) - (1 if -1 in labels else 0)\n",
    "print(f'Clusters present: {unique_labels}')\n",
    "print(f'Number of clusters formed: {n_clusters_formed}')\n",
    "print(f'Clusters sizes: {np.bincount(labels + 1)}', '\\n')  # +1 to include noise as a category\n",
    "\n",
    "# Calculate and print clustering evaluation metrics, excluding noise\n",
    "non_noise_indices = labels != -1\n",
    "if n_clusters_formed > 1:  # Metrics are meaningful when there is more than one cluster\n",
    "    print(f'Silhouette Score: {silhouette_score(df_optics[non_noise_indices], labels[non_noise_indices])}')\n",
    "    print(f'Calinski-Harabasz Index: {calinski_harabasz_score(df_optics[non_noise_indices], labels[non_noise_indices])}')\n",
    "    print(f'Davies-Bouldin Index: {davies_bouldin_score(df_optics[non_noise_indices], labels[non_noise_indices])}')\n",
    "else:\n",
    "    print(\"Not enough clusters formed for meaningful evaluation metrics.\")\n",
    "\n",
    "# Add cluster labels to the DataFrame\n",
    "df_optics['cluster'] = labels\n",
    "data['Cluster'] = labels\n",
    "\n",
    "# Show the cluster counts\n",
    "print(df_optics['cluster'].value_counts())\n",
    "df_optics.head()\n"
   ]
  },
  {
   "cell_type": "code",
   "execution_count": 1800,
   "metadata": {},
   "outputs": [
    {
     "name": "stdout",
     "output_type": "stream",
     "text": [
      "64.99822785009573 %\n"
     ]
    },
    {
     "data": {
      "text/plain": [
       "<Axes: xlabel='PC_1', ylabel='PC_2'>"
      ]
     },
     "execution_count": 1800,
     "metadata": {},
     "output_type": "execute_result"
    },
    {
     "data": {
      "image/png": "[encoded data removed]",
      "text/plain": [
       "<Figure size 1000x800 with 1 Axes>"
      ]
     },
     "metadata": {},
     "output_type": "display_data"
    }
   ],
   "source": [
    "# Gunakan Dimensionality Reduction dengan PCA untuk mempermudah melakukan visualisasi\n",
    "\n",
    "pca = PCA(n_components = 2)\n",
    "df_pca2 = pd.DataFrame(pca.fit_transform(df_optics.iloc[:,:-1]),\n",
    "                      columns = ['PC_1', 'PC_2'],\n",
    "                      index = df_optics.index)\n",
    "\n",
    "df_pca2 = pd.concat([df_pca2, df_optics.cluster], axis = 1)\n",
    "# df_pca1.head()\n",
    "\n",
    "print(np.sum(pca.explained_variance_ratio_)*100, \"%\") # 2 Dimensi dapat menjelaskan keseluruhan fitur\n",
    "fig = plt.figure(figsize=(10, 8))\n",
    "ax = fig.add_subplot()\n",
    "sns.scatterplot(data = df_pca2, x = 'PC_1', y = 'PC_2', hue = 'cluster', s = 300, ax = ax)"
   ]
  },
  {
   "cell_type": "code",
   "execution_count": 1801,
   "metadata": {},
   "outputs": [
    {
     "data": {
      "application/vnd.plotly.v1+json": {
       "config": {
        "linkText": "Export to plot.ly",
        "plotlyServerURL": "https://plot.ly",
        "showLink": false
       },
       "data": [
        {
         "marker": {
          "color": "rgb(255,0,0)",
          "size": 10
         },
         "mode": "markers",
         "name": "Cluster 0",
         "type": "scatter3d",
         "x": [
          0.08105988478894355,
          -0.18525825652605427,
          0.14184333842681618,
          -0.4271340740506326,
          -0.46715725226262667,
          -0.7029228574907134,
          0.13030714369686827,
          1.5045139440342765,
          -0.7418751709590143,
          -2.4921113132898585,
          -0.49419540763137043,
          -1.1789443839175935,
          0.018968149110860543,
          -1.2011692057341097,
          -0.020804391739309452,
          2.93821905073355,
          1.584669919029207,
          -0.3631262193203064,
          0.6288160697168086,
          -0.09427862172994805,
          5.479827318263787,
          -0.6659332011962683,
          0.36859441971425366,
          -0.8304744400199092,
          0.031241532996836737,
          -0.09977803441343884,
          -0.00005727088608046114,
          -0.9804397186264618,
          -0.4236018626422731,
          -0.4574276737187548,
          0.5793298479203258,
          1.6233710264928392,
          0.8659918324211309,
          0.11538327076359779,
          -0.21551684582422878,
          -0.5152379706736481,
          0.280266820620049,
          -0.7628109122031622,
          -0.5568015900314076,
          0.4452970454035946,
          0.157232212799845,
          -0.5777294754646933,
          -0.18840817686876213,
          -0.946808228317629,
          -1.3849302713953369
         ],
         "y": [
          -0.011719206750588488,
          -0.35823533640000116,
          1.422983002056485,
          -0.4810037607247237,
          2.7296925678588675,
          -0.013767794819980455,
          -0.3829119212765579,
          -0.13245843791592585,
          0.005199018838529775,
          3.106896414067732,
          -0.03011672516481929,
          0.6982601772984874,
          -0.3224692129506533,
          1.309856393314192,
          1.6466857068289564,
          -0.08504651807162589,
          -1.2572829374812218,
          -0.19006356806262506,
          0.8621706901043256,
          0.014172800487777299,
          2.1175788989868174,
          0.19932978941403465,
          -0.7075669674527609,
          0.29925834961114456,
          -0.6761829793138541,
          -1.1863010825131906,
          0.2014929545451939,
          0.1527428271606025,
          -0.6534506007896516,
          -0.6513651758015973,
          -0.5504302319827986,
          -0.10026279065324174,
          -0.687411298346918,
          -0.03378384605668986,
          -0.47010291209350813,
          0.9177906386918604,
          -0.3626948087736142,
          0.2219924640208495,
          -0.33965989408554825,
          -2.0297699007388994,
          -0.3062687331792185,
          -0.5891984290866435,
          -1.1158912202555562,
          0.6265007763026612,
          -2.8071871788461022
         ],
         "z": [
          -0.6450029478156023,
          -0.4170664706460047,
          -1.696031567484351,
          -0.3517923185786128,
          0.7061503173081634,
          -0.2320382781473737,
          -0.1488345146010482,
          -0.006058282781436096,
          0.2551849191006112,
          3.0728041154965915,
          0.21771347033481345,
          2.084542615840946,
          -0.346059802550973,
          1.079430071873729,
          -1.4720963918197256,
          0.5526742580521805,
          0.9445421862119874,
          -0.14153440432419312,
          -1.2946124253641356,
          -0.5450615997932673,
          1.0469239497120997,
          -0.30901039920236073,
          0.20864433506607108,
          -0.8036507228121961,
          0.14350974564056238,
          0.46957493660506927,
          -0.4775639020689848,
          -1.0381097911036727,
          -0.14910540748924614,
          0.1381449873176374,
          -0.04431252437326907,
          0.09979167623335393,
          0.4470062568183703,
          -0.6122589113221135,
          0.0071221778762792665,
          -1.4508196752366878,
          -0.09166234161490354,
          -1.0603758046163323,
          -0.5840082612921811,
          1.3787892052765784,
          -0.34739895314415914,
          1.206062198717991,
          0.37152281394843395,
          -1.0399651715170941,
          0.874296632268455
         ]
        },
        {
         "marker": {
          "color": "rgb(0,255,0)",
          "size": 10
         },
         "mode": "markers",
         "name": "Cluster 1",
         "type": "scatter3d",
         "x": [],
         "y": [],
         "z": []
        },
        {
         "marker": {
          "color": "rgb(255,225,0)",
          "size": 10
         },
         "mode": "markers",
         "name": "Cluster Noise",
         "type": "scatter3d",
         "x": [],
         "y": [],
         "z": []
        }
       ],
       "layout": {
        "margin": {
         "b": 0,
         "l": 0,
         "r": 0,
         "t": 0
        },
        "template": {
         "data": {
          "bar": [
           {
            "error_x": {
             "color": "#2a3f5f"
            },
            "error_y": {
             "color": "#2a3f5f"
            },
            "marker": {
             "line": {
              "color": "#E5ECF6",
              "width": 0.5
             },
             "pattern": {
              "fillmode": "overlay",
              "size": 10,
              "solidity": 0.2
             }
            },
            "type": "bar"
           }
          ],
          "barpolar": [
           {
            "marker": {
             "line": {
              "color": "#E5ECF6",
              "width": 0.5
             },
             "pattern": {
              "fillmode": "overlay",
              "size": 10,
              "solidity": 0.2
             }
            },
            "type": "barpolar"
           }
          ],
          "carpet": [
           {
            "aaxis": {
             "endlinecolor": "#2a3f5f",
             "gridcolor": "white",
             "linecolor": "white",
             "minorgridcolor": "white",
             "startlinecolor": "#2a3f5f"
            },
            "baxis": {
             "endlinecolor": "#2a3f5f",
             "gridcolor": "white",
             "linecolor": "white",
             "minorgridcolor": "white",
             "startlinecolor": "#2a3f5f"
            },
            "type": "carpet"
           }
          ],
          "choropleth": [
           {
            "colorbar": {
             "outlinewidth": 0,
             "ticks": ""
            },
            "type": "choropleth"
           }
          ],
          "contour": [
           {
            "colorbar": {
             "outlinewidth": 0,
             "ticks": ""
            },
            "colorscale": [
             [
              0,
              "#0d0887"
             ],
             [
              0.1111111111111111,
              "#46039f"
             ],
             [
              0.2222222222222222,
              "#7201a8"
             ],
             [
              0.3333333333333333,
              "#9c179e"
             ],
             [
              0.4444444444444444,
              "#bd3786"
             ],
             [
              0.5555555555555556,
              "#d8576b"
             ],
             [
              0.6666666666666666,
              "#ed7953"
             ],
             [
              0.7777777777777778,
              "#fb9f3a"
             ],
             [
              0.8888888888888888,
              "#fdca26"
             ],
             [
              1,
              "#f0f921"
             ]
            ],
            "type": "contour"
           }
          ],
          "contourcarpet": [
           {
            "colorbar": {
             "outlinewidth": 0,
             "ticks": ""
            },
            "type": "contourcarpet"
           }
          ],
          "heatmap": [
           {
            "colorbar": {
             "outlinewidth": 0,
             "ticks": ""
            },
            "colorscale": [
             [
              0,
              "#0d0887"
             ],
             [
              0.1111111111111111,
              "#46039f"
             ],
             [
              0.2222222222222222,
              "#7201a8"
             ],
             [
              0.3333333333333333,
              "#9c179e"
             ],
             [
              0.4444444444444444,
              "#bd3786"
             ],
             [
              0.5555555555555556,
              "#d8576b"
             ],
             [
              0.6666666666666666,
              "#ed7953"
             ],
             [
              0.7777777777777778,
              "#fb9f3a"
             ],
             [
              0.8888888888888888,
              "#fdca26"
             ],
             [
              1,
              "#f0f921"
             ]
            ],
            "type": "heatmap"
           }
          ],
          "heatmapgl": [
           {
            "colorbar": {
             "outlinewidth": 0,
             "ticks": ""
            },
            "colorscale": [
             [
              0,
              "#0d0887"
             ],
             [
              0.1111111111111111,
              "#46039f"
             ],
             [
              0.2222222222222222,
              "#7201a8"
             ],
             [
              0.3333333333333333,
              "#9c179e"
             ],
             [
              0.4444444444444444,
              "#bd3786"
             ],
             [
              0.5555555555555556,
              "#d8576b"
             ],
             [
              0.6666666666666666,
              "#ed7953"
             ],
             [
              0.7777777777777778,
              "#fb9f3a"
             ],
             [
              0.8888888888888888,
              "#fdca26"
             ],
             [
              1,
              "#f0f921"
             ]
            ],
            "type": "heatmapgl"
           }
          ],
          "histogram": [
           {
            "marker": {
             "pattern": {
              "fillmode": "overlay",
              "size": 10,
              "solidity": 0.2
             }
            },
            "type": "histogram"
           }
          ],
          "histogram2d": [
           {
            "colorbar": {
             "outlinewidth": 0,
             "ticks": ""
            },
            "colorscale": [
             [
              0,
              "#0d0887"
             ],
             [
              0.1111111111111111,
              "#46039f"
             ],
             [
              0.2222222222222222,
              "#7201a8"
             ],
             [
              0.3333333333333333,
              "#9c179e"
             ],
             [
              0.4444444444444444,
              "#bd3786"
             ],
             [
              0.5555555555555556,
              "#d8576b"
             ],
             [
              0.6666666666666666,
              "#ed7953"
             ],
             [
              0.7777777777777778,
              "#fb9f3a"
             ],
             [
              0.8888888888888888,
              "#fdca26"
             ],
             [
              1,
              "#f0f921"
             ]
            ],
            "type": "histogram2d"
           }
          ],
          "histogram2dcontour": [
           {
            "colorbar": {
             "outlinewidth": 0,
             "ticks": ""
            },
            "colorscale": [
             [
              0,
              "#0d0887"
             ],
             [
              0.1111111111111111,
              "#46039f"
             ],
             [
              0.2222222222222222,
              "#7201a8"
             ],
             [
              0.3333333333333333,
              "#9c179e"
             ],
             [
              0.4444444444444444,
              "#bd3786"
             ],
             [
              0.5555555555555556,
              "#d8576b"
             ],
             [
              0.6666666666666666,
              "#ed7953"
             ],
             [
              0.7777777777777778,
              "#fb9f3a"
             ],
             [
              0.8888888888888888,
              "#fdca26"
             ],
             [
              1,
              "#f0f921"
             ]
            ],
            "type": "histogram2dcontour"
           }
          ],
          "mesh3d": [
           {
            "colorbar": {
             "outlinewidth": 0,
             "ticks": ""
            },
            "type": "mesh3d"
           }
          ],
          "parcoords": [
           {
            "line": {
             "colorbar": {
              "outlinewidth": 0,
              "ticks": ""
             }
            },
            "type": "parcoords"
           }
          ],
          "pie": [
           {
            "automargin": true,
            "type": "pie"
           }
          ],
          "scatter": [
           {
            "fillpattern": {
             "fillmode": "overlay",
             "size": 10,
             "solidity": 0.2
            },
            "type": "scatter"
           }
          ],
          "scatter3d": [
           {
            "line": {
             "colorbar": {
              "outlinewidth": 0,
              "ticks": ""
             }
            },
            "marker": {
             "colorbar": {
              "outlinewidth": 0,
              "ticks": ""
             }
            },
            "type": "scatter3d"
           }
          ],
          "scattercarpet": [
           {
            "marker": {
             "colorbar": {
              "outlinewidth": 0,
              "ticks": ""
             }
            },
            "type": "scattercarpet"
           }
          ],
          "scattergeo": [
           {
            "marker": {
             "colorbar": {
              "outlinewidth": 0,
              "ticks": ""
             }
            },
            "type": "scattergeo"
           }
          ],
          "scattergl": [
           {
            "marker": {
             "colorbar": {
              "outlinewidth": 0,
              "ticks": ""
             }
            },
            "type": "scattergl"
           }
          ],
          "scattermapbox": [
           {
            "marker": {
             "colorbar": {
              "outlinewidth": 0,
              "ticks": ""
             }
            },
            "type": "scattermapbox"
           }
          ],
          "scatterpolar": [
           {
            "marker": {
             "colorbar": {
              "outlinewidth": 0,
              "ticks": ""
             }
            },
            "type": "scatterpolar"
           }
          ],
          "scatterpolargl": [
           {
            "marker": {
             "colorbar": {
              "outlinewidth": 0,
              "ticks": ""
             }
            },
            "type": "scatterpolargl"
           }
          ],
          "scatterternary": [
           {
            "marker": {
             "colorbar": {
              "outlinewidth": 0,
              "ticks": ""
             }
            },
            "type": "scatterternary"
           }
          ],
          "surface": [
           {
            "colorbar": {
             "outlinewidth": 0,
             "ticks": ""
            },
            "colorscale": [
             [
              0,
              "#0d0887"
             ],
             [
              0.1111111111111111,
              "#46039f"
             ],
             [
              0.2222222222222222,
              "#7201a8"
             ],
             [
              0.3333333333333333,
              "#9c179e"
             ],
             [
              0.4444444444444444,
              "#bd3786"
             ],
             [
              0.5555555555555556,
              "#d8576b"
             ],
             [
              0.6666666666666666,
              "#ed7953"
             ],
             [
              0.7777777777777778,
              "#fb9f3a"
             ],
             [
              0.8888888888888888,
              "#fdca26"
             ],
             [
              1,
              "#f0f921"
             ]
            ],
            "type": "surface"
           }
          ],
          "table": [
           {
            "cells": {
             "fill": {
              "color": "#EBF0F8"
             },
             "line": {
              "color": "white"
             }
            },
            "header": {
             "fill": {
              "color": "#C8D4E3"
             },
             "line": {
              "color": "white"
             }
            },
            "type": "table"
           }
          ]
         },
         "layout": {
          "annotationdefaults": {
           "arrowcolor": "#2a3f5f",
           "arrowhead": 0,
           "arrowwidth": 1
          },
          "autotypenumbers": "strict",
          "coloraxis": {
           "colorbar": {
            "outlinewidth": 0,
            "ticks": ""
           }
          },
          "colorscale": {
           "diverging": [
            [
             0,
             "#8e0152"
            ],
            [
             0.1,
             "#c51b7d"
            ],
            [
             0.2,
             "#de77ae"
            ],
            [
             0.3,
             "#f1b6da"
            ],
            [
             0.4,
             "#fde0ef"
            ],
            [
             0.5,
             "#f7f7f7"
            ],
            [
             0.6,
             "#e6f5d0"
            ],
            [
             0.7,
             "#b8e186"
            ],
            [
             0.8,
             "#7fbc41"
            ],
            [
             0.9,
             "#4d9221"
            ],
            [
             1,
             "#276419"
            ]
           ],
           "sequential": [
            [
             0,
             "#0d0887"
            ],
            [
             0.1111111111111111,
             "#46039f"
            ],
            [
             0.2222222222222222,
             "#7201a8"
            ],
            [
             0.3333333333333333,
             "#9c179e"
            ],
            [
             0.4444444444444444,
             "#bd3786"
            ],
            [
             0.5555555555555556,
             "#d8576b"
            ],
            [
             0.6666666666666666,
             "#ed7953"
            ],
            [
             0.7777777777777778,
             "#fb9f3a"
            ],
            [
             0.8888888888888888,
             "#fdca26"
            ],
            [
             1,
             "#f0f921"
            ]
           ],
           "sequentialminus": [
            [
             0,
             "#0d0887"
            ],
            [
             0.1111111111111111,
             "#46039f"
            ],
            [
             0.2222222222222222,
             "#7201a8"
            ],
            [
             0.3333333333333333,
             "#9c179e"
            ],
            [
             0.4444444444444444,
             "#bd3786"
            ],
            [
             0.5555555555555556,
             "#d8576b"
            ],
            [
             0.6666666666666666,
             "#ed7953"
            ],
            [
             0.7777777777777778,
             "#fb9f3a"
            ],
            [
             0.8888888888888888,
             "#fdca26"
            ],
            [
             1,
             "#f0f921"
            ]
           ]
          },
          "colorway": [
           "#636efa",
           "#EF553B",
           "#00cc96",
           "#ab63fa",
           "#FFA15A",
           "#19d3f3",
           "#FF6692",
           "#B6E880",
           "#FF97FF",
           "#FECB52"
          ],
          "font": {
           "color": "#2a3f5f"
          },
          "geo": {
           "bgcolor": "white",
           "lakecolor": "white",
           "landcolor": "#E5ECF6",
           "showlakes": true,
           "showland": true,
           "subunitcolor": "white"
          },
          "hoverlabel": {
           "align": "left"
          },
          "hovermode": "closest",
          "mapbox": {
           "style": "light"
          },
          "paper_bgcolor": "white",
          "plot_bgcolor": "#E5ECF6",
          "polar": {
           "angularaxis": {
            "gridcolor": "white",
            "linecolor": "white",
            "ticks": ""
           },
           "bgcolor": "#E5ECF6",
           "radialaxis": {
            "gridcolor": "white",
            "linecolor": "white",
            "ticks": ""
           }
          },
          "scene": {
           "xaxis": {
            "backgroundcolor": "#E5ECF6",
            "gridcolor": "white",
            "gridwidth": 2,
            "linecolor": "white",
            "showbackground": true,
            "ticks": "",
            "zerolinecolor": "white"
           },
           "yaxis": {
            "backgroundcolor": "#E5ECF6",
            "gridcolor": "white",
            "gridwidth": 2,
            "linecolor": "white",
            "showbackground": true,
            "ticks": "",
            "zerolinecolor": "white"
           },
           "zaxis": {
            "backgroundcolor": "#E5ECF6",
            "gridcolor": "white",
            "gridwidth": 2,
            "linecolor": "white",
            "showbackground": true,
            "ticks": "",
            "zerolinecolor": "white"
           }
          },
          "shapedefaults": {
           "line": {
            "color": "#2a3f5f"
           }
          },
          "ternary": {
           "aaxis": {
            "gridcolor": "white",
            "linecolor": "white",
            "ticks": ""
           },
           "baxis": {
            "gridcolor": "white",
            "linecolor": "white",
            "ticks": ""
           },
           "bgcolor": "#E5ECF6",
           "caxis": {
            "gridcolor": "white",
            "linecolor": "white",
            "ticks": ""
           }
          },
          "title": {
           "x": 0.05
          },
          "xaxis": {
           "automargin": true,
           "gridcolor": "white",
           "linecolor": "white",
           "ticks": "",
           "title": {
            "standoff": 15
           },
           "zerolinecolor": "white",
           "zerolinewidth": 2
          },
          "yaxis": {
           "automargin": true,
           "gridcolor": "white",
           "linecolor": "white",
           "ticks": "",
           "title": {
            "standoff": 15
           },
           "zerolinecolor": "white",
           "zerolinewidth": 2
          }
         }
        }
       }
      },
      "text/html": [
       "<div>                            <div id=\"82da7c3e-ad4b-4df3-902d-8de2c430bfb5\" class=\"plotly-graph-div\" style=\"height:525px; width:100%;\"></div>            <script type=\"text/javascript\">                require([\"plotly\"], function(Plotly) {                    window.PLOTLYENV=window.PLOTLYENV || {};                                    if (document.getElementById(\"82da7c3e-ad4b-4df3-902d-8de2c430bfb5\")) {                    Plotly.newPlot(                        \"82da7c3e-ad4b-4df3-902d-8de2c430bfb5\",                        [{\"marker\":{\"color\":\"rgb(255,0,0)\",\"size\":10},\"mode\":\"markers\",\"name\":\"Cluster 0\",\"x\":[0.08105988478894355,-0.18525825652605427,0.14184333842681618,-0.4271340740506326,-0.46715725226262667,-0.7029228574907134,0.13030714369686827,1.5045139440342765,-0.7418751709590143,-2.4921113132898585,-0.49419540763137043,-1.1789443839175935,0.018968149110860543,-1.2011692057341097,-0.020804391739309452,2.93821905073355,1.584669919029207,-0.3631262193203064,0.6288160697168086,-0.09427862172994805,5.479827318263787,-0.6659332011962683,0.36859441971425366,-0.8304744400199092,0.031241532996836737,-0.09977803441343884,-5.727088608046114e-05,-0.9804397186264618,-0.4236018626422731,-0.4574276737187548,0.5793298479203258,1.6233710264928392,0.8659918324211309,0.11538327076359779,-0.21551684582422878,-0.5152379706736481,0.280266820620049,-0.7628109122031622,-0.5568015900314076,0.4452970454035946,0.157232212799845,-0.5777294754646933,-0.18840817686876213,-0.946808228317629,-1.3849302713953369],\"y\":[-0.011719206750588488,-0.35823533640000116,1.422983002056485,-0.4810037607247237,2.7296925678588675,-0.013767794819980455,-0.3829119212765579,-0.13245843791592585,0.005199018838529775,3.106896414067732,-0.03011672516481929,0.6982601772984874,-0.3224692129506533,1.309856393314192,1.6466857068289564,-0.08504651807162589,-1.2572829374812218,-0.19006356806262506,0.8621706901043256,0.014172800487777299,2.1175788989868174,0.19932978941403465,-0.7075669674527609,0.29925834961114456,-0.6761829793138541,-1.1863010825131906,0.2014929545451939,0.1527428271606025,-0.6534506007896516,-0.6513651758015973,-0.5504302319827986,-0.10026279065324174,-0.687411298346918,-0.03378384605668986,-0.47010291209350813,0.9177906386918604,-0.3626948087736142,0.2219924640208495,-0.33965989408554825,-2.0297699007388994,-0.3062687331792185,-0.5891984290866435,-1.1158912202555562,0.6265007763026612,-2.8071871788461022],\"z\":[-0.6450029478156023,-0.4170664706460047,-1.696031567484351,-0.3517923185786128,0.7061503173081634,-0.2320382781473737,-0.1488345146010482,-0.006058282781436096,0.2551849191006112,3.0728041154965915,0.21771347033481345,2.084542615840946,-0.346059802550973,1.079430071873729,-1.4720963918197256,0.5526742580521805,0.9445421862119874,-0.14153440432419312,-1.2946124253641356,-0.5450615997932673,1.0469239497120997,-0.30901039920236073,0.20864433506607108,-0.8036507228121961,0.14350974564056238,0.46957493660506927,-0.4775639020689848,-1.0381097911036727,-0.14910540748924614,0.1381449873176374,-0.04431252437326907,0.09979167623335393,0.4470062568183703,-0.6122589113221135,0.0071221778762792665,-1.4508196752366878,-0.09166234161490354,-1.0603758046163323,-0.5840082612921811,1.3787892052765784,-0.34739895314415914,1.206062198717991,0.37152281394843395,-1.0399651715170941,0.874296632268455],\"type\":\"scatter3d\"},{\"marker\":{\"color\":\"rgb(0,255,0)\",\"size\":10},\"mode\":\"markers\",\"name\":\"Cluster 1\",\"x\":[],\"y\":[],\"z\":[],\"type\":\"scatter3d\"},{\"marker\":{\"color\":\"rgb(255,225,0)\",\"size\":10},\"mode\":\"markers\",\"name\":\"Cluster Noise\",\"x\":[],\"y\":[],\"z\":[],\"type\":\"scatter3d\"}],                        {\"margin\":{\"b\":0,\"l\":0,\"r\":0,\"t\":0},\"template\":{\"data\":{\"barpolar\":[{\"marker\":{\"line\":{\"color\":\"#E5ECF6\",\"width\":0.5},\"pattern\":{\"fillmode\":\"overlay\",\"size\":10,\"solidity\":0.2}},\"type\":\"barpolar\"}],\"bar\":[{\"error_x\":{\"color\":\"#2a3f5f\"},\"error_y\":{\"color\":\"#2a3f5f\"},\"marker\":{\"line\":{\"color\":\"#E5ECF6\",\"width\":0.5},\"pattern\":{\"fillmode\":\"overlay\",\"size\":10,\"solidity\":0.2}},\"type\":\"bar\"}],\"carpet\":[{\"aaxis\":{\"endlinecolor\":\"#2a3f5f\",\"gridcolor\":\"white\",\"linecolor\":\"white\",\"minorgridcolor\":\"white\",\"startlinecolor\":\"#2a3f5f\"},\"baxis\":{\"endlinecolor\":\"#2a3f5f\",\"gridcolor\":\"white\",\"linecolor\":\"white\",\"minorgridcolor\":\"white\",\"startlinecolor\":\"#2a3f5f\"},\"type\":\"carpet\"}],\"choropleth\":[{\"colorbar\":{\"outlinewidth\":0,\"ticks\":\"\"},\"type\":\"choropleth\"}],\"contourcarpet\":[{\"colorbar\":{\"outlinewidth\":0,\"ticks\":\"\"},\"type\":\"contourcarpet\"}],\"contour\":[{\"colorbar\":{\"outlinewidth\":0,\"ticks\":\"\"},\"colorscale\":[[0.0,\"#0d0887\"],[0.1111111111111111,\"#46039f\"],[0.2222222222222222,\"#7201a8\"],[0.3333333333333333,\"#9c179e\"],[0.4444444444444444,\"#bd3786\"],[0.5555555555555556,\"#d8576b\"],[0.6666666666666666,\"#ed7953\"],[0.7777777777777778,\"#fb9f3a\"],[0.8888888888888888,\"#fdca26\"],[1.0,\"#f0f921\"]],\"type\":\"contour\"}],\"heatmapgl\":[{\"colorbar\":{\"outlinewidth\":0,\"ticks\":\"\"},\"colorscale\":[[0.0,\"#0d0887\"],[0.1111111111111111,\"#46039f\"],[0.2222222222222222,\"#7201a8\"],[0.3333333333333333,\"#9c179e\"],[0.4444444444444444,\"#bd3786\"],[0.5555555555555556,\"#d8576b\"],[0.6666666666666666,\"#ed7953\"],[0.7777777777777778,\"#fb9f3a\"],[0.8888888888888888,\"#fdca26\"],[1.0,\"#f0f921\"]],\"type\":\"heatmapgl\"}],\"heatmap\":[{\"colorbar\":{\"outlinewidth\":0,\"ticks\":\"\"},\"colorscale\":[[0.0,\"#0d0887\"],[0.1111111111111111,\"#46039f\"],[0.2222222222222222,\"#7201a8\"],[0.3333333333333333,\"#9c179e\"],[0.4444444444444444,\"#bd3786\"],[0.5555555555555556,\"#d8576b\"],[0.6666666666666666,\"#ed7953\"],[0.7777777777777778,\"#fb9f3a\"],[0.8888888888888888,\"#fdca26\"],[1.0,\"#f0f921\"]],\"type\":\"heatmap\"}],\"histogram2dcontour\":[{\"colorbar\":{\"outlinewidth\":0,\"ticks\":\"\"},\"colorscale\":[[0.0,\"#0d0887\"],[0.1111111111111111,\"#46039f\"],[0.2222222222222222,\"#7201a8\"],[0.3333333333333333,\"#9c179e\"],[0.4444444444444444,\"#bd3786\"],[0.5555555555555556,\"#d8576b\"],[0.6666666666666666,\"#ed7953\"],[0.7777777777777778,\"#fb9f3a\"],[0.8888888888888888,\"#fdca26\"],[1.0,\"#f0f921\"]],\"type\":\"histogram2dcontour\"}],\"histogram2d\":[{\"colorbar\":{\"outlinewidth\":0,\"ticks\":\"\"},\"colorscale\":[[0.0,\"#0d0887\"],[0.1111111111111111,\"#46039f\"],[0.2222222222222222,\"#7201a8\"],[0.3333333333333333,\"#9c179e\"],[0.4444444444444444,\"#bd3786\"],[0.5555555555555556,\"#d8576b\"],[0.6666666666666666,\"#ed7953\"],[0.7777777777777778,\"#fb9f3a\"],[0.8888888888888888,\"#fdca26\"],[1.0,\"#f0f921\"]],\"type\":\"histogram2d\"}],\"histogram\":[{\"marker\":{\"pattern\":{\"fillmode\":\"overlay\",\"size\":10,\"solidity\":0.2}},\"type\":\"histogram\"}],\"mesh3d\":[{\"colorbar\":{\"outlinewidth\":0,\"ticks\":\"\"},\"type\":\"mesh3d\"}],\"parcoords\":[{\"line\":{\"colorbar\":{\"outlinewidth\":0,\"ticks\":\"\"}},\"type\":\"parcoords\"}],\"pie\":[{\"automargin\":true,\"type\":\"pie\"}],\"scatter3d\":[{\"line\":{\"colorbar\":{\"outlinewidth\":0,\"ticks\":\"\"}},\"marker\":{\"colorbar\":{\"outlinewidth\":0,\"ticks\":\"\"}},\"type\":\"scatter3d\"}],\"scattercarpet\":[{\"marker\":{\"colorbar\":{\"outlinewidth\":0,\"ticks\":\"\"}},\"type\":\"scattercarpet\"}],\"scattergeo\":[{\"marker\":{\"colorbar\":{\"outlinewidth\":0,\"ticks\":\"\"}},\"type\":\"scattergeo\"}],\"scattergl\":[{\"marker\":{\"colorbar\":{\"outlinewidth\":0,\"ticks\":\"\"}},\"type\":\"scattergl\"}],\"scattermapbox\":[{\"marker\":{\"colorbar\":{\"outlinewidth\":0,\"ticks\":\"\"}},\"type\":\"scattermapbox\"}],\"scatterpolargl\":[{\"marker\":{\"colorbar\":{\"outlinewidth\":0,\"ticks\":\"\"}},\"type\":\"scatterpolargl\"}],\"scatterpolar\":[{\"marker\":{\"colorbar\":{\"outlinewidth\":0,\"ticks\":\"\"}},\"type\":\"scatterpolar\"}],\"scatter\":[{\"fillpattern\":{\"fillmode\":\"overlay\",\"size\":10,\"solidity\":0.2},\"type\":\"scatter\"}],\"scatterternary\":[{\"marker\":{\"colorbar\":{\"outlinewidth\":0,\"ticks\":\"\"}},\"type\":\"scatterternary\"}],\"surface\":[{\"colorbar\":{\"outlinewidth\":0,\"ticks\":\"\"},\"colorscale\":[[0.0,\"#0d0887\"],[0.1111111111111111,\"#46039f\"],[0.2222222222222222,\"#7201a8\"],[0.3333333333333333,\"#9c179e\"],[0.4444444444444444,\"#bd3786\"],[0.5555555555555556,\"#d8576b\"],[0.6666666666666666,\"#ed7953\"],[0.7777777777777778,\"#fb9f3a\"],[0.8888888888888888,\"#fdca26\"],[1.0,\"#f0f921\"]],\"type\":\"surface\"}],\"table\":[{\"cells\":{\"fill\":{\"color\":\"#EBF0F8\"},\"line\":{\"color\":\"white\"}},\"header\":{\"fill\":{\"color\":\"#C8D4E3\"},\"line\":{\"color\":\"white\"}},\"type\":\"table\"}]},\"layout\":{\"annotationdefaults\":{\"arrowcolor\":\"#2a3f5f\",\"arrowhead\":0,\"arrowwidth\":1},\"autotypenumbers\":\"strict\",\"coloraxis\":{\"colorbar\":{\"outlinewidth\":0,\"ticks\":\"\"}},\"colorscale\":{\"diverging\":[[0,\"#8e0152\"],[0.1,\"#c51b7d\"],[0.2,\"#de77ae\"],[0.3,\"#f1b6da\"],[0.4,\"#fde0ef\"],[0.5,\"#f7f7f7\"],[0.6,\"#e6f5d0\"],[0.7,\"#b8e186\"],[0.8,\"#7fbc41\"],[0.9,\"#4d9221\"],[1,\"#276419\"]],\"sequential\":[[0.0,\"#0d0887\"],[0.1111111111111111,\"#46039f\"],[0.2222222222222222,\"#7201a8\"],[0.3333333333333333,\"#9c179e\"],[0.4444444444444444,\"#bd3786\"],[0.5555555555555556,\"#d8576b\"],[0.6666666666666666,\"#ed7953\"],[0.7777777777777778,\"#fb9f3a\"],[0.8888888888888888,\"#fdca26\"],[1.0,\"#f0f921\"]],\"sequentialminus\":[[0.0,\"#0d0887\"],[0.1111111111111111,\"#46039f\"],[0.2222222222222222,\"#7201a8\"],[0.3333333333333333,\"#9c179e\"],[0.4444444444444444,\"#bd3786\"],[0.5555555555555556,\"#d8576b\"],[0.6666666666666666,\"#ed7953\"],[0.7777777777777778,\"#fb9f3a\"],[0.8888888888888888,\"#fdca26\"],[1.0,\"#f0f921\"]]},\"colorway\":[\"#636efa\",\"#EF553B\",\"#00cc96\",\"#ab63fa\",\"#FFA15A\",\"#19d3f3\",\"#FF6692\",\"#B6E880\",\"#FF97FF\",\"#FECB52\"],\"font\":{\"color\":\"#2a3f5f\"},\"geo\":{\"bgcolor\":\"white\",\"lakecolor\":\"white\",\"landcolor\":\"#E5ECF6\",\"showlakes\":true,\"showland\":true,\"subunitcolor\":\"white\"},\"hoverlabel\":{\"align\":\"left\"},\"hovermode\":\"closest\",\"mapbox\":{\"style\":\"light\"},\"paper_bgcolor\":\"white\",\"plot_bgcolor\":\"#E5ECF6\",\"polar\":{\"angularaxis\":{\"gridcolor\":\"white\",\"linecolor\":\"white\",\"ticks\":\"\"},\"bgcolor\":\"#E5ECF6\",\"radialaxis\":{\"gridcolor\":\"white\",\"linecolor\":\"white\",\"ticks\":\"\"}},\"scene\":{\"xaxis\":{\"backgroundcolor\":\"#E5ECF6\",\"gridcolor\":\"white\",\"gridwidth\":2,\"linecolor\":\"white\",\"showbackground\":true,\"ticks\":\"\",\"zerolinecolor\":\"white\"},\"yaxis\":{\"backgroundcolor\":\"#E5ECF6\",\"gridcolor\":\"white\",\"gridwidth\":2,\"linecolor\":\"white\",\"showbackground\":true,\"ticks\":\"\",\"zerolinecolor\":\"white\"},\"zaxis\":{\"backgroundcolor\":\"#E5ECF6\",\"gridcolor\":\"white\",\"gridwidth\":2,\"linecolor\":\"white\",\"showbackground\":true,\"ticks\":\"\",\"zerolinecolor\":\"white\"}},\"shapedefaults\":{\"line\":{\"color\":\"#2a3f5f\"}},\"ternary\":{\"aaxis\":{\"gridcolor\":\"white\",\"linecolor\":\"white\",\"ticks\":\"\"},\"baxis\":{\"gridcolor\":\"white\",\"linecolor\":\"white\",\"ticks\":\"\"},\"bgcolor\":\"#E5ECF6\",\"caxis\":{\"gridcolor\":\"white\",\"linecolor\":\"white\",\"ticks\":\"\"}},\"title\":{\"x\":0.05},\"xaxis\":{\"automargin\":true,\"gridcolor\":\"white\",\"linecolor\":\"white\",\"ticks\":\"\",\"title\":{\"standoff\":15},\"zerolinecolor\":\"white\",\"zerolinewidth\":2},\"yaxis\":{\"automargin\":true,\"gridcolor\":\"white\",\"linecolor\":\"white\",\"ticks\":\"\",\"title\":{\"standoff\":15},\"zerolinecolor\":\"white\",\"zerolinewidth\":2}}}},                        {\"responsive\": true}                    ).then(function(){\n",
       "                            \n",
       "var gd = document.getElementById('82da7c3e-ad4b-4df3-902d-8de2c430bfb5');\n",
       "var x = new MutationObserver(function (mutations, observer) {{\n",
       "        var display = window.getComputedStyle(gd).display;\n",
       "        if (!display || display === 'none') {{\n",
       "            console.log([gd, 'removed!']);\n",
       "            Plotly.purge(gd);\n",
       "            observer.disconnect();\n",
       "        }}\n",
       "}});\n",
       "\n",
       "// Listen for the removal of the full notebook cells\n",
       "var notebookContainer = gd.closest('#notebook-container');\n",
       "if (notebookContainer) {{\n",
       "    x.observe(notebookContainer, {childList: true});\n",
       "}}\n",
       "\n",
       "// Listen for the clearing of the current output cell\n",
       "var outputEl = gd.closest('.output');\n",
       "if (outputEl) {{\n",
       "    x.observe(outputEl, {childList: true});\n",
       "}}\n",
       "\n",
       "                        })                };                });            </script>        </div>"
      ]
     },
     "metadata": {},
     "output_type": "display_data"
    }
   ],
   "source": [
    "# Gunakan Dimensionality Reduction dengan PCA untuk mempermudah melakukan visualisasi\n",
    "\n",
    "pca = PCA(n_components = 3)\n",
    "df_pca_3 = pd.DataFrame(pca.fit_transform(df_optics.iloc[:,:-1]),\n",
    "                      columns = ['PC1', 'PC2', 'PC3'],\n",
    "                      index = df_optics.index)\n",
    "\n",
    "df_pca_3 = pd.concat([df_pca_3, df_optics.cluster], axis = 1)\n",
    "# df_pca1.head()\n",
    "\n",
    "# membuat visualisasi 3D untuk setiap klaster\n",
    "# klaster 1\n",
    "Cluster0= go.Scatter3d(\n",
    "        x=df_pca_3[df_pca_3['cluster']==0]['PC1'],\n",
    "        y=df_pca_3[df_pca_3['cluster']==0]['PC2'],\n",
    "        z=df_pca_3[df_pca_3['cluster']==0]['PC3'],\n",
    "        mode=\"markers\",\n",
    "        marker=dict(\n",
    "                    size=10,\n",
    "                    color=\"rgb(255,0,0)\",\n",
    "        ),\n",
    "        name=\"Cluster 0\"\n",
    ")\n",
    "\n",
    "#klaster 2\n",
    "Cluster1= go.Scatter3d(\n",
    "        x=df_pca_3[df_pca_3['cluster']==1]['PC1'],\n",
    "        y=df_pca_3[df_pca_3['cluster']==1]['PC2'],\n",
    "        z=df_pca_3[df_pca_3['cluster']==1]['PC3'],\n",
    "        mode=\"markers\",\n",
    "        marker=dict(\n",
    "                    size=10,\n",
    "                    color=\"rgb(0,255,0)\",\n",
    "        ),\n",
    "        name=\"Cluster 1\"\n",
    ")\n",
    "\n",
    "# # klaster 3\n",
    "# Cluster2= go.Scatter3d(\n",
    "#         x=df_pca_3[df_pca_3['cluster']==2]['PC1'],\n",
    "#         y=df_pca_3[df_pca_3['cluster']==2]['PC2'],\n",
    "#         z=df_pca_3[df_pca_3['cluster']==2]['PC3'],\n",
    "#         mode=\"markers\",\n",
    "#         marker=dict(\n",
    "#                     size=10,\n",
    "#                     color=\"rgb(0,0,255)\",\n",
    "#         ),\n",
    "#         name=\"Cluster 2\"\n",
    "# )\n",
    "# klaster noise\n",
    "Cluster3= go.Scatter3d(\n",
    "        x=df_pca_3[df_pca_3['cluster']==-1]['PC1'],\n",
    "        y=df_pca_3[df_pca_3['cluster']==-1]['PC2'],\n",
    "        z=df_pca_3[df_pca_3['cluster']==-1]['PC3'],\n",
    "        mode=\"markers\",\n",
    "        marker=dict(\n",
    "                    size=10,\n",
    "                    color=\"rgb(255,225,0)\",\n",
    "        ),\n",
    "        name=\"Cluster Noise\"\n",
    ")\n",
    "\n",
    "data_plot_km=[Cluster0,Cluster1,Cluster3]\n",
    "\n",
    "# membuat plot\n",
    "layout = go.Layout(\n",
    "    margin=dict(l=0, r=0, b=0, t=0))\n",
    "\n",
    "fig=go.Figure(data = data_plot_km, layout = layout)\n",
    "iplot(fig)"
   ]
  },
  {
   "cell_type": "markdown",
   "metadata": {},
   "source": [
    "# BIRCH"
   ]
  },
  {
   "cell_type": "code",
   "execution_count": 1802,
   "metadata": {},
   "outputs": [
    {
     "name": "stdout",
     "output_type": "stream",
     "text": [
      "Clusters present: [0 1 2]\n",
      "Number of clusters formed: 3\n",
      "Clusters sizes: [40  1  4] \n",
      "\n",
      "Silhouette Score: 0.48052274695254366\n",
      "Calinski-Harabasz Index: 16.54532989280959\n",
      "Davies-Bouldin Index: 0.6401671062935425\n",
      "cluster\n",
      "0    40\n",
      "2     4\n",
      "1     1\n",
      "Name: count, dtype: int64\n"
     ]
    },
    {
     "data": {
      "text/html": [
       "<div>\n",
       "<style scoped>\n",
       "    .dataframe tbody tr th:only-of-type {\n",
       "        vertical-align: middle;\n",
       "    }\n",
       "\n",
       "    .dataframe tbody tr th {\n",
       "        vertical-align: top;\n",
       "    }\n",
       "\n",
       "    .dataframe thead th {\n",
       "        text-align: right;\n",
       "    }\n",
       "</style>\n",
       "<table border=\"1\" class=\"dataframe\">\n",
       "  <thead>\n",
       "    <tr style=\"text-align: right;\">\n",
       "      <th></th>\n",
       "      <th>ROE</th>\n",
       "      <th>Market Cap</th>\n",
       "      <th>Mean Return</th>\n",
       "      <th>Variance Return</th>\n",
       "      <th>cluster</th>\n",
       "    </tr>\n",
       "    <tr>\n",
       "      <th>Ticker</th>\n",
       "      <th></th>\n",
       "      <th></th>\n",
       "      <th></th>\n",
       "      <th></th>\n",
       "      <th></th>\n",
       "    </tr>\n",
       "  </thead>\n",
       "  <tbody>\n",
       "    <tr>\n",
       "      <th>ACES.JK</th>\n",
       "      <td>0.019841</td>\n",
       "      <td>-0.503589</td>\n",
       "      <td>0.412495</td>\n",
       "      <td>-0.015084</td>\n",
       "      <td>0</td>\n",
       "    </tr>\n",
       "    <tr>\n",
       "      <th>ADMR.JK</th>\n",
       "      <td>0.778213</td>\n",
       "      <td>-0.325757</td>\n",
       "      <td>0.133485</td>\n",
       "      <td>0.311211</td>\n",
       "      <td>0</td>\n",
       "    </tr>\n",
       "    <tr>\n",
       "      <th>ADRO.JK</th>\n",
       "      <td>0.293330</td>\n",
       "      <td>-0.248688</td>\n",
       "      <td>2.254371</td>\n",
       "      <td>0.823429</td>\n",
       "      <td>0</td>\n",
       "    </tr>\n",
       "    <tr>\n",
       "      <th>AKRA.JK</th>\n",
       "      <td>0.303760</td>\n",
       "      <td>-0.448638</td>\n",
       "      <td>-0.074903</td>\n",
       "      <td>-0.567337</td>\n",
       "      <td>0</td>\n",
       "    </tr>\n",
       "    <tr>\n",
       "      <th>AMMN.JK</th>\n",
       "      <td>-0.139658</td>\n",
       "      <td>2.448907</td>\n",
       "      <td>1.647973</td>\n",
       "      <td>0.691505</td>\n",
       "      <td>2</td>\n",
       "    </tr>\n",
       "  </tbody>\n",
       "</table>\n",
       "</div>"
      ],
      "text/plain": [
       "              ROE  Market Cap  Mean Return  Variance Return  cluster\n",
       "Ticker                                                              \n",
       "ACES.JK  0.019841   -0.503589     0.412495        -0.015084        0\n",
       "ADMR.JK  0.778213   -0.325757     0.133485         0.311211        0\n",
       "ADRO.JK  0.293330   -0.248688     2.254371         0.823429        0\n",
       "AKRA.JK  0.303760   -0.448638    -0.074903        -0.567337        0\n",
       "AMMN.JK -0.139658    2.448907     1.647973         0.691505        2"
      ]
     },
     "execution_count": 1802,
     "metadata": {},
     "output_type": "execute_result"
    }
   ],
   "source": [
    "import numpy as np\n",
    "import pandas as pd\n",
    "from sklearn.cluster import Birch\n",
    "from sklearn.metrics import silhouette_score, calinski_harabasz_score, davies_bouldin_score\n",
    "\n",
    "# Assuming df_final is your DataFrame with features for clustering\n",
    "df_birch = df_final.copy()\n",
    "\n",
    "# Apply BIRCH clustering\n",
    "birch = Birch(n_clusters=3)\n",
    "birch.fit(df_birch)\n",
    "\n",
    "# Extract labels\n",
    "labels = birch.labels_\n",
    "\n",
    "# Calculate metrics\n",
    "unique_labels = np.unique(labels)\n",
    "n_clusters_formed = len(unique_labels)\n",
    "print(f'Clusters present: {unique_labels}')\n",
    "print(f'Number of clusters formed: {n_clusters_formed}')\n",
    "print(f'Clusters sizes: {np.bincount(labels)}', '\\n')\n",
    "\n",
    "# Calculate and print clustering evaluation metrics\n",
    "print(f'Silhouette Score: {silhouette_score(df_birch, labels)}')\n",
    "print(f'Calinski-Harabasz Index: {calinski_harabasz_score(df_birch, labels)}')\n",
    "print(f'Davies-Bouldin Index: {davies_bouldin_score(df_birch, labels)}')\n",
    "\n",
    "# Add cluster labels to the DataFrame\n",
    "df_birch['cluster'] = labels\n",
    "data['Cluster'] = labels\n",
    "\n",
    "# Show the cluster counts\n",
    "print(df_birch['cluster'].value_counts())\n",
    "df_birch.head()\n"
   ]
  },
  {
   "cell_type": "code",
   "execution_count": 1803,
   "metadata": {},
   "outputs": [
    {
     "name": "stdout",
     "output_type": "stream",
     "text": [
      "              ROA       ROE       Market Cap  Mean Return  Variance Return  \\\n",
      "Ticker                                                                       \n",
      "PGAS.JK  0.042140  0.103040   38422777430016     0.002017         0.000332   \n",
      "GOTO.JK -1.670984 -2.383206   91717776703488    -0.000042         0.001415   \n",
      "AMMN.JK  0.027717  0.055417  683483982725120     0.001989         0.000777   \n",
      "\n",
      "         Cluster  sharpe_ratio  \n",
      "Ticker                          \n",
      "PGAS.JK        0      0.097624  \n",
      "GOTO.JK        1     -0.007451  \n",
      "AMMN.JK        2      0.062818  \n"
     ]
    }
   ],
   "source": [
    "# Risk-free rate (contoh: 6% per tahun, diubah ke harian)\n",
    "risk_free_rate = 0.06 / 252\n",
    "\n",
    "# Hitung Sharpe Ratio\n",
    "data['sharpe_ratio'] = (data['Mean Return'] - risk_free_rate) / np.sqrt(data['Variance Return'])\n",
    "\n",
    "# Ambil saham terbaik dari setiap cluster\n",
    "best_stocks = data.loc[data.groupby('Cluster')['sharpe_ratio'].idxmax()]\n",
    "\n",
    "print(best_stocks)"
   ]
  },
  {
   "cell_type": "code",
   "execution_count": 1804,
   "metadata": {},
   "outputs": [
    {
     "name": "stdout",
     "output_type": "stream",
     "text": [
      "64.99822785009573 %\n"
     ]
    },
    {
     "data": {
      "text/plain": [
       "<Axes: xlabel='PC_1', ylabel='PC_2'>"
      ]
     },
     "execution_count": 1804,
     "metadata": {},
     "output_type": "execute_result"
    },
    {
     "data": {
      "image/png": "[encoded data removed]",
      "text/plain": [
       "<Figure size 1000x800 with 1 Axes>"
      ]
     },
     "metadata": {},
     "output_type": "display_data"
    }
   ],
   "source": [
    "# Gunakan Dimensionality Reduction dengan PCA untuk mempermudah melakukan visualisasi\n",
    "\n",
    "pca = PCA(n_components = 2)\n",
    "df_pca2 = pd.DataFrame(pca.fit_transform(df_birch.iloc[:,:-1]),\n",
    "                      columns = ['PC_1', 'PC_2'],\n",
    "                      index = df_birch.index)\n",
    "\n",
    "df_pca2 = pd.concat([df_pca2, df_birch.cluster], axis = 1)\n",
    "# df_pca1.head()\n",
    "\n",
    "print(np.sum(pca.explained_variance_ratio_)*100, \"%\") # 2 Dimensi dapat menjelaskan keseluruhan fitur\n",
    "fig = plt.figure(figsize=(10, 8))\n",
    "ax = fig.add_subplot()\n",
    "sns.scatterplot(data = df_pca2, x = 'PC_1', y = 'PC_2', hue = 'cluster', s = 300, ax = ax)"
   ]
  },
  {
   "cell_type": "code",
   "execution_count": 1805,
   "metadata": {},
   "outputs": [
    {
     "data": {
      "application/vnd.plotly.v1+json": {
       "config": {
        "linkText": "Export to plot.ly",
        "plotlyServerURL": "https://plot.ly",
        "showLink": false
       },
       "data": [
        {
         "marker": {
          "color": "rgb(255,0,0)",
          "size": 10
         },
         "mode": "markers",
         "name": "Cluster 0",
         "type": "scatter3d",
         "x": [
          0.08105988478894355,
          -0.18525825652605427,
          0.14184333842681618,
          -0.4271340740506326,
          -0.7029228574907134,
          0.13030714369686827,
          1.5045139440342765,
          -0.7418751709590143,
          -0.49419540763137043,
          0.018968149110860543,
          -0.020804391739309452,
          2.93821905073355,
          1.584669919029207,
          -0.3631262193203064,
          0.6288160697168086,
          -0.09427862172994805,
          -0.6659332011962683,
          0.36859441971425366,
          -0.8304744400199092,
          0.031241532996836737,
          -0.09977803441343884,
          -0.00005727088608046114,
          -0.9804397186264618,
          -0.4236018626422731,
          -0.4574276737187548,
          0.5793298479203258,
          1.6233710264928392,
          0.8659918324211309,
          0.11538327076359779,
          -0.21551684582422878,
          -0.5152379706736481,
          0.280266820620049,
          -0.7628109122031622,
          -0.5568015900314076,
          0.4452970454035946,
          0.157232212799845,
          -0.5777294754646933,
          -0.18840817686876213,
          -0.946808228317629,
          -1.3849302713953369
         ],
         "y": [
          -0.011719206750588488,
          -0.35823533640000116,
          1.422983002056485,
          -0.4810037607247237,
          -0.013767794819980455,
          -0.3829119212765579,
          -0.13245843791592585,
          0.005199018838529775,
          -0.03011672516481929,
          -0.3224692129506533,
          1.6466857068289564,
          -0.08504651807162589,
          -1.2572829374812218,
          -0.19006356806262506,
          0.8621706901043256,
          0.014172800487777299,
          0.19932978941403465,
          -0.7075669674527609,
          0.29925834961114456,
          -0.6761829793138541,
          -1.1863010825131906,
          0.2014929545451939,
          0.1527428271606025,
          -0.6534506007896516,
          -0.6513651758015973,
          -0.5504302319827986,
          -0.10026279065324174,
          -0.687411298346918,
          -0.03378384605668986,
          -0.47010291209350813,
          0.9177906386918604,
          -0.3626948087736142,
          0.2219924640208495,
          -0.33965989408554825,
          -2.0297699007388994,
          -0.3062687331792185,
          -0.5891984290866435,
          -1.1158912202555562,
          0.6265007763026612,
          -2.8071871788461022
         ],
         "z": [
          -0.6450029478156023,
          -0.4170664706460047,
          -1.696031567484351,
          -0.3517923185786128,
          -0.2320382781473737,
          -0.1488345146010482,
          -0.006058282781436096,
          0.2551849191006112,
          0.21771347033481345,
          -0.346059802550973,
          -1.4720963918197256,
          0.5526742580521805,
          0.9445421862119874,
          -0.14153440432419312,
          -1.2946124253641356,
          -0.5450615997932673,
          -0.30901039920236073,
          0.20864433506607108,
          -0.8036507228121961,
          0.14350974564056238,
          0.46957493660506927,
          -0.4775639020689848,
          -1.0381097911036727,
          -0.14910540748924614,
          0.1381449873176374,
          -0.04431252437326907,
          0.09979167623335393,
          0.4470062568183703,
          -0.6122589113221135,
          0.0071221778762792665,
          -1.4508196752366878,
          -0.09166234161490354,
          -1.0603758046163323,
          -0.5840082612921811,
          1.3787892052765784,
          -0.34739895314415914,
          1.206062198717991,
          0.37152281394843395,
          -1.0399651715170941,
          0.874296632268455
         ]
        },
        {
         "marker": {
          "color": "rgb(0,255,0)",
          "size": 10
         },
         "mode": "markers",
         "name": "Cluster 1",
         "type": "scatter3d",
         "x": [
          5.479827318263787
         ],
         "y": [
          2.1175788989868174
         ],
         "z": [
          1.0469239497120997
         ]
        },
        {
         "marker": {
          "color": "rgb(0,0,255)",
          "size": 10
         },
         "mode": "markers",
         "name": "Cluster 2",
         "type": "scatter3d",
         "x": [
          -0.46715725226262667,
          -2.4921113132898585,
          -1.1789443839175935,
          -1.2011692057341097
         ],
         "y": [
          2.7296925678588675,
          3.106896414067732,
          0.6982601772984874,
          1.309856393314192
         ],
         "z": [
          0.7061503173081634,
          3.0728041154965915,
          2.084542615840946,
          1.079430071873729
         ]
        }
       ],
       "layout": {
        "margin": {
         "b": 0,
         "l": 0,
         "r": 0,
         "t": 0
        },
        "template": {
         "data": {
          "bar": [
           {
            "error_x": {
             "color": "#2a3f5f"
            },
            "error_y": {
             "color": "#2a3f5f"
            },
            "marker": {
             "line": {
              "color": "#E5ECF6",
              "width": 0.5
             },
             "pattern": {
              "fillmode": "overlay",
              "size": 10,
              "solidity": 0.2
             }
            },
            "type": "bar"
           }
          ],
          "barpolar": [
           {
            "marker": {
             "line": {
              "color": "#E5ECF6",
              "width": 0.5
             },
             "pattern": {
              "fillmode": "overlay",
              "size": 10,
              "solidity": 0.2
             }
            },
            "type": "barpolar"
           }
          ],
          "carpet": [
           {
            "aaxis": {
             "endlinecolor": "#2a3f5f",
             "gridcolor": "white",
             "linecolor": "white",
             "minorgridcolor": "white",
             "startlinecolor": "#2a3f5f"
            },
            "baxis": {
             "endlinecolor": "#2a3f5f",
             "gridcolor": "white",
             "linecolor": "white",
             "minorgridcolor": "white",
             "startlinecolor": "#2a3f5f"
            },
            "type": "carpet"
           }
          ],
          "choropleth": [
           {
            "colorbar": {
             "outlinewidth": 0,
             "ticks": ""
            },
            "type": "choropleth"
           }
          ],
          "contour": [
           {
            "colorbar": {
             "outlinewidth": 0,
             "ticks": ""
            },
            "colorscale": [
             [
              0,
              "#0d0887"
             ],
             [
              0.1111111111111111,
              "#46039f"
             ],
             [
              0.2222222222222222,
              "#7201a8"
             ],
             [
              0.3333333333333333,
              "#9c179e"
             ],
             [
              0.4444444444444444,
              "#bd3786"
             ],
             [
              0.5555555555555556,
              "#d8576b"
             ],
             [
              0.6666666666666666,
              "#ed7953"
             ],
             [
              0.7777777777777778,
              "#fb9f3a"
             ],
             [
              0.8888888888888888,
              "#fdca26"
             ],
             [
              1,
              "#f0f921"
             ]
            ],
            "type": "contour"
           }
          ],
          "contourcarpet": [
           {
            "colorbar": {
             "outlinewidth": 0,
             "ticks": ""
            },
            "type": "contourcarpet"
           }
          ],
          "heatmap": [
           {
            "colorbar": {
             "outlinewidth": 0,
             "ticks": ""
            },
            "colorscale": [
             [
              0,
              "#0d0887"
             ],
             [
              0.1111111111111111,
              "#46039f"
             ],
             [
              0.2222222222222222,
              "#7201a8"
             ],
             [
              0.3333333333333333,
              "#9c179e"
             ],
             [
              0.4444444444444444,
              "#bd3786"
             ],
             [
              0.5555555555555556,
              "#d8576b"
             ],
             [
              0.6666666666666666,
              "#ed7953"
             ],
             [
              0.7777777777777778,
              "#fb9f3a"
             ],
             [
              0.8888888888888888,
              "#fdca26"
             ],
             [
              1,
              "#f0f921"
             ]
            ],
            "type": "heatmap"
           }
          ],
          "heatmapgl": [
           {
            "colorbar": {
             "outlinewidth": 0,
             "ticks": ""
            },
            "colorscale": [
             [
              0,
              "#0d0887"
             ],
             [
              0.1111111111111111,
              "#46039f"
             ],
             [
              0.2222222222222222,
              "#7201a8"
             ],
             [
              0.3333333333333333,
              "#9c179e"
             ],
             [
              0.4444444444444444,
              "#bd3786"
             ],
             [
              0.5555555555555556,
              "#d8576b"
             ],
             [
              0.6666666666666666,
              "#ed7953"
             ],
             [
              0.7777777777777778,
              "#fb9f3a"
             ],
             [
              0.8888888888888888,
              "#fdca26"
             ],
             [
              1,
              "#f0f921"
             ]
            ],
            "type": "heatmapgl"
           }
          ],
          "histogram": [
           {
            "marker": {
             "pattern": {
              "fillmode": "overlay",
              "size": 10,
              "solidity": 0.2
             }
            },
            "type": "histogram"
           }
          ],
          "histogram2d": [
           {
            "colorbar": {
             "outlinewidth": 0,
             "ticks": ""
            },
            "colorscale": [
             [
              0,
              "#0d0887"
             ],
             [
              0.1111111111111111,
              "#46039f"
             ],
             [
              0.2222222222222222,
              "#7201a8"
             ],
             [
              0.3333333333333333,
              "#9c179e"
             ],
             [
              0.4444444444444444,
              "#bd3786"
             ],
             [
              0.5555555555555556,
              "#d8576b"
             ],
             [
              0.6666666666666666,
              "#ed7953"
             ],
             [
              0.7777777777777778,
              "#fb9f3a"
             ],
             [
              0.8888888888888888,
              "#fdca26"
             ],
             [
              1,
              "#f0f921"
             ]
            ],
            "type": "histogram2d"
           }
          ],
          "histogram2dcontour": [
           {
            "colorbar": {
             "outlinewidth": 0,
             "ticks": ""
            },
            "colorscale": [
             [
              0,
              "#0d0887"
             ],
             [
              0.1111111111111111,
              "#46039f"
             ],
             [
              0.2222222222222222,
              "#7201a8"
             ],
             [
              0.3333333333333333,
              "#9c179e"
             ],
             [
              0.4444444444444444,
              "#bd3786"
             ],
             [
              0.5555555555555556,
              "#d8576b"
             ],
             [
              0.6666666666666666,
              "#ed7953"
             ],
             [
              0.7777777777777778,
              "#fb9f3a"
             ],
             [
              0.8888888888888888,
              "#fdca26"
             ],
             [
              1,
              "#f0f921"
             ]
            ],
            "type": "histogram2dcontour"
           }
          ],
          "mesh3d": [
           {
            "colorbar": {
             "outlinewidth": 0,
             "ticks": ""
            },
            "type": "mesh3d"
           }
          ],
          "parcoords": [
           {
            "line": {
             "colorbar": {
              "outlinewidth": 0,
              "ticks": ""
             }
            },
            "type": "parcoords"
           }
          ],
          "pie": [
           {
            "automargin": true,
            "type": "pie"
           }
          ],
          "scatter": [
           {
            "fillpattern": {
             "fillmode": "overlay",
             "size": 10,
             "solidity": 0.2
            },
            "type": "scatter"
           }
          ],
          "scatter3d": [
           {
            "line": {
             "colorbar": {
              "outlinewidth": 0,
              "ticks": ""
             }
            },
            "marker": {
             "colorbar": {
              "outlinewidth": 0,
              "ticks": ""
             }
            },
            "type": "scatter3d"
           }
          ],
          "scattercarpet": [
           {
            "marker": {
             "colorbar": {
              "outlinewidth": 0,
              "ticks": ""
             }
            },
            "type": "scattercarpet"
           }
          ],
          "scattergeo": [
           {
            "marker": {
             "colorbar": {
              "outlinewidth": 0,
              "ticks": ""
             }
            },
            "type": "scattergeo"
           }
          ],
          "scattergl": [
           {
            "marker": {
             "colorbar": {
              "outlinewidth": 0,
              "ticks": ""
             }
            },
            "type": "scattergl"
           }
          ],
          "scattermapbox": [
           {
            "marker": {
             "colorbar": {
              "outlinewidth": 0,
              "ticks": ""
             }
            },
            "type": "scattermapbox"
           }
          ],
          "scatterpolar": [
           {
            "marker": {
             "colorbar": {
              "outlinewidth": 0,
              "ticks": ""
             }
            },
            "type": "scatterpolar"
           }
          ],
          "scatterpolargl": [
           {
            "marker": {
             "colorbar": {
              "outlinewidth": 0,
              "ticks": ""
             }
            },
            "type": "scatterpolargl"
           }
          ],
          "scatterternary": [
           {
            "marker": {
             "colorbar": {
              "outlinewidth": 0,
              "ticks": ""
             }
            },
            "type": "scatterternary"
           }
          ],
          "surface": [
           {
            "colorbar": {
             "outlinewidth": 0,
             "ticks": ""
            },
            "colorscale": [
             [
              0,
              "#0d0887"
             ],
             [
              0.1111111111111111,
              "#46039f"
             ],
             [
              0.2222222222222222,
              "#7201a8"
             ],
             [
              0.3333333333333333,
              "#9c179e"
             ],
             [
              0.4444444444444444,
              "#bd3786"
             ],
             [
              0.5555555555555556,
              "#d8576b"
             ],
             [
              0.6666666666666666,
              "#ed7953"
             ],
             [
              0.7777777777777778,
              "#fb9f3a"
             ],
             [
              0.8888888888888888,
              "#fdca26"
             ],
             [
              1,
              "#f0f921"
             ]
            ],
            "type": "surface"
           }
          ],
          "table": [
           {
            "cells": {
             "fill": {
              "color": "#EBF0F8"
             },
             "line": {
              "color": "white"
             }
            },
            "header": {
             "fill": {
              "color": "#C8D4E3"
             },
             "line": {
              "color": "white"
             }
            },
            "type": "table"
           }
          ]
         },
         "layout": {
          "annotationdefaults": {
           "arrowcolor": "#2a3f5f",
           "arrowhead": 0,
           "arrowwidth": 1
          },
          "autotypenumbers": "strict",
          "coloraxis": {
           "colorbar": {
            "outlinewidth": 0,
            "ticks": ""
           }
          },
          "colorscale": {
           "diverging": [
            [
             0,
             "#8e0152"
            ],
            [
             0.1,
             "#c51b7d"
            ],
            [
             0.2,
             "#de77ae"
            ],
            [
             0.3,
             "#f1b6da"
            ],
            [
             0.4,
             "#fde0ef"
            ],
            [
             0.5,
             "#f7f7f7"
            ],
            [
             0.6,
             "#e6f5d0"
            ],
            [
             0.7,
             "#b8e186"
            ],
            [
             0.8,
             "#7fbc41"
            ],
            [
             0.9,
             "#4d9221"
            ],
            [
             1,
             "#276419"
            ]
           ],
           "sequential": [
            [
             0,
             "#0d0887"
            ],
            [
             0.1111111111111111,
             "#46039f"
            ],
            [
             0.2222222222222222,
             "#7201a8"
            ],
            [
             0.3333333333333333,
             "#9c179e"
            ],
            [
             0.4444444444444444,
             "#bd3786"
            ],
            [
             0.5555555555555556,
             "#d8576b"
            ],
            [
             0.6666666666666666,
             "#ed7953"
            ],
            [
             0.7777777777777778,
             "#fb9f3a"
            ],
            [
             0.8888888888888888,
             "#fdca26"
            ],
            [
             1,
             "#f0f921"
            ]
           ],
           "sequentialminus": [
            [
             0,
             "#0d0887"
            ],
            [
             0.1111111111111111,
             "#46039f"
            ],
            [
             0.2222222222222222,
             "#7201a8"
            ],
            [
             0.3333333333333333,
             "#9c179e"
            ],
            [
             0.4444444444444444,
             "#bd3786"
            ],
            [
             0.5555555555555556,
             "#d8576b"
            ],
            [
             0.6666666666666666,
             "#ed7953"
            ],
            [
             0.7777777777777778,
             "#fb9f3a"
            ],
            [
             0.8888888888888888,
             "#fdca26"
            ],
            [
             1,
             "#f0f921"
            ]
           ]
          },
          "colorway": [
           "#636efa",
           "#EF553B",
           "#00cc96",
           "#ab63fa",
           "#FFA15A",
           "#19d3f3",
           "#FF6692",
           "#B6E880",
           "#FF97FF",
           "#FECB52"
          ],
          "font": {
           "color": "#2a3f5f"
          },
          "geo": {
           "bgcolor": "white",
           "lakecolor": "white",
           "landcolor": "#E5ECF6",
           "showlakes": true,
           "showland": true,
           "subunitcolor": "white"
          },
          "hoverlabel": {
           "align": "left"
          },
          "hovermode": "closest",
          "mapbox": {
           "style": "light"
          },
          "paper_bgcolor": "white",
          "plot_bgcolor": "#E5ECF6",
          "polar": {
           "angularaxis": {
            "gridcolor": "white",
            "linecolor": "white",
            "ticks": ""
           },
           "bgcolor": "#E5ECF6",
           "radialaxis": {
            "gridcolor": "white",
            "linecolor": "white",
            "ticks": ""
           }
          },
          "scene": {
           "xaxis": {
            "backgroundcolor": "#E5ECF6",
            "gridcolor": "white",
            "gridwidth": 2,
            "linecolor": "white",
            "showbackground": true,
            "ticks": "",
            "zerolinecolor": "white"
           },
           "yaxis": {
            "backgroundcolor": "#E5ECF6",
            "gridcolor": "white",
            "gridwidth": 2,
            "linecolor": "white",
            "showbackground": true,
            "ticks": "",
            "zerolinecolor": "white"
           },
           "zaxis": {
            "backgroundcolor": "#E5ECF6",
            "gridcolor": "white",
            "gridwidth": 2,
            "linecolor": "white",
            "showbackground": true,
            "ticks": "",
            "zerolinecolor": "white"
           }
          },
          "shapedefaults": {
           "line": {
            "color": "#2a3f5f"
           }
          },
          "ternary": {
           "aaxis": {
            "gridcolor": "white",
            "linecolor": "white",
            "ticks": ""
           },
           "baxis": {
            "gridcolor": "white",
            "linecolor": "white",
            "ticks": ""
           },
           "bgcolor": "#E5ECF6",
           "caxis": {
            "gridcolor": "white",
            "linecolor": "white",
            "ticks": ""
           }
          },
          "title": {
           "x": 0.05
          },
          "xaxis": {
           "automargin": true,
           "gridcolor": "white",
           "linecolor": "white",
           "ticks": "",
           "title": {
            "standoff": 15
           },
           "zerolinecolor": "white",
           "zerolinewidth": 2
          },
          "yaxis": {
           "automargin": true,
           "gridcolor": "white",
           "linecolor": "white",
           "ticks": "",
           "title": {
            "standoff": 15
           },
           "zerolinecolor": "white",
           "zerolinewidth": 2
          }
         }
        }
       }
      },
      "text/html": [
       "<div>                            <div id=\"a352f42b-0458-4d29-91c2-c50257bd6fa6\" class=\"plotly-graph-div\" style=\"height:525px; width:100%;\"></div>            <script type=\"text/javascript\">                require([\"plotly\"], function(Plotly) {                    window.PLOTLYENV=window.PLOTLYENV || {};                                    if (document.getElementById(\"a352f42b-0458-4d29-91c2-c50257bd6fa6\")) {                    Plotly.newPlot(                        \"a352f42b-0458-4d29-91c2-c50257bd6fa6\",                        [{\"marker\":{\"color\":\"rgb(255,0,0)\",\"size\":10},\"mode\":\"markers\",\"name\":\"Cluster 0\",\"x\":[0.08105988478894355,-0.18525825652605427,0.14184333842681618,-0.4271340740506326,-0.7029228574907134,0.13030714369686827,1.5045139440342765,-0.7418751709590143,-0.49419540763137043,0.018968149110860543,-0.020804391739309452,2.93821905073355,1.584669919029207,-0.3631262193203064,0.6288160697168086,-0.09427862172994805,-0.6659332011962683,0.36859441971425366,-0.8304744400199092,0.031241532996836737,-0.09977803441343884,-5.727088608046114e-05,-0.9804397186264618,-0.4236018626422731,-0.4574276737187548,0.5793298479203258,1.6233710264928392,0.8659918324211309,0.11538327076359779,-0.21551684582422878,-0.5152379706736481,0.280266820620049,-0.7628109122031622,-0.5568015900314076,0.4452970454035946,0.157232212799845,-0.5777294754646933,-0.18840817686876213,-0.946808228317629,-1.3849302713953369],\"y\":[-0.011719206750588488,-0.35823533640000116,1.422983002056485,-0.4810037607247237,-0.013767794819980455,-0.3829119212765579,-0.13245843791592585,0.005199018838529775,-0.03011672516481929,-0.3224692129506533,1.6466857068289564,-0.08504651807162589,-1.2572829374812218,-0.19006356806262506,0.8621706901043256,0.014172800487777299,0.19932978941403465,-0.7075669674527609,0.29925834961114456,-0.6761829793138541,-1.1863010825131906,0.2014929545451939,0.1527428271606025,-0.6534506007896516,-0.6513651758015973,-0.5504302319827986,-0.10026279065324174,-0.687411298346918,-0.03378384605668986,-0.47010291209350813,0.9177906386918604,-0.3626948087736142,0.2219924640208495,-0.33965989408554825,-2.0297699007388994,-0.3062687331792185,-0.5891984290866435,-1.1158912202555562,0.6265007763026612,-2.8071871788461022],\"z\":[-0.6450029478156023,-0.4170664706460047,-1.696031567484351,-0.3517923185786128,-0.2320382781473737,-0.1488345146010482,-0.006058282781436096,0.2551849191006112,0.21771347033481345,-0.346059802550973,-1.4720963918197256,0.5526742580521805,0.9445421862119874,-0.14153440432419312,-1.2946124253641356,-0.5450615997932673,-0.30901039920236073,0.20864433506607108,-0.8036507228121961,0.14350974564056238,0.46957493660506927,-0.4775639020689848,-1.0381097911036727,-0.14910540748924614,0.1381449873176374,-0.04431252437326907,0.09979167623335393,0.4470062568183703,-0.6122589113221135,0.0071221778762792665,-1.4508196752366878,-0.09166234161490354,-1.0603758046163323,-0.5840082612921811,1.3787892052765784,-0.34739895314415914,1.206062198717991,0.37152281394843395,-1.0399651715170941,0.874296632268455],\"type\":\"scatter3d\"},{\"marker\":{\"color\":\"rgb(0,255,0)\",\"size\":10},\"mode\":\"markers\",\"name\":\"Cluster 1\",\"x\":[5.479827318263787],\"y\":[2.1175788989868174],\"z\":[1.0469239497120997],\"type\":\"scatter3d\"},{\"marker\":{\"color\":\"rgb(0,0,255)\",\"size\":10},\"mode\":\"markers\",\"name\":\"Cluster 2\",\"x\":[-0.46715725226262667,-2.4921113132898585,-1.1789443839175935,-1.2011692057341097],\"y\":[2.7296925678588675,3.106896414067732,0.6982601772984874,1.309856393314192],\"z\":[0.7061503173081634,3.0728041154965915,2.084542615840946,1.079430071873729],\"type\":\"scatter3d\"}],                        {\"margin\":{\"b\":0,\"l\":0,\"r\":0,\"t\":0},\"template\":{\"data\":{\"barpolar\":[{\"marker\":{\"line\":{\"color\":\"#E5ECF6\",\"width\":0.5},\"pattern\":{\"fillmode\":\"overlay\",\"size\":10,\"solidity\":0.2}},\"type\":\"barpolar\"}],\"bar\":[{\"error_x\":{\"color\":\"#2a3f5f\"},\"error_y\":{\"color\":\"#2a3f5f\"},\"marker\":{\"line\":{\"color\":\"#E5ECF6\",\"width\":0.5},\"pattern\":{\"fillmode\":\"overlay\",\"size\":10,\"solidity\":0.2}},\"type\":\"bar\"}],\"carpet\":[{\"aaxis\":{\"endlinecolor\":\"#2a3f5f\",\"gridcolor\":\"white\",\"linecolor\":\"white\",\"minorgridcolor\":\"white\",\"startlinecolor\":\"#2a3f5f\"},\"baxis\":{\"endlinecolor\":\"#2a3f5f\",\"gridcolor\":\"white\",\"linecolor\":\"white\",\"minorgridcolor\":\"white\",\"startlinecolor\":\"#2a3f5f\"},\"type\":\"carpet\"}],\"choropleth\":[{\"colorbar\":{\"outlinewidth\":0,\"ticks\":\"\"},\"type\":\"choropleth\"}],\"contourcarpet\":[{\"colorbar\":{\"outlinewidth\":0,\"ticks\":\"\"},\"type\":\"contourcarpet\"}],\"contour\":[{\"colorbar\":{\"outlinewidth\":0,\"ticks\":\"\"},\"colorscale\":[[0.0,\"#0d0887\"],[0.1111111111111111,\"#46039f\"],[0.2222222222222222,\"#7201a8\"],[0.3333333333333333,\"#9c179e\"],[0.4444444444444444,\"#bd3786\"],[0.5555555555555556,\"#d8576b\"],[0.6666666666666666,\"#ed7953\"],[0.7777777777777778,\"#fb9f3a\"],[0.8888888888888888,\"#fdca26\"],[1.0,\"#f0f921\"]],\"type\":\"contour\"}],\"heatmapgl\":[{\"colorbar\":{\"outlinewidth\":0,\"ticks\":\"\"},\"colorscale\":[[0.0,\"#0d0887\"],[0.1111111111111111,\"#46039f\"],[0.2222222222222222,\"#7201a8\"],[0.3333333333333333,\"#9c179e\"],[0.4444444444444444,\"#bd3786\"],[0.5555555555555556,\"#d8576b\"],[0.6666666666666666,\"#ed7953\"],[0.7777777777777778,\"#fb9f3a\"],[0.8888888888888888,\"#fdca26\"],[1.0,\"#f0f921\"]],\"type\":\"heatmapgl\"}],\"heatmap\":[{\"colorbar\":{\"outlinewidth\":0,\"ticks\":\"\"},\"colorscale\":[[0.0,\"#0d0887\"],[0.1111111111111111,\"#46039f\"],[0.2222222222222222,\"#7201a8\"],[0.3333333333333333,\"#9c179e\"],[0.4444444444444444,\"#bd3786\"],[0.5555555555555556,\"#d8576b\"],[0.6666666666666666,\"#ed7953\"],[0.7777777777777778,\"#fb9f3a\"],[0.8888888888888888,\"#fdca26\"],[1.0,\"#f0f921\"]],\"type\":\"heatmap\"}],\"histogram2dcontour\":[{\"colorbar\":{\"outlinewidth\":0,\"ticks\":\"\"},\"colorscale\":[[0.0,\"#0d0887\"],[0.1111111111111111,\"#46039f\"],[0.2222222222222222,\"#7201a8\"],[0.3333333333333333,\"#9c179e\"],[0.4444444444444444,\"#bd3786\"],[0.5555555555555556,\"#d8576b\"],[0.6666666666666666,\"#ed7953\"],[0.7777777777777778,\"#fb9f3a\"],[0.8888888888888888,\"#fdca26\"],[1.0,\"#f0f921\"]],\"type\":\"histogram2dcontour\"}],\"histogram2d\":[{\"colorbar\":{\"outlinewidth\":0,\"ticks\":\"\"},\"colorscale\":[[0.0,\"#0d0887\"],[0.1111111111111111,\"#46039f\"],[0.2222222222222222,\"#7201a8\"],[0.3333333333333333,\"#9c179e\"],[0.4444444444444444,\"#bd3786\"],[0.5555555555555556,\"#d8576b\"],[0.6666666666666666,\"#ed7953\"],[0.7777777777777778,\"#fb9f3a\"],[0.8888888888888888,\"#fdca26\"],[1.0,\"#f0f921\"]],\"type\":\"histogram2d\"}],\"histogram\":[{\"marker\":{\"pattern\":{\"fillmode\":\"overlay\",\"size\":10,\"solidity\":0.2}},\"type\":\"histogram\"}],\"mesh3d\":[{\"colorbar\":{\"outlinewidth\":0,\"ticks\":\"\"},\"type\":\"mesh3d\"}],\"parcoords\":[{\"line\":{\"colorbar\":{\"outlinewidth\":0,\"ticks\":\"\"}},\"type\":\"parcoords\"}],\"pie\":[{\"automargin\":true,\"type\":\"pie\"}],\"scatter3d\":[{\"line\":{\"colorbar\":{\"outlinewidth\":0,\"ticks\":\"\"}},\"marker\":{\"colorbar\":{\"outlinewidth\":0,\"ticks\":\"\"}},\"type\":\"scatter3d\"}],\"scattercarpet\":[{\"marker\":{\"colorbar\":{\"outlinewidth\":0,\"ticks\":\"\"}},\"type\":\"scattercarpet\"}],\"scattergeo\":[{\"marker\":{\"colorbar\":{\"outlinewidth\":0,\"ticks\":\"\"}},\"type\":\"scattergeo\"}],\"scattergl\":[{\"marker\":{\"colorbar\":{\"outlinewidth\":0,\"ticks\":\"\"}},\"type\":\"scattergl\"}],\"scattermapbox\":[{\"marker\":{\"colorbar\":{\"outlinewidth\":0,\"ticks\":\"\"}},\"type\":\"scattermapbox\"}],\"scatterpolargl\":[{\"marker\":{\"colorbar\":{\"outlinewidth\":0,\"ticks\":\"\"}},\"type\":\"scatterpolargl\"}],\"scatterpolar\":[{\"marker\":{\"colorbar\":{\"outlinewidth\":0,\"ticks\":\"\"}},\"type\":\"scatterpolar\"}],\"scatter\":[{\"fillpattern\":{\"fillmode\":\"overlay\",\"size\":10,\"solidity\":0.2},\"type\":\"scatter\"}],\"scatterternary\":[{\"marker\":{\"colorbar\":{\"outlinewidth\":0,\"ticks\":\"\"}},\"type\":\"scatterternary\"}],\"surface\":[{\"colorbar\":{\"outlinewidth\":0,\"ticks\":\"\"},\"colorscale\":[[0.0,\"#0d0887\"],[0.1111111111111111,\"#46039f\"],[0.2222222222222222,\"#7201a8\"],[0.3333333333333333,\"#9c179e\"],[0.4444444444444444,\"#bd3786\"],[0.5555555555555556,\"#d8576b\"],[0.6666666666666666,\"#ed7953\"],[0.7777777777777778,\"#fb9f3a\"],[0.8888888888888888,\"#fdca26\"],[1.0,\"#f0f921\"]],\"type\":\"surface\"}],\"table\":[{\"cells\":{\"fill\":{\"color\":\"#EBF0F8\"},\"line\":{\"color\":\"white\"}},\"header\":{\"fill\":{\"color\":\"#C8D4E3\"},\"line\":{\"color\":\"white\"}},\"type\":\"table\"}]},\"layout\":{\"annotationdefaults\":{\"arrowcolor\":\"#2a3f5f\",\"arrowhead\":0,\"arrowwidth\":1},\"autotypenumbers\":\"strict\",\"coloraxis\":{\"colorbar\":{\"outlinewidth\":0,\"ticks\":\"\"}},\"colorscale\":{\"diverging\":[[0,\"#8e0152\"],[0.1,\"#c51b7d\"],[0.2,\"#de77ae\"],[0.3,\"#f1b6da\"],[0.4,\"#fde0ef\"],[0.5,\"#f7f7f7\"],[0.6,\"#e6f5d0\"],[0.7,\"#b8e186\"],[0.8,\"#7fbc41\"],[0.9,\"#4d9221\"],[1,\"#276419\"]],\"sequential\":[[0.0,\"#0d0887\"],[0.1111111111111111,\"#46039f\"],[0.2222222222222222,\"#7201a8\"],[0.3333333333333333,\"#9c179e\"],[0.4444444444444444,\"#bd3786\"],[0.5555555555555556,\"#d8576b\"],[0.6666666666666666,\"#ed7953\"],[0.7777777777777778,\"#fb9f3a\"],[0.8888888888888888,\"#fdca26\"],[1.0,\"#f0f921\"]],\"sequentialminus\":[[0.0,\"#0d0887\"],[0.1111111111111111,\"#46039f\"],[0.2222222222222222,\"#7201a8\"],[0.3333333333333333,\"#9c179e\"],[0.4444444444444444,\"#bd3786\"],[0.5555555555555556,\"#d8576b\"],[0.6666666666666666,\"#ed7953\"],[0.7777777777777778,\"#fb9f3a\"],[0.8888888888888888,\"#fdca26\"],[1.0,\"#f0f921\"]]},\"colorway\":[\"#636efa\",\"#EF553B\",\"#00cc96\",\"#ab63fa\",\"#FFA15A\",\"#19d3f3\",\"#FF6692\",\"#B6E880\",\"#FF97FF\",\"#FECB52\"],\"font\":{\"color\":\"#2a3f5f\"},\"geo\":{\"bgcolor\":\"white\",\"lakecolor\":\"white\",\"landcolor\":\"#E5ECF6\",\"showlakes\":true,\"showland\":true,\"subunitcolor\":\"white\"},\"hoverlabel\":{\"align\":\"left\"},\"hovermode\":\"closest\",\"mapbox\":{\"style\":\"light\"},\"paper_bgcolor\":\"white\",\"plot_bgcolor\":\"#E5ECF6\",\"polar\":{\"angularaxis\":{\"gridcolor\":\"white\",\"linecolor\":\"white\",\"ticks\":\"\"},\"bgcolor\":\"#E5ECF6\",\"radialaxis\":{\"gridcolor\":\"white\",\"linecolor\":\"white\",\"ticks\":\"\"}},\"scene\":{\"xaxis\":{\"backgroundcolor\":\"#E5ECF6\",\"gridcolor\":\"white\",\"gridwidth\":2,\"linecolor\":\"white\",\"showbackground\":true,\"ticks\":\"\",\"zerolinecolor\":\"white\"},\"yaxis\":{\"backgroundcolor\":\"#E5ECF6\",\"gridcolor\":\"white\",\"gridwidth\":2,\"linecolor\":\"white\",\"showbackground\":true,\"ticks\":\"\",\"zerolinecolor\":\"white\"},\"zaxis\":{\"backgroundcolor\":\"#E5ECF6\",\"gridcolor\":\"white\",\"gridwidth\":2,\"linecolor\":\"white\",\"showbackground\":true,\"ticks\":\"\",\"zerolinecolor\":\"white\"}},\"shapedefaults\":{\"line\":{\"color\":\"#2a3f5f\"}},\"ternary\":{\"aaxis\":{\"gridcolor\":\"white\",\"linecolor\":\"white\",\"ticks\":\"\"},\"baxis\":{\"gridcolor\":\"white\",\"linecolor\":\"white\",\"ticks\":\"\"},\"bgcolor\":\"#E5ECF6\",\"caxis\":{\"gridcolor\":\"white\",\"linecolor\":\"white\",\"ticks\":\"\"}},\"title\":{\"x\":0.05},\"xaxis\":{\"automargin\":true,\"gridcolor\":\"white\",\"linecolor\":\"white\",\"ticks\":\"\",\"title\":{\"standoff\":15},\"zerolinecolor\":\"white\",\"zerolinewidth\":2},\"yaxis\":{\"automargin\":true,\"gridcolor\":\"white\",\"linecolor\":\"white\",\"ticks\":\"\",\"title\":{\"standoff\":15},\"zerolinecolor\":\"white\",\"zerolinewidth\":2}}}},                        {\"responsive\": true}                    ).then(function(){\n",
       "                            \n",
       "var gd = document.getElementById('a352f42b-0458-4d29-91c2-c50257bd6fa6');\n",
       "var x = new MutationObserver(function (mutations, observer) {{\n",
       "        var display = window.getComputedStyle(gd).display;\n",
       "        if (!display || display === 'none') {{\n",
       "            console.log([gd, 'removed!']);\n",
       "            Plotly.purge(gd);\n",
       "            observer.disconnect();\n",
       "        }}\n",
       "}});\n",
       "\n",
       "// Listen for the removal of the full notebook cells\n",
       "var notebookContainer = gd.closest('#notebook-container');\n",
       "if (notebookContainer) {{\n",
       "    x.observe(notebookContainer, {childList: true});\n",
       "}}\n",
       "\n",
       "// Listen for the clearing of the current output cell\n",
       "var outputEl = gd.closest('.output');\n",
       "if (outputEl) {{\n",
       "    x.observe(outputEl, {childList: true});\n",
       "}}\n",
       "\n",
       "                        })                };                });            </script>        </div>"
      ]
     },
     "metadata": {},
     "output_type": "display_data"
    }
   ],
   "source": [
    "# Gunakan Dimensionality Reduction dengan PCA untuk mempermudah melakukan visualisasi\n",
    "\n",
    "pca = PCA(n_components = 3)\n",
    "df_pca_3 = pd.DataFrame(pca.fit_transform(df_birch.iloc[:,:-1]),\n",
    "                      columns = ['PC1', 'PC2', 'PC3'],\n",
    "                      index = df_birch.index)\n",
    "\n",
    "df_pca_3 = pd.concat([df_pca_3, df_birch.cluster], axis = 1)\n",
    "# df_pca1.head()\n",
    "\n",
    "# membuat visualisasi 3D untuk setiap klaster\n",
    "# klaster 1\n",
    "Cluster0= go.Scatter3d(\n",
    "        x=df_pca_3[df_pca_3['cluster']==0]['PC1'],\n",
    "        y=df_pca_3[df_pca_3['cluster']==0]['PC2'],\n",
    "        z=df_pca_3[df_pca_3['cluster']==0]['PC3'],\n",
    "        mode=\"markers\",\n",
    "        marker=dict(\n",
    "                    size=10,\n",
    "                    color=\"rgb(255,0,0)\",\n",
    "        ),\n",
    "        name=\"Cluster 0\"\n",
    ")\n",
    "\n",
    "#klaster 2\n",
    "Cluster1= go.Scatter3d(\n",
    "        x=df_pca_3[df_pca_3['cluster']==1]['PC1'],\n",
    "        y=df_pca_3[df_pca_3['cluster']==1]['PC2'],\n",
    "        z=df_pca_3[df_pca_3['cluster']==1]['PC3'],\n",
    "        mode=\"markers\",\n",
    "        marker=dict(\n",
    "                    size=10,\n",
    "                    color=\"rgb(0,255,0)\",\n",
    "        ),\n",
    "        name=\"Cluster 1\"\n",
    ")\n",
    "\n",
    "# klaster 3\n",
    "Cluster2= go.Scatter3d(\n",
    "        x=df_pca_3[df_pca_3['cluster']==2]['PC1'],\n",
    "        y=df_pca_3[df_pca_3['cluster']==2]['PC2'],\n",
    "        z=df_pca_3[df_pca_3['cluster']==2]['PC3'],\n",
    "        mode=\"markers\",\n",
    "        marker=dict(\n",
    "                    size=10,\n",
    "                    color=\"rgb(0,0,255)\",\n",
    "        ),\n",
    "        name=\"Cluster 2\"\n",
    ")\n",
    "data_plot_km=[Cluster0,Cluster1,Cluster2]\n",
    "\n",
    "# membuat plot\n",
    "layout = go.Layout(\n",
    "    margin=dict(l=0, r=0, b=0, t=0))\n",
    "\n",
    "fig=go.Figure(data = data_plot_km, layout = layout)\n",
    "iplot(fig)"
   ]
  },
  {
   "cell_type": "markdown",
   "metadata": {},
   "source": [
    "# Spectral Clustering"
   ]
  },
  {
   "cell_type": "code",
   "execution_count": 1806,
   "metadata": {},
   "outputs": [
    {
     "name": "stdout",
     "output_type": "stream",
     "text": [
      "Explained variance by PCA: 65.00%\n"
     ]
    },
    {
     "data": {
      "image/png": "[encoded data removed]",
      "text/plain": [
       "<Figure size 1000x800 with 1 Axes>"
      ]
     },
     "metadata": {},
     "output_type": "display_data"
    },
    {
     "name": "stdout",
     "output_type": "stream",
     "text": [
      "Cluster: cluster\n",
      "0    18\n",
      "2    14\n",
      "1    13\n",
      "Name: count, dtype: int64\n",
      "Calinski-Harabasz Index: 8.618646744779376\n",
      "Silhouette Score: 0.16104534633834555\n",
      "Davies-Bouldin Index: 1.4992310435923872\n"
     ]
    }
   ],
   "source": [
    "import numpy as np\n",
    "import pandas as pd\n",
    "import matplotlib.pyplot as plt\n",
    "import seaborn as sns\n",
    "from sklearn.decomposition import PCA\n",
    "from sklearn.cluster import SpectralClustering\n",
    "from sklearn.metrics import calinski_harabasz_score, silhouette_score, davies_bouldin_score\n",
    "\n",
    "# Assuming df_final is your DataFrame with features for clustering\n",
    "df_spec = df_final.copy()\n",
    "X_std = df_final.copy().values  # Convert DataFrame to NumPy array\n",
    "\n",
    "# Apply Spectral Clustering\n",
    "n_clusters = 3  # Specify the number of clusters\n",
    "spectral = SpectralClustering(n_clusters=n_clusters, affinity='nearest_neighbors', random_state=0)\n",
    "labels = spectral.fit_predict(X_std)\n",
    "\n",
    "# Add cluster labels to DataFrame\n",
    "df_spec['cluster'] = labels\n",
    "data['Cluster'] = labels\n",
    "\n",
    "# Apply PCA for dimensionality reduction\n",
    "pca = PCA(n_components=2)\n",
    "df_pca2 = pd.DataFrame(pca.fit_transform(df_spec.iloc[:, :-1]),\n",
    "                      columns=['PC_1', 'PC_2'],\n",
    "                      index=df_spec.index)\n",
    "\n",
    "df_pca2 = pd.concat([df_pca2, df_spec['cluster']], axis=1)\n",
    "\n",
    "# Print the explained variance ratio\n",
    "print(f\"Explained variance by PCA: {np.sum(pca.explained_variance_ratio_) * 100:.2f}%\")\n",
    "\n",
    "# Plot the results\n",
    "fig = plt.figure(figsize=(10, 8))\n",
    "ax = fig.add_subplot()\n",
    "sns.scatterplot(data=df_pca2, x='PC_1', y='PC_2', hue='cluster', palette='viridis', s=100, ax=ax)\n",
    "plt.title('Spectral Clustering Visualization with PCA')\n",
    "plt.xlabel('PC_1')\n",
    "plt.ylabel('PC_2')\n",
    "plt.legend(title='Cluster')\n",
    "plt.show()\n",
    "\n",
    "# Compute and print clustering evaluation metrics\n",
    "print(f'Cluster: {df_spec['cluster'].value_counts()}')\n",
    "print(f'Calinski-Harabasz Index: {calinski_harabasz_score(X_std, labels)}')\n",
    "print(f'Silhouette Score: {silhouette_score(X_std, labels)}')\n",
    "print(f'Davies-Bouldin Index: {davies_bouldin_score(X_std, labels)}')\n"
   ]
  },
  {
   "cell_type": "code",
   "execution_count": 1807,
   "metadata": {},
   "outputs": [
    {
     "name": "stdout",
     "output_type": "stream",
     "text": [
      "              ROA       ROE        Market Cap  Mean Return  Variance Return  \\\n",
      "Ticker                                                                        \n",
      "BBCA.JK  0.034542  0.200693  1241995691425792     0.000782         0.000194   \n",
      "MEDC.JK  0.051000  0.216900    27071927549952     0.000651         0.000627   \n",
      "PGAS.JK  0.042140  0.103040    38422777430016     0.002017         0.000332   \n",
      "\n",
      "         Cluster  sharpe_ratio  \n",
      "Ticker                          \n",
      "BBCA.JK        0      0.039002  \n",
      "MEDC.JK        1      0.016501  \n",
      "PGAS.JK        2      0.097624  \n"
     ]
    }
   ],
   "source": [
    "# Risk-free rate (contoh: 6% per tahun, diubah ke harian)\n",
    "risk_free_rate = 0.06 / 252\n",
    "\n",
    "# Hitung Sharpe Ratio\n",
    "data['sharpe_ratio'] = (data['Mean Return'] - risk_free_rate) / np.sqrt(data['Variance Return'])\n",
    "\n",
    "# Ambil saham terbaik dari setiap cluster\n",
    "best_stocks = data.loc[data.groupby('Cluster')['sharpe_ratio'].idxmax()]\n",
    "\n",
    "print(best_stocks)"
   ]
  },
  {
   "cell_type": "code",
   "execution_count": 1808,
   "metadata": {},
   "outputs": [
    {
     "name": "stdout",
     "output_type": "stream",
     "text": [
      "64.99822785009573 %\n"
     ]
    },
    {
     "data": {
      "text/plain": [
       "<Axes: xlabel='PC_1', ylabel='PC_2'>"
      ]
     },
     "execution_count": 1808,
     "metadata": {},
     "output_type": "execute_result"
    },
    {
     "data": {
      "image/png": "[encoded data removed]",
      "text/plain": [
       "<Figure size 1000x800 with 1 Axes>"
      ]
     },
     "metadata": {},
     "output_type": "display_data"
    }
   ],
   "source": [
    "# Gunakan Dimensionality Reduction dengan PCA untuk mempermudah melakukan visualisasi\n",
    "\n",
    "pca = PCA(n_components = 2)\n",
    "df_pca2 = pd.DataFrame(pca.fit_transform(df_spec.iloc[:,:-1]),\n",
    "                      columns = ['PC_1', 'PC_2'],\n",
    "                      index = df_spec.index)\n",
    "\n",
    "df_pca2 = pd.concat([df_pca2, df_spec.cluster], axis = 1)\n",
    "# df_pca1.head()\n",
    "\n",
    "print(np.sum(pca.explained_variance_ratio_)*100, \"%\") # 2 Dimensi dapat menjelaskan keseluruhan fitur\n",
    "fig = plt.figure(figsize=(10, 8))\n",
    "ax = fig.add_subplot()\n",
    "sns.scatterplot(data = df_pca2, x = 'PC_1', y = 'PC_2', hue = 'cluster', s = 300, ax = ax)"
   ]
  },
  {
   "cell_type": "markdown",
   "metadata": {},
   "source": [
    "**3D**"
   ]
  },
  {
   "cell_type": "code",
   "execution_count": 1809,
   "metadata": {},
   "outputs": [],
   "source": [
    "# Gunakan Dimensionality Reduction dengan PCA untuk mempermudah melakukan visualisasi\n",
    "\n",
    "pca = PCA(n_components = 3)\n",
    "df_pca_3 = pd.DataFrame(pca.fit_transform(df_spec.iloc[:,:-1]),\n",
    "                      columns = ['PC1', 'PC2', 'PC3'],\n",
    "                      index = df_spec.index)\n",
    "\n",
    "df_pca_3 = pd.concat([df_pca_3, df_spec.cluster], axis = 1)\n",
    "# df_pca1.head()"
   ]
  },
  {
   "cell_type": "code",
   "execution_count": 1810,
   "metadata": {},
   "outputs": [
    {
     "data": {
      "text/html": [
       "<div>\n",
       "<style scoped>\n",
       "    .dataframe tbody tr th:only-of-type {\n",
       "        vertical-align: middle;\n",
       "    }\n",
       "\n",
       "    .dataframe tbody tr th {\n",
       "        vertical-align: top;\n",
       "    }\n",
       "\n",
       "    .dataframe thead th {\n",
       "        text-align: right;\n",
       "    }\n",
       "</style>\n",
       "<table border=\"1\" class=\"dataframe\">\n",
       "  <thead>\n",
       "    <tr style=\"text-align: right;\">\n",
       "      <th></th>\n",
       "      <th>PC1</th>\n",
       "      <th>PC2</th>\n",
       "      <th>PC3</th>\n",
       "      <th>cluster</th>\n",
       "    </tr>\n",
       "    <tr>\n",
       "      <th>Ticker</th>\n",
       "      <th></th>\n",
       "      <th></th>\n",
       "      <th></th>\n",
       "      <th></th>\n",
       "    </tr>\n",
       "  </thead>\n",
       "  <tbody>\n",
       "    <tr>\n",
       "      <th>ACES.JK</th>\n",
       "      <td>0.081060</td>\n",
       "      <td>-0.011719</td>\n",
       "      <td>-0.645003</td>\n",
       "      <td>2</td>\n",
       "    </tr>\n",
       "    <tr>\n",
       "      <th>ADMR.JK</th>\n",
       "      <td>-0.185258</td>\n",
       "      <td>-0.358235</td>\n",
       "      <td>-0.417066</td>\n",
       "      <td>1</td>\n",
       "    </tr>\n",
       "    <tr>\n",
       "      <th>ADRO.JK</th>\n",
       "      <td>0.141843</td>\n",
       "      <td>1.422983</td>\n",
       "      <td>-1.696032</td>\n",
       "      <td>2</td>\n",
       "    </tr>\n",
       "    <tr>\n",
       "      <th>AKRA.JK</th>\n",
       "      <td>-0.427134</td>\n",
       "      <td>-0.481004</td>\n",
       "      <td>-0.351792</td>\n",
       "      <td>0</td>\n",
       "    </tr>\n",
       "    <tr>\n",
       "      <th>AMMN.JK</th>\n",
       "      <td>-0.467157</td>\n",
       "      <td>2.729693</td>\n",
       "      <td>0.706150</td>\n",
       "      <td>2</td>\n",
       "    </tr>\n",
       "  </tbody>\n",
       "</table>\n",
       "</div>"
      ],
      "text/plain": [
       "              PC1       PC2       PC3  cluster\n",
       "Ticker                                        \n",
       "ACES.JK  0.081060 -0.011719 -0.645003        2\n",
       "ADMR.JK -0.185258 -0.358235 -0.417066        1\n",
       "ADRO.JK  0.141843  1.422983 -1.696032        2\n",
       "AKRA.JK -0.427134 -0.481004 -0.351792        0\n",
       "AMMN.JK -0.467157  2.729693  0.706150        2"
      ]
     },
     "execution_count": 1810,
     "metadata": {},
     "output_type": "execute_result"
    }
   ],
   "source": [
    "df_pca_3.head()"
   ]
  },
  {
   "cell_type": "code",
   "execution_count": 1811,
   "metadata": {},
   "outputs": [
    {
     "data": {
      "application/vnd.plotly.v1+json": {
       "config": {
        "linkText": "Export to plot.ly",
        "plotlyServerURL": "https://plot.ly",
        "showLink": false
       },
       "data": [
        {
         "marker": {
          "color": "rgb(255,0,0)",
          "size": 10
         },
         "mode": "markers",
         "name": "Cluster 0",
         "type": "scatter3d",
         "x": [
          -0.4271340740506326,
          -0.7029228574907134,
          -0.7418751709590143,
          -2.4921113132898585,
          -0.49419540763137043,
          -1.1789443839175935,
          0.018968149110860543,
          -1.2011692057341097,
          -0.3631262193203064,
          0.031241532996836737,
          -0.09977803441343884,
          -0.4236018626422731,
          -0.4574276737187548,
          -0.21551684582422878,
          0.4452970454035946,
          -0.5777294754646933,
          -0.18840817686876213,
          -1.3849302713953369
         ],
         "y": [
          -0.4810037607247237,
          -0.013767794819980455,
          0.005199018838529775,
          3.106896414067732,
          -0.03011672516481929,
          0.6982601772984874,
          -0.3224692129506533,
          1.309856393314192,
          -0.19006356806262506,
          -0.6761829793138541,
          -1.1863010825131906,
          -0.6534506007896516,
          -0.6513651758015973,
          -0.47010291209350813,
          -2.0297699007388994,
          -0.5891984290866435,
          -1.1158912202555562,
          -2.8071871788461022
         ],
         "z": [
          -0.3517923185786128,
          -0.2320382781473737,
          0.2551849191006112,
          3.0728041154965915,
          0.21771347033481345,
          2.084542615840946,
          -0.346059802550973,
          1.079430071873729,
          -0.14153440432419312,
          0.14350974564056238,
          0.46957493660506927,
          -0.14910540748924614,
          0.1381449873176374,
          0.0071221778762792665,
          1.3787892052765784,
          1.206062198717991,
          0.37152281394843395,
          0.874296632268455
         ]
        },
        {
         "marker": {
          "color": "rgb(0,255,0)",
          "size": 10
         },
         "mode": "markers",
         "name": "Cluster 1",
         "type": "scatter3d",
         "x": [
          -0.18525825652605427,
          0.13030714369686827,
          1.5045139440342765,
          2.93821905073355,
          1.584669919029207,
          5.479827318263787,
          0.36859441971425366,
          0.5793298479203258,
          1.6233710264928392,
          0.8659918324211309,
          0.11538327076359779,
          0.280266820620049,
          0.157232212799845
         ],
         "y": [
          -0.35823533640000116,
          -0.3829119212765579,
          -0.13245843791592585,
          -0.08504651807162589,
          -1.2572829374812218,
          2.1175788989868174,
          -0.7075669674527609,
          -0.5504302319827986,
          -0.10026279065324174,
          -0.687411298346918,
          -0.03378384605668986,
          -0.3626948087736142,
          -0.3062687331792185
         ],
         "z": [
          -0.4170664706460047,
          -0.1488345146010482,
          -0.006058282781436096,
          0.5526742580521805,
          0.9445421862119874,
          1.0469239497120997,
          0.20864433506607108,
          -0.04431252437326907,
          0.09979167623335393,
          0.4470062568183703,
          -0.6122589113221135,
          -0.09166234161490354,
          -0.34739895314415914
         ]
        },
        {
         "marker": {
          "color": "rgb(0,0,255)",
          "size": 10
         },
         "mode": "markers",
         "name": "Cluster 2",
         "type": "scatter3d",
         "x": [
          0.08105988478894355,
          0.14184333842681618,
          -0.46715725226262667,
          -0.020804391739309452,
          0.6288160697168086,
          -0.09427862172994805,
          -0.6659332011962683,
          -0.8304744400199092,
          -0.00005727088608046114,
          -0.9804397186264618,
          -0.5152379706736481,
          -0.7628109122031622,
          -0.5568015900314076,
          -0.946808228317629
         ],
         "y": [
          -0.011719206750588488,
          1.422983002056485,
          2.7296925678588675,
          1.6466857068289564,
          0.8621706901043256,
          0.014172800487777299,
          0.19932978941403465,
          0.29925834961114456,
          0.2014929545451939,
          0.1527428271606025,
          0.9177906386918604,
          0.2219924640208495,
          -0.33965989408554825,
          0.6265007763026612
         ],
         "z": [
          -0.6450029478156023,
          -1.696031567484351,
          0.7061503173081634,
          -1.4720963918197256,
          -1.2946124253641356,
          -0.5450615997932673,
          -0.30901039920236073,
          -0.8036507228121961,
          -0.4775639020689848,
          -1.0381097911036727,
          -1.4508196752366878,
          -1.0603758046163323,
          -0.5840082612921811,
          -1.0399651715170941
         ]
        }
       ],
       "layout": {
        "margin": {
         "b": 0,
         "l": 0,
         "r": 0,
         "t": 0
        },
        "template": {
         "data": {
          "bar": [
           {
            "error_x": {
             "color": "#2a3f5f"
            },
            "error_y": {
             "color": "#2a3f5f"
            },
            "marker": {
             "line": {
              "color": "#E5ECF6",
              "width": 0.5
             },
             "pattern": {
              "fillmode": "overlay",
              "size": 10,
              "solidity": 0.2
             }
            },
            "type": "bar"
           }
          ],
          "barpolar": [
           {
            "marker": {
             "line": {
              "color": "#E5ECF6",
              "width": 0.5
             },
             "pattern": {
              "fillmode": "overlay",
              "size": 10,
              "solidity": 0.2
             }
            },
            "type": "barpolar"
           }
          ],
          "carpet": [
           {
            "aaxis": {
             "endlinecolor": "#2a3f5f",
             "gridcolor": "white",
             "linecolor": "white",
             "minorgridcolor": "white",
             "startlinecolor": "#2a3f5f"
            },
            "baxis": {
             "endlinecolor": "#2a3f5f",
             "gridcolor": "white",
             "linecolor": "white",
             "minorgridcolor": "white",
             "startlinecolor": "#2a3f5f"
            },
            "type": "carpet"
           }
          ],
          "choropleth": [
           {
            "colorbar": {
             "outlinewidth": 0,
             "ticks": ""
            },
            "type": "choropleth"
           }
          ],
          "contour": [
           {
            "colorbar": {
             "outlinewidth": 0,
             "ticks": ""
            },
            "colorscale": [
             [
              0,
              "#0d0887"
             ],
             [
              0.1111111111111111,
              "#46039f"
             ],
             [
              0.2222222222222222,
              "#7201a8"
             ],
             [
              0.3333333333333333,
              "#9c179e"
             ],
             [
              0.4444444444444444,
              "#bd3786"
             ],
             [
              0.5555555555555556,
              "#d8576b"
             ],
             [
              0.6666666666666666,
              "#ed7953"
             ],
             [
              0.7777777777777778,
              "#fb9f3a"
             ],
             [
              0.8888888888888888,
              "#fdca26"
             ],
             [
              1,
              "#f0f921"
             ]
            ],
            "type": "contour"
           }
          ],
          "contourcarpet": [
           {
            "colorbar": {
             "outlinewidth": 0,
             "ticks": ""
            },
            "type": "contourcarpet"
           }
          ],
          "heatmap": [
           {
            "colorbar": {
             "outlinewidth": 0,
             "ticks": ""
            },
            "colorscale": [
             [
              0,
              "#0d0887"
             ],
             [
              0.1111111111111111,
              "#46039f"
             ],
             [
              0.2222222222222222,
              "#7201a8"
             ],
             [
              0.3333333333333333,
              "#9c179e"
             ],
             [
              0.4444444444444444,
              "#bd3786"
             ],
             [
              0.5555555555555556,
              "#d8576b"
             ],
             [
              0.6666666666666666,
              "#ed7953"
             ],
             [
              0.7777777777777778,
              "#fb9f3a"
             ],
             [
              0.8888888888888888,
              "#fdca26"
             ],
             [
              1,
              "#f0f921"
             ]
            ],
            "type": "heatmap"
           }
          ],
          "heatmapgl": [
           {
            "colorbar": {
             "outlinewidth": 0,
             "ticks": ""
            },
            "colorscale": [
             [
              0,
              "#0d0887"
             ],
             [
              0.1111111111111111,
              "#46039f"
             ],
             [
              0.2222222222222222,
              "#7201a8"
             ],
             [
              0.3333333333333333,
              "#9c179e"
             ],
             [
              0.4444444444444444,
              "#bd3786"
             ],
             [
              0.5555555555555556,
              "#d8576b"
             ],
             [
              0.6666666666666666,
              "#ed7953"
             ],
             [
              0.7777777777777778,
              "#fb9f3a"
             ],
             [
              0.8888888888888888,
              "#fdca26"
             ],
             [
              1,
              "#f0f921"
             ]
            ],
            "type": "heatmapgl"
           }
          ],
          "histogram": [
           {
            "marker": {
             "pattern": {
              "fillmode": "overlay",
              "size": 10,
              "solidity": 0.2
             }
            },
            "type": "histogram"
           }
          ],
          "histogram2d": [
           {
            "colorbar": {
             "outlinewidth": 0,
             "ticks": ""
            },
            "colorscale": [
             [
              0,
              "#0d0887"
             ],
             [
              0.1111111111111111,
              "#46039f"
             ],
             [
              0.2222222222222222,
              "#7201a8"
             ],
             [
              0.3333333333333333,
              "#9c179e"
             ],
             [
              0.4444444444444444,
              "#bd3786"
             ],
             [
              0.5555555555555556,
              "#d8576b"
             ],
             [
              0.6666666666666666,
              "#ed7953"
             ],
             [
              0.7777777777777778,
              "#fb9f3a"
             ],
             [
              0.8888888888888888,
              "#fdca26"
             ],
             [
              1,
              "#f0f921"
             ]
            ],
            "type": "histogram2d"
           }
          ],
          "histogram2dcontour": [
           {
            "colorbar": {
             "outlinewidth": 0,
             "ticks": ""
            },
            "colorscale": [
             [
              0,
              "#0d0887"
             ],
             [
              0.1111111111111111,
              "#46039f"
             ],
             [
              0.2222222222222222,
              "#7201a8"
             ],
             [
              0.3333333333333333,
              "#9c179e"
             ],
             [
              0.4444444444444444,
              "#bd3786"
             ],
             [
              0.5555555555555556,
              "#d8576b"
             ],
             [
              0.6666666666666666,
              "#ed7953"
             ],
             [
              0.7777777777777778,
              "#fb9f3a"
             ],
             [
              0.8888888888888888,
              "#fdca26"
             ],
             [
              1,
              "#f0f921"
             ]
            ],
            "type": "histogram2dcontour"
           }
          ],
          "mesh3d": [
           {
            "colorbar": {
             "outlinewidth": 0,
             "ticks": ""
            },
            "type": "mesh3d"
           }
          ],
          "parcoords": [
           {
            "line": {
             "colorbar": {
              "outlinewidth": 0,
              "ticks": ""
             }
            },
            "type": "parcoords"
           }
          ],
          "pie": [
           {
            "automargin": true,
            "type": "pie"
           }
          ],
          "scatter": [
           {
            "fillpattern": {
             "fillmode": "overlay",
             "size": 10,
             "solidity": 0.2
            },
            "type": "scatter"
           }
          ],
          "scatter3d": [
           {
            "line": {
             "colorbar": {
              "outlinewidth": 0,
              "ticks": ""
             }
            },
            "marker": {
             "colorbar": {
              "outlinewidth": 0,
              "ticks": ""
             }
            },
            "type": "scatter3d"
           }
          ],
          "scattercarpet": [
           {
            "marker": {
             "colorbar": {
              "outlinewidth": 0,
              "ticks": ""
             }
            },
            "type": "scattercarpet"
           }
          ],
          "scattergeo": [
           {
            "marker": {
             "colorbar": {
              "outlinewidth": 0,
              "ticks": ""
             }
            },
            "type": "scattergeo"
           }
          ],
          "scattergl": [
           {
            "marker": {
             "colorbar": {
              "outlinewidth": 0,
              "ticks": ""
             }
            },
            "type": "scattergl"
           }
          ],
          "scattermapbox": [
           {
            "marker": {
             "colorbar": {
              "outlinewidth": 0,
              "ticks": ""
             }
            },
            "type": "scattermapbox"
           }
          ],
          "scatterpolar": [
           {
            "marker": {
             "colorbar": {
              "outlinewidth": 0,
              "ticks": ""
             }
            },
            "type": "scatterpolar"
           }
          ],
          "scatterpolargl": [
           {
            "marker": {
             "colorbar": {
              "outlinewidth": 0,
              "ticks": ""
             }
            },
            "type": "scatterpolargl"
           }
          ],
          "scatterternary": [
           {
            "marker": {
             "colorbar": {
              "outlinewidth": 0,
              "ticks": ""
             }
            },
            "type": "scatterternary"
           }
          ],
          "surface": [
           {
            "colorbar": {
             "outlinewidth": 0,
             "ticks": ""
            },
            "colorscale": [
             [
              0,
              "#0d0887"
             ],
             [
              0.1111111111111111,
              "#46039f"
             ],
             [
              0.2222222222222222,
              "#7201a8"
             ],
             [
              0.3333333333333333,
              "#9c179e"
             ],
             [
              0.4444444444444444,
              "#bd3786"
             ],
             [
              0.5555555555555556,
              "#d8576b"
             ],
             [
              0.6666666666666666,
              "#ed7953"
             ],
             [
              0.7777777777777778,
              "#fb9f3a"
             ],
             [
              0.8888888888888888,
              "#fdca26"
             ],
             [
              1,
              "#f0f921"
             ]
            ],
            "type": "surface"
           }
          ],
          "table": [
           {
            "cells": {
             "fill": {
              "color": "#EBF0F8"
             },
             "line": {
              "color": "white"
             }
            },
            "header": {
             "fill": {
              "color": "#C8D4E3"
             },
             "line": {
              "color": "white"
             }
            },
            "type": "table"
           }
          ]
         },
         "layout": {
          "annotationdefaults": {
           "arrowcolor": "#2a3f5f",
           "arrowhead": 0,
           "arrowwidth": 1
          },
          "autotypenumbers": "strict",
          "coloraxis": {
           "colorbar": {
            "outlinewidth": 0,
            "ticks": ""
           }
          },
          "colorscale": {
           "diverging": [
            [
             0,
             "#8e0152"
            ],
            [
             0.1,
             "#c51b7d"
            ],
            [
             0.2,
             "#de77ae"
            ],
            [
             0.3,
             "#f1b6da"
            ],
            [
             0.4,
             "#fde0ef"
            ],
            [
             0.5,
             "#f7f7f7"
            ],
            [
             0.6,
             "#e6f5d0"
            ],
            [
             0.7,
             "#b8e186"
            ],
            [
             0.8,
             "#7fbc41"
            ],
            [
             0.9,
             "#4d9221"
            ],
            [
             1,
             "#276419"
            ]
           ],
           "sequential": [
            [
             0,
             "#0d0887"
            ],
            [
             0.1111111111111111,
             "#46039f"
            ],
            [
             0.2222222222222222,
             "#7201a8"
            ],
            [
             0.3333333333333333,
             "#9c179e"
            ],
            [
             0.4444444444444444,
             "#bd3786"
            ],
            [
             0.5555555555555556,
             "#d8576b"
            ],
            [
             0.6666666666666666,
             "#ed7953"
            ],
            [
             0.7777777777777778,
             "#fb9f3a"
            ],
            [
             0.8888888888888888,
             "#fdca26"
            ],
            [
             1,
             "#f0f921"
            ]
           ],
           "sequentialminus": [
            [
             0,
             "#0d0887"
            ],
            [
             0.1111111111111111,
             "#46039f"
            ],
            [
             0.2222222222222222,
             "#7201a8"
            ],
            [
             0.3333333333333333,
             "#9c179e"
            ],
            [
             0.4444444444444444,
             "#bd3786"
            ],
            [
             0.5555555555555556,
             "#d8576b"
            ],
            [
             0.6666666666666666,
             "#ed7953"
            ],
            [
             0.7777777777777778,
             "#fb9f3a"
            ],
            [
             0.8888888888888888,
             "#fdca26"
            ],
            [
             1,
             "#f0f921"
            ]
           ]
          },
          "colorway": [
           "#636efa",
           "#EF553B",
           "#00cc96",
           "#ab63fa",
           "#FFA15A",
           "#19d3f3",
           "#FF6692",
           "#B6E880",
           "#FF97FF",
           "#FECB52"
          ],
          "font": {
           "color": "#2a3f5f"
          },
          "geo": {
           "bgcolor": "white",
           "lakecolor": "white",
           "landcolor": "#E5ECF6",
           "showlakes": true,
           "showland": true,
           "subunitcolor": "white"
          },
          "hoverlabel": {
           "align": "left"
          },
          "hovermode": "closest",
          "mapbox": {
           "style": "light"
          },
          "paper_bgcolor": "white",
          "plot_bgcolor": "#E5ECF6",
          "polar": {
           "angularaxis": {
            "gridcolor": "white",
            "linecolor": "white",
            "ticks": ""
           },
           "bgcolor": "#E5ECF6",
           "radialaxis": {
            "gridcolor": "white",
            "linecolor": "white",
            "ticks": ""
           }
          },
          "scene": {
           "xaxis": {
            "backgroundcolor": "#E5ECF6",
            "gridcolor": "white",
            "gridwidth": 2,
            "linecolor": "white",
            "showbackground": true,
            "ticks": "",
            "zerolinecolor": "white"
           },
           "yaxis": {
            "backgroundcolor": "#E5ECF6",
            "gridcolor": "white",
            "gridwidth": 2,
            "linecolor": "white",
            "showbackground": true,
            "ticks": "",
            "zerolinecolor": "white"
           },
           "zaxis": {
            "backgroundcolor": "#E5ECF6",
            "gridcolor": "white",
            "gridwidth": 2,
            "linecolor": "white",
            "showbackground": true,
            "ticks": "",
            "zerolinecolor": "white"
           }
          },
          "shapedefaults": {
           "line": {
            "color": "#2a3f5f"
           }
          },
          "ternary": {
           "aaxis": {
            "gridcolor": "white",
            "linecolor": "white",
            "ticks": ""
           },
           "baxis": {
            "gridcolor": "white",
            "linecolor": "white",
            "ticks": ""
           },
           "bgcolor": "#E5ECF6",
           "caxis": {
            "gridcolor": "white",
            "linecolor": "white",
            "ticks": ""
           }
          },
          "title": {
           "x": 0.05
          },
          "xaxis": {
           "automargin": true,
           "gridcolor": "white",
           "linecolor": "white",
           "ticks": "",
           "title": {
            "standoff": 15
           },
           "zerolinecolor": "white",
           "zerolinewidth": 2
          },
          "yaxis": {
           "automargin": true,
           "gridcolor": "white",
           "linecolor": "white",
           "ticks": "",
           "title": {
            "standoff": 15
           },
           "zerolinecolor": "white",
           "zerolinewidth": 2
          }
         }
        }
       }
      },
      "text/html": [
       "<div>                            <div id=\"a531b8f6-7bbe-486e-8c9f-4bcc5fd10f04\" class=\"plotly-graph-div\" style=\"height:525px; width:100%;\"></div>            <script type=\"text/javascript\">                require([\"plotly\"], function(Plotly) {                    window.PLOTLYENV=window.PLOTLYENV || {};                                    if (document.getElementById(\"a531b8f6-7bbe-486e-8c9f-4bcc5fd10f04\")) {                    Plotly.newPlot(                        \"a531b8f6-7bbe-486e-8c9f-4bcc5fd10f04\",                        [{\"marker\":{\"color\":\"rgb(255,0,0)\",\"size\":10},\"mode\":\"markers\",\"name\":\"Cluster 0\",\"x\":[-0.4271340740506326,-0.7029228574907134,-0.7418751709590143,-2.4921113132898585,-0.49419540763137043,-1.1789443839175935,0.018968149110860543,-1.2011692057341097,-0.3631262193203064,0.031241532996836737,-0.09977803441343884,-0.4236018626422731,-0.4574276737187548,-0.21551684582422878,0.4452970454035946,-0.5777294754646933,-0.18840817686876213,-1.3849302713953369],\"y\":[-0.4810037607247237,-0.013767794819980455,0.005199018838529775,3.106896414067732,-0.03011672516481929,0.6982601772984874,-0.3224692129506533,1.309856393314192,-0.19006356806262506,-0.6761829793138541,-1.1863010825131906,-0.6534506007896516,-0.6513651758015973,-0.47010291209350813,-2.0297699007388994,-0.5891984290866435,-1.1158912202555562,-2.8071871788461022],\"z\":[-0.3517923185786128,-0.2320382781473737,0.2551849191006112,3.0728041154965915,0.21771347033481345,2.084542615840946,-0.346059802550973,1.079430071873729,-0.14153440432419312,0.14350974564056238,0.46957493660506927,-0.14910540748924614,0.1381449873176374,0.0071221778762792665,1.3787892052765784,1.206062198717991,0.37152281394843395,0.874296632268455],\"type\":\"scatter3d\"},{\"marker\":{\"color\":\"rgb(0,255,0)\",\"size\":10},\"mode\":\"markers\",\"name\":\"Cluster 1\",\"x\":[-0.18525825652605427,0.13030714369686827,1.5045139440342765,2.93821905073355,1.584669919029207,5.479827318263787,0.36859441971425366,0.5793298479203258,1.6233710264928392,0.8659918324211309,0.11538327076359779,0.280266820620049,0.157232212799845],\"y\":[-0.35823533640000116,-0.3829119212765579,-0.13245843791592585,-0.08504651807162589,-1.2572829374812218,2.1175788989868174,-0.7075669674527609,-0.5504302319827986,-0.10026279065324174,-0.687411298346918,-0.03378384605668986,-0.3626948087736142,-0.3062687331792185],\"z\":[-0.4170664706460047,-0.1488345146010482,-0.006058282781436096,0.5526742580521805,0.9445421862119874,1.0469239497120997,0.20864433506607108,-0.04431252437326907,0.09979167623335393,0.4470062568183703,-0.6122589113221135,-0.09166234161490354,-0.34739895314415914],\"type\":\"scatter3d\"},{\"marker\":{\"color\":\"rgb(0,0,255)\",\"size\":10},\"mode\":\"markers\",\"name\":\"Cluster 2\",\"x\":[0.08105988478894355,0.14184333842681618,-0.46715725226262667,-0.020804391739309452,0.6288160697168086,-0.09427862172994805,-0.6659332011962683,-0.8304744400199092,-5.727088608046114e-05,-0.9804397186264618,-0.5152379706736481,-0.7628109122031622,-0.5568015900314076,-0.946808228317629],\"y\":[-0.011719206750588488,1.422983002056485,2.7296925678588675,1.6466857068289564,0.8621706901043256,0.014172800487777299,0.19932978941403465,0.29925834961114456,0.2014929545451939,0.1527428271606025,0.9177906386918604,0.2219924640208495,-0.33965989408554825,0.6265007763026612],\"z\":[-0.6450029478156023,-1.696031567484351,0.7061503173081634,-1.4720963918197256,-1.2946124253641356,-0.5450615997932673,-0.30901039920236073,-0.8036507228121961,-0.4775639020689848,-1.0381097911036727,-1.4508196752366878,-1.0603758046163323,-0.5840082612921811,-1.0399651715170941],\"type\":\"scatter3d\"}],                        {\"margin\":{\"b\":0,\"l\":0,\"r\":0,\"t\":0},\"template\":{\"data\":{\"barpolar\":[{\"marker\":{\"line\":{\"color\":\"#E5ECF6\",\"width\":0.5},\"pattern\":{\"fillmode\":\"overlay\",\"size\":10,\"solidity\":0.2}},\"type\":\"barpolar\"}],\"bar\":[{\"error_x\":{\"color\":\"#2a3f5f\"},\"error_y\":{\"color\":\"#2a3f5f\"},\"marker\":{\"line\":{\"color\":\"#E5ECF6\",\"width\":0.5},\"pattern\":{\"fillmode\":\"overlay\",\"size\":10,\"solidity\":0.2}},\"type\":\"bar\"}],\"carpet\":[{\"aaxis\":{\"endlinecolor\":\"#2a3f5f\",\"gridcolor\":\"white\",\"linecolor\":\"white\",\"minorgridcolor\":\"white\",\"startlinecolor\":\"#2a3f5f\"},\"baxis\":{\"endlinecolor\":\"#2a3f5f\",\"gridcolor\":\"white\",\"linecolor\":\"white\",\"minorgridcolor\":\"white\",\"startlinecolor\":\"#2a3f5f\"},\"type\":\"carpet\"}],\"choropleth\":[{\"colorbar\":{\"outlinewidth\":0,\"ticks\":\"\"},\"type\":\"choropleth\"}],\"contourcarpet\":[{\"colorbar\":{\"outlinewidth\":0,\"ticks\":\"\"},\"type\":\"contourcarpet\"}],\"contour\":[{\"colorbar\":{\"outlinewidth\":0,\"ticks\":\"\"},\"colorscale\":[[0.0,\"#0d0887\"],[0.1111111111111111,\"#46039f\"],[0.2222222222222222,\"#7201a8\"],[0.3333333333333333,\"#9c179e\"],[0.4444444444444444,\"#bd3786\"],[0.5555555555555556,\"#d8576b\"],[0.6666666666666666,\"#ed7953\"],[0.7777777777777778,\"#fb9f3a\"],[0.8888888888888888,\"#fdca26\"],[1.0,\"#f0f921\"]],\"type\":\"contour\"}],\"heatmapgl\":[{\"colorbar\":{\"outlinewidth\":0,\"ticks\":\"\"},\"colorscale\":[[0.0,\"#0d0887\"],[0.1111111111111111,\"#46039f\"],[0.2222222222222222,\"#7201a8\"],[0.3333333333333333,\"#9c179e\"],[0.4444444444444444,\"#bd3786\"],[0.5555555555555556,\"#d8576b\"],[0.6666666666666666,\"#ed7953\"],[0.7777777777777778,\"#fb9f3a\"],[0.8888888888888888,\"#fdca26\"],[1.0,\"#f0f921\"]],\"type\":\"heatmapgl\"}],\"heatmap\":[{\"colorbar\":{\"outlinewidth\":0,\"ticks\":\"\"},\"colorscale\":[[0.0,\"#0d0887\"],[0.1111111111111111,\"#46039f\"],[0.2222222222222222,\"#7201a8\"],[0.3333333333333333,\"#9c179e\"],[0.4444444444444444,\"#bd3786\"],[0.5555555555555556,\"#d8576b\"],[0.6666666666666666,\"#ed7953\"],[0.7777777777777778,\"#fb9f3a\"],[0.8888888888888888,\"#fdca26\"],[1.0,\"#f0f921\"]],\"type\":\"heatmap\"}],\"histogram2dcontour\":[{\"colorbar\":{\"outlinewidth\":0,\"ticks\":\"\"},\"colorscale\":[[0.0,\"#0d0887\"],[0.1111111111111111,\"#46039f\"],[0.2222222222222222,\"#7201a8\"],[0.3333333333333333,\"#9c179e\"],[0.4444444444444444,\"#bd3786\"],[0.5555555555555556,\"#d8576b\"],[0.6666666666666666,\"#ed7953\"],[0.7777777777777778,\"#fb9f3a\"],[0.8888888888888888,\"#fdca26\"],[1.0,\"#f0f921\"]],\"type\":\"histogram2dcontour\"}],\"histogram2d\":[{\"colorbar\":{\"outlinewidth\":0,\"ticks\":\"\"},\"colorscale\":[[0.0,\"#0d0887\"],[0.1111111111111111,\"#46039f\"],[0.2222222222222222,\"#7201a8\"],[0.3333333333333333,\"#9c179e\"],[0.4444444444444444,\"#bd3786\"],[0.5555555555555556,\"#d8576b\"],[0.6666666666666666,\"#ed7953\"],[0.7777777777777778,\"#fb9f3a\"],[0.8888888888888888,\"#fdca26\"],[1.0,\"#f0f921\"]],\"type\":\"histogram2d\"}],\"histogram\":[{\"marker\":{\"pattern\":{\"fillmode\":\"overlay\",\"size\":10,\"solidity\":0.2}},\"type\":\"histogram\"}],\"mesh3d\":[{\"colorbar\":{\"outlinewidth\":0,\"ticks\":\"\"},\"type\":\"mesh3d\"}],\"parcoords\":[{\"line\":{\"colorbar\":{\"outlinewidth\":0,\"ticks\":\"\"}},\"type\":\"parcoords\"}],\"pie\":[{\"automargin\":true,\"type\":\"pie\"}],\"scatter3d\":[{\"line\":{\"colorbar\":{\"outlinewidth\":0,\"ticks\":\"\"}},\"marker\":{\"colorbar\":{\"outlinewidth\":0,\"ticks\":\"\"}},\"type\":\"scatter3d\"}],\"scattercarpet\":[{\"marker\":{\"colorbar\":{\"outlinewidth\":0,\"ticks\":\"\"}},\"type\":\"scattercarpet\"}],\"scattergeo\":[{\"marker\":{\"colorbar\":{\"outlinewidth\":0,\"ticks\":\"\"}},\"type\":\"scattergeo\"}],\"scattergl\":[{\"marker\":{\"colorbar\":{\"outlinewidth\":0,\"ticks\":\"\"}},\"type\":\"scattergl\"}],\"scattermapbox\":[{\"marker\":{\"colorbar\":{\"outlinewidth\":0,\"ticks\":\"\"}},\"type\":\"scattermapbox\"}],\"scatterpolargl\":[{\"marker\":{\"colorbar\":{\"outlinewidth\":0,\"ticks\":\"\"}},\"type\":\"scatterpolargl\"}],\"scatterpolar\":[{\"marker\":{\"colorbar\":{\"outlinewidth\":0,\"ticks\":\"\"}},\"type\":\"scatterpolar\"}],\"scatter\":[{\"fillpattern\":{\"fillmode\":\"overlay\",\"size\":10,\"solidity\":0.2},\"type\":\"scatter\"}],\"scatterternary\":[{\"marker\":{\"colorbar\":{\"outlinewidth\":0,\"ticks\":\"\"}},\"type\":\"scatterternary\"}],\"surface\":[{\"colorbar\":{\"outlinewidth\":0,\"ticks\":\"\"},\"colorscale\":[[0.0,\"#0d0887\"],[0.1111111111111111,\"#46039f\"],[0.2222222222222222,\"#7201a8\"],[0.3333333333333333,\"#9c179e\"],[0.4444444444444444,\"#bd3786\"],[0.5555555555555556,\"#d8576b\"],[0.6666666666666666,\"#ed7953\"],[0.7777777777777778,\"#fb9f3a\"],[0.8888888888888888,\"#fdca26\"],[1.0,\"#f0f921\"]],\"type\":\"surface\"}],\"table\":[{\"cells\":{\"fill\":{\"color\":\"#EBF0F8\"},\"line\":{\"color\":\"white\"}},\"header\":{\"fill\":{\"color\":\"#C8D4E3\"},\"line\":{\"color\":\"white\"}},\"type\":\"table\"}]},\"layout\":{\"annotationdefaults\":{\"arrowcolor\":\"#2a3f5f\",\"arrowhead\":0,\"arrowwidth\":1},\"autotypenumbers\":\"strict\",\"coloraxis\":{\"colorbar\":{\"outlinewidth\":0,\"ticks\":\"\"}},\"colorscale\":{\"diverging\":[[0,\"#8e0152\"],[0.1,\"#c51b7d\"],[0.2,\"#de77ae\"],[0.3,\"#f1b6da\"],[0.4,\"#fde0ef\"],[0.5,\"#f7f7f7\"],[0.6,\"#e6f5d0\"],[0.7,\"#b8e186\"],[0.8,\"#7fbc41\"],[0.9,\"#4d9221\"],[1,\"#276419\"]],\"sequential\":[[0.0,\"#0d0887\"],[0.1111111111111111,\"#46039f\"],[0.2222222222222222,\"#7201a8\"],[0.3333333333333333,\"#9c179e\"],[0.4444444444444444,\"#bd3786\"],[0.5555555555555556,\"#d8576b\"],[0.6666666666666666,\"#ed7953\"],[0.7777777777777778,\"#fb9f3a\"],[0.8888888888888888,\"#fdca26\"],[1.0,\"#f0f921\"]],\"sequentialminus\":[[0.0,\"#0d0887\"],[0.1111111111111111,\"#46039f\"],[0.2222222222222222,\"#7201a8\"],[0.3333333333333333,\"#9c179e\"],[0.4444444444444444,\"#bd3786\"],[0.5555555555555556,\"#d8576b\"],[0.6666666666666666,\"#ed7953\"],[0.7777777777777778,\"#fb9f3a\"],[0.8888888888888888,\"#fdca26\"],[1.0,\"#f0f921\"]]},\"colorway\":[\"#636efa\",\"#EF553B\",\"#00cc96\",\"#ab63fa\",\"#FFA15A\",\"#19d3f3\",\"#FF6692\",\"#B6E880\",\"#FF97FF\",\"#FECB52\"],\"font\":{\"color\":\"#2a3f5f\"},\"geo\":{\"bgcolor\":\"white\",\"lakecolor\":\"white\",\"landcolor\":\"#E5ECF6\",\"showlakes\":true,\"showland\":true,\"subunitcolor\":\"white\"},\"hoverlabel\":{\"align\":\"left\"},\"hovermode\":\"closest\",\"mapbox\":{\"style\":\"light\"},\"paper_bgcolor\":\"white\",\"plot_bgcolor\":\"#E5ECF6\",\"polar\":{\"angularaxis\":{\"gridcolor\":\"white\",\"linecolor\":\"white\",\"ticks\":\"\"},\"bgcolor\":\"#E5ECF6\",\"radialaxis\":{\"gridcolor\":\"white\",\"linecolor\":\"white\",\"ticks\":\"\"}},\"scene\":{\"xaxis\":{\"backgroundcolor\":\"#E5ECF6\",\"gridcolor\":\"white\",\"gridwidth\":2,\"linecolor\":\"white\",\"showbackground\":true,\"ticks\":\"\",\"zerolinecolor\":\"white\"},\"yaxis\":{\"backgroundcolor\":\"#E5ECF6\",\"gridcolor\":\"white\",\"gridwidth\":2,\"linecolor\":\"white\",\"showbackground\":true,\"ticks\":\"\",\"zerolinecolor\":\"white\"},\"zaxis\":{\"backgroundcolor\":\"#E5ECF6\",\"gridcolor\":\"white\",\"gridwidth\":2,\"linecolor\":\"white\",\"showbackground\":true,\"ticks\":\"\",\"zerolinecolor\":\"white\"}},\"shapedefaults\":{\"line\":{\"color\":\"#2a3f5f\"}},\"ternary\":{\"aaxis\":{\"gridcolor\":\"white\",\"linecolor\":\"white\",\"ticks\":\"\"},\"baxis\":{\"gridcolor\":\"white\",\"linecolor\":\"white\",\"ticks\":\"\"},\"bgcolor\":\"#E5ECF6\",\"caxis\":{\"gridcolor\":\"white\",\"linecolor\":\"white\",\"ticks\":\"\"}},\"title\":{\"x\":0.05},\"xaxis\":{\"automargin\":true,\"gridcolor\":\"white\",\"linecolor\":\"white\",\"ticks\":\"\",\"title\":{\"standoff\":15},\"zerolinecolor\":\"white\",\"zerolinewidth\":2},\"yaxis\":{\"automargin\":true,\"gridcolor\":\"white\",\"linecolor\":\"white\",\"ticks\":\"\",\"title\":{\"standoff\":15},\"zerolinecolor\":\"white\",\"zerolinewidth\":2}}}},                        {\"responsive\": true}                    ).then(function(){\n",
       "                            \n",
       "var gd = document.getElementById('a531b8f6-7bbe-486e-8c9f-4bcc5fd10f04');\n",
       "var x = new MutationObserver(function (mutations, observer) {{\n",
       "        var display = window.getComputedStyle(gd).display;\n",
       "        if (!display || display === 'none') {{\n",
       "            console.log([gd, 'removed!']);\n",
       "            Plotly.purge(gd);\n",
       "            observer.disconnect();\n",
       "        }}\n",
       "}});\n",
       "\n",
       "// Listen for the removal of the full notebook cells\n",
       "var notebookContainer = gd.closest('#notebook-container');\n",
       "if (notebookContainer) {{\n",
       "    x.observe(notebookContainer, {childList: true});\n",
       "}}\n",
       "\n",
       "// Listen for the clearing of the current output cell\n",
       "var outputEl = gd.closest('.output');\n",
       "if (outputEl) {{\n",
       "    x.observe(outputEl, {childList: true});\n",
       "}}\n",
       "\n",
       "                        })                };                });            </script>        </div>"
      ]
     },
     "metadata": {},
     "output_type": "display_data"
    }
   ],
   "source": [
    "# membuat visualisasi 3D untuk setiap klaster\n",
    "# klaster 1\n",
    "Cluster0= go.Scatter3d(\n",
    "        x=df_pca_3[df_pca_3['cluster']==0]['PC1'],\n",
    "        y=df_pca_3[df_pca_3['cluster']==0]['PC2'],\n",
    "        z=df_pca_3[df_pca_3['cluster']==0]['PC3'],\n",
    "        mode=\"markers\",\n",
    "        marker=dict(\n",
    "                    size=10,\n",
    "                    color=\"rgb(255,0,0)\",\n",
    "        ),\n",
    "        name=\"Cluster 0\"\n",
    ")\n",
    "\n",
    "#klaster 2\n",
    "Cluster1= go.Scatter3d(\n",
    "        x=df_pca_3[df_pca_3['cluster']==1]['PC1'],\n",
    "        y=df_pca_3[df_pca_3['cluster']==1]['PC2'],\n",
    "        z=df_pca_3[df_pca_3['cluster']==1]['PC3'],\n",
    "        mode=\"markers\",\n",
    "        marker=dict(\n",
    "                    size=10,\n",
    "                    color=\"rgb(0,255,0)\",\n",
    "        ),\n",
    "        name=\"Cluster 1\"\n",
    ")\n",
    "\n",
    "# klaster 3\n",
    "Cluster2= go.Scatter3d(\n",
    "        x=df_pca_3[df_pca_3['cluster']==2]['PC1'],\n",
    "        y=df_pca_3[df_pca_3['cluster']==2]['PC2'],\n",
    "        z=df_pca_3[df_pca_3['cluster']==2]['PC3'],\n",
    "        mode=\"markers\",\n",
    "        marker=dict(\n",
    "                    size=10,\n",
    "                    color=\"rgb(0,0,255)\",\n",
    "        ),\n",
    "        name=\"Cluster 2\"\n",
    ")\n",
    "\n",
    "\n",
    "data_plot_km=[Cluster0,Cluster1,Cluster2]\n",
    "\n",
    "# membuat plot\n",
    "layout = go.Layout(\n",
    "    margin=dict(l=0, r=0, b=0, t=0))\n",
    "\n",
    "fig=go.Figure(data = data_plot_km, layout = layout)\n",
    "iplot(fig)"
   ]
  },
  {
   "cell_type": "markdown",
   "metadata": {},
   "source": [
    "# Agglomerative"
   ]
  },
  {
   "cell_type": "code",
   "execution_count": 1812,
   "metadata": {},
   "outputs": [
    {
     "data": {
      "image/png": "[encoded data removed]",
      "text/plain": [
       "<Figure size 1200x800 with 1 Axes>"
      ]
     },
     "metadata": {},
     "output_type": "display_data"
    }
   ],
   "source": [
    "# Assuming df_std is your standardized DataFrame\n",
    "df_agl1 = df_final.copy()\n",
    "\n",
    "# Apply Agglomerative Clustering\n",
    "agglomerative = AgglomerativeClustering(n_clusters=1)\n",
    "labelagl1 = agglomerative.fit_predict(df_agl1)\n",
    "df_agl1['cluster'] = labelagl1\n",
    "\n",
    "# Compute the linkage matrix\n",
    "linkage_matrix = linkage(df_agl1.drop(columns=['cluster']), method='ward')\n",
    "\n",
    "# Plot the dendrogram with all data points\n",
    "plt.figure(figsize=(12, 8))\n",
    "dendrogram(linkage_matrix, leaf_rotation=90., leaf_font_size=10.)\n",
    "plt.title('Hierarchical Clustering Dendrogram')\n",
    "plt.xlabel('Sample Index')\n",
    "plt.ylabel('Distance')\n",
    "plt.show()\n"
   ]
  },
  {
   "cell_type": "code",
   "execution_count": 1813,
   "metadata": {},
   "outputs": [
    {
     "name": "stdout",
     "output_type": "stream",
     "text": [
      "Clusters present: [0 1 2 3]\n",
      "Clusters sizes: [12 28  4  1] \n",
      "\n",
      "Silhouette Score: 0.3343121078999996\n",
      "Calinski-Harabasz Index: 19.952803194274182\n",
      "Davies-Bouldin Index: 0.9281229919362145\n"
     ]
    }
   ],
   "source": [
    "df_agl = df_final.copy()\n",
    "\n",
    "agglomerative = AgglomerativeClustering(n_clusters=4, metric = 'euclidean',linkage='ward')\n",
    "labelagl = agglomerative.fit_predict(df_agl)\n",
    "\n",
    "# Periksa apakah terdapat cluster yang terbentuk\n",
    "unique_labels = np.unique(labelagl)\n",
    "n_clusters_formed = len(unique_labels)\n",
    "if n_clusters_formed > 1:  # Cek apakah terdapat lebih dari satu klaster yang terbentuk\n",
    "    score = silhouette_score(df_agl, labelagl)\n",
    "    print(f'Clusters present: {unique_labels}')\n",
    "    print(f'Clusters sizes: {np.bincount(labelagl)}', '\\n')\n",
    "    print(f'Silhouette Score: {silhouette_score(df_agl, labelagl)}')\n",
    "    print(f'Calinski-Harabasz Index: {calinski_harabasz_score(df_agl, labelagl)}')\n",
    "    print(f'Davies-Bouldin Index: {davies_bouldin_score(df_agl, labelagl)}')\n",
    "else:\n",
    "    print(\"Tidak ada klaster yang terbentuk dengan parameter ini.\\n\")\n",
    "\n",
    "df_agl['cluster'] = labelagl\n",
    "data['Cluster'] = labelagl"
   ]
  },
  {
   "cell_type": "code",
   "execution_count": 1814,
   "metadata": {},
   "outputs": [
    {
     "name": "stdout",
     "output_type": "stream",
     "text": [
      "              ROA       ROE       Market Cap  Mean Return  Variance Return  \\\n",
      "Ticker                                                                       \n",
      "ARTO.JK  0.003398  0.008659   36721051828224    -0.000005         0.001129   \n",
      "PGAS.JK  0.042140  0.103040   38422777430016     0.002017         0.000332   \n",
      "AMMN.JK  0.027717  0.055417  683483982725120     0.001989         0.000777   \n",
      "GOTO.JK -1.670984 -2.383206   91717776703488    -0.000042         0.001415   \n",
      "\n",
      "         Cluster  sharpe_ratio  \n",
      "Ticker                          \n",
      "ARTO.JK        0     -0.007232  \n",
      "PGAS.JK        1      0.097624  \n",
      "AMMN.JK        2      0.062818  \n",
      "GOTO.JK        3     -0.007451  \n"
     ]
    }
   ],
   "source": [
    "# Risk-free rate (contoh: 6% per tahun, diubah ke harian)\n",
    "risk_free_rate = 0.06 / 252\n",
    "\n",
    "# Hitung Sharpe Ratio\n",
    "data['sharpe_ratio'] = (data['Mean Return'] - risk_free_rate) / np.sqrt(data['Variance Return'])\n",
    "\n",
    "# Ambil saham terbaik dari setiap cluster\n",
    "best_stocks = data.loc[data.groupby('Cluster')['sharpe_ratio'].idxmax()]\n",
    "\n",
    "print(best_stocks)"
   ]
  },
  {
   "cell_type": "code",
   "execution_count": 1815,
   "metadata": {},
   "outputs": [
    {
     "name": "stdout",
     "output_type": "stream",
     "text": [
      "64.99822785009573 %\n"
     ]
    },
    {
     "data": {
      "text/plain": [
       "<Axes: xlabel='PC_1', ylabel='PC_2'>"
      ]
     },
     "execution_count": 1815,
     "metadata": {},
     "output_type": "execute_result"
    },
    {
     "data": {
      "image/png": "[encoded data removed]",
      "text/plain": [
       "<Figure size 1000x800 with 1 Axes>"
      ]
     },
     "metadata": {},
     "output_type": "display_data"
    }
   ],
   "source": [
    "# Gunakan Dimensionality Reduction dengan PCA untuk mempermudah melakukan visualisasi\n",
    "\n",
    "pca = PCA(n_components = 2)\n",
    "df_pca2 = pd.DataFrame(pca.fit_transform(df_agl.iloc[:,:-1]),\n",
    "                      columns = ['PC_1', 'PC_2'],\n",
    "                      index = df_agl.index)\n",
    "\n",
    "df_pca2 = pd.concat([df_pca2, df_agl.cluster], axis = 1)\n",
    "# df_pca1.head()\n",
    "\n",
    "print(np.sum(pca.explained_variance_ratio_)*100, \"%\") # 2 Dimensi dapat menjelaskan keseluruhan fitur\n",
    "fig = plt.figure(figsize=(10, 8))\n",
    "ax = fig.add_subplot()\n",
    "sns.scatterplot(data = df_pca2, x = 'PC_1', y = 'PC_2', hue = 'cluster', s = 300, ax = ax)"
   ]
  },
  {
   "cell_type": "markdown",
   "metadata": {},
   "source": [
    "**3D**"
   ]
  },
  {
   "cell_type": "code",
   "execution_count": 1816,
   "metadata": {},
   "outputs": [],
   "source": [
    "# Gunakan Dimensionality Reduction dengan PCA untuk mempermudah melakukan visualisasi\n",
    "\n",
    "pca = PCA(n_components = 3)\n",
    "df_pca_3 = pd.DataFrame(pca.fit_transform(df_agl.iloc[:,:-1]),\n",
    "                      columns = ['PC1', 'PC2', 'PC3'],\n",
    "                      index = df_agl.index)\n",
    "\n",
    "df_pca_3 = pd.concat([df_pca_3, df_agl.cluster], axis = 1)\n",
    "# df_pca1.head()"
   ]
  },
  {
   "cell_type": "code",
   "execution_count": 1817,
   "metadata": {},
   "outputs": [
    {
     "data": {
      "text/html": [
       "<div>\n",
       "<style scoped>\n",
       "    .dataframe tbody tr th:only-of-type {\n",
       "        vertical-align: middle;\n",
       "    }\n",
       "\n",
       "    .dataframe tbody tr th {\n",
       "        vertical-align: top;\n",
       "    }\n",
       "\n",
       "    .dataframe thead th {\n",
       "        text-align: right;\n",
       "    }\n",
       "</style>\n",
       "<table border=\"1\" class=\"dataframe\">\n",
       "  <thead>\n",
       "    <tr style=\"text-align: right;\">\n",
       "      <th></th>\n",
       "      <th>PC1</th>\n",
       "      <th>PC2</th>\n",
       "      <th>PC3</th>\n",
       "      <th>cluster</th>\n",
       "    </tr>\n",
       "    <tr>\n",
       "      <th>Ticker</th>\n",
       "      <th></th>\n",
       "      <th></th>\n",
       "      <th></th>\n",
       "      <th></th>\n",
       "    </tr>\n",
       "  </thead>\n",
       "  <tbody>\n",
       "    <tr>\n",
       "      <th>ACES.JK</th>\n",
       "      <td>0.081060</td>\n",
       "      <td>-0.011719</td>\n",
       "      <td>-0.645003</td>\n",
       "      <td>1</td>\n",
       "    </tr>\n",
       "    <tr>\n",
       "      <th>ADMR.JK</th>\n",
       "      <td>-0.185258</td>\n",
       "      <td>-0.358235</td>\n",
       "      <td>-0.417066</td>\n",
       "      <td>1</td>\n",
       "    </tr>\n",
       "    <tr>\n",
       "      <th>ADRO.JK</th>\n",
       "      <td>0.141843</td>\n",
       "      <td>1.422983</td>\n",
       "      <td>-1.696032</td>\n",
       "      <td>1</td>\n",
       "    </tr>\n",
       "    <tr>\n",
       "      <th>AKRA.JK</th>\n",
       "      <td>-0.427134</td>\n",
       "      <td>-0.481004</td>\n",
       "      <td>-0.351792</td>\n",
       "      <td>1</td>\n",
       "    </tr>\n",
       "    <tr>\n",
       "      <th>AMMN.JK</th>\n",
       "      <td>-0.467157</td>\n",
       "      <td>2.729693</td>\n",
       "      <td>0.706150</td>\n",
       "      <td>2</td>\n",
       "    </tr>\n",
       "  </tbody>\n",
       "</table>\n",
       "</div>"
      ],
      "text/plain": [
       "              PC1       PC2       PC3  cluster\n",
       "Ticker                                        \n",
       "ACES.JK  0.081060 -0.011719 -0.645003        1\n",
       "ADMR.JK -0.185258 -0.358235 -0.417066        1\n",
       "ADRO.JK  0.141843  1.422983 -1.696032        1\n",
       "AKRA.JK -0.427134 -0.481004 -0.351792        1\n",
       "AMMN.JK -0.467157  2.729693  0.706150        2"
      ]
     },
     "execution_count": 1817,
     "metadata": {},
     "output_type": "execute_result"
    }
   ],
   "source": [
    "df_pca_3.head()"
   ]
  },
  {
   "cell_type": "code",
   "execution_count": 1818,
   "metadata": {},
   "outputs": [
    {
     "data": {
      "application/vnd.plotly.v1+json": {
       "config": {
        "linkText": "Export to plot.ly",
        "plotlyServerURL": "https://plot.ly",
        "showLink": false
       },
       "data": [
        {
         "marker": {
          "color": "rgb(255,0,0)",
          "size": 10
         },
         "mode": "markers",
         "name": "Cluster 0",
         "type": "scatter3d",
         "x": [
          1.5045139440342765,
          2.93821905073355,
          1.584669919029207,
          0.36859441971425366,
          -0.09977803441343884,
          0.5793298479203258,
          1.6233710264928392,
          0.8659918324211309,
          0.4452970454035946,
          -0.5777294754646933,
          -0.18840817686876213,
          -1.3849302713953369
         ],
         "y": [
          -0.13245843791592585,
          -0.08504651807162589,
          -1.2572829374812218,
          -0.7075669674527609,
          -1.1863010825131906,
          -0.5504302319827986,
          -0.10026279065324174,
          -0.687411298346918,
          -2.0297699007388994,
          -0.5891984290866435,
          -1.1158912202555562,
          -2.8071871788461022
         ],
         "z": [
          -0.006058282781436096,
          0.5526742580521805,
          0.9445421862119874,
          0.20864433506607108,
          0.46957493660506927,
          -0.04431252437326907,
          0.09979167623335393,
          0.4470062568183703,
          1.3787892052765784,
          1.206062198717991,
          0.37152281394843395,
          0.874296632268455
         ]
        },
        {
         "marker": {
          "color": "rgb(0,255,0)",
          "size": 10
         },
         "mode": "markers",
         "name": "Cluster 1",
         "type": "scatter3d",
         "x": [
          0.08105988478894355,
          -0.18525825652605427,
          0.14184333842681618,
          -0.4271340740506326,
          -0.7029228574907134,
          0.13030714369686827,
          -0.7418751709590143,
          -0.49419540763137043,
          0.018968149110860543,
          -0.020804391739309452,
          -0.3631262193203064,
          0.6288160697168086,
          -0.09427862172994805,
          -0.6659332011962683,
          -0.8304744400199092,
          0.031241532996836737,
          -0.00005727088608046114,
          -0.9804397186264618,
          -0.4236018626422731,
          -0.4574276737187548,
          0.11538327076359779,
          -0.21551684582422878,
          -0.5152379706736481,
          0.280266820620049,
          -0.7628109122031622,
          -0.5568015900314076,
          0.157232212799845,
          -0.946808228317629
         ],
         "y": [
          -0.011719206750588488,
          -0.35823533640000116,
          1.422983002056485,
          -0.4810037607247237,
          -0.013767794819980455,
          -0.3829119212765579,
          0.005199018838529775,
          -0.03011672516481929,
          -0.3224692129506533,
          1.6466857068289564,
          -0.19006356806262506,
          0.8621706901043256,
          0.014172800487777299,
          0.19932978941403465,
          0.29925834961114456,
          -0.6761829793138541,
          0.2014929545451939,
          0.1527428271606025,
          -0.6534506007896516,
          -0.6513651758015973,
          -0.03378384605668986,
          -0.47010291209350813,
          0.9177906386918604,
          -0.3626948087736142,
          0.2219924640208495,
          -0.33965989408554825,
          -0.3062687331792185,
          0.6265007763026612
         ],
         "z": [
          -0.6450029478156023,
          -0.4170664706460047,
          -1.696031567484351,
          -0.3517923185786128,
          -0.2320382781473737,
          -0.1488345146010482,
          0.2551849191006112,
          0.21771347033481345,
          -0.346059802550973,
          -1.4720963918197256,
          -0.14153440432419312,
          -1.2946124253641356,
          -0.5450615997932673,
          -0.30901039920236073,
          -0.8036507228121961,
          0.14350974564056238,
          -0.4775639020689848,
          -1.0381097911036727,
          -0.14910540748924614,
          0.1381449873176374,
          -0.6122589113221135,
          0.0071221778762792665,
          -1.4508196752366878,
          -0.09166234161490354,
          -1.0603758046163323,
          -0.5840082612921811,
          -0.34739895314415914,
          -1.0399651715170941
         ]
        },
        {
         "marker": {
          "color": "rgb(0,0,255)",
          "size": 10
         },
         "mode": "markers",
         "name": "Cluster 2",
         "type": "scatter3d",
         "x": [
          -0.46715725226262667,
          -2.4921113132898585,
          -1.1789443839175935,
          -1.2011692057341097
         ],
         "y": [
          2.7296925678588675,
          3.106896414067732,
          0.6982601772984874,
          1.309856393314192
         ],
         "z": [
          0.7061503173081634,
          3.0728041154965915,
          2.084542615840946,
          1.079430071873729
         ]
        }
       ],
       "layout": {
        "margin": {
         "b": 0,
         "l": 0,
         "r": 0,
         "t": 0
        },
        "template": {
         "data": {
          "bar": [
           {
            "error_x": {
             "color": "#2a3f5f"
            },
            "error_y": {
             "color": "#2a3f5f"
            },
            "marker": {
             "line": {
              "color": "#E5ECF6",
              "width": 0.5
             },
             "pattern": {
              "fillmode": "overlay",
              "size": 10,
              "solidity": 0.2
             }
            },
            "type": "bar"
           }
          ],
          "barpolar": [
           {
            "marker": {
             "line": {
              "color": "#E5ECF6",
              "width": 0.5
             },
             "pattern": {
              "fillmode": "overlay",
              "size": 10,
              "solidity": 0.2
             }
            },
            "type": "barpolar"
           }
          ],
          "carpet": [
           {
            "aaxis": {
             "endlinecolor": "#2a3f5f",
             "gridcolor": "white",
             "linecolor": "white",
             "minorgridcolor": "white",
             "startlinecolor": "#2a3f5f"
            },
            "baxis": {
             "endlinecolor": "#2a3f5f",
             "gridcolor": "white",
             "linecolor": "white",
             "minorgridcolor": "white",
             "startlinecolor": "#2a3f5f"
            },
            "type": "carpet"
           }
          ],
          "choropleth": [
           {
            "colorbar": {
             "outlinewidth": 0,
             "ticks": ""
            },
            "type": "choropleth"
           }
          ],
          "contour": [
           {
            "colorbar": {
             "outlinewidth": 0,
             "ticks": ""
            },
            "colorscale": [
             [
              0,
              "#0d0887"
             ],
             [
              0.1111111111111111,
              "#46039f"
             ],
             [
              0.2222222222222222,
              "#7201a8"
             ],
             [
              0.3333333333333333,
              "#9c179e"
             ],
             [
              0.4444444444444444,
              "#bd3786"
             ],
             [
              0.5555555555555556,
              "#d8576b"
             ],
             [
              0.6666666666666666,
              "#ed7953"
             ],
             [
              0.7777777777777778,
              "#fb9f3a"
             ],
             [
              0.8888888888888888,
              "#fdca26"
             ],
             [
              1,
              "#f0f921"
             ]
            ],
            "type": "contour"
           }
          ],
          "contourcarpet": [
           {
            "colorbar": {
             "outlinewidth": 0,
             "ticks": ""
            },
            "type": "contourcarpet"
           }
          ],
          "heatmap": [
           {
            "colorbar": {
             "outlinewidth": 0,
             "ticks": ""
            },
            "colorscale": [
             [
              0,
              "#0d0887"
             ],
             [
              0.1111111111111111,
              "#46039f"
             ],
             [
              0.2222222222222222,
              "#7201a8"
             ],
             [
              0.3333333333333333,
              "#9c179e"
             ],
             [
              0.4444444444444444,
              "#bd3786"
             ],
             [
              0.5555555555555556,
              "#d8576b"
             ],
             [
              0.6666666666666666,
              "#ed7953"
             ],
             [
              0.7777777777777778,
              "#fb9f3a"
             ],
             [
              0.8888888888888888,
              "#fdca26"
             ],
             [
              1,
              "#f0f921"
             ]
            ],
            "type": "heatmap"
           }
          ],
          "heatmapgl": [
           {
            "colorbar": {
             "outlinewidth": 0,
             "ticks": ""
            },
            "colorscale": [
             [
              0,
              "#0d0887"
             ],
             [
              0.1111111111111111,
              "#46039f"
             ],
             [
              0.2222222222222222,
              "#7201a8"
             ],
             [
              0.3333333333333333,
              "#9c179e"
             ],
             [
              0.4444444444444444,
              "#bd3786"
             ],
             [
              0.5555555555555556,
              "#d8576b"
             ],
             [
              0.6666666666666666,
              "#ed7953"
             ],
             [
              0.7777777777777778,
              "#fb9f3a"
             ],
             [
              0.8888888888888888,
              "#fdca26"
             ],
             [
              1,
              "#f0f921"
             ]
            ],
            "type": "heatmapgl"
           }
          ],
          "histogram": [
           {
            "marker": {
             "pattern": {
              "fillmode": "overlay",
              "size": 10,
              "solidity": 0.2
             }
            },
            "type": "histogram"
           }
          ],
          "histogram2d": [
           {
            "colorbar": {
             "outlinewidth": 0,
             "ticks": ""
            },
            "colorscale": [
             [
              0,
              "#0d0887"
             ],
             [
              0.1111111111111111,
              "#46039f"
             ],
             [
              0.2222222222222222,
              "#7201a8"
             ],
             [
              0.3333333333333333,
              "#9c179e"
             ],
             [
              0.4444444444444444,
              "#bd3786"
             ],
             [
              0.5555555555555556,
              "#d8576b"
             ],
             [
              0.6666666666666666,
              "#ed7953"
             ],
             [
              0.7777777777777778,
              "#fb9f3a"
             ],
             [
              0.8888888888888888,
              "#fdca26"
             ],
             [
              1,
              "#f0f921"
             ]
            ],
            "type": "histogram2d"
           }
          ],
          "histogram2dcontour": [
           {
            "colorbar": {
             "outlinewidth": 0,
             "ticks": ""
            },
            "colorscale": [
             [
              0,
              "#0d0887"
             ],
             [
              0.1111111111111111,
              "#46039f"
             ],
             [
              0.2222222222222222,
              "#7201a8"
             ],
             [
              0.3333333333333333,
              "#9c179e"
             ],
             [
              0.4444444444444444,
              "#bd3786"
             ],
             [
              0.5555555555555556,
              "#d8576b"
             ],
             [
              0.6666666666666666,
              "#ed7953"
             ],
             [
              0.7777777777777778,
              "#fb9f3a"
             ],
             [
              0.8888888888888888,
              "#fdca26"
             ],
             [
              1,
              "#f0f921"
             ]
            ],
            "type": "histogram2dcontour"
           }
          ],
          "mesh3d": [
           {
            "colorbar": {
             "outlinewidth": 0,
             "ticks": ""
            },
            "type": "mesh3d"
           }
          ],
          "parcoords": [
           {
            "line": {
             "colorbar": {
              "outlinewidth": 0,
              "ticks": ""
             }
            },
            "type": "parcoords"
           }
          ],
          "pie": [
           {
            "automargin": true,
            "type": "pie"
           }
          ],
          "scatter": [
           {
            "fillpattern": {
             "fillmode": "overlay",
             "size": 10,
             "solidity": 0.2
            },
            "type": "scatter"
           }
          ],
          "scatter3d": [
           {
            "line": {
             "colorbar": {
              "outlinewidth": 0,
              "ticks": ""
             }
            },
            "marker": {
             "colorbar": {
              "outlinewidth": 0,
              "ticks": ""
             }
            },
            "type": "scatter3d"
           }
          ],
          "scattercarpet": [
           {
            "marker": {
             "colorbar": {
              "outlinewidth": 0,
              "ticks": ""
             }
            },
            "type": "scattercarpet"
           }
          ],
          "scattergeo": [
           {
            "marker": {
             "colorbar": {
              "outlinewidth": 0,
              "ticks": ""
             }
            },
            "type": "scattergeo"
           }
          ],
          "scattergl": [
           {
            "marker": {
             "colorbar": {
              "outlinewidth": 0,
              "ticks": ""
             }
            },
            "type": "scattergl"
           }
          ],
          "scattermapbox": [
           {
            "marker": {
             "colorbar": {
              "outlinewidth": 0,
              "ticks": ""
             }
            },
            "type": "scattermapbox"
           }
          ],
          "scatterpolar": [
           {
            "marker": {
             "colorbar": {
              "outlinewidth": 0,
              "ticks": ""
             }
            },
            "type": "scatterpolar"
           }
          ],
          "scatterpolargl": [
           {
            "marker": {
             "colorbar": {
              "outlinewidth": 0,
              "ticks": ""
             }
            },
            "type": "scatterpolargl"
           }
          ],
          "scatterternary": [
           {
            "marker": {
             "colorbar": {
              "outlinewidth": 0,
              "ticks": ""
             }
            },
            "type": "scatterternary"
           }
          ],
          "surface": [
           {
            "colorbar": {
             "outlinewidth": 0,
             "ticks": ""
            },
            "colorscale": [
             [
              0,
              "#0d0887"
             ],
             [
              0.1111111111111111,
              "#46039f"
             ],
             [
              0.2222222222222222,
              "#7201a8"
             ],
             [
              0.3333333333333333,
              "#9c179e"
             ],
             [
              0.4444444444444444,
              "#bd3786"
             ],
             [
              0.5555555555555556,
              "#d8576b"
             ],
             [
              0.6666666666666666,
              "#ed7953"
             ],
             [
              0.7777777777777778,
              "#fb9f3a"
             ],
             [
              0.8888888888888888,
              "#fdca26"
             ],
             [
              1,
              "#f0f921"
             ]
            ],
            "type": "surface"
           }
          ],
          "table": [
           {
            "cells": {
             "fill": {
              "color": "#EBF0F8"
             },
             "line": {
              "color": "white"
             }
            },
            "header": {
             "fill": {
              "color": "#C8D4E3"
             },
             "line": {
              "color": "white"
             }
            },
            "type": "table"
           }
          ]
         },
         "layout": {
          "annotationdefaults": {
           "arrowcolor": "#2a3f5f",
           "arrowhead": 0,
           "arrowwidth": 1
          },
          "autotypenumbers": "strict",
          "coloraxis": {
           "colorbar": {
            "outlinewidth": 0,
            "ticks": ""
           }
          },
          "colorscale": {
           "diverging": [
            [
             0,
             "#8e0152"
            ],
            [
             0.1,
             "#c51b7d"
            ],
            [
             0.2,
             "#de77ae"
            ],
            [
             0.3,
             "#f1b6da"
            ],
            [
             0.4,
             "#fde0ef"
            ],
            [
             0.5,
             "#f7f7f7"
            ],
            [
             0.6,
             "#e6f5d0"
            ],
            [
             0.7,
             "#b8e186"
            ],
            [
             0.8,
             "#7fbc41"
            ],
            [
             0.9,
             "#4d9221"
            ],
            [
             1,
             "#276419"
            ]
           ],
           "sequential": [
            [
             0,
             "#0d0887"
            ],
            [
             0.1111111111111111,
             "#46039f"
            ],
            [
             0.2222222222222222,
             "#7201a8"
            ],
            [
             0.3333333333333333,
             "#9c179e"
            ],
            [
             0.4444444444444444,
             "#bd3786"
            ],
            [
             0.5555555555555556,
             "#d8576b"
            ],
            [
             0.6666666666666666,
             "#ed7953"
            ],
            [
             0.7777777777777778,
             "#fb9f3a"
            ],
            [
             0.8888888888888888,
             "#fdca26"
            ],
            [
             1,
             "#f0f921"
            ]
           ],
           "sequentialminus": [
            [
             0,
             "#0d0887"
            ],
            [
             0.1111111111111111,
             "#46039f"
            ],
            [
             0.2222222222222222,
             "#7201a8"
            ],
            [
             0.3333333333333333,
             "#9c179e"
            ],
            [
             0.4444444444444444,
             "#bd3786"
            ],
            [
             0.5555555555555556,
             "#d8576b"
            ],
            [
             0.6666666666666666,
             "#ed7953"
            ],
            [
             0.7777777777777778,
             "#fb9f3a"
            ],
            [
             0.8888888888888888,
             "#fdca26"
            ],
            [
             1,
             "#f0f921"
            ]
           ]
          },
          "colorway": [
           "#636efa",
           "#EF553B",
           "#00cc96",
           "#ab63fa",
           "#FFA15A",
           "#19d3f3",
           "#FF6692",
           "#B6E880",
           "#FF97FF",
           "#FECB52"
          ],
          "font": {
           "color": "#2a3f5f"
          },
          "geo": {
           "bgcolor": "white",
           "lakecolor": "white",
           "landcolor": "#E5ECF6",
           "showlakes": true,
           "showland": true,
           "subunitcolor": "white"
          },
          "hoverlabel": {
           "align": "left"
          },
          "hovermode": "closest",
          "mapbox": {
           "style": "light"
          },
          "paper_bgcolor": "white",
          "plot_bgcolor": "#E5ECF6",
          "polar": {
           "angularaxis": {
            "gridcolor": "white",
            "linecolor": "white",
            "ticks": ""
           },
           "bgcolor": "#E5ECF6",
           "radialaxis": {
            "gridcolor": "white",
            "linecolor": "white",
            "ticks": ""
           }
          },
          "scene": {
           "xaxis": {
            "backgroundcolor": "#E5ECF6",
            "gridcolor": "white",
            "gridwidth": 2,
            "linecolor": "white",
            "showbackground": true,
            "ticks": "",
            "zerolinecolor": "white"
           },
           "yaxis": {
            "backgroundcolor": "#E5ECF6",
            "gridcolor": "white",
            "gridwidth": 2,
            "linecolor": "white",
            "showbackground": true,
            "ticks": "",
            "zerolinecolor": "white"
           },
           "zaxis": {
            "backgroundcolor": "#E5ECF6",
            "gridcolor": "white",
            "gridwidth": 2,
            "linecolor": "white",
            "showbackground": true,
            "ticks": "",
            "zerolinecolor": "white"
           }
          },
          "shapedefaults": {
           "line": {
            "color": "#2a3f5f"
           }
          },
          "ternary": {
           "aaxis": {
            "gridcolor": "white",
            "linecolor": "white",
            "ticks": ""
           },
           "baxis": {
            "gridcolor": "white",
            "linecolor": "white",
            "ticks": ""
           },
           "bgcolor": "#E5ECF6",
           "caxis": {
            "gridcolor": "white",
            "linecolor": "white",
            "ticks": ""
           }
          },
          "title": {
           "x": 0.05
          },
          "xaxis": {
           "automargin": true,
           "gridcolor": "white",
           "linecolor": "white",
           "ticks": "",
           "title": {
            "standoff": 15
           },
           "zerolinecolor": "white",
           "zerolinewidth": 2
          },
          "yaxis": {
           "automargin": true,
           "gridcolor": "white",
           "linecolor": "white",
           "ticks": "",
           "title": {
            "standoff": 15
           },
           "zerolinecolor": "white",
           "zerolinewidth": 2
          }
         }
        }
       }
      },
      "text/html": [
       "<div>                            <div id=\"a9aa28f8-fefb-4cfc-b34b-d85508f50683\" class=\"plotly-graph-div\" style=\"height:525px; width:100%;\"></div>            <script type=\"text/javascript\">                require([\"plotly\"], function(Plotly) {                    window.PLOTLYENV=window.PLOTLYENV || {};                                    if (document.getElementById(\"a9aa28f8-fefb-4cfc-b34b-d85508f50683\")) {                    Plotly.newPlot(                        \"a9aa28f8-fefb-4cfc-b34b-d85508f50683\",                        [{\"marker\":{\"color\":\"rgb(255,0,0)\",\"size\":10},\"mode\":\"markers\",\"name\":\"Cluster 0\",\"x\":[1.5045139440342765,2.93821905073355,1.584669919029207,0.36859441971425366,-0.09977803441343884,0.5793298479203258,1.6233710264928392,0.8659918324211309,0.4452970454035946,-0.5777294754646933,-0.18840817686876213,-1.3849302713953369],\"y\":[-0.13245843791592585,-0.08504651807162589,-1.2572829374812218,-0.7075669674527609,-1.1863010825131906,-0.5504302319827986,-0.10026279065324174,-0.687411298346918,-2.0297699007388994,-0.5891984290866435,-1.1158912202555562,-2.8071871788461022],\"z\":[-0.006058282781436096,0.5526742580521805,0.9445421862119874,0.20864433506607108,0.46957493660506927,-0.04431252437326907,0.09979167623335393,0.4470062568183703,1.3787892052765784,1.206062198717991,0.37152281394843395,0.874296632268455],\"type\":\"scatter3d\"},{\"marker\":{\"color\":\"rgb(0,255,0)\",\"size\":10},\"mode\":\"markers\",\"name\":\"Cluster 1\",\"x\":[0.08105988478894355,-0.18525825652605427,0.14184333842681618,-0.4271340740506326,-0.7029228574907134,0.13030714369686827,-0.7418751709590143,-0.49419540763137043,0.018968149110860543,-0.020804391739309452,-0.3631262193203064,0.6288160697168086,-0.09427862172994805,-0.6659332011962683,-0.8304744400199092,0.031241532996836737,-5.727088608046114e-05,-0.9804397186264618,-0.4236018626422731,-0.4574276737187548,0.11538327076359779,-0.21551684582422878,-0.5152379706736481,0.280266820620049,-0.7628109122031622,-0.5568015900314076,0.157232212799845,-0.946808228317629],\"y\":[-0.011719206750588488,-0.35823533640000116,1.422983002056485,-0.4810037607247237,-0.013767794819980455,-0.3829119212765579,0.005199018838529775,-0.03011672516481929,-0.3224692129506533,1.6466857068289564,-0.19006356806262506,0.8621706901043256,0.014172800487777299,0.19932978941403465,0.29925834961114456,-0.6761829793138541,0.2014929545451939,0.1527428271606025,-0.6534506007896516,-0.6513651758015973,-0.03378384605668986,-0.47010291209350813,0.9177906386918604,-0.3626948087736142,0.2219924640208495,-0.33965989408554825,-0.3062687331792185,0.6265007763026612],\"z\":[-0.6450029478156023,-0.4170664706460047,-1.696031567484351,-0.3517923185786128,-0.2320382781473737,-0.1488345146010482,0.2551849191006112,0.21771347033481345,-0.346059802550973,-1.4720963918197256,-0.14153440432419312,-1.2946124253641356,-0.5450615997932673,-0.30901039920236073,-0.8036507228121961,0.14350974564056238,-0.4775639020689848,-1.0381097911036727,-0.14910540748924614,0.1381449873176374,-0.6122589113221135,0.0071221778762792665,-1.4508196752366878,-0.09166234161490354,-1.0603758046163323,-0.5840082612921811,-0.34739895314415914,-1.0399651715170941],\"type\":\"scatter3d\"},{\"marker\":{\"color\":\"rgb(0,0,255)\",\"size\":10},\"mode\":\"markers\",\"name\":\"Cluster 2\",\"x\":[-0.46715725226262667,-2.4921113132898585,-1.1789443839175935,-1.2011692057341097],\"y\":[2.7296925678588675,3.106896414067732,0.6982601772984874,1.309856393314192],\"z\":[0.7061503173081634,3.0728041154965915,2.084542615840946,1.079430071873729],\"type\":\"scatter3d\"}],                        {\"margin\":{\"b\":0,\"l\":0,\"r\":0,\"t\":0},\"template\":{\"data\":{\"barpolar\":[{\"marker\":{\"line\":{\"color\":\"#E5ECF6\",\"width\":0.5},\"pattern\":{\"fillmode\":\"overlay\",\"size\":10,\"solidity\":0.2}},\"type\":\"barpolar\"}],\"bar\":[{\"error_x\":{\"color\":\"#2a3f5f\"},\"error_y\":{\"color\":\"#2a3f5f\"},\"marker\":{\"line\":{\"color\":\"#E5ECF6\",\"width\":0.5},\"pattern\":{\"fillmode\":\"overlay\",\"size\":10,\"solidity\":0.2}},\"type\":\"bar\"}],\"carpet\":[{\"aaxis\":{\"endlinecolor\":\"#2a3f5f\",\"gridcolor\":\"white\",\"linecolor\":\"white\",\"minorgridcolor\":\"white\",\"startlinecolor\":\"#2a3f5f\"},\"baxis\":{\"endlinecolor\":\"#2a3f5f\",\"gridcolor\":\"white\",\"linecolor\":\"white\",\"minorgridcolor\":\"white\",\"startlinecolor\":\"#2a3f5f\"},\"type\":\"carpet\"}],\"choropleth\":[{\"colorbar\":{\"outlinewidth\":0,\"ticks\":\"\"},\"type\":\"choropleth\"}],\"contourcarpet\":[{\"colorbar\":{\"outlinewidth\":0,\"ticks\":\"\"},\"type\":\"contourcarpet\"}],\"contour\":[{\"colorbar\":{\"outlinewidth\":0,\"ticks\":\"\"},\"colorscale\":[[0.0,\"#0d0887\"],[0.1111111111111111,\"#46039f\"],[0.2222222222222222,\"#7201a8\"],[0.3333333333333333,\"#9c179e\"],[0.4444444444444444,\"#bd3786\"],[0.5555555555555556,\"#d8576b\"],[0.6666666666666666,\"#ed7953\"],[0.7777777777777778,\"#fb9f3a\"],[0.8888888888888888,\"#fdca26\"],[1.0,\"#f0f921\"]],\"type\":\"contour\"}],\"heatmapgl\":[{\"colorbar\":{\"outlinewidth\":0,\"ticks\":\"\"},\"colorscale\":[[0.0,\"#0d0887\"],[0.1111111111111111,\"#46039f\"],[0.2222222222222222,\"#7201a8\"],[0.3333333333333333,\"#9c179e\"],[0.4444444444444444,\"#bd3786\"],[0.5555555555555556,\"#d8576b\"],[0.6666666666666666,\"#ed7953\"],[0.7777777777777778,\"#fb9f3a\"],[0.8888888888888888,\"#fdca26\"],[1.0,\"#f0f921\"]],\"type\":\"heatmapgl\"}],\"heatmap\":[{\"colorbar\":{\"outlinewidth\":0,\"ticks\":\"\"},\"colorscale\":[[0.0,\"#0d0887\"],[0.1111111111111111,\"#46039f\"],[0.2222222222222222,\"#7201a8\"],[0.3333333333333333,\"#9c179e\"],[0.4444444444444444,\"#bd3786\"],[0.5555555555555556,\"#d8576b\"],[0.6666666666666666,\"#ed7953\"],[0.7777777777777778,\"#fb9f3a\"],[0.8888888888888888,\"#fdca26\"],[1.0,\"#f0f921\"]],\"type\":\"heatmap\"}],\"histogram2dcontour\":[{\"colorbar\":{\"outlinewidth\":0,\"ticks\":\"\"},\"colorscale\":[[0.0,\"#0d0887\"],[0.1111111111111111,\"#46039f\"],[0.2222222222222222,\"#7201a8\"],[0.3333333333333333,\"#9c179e\"],[0.4444444444444444,\"#bd3786\"],[0.5555555555555556,\"#d8576b\"],[0.6666666666666666,\"#ed7953\"],[0.7777777777777778,\"#fb9f3a\"],[0.8888888888888888,\"#fdca26\"],[1.0,\"#f0f921\"]],\"type\":\"histogram2dcontour\"}],\"histogram2d\":[{\"colorbar\":{\"outlinewidth\":0,\"ticks\":\"\"},\"colorscale\":[[0.0,\"#0d0887\"],[0.1111111111111111,\"#46039f\"],[0.2222222222222222,\"#7201a8\"],[0.3333333333333333,\"#9c179e\"],[0.4444444444444444,\"#bd3786\"],[0.5555555555555556,\"#d8576b\"],[0.6666666666666666,\"#ed7953\"],[0.7777777777777778,\"#fb9f3a\"],[0.8888888888888888,\"#fdca26\"],[1.0,\"#f0f921\"]],\"type\":\"histogram2d\"}],\"histogram\":[{\"marker\":{\"pattern\":{\"fillmode\":\"overlay\",\"size\":10,\"solidity\":0.2}},\"type\":\"histogram\"}],\"mesh3d\":[{\"colorbar\":{\"outlinewidth\":0,\"ticks\":\"\"},\"type\":\"mesh3d\"}],\"parcoords\":[{\"line\":{\"colorbar\":{\"outlinewidth\":0,\"ticks\":\"\"}},\"type\":\"parcoords\"}],\"pie\":[{\"automargin\":true,\"type\":\"pie\"}],\"scatter3d\":[{\"line\":{\"colorbar\":{\"outlinewidth\":0,\"ticks\":\"\"}},\"marker\":{\"colorbar\":{\"outlinewidth\":0,\"ticks\":\"\"}},\"type\":\"scatter3d\"}],\"scattercarpet\":[{\"marker\":{\"colorbar\":{\"outlinewidth\":0,\"ticks\":\"\"}},\"type\":\"scattercarpet\"}],\"scattergeo\":[{\"marker\":{\"colorbar\":{\"outlinewidth\":0,\"ticks\":\"\"}},\"type\":\"scattergeo\"}],\"scattergl\":[{\"marker\":{\"colorbar\":{\"outlinewidth\":0,\"ticks\":\"\"}},\"type\":\"scattergl\"}],\"scattermapbox\":[{\"marker\":{\"colorbar\":{\"outlinewidth\":0,\"ticks\":\"\"}},\"type\":\"scattermapbox\"}],\"scatterpolargl\":[{\"marker\":{\"colorbar\":{\"outlinewidth\":0,\"ticks\":\"\"}},\"type\":\"scatterpolargl\"}],\"scatterpolar\":[{\"marker\":{\"colorbar\":{\"outlinewidth\":0,\"ticks\":\"\"}},\"type\":\"scatterpolar\"}],\"scatter\":[{\"fillpattern\":{\"fillmode\":\"overlay\",\"size\":10,\"solidity\":0.2},\"type\":\"scatter\"}],\"scatterternary\":[{\"marker\":{\"colorbar\":{\"outlinewidth\":0,\"ticks\":\"\"}},\"type\":\"scatterternary\"}],\"surface\":[{\"colorbar\":{\"outlinewidth\":0,\"ticks\":\"\"},\"colorscale\":[[0.0,\"#0d0887\"],[0.1111111111111111,\"#46039f\"],[0.2222222222222222,\"#7201a8\"],[0.3333333333333333,\"#9c179e\"],[0.4444444444444444,\"#bd3786\"],[0.5555555555555556,\"#d8576b\"],[0.6666666666666666,\"#ed7953\"],[0.7777777777777778,\"#fb9f3a\"],[0.8888888888888888,\"#fdca26\"],[1.0,\"#f0f921\"]],\"type\":\"surface\"}],\"table\":[{\"cells\":{\"fill\":{\"color\":\"#EBF0F8\"},\"line\":{\"color\":\"white\"}},\"header\":{\"fill\":{\"color\":\"#C8D4E3\"},\"line\":{\"color\":\"white\"}},\"type\":\"table\"}]},\"layout\":{\"annotationdefaults\":{\"arrowcolor\":\"#2a3f5f\",\"arrowhead\":0,\"arrowwidth\":1},\"autotypenumbers\":\"strict\",\"coloraxis\":{\"colorbar\":{\"outlinewidth\":0,\"ticks\":\"\"}},\"colorscale\":{\"diverging\":[[0,\"#8e0152\"],[0.1,\"#c51b7d\"],[0.2,\"#de77ae\"],[0.3,\"#f1b6da\"],[0.4,\"#fde0ef\"],[0.5,\"#f7f7f7\"],[0.6,\"#e6f5d0\"],[0.7,\"#b8e186\"],[0.8,\"#7fbc41\"],[0.9,\"#4d9221\"],[1,\"#276419\"]],\"sequential\":[[0.0,\"#0d0887\"],[0.1111111111111111,\"#46039f\"],[0.2222222222222222,\"#7201a8\"],[0.3333333333333333,\"#9c179e\"],[0.4444444444444444,\"#bd3786\"],[0.5555555555555556,\"#d8576b\"],[0.6666666666666666,\"#ed7953\"],[0.7777777777777778,\"#fb9f3a\"],[0.8888888888888888,\"#fdca26\"],[1.0,\"#f0f921\"]],\"sequentialminus\":[[0.0,\"#0d0887\"],[0.1111111111111111,\"#46039f\"],[0.2222222222222222,\"#7201a8\"],[0.3333333333333333,\"#9c179e\"],[0.4444444444444444,\"#bd3786\"],[0.5555555555555556,\"#d8576b\"],[0.6666666666666666,\"#ed7953\"],[0.7777777777777778,\"#fb9f3a\"],[0.8888888888888888,\"#fdca26\"],[1.0,\"#f0f921\"]]},\"colorway\":[\"#636efa\",\"#EF553B\",\"#00cc96\",\"#ab63fa\",\"#FFA15A\",\"#19d3f3\",\"#FF6692\",\"#B6E880\",\"#FF97FF\",\"#FECB52\"],\"font\":{\"color\":\"#2a3f5f\"},\"geo\":{\"bgcolor\":\"white\",\"lakecolor\":\"white\",\"landcolor\":\"#E5ECF6\",\"showlakes\":true,\"showland\":true,\"subunitcolor\":\"white\"},\"hoverlabel\":{\"align\":\"left\"},\"hovermode\":\"closest\",\"mapbox\":{\"style\":\"light\"},\"paper_bgcolor\":\"white\",\"plot_bgcolor\":\"#E5ECF6\",\"polar\":{\"angularaxis\":{\"gridcolor\":\"white\",\"linecolor\":\"white\",\"ticks\":\"\"},\"bgcolor\":\"#E5ECF6\",\"radialaxis\":{\"gridcolor\":\"white\",\"linecolor\":\"white\",\"ticks\":\"\"}},\"scene\":{\"xaxis\":{\"backgroundcolor\":\"#E5ECF6\",\"gridcolor\":\"white\",\"gridwidth\":2,\"linecolor\":\"white\",\"showbackground\":true,\"ticks\":\"\",\"zerolinecolor\":\"white\"},\"yaxis\":{\"backgroundcolor\":\"#E5ECF6\",\"gridcolor\":\"white\",\"gridwidth\":2,\"linecolor\":\"white\",\"showbackground\":true,\"ticks\":\"\",\"zerolinecolor\":\"white\"},\"zaxis\":{\"backgroundcolor\":\"#E5ECF6\",\"gridcolor\":\"white\",\"gridwidth\":2,\"linecolor\":\"white\",\"showbackground\":true,\"ticks\":\"\",\"zerolinecolor\":\"white\"}},\"shapedefaults\":{\"line\":{\"color\":\"#2a3f5f\"}},\"ternary\":{\"aaxis\":{\"gridcolor\":\"white\",\"linecolor\":\"white\",\"ticks\":\"\"},\"baxis\":{\"gridcolor\":\"white\",\"linecolor\":\"white\",\"ticks\":\"\"},\"bgcolor\":\"#E5ECF6\",\"caxis\":{\"gridcolor\":\"white\",\"linecolor\":\"white\",\"ticks\":\"\"}},\"title\":{\"x\":0.05},\"xaxis\":{\"automargin\":true,\"gridcolor\":\"white\",\"linecolor\":\"white\",\"ticks\":\"\",\"title\":{\"standoff\":15},\"zerolinecolor\":\"white\",\"zerolinewidth\":2},\"yaxis\":{\"automargin\":true,\"gridcolor\":\"white\",\"linecolor\":\"white\",\"ticks\":\"\",\"title\":{\"standoff\":15},\"zerolinecolor\":\"white\",\"zerolinewidth\":2}}}},                        {\"responsive\": true}                    ).then(function(){\n",
       "                            \n",
       "var gd = document.getElementById('a9aa28f8-fefb-4cfc-b34b-d85508f50683');\n",
       "var x = new MutationObserver(function (mutations, observer) {{\n",
       "        var display = window.getComputedStyle(gd).display;\n",
       "        if (!display || display === 'none') {{\n",
       "            console.log([gd, 'removed!']);\n",
       "            Plotly.purge(gd);\n",
       "            observer.disconnect();\n",
       "        }}\n",
       "}});\n",
       "\n",
       "// Listen for the removal of the full notebook cells\n",
       "var notebookContainer = gd.closest('#notebook-container');\n",
       "if (notebookContainer) {{\n",
       "    x.observe(notebookContainer, {childList: true});\n",
       "}}\n",
       "\n",
       "// Listen for the clearing of the current output cell\n",
       "var outputEl = gd.closest('.output');\n",
       "if (outputEl) {{\n",
       "    x.observe(outputEl, {childList: true});\n",
       "}}\n",
       "\n",
       "                        })                };                });            </script>        </div>"
      ]
     },
     "metadata": {},
     "output_type": "display_data"
    }
   ],
   "source": [
    "# membuat visualisasi 3D untuk setiap klaster\n",
    "\n",
    "# klaster 1\n",
    "Cluster0= go.Scatter3d(\n",
    "        x=df_pca_3[df_pca_3['cluster']==0]['PC1'],\n",
    "        y=df_pca_3[df_pca_3['cluster']==0]['PC2'],\n",
    "        z=df_pca_3[df_pca_3['cluster']==0]['PC3'],\n",
    "        mode=\"markers\",\n",
    "        marker=dict(\n",
    "                    size=10,\n",
    "                    color=\"rgb(255,0,0)\",\n",
    "        ),\n",
    "        name=\"Cluster 0\"\n",
    ")\n",
    "\n",
    "#klaster 2\n",
    "Cluster1= go.Scatter3d(\n",
    "        x=df_pca_3[df_pca_3['cluster']==1]['PC1'],\n",
    "        y=df_pca_3[df_pca_3['cluster']==1]['PC2'],\n",
    "        z=df_pca_3[df_pca_3['cluster']==1]['PC3'],\n",
    "        mode=\"markers\",\n",
    "        marker=dict(\n",
    "                    size=10,\n",
    "                    color=\"rgb(0,255,0)\",\n",
    "        ),\n",
    "        name=\"Cluster 1\"\n",
    ")\n",
    "\n",
    "# klaster 3\n",
    "Cluster2= go.Scatter3d(\n",
    "        x=df_pca_3[df_pca_3['cluster']==2]['PC1'],\n",
    "        y=df_pca_3[df_pca_3['cluster']==2]['PC2'],\n",
    "        z=df_pca_3[df_pca_3['cluster']==2]['PC3'],\n",
    "        mode=\"markers\",\n",
    "        marker=dict(\n",
    "                    size=10,\n",
    "                    color=\"rgb(0,0,255)\",\n",
    "        ),\n",
    "        name=\"Cluster 2\"\n",
    ")\n",
    "\n",
    "\n",
    "data_plot_km=[Cluster0,Cluster1,Cluster2]\n",
    "\n",
    "# membuat plot\n",
    "layout = go.Layout(\n",
    "    margin=dict(l=0, r=0, b=0, t=0))\n",
    "\n",
    "fig=go.Figure(data = data_plot_km, layout = layout)\n",
    "iplot(fig)"
   ]
  },
  {
   "cell_type": "code",
   "execution_count": 1819,
   "metadata": {},
   "outputs": [
    {
     "data": {
      "text/html": [
       "<div>\n",
       "<style scoped>\n",
       "    .dataframe tbody tr th:only-of-type {\n",
       "        vertical-align: middle;\n",
       "    }\n",
       "\n",
       "    .dataframe tbody tr th {\n",
       "        vertical-align: top;\n",
       "    }\n",
       "\n",
       "    .dataframe thead th {\n",
       "        text-align: right;\n",
       "    }\n",
       "</style>\n",
       "<table border=\"1\" class=\"dataframe\">\n",
       "  <thead>\n",
       "    <tr style=\"text-align: right;\">\n",
       "      <th></th>\n",
       "      <th>ROE</th>\n",
       "      <th>Market Cap</th>\n",
       "      <th>Mean Return</th>\n",
       "      <th>Variance Return</th>\n",
       "      <th>cluster</th>\n",
       "    </tr>\n",
       "    <tr>\n",
       "      <th>Ticker</th>\n",
       "      <th></th>\n",
       "      <th></th>\n",
       "      <th></th>\n",
       "      <th></th>\n",
       "      <th></th>\n",
       "    </tr>\n",
       "  </thead>\n",
       "  <tbody>\n",
       "    <tr>\n",
       "      <th>ACES.JK</th>\n",
       "      <td>0.019841</td>\n",
       "      <td>-0.503589</td>\n",
       "      <td>0.412495</td>\n",
       "      <td>-0.015084</td>\n",
       "      <td>1</td>\n",
       "    </tr>\n",
       "    <tr>\n",
       "      <th>ADMR.JK</th>\n",
       "      <td>0.778213</td>\n",
       "      <td>-0.325757</td>\n",
       "      <td>0.133485</td>\n",
       "      <td>0.311211</td>\n",
       "      <td>1</td>\n",
       "    </tr>\n",
       "    <tr>\n",
       "      <th>ADRO.JK</th>\n",
       "      <td>0.293330</td>\n",
       "      <td>-0.248688</td>\n",
       "      <td>2.254371</td>\n",
       "      <td>0.823429</td>\n",
       "      <td>1</td>\n",
       "    </tr>\n",
       "    <tr>\n",
       "      <th>AKRA.JK</th>\n",
       "      <td>0.303760</td>\n",
       "      <td>-0.448638</td>\n",
       "      <td>-0.074903</td>\n",
       "      <td>-0.567337</td>\n",
       "      <td>1</td>\n",
       "    </tr>\n",
       "    <tr>\n",
       "      <th>AMMN.JK</th>\n",
       "      <td>-0.139658</td>\n",
       "      <td>2.448907</td>\n",
       "      <td>1.647973</td>\n",
       "      <td>0.691505</td>\n",
       "      <td>2</td>\n",
       "    </tr>\n",
       "    <tr>\n",
       "      <th>AMRT.JK</th>\n",
       "      <td>0.276663</td>\n",
       "      <td>-0.000140</td>\n",
       "      <td>0.214998</td>\n",
       "      <td>-0.718876</td>\n",
       "      <td>1</td>\n",
       "    </tr>\n",
       "    <tr>\n",
       "      <th>ANTM.JK</th>\n",
       "      <td>-0.035391</td>\n",
       "      <td>-0.406057</td>\n",
       "      <td>-0.210453</td>\n",
       "      <td>-0.078249</td>\n",
       "      <td>1</td>\n",
       "    </tr>\n",
       "    <tr>\n",
       "      <th>ARTO.JK</th>\n",
       "      <td>-0.247955</td>\n",
       "      <td>-0.399909</td>\n",
       "      <td>-0.199115</td>\n",
       "      <td>1.716608</td>\n",
       "      <td>0</td>\n",
       "    </tr>\n",
       "    <tr>\n",
       "      <th>ASII.JK</th>\n",
       "      <td>0.126549</td>\n",
       "      <td>0.347773</td>\n",
       "      <td>-0.112428</td>\n",
       "      <td>-0.815975</td>\n",
       "      <td>1</td>\n",
       "    </tr>\n",
       "    <tr>\n",
       "      <th>BBCA.JK</th>\n",
       "      <td>0.196819</td>\n",
       "      <td>4.909000</td>\n",
       "      <td>0.529713</td>\n",
       "      <td>-1.005131</td>\n",
       "      <td>2</td>\n",
       "    </tr>\n",
       "    <tr>\n",
       "      <th>BBNI.JK</th>\n",
       "      <td>0.054567</td>\n",
       "      <td>0.236767</td>\n",
       "      <td>-0.137102</td>\n",
       "      <td>-0.581011</td>\n",
       "      <td>1</td>\n",
       "    </tr>\n",
       "    <tr>\n",
       "      <th>BBRI.JK</th>\n",
       "      <td>0.179051</td>\n",
       "      <td>2.291687</td>\n",
       "      <td>-0.744761</td>\n",
       "      <td>-0.619872</td>\n",
       "      <td>2</td>\n",
       "    </tr>\n",
       "    <tr>\n",
       "      <th>BBTN.JK</th>\n",
       "      <td>-0.001969</td>\n",
       "      <td>-0.487165</td>\n",
       "      <td>-0.024803</td>\n",
       "      <td>-0.207876</td>\n",
       "      <td>1</td>\n",
       "    </tr>\n",
       "    <tr>\n",
       "      <th>BMRI.JK</th>\n",
       "      <td>0.220870</td>\n",
       "      <td>1.966658</td>\n",
       "      <td>0.393606</td>\n",
       "      <td>-0.528916</td>\n",
       "      <td>2</td>\n",
       "    </tr>\n",
       "    <tr>\n",
       "      <th>BRIS.JK</th>\n",
       "      <td>0.073003</td>\n",
       "      <td>0.041810</td>\n",
       "      <td>2.250532</td>\n",
       "      <td>0.525128</td>\n",
       "      <td>1</td>\n",
       "    </tr>\n",
       "    <tr>\n",
       "      <th>BRPT.JK</th>\n",
       "      <td>-0.232184</td>\n",
       "      <td>-0.167484</td>\n",
       "      <td>-0.580606</td>\n",
       "      <td>3.827639</td>\n",
       "      <td>0</td>\n",
       "    </tr>\n",
       "    <tr>\n",
       "      <th>BUKA.JK</th>\n",
       "      <td>-0.392962</td>\n",
       "      <td>-0.505786</td>\n",
       "      <td>-1.719132</td>\n",
       "      <td>1.334411</td>\n",
       "      <td>0</td>\n",
       "    </tr>\n",
       "    <tr>\n",
       "      <th>CPIN.JK</th>\n",
       "      <td>-0.069209</td>\n",
       "      <td>-0.198706</td>\n",
       "      <td>-0.052306</td>\n",
       "      <td>-0.690202</td>\n",
       "      <td>1</td>\n",
       "    </tr>\n",
       "    <tr>\n",
       "      <th>ESSA.JK</th>\n",
       "      <td>-0.056623</td>\n",
       "      <td>-0.500951</td>\n",
       "      <td>1.479640</td>\n",
       "      <td>0.929615</td>\n",
       "      <td>1</td>\n",
       "    </tr>\n",
       "    <tr>\n",
       "      <th>EXCL.JK</th>\n",
       "      <td>-0.156325</td>\n",
       "      <td>-0.429226</td>\n",
       "      <td>0.344366</td>\n",
       "      <td>-0.406476</td>\n",
       "      <td>1</td>\n",
       "    </tr>\n",
       "    <tr>\n",
       "      <th>GOTO.JK</th>\n",
       "      <td>-5.787803</td>\n",
       "      <td>-0.157664</td>\n",
       "      <td>-0.233638</td>\n",
       "      <td>2.549982</td>\n",
       "      <td>3</td>\n",
       "    </tr>\n",
       "    <tr>\n",
       "      <th>ICBP.JK</th>\n",
       "      <td>0.129314</td>\n",
       "      <td>0.043197</td>\n",
       "      <td>0.404064</td>\n",
       "      <td>-0.738917</td>\n",
       "      <td>1</td>\n",
       "    </tr>\n",
       "    <tr>\n",
       "      <th>INCO.JK</th>\n",
       "      <td>-0.020250</td>\n",
       "      <td>-0.392669</td>\n",
       "      <td>-0.702233</td>\n",
       "      <td>0.182717</td>\n",
       "      <td>0</td>\n",
       "    </tr>\n",
       "    <tr>\n",
       "      <th>INDF.JK</th>\n",
       "      <td>0.050769</td>\n",
       "      <td>-0.257087</td>\n",
       "      <td>0.797786</td>\n",
       "      <td>-1.105718</td>\n",
       "      <td>1</td>\n",
       "    </tr>\n",
       "    <tr>\n",
       "      <th>INKP.JK</th>\n",
       "      <td>-0.109166</td>\n",
       "      <td>-0.390559</td>\n",
       "      <td>-0.637227</td>\n",
       "      <td>-0.369551</td>\n",
       "      <td>1</td>\n",
       "    </tr>\n",
       "    <tr>\n",
       "      <th>INTP.JK</th>\n",
       "      <td>-0.052599</td>\n",
       "      <td>-0.459015</td>\n",
       "      <td>-1.230782</td>\n",
       "      <td>-0.663299</td>\n",
       "      <td>0</td>\n",
       "    </tr>\n",
       "    <tr>\n",
       "      <th>ISAT.JK</th>\n",
       "      <td>0.071461</td>\n",
       "      <td>-0.203674</td>\n",
       "      <td>0.480151</td>\n",
       "      <td>0.069233</td>\n",
       "      <td>1</td>\n",
       "    </tr>\n",
       "    <tr>\n",
       "      <th>ITMG.JK</th>\n",
       "      <td>0.380256</td>\n",
       "      <td>-0.423917</td>\n",
       "      <td>0.898896</td>\n",
       "      <td>-1.081344</td>\n",
       "      <td>1</td>\n",
       "    </tr>\n",
       "    <tr>\n",
       "      <th>JSMR.JK</th>\n",
       "      <td>0.296130</td>\n",
       "      <td>-0.416517</td>\n",
       "      <td>-0.342338</td>\n",
       "      <td>-0.609886</td>\n",
       "      <td>1</td>\n",
       "    </tr>\n",
       "    <tr>\n",
       "      <th>KLBF.JK</th>\n",
       "      <td>0.031171</td>\n",
       "      <td>-0.262842</td>\n",
       "      <td>-0.571776</td>\n",
       "      <td>-0.873931</td>\n",
       "      <td>1</td>\n",
       "    </tr>\n",
       "    <tr>\n",
       "      <th>MAPI.JK</th>\n",
       "      <td>0.170665</td>\n",
       "      <td>-0.458569</td>\n",
       "      <td>-0.391237</td>\n",
       "      <td>0.693118</td>\n",
       "      <td>0</td>\n",
       "    </tr>\n",
       "    <tr>\n",
       "      <th>MBMA.JK</th>\n",
       "      <td>-0.257533</td>\n",
       "      <td>-0.319054</td>\n",
       "      <td>-0.249573</td>\n",
       "      <td>1.906709</td>\n",
       "      <td>0</td>\n",
       "    </tr>\n",
       "    <tr>\n",
       "      <th>MDKA.JK</th>\n",
       "      <td>-0.319630</td>\n",
       "      <td>-0.356837</td>\n",
       "      <td>-0.912239</td>\n",
       "      <td>0.602454</td>\n",
       "      <td>0</td>\n",
       "    </tr>\n",
       "    <tr>\n",
       "      <th>MEDC.JK</th>\n",
       "      <td>0.234357</td>\n",
       "      <td>-0.442411</td>\n",
       "      <td>0.408871</td>\n",
       "      <td>0.256148</td>\n",
       "      <td>1</td>\n",
       "    </tr>\n",
       "    <tr>\n",
       "      <th>MTEL.JK</th>\n",
       "      <td>-0.131215</td>\n",
       "      <td>-0.318750</td>\n",
       "      <td>-0.382583</td>\n",
       "      <td>-0.658531</td>\n",
       "      <td>1</td>\n",
       "    </tr>\n",
       "    <tr>\n",
       "      <th>PGAS.JK</th>\n",
       "      <td>-0.029356</td>\n",
       "      <td>-0.392414</td>\n",
       "      <td>1.673955</td>\n",
       "      <td>-0.604127</td>\n",
       "      <td>1</td>\n",
       "    </tr>\n",
       "    <tr>\n",
       "      <th>PGEO.JK</th>\n",
       "      <td>-0.075818</td>\n",
       "      <td>-0.383395</td>\n",
       "      <td>-0.244806</td>\n",
       "      <td>0.104924</td>\n",
       "      <td>1</td>\n",
       "    </tr>\n",
       "    <tr>\n",
       "      <th>PTBA.JK</th>\n",
       "      <td>0.391762</td>\n",
       "      <td>-0.424535</td>\n",
       "      <td>0.960552</td>\n",
       "      <td>-0.744542</td>\n",
       "      <td>1</td>\n",
       "    </tr>\n",
       "    <tr>\n",
       "      <th>SIDO.JK</th>\n",
       "      <td>0.382273</td>\n",
       "      <td>-0.485674</td>\n",
       "      <td>0.204604</td>\n",
       "      <td>-0.642418</td>\n",
       "      <td>1</td>\n",
       "    </tr>\n",
       "    <tr>\n",
       "      <th>SMGR.JK</th>\n",
       "      <td>-0.151807</td>\n",
       "      <td>-0.464113</td>\n",
       "      <td>-2.516183</td>\n",
       "      <td>-0.237502</td>\n",
       "      <td>0</td>\n",
       "    </tr>\n",
       "    <tr>\n",
       "      <th>SMRA.JK</th>\n",
       "      <td>-0.087475</td>\n",
       "      <td>-0.521662</td>\n",
       "      <td>-0.031193</td>\n",
       "      <td>-0.103250</td>\n",
       "      <td>1</td>\n",
       "    </tr>\n",
       "    <tr>\n",
       "      <th>TLKM.JK</th>\n",
       "      <td>0.149290</td>\n",
       "      <td>0.638286</td>\n",
       "      <td>-1.196674</td>\n",
       "      <td>-0.648822</td>\n",
       "      <td>0</td>\n",
       "    </tr>\n",
       "    <tr>\n",
       "      <th>TOWR.JK</th>\n",
       "      <td>0.189840</td>\n",
       "      <td>-0.406275</td>\n",
       "      <td>-1.067815</td>\n",
       "      <td>-0.513336</td>\n",
       "      <td>0</td>\n",
       "    </tr>\n",
       "    <tr>\n",
       "      <th>UNTR.JK</th>\n",
       "      <td>0.334375</td>\n",
       "      <td>-0.116935</td>\n",
       "      <td>1.258072</td>\n",
       "      <td>-0.855514</td>\n",
       "      <td>1</td>\n",
       "    </tr>\n",
       "    <tr>\n",
       "      <th>UNVR.JK</th>\n",
       "      <td>3.020596</td>\n",
       "      <td>-0.247420</td>\n",
       "      <td>-2.182228</td>\n",
       "      <td>0.160862</td>\n",
       "      <td>0</td>\n",
       "    </tr>\n",
       "  </tbody>\n",
       "</table>\n",
       "</div>"
      ],
      "text/plain": [
       "              ROE  Market Cap  Mean Return  Variance Return  cluster\n",
       "Ticker                                                              \n",
       "ACES.JK  0.019841   -0.503589     0.412495        -0.015084        1\n",
       "ADMR.JK  0.778213   -0.325757     0.133485         0.311211        1\n",
       "ADRO.JK  0.293330   -0.248688     2.254371         0.823429        1\n",
       "AKRA.JK  0.303760   -0.448638    -0.074903        -0.567337        1\n",
       "AMMN.JK -0.139658    2.448907     1.647973         0.691505        2\n",
       "AMRT.JK  0.276663   -0.000140     0.214998        -0.718876        1\n",
       "ANTM.JK -0.035391   -0.406057    -0.210453        -0.078249        1\n",
       "ARTO.JK -0.247955   -0.399909    -0.199115         1.716608        0\n",
       "ASII.JK  0.126549    0.347773    -0.112428        -0.815975        1\n",
       "BBCA.JK  0.196819    4.909000     0.529713        -1.005131        2\n",
       "BBNI.JK  0.054567    0.236767    -0.137102        -0.581011        1\n",
       "BBRI.JK  0.179051    2.291687    -0.744761        -0.619872        2\n",
       "BBTN.JK -0.001969   -0.487165    -0.024803        -0.207876        1\n",
       "BMRI.JK  0.220870    1.966658     0.393606        -0.528916        2\n",
       "BRIS.JK  0.073003    0.041810     2.250532         0.525128        1\n",
       "BRPT.JK -0.232184   -0.167484    -0.580606         3.827639        0\n",
       "BUKA.JK -0.392962   -0.505786    -1.719132         1.334411        0\n",
       "CPIN.JK -0.069209   -0.198706    -0.052306        -0.690202        1\n",
       "ESSA.JK -0.056623   -0.500951     1.479640         0.929615        1\n",
       "EXCL.JK -0.156325   -0.429226     0.344366        -0.406476        1\n",
       "GOTO.JK -5.787803   -0.157664    -0.233638         2.549982        3\n",
       "ICBP.JK  0.129314    0.043197     0.404064        -0.738917        1\n",
       "INCO.JK -0.020250   -0.392669    -0.702233         0.182717        0\n",
       "INDF.JK  0.050769   -0.257087     0.797786        -1.105718        1\n",
       "INKP.JK -0.109166   -0.390559    -0.637227        -0.369551        1\n",
       "INTP.JK -0.052599   -0.459015    -1.230782        -0.663299        0\n",
       "ISAT.JK  0.071461   -0.203674     0.480151         0.069233        1\n",
       "ITMG.JK  0.380256   -0.423917     0.898896        -1.081344        1\n",
       "JSMR.JK  0.296130   -0.416517    -0.342338        -0.609886        1\n",
       "KLBF.JK  0.031171   -0.262842    -0.571776        -0.873931        1\n",
       "MAPI.JK  0.170665   -0.458569    -0.391237         0.693118        0\n",
       "MBMA.JK -0.257533   -0.319054    -0.249573         1.906709        0\n",
       "MDKA.JK -0.319630   -0.356837    -0.912239         0.602454        0\n",
       "MEDC.JK  0.234357   -0.442411     0.408871         0.256148        1\n",
       "MTEL.JK -0.131215   -0.318750    -0.382583        -0.658531        1\n",
       "PGAS.JK -0.029356   -0.392414     1.673955        -0.604127        1\n",
       "PGEO.JK -0.075818   -0.383395    -0.244806         0.104924        1\n",
       "PTBA.JK  0.391762   -0.424535     0.960552        -0.744542        1\n",
       "SIDO.JK  0.382273   -0.485674     0.204604        -0.642418        1\n",
       "SMGR.JK -0.151807   -0.464113    -2.516183        -0.237502        0\n",
       "SMRA.JK -0.087475   -0.521662    -0.031193        -0.103250        1\n",
       "TLKM.JK  0.149290    0.638286    -1.196674        -0.648822        0\n",
       "TOWR.JK  0.189840   -0.406275    -1.067815        -0.513336        0\n",
       "UNTR.JK  0.334375   -0.116935     1.258072        -0.855514        1\n",
       "UNVR.JK  3.020596   -0.247420    -2.182228         0.160862        0"
      ]
     },
     "execution_count": 1819,
     "metadata": {},
     "output_type": "execute_result"
    }
   ],
   "source": [
    "df_agl"
   ]
  },
  {
   "cell_type": "markdown",
   "metadata": {},
   "source": [
    "# DBSCAN"
   ]
  },
  {
   "cell_type": "code",
   "execution_count": 1820,
   "metadata": {},
   "outputs": [
    {
     "name": "stdout",
     "output_type": "stream",
     "text": [
      "Clusters present: [-1  0]\n",
      "Silhouette Score: 0.0712689834820442\n",
      "Calinski-Harabasz Index: 1.710340172463659\n",
      "Davies-Bouldin Index: 3.4038621292169404\n",
      "cluster\n",
      "-1    27\n",
      " 0    18\n",
      "Name: count, dtype: int64\n"
     ]
    },
    {
     "data": {
      "text/html": [
       "<div>\n",
       "<style scoped>\n",
       "    .dataframe tbody tr th:only-of-type {\n",
       "        vertical-align: middle;\n",
       "    }\n",
       "\n",
       "    .dataframe tbody tr th {\n",
       "        vertical-align: top;\n",
       "    }\n",
       "\n",
       "    .dataframe thead th {\n",
       "        text-align: right;\n",
       "    }\n",
       "</style>\n",
       "<table border=\"1\" class=\"dataframe\">\n",
       "  <thead>\n",
       "    <tr style=\"text-align: right;\">\n",
       "      <th></th>\n",
       "      <th>ROE</th>\n",
       "      <th>Market Cap</th>\n",
       "      <th>Mean Return</th>\n",
       "      <th>Variance Return</th>\n",
       "      <th>cluster</th>\n",
       "    </tr>\n",
       "    <tr>\n",
       "      <th>Ticker</th>\n",
       "      <th></th>\n",
       "      <th></th>\n",
       "      <th></th>\n",
       "      <th></th>\n",
       "      <th></th>\n",
       "    </tr>\n",
       "  </thead>\n",
       "  <tbody>\n",
       "    <tr>\n",
       "      <th>ACES.JK</th>\n",
       "      <td>0.019841</td>\n",
       "      <td>-0.503589</td>\n",
       "      <td>0.412495</td>\n",
       "      <td>-0.015084</td>\n",
       "      <td>0</td>\n",
       "    </tr>\n",
       "    <tr>\n",
       "      <th>ADMR.JK</th>\n",
       "      <td>0.778213</td>\n",
       "      <td>-0.325757</td>\n",
       "      <td>0.133485</td>\n",
       "      <td>0.311211</td>\n",
       "      <td>-1</td>\n",
       "    </tr>\n",
       "    <tr>\n",
       "      <th>ADRO.JK</th>\n",
       "      <td>0.293330</td>\n",
       "      <td>-0.248688</td>\n",
       "      <td>2.254371</td>\n",
       "      <td>0.823429</td>\n",
       "      <td>-1</td>\n",
       "    </tr>\n",
       "    <tr>\n",
       "      <th>AKRA.JK</th>\n",
       "      <td>0.303760</td>\n",
       "      <td>-0.448638</td>\n",
       "      <td>-0.074903</td>\n",
       "      <td>-0.567337</td>\n",
       "      <td>0</td>\n",
       "    </tr>\n",
       "    <tr>\n",
       "      <th>AMMN.JK</th>\n",
       "      <td>-0.139658</td>\n",
       "      <td>2.448907</td>\n",
       "      <td>1.647973</td>\n",
       "      <td>0.691505</td>\n",
       "      <td>-1</td>\n",
       "    </tr>\n",
       "  </tbody>\n",
       "</table>\n",
       "</div>"
      ],
      "text/plain": [
       "              ROE  Market Cap  Mean Return  Variance Return  cluster\n",
       "Ticker                                                              \n",
       "ACES.JK  0.019841   -0.503589     0.412495        -0.015084        0\n",
       "ADMR.JK  0.778213   -0.325757     0.133485         0.311211       -1\n",
       "ADRO.JK  0.293330   -0.248688     2.254371         0.823429       -1\n",
       "AKRA.JK  0.303760   -0.448638    -0.074903        -0.567337        0\n",
       "AMMN.JK -0.139658    2.448907     1.647973         0.691505       -1"
      ]
     },
     "execution_count": 1820,
     "metadata": {},
     "output_type": "execute_result"
    }
   ],
   "source": [
    "# Opsional: Tuning parameter eps dan min_samples\n",
    "df_dbs = df_final.copy()\n",
    "\n",
    "# GMM\n",
    "dbs = DBSCAN()\n",
    "dbs.fit(df_dbs)\n",
    "labelg = dbs.labels_\n",
    "\n",
    "unique_labels = np.unique(labelg)\n",
    "n_clusters_formed = len(unique_labels)\n",
    "print(f'Clusters present: {unique_labels}')\n",
    "# print(f'Clusters sizes: {np.bincount(labelg)}', '\\n')\n",
    "print(f'Silhouette Score: {silhouette_score(df_dbs, labelg)}')\n",
    "print(f'Calinski-Harabasz Index: {calinski_harabasz_score(df_dbs, labelg)}')\n",
    "print(f'Davies-Bouldin Index: {davies_bouldin_score(df_dbs, labelg)}')\n",
    "\n",
    "df_dbs['cluster'] = labelg\n",
    "data['Cluster'] = labelg\n",
    "\n",
    "print(df_dbs.cluster.value_counts())\n",
    "df_dbs.head()"
   ]
  },
  {
   "cell_type": "code",
   "execution_count": 1821,
   "metadata": {},
   "outputs": [
    {
     "name": "stdout",
     "output_type": "stream",
     "text": [
      "              ROA       ROE      Market Cap  Mean Return  Variance Return  \\\n",
      "Ticker                                                                      \n",
      "PGAS.JK  0.042140  0.103040  38422777430016     0.002017         0.000332   \n",
      "ISAT.JK  0.039281  0.146569  81272013586432     0.000728         0.000563   \n",
      "\n",
      "         Cluster  sharpe_ratio  \n",
      "Ticker                          \n",
      "PGAS.JK       -1      0.097624  \n",
      "ISAT.JK        0      0.020657  \n"
     ]
    }
   ],
   "source": [
    "# Risk-free rate (contoh: 6% per tahun, diubah ke harian)\n",
    "risk_free_rate = 0.06 / 252\n",
    "\n",
    "# Hitung Sharpe Ratio\n",
    "data['sharpe_ratio'] = (data['Mean Return'] - risk_free_rate) / np.sqrt(data['Variance Return'])\n",
    "\n",
    "# Ambil saham terbaik dari setiap cluster\n",
    "best_stocks = data.loc[data.groupby('Cluster')['sharpe_ratio'].idxmax()]\n",
    "\n",
    "print(best_stocks)"
   ]
  },
  {
   "cell_type": "code",
   "execution_count": 1822,
   "metadata": {},
   "outputs": [
    {
     "name": "stdout",
     "output_type": "stream",
     "text": [
      "64.99822785009573 %\n"
     ]
    },
    {
     "data": {
      "text/plain": [
       "<Axes: xlabel='PC_1', ylabel='PC_2'>"
      ]
     },
     "execution_count": 1822,
     "metadata": {},
     "output_type": "execute_result"
    },
    {
     "data": {
      "image/png": "[encoded data removed]",
      "text/plain": [
       "<Figure size 1000x800 with 1 Axes>"
      ]
     },
     "metadata": {},
     "output_type": "display_data"
    }
   ],
   "source": [
    "# Gunakan Dimensionality Reduction dengan PCA untuk mempermudah melakukan visualisasi\n",
    "\n",
    "pca = PCA(n_components = 2)\n",
    "df_pca2 = pd.DataFrame(pca.fit_transform(df_dbs.iloc[:,:-1]),\n",
    "                      columns = ['PC_1', 'PC_2'],\n",
    "                      index = df_dbs.index)\n",
    "\n",
    "df_pca2 = pd.concat([df_pca2, df_dbs.cluster], axis = 1)\n",
    "# df_pca1.head()\n",
    "\n",
    "print(np.sum(pca.explained_variance_ratio_)*100, \"%\") # 2 Dimensi dapat menjelaskan keseluruhan fitur\n",
    "fig = plt.figure(figsize=(10, 8))\n",
    "ax = fig.add_subplot()\n",
    "sns.scatterplot(data = df_pca2, x = 'PC_1', y = 'PC_2', hue = 'cluster', s = 300, ax = ax)"
   ]
  },
  {
   "cell_type": "markdown",
   "metadata": {},
   "source": [
    "**3D**"
   ]
  },
  {
   "cell_type": "code",
   "execution_count": 1823,
   "metadata": {},
   "outputs": [],
   "source": [
    "# Gunakan Dimensionality Reduction dengan PCA untuk mempermudah melakukan visualisasi\n",
    "\n",
    "pca = PCA(n_components = 3)\n",
    "df_pca_3 = pd.DataFrame(pca.fit_transform(df_spec.iloc[:,:-1]),\n",
    "                      columns = ['PC1', 'PC2', 'PC3'],\n",
    "                      index = df_spec.index)\n",
    "\n",
    "df_pca_3 = pd.concat([df_pca_3, df_spec.cluster], axis = 1)\n",
    "# df_pca1.head()"
   ]
  },
  {
   "cell_type": "code",
   "execution_count": 1824,
   "metadata": {},
   "outputs": [
    {
     "data": {
      "text/html": [
       "<div>\n",
       "<style scoped>\n",
       "    .dataframe tbody tr th:only-of-type {\n",
       "        vertical-align: middle;\n",
       "    }\n",
       "\n",
       "    .dataframe tbody tr th {\n",
       "        vertical-align: top;\n",
       "    }\n",
       "\n",
       "    .dataframe thead th {\n",
       "        text-align: right;\n",
       "    }\n",
       "</style>\n",
       "<table border=\"1\" class=\"dataframe\">\n",
       "  <thead>\n",
       "    <tr style=\"text-align: right;\">\n",
       "      <th></th>\n",
       "      <th>PC1</th>\n",
       "      <th>PC2</th>\n",
       "      <th>PC3</th>\n",
       "      <th>cluster</th>\n",
       "    </tr>\n",
       "    <tr>\n",
       "      <th>Ticker</th>\n",
       "      <th></th>\n",
       "      <th></th>\n",
       "      <th></th>\n",
       "      <th></th>\n",
       "    </tr>\n",
       "  </thead>\n",
       "  <tbody>\n",
       "    <tr>\n",
       "      <th>ACES.JK</th>\n",
       "      <td>0.081060</td>\n",
       "      <td>-0.011719</td>\n",
       "      <td>-0.645003</td>\n",
       "      <td>2</td>\n",
       "    </tr>\n",
       "    <tr>\n",
       "      <th>ADMR.JK</th>\n",
       "      <td>-0.185258</td>\n",
       "      <td>-0.358235</td>\n",
       "      <td>-0.417066</td>\n",
       "      <td>1</td>\n",
       "    </tr>\n",
       "    <tr>\n",
       "      <th>ADRO.JK</th>\n",
       "      <td>0.141843</td>\n",
       "      <td>1.422983</td>\n",
       "      <td>-1.696032</td>\n",
       "      <td>2</td>\n",
       "    </tr>\n",
       "    <tr>\n",
       "      <th>AKRA.JK</th>\n",
       "      <td>-0.427134</td>\n",
       "      <td>-0.481004</td>\n",
       "      <td>-0.351792</td>\n",
       "      <td>0</td>\n",
       "    </tr>\n",
       "    <tr>\n",
       "      <th>AMMN.JK</th>\n",
       "      <td>-0.467157</td>\n",
       "      <td>2.729693</td>\n",
       "      <td>0.706150</td>\n",
       "      <td>2</td>\n",
       "    </tr>\n",
       "  </tbody>\n",
       "</table>\n",
       "</div>"
      ],
      "text/plain": [
       "              PC1       PC2       PC3  cluster\n",
       "Ticker                                        \n",
       "ACES.JK  0.081060 -0.011719 -0.645003        2\n",
       "ADMR.JK -0.185258 -0.358235 -0.417066        1\n",
       "ADRO.JK  0.141843  1.422983 -1.696032        2\n",
       "AKRA.JK -0.427134 -0.481004 -0.351792        0\n",
       "AMMN.JK -0.467157  2.729693  0.706150        2"
      ]
     },
     "execution_count": 1824,
     "metadata": {},
     "output_type": "execute_result"
    }
   ],
   "source": [
    "df_pca_3.head()"
   ]
  },
  {
   "cell_type": "code",
   "execution_count": 1825,
   "metadata": {},
   "outputs": [
    {
     "data": {
      "application/vnd.plotly.v1+json": {
       "config": {
        "linkText": "Export to plot.ly",
        "plotlyServerURL": "https://plot.ly",
        "showLink": false
       },
       "data": [
        {
         "marker": {
          "color": "rgb(255,0,0)",
          "size": 10
         },
         "mode": "markers",
         "name": "Cluster 0",
         "type": "scatter3d",
         "x": [
          -0.4271340740506326,
          -0.7029228574907134,
          -0.7418751709590143,
          -2.4921113132898585,
          -0.49419540763137043,
          -1.1789443839175935,
          0.018968149110860543,
          -1.2011692057341097,
          -0.3631262193203064,
          0.031241532996836737,
          -0.09977803441343884,
          -0.4236018626422731,
          -0.4574276737187548,
          -0.21551684582422878,
          0.4452970454035946,
          -0.5777294754646933,
          -0.18840817686876213,
          -1.3849302713953369
         ],
         "y": [
          -0.4810037607247237,
          -0.013767794819980455,
          0.005199018838529775,
          3.106896414067732,
          -0.03011672516481929,
          0.6982601772984874,
          -0.3224692129506533,
          1.309856393314192,
          -0.19006356806262506,
          -0.6761829793138541,
          -1.1863010825131906,
          -0.6534506007896516,
          -0.6513651758015973,
          -0.47010291209350813,
          -2.0297699007388994,
          -0.5891984290866435,
          -1.1158912202555562,
          -2.8071871788461022
         ],
         "z": [
          -0.3517923185786128,
          -0.2320382781473737,
          0.2551849191006112,
          3.0728041154965915,
          0.21771347033481345,
          2.084542615840946,
          -0.346059802550973,
          1.079430071873729,
          -0.14153440432419312,
          0.14350974564056238,
          0.46957493660506927,
          -0.14910540748924614,
          0.1381449873176374,
          0.0071221778762792665,
          1.3787892052765784,
          1.206062198717991,
          0.37152281394843395,
          0.874296632268455
         ]
        },
        {
         "marker": {
          "color": "rgb(0,255,0)",
          "size": 10
         },
         "mode": "markers",
         "name": "Cluster 1",
         "type": "scatter3d",
         "x": [
          -0.18525825652605427,
          0.13030714369686827,
          1.5045139440342765,
          2.93821905073355,
          1.584669919029207,
          5.479827318263787,
          0.36859441971425366,
          0.5793298479203258,
          1.6233710264928392,
          0.8659918324211309,
          0.11538327076359779,
          0.280266820620049,
          0.157232212799845
         ],
         "y": [
          -0.35823533640000116,
          -0.3829119212765579,
          -0.13245843791592585,
          -0.08504651807162589,
          -1.2572829374812218,
          2.1175788989868174,
          -0.7075669674527609,
          -0.5504302319827986,
          -0.10026279065324174,
          -0.687411298346918,
          -0.03378384605668986,
          -0.3626948087736142,
          -0.3062687331792185
         ],
         "z": [
          -0.4170664706460047,
          -0.1488345146010482,
          -0.006058282781436096,
          0.5526742580521805,
          0.9445421862119874,
          1.0469239497120997,
          0.20864433506607108,
          -0.04431252437326907,
          0.09979167623335393,
          0.4470062568183703,
          -0.6122589113221135,
          -0.09166234161490354,
          -0.34739895314415914
         ]
        },
        {
         "marker": {
          "color": "rgb(0,0,255)",
          "size": 10
         },
         "mode": "markers",
         "name": "Cluster 2",
         "type": "scatter3d",
         "x": [
          0.08105988478894355,
          0.14184333842681618,
          -0.46715725226262667,
          -0.020804391739309452,
          0.6288160697168086,
          -0.09427862172994805,
          -0.6659332011962683,
          -0.8304744400199092,
          -0.00005727088608046114,
          -0.9804397186264618,
          -0.5152379706736481,
          -0.7628109122031622,
          -0.5568015900314076,
          -0.946808228317629
         ],
         "y": [
          -0.011719206750588488,
          1.422983002056485,
          2.7296925678588675,
          1.6466857068289564,
          0.8621706901043256,
          0.014172800487777299,
          0.19932978941403465,
          0.29925834961114456,
          0.2014929545451939,
          0.1527428271606025,
          0.9177906386918604,
          0.2219924640208495,
          -0.33965989408554825,
          0.6265007763026612
         ],
         "z": [
          -0.6450029478156023,
          -1.696031567484351,
          0.7061503173081634,
          -1.4720963918197256,
          -1.2946124253641356,
          -0.5450615997932673,
          -0.30901039920236073,
          -0.8036507228121961,
          -0.4775639020689848,
          -1.0381097911036727,
          -1.4508196752366878,
          -1.0603758046163323,
          -0.5840082612921811,
          -1.0399651715170941
         ]
        }
       ],
       "layout": {
        "margin": {
         "b": 0,
         "l": 0,
         "r": 0,
         "t": 0
        },
        "template": {
         "data": {
          "bar": [
           {
            "error_x": {
             "color": "#2a3f5f"
            },
            "error_y": {
             "color": "#2a3f5f"
            },
            "marker": {
             "line": {
              "color": "#E5ECF6",
              "width": 0.5
             },
             "pattern": {
              "fillmode": "overlay",
              "size": 10,
              "solidity": 0.2
             }
            },
            "type": "bar"
           }
          ],
          "barpolar": [
           {
            "marker": {
             "line": {
              "color": "#E5ECF6",
              "width": 0.5
             },
             "pattern": {
              "fillmode": "overlay",
              "size": 10,
              "solidity": 0.2
             }
            },
            "type": "barpolar"
           }
          ],
          "carpet": [
           {
            "aaxis": {
             "endlinecolor": "#2a3f5f",
             "gridcolor": "white",
             "linecolor": "white",
             "minorgridcolor": "white",
             "startlinecolor": "#2a3f5f"
            },
            "baxis": {
             "endlinecolor": "#2a3f5f",
             "gridcolor": "white",
             "linecolor": "white",
             "minorgridcolor": "white",
             "startlinecolor": "#2a3f5f"
            },
            "type": "carpet"
           }
          ],
          "choropleth": [
           {
            "colorbar": {
             "outlinewidth": 0,
             "ticks": ""
            },
            "type": "choropleth"
           }
          ],
          "contour": [
           {
            "colorbar": {
             "outlinewidth": 0,
             "ticks": ""
            },
            "colorscale": [
             [
              0,
              "#0d0887"
             ],
             [
              0.1111111111111111,
              "#46039f"
             ],
             [
              0.2222222222222222,
              "#7201a8"
             ],
             [
              0.3333333333333333,
              "#9c179e"
             ],
             [
              0.4444444444444444,
              "#bd3786"
             ],
             [
              0.5555555555555556,
              "#d8576b"
             ],
             [
              0.6666666666666666,
              "#ed7953"
             ],
             [
              0.7777777777777778,
              "#fb9f3a"
             ],
             [
              0.8888888888888888,
              "#fdca26"
             ],
             [
              1,
              "#f0f921"
             ]
            ],
            "type": "contour"
           }
          ],
          "contourcarpet": [
           {
            "colorbar": {
             "outlinewidth": 0,
             "ticks": ""
            },
            "type": "contourcarpet"
           }
          ],
          "heatmap": [
           {
            "colorbar": {
             "outlinewidth": 0,
             "ticks": ""
            },
            "colorscale": [
             [
              0,
              "#0d0887"
             ],
             [
              0.1111111111111111,
              "#46039f"
             ],
             [
              0.2222222222222222,
              "#7201a8"
             ],
             [
              0.3333333333333333,
              "#9c179e"
             ],
             [
              0.4444444444444444,
              "#bd3786"
             ],
             [
              0.5555555555555556,
              "#d8576b"
             ],
             [
              0.6666666666666666,
              "#ed7953"
             ],
             [
              0.7777777777777778,
              "#fb9f3a"
             ],
             [
              0.8888888888888888,
              "#fdca26"
             ],
             [
              1,
              "#f0f921"
             ]
            ],
            "type": "heatmap"
           }
          ],
          "heatmapgl": [
           {
            "colorbar": {
             "outlinewidth": 0,
             "ticks": ""
            },
            "colorscale": [
             [
              0,
              "#0d0887"
             ],
             [
              0.1111111111111111,
              "#46039f"
             ],
             [
              0.2222222222222222,
              "#7201a8"
             ],
             [
              0.3333333333333333,
              "#9c179e"
             ],
             [
              0.4444444444444444,
              "#bd3786"
             ],
             [
              0.5555555555555556,
              "#d8576b"
             ],
             [
              0.6666666666666666,
              "#ed7953"
             ],
             [
              0.7777777777777778,
              "#fb9f3a"
             ],
             [
              0.8888888888888888,
              "#fdca26"
             ],
             [
              1,
              "#f0f921"
             ]
            ],
            "type": "heatmapgl"
           }
          ],
          "histogram": [
           {
            "marker": {
             "pattern": {
              "fillmode": "overlay",
              "size": 10,
              "solidity": 0.2
             }
            },
            "type": "histogram"
           }
          ],
          "histogram2d": [
           {
            "colorbar": {
             "outlinewidth": 0,
             "ticks": ""
            },
            "colorscale": [
             [
              0,
              "#0d0887"
             ],
             [
              0.1111111111111111,
              "#46039f"
             ],
             [
              0.2222222222222222,
              "#7201a8"
             ],
             [
              0.3333333333333333,
              "#9c179e"
             ],
             [
              0.4444444444444444,
              "#bd3786"
             ],
             [
              0.5555555555555556,
              "#d8576b"
             ],
             [
              0.6666666666666666,
              "#ed7953"
             ],
             [
              0.7777777777777778,
              "#fb9f3a"
             ],
             [
              0.8888888888888888,
              "#fdca26"
             ],
             [
              1,
              "#f0f921"
             ]
            ],
            "type": "histogram2d"
           }
          ],
          "histogram2dcontour": [
           {
            "colorbar": {
             "outlinewidth": 0,
             "ticks": ""
            },
            "colorscale": [
             [
              0,
              "#0d0887"
             ],
             [
              0.1111111111111111,
              "#46039f"
             ],
             [
              0.2222222222222222,
              "#7201a8"
             ],
             [
              0.3333333333333333,
              "#9c179e"
             ],
             [
              0.4444444444444444,
              "#bd3786"
             ],
             [
              0.5555555555555556,
              "#d8576b"
             ],
             [
              0.6666666666666666,
              "#ed7953"
             ],
             [
              0.7777777777777778,
              "#fb9f3a"
             ],
             [
              0.8888888888888888,
              "#fdca26"
             ],
             [
              1,
              "#f0f921"
             ]
            ],
            "type": "histogram2dcontour"
           }
          ],
          "mesh3d": [
           {
            "colorbar": {
             "outlinewidth": 0,
             "ticks": ""
            },
            "type": "mesh3d"
           }
          ],
          "parcoords": [
           {
            "line": {
             "colorbar": {
              "outlinewidth": 0,
              "ticks": ""
             }
            },
            "type": "parcoords"
           }
          ],
          "pie": [
           {
            "automargin": true,
            "type": "pie"
           }
          ],
          "scatter": [
           {
            "fillpattern": {
             "fillmode": "overlay",
             "size": 10,
             "solidity": 0.2
            },
            "type": "scatter"
           }
          ],
          "scatter3d": [
           {
            "line": {
             "colorbar": {
              "outlinewidth": 0,
              "ticks": ""
             }
            },
            "marker": {
             "colorbar": {
              "outlinewidth": 0,
              "ticks": ""
             }
            },
            "type": "scatter3d"
           }
          ],
          "scattercarpet": [
           {
            "marker": {
             "colorbar": {
              "outlinewidth": 0,
              "ticks": ""
             }
            },
            "type": "scattercarpet"
           }
          ],
          "scattergeo": [
           {
            "marker": {
             "colorbar": {
              "outlinewidth": 0,
              "ticks": ""
             }
            },
            "type": "scattergeo"
           }
          ],
          "scattergl": [
           {
            "marker": {
             "colorbar": {
              "outlinewidth": 0,
              "ticks": ""
             }
            },
            "type": "scattergl"
           }
          ],
          "scattermapbox": [
           {
            "marker": {
             "colorbar": {
              "outlinewidth": 0,
              "ticks": ""
             }
            },
            "type": "scattermapbox"
           }
          ],
          "scatterpolar": [
           {
            "marker": {
             "colorbar": {
              "outlinewidth": 0,
              "ticks": ""
             }
            },
            "type": "scatterpolar"
           }
          ],
          "scatterpolargl": [
           {
            "marker": {
             "colorbar": {
              "outlinewidth": 0,
              "ticks": ""
             }
            },
            "type": "scatterpolargl"
           }
          ],
          "scatterternary": [
           {
            "marker": {
             "colorbar": {
              "outlinewidth": 0,
              "ticks": ""
             }
            },
            "type": "scatterternary"
           }
          ],
          "surface": [
           {
            "colorbar": {
             "outlinewidth": 0,
             "ticks": ""
            },
            "colorscale": [
             [
              0,
              "#0d0887"
             ],
             [
              0.1111111111111111,
              "#46039f"
             ],
             [
              0.2222222222222222,
              "#7201a8"
             ],
             [
              0.3333333333333333,
              "#9c179e"
             ],
             [
              0.4444444444444444,
              "#bd3786"
             ],
             [
              0.5555555555555556,
              "#d8576b"
             ],
             [
              0.6666666666666666,
              "#ed7953"
             ],
             [
              0.7777777777777778,
              "#fb9f3a"
             ],
             [
              0.8888888888888888,
              "#fdca26"
             ],
             [
              1,
              "#f0f921"
             ]
            ],
            "type": "surface"
           }
          ],
          "table": [
           {
            "cells": {
             "fill": {
              "color": "#EBF0F8"
             },
             "line": {
              "color": "white"
             }
            },
            "header": {
             "fill": {
              "color": "#C8D4E3"
             },
             "line": {
              "color": "white"
             }
            },
            "type": "table"
           }
          ]
         },
         "layout": {
          "annotationdefaults": {
           "arrowcolor": "#2a3f5f",
           "arrowhead": 0,
           "arrowwidth": 1
          },
          "autotypenumbers": "strict",
          "coloraxis": {
           "colorbar": {
            "outlinewidth": 0,
            "ticks": ""
           }
          },
          "colorscale": {
           "diverging": [
            [
             0,
             "#8e0152"
            ],
            [
             0.1,
             "#c51b7d"
            ],
            [
             0.2,
             "#de77ae"
            ],
            [
             0.3,
             "#f1b6da"
            ],
            [
             0.4,
             "#fde0ef"
            ],
            [
             0.5,
             "#f7f7f7"
            ],
            [
             0.6,
             "#e6f5d0"
            ],
            [
             0.7,
             "#b8e186"
            ],
            [
             0.8,
             "#7fbc41"
            ],
            [
             0.9,
             "#4d9221"
            ],
            [
             1,
             "#276419"
            ]
           ],
           "sequential": [
            [
             0,
             "#0d0887"
            ],
            [
             0.1111111111111111,
             "#46039f"
            ],
            [
             0.2222222222222222,
             "#7201a8"
            ],
            [
             0.3333333333333333,
             "#9c179e"
            ],
            [
             0.4444444444444444,
             "#bd3786"
            ],
            [
             0.5555555555555556,
             "#d8576b"
            ],
            [
             0.6666666666666666,
             "#ed7953"
            ],
            [
             0.7777777777777778,
             "#fb9f3a"
            ],
            [
             0.8888888888888888,
             "#fdca26"
            ],
            [
             1,
             "#f0f921"
            ]
           ],
           "sequentialminus": [
            [
             0,
             "#0d0887"
            ],
            [
             0.1111111111111111,
             "#46039f"
            ],
            [
             0.2222222222222222,
             "#7201a8"
            ],
            [
             0.3333333333333333,
             "#9c179e"
            ],
            [
             0.4444444444444444,
             "#bd3786"
            ],
            [
             0.5555555555555556,
             "#d8576b"
            ],
            [
             0.6666666666666666,
             "#ed7953"
            ],
            [
             0.7777777777777778,
             "#fb9f3a"
            ],
            [
             0.8888888888888888,
             "#fdca26"
            ],
            [
             1,
             "#f0f921"
            ]
           ]
          },
          "colorway": [
           "#636efa",
           "#EF553B",
           "#00cc96",
           "#ab63fa",
           "#FFA15A",
           "#19d3f3",
           "#FF6692",
           "#B6E880",
           "#FF97FF",
           "#FECB52"
          ],
          "font": {
           "color": "#2a3f5f"
          },
          "geo": {
           "bgcolor": "white",
           "lakecolor": "white",
           "landcolor": "#E5ECF6",
           "showlakes": true,
           "showland": true,
           "subunitcolor": "white"
          },
          "hoverlabel": {
           "align": "left"
          },
          "hovermode": "closest",
          "mapbox": {
           "style": "light"
          },
          "paper_bgcolor": "white",
          "plot_bgcolor": "#E5ECF6",
          "polar": {
           "angularaxis": {
            "gridcolor": "white",
            "linecolor": "white",
            "ticks": ""
           },
           "bgcolor": "#E5ECF6",
           "radialaxis": {
            "gridcolor": "white",
            "linecolor": "white",
            "ticks": ""
           }
          },
          "scene": {
           "xaxis": {
            "backgroundcolor": "#E5ECF6",
            "gridcolor": "white",
            "gridwidth": 2,
            "linecolor": "white",
            "showbackground": true,
            "ticks": "",
            "zerolinecolor": "white"
           },
           "yaxis": {
            "backgroundcolor": "#E5ECF6",
            "gridcolor": "white",
            "gridwidth": 2,
            "linecolor": "white",
            "showbackground": true,
            "ticks": "",
            "zerolinecolor": "white"
           },
           "zaxis": {
            "backgroundcolor": "#E5ECF6",
            "gridcolor": "white",
            "gridwidth": 2,
            "linecolor": "white",
            "showbackground": true,
            "ticks": "",
            "zerolinecolor": "white"
           }
          },
          "shapedefaults": {
           "line": {
            "color": "#2a3f5f"
           }
          },
          "ternary": {
           "aaxis": {
            "gridcolor": "white",
            "linecolor": "white",
            "ticks": ""
           },
           "baxis": {
            "gridcolor": "white",
            "linecolor": "white",
            "ticks": ""
           },
           "bgcolor": "#E5ECF6",
           "caxis": {
            "gridcolor": "white",
            "linecolor": "white",
            "ticks": ""
           }
          },
          "title": {
           "x": 0.05
          },
          "xaxis": {
           "automargin": true,
           "gridcolor": "white",
           "linecolor": "white",
           "ticks": "",
           "title": {
            "standoff": 15
           },
           "zerolinecolor": "white",
           "zerolinewidth": 2
          },
          "yaxis": {
           "automargin": true,
           "gridcolor": "white",
           "linecolor": "white",
           "ticks": "",
           "title": {
            "standoff": 15
           },
           "zerolinecolor": "white",
           "zerolinewidth": 2
          }
         }
        }
       }
      },
      "text/html": [
       "<div>                            <div id=\"8a9a7d7a-a479-4c88-b35a-7f251e2d8e3d\" class=\"plotly-graph-div\" style=\"height:525px; width:100%;\"></div>            <script type=\"text/javascript\">                require([\"plotly\"], function(Plotly) {                    window.PLOTLYENV=window.PLOTLYENV || {};                                    if (document.getElementById(\"8a9a7d7a-a479-4c88-b35a-7f251e2d8e3d\")) {                    Plotly.newPlot(                        \"8a9a7d7a-a479-4c88-b35a-7f251e2d8e3d\",                        [{\"marker\":{\"color\":\"rgb(255,0,0)\",\"size\":10},\"mode\":\"markers\",\"name\":\"Cluster 0\",\"x\":[-0.4271340740506326,-0.7029228574907134,-0.7418751709590143,-2.4921113132898585,-0.49419540763137043,-1.1789443839175935,0.018968149110860543,-1.2011692057341097,-0.3631262193203064,0.031241532996836737,-0.09977803441343884,-0.4236018626422731,-0.4574276737187548,-0.21551684582422878,0.4452970454035946,-0.5777294754646933,-0.18840817686876213,-1.3849302713953369],\"y\":[-0.4810037607247237,-0.013767794819980455,0.005199018838529775,3.106896414067732,-0.03011672516481929,0.6982601772984874,-0.3224692129506533,1.309856393314192,-0.19006356806262506,-0.6761829793138541,-1.1863010825131906,-0.6534506007896516,-0.6513651758015973,-0.47010291209350813,-2.0297699007388994,-0.5891984290866435,-1.1158912202555562,-2.8071871788461022],\"z\":[-0.3517923185786128,-0.2320382781473737,0.2551849191006112,3.0728041154965915,0.21771347033481345,2.084542615840946,-0.346059802550973,1.079430071873729,-0.14153440432419312,0.14350974564056238,0.46957493660506927,-0.14910540748924614,0.1381449873176374,0.0071221778762792665,1.3787892052765784,1.206062198717991,0.37152281394843395,0.874296632268455],\"type\":\"scatter3d\"},{\"marker\":{\"color\":\"rgb(0,255,0)\",\"size\":10},\"mode\":\"markers\",\"name\":\"Cluster 1\",\"x\":[-0.18525825652605427,0.13030714369686827,1.5045139440342765,2.93821905073355,1.584669919029207,5.479827318263787,0.36859441971425366,0.5793298479203258,1.6233710264928392,0.8659918324211309,0.11538327076359779,0.280266820620049,0.157232212799845],\"y\":[-0.35823533640000116,-0.3829119212765579,-0.13245843791592585,-0.08504651807162589,-1.2572829374812218,2.1175788989868174,-0.7075669674527609,-0.5504302319827986,-0.10026279065324174,-0.687411298346918,-0.03378384605668986,-0.3626948087736142,-0.3062687331792185],\"z\":[-0.4170664706460047,-0.1488345146010482,-0.006058282781436096,0.5526742580521805,0.9445421862119874,1.0469239497120997,0.20864433506607108,-0.04431252437326907,0.09979167623335393,0.4470062568183703,-0.6122589113221135,-0.09166234161490354,-0.34739895314415914],\"type\":\"scatter3d\"},{\"marker\":{\"color\":\"rgb(0,0,255)\",\"size\":10},\"mode\":\"markers\",\"name\":\"Cluster 2\",\"x\":[0.08105988478894355,0.14184333842681618,-0.46715725226262667,-0.020804391739309452,0.6288160697168086,-0.09427862172994805,-0.6659332011962683,-0.8304744400199092,-5.727088608046114e-05,-0.9804397186264618,-0.5152379706736481,-0.7628109122031622,-0.5568015900314076,-0.946808228317629],\"y\":[-0.011719206750588488,1.422983002056485,2.7296925678588675,1.6466857068289564,0.8621706901043256,0.014172800487777299,0.19932978941403465,0.29925834961114456,0.2014929545451939,0.1527428271606025,0.9177906386918604,0.2219924640208495,-0.33965989408554825,0.6265007763026612],\"z\":[-0.6450029478156023,-1.696031567484351,0.7061503173081634,-1.4720963918197256,-1.2946124253641356,-0.5450615997932673,-0.30901039920236073,-0.8036507228121961,-0.4775639020689848,-1.0381097911036727,-1.4508196752366878,-1.0603758046163323,-0.5840082612921811,-1.0399651715170941],\"type\":\"scatter3d\"}],                        {\"margin\":{\"b\":0,\"l\":0,\"r\":0,\"t\":0},\"template\":{\"data\":{\"barpolar\":[{\"marker\":{\"line\":{\"color\":\"#E5ECF6\",\"width\":0.5},\"pattern\":{\"fillmode\":\"overlay\",\"size\":10,\"solidity\":0.2}},\"type\":\"barpolar\"}],\"bar\":[{\"error_x\":{\"color\":\"#2a3f5f\"},\"error_y\":{\"color\":\"#2a3f5f\"},\"marker\":{\"line\":{\"color\":\"#E5ECF6\",\"width\":0.5},\"pattern\":{\"fillmode\":\"overlay\",\"size\":10,\"solidity\":0.2}},\"type\":\"bar\"}],\"carpet\":[{\"aaxis\":{\"endlinecolor\":\"#2a3f5f\",\"gridcolor\":\"white\",\"linecolor\":\"white\",\"minorgridcolor\":\"white\",\"startlinecolor\":\"#2a3f5f\"},\"baxis\":{\"endlinecolor\":\"#2a3f5f\",\"gridcolor\":\"white\",\"linecolor\":\"white\",\"minorgridcolor\":\"white\",\"startlinecolor\":\"#2a3f5f\"},\"type\":\"carpet\"}],\"choropleth\":[{\"colorbar\":{\"outlinewidth\":0,\"ticks\":\"\"},\"type\":\"choropleth\"}],\"contourcarpet\":[{\"colorbar\":{\"outlinewidth\":0,\"ticks\":\"\"},\"type\":\"contourcarpet\"}],\"contour\":[{\"colorbar\":{\"outlinewidth\":0,\"ticks\":\"\"},\"colorscale\":[[0.0,\"#0d0887\"],[0.1111111111111111,\"#46039f\"],[0.2222222222222222,\"#7201a8\"],[0.3333333333333333,\"#9c179e\"],[0.4444444444444444,\"#bd3786\"],[0.5555555555555556,\"#d8576b\"],[0.6666666666666666,\"#ed7953\"],[0.7777777777777778,\"#fb9f3a\"],[0.8888888888888888,\"#fdca26\"],[1.0,\"#f0f921\"]],\"type\":\"contour\"}],\"heatmapgl\":[{\"colorbar\":{\"outlinewidth\":0,\"ticks\":\"\"},\"colorscale\":[[0.0,\"#0d0887\"],[0.1111111111111111,\"#46039f\"],[0.2222222222222222,\"#7201a8\"],[0.3333333333333333,\"#9c179e\"],[0.4444444444444444,\"#bd3786\"],[0.5555555555555556,\"#d8576b\"],[0.6666666666666666,\"#ed7953\"],[0.7777777777777778,\"#fb9f3a\"],[0.8888888888888888,\"#fdca26\"],[1.0,\"#f0f921\"]],\"type\":\"heatmapgl\"}],\"heatmap\":[{\"colorbar\":{\"outlinewidth\":0,\"ticks\":\"\"},\"colorscale\":[[0.0,\"#0d0887\"],[0.1111111111111111,\"#46039f\"],[0.2222222222222222,\"#7201a8\"],[0.3333333333333333,\"#9c179e\"],[0.4444444444444444,\"#bd3786\"],[0.5555555555555556,\"#d8576b\"],[0.6666666666666666,\"#ed7953\"],[0.7777777777777778,\"#fb9f3a\"],[0.8888888888888888,\"#fdca26\"],[1.0,\"#f0f921\"]],\"type\":\"heatmap\"}],\"histogram2dcontour\":[{\"colorbar\":{\"outlinewidth\":0,\"ticks\":\"\"},\"colorscale\":[[0.0,\"#0d0887\"],[0.1111111111111111,\"#46039f\"],[0.2222222222222222,\"#7201a8\"],[0.3333333333333333,\"#9c179e\"],[0.4444444444444444,\"#bd3786\"],[0.5555555555555556,\"#d8576b\"],[0.6666666666666666,\"#ed7953\"],[0.7777777777777778,\"#fb9f3a\"],[0.8888888888888888,\"#fdca26\"],[1.0,\"#f0f921\"]],\"type\":\"histogram2dcontour\"}],\"histogram2d\":[{\"colorbar\":{\"outlinewidth\":0,\"ticks\":\"\"},\"colorscale\":[[0.0,\"#0d0887\"],[0.1111111111111111,\"#46039f\"],[0.2222222222222222,\"#7201a8\"],[0.3333333333333333,\"#9c179e\"],[0.4444444444444444,\"#bd3786\"],[0.5555555555555556,\"#d8576b\"],[0.6666666666666666,\"#ed7953\"],[0.7777777777777778,\"#fb9f3a\"],[0.8888888888888888,\"#fdca26\"],[1.0,\"#f0f921\"]],\"type\":\"histogram2d\"}],\"histogram\":[{\"marker\":{\"pattern\":{\"fillmode\":\"overlay\",\"size\":10,\"solidity\":0.2}},\"type\":\"histogram\"}],\"mesh3d\":[{\"colorbar\":{\"outlinewidth\":0,\"ticks\":\"\"},\"type\":\"mesh3d\"}],\"parcoords\":[{\"line\":{\"colorbar\":{\"outlinewidth\":0,\"ticks\":\"\"}},\"type\":\"parcoords\"}],\"pie\":[{\"automargin\":true,\"type\":\"pie\"}],\"scatter3d\":[{\"line\":{\"colorbar\":{\"outlinewidth\":0,\"ticks\":\"\"}},\"marker\":{\"colorbar\":{\"outlinewidth\":0,\"ticks\":\"\"}},\"type\":\"scatter3d\"}],\"scattercarpet\":[{\"marker\":{\"colorbar\":{\"outlinewidth\":0,\"ticks\":\"\"}},\"type\":\"scattercarpet\"}],\"scattergeo\":[{\"marker\":{\"colorbar\":{\"outlinewidth\":0,\"ticks\":\"\"}},\"type\":\"scattergeo\"}],\"scattergl\":[{\"marker\":{\"colorbar\":{\"outlinewidth\":0,\"ticks\":\"\"}},\"type\":\"scattergl\"}],\"scattermapbox\":[{\"marker\":{\"colorbar\":{\"outlinewidth\":0,\"ticks\":\"\"}},\"type\":\"scattermapbox\"}],\"scatterpolargl\":[{\"marker\":{\"colorbar\":{\"outlinewidth\":0,\"ticks\":\"\"}},\"type\":\"scatterpolargl\"}],\"scatterpolar\":[{\"marker\":{\"colorbar\":{\"outlinewidth\":0,\"ticks\":\"\"}},\"type\":\"scatterpolar\"}],\"scatter\":[{\"fillpattern\":{\"fillmode\":\"overlay\",\"size\":10,\"solidity\":0.2},\"type\":\"scatter\"}],\"scatterternary\":[{\"marker\":{\"colorbar\":{\"outlinewidth\":0,\"ticks\":\"\"}},\"type\":\"scatterternary\"}],\"surface\":[{\"colorbar\":{\"outlinewidth\":0,\"ticks\":\"\"},\"colorscale\":[[0.0,\"#0d0887\"],[0.1111111111111111,\"#46039f\"],[0.2222222222222222,\"#7201a8\"],[0.3333333333333333,\"#9c179e\"],[0.4444444444444444,\"#bd3786\"],[0.5555555555555556,\"#d8576b\"],[0.6666666666666666,\"#ed7953\"],[0.7777777777777778,\"#fb9f3a\"],[0.8888888888888888,\"#fdca26\"],[1.0,\"#f0f921\"]],\"type\":\"surface\"}],\"table\":[{\"cells\":{\"fill\":{\"color\":\"#EBF0F8\"},\"line\":{\"color\":\"white\"}},\"header\":{\"fill\":{\"color\":\"#C8D4E3\"},\"line\":{\"color\":\"white\"}},\"type\":\"table\"}]},\"layout\":{\"annotationdefaults\":{\"arrowcolor\":\"#2a3f5f\",\"arrowhead\":0,\"arrowwidth\":1},\"autotypenumbers\":\"strict\",\"coloraxis\":{\"colorbar\":{\"outlinewidth\":0,\"ticks\":\"\"}},\"colorscale\":{\"diverging\":[[0,\"#8e0152\"],[0.1,\"#c51b7d\"],[0.2,\"#de77ae\"],[0.3,\"#f1b6da\"],[0.4,\"#fde0ef\"],[0.5,\"#f7f7f7\"],[0.6,\"#e6f5d0\"],[0.7,\"#b8e186\"],[0.8,\"#7fbc41\"],[0.9,\"#4d9221\"],[1,\"#276419\"]],\"sequential\":[[0.0,\"#0d0887\"],[0.1111111111111111,\"#46039f\"],[0.2222222222222222,\"#7201a8\"],[0.3333333333333333,\"#9c179e\"],[0.4444444444444444,\"#bd3786\"],[0.5555555555555556,\"#d8576b\"],[0.6666666666666666,\"#ed7953\"],[0.7777777777777778,\"#fb9f3a\"],[0.8888888888888888,\"#fdca26\"],[1.0,\"#f0f921\"]],\"sequentialminus\":[[0.0,\"#0d0887\"],[0.1111111111111111,\"#46039f\"],[0.2222222222222222,\"#7201a8\"],[0.3333333333333333,\"#9c179e\"],[0.4444444444444444,\"#bd3786\"],[0.5555555555555556,\"#d8576b\"],[0.6666666666666666,\"#ed7953\"],[0.7777777777777778,\"#fb9f3a\"],[0.8888888888888888,\"#fdca26\"],[1.0,\"#f0f921\"]]},\"colorway\":[\"#636efa\",\"#EF553B\",\"#00cc96\",\"#ab63fa\",\"#FFA15A\",\"#19d3f3\",\"#FF6692\",\"#B6E880\",\"#FF97FF\",\"#FECB52\"],\"font\":{\"color\":\"#2a3f5f\"},\"geo\":{\"bgcolor\":\"white\",\"lakecolor\":\"white\",\"landcolor\":\"#E5ECF6\",\"showlakes\":true,\"showland\":true,\"subunitcolor\":\"white\"},\"hoverlabel\":{\"align\":\"left\"},\"hovermode\":\"closest\",\"mapbox\":{\"style\":\"light\"},\"paper_bgcolor\":\"white\",\"plot_bgcolor\":\"#E5ECF6\",\"polar\":{\"angularaxis\":{\"gridcolor\":\"white\",\"linecolor\":\"white\",\"ticks\":\"\"},\"bgcolor\":\"#E5ECF6\",\"radialaxis\":{\"gridcolor\":\"white\",\"linecolor\":\"white\",\"ticks\":\"\"}},\"scene\":{\"xaxis\":{\"backgroundcolor\":\"#E5ECF6\",\"gridcolor\":\"white\",\"gridwidth\":2,\"linecolor\":\"white\",\"showbackground\":true,\"ticks\":\"\",\"zerolinecolor\":\"white\"},\"yaxis\":{\"backgroundcolor\":\"#E5ECF6\",\"gridcolor\":\"white\",\"gridwidth\":2,\"linecolor\":\"white\",\"showbackground\":true,\"ticks\":\"\",\"zerolinecolor\":\"white\"},\"zaxis\":{\"backgroundcolor\":\"#E5ECF6\",\"gridcolor\":\"white\",\"gridwidth\":2,\"linecolor\":\"white\",\"showbackground\":true,\"ticks\":\"\",\"zerolinecolor\":\"white\"}},\"shapedefaults\":{\"line\":{\"color\":\"#2a3f5f\"}},\"ternary\":{\"aaxis\":{\"gridcolor\":\"white\",\"linecolor\":\"white\",\"ticks\":\"\"},\"baxis\":{\"gridcolor\":\"white\",\"linecolor\":\"white\",\"ticks\":\"\"},\"bgcolor\":\"#E5ECF6\",\"caxis\":{\"gridcolor\":\"white\",\"linecolor\":\"white\",\"ticks\":\"\"}},\"title\":{\"x\":0.05},\"xaxis\":{\"automargin\":true,\"gridcolor\":\"white\",\"linecolor\":\"white\",\"ticks\":\"\",\"title\":{\"standoff\":15},\"zerolinecolor\":\"white\",\"zerolinewidth\":2},\"yaxis\":{\"automargin\":true,\"gridcolor\":\"white\",\"linecolor\":\"white\",\"ticks\":\"\",\"title\":{\"standoff\":15},\"zerolinecolor\":\"white\",\"zerolinewidth\":2}}}},                        {\"responsive\": true}                    ).then(function(){\n",
       "                            \n",
       "var gd = document.getElementById('8a9a7d7a-a479-4c88-b35a-7f251e2d8e3d');\n",
       "var x = new MutationObserver(function (mutations, observer) {{\n",
       "        var display = window.getComputedStyle(gd).display;\n",
       "        if (!display || display === 'none') {{\n",
       "            console.log([gd, 'removed!']);\n",
       "            Plotly.purge(gd);\n",
       "            observer.disconnect();\n",
       "        }}\n",
       "}});\n",
       "\n",
       "// Listen for the removal of the full notebook cells\n",
       "var notebookContainer = gd.closest('#notebook-container');\n",
       "if (notebookContainer) {{\n",
       "    x.observe(notebookContainer, {childList: true});\n",
       "}}\n",
       "\n",
       "// Listen for the clearing of the current output cell\n",
       "var outputEl = gd.closest('.output');\n",
       "if (outputEl) {{\n",
       "    x.observe(outputEl, {childList: true});\n",
       "}}\n",
       "\n",
       "                        })                };                });            </script>        </div>"
      ]
     },
     "metadata": {},
     "output_type": "display_data"
    }
   ],
   "source": [
    "# membuat visualisasi 3D untuk setiap klaster\n",
    "# klaster 1\n",
    "Cluster0= go.Scatter3d(\n",
    "        x=df_pca_3[df_pca_3['cluster']==0]['PC1'],\n",
    "        y=df_pca_3[df_pca_3['cluster']==0]['PC2'],\n",
    "        z=df_pca_3[df_pca_3['cluster']==0]['PC3'],\n",
    "        mode=\"markers\",\n",
    "        marker=dict(\n",
    "                    size=10,\n",
    "                    color=\"rgb(255,0,0)\",\n",
    "        ),\n",
    "        name=\"Cluster 0\"\n",
    ")\n",
    "\n",
    "#klaster 2\n",
    "Cluster1= go.Scatter3d(\n",
    "        x=df_pca_3[df_pca_3['cluster']==1]['PC1'],\n",
    "        y=df_pca_3[df_pca_3['cluster']==1]['PC2'],\n",
    "        z=df_pca_3[df_pca_3['cluster']==1]['PC3'],\n",
    "        mode=\"markers\",\n",
    "        marker=dict(\n",
    "                    size=10,\n",
    "                    color=\"rgb(0,255,0)\",\n",
    "        ),\n",
    "        name=\"Cluster 1\"\n",
    ")\n",
    "\n",
    "# klaster 3\n",
    "Cluster2= go.Scatter3d(\n",
    "        x=df_pca_3[df_pca_3['cluster']==2]['PC1'],\n",
    "        y=df_pca_3[df_pca_3['cluster']==2]['PC2'],\n",
    "        z=df_pca_3[df_pca_3['cluster']==2]['PC3'],\n",
    "        mode=\"markers\",\n",
    "        marker=dict(\n",
    "                    size=10,\n",
    "                    color=\"rgb(0,0,255)\",\n",
    "        ),\n",
    "        name=\"Cluster 2\"\n",
    ")\n",
    "\n",
    "\n",
    "data_plot_km=[Cluster0,Cluster1,Cluster2]\n",
    "\n",
    "# membuat plot\n",
    "layout = go.Layout(\n",
    "    margin=dict(l=0, r=0, b=0, t=0))\n",
    "\n",
    "fig=go.Figure(data = data_plot_km, layout = layout)\n",
    "iplot(fig)"
   ]
  },
  {
   "cell_type": "markdown",
   "metadata": {},
   "source": [
    "# Cek asumsi portfolio terpilih dengan KMeans"
   ]
  },
  {
   "cell_type": "code",
   "execution_count": 1826,
   "metadata": {},
   "outputs": [
    {
     "name": "stdout",
     "output_type": "stream",
     "text": [
      "320\n",
      "Clusters present: [0 1 2]\n",
      "Clusters sizes: [ 4 36  5] \n",
      "\n",
      "Silhouette Score: 0.4640177656249543\n",
      "Calinski-Harabasz Index: 16.57620566042255\n",
      "Davies-Bouldin Index: 0.9719186427710209\n",
      "              ROA       ROE       Market Cap  Mean Return  Variance Return  \\\n",
      "Ticker                                                                       \n",
      "AMMN.JK  0.027717  0.055417  683483982725120     0.001989         0.000777   \n",
      "PGAS.JK  0.042140  0.103040   38422777430016     0.002017         0.000332   \n",
      "ARTO.JK  0.003398  0.008659   36721051828224    -0.000005         0.001129   \n",
      "\n",
      "         Cluster  sharpe_ratio  \n",
      "Ticker                          \n",
      "AMMN.JK        0      0.062818  \n",
      "PGAS.JK        1      0.097624  \n",
      "ARTO.JK        2     -0.007232  \n",
      "cluster\n",
      "1    36\n",
      "2     5\n",
      "0     4\n",
      "Name: count, dtype: int64\n"
     ]
    }
   ],
   "source": [
    "# Opsional: Tuning parameter eps dan min_samples\n",
    "df_kme = df_final.copy()\n",
    "\n",
    "# GMM\n",
    "random_state_value = np.random.randint(0, 10000)\n",
    "\n",
    "kmeans = KMeans(n_clusters = 3, random_state = 5098)\n",
    "print(random_state_value)\n",
    "kmeans.fit(df_kme)\n",
    "labelg = kmeans.predict(df_kme)\n",
    "\n",
    "unique_labels = np.unique(labelg)\n",
    "n_clusters_formed = len(unique_labels)\n",
    "print(f'Clusters present: {unique_labels}')\n",
    "print(f'Clusters sizes: {np.bincount(labelg)}', '\\n')\n",
    "print(f'Silhouette Score: {silhouette_score(df_kme, labelg)}')\n",
    "print(f'Calinski-Harabasz Index: {calinski_harabasz_score(df_kme, labelg)}')\n",
    "print(f'Davies-Bouldin Index: {davies_bouldin_score(df_kme, labelg)}')\n",
    "\n",
    "df_kme['cluster'] = labelg\n",
    "data['Cluster'] = labelg\n",
    "\n",
    "# Risk-free rate (contoh: 6% per tahun, diubah ke harian)\n",
    "risk_free_rate = 0.06 / 252\n",
    "\n",
    "# Hitung Sharpe Ratio\n",
    "data['sharpe_ratio'] = (data['Mean Return'] - risk_free_rate) / np.sqrt(data['Variance Return'])\n",
    "\n",
    "# Ambil saham terbaik dari setiap cluster\n",
    "best_stocks = data.loc[data.groupby('Cluster')['sharpe_ratio'].idxmax()]\n",
    "\n",
    "print(best_stocks)\n",
    "\n",
    "\n",
    "print(df_kme.cluster.value_counts())"
   ]
  },
  {
   "cell_type": "code",
   "execution_count": 1827,
   "metadata": {},
   "outputs": [
    {
     "name": "stdout",
     "output_type": "stream",
     "text": [
      "1588\n",
      "Clusters present: [0 1 2 3]\n",
      "Clusters sizes: [17 23  4  1] \n",
      "\n",
      "Silhouette Score: 0.2217813920782776\n",
      "Calinski-Harabasz Index: 13.323682312466934\n",
      "Davies-Bouldin Index: 1.107593148975228\n",
      "              ROA       ROE        Market Cap  Mean Return  Variance Return  \\\n",
      "Ticker                                                                        \n",
      "BBCA.JK  0.034542  0.200693  1241995691425792     0.000782         0.000194   \n",
      "PGAS.JK  0.042140  0.103040    38422777430016     0.002017         0.000332   \n",
      "ARTO.JK  0.003398  0.008659    36721051828224    -0.000005         0.001129   \n",
      "GOTO.JK -1.670984 -2.383206    91717776703488    -0.000042         0.001415   \n",
      "\n",
      "         Cluster  sharpe_ratio  \n",
      "Ticker                          \n",
      "BBCA.JK        0      0.039002  \n",
      "PGAS.JK        1      0.097624  \n",
      "ARTO.JK        2     -0.007232  \n",
      "GOTO.JK        3     -0.007451  \n",
      "cluster\n",
      "1    23\n",
      "0    17\n",
      "2     4\n",
      "3     1\n",
      "Name: count, dtype: int64\n"
     ]
    }
   ],
   "source": [
    "# Opsional: Tuning parameter eps dan min_samples\n",
    "df_kme = df_final.copy()\n",
    "\n",
    "# GMM\n",
    "random_state_value = np.random.randint(0, 10000)\n",
    "\n",
    "kmeans = KMeans(n_clusters = 4, random_state = 7746)\n",
    "print(random_state_value)\n",
    "kmeans.fit(df_kme)\n",
    "labelg = kmeans.predict(df_kme)\n",
    "\n",
    "unique_labels = np.unique(labelg)\n",
    "n_clusters_formed = len(unique_labels)\n",
    "print(f'Clusters present: {unique_labels}')\n",
    "print(f'Clusters sizes: {np.bincount(labelg)}', '\\n')\n",
    "print(f'Silhouette Score: {silhouette_score(df_kme, labelg)}')\n",
    "print(f'Calinski-Harabasz Index: {calinski_harabasz_score(df_kme, labelg)}')\n",
    "print(f'Davies-Bouldin Index: {davies_bouldin_score(df_kme, labelg)}')\n",
    "\n",
    "df_kme['cluster'] = labelg\n",
    "data['Cluster'] = labelg\n",
    "\n",
    "# Risk-free rate (contoh: 6% per tahun, diubah ke harian)\n",
    "risk_free_rate = 0.06 / 252\n",
    "\n",
    "# Hitung Sharpe Ratio\n",
    "data['sharpe_ratio'] = (data['Mean Return'] - risk_free_rate) / np.sqrt(data['Variance Return'])\n",
    "\n",
    "# Ambil saham terbaik dari setiap cluster\n",
    "best_stocks = data.loc[data.groupby('Cluster')['sharpe_ratio'].idxmax()]\n",
    "\n",
    "print(best_stocks)\n",
    "\n",
    "\n",
    "print(df_kme.cluster.value_counts())"
   ]
  },
  {
   "cell_type": "code",
   "execution_count": 1828,
   "metadata": {},
   "outputs": [],
   "source": [
    "def semideviation(r):\n",
    "    # Compute the semideviation of a return series.\n",
    "    is_negetive= r<0\n",
    "    return np.std(r[is_negetive], ddof=0, axis=0)\n",
    "\n",
    "def var_historic(r,level= 5):\n",
    "    # Compute the historic Value-at-Risk of a return series.\n",
    "    if isinstance(r, pd.DataFrame):\n",
    "        return r.aggregate(var_historic, level=level)\n",
    "    elif isinstance(r, pd.Series):\n",
    "        return -np.percentile(r, level)\n",
    "    else:\n",
    "        raise TypeError(\"Expected r to be a Series or DataFrame\")\n",
    "\n",
    "def cvar_historic(r,level=5):\n",
    "    # Compute the historic Conditional Value-at-Risk of a return series.\n",
    "    if isinstance(r, pd.Series):\n",
    "        is_beyond = r <= -var_historic(r, level=level)\n",
    "        return -r[is_beyond].mean()\n",
    "    elif isinstance(r, pd.DataFrame):\n",
    "        return r.aggregate(cvar_historic, level=level)\n",
    "    else:\n",
    "        raise TypeError(\"Expected r to be a Series or DataFrame\")\n",
    "    \n",
    "\n",
    "def skewness(r):\n",
    "    # Compute the skewness of a return series.\n",
    "    demeaned_r = r - r.mean()\n",
    "    sigma_r = r.std(ddof=0)\n",
    "    exp = (demeaned_r**3).mean()\n",
    "    skewness = exp / sigma_r**3\n",
    "    return skewness\n",
    "\n",
    "def kurtosis(r):\n",
    "    # Compute the kurtosis of a return series.\n",
    "    demeaned_r = r - r.mean()\n",
    "    sigma_r = r.std(ddof=0)\n",
    "    exp = (demeaned_r**4).mean()\n",
    "    kurtosis = exp / sigma_r**4\n",
    "    return kurtosis\n",
    "\n",
    "def is_normal(r,level =0.01, alternative = 'two-sided'):\n",
    "    # Apply the Jarque-Bera test to determine if a return series is normal.\n",
    "    statistic, p_value = ss.kstest(r, 'norm', args=(np.mean(r), np.std(r)))\n",
    "    if alternative == 'two-sided':\n",
    "        return p_value\n",
    "    elif alternative == 'greater':\n",
    "        return p_value > level / 2\n",
    "    elif alternative == 'less':\n",
    "        return p_value < level / 2\n",
    "    else:\n",
    "        raise ValueError(\"Invalid alternative hypothesis\")\n",
    "    \n",
    "import numpy as np\n",
    "import scipy.stats as ss\n",
    "\n",
    "def goodness_of_fit(data1, dist, level=0.01, alternative='two-sided'):\n",
    "    data = -data1\n",
    "    \"\"\"\n",
    "    Apply the Kolmogorov-Smirnov test to determine goodness of fit for a given distribution.\n",
    "\n",
    "    Parameters:\n",
    "    - data: array-like, the sample data to test.\n",
    "    - dist: str, the distribution name ('t', 'lognorm', 'gev').\n",
    "    - level: float, significance level for the test.\n",
    "    - alternative: str, 'two-sided', 'greater', or 'less'.\n",
    "\n",
    "    Returns:\n",
    "    - p_value: float, the p-value of the test.\n",
    "    - result: bool, whether the null hypothesis (data follows the given distribution) is rejected.\n",
    "    \"\"\"\n",
    "    # Estimate distribution parameters\n",
    "    if dist == 't':\n",
    "        params = ss.t.fit(data)\n",
    "        cdf = lambda x: ss.t.cdf(x, *params)\n",
    "    elif dist == 'lognorm':\n",
    "        params = ss.lognorm.fit(data, floc=0)  # Lognormal distribution with location fixed to 0\n",
    "        cdf = lambda x: ss.lognorm.cdf(x, *params)\n",
    "    elif dist == 'gev':\n",
    "        params = ss.genextreme.fit(data)\n",
    "        cdf = lambda x: ss.genextreme.cdf(x, *params)\n",
    "    else:\n",
    "        raise ValueError(\"Invalid distribution name. Choose 't', 'lognorm', or 'gev'.\")\n",
    "\n",
    "    # Perform KS test\n",
    "    statistic, p_value = ss.kstest(data, cdf, alternative=alternative)\n",
    "\n",
    "    # Determine if null hypothesis is rejected\n",
    "    if alternative == 'two-sided':\n",
    "        result = p_value < level\n",
    "    elif alternative == 'greater':\n",
    "        result = p_value < level / 2\n",
    "    elif alternative == 'less':\n",
    "        result = p_value < level / 2\n",
    "    else:\n",
    "        raise ValueError(\"Invalid alternative hypothesis\")\n",
    "\n",
    "    return p_value"
   ]
  },
  {
   "cell_type": "code",
   "execution_count": 1829,
   "metadata": {},
   "outputs": [],
   "source": [
    "def summary_stats(r):\n",
    "    # caviar_result, model_summary = calculate_caviar(r, quantile=0.05)\n",
    "    # Compute summary statistics for a return series.\n",
    "    stats = {\n",
    "        \"Mean\": r.mean(),\n",
    "        \"Median\": r.median(),\n",
    "        \"Variance\": r.var(),\n",
    "        \"Standard Deviation\": r.std(),\n",
    "        \"Normality\": is_normal(r,level =0.05, alternative = 'two-sided'),\n",
    "        \"Student-t\": goodness_of_fit(r, 't'),\n",
    "        # \"Log Normal\": goodness_of_fit(r, 'lognorm'),\n",
    "        \"GEV\": goodness_of_fit(r, 'gev'),\n",
    "        \"Skewness\": skewness(r),\n",
    "        \"Kurtosis\": kurtosis(r),\n",
    "        # \"Semideviation\": semideviation,\n",
    "        # \"VaR (5%)\": var_historic(r, level=5),\n",
    "        # \"CVaR (5%)\": cvar_historic(r, level=5),\n",
    "        # \"CAViaR (5%)\": caviar_result['VaR_Prediction'].tail(1).values[0],\n",
    "    }\n",
    "    return pd.Series(stats)"
   ]
  },
  {
   "cell_type": "code",
   "execution_count": 1872,
   "metadata": {},
   "outputs": [
    {
     "data": {
      "text/html": [
       "<div>\n",
       "<style scoped>\n",
       "    .dataframe tbody tr th:only-of-type {\n",
       "        vertical-align: middle;\n",
       "    }\n",
       "\n",
       "    .dataframe tbody tr th {\n",
       "        vertical-align: top;\n",
       "    }\n",
       "\n",
       "    .dataframe thead th {\n",
       "        text-align: right;\n",
       "    }\n",
       "</style>\n",
       "<table border=\"1\" class=\"dataframe\">\n",
       "  <thead>\n",
       "    <tr style=\"text-align: right;\">\n",
       "      <th></th>\n",
       "      <th>Ticker</th>\n",
       "      <th>ROA</th>\n",
       "      <th>ROE</th>\n",
       "      <th>Market Cap</th>\n",
       "      <th>Mean Return</th>\n",
       "      <th>Variance Return</th>\n",
       "      <th>Closing Prices with Timestamps</th>\n",
       "    </tr>\n",
       "  </thead>\n",
       "  <tbody>\n",
       "    <tr>\n",
       "      <th>0</th>\n",
       "      <td>ACES.JK</td>\n",
       "      <td>0.098476</td>\n",
       "      <td>0.124282</td>\n",
       "      <td>13182707957760</td>\n",
       "      <td>0.000655</td>\n",
       "      <td>0.000534</td>\n",
       "      <td>[{'Date': '2023-12-06', 'Close': 701.563964843...</td>\n",
       "    </tr>\n",
       "    <tr>\n",
       "      <th>1</th>\n",
       "      <td>ADMR.JK</td>\n",
       "      <td>0.260126</td>\n",
       "      <td>0.451713</td>\n",
       "      <td>53555809484800</td>\n",
       "      <td>0.000354</td>\n",
       "      <td>0.000646</td>\n",
       "      <td>[{'Date': '2023-12-06', 'Close': 1300.0}, {'Da...</td>\n",
       "    </tr>\n",
       "    <tr>\n",
       "      <th>2</th>\n",
       "      <td>ADRO.JK</td>\n",
       "      <td>0.156735</td>\n",
       "      <td>0.242362</td>\n",
       "      <td>71052591890432</td>\n",
       "      <td>0.002643</td>\n",
       "      <td>0.000822</td>\n",
       "      <td>[{'Date': '2023-12-06', 'Close': 1362.95568847...</td>\n",
       "    </tr>\n",
       "    <tr>\n",
       "      <th>3</th>\n",
       "      <td>AKRA.JK</td>\n",
       "      <td>0.091898</td>\n",
       "      <td>0.246865</td>\n",
       "      <td>25658361118720</td>\n",
       "      <td>0.000129</td>\n",
       "      <td>0.000345</td>\n",
       "      <td>[{'Date': '2023-12-06', 'Close': 1313.31225585...</td>\n",
       "    </tr>\n",
       "    <tr>\n",
       "      <th>4</th>\n",
       "      <td>AMMN.JK</td>\n",
       "      <td>0.027717</td>\n",
       "      <td>0.055417</td>\n",
       "      <td>683483982725120</td>\n",
       "      <td>0.001989</td>\n",
       "      <td>0.000777</td>\n",
       "      <td>[{'Date': '2023-12-06', 'Close': 6425.0}, {'Da...</td>\n",
       "    </tr>\n",
       "  </tbody>\n",
       "</table>\n",
       "</div>"
      ],
      "text/plain": [
       "    Ticker       ROA       ROE       Market Cap  Mean Return  Variance Return  \\\n",
       "0  ACES.JK  0.098476  0.124282   13182707957760     0.000655         0.000534   \n",
       "1  ADMR.JK  0.260126  0.451713   53555809484800     0.000354         0.000646   \n",
       "2  ADRO.JK  0.156735  0.242362   71052591890432     0.002643         0.000822   \n",
       "3  AKRA.JK  0.091898  0.246865   25658361118720     0.000129         0.000345   \n",
       "4  AMMN.JK  0.027717  0.055417  683483982725120     0.001989         0.000777   \n",
       "\n",
       "                      Closing Prices with Timestamps  \n",
       "0  [{'Date': '2023-12-06', 'Close': 701.563964843...  \n",
       "1  [{'Date': '2023-12-06', 'Close': 1300.0}, {'Da...  \n",
       "2  [{'Date': '2023-12-06', 'Close': 1362.95568847...  \n",
       "3  [{'Date': '2023-12-06', 'Close': 1313.31225585...  \n",
       "4  [{'Date': '2023-12-06', 'Close': 6425.0}, {'Da...  "
      ]
     },
     "execution_count": 1872,
     "metadata": {},
     "output_type": "execute_result"
    }
   ],
   "source": [
    "data_df = pd.read_csv(\"New_Data Saham dan Finansial LQ45.csv\")\n",
    "# data_df = df.copy()\n",
    "data_df.head()"
   ]
  },
  {
   "cell_type": "code",
   "execution_count": 1876,
   "metadata": {},
   "outputs": [
    {
     "data": {
      "text/html": [
       "<div>\n",
       "<style scoped>\n",
       "    .dataframe tbody tr th:only-of-type {\n",
       "        vertical-align: middle;\n",
       "    }\n",
       "\n",
       "    .dataframe tbody tr th {\n",
       "        vertical-align: top;\n",
       "    }\n",
       "\n",
       "    .dataframe thead th {\n",
       "        text-align: right;\n",
       "    }\n",
       "</style>\n",
       "<table border=\"1\" class=\"dataframe\">\n",
       "  <thead>\n",
       "    <tr style=\"text-align: right;\">\n",
       "      <th></th>\n",
       "      <th>AMMN.JK</th>\n",
       "      <th>PGAS.JK</th>\n",
       "      <th>UNTR.JK</th>\n",
       "    </tr>\n",
       "    <tr>\n",
       "      <th>Date</th>\n",
       "      <th></th>\n",
       "      <th></th>\n",
       "      <th></th>\n",
       "    </tr>\n",
       "  </thead>\n",
       "  <tbody>\n",
       "    <tr>\n",
       "      <th>2023-12-06</th>\n",
       "      <td>6425.0</td>\n",
       "      <td>1020.066467</td>\n",
       "      <td>19710.476562</td>\n",
       "    </tr>\n",
       "    <tr>\n",
       "      <th>2023-12-07</th>\n",
       "      <td>6475.0</td>\n",
       "      <td>1001.931946</td>\n",
       "      <td>19778.835938</td>\n",
       "    </tr>\n",
       "    <tr>\n",
       "      <th>2023-12-08</th>\n",
       "      <td>6450.0</td>\n",
       "      <td>1001.931946</td>\n",
       "      <td>20325.716797</td>\n",
       "    </tr>\n",
       "    <tr>\n",
       "      <th>2023-12-11</th>\n",
       "      <td>6825.0</td>\n",
       "      <td>1001.931946</td>\n",
       "      <td>19892.771484</td>\n",
       "    </tr>\n",
       "    <tr>\n",
       "      <th>2023-12-12</th>\n",
       "      <td>7000.0</td>\n",
       "      <td>988.331055</td>\n",
       "      <td>19915.556641</td>\n",
       "    </tr>\n",
       "    <tr>\n",
       "      <th>...</th>\n",
       "      <td>...</td>\n",
       "      <td>...</td>\n",
       "      <td>...</td>\n",
       "    </tr>\n",
       "    <tr>\n",
       "      <th>2024-12-02</th>\n",
       "      <td>9025.0</td>\n",
       "      <td>1570.000000</td>\n",
       "      <td>27400.000000</td>\n",
       "    </tr>\n",
       "    <tr>\n",
       "      <th>2024-12-03</th>\n",
       "      <td>9350.0</td>\n",
       "      <td>1585.000000</td>\n",
       "      <td>27150.000000</td>\n",
       "    </tr>\n",
       "    <tr>\n",
       "      <th>2024-12-04</th>\n",
       "      <td>9575.0</td>\n",
       "      <td>1595.000000</td>\n",
       "      <td>27625.000000</td>\n",
       "    </tr>\n",
       "    <tr>\n",
       "      <th>2024-12-05</th>\n",
       "      <td>9550.0</td>\n",
       "      <td>1570.000000</td>\n",
       "      <td>27625.000000</td>\n",
       "    </tr>\n",
       "    <tr>\n",
       "      <th>2024-12-06</th>\n",
       "      <td>9425.0</td>\n",
       "      <td>1585.000000</td>\n",
       "      <td>27800.000000</td>\n",
       "    </tr>\n",
       "  </tbody>\n",
       "</table>\n",
       "<p>239 rows × 3 columns</p>\n",
       "</div>"
      ],
      "text/plain": [
       "            AMMN.JK      PGAS.JK       UNTR.JK\n",
       "Date                                          \n",
       "2023-12-06   6425.0  1020.066467  19710.476562\n",
       "2023-12-07   6475.0  1001.931946  19778.835938\n",
       "2023-12-08   6450.0  1001.931946  20325.716797\n",
       "2023-12-11   6825.0  1001.931946  19892.771484\n",
       "2023-12-12   7000.0   988.331055  19915.556641\n",
       "...             ...          ...           ...\n",
       "2024-12-02   9025.0  1570.000000  27400.000000\n",
       "2024-12-03   9350.0  1585.000000  27150.000000\n",
       "2024-12-04   9575.0  1595.000000  27625.000000\n",
       "2024-12-05   9550.0  1570.000000  27625.000000\n",
       "2024-12-06   9425.0  1585.000000  27800.000000\n",
       "\n",
       "[239 rows x 3 columns]"
      ]
     },
     "execution_count": 1876,
     "metadata": {},
     "output_type": "execute_result"
    }
   ],
   "source": [
    "# Pilih ticker tertentu\n",
    "selected_tickers = [\"AMMN.JK\", \"UNTR.JK\", \"PGAS.JK\"]\n",
    "\n",
    "# Filter data berdasarkan ticker tertentu\n",
    "filtered_df = data_df[data_df[\"Ticker\"].isin(selected_tickers)]\n",
    "\n",
    "# Buat DataFrame baru untuk menyimpan data harga penutupan\n",
    "closing_prices = pd.DataFrame()\n",
    "\n",
    "# Iterasi setiap baris untuk mengekstrak harga penutupan\n",
    "for index, row in filtered_df.iterrows():\n",
    "    ticker = row[\"Ticker\"]\n",
    "    prices = pd.DataFrame(ast.literal_eval(row[\"Closing Prices with Timestamps\"]))  # Konversi ke DataFrame\n",
    "    prices.set_index(\"Date\", inplace=True)  # Set index menjadi Date\n",
    "    prices = prices.rename(columns={\"Close\": ticker})  # Rename kolom menjadi nama ticker\n",
    "    closing_prices = pd.concat([closing_prices, prices], axis=1)  # Gabungkan data\n",
    "\n",
    "# Hasil akhir\n",
    "closing_prices\n"
   ]
  },
  {
   "cell_type": "code",
   "execution_count": 1875,
   "metadata": {},
   "outputs": [
    {
     "ename": "KeyError",
     "evalue": "'BRPT.JK'",
     "output_type": "error",
     "traceback": [
      "\u001b[1;31m---------------------------------------------------------------------------\u001b[0m",
      "\u001b[1;31mKeyError\u001b[0m                                  Traceback (most recent call last)",
      "File \u001b[1;32mc:\\Users\\Annisa Sekar Tierra\\AppData\\Local\\Programs\\Python\\Python312\\Lib\\site-packages\\pandas\\core\\indexes\\base.py:3805\u001b[0m, in \u001b[0;36mIndex.get_loc\u001b[1;34m(self, key)\u001b[0m\n\u001b[0;32m   3804\u001b[0m \u001b[38;5;28;01mtry\u001b[39;00m:\n\u001b[1;32m-> 3805\u001b[0m     \u001b[38;5;28;01mreturn\u001b[39;00m \u001b[38;5;28;43mself\u001b[39;49m\u001b[38;5;241;43m.\u001b[39;49m\u001b[43m_engine\u001b[49m\u001b[38;5;241;43m.\u001b[39;49m\u001b[43mget_loc\u001b[49m\u001b[43m(\u001b[49m\u001b[43mcasted_key\u001b[49m\u001b[43m)\u001b[49m\n\u001b[0;32m   3806\u001b[0m \u001b[38;5;28;01mexcept\u001b[39;00m \u001b[38;5;167;01mKeyError\u001b[39;00m \u001b[38;5;28;01mas\u001b[39;00m err:\n",
      "File \u001b[1;32mindex.pyx:167\u001b[0m, in \u001b[0;36mpandas._libs.index.IndexEngine.get_loc\u001b[1;34m()\u001b[0m\n",
      "File \u001b[1;32mindex.pyx:196\u001b[0m, in \u001b[0;36mpandas._libs.index.IndexEngine.get_loc\u001b[1;34m()\u001b[0m\n",
      "File \u001b[1;32mpandas\\\\_libs\\\\hashtable_class_helper.pxi:7081\u001b[0m, in \u001b[0;36mpandas._libs.hashtable.PyObjectHashTable.get_item\u001b[1;34m()\u001b[0m\n",
      "File \u001b[1;32mpandas\\\\_libs\\\\hashtable_class_helper.pxi:7089\u001b[0m, in \u001b[0;36mpandas._libs.hashtable.PyObjectHashTable.get_item\u001b[1;34m()\u001b[0m\n",
      "\u001b[1;31mKeyError\u001b[0m: 'BRPT.JK'",
      "\nThe above exception was the direct cause of the following exception:\n",
      "\u001b[1;31mKeyError\u001b[0m                                  Traceback (most recent call last)",
      "Cell \u001b[1;32mIn[1875], line 4\u001b[0m\n\u001b[0;32m      1\u001b[0m \u001b[38;5;66;03m# Create the plot\u001b[39;00m\n\u001b[0;32m      2\u001b[0m plt\u001b[38;5;241m.\u001b[39mfigure(figsize\u001b[38;5;241m=\u001b[39m(\u001b[38;5;241m10\u001b[39m, \u001b[38;5;241m6\u001b[39m))\n\u001b[1;32m----> 4\u001b[0m plt\u001b[38;5;241m.\u001b[39mplot(closing_prices\u001b[38;5;241m.\u001b[39mindex, \u001b[43mclosing_prices\u001b[49m\u001b[43m[\u001b[49m\u001b[38;5;124;43m'\u001b[39;49m\u001b[38;5;124;43mBRPT.JK\u001b[39;49m\u001b[38;5;124;43m'\u001b[39;49m\u001b[43m]\u001b[49m, label\u001b[38;5;241m=\u001b[39m\u001b[38;5;124mf\u001b[39m\u001b[38;5;124m'\u001b[39m\u001b[38;5;124mHarga Penutupan\u001b[39m\u001b[38;5;124m'\u001b[39m, color\u001b[38;5;241m=\u001b[39m\u001b[38;5;124m'\u001b[39m\u001b[38;5;124mgreen\u001b[39m\u001b[38;5;124m'\u001b[39m)\n\u001b[0;32m      6\u001b[0m \u001b[38;5;66;03m# Add labels and title\u001b[39;00m\n\u001b[0;32m      7\u001b[0m plt\u001b[38;5;241m.\u001b[39mtitle(\u001b[38;5;124m'\u001b[39m\u001b[38;5;124mHarga Penutupan Saham ...\u001b[39m\u001b[38;5;124m'\u001b[39m)\n",
      "File \u001b[1;32mc:\\Users\\Annisa Sekar Tierra\\AppData\\Local\\Programs\\Python\\Python312\\Lib\\site-packages\\pandas\\core\\frame.py:4090\u001b[0m, in \u001b[0;36mDataFrame.__getitem__\u001b[1;34m(self, key)\u001b[0m\n\u001b[0;32m   4088\u001b[0m \u001b[38;5;28;01mif\u001b[39;00m \u001b[38;5;28mself\u001b[39m\u001b[38;5;241m.\u001b[39mcolumns\u001b[38;5;241m.\u001b[39mnlevels \u001b[38;5;241m>\u001b[39m \u001b[38;5;241m1\u001b[39m:\n\u001b[0;32m   4089\u001b[0m     \u001b[38;5;28;01mreturn\u001b[39;00m \u001b[38;5;28mself\u001b[39m\u001b[38;5;241m.\u001b[39m_getitem_multilevel(key)\n\u001b[1;32m-> 4090\u001b[0m indexer \u001b[38;5;241m=\u001b[39m \u001b[38;5;28;43mself\u001b[39;49m\u001b[38;5;241;43m.\u001b[39;49m\u001b[43mcolumns\u001b[49m\u001b[38;5;241;43m.\u001b[39;49m\u001b[43mget_loc\u001b[49m\u001b[43m(\u001b[49m\u001b[43mkey\u001b[49m\u001b[43m)\u001b[49m\n\u001b[0;32m   4091\u001b[0m \u001b[38;5;28;01mif\u001b[39;00m is_integer(indexer):\n\u001b[0;32m   4092\u001b[0m     indexer \u001b[38;5;241m=\u001b[39m [indexer]\n",
      "File \u001b[1;32mc:\\Users\\Annisa Sekar Tierra\\AppData\\Local\\Programs\\Python\\Python312\\Lib\\site-packages\\pandas\\core\\indexes\\base.py:3812\u001b[0m, in \u001b[0;36mIndex.get_loc\u001b[1;34m(self, key)\u001b[0m\n\u001b[0;32m   3807\u001b[0m     \u001b[38;5;28;01mif\u001b[39;00m \u001b[38;5;28misinstance\u001b[39m(casted_key, \u001b[38;5;28mslice\u001b[39m) \u001b[38;5;129;01mor\u001b[39;00m (\n\u001b[0;32m   3808\u001b[0m         \u001b[38;5;28misinstance\u001b[39m(casted_key, abc\u001b[38;5;241m.\u001b[39mIterable)\n\u001b[0;32m   3809\u001b[0m         \u001b[38;5;129;01mand\u001b[39;00m \u001b[38;5;28many\u001b[39m(\u001b[38;5;28misinstance\u001b[39m(x, \u001b[38;5;28mslice\u001b[39m) \u001b[38;5;28;01mfor\u001b[39;00m x \u001b[38;5;129;01min\u001b[39;00m casted_key)\n\u001b[0;32m   3810\u001b[0m     ):\n\u001b[0;32m   3811\u001b[0m         \u001b[38;5;28;01mraise\u001b[39;00m InvalidIndexError(key)\n\u001b[1;32m-> 3812\u001b[0m     \u001b[38;5;28;01mraise\u001b[39;00m \u001b[38;5;167;01mKeyError\u001b[39;00m(key) \u001b[38;5;28;01mfrom\u001b[39;00m \u001b[38;5;21;01merr\u001b[39;00m\n\u001b[0;32m   3813\u001b[0m \u001b[38;5;28;01mexcept\u001b[39;00m \u001b[38;5;167;01mTypeError\u001b[39;00m:\n\u001b[0;32m   3814\u001b[0m     \u001b[38;5;66;03m# If we have a listlike key, _check_indexing_error will raise\u001b[39;00m\n\u001b[0;32m   3815\u001b[0m     \u001b[38;5;66;03m#  InvalidIndexError. Otherwise we fall through and re-raise\u001b[39;00m\n\u001b[0;32m   3816\u001b[0m     \u001b[38;5;66;03m#  the TypeError.\u001b[39;00m\n\u001b[0;32m   3817\u001b[0m     \u001b[38;5;28mself\u001b[39m\u001b[38;5;241m.\u001b[39m_check_indexing_error(key)\n",
      "\u001b[1;31mKeyError\u001b[0m: 'BRPT.JK'"
     ]
    },
    {
     "data": {
      "text/plain": [
       "<Figure size 1000x600 with 0 Axes>"
      ]
     },
     "metadata": {},
     "output_type": "display_data"
    }
   ],
   "source": [
    "# Create the plot\n",
    "plt.figure(figsize=(10, 6))\n",
    "\n",
    "plt.plot(closing_prices.index, closing_prices['BRPT.JK'], label=f'Harga Penutupan', color='green')\n",
    "\n",
    "# Add labels and title\n",
    "plt.title('Harga Penutupan Saham ...')\n",
    "plt.xlabel('Tanggal')\n",
    "plt.ylabel('Harga Penutupan')\n",
    "plt.legend()\n",
    "plt.grid(True)\n",
    "plt.xticks(rotation=45)  # Rotate x-axis labels for readability\n",
    "plt.show()"
   ]
  },
  {
   "cell_type": "code",
   "execution_count": 1878,
   "metadata": {},
   "outputs": [
    {
     "data": {
      "text/html": [
       "<div>\n",
       "<style scoped>\n",
       "    .dataframe tbody tr th:only-of-type {\n",
       "        vertical-align: middle;\n",
       "    }\n",
       "\n",
       "    .dataframe tbody tr th {\n",
       "        vertical-align: top;\n",
       "    }\n",
       "\n",
       "    .dataframe thead th {\n",
       "        text-align: right;\n",
       "    }\n",
       "</style>\n",
       "<table border=\"1\" class=\"dataframe\">\n",
       "  <thead>\n",
       "    <tr style=\"text-align: right;\">\n",
       "      <th></th>\n",
       "      <th>AMMN.JK</th>\n",
       "      <th>PGAS.JK</th>\n",
       "      <th>UNTR.JK</th>\n",
       "    </tr>\n",
       "    <tr>\n",
       "      <th>Date</th>\n",
       "      <th></th>\n",
       "      <th></th>\n",
       "      <th></th>\n",
       "    </tr>\n",
       "  </thead>\n",
       "  <tbody>\n",
       "    <tr>\n",
       "      <th>2023-12-07</th>\n",
       "      <td>0.778210</td>\n",
       "      <td>-1.777778</td>\n",
       "      <td>0.346817</td>\n",
       "    </tr>\n",
       "    <tr>\n",
       "      <th>2023-12-08</th>\n",
       "      <td>-0.386100</td>\n",
       "      <td>0.000000</td>\n",
       "      <td>2.764980</td>\n",
       "    </tr>\n",
       "    <tr>\n",
       "      <th>2023-12-11</th>\n",
       "      <td>5.813953</td>\n",
       "      <td>0.000000</td>\n",
       "      <td>-2.130037</td>\n",
       "    </tr>\n",
       "    <tr>\n",
       "      <th>2023-12-12</th>\n",
       "      <td>2.564103</td>\n",
       "      <td>-1.357467</td>\n",
       "      <td>0.114540</td>\n",
       "    </tr>\n",
       "    <tr>\n",
       "      <th>2023-12-13</th>\n",
       "      <td>1.785714</td>\n",
       "      <td>-0.917425</td>\n",
       "      <td>-4.233411</td>\n",
       "    </tr>\n",
       "    <tr>\n",
       "      <th>...</th>\n",
       "      <td>...</td>\n",
       "      <td>...</td>\n",
       "      <td>...</td>\n",
       "    </tr>\n",
       "    <tr>\n",
       "      <th>2024-12-02</th>\n",
       "      <td>0.277778</td>\n",
       "      <td>3.289474</td>\n",
       "      <td>2.334267</td>\n",
       "    </tr>\n",
       "    <tr>\n",
       "      <th>2024-12-03</th>\n",
       "      <td>3.601108</td>\n",
       "      <td>0.955414</td>\n",
       "      <td>-0.912409</td>\n",
       "    </tr>\n",
       "    <tr>\n",
       "      <th>2024-12-04</th>\n",
       "      <td>2.406417</td>\n",
       "      <td>0.630915</td>\n",
       "      <td>1.749540</td>\n",
       "    </tr>\n",
       "    <tr>\n",
       "      <th>2024-12-05</th>\n",
       "      <td>-0.261097</td>\n",
       "      <td>-1.567398</td>\n",
       "      <td>0.000000</td>\n",
       "    </tr>\n",
       "    <tr>\n",
       "      <th>2024-12-06</th>\n",
       "      <td>-1.308901</td>\n",
       "      <td>0.955414</td>\n",
       "      <td>0.633484</td>\n",
       "    </tr>\n",
       "  </tbody>\n",
       "</table>\n",
       "<p>238 rows × 3 columns</p>\n",
       "</div>"
      ],
      "text/plain": [
       "             AMMN.JK   PGAS.JK   UNTR.JK\n",
       "Date                                    \n",
       "2023-12-07  0.778210 -1.777778  0.346817\n",
       "2023-12-08 -0.386100  0.000000  2.764980\n",
       "2023-12-11  5.813953  0.000000 -2.130037\n",
       "2023-12-12  2.564103 -1.357467  0.114540\n",
       "2023-12-13  1.785714 -0.917425 -4.233411\n",
       "...              ...       ...       ...\n",
       "2024-12-02  0.277778  3.289474  2.334267\n",
       "2024-12-03  3.601108  0.955414 -0.912409\n",
       "2024-12-04  2.406417  0.630915  1.749540\n",
       "2024-12-05 -0.261097 -1.567398  0.000000\n",
       "2024-12-06 -1.308901  0.955414  0.633484\n",
       "\n",
       "[238 rows x 3 columns]"
      ]
     },
     "execution_count": 1878,
     "metadata": {},
     "output_type": "execute_result"
    }
   ],
   "source": [
    "returns_df = closing_prices.pct_change() * 100\n",
    "returns_df = returns_df.dropna()\n",
    "returns_df"
   ]
  },
  {
   "cell_type": "code",
   "execution_count": 1879,
   "metadata": {},
   "outputs": [
    {
     "ename": "KeyError",
     "evalue": "'BRPT.JK'",
     "output_type": "error",
     "traceback": [
      "\u001b[1;31m---------------------------------------------------------------------------\u001b[0m",
      "\u001b[1;31mKeyError\u001b[0m                                  Traceback (most recent call last)",
      "File \u001b[1;32mc:\\Users\\Annisa Sekar Tierra\\AppData\\Local\\Programs\\Python\\Python312\\Lib\\site-packages\\pandas\\core\\indexes\\base.py:3805\u001b[0m, in \u001b[0;36mIndex.get_loc\u001b[1;34m(self, key)\u001b[0m\n\u001b[0;32m   3804\u001b[0m \u001b[38;5;28;01mtry\u001b[39;00m:\n\u001b[1;32m-> 3805\u001b[0m     \u001b[38;5;28;01mreturn\u001b[39;00m \u001b[38;5;28;43mself\u001b[39;49m\u001b[38;5;241;43m.\u001b[39;49m\u001b[43m_engine\u001b[49m\u001b[38;5;241;43m.\u001b[39;49m\u001b[43mget_loc\u001b[49m\u001b[43m(\u001b[49m\u001b[43mcasted_key\u001b[49m\u001b[43m)\u001b[49m\n\u001b[0;32m   3806\u001b[0m \u001b[38;5;28;01mexcept\u001b[39;00m \u001b[38;5;167;01mKeyError\u001b[39;00m \u001b[38;5;28;01mas\u001b[39;00m err:\n",
      "File \u001b[1;32mindex.pyx:167\u001b[0m, in \u001b[0;36mpandas._libs.index.IndexEngine.get_loc\u001b[1;34m()\u001b[0m\n",
      "File \u001b[1;32mindex.pyx:196\u001b[0m, in \u001b[0;36mpandas._libs.index.IndexEngine.get_loc\u001b[1;34m()\u001b[0m\n",
      "File \u001b[1;32mpandas\\\\_libs\\\\hashtable_class_helper.pxi:7081\u001b[0m, in \u001b[0;36mpandas._libs.hashtable.PyObjectHashTable.get_item\u001b[1;34m()\u001b[0m\n",
      "File \u001b[1;32mpandas\\\\_libs\\\\hashtable_class_helper.pxi:7089\u001b[0m, in \u001b[0;36mpandas._libs.hashtable.PyObjectHashTable.get_item\u001b[1;34m()\u001b[0m\n",
      "\u001b[1;31mKeyError\u001b[0m: 'BRPT.JK'",
      "\nThe above exception was the direct cause of the following exception:\n",
      "\u001b[1;31mKeyError\u001b[0m                                  Traceback (most recent call last)",
      "Cell \u001b[1;32mIn[1879], line 5\u001b[0m\n\u001b[0;32m      2\u001b[0m \u001b[38;5;28;01mimport\u001b[39;00m \u001b[38;5;21;01mmatplotlib\u001b[39;00m\u001b[38;5;21;01m.\u001b[39;00m\u001b[38;5;21;01mpyplot\u001b[39;00m \u001b[38;5;28;01mas\u001b[39;00m \u001b[38;5;21;01mplt\u001b[39;00m\n\u001b[0;32m      4\u001b[0m \u001b[38;5;66;03m# Plot the histogram using seaborn\u001b[39;00m\n\u001b[1;32m----> 5\u001b[0m sns\u001b[38;5;241m.\u001b[39mhistplot(\u001b[43mclosing_prices\u001b[49m\u001b[43m[\u001b[49m\u001b[38;5;124;43m'\u001b[39;49m\u001b[38;5;124;43mBRPT.JK\u001b[39;49m\u001b[38;5;124;43m'\u001b[39;49m\u001b[43m]\u001b[49m, kde\u001b[38;5;241m=\u001b[39m\u001b[38;5;28;01mTrue\u001b[39;00m)\n\u001b[0;32m      7\u001b[0m \u001b[38;5;66;03m# Add title and labels\u001b[39;00m\n\u001b[0;32m      8\u001b[0m plt\u001b[38;5;241m.\u001b[39mtitle(\u001b[38;5;124m'\u001b[39m\u001b[38;5;124mHistogram of Return\u001b[39m\u001b[38;5;124m'\u001b[39m)\n",
      "File \u001b[1;32mc:\\Users\\Annisa Sekar Tierra\\AppData\\Local\\Programs\\Python\\Python312\\Lib\\site-packages\\pandas\\core\\frame.py:4090\u001b[0m, in \u001b[0;36mDataFrame.__getitem__\u001b[1;34m(self, key)\u001b[0m\n\u001b[0;32m   4088\u001b[0m \u001b[38;5;28;01mif\u001b[39;00m \u001b[38;5;28mself\u001b[39m\u001b[38;5;241m.\u001b[39mcolumns\u001b[38;5;241m.\u001b[39mnlevels \u001b[38;5;241m>\u001b[39m \u001b[38;5;241m1\u001b[39m:\n\u001b[0;32m   4089\u001b[0m     \u001b[38;5;28;01mreturn\u001b[39;00m \u001b[38;5;28mself\u001b[39m\u001b[38;5;241m.\u001b[39m_getitem_multilevel(key)\n\u001b[1;32m-> 4090\u001b[0m indexer \u001b[38;5;241m=\u001b[39m \u001b[38;5;28;43mself\u001b[39;49m\u001b[38;5;241;43m.\u001b[39;49m\u001b[43mcolumns\u001b[49m\u001b[38;5;241;43m.\u001b[39;49m\u001b[43mget_loc\u001b[49m\u001b[43m(\u001b[49m\u001b[43mkey\u001b[49m\u001b[43m)\u001b[49m\n\u001b[0;32m   4091\u001b[0m \u001b[38;5;28;01mif\u001b[39;00m is_integer(indexer):\n\u001b[0;32m   4092\u001b[0m     indexer \u001b[38;5;241m=\u001b[39m [indexer]\n",
      "File \u001b[1;32mc:\\Users\\Annisa Sekar Tierra\\AppData\\Local\\Programs\\Python\\Python312\\Lib\\site-packages\\pandas\\core\\indexes\\base.py:3812\u001b[0m, in \u001b[0;36mIndex.get_loc\u001b[1;34m(self, key)\u001b[0m\n\u001b[0;32m   3807\u001b[0m     \u001b[38;5;28;01mif\u001b[39;00m \u001b[38;5;28misinstance\u001b[39m(casted_key, \u001b[38;5;28mslice\u001b[39m) \u001b[38;5;129;01mor\u001b[39;00m (\n\u001b[0;32m   3808\u001b[0m         \u001b[38;5;28misinstance\u001b[39m(casted_key, abc\u001b[38;5;241m.\u001b[39mIterable)\n\u001b[0;32m   3809\u001b[0m         \u001b[38;5;129;01mand\u001b[39;00m \u001b[38;5;28many\u001b[39m(\u001b[38;5;28misinstance\u001b[39m(x, \u001b[38;5;28mslice\u001b[39m) \u001b[38;5;28;01mfor\u001b[39;00m x \u001b[38;5;129;01min\u001b[39;00m casted_key)\n\u001b[0;32m   3810\u001b[0m     ):\n\u001b[0;32m   3811\u001b[0m         \u001b[38;5;28;01mraise\u001b[39;00m InvalidIndexError(key)\n\u001b[1;32m-> 3812\u001b[0m     \u001b[38;5;28;01mraise\u001b[39;00m \u001b[38;5;167;01mKeyError\u001b[39;00m(key) \u001b[38;5;28;01mfrom\u001b[39;00m \u001b[38;5;21;01merr\u001b[39;00m\n\u001b[0;32m   3813\u001b[0m \u001b[38;5;28;01mexcept\u001b[39;00m \u001b[38;5;167;01mTypeError\u001b[39;00m:\n\u001b[0;32m   3814\u001b[0m     \u001b[38;5;66;03m# If we have a listlike key, _check_indexing_error will raise\u001b[39;00m\n\u001b[0;32m   3815\u001b[0m     \u001b[38;5;66;03m#  InvalidIndexError. Otherwise we fall through and re-raise\u001b[39;00m\n\u001b[0;32m   3816\u001b[0m     \u001b[38;5;66;03m#  the TypeError.\u001b[39;00m\n\u001b[0;32m   3817\u001b[0m     \u001b[38;5;28mself\u001b[39m\u001b[38;5;241m.\u001b[39m_check_indexing_error(key)\n",
      "\u001b[1;31mKeyError\u001b[0m: 'BRPT.JK'"
     ]
    }
   ],
   "source": [
    "import seaborn as sns\n",
    "import matplotlib.pyplot as plt\n",
    "\n",
    "# Plot the histogram using seaborn\n",
    "sns.histplot(closing_prices['BRPT.JK'], kde=True)\n",
    "\n",
    "# Add title and labels\n",
    "plt.title('Histogram of Return')\n",
    "plt.xlabel('Value')\n",
    "plt.ylabel('Frequency')\n",
    "\n",
    "# Show the plot\n",
    "plt.show()"
   ]
  },
  {
   "cell_type": "code",
   "execution_count": 1880,
   "metadata": {},
   "outputs": [
    {
     "data": {
      "text/plain": [
       "Mean                   0.198888\n",
       "Median                 0.000000\n",
       "Variance               7.767905\n",
       "Standard Deviation     2.787096\n",
       "Normality              0.060673\n",
       "Student-t              0.481714\n",
       "GEV                    0.001750\n",
       "Skewness               1.408136\n",
       "Kurtosis              13.271400\n",
       "dtype: float64"
      ]
     },
     "execution_count": 1880,
     "metadata": {},
     "output_type": "execute_result"
    }
   ],
   "source": [
    "summary_stats(returns_df['AMMN.JK'])\n",
    "#ADRO.JK\tAMMN.JK\tINDF.JK"
   ]
  },
  {
   "cell_type": "code",
   "execution_count": 1881,
   "metadata": {},
   "outputs": [
    {
     "data": {
      "text/plain": [
       "Mean                  0.156802\n",
       "Median                0.105258\n",
       "Variance              2.457119\n",
       "Standard Deviation    1.567520\n",
       "Normality             0.201318\n",
       "Student-t             0.786991\n",
       "GEV                   0.066533\n",
       "Skewness              0.097376\n",
       "Kurtosis              3.944033\n",
       "dtype: float64"
      ]
     },
     "execution_count": 1881,
     "metadata": {},
     "output_type": "execute_result"
    }
   ],
   "source": [
    "summary_stats(returns_df[\"UNTR.JK\"])"
   ]
  },
  {
   "cell_type": "code",
   "execution_count": 1882,
   "metadata": {},
   "outputs": [
    {
     "data": {
      "text/plain": [
       "Mean                  0.201693\n",
       "Median                0.000000\n",
       "Variance              3.320109\n",
       "Standard Deviation    1.822117\n",
       "Normality             0.059168\n",
       "Student-t             0.338449\n",
       "GEV                   0.002122\n",
       "Skewness              0.873409\n",
       "Kurtosis              9.313761\n",
       "dtype: float64"
      ]
     },
     "execution_count": 1882,
     "metadata": {},
     "output_type": "execute_result"
    }
   ],
   "source": [
    "summary_stats(returns_df['PGAS.JK'])"
   ]
  }
 ],
 "metadata": {
  "kernelspec": {
   "display_name": "Python 3",
   "language": "python",
   "name": "python3"
  },
  "language_info": {
   "codemirror_mode": {
    "name": "ipython",
    "version": 3
   },
   "file_extension": ".py",
   "mimetype": "text/x-python",
   "name": "python",
   "nbconvert_exporter": "python",
   "pygments_lexer": "ipython3",
   "version": "3.12.2"
  }
 },
 "nbformat": 4,
 "nbformat_minor": 2
}
